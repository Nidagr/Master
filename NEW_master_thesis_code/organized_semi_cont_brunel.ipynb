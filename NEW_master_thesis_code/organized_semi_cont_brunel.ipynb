{
 "cells": [
  {
   "cell_type": "markdown",
   "id": "365f0185",
   "metadata": {},
   "source": [
    "# Organize semi continuous Brunel\n",
    "\n",
    "Organize data of continuous Brunel model with discrete delays, equal probability of each delay value."
   ]
  },
  {
   "cell_type": "code",
   "execution_count": 41,
   "id": "fb624d36",
   "metadata": {},
   "outputs": [],
   "source": [
    "#import nest\n",
    "import pandas as pd\n",
    "import elephant\n",
    "import quantities as pq\n",
    "import neo\n",
    "import numpy as np\n",
    "import sys\n",
    "sys.setrecursionlimit(10000)\n",
    "from pathlib import Path\n",
    "from elephant.spike_train_correlation import correlation_coefficient\n",
    "import scipy.stats as stats\n",
    "import itertools\n",
    "from elephant.conversion import BinnedSpikeTrain\n",
    "# import sys\n",
    "# !{sys.executable} -m pip install elephant"
   ]
  },
  {
   "cell_type": "markdown",
   "id": "5653bbdb",
   "metadata": {},
   "source": [
    "Create dataframes of cv distributions all resolutions all seeds."
   ]
  },
  {
   "cell_type": "code",
   "execution_count": 2,
   "id": "9dda30bf",
   "metadata": {},
   "outputs": [],
   "source": [
    "def get_cvs(spike_data):\n",
    "    \"\"\"\n",
    "    Get the CV for each neuron recorded. \n",
    "    \n",
    "    CV = standard_deviation(ISIs)/mean(ISIs)\n",
    "    \"\"\"\n",
    "    cvs = []\n",
    "     \n",
    "    spike_data = spike_data.sort_values(by='time_ms')\n",
    "    grouped = spike_data.groupby(spike_data['sender'])\n",
    "\n",
    "    for name, group in grouped:\n",
    "            \"\"\"\n",
    "            Each group is senders and times for one value of senders. That is, we iterate through all \n",
    "            neurons. And the times for each neuron is in sorted order. Therefore, the cvs\n",
    "            returned must have the same order. So cvs contain cv of neuron 1, then neuron 2 .... then neuron N.\n",
    "            \"\"\"\n",
    "            t = np.asarray(group['time_ms'])\n",
    "            spiketrain = neo.core.SpikeTrain(t * pq.ms, t_start=0*pq.ms, t_stop=10000*pq.ms)\n",
    "            isi = elephant.statistics.isi(spiketrain)\n",
    "            cv = elephant.statistics.cv(isi)\n",
    "            cvs.append(cv)\n",
    "            \n",
    "    return cvs"
   ]
  },
  {
   "cell_type": "code",
   "execution_count": 20,
   "id": "51652103",
   "metadata": {},
   "outputs": [],
   "source": [
    "def create_cv_dfs():\n",
    "    path = Path('C:\\\\Users\\\\Nida\\\\Documents\\\\NMBU\\\\master\\\\organized_spike_data')\n",
    "    for p in path.iterdir():\n",
    "        # get list of all files of excitatory spike times in semi cont brunel in one resolution\n",
    "        file = list(p.glob('semi_cont_brunel/*12502-0.dat'))\n",
    "        cv_list = list()\n",
    "        for f in file:\n",
    "            df = pd.read_csv(f,skiprows=2,sep='\\t')\n",
    "            cvs = get_cvs(df) # get cvs of one seed value one resolution\n",
    "            cv_list.append(cvs)\n",
    "        df =pd.DataFrame(cv_list)\n",
    "        # save the dataframe as semi_cont_cv.csv in each resolution folder\n",
    "        df.to_csv(r'{}\\semi_cont_cv.csv'.format(p))"
   ]
  },
  {
   "cell_type": "code",
   "execution_count": 23,
   "id": "bfee786c",
   "metadata": {},
   "outputs": [],
   "source": [
    "create_cv_dfs()"
   ]
  },
  {
   "cell_type": "markdown",
   "id": "eec8cc7a",
   "metadata": {},
   "source": [
    "Create pickle files of FR distributions all resolutions all seeds."
   ]
  },
  {
   "cell_type": "code",
   "execution_count": 24,
   "id": "4cc9a1f4",
   "metadata": {},
   "outputs": [],
   "source": [
    "def get_frs(spike_data):\n",
    "    \"\"\"\n",
    "    Get the FR for each neuron recorded. \n",
    "    \n",
    "    FR = number of spikes fired during simulation/time of simulation\n",
    "    \"\"\"\n",
    "    frs = []\n",
    "     \n",
    "    spike_data = spike_data.sort_values(by='time_ms')\n",
    "    grouped = spike_data.groupby(spike_data['sender'])\n",
    "\n",
    "    for name, group in grouped:\n",
    "            \"\"\"\n",
    "            Each group is senders and times for one value of senders. That is, we iterate through all \n",
    "            neurons. And the times for each neuron is in sorted order. Therefore, the cvs\n",
    "            returned must have the same order. So cvs contain cv of neuron 1, then neuron 2 .... then neuron N.\n",
    "            \"\"\"\n",
    "            t = np.asarray(group['time_ms'])\n",
    "            spiketrain = neo.core.SpikeTrain(t * pq.ms, t_start=0*pq.ms, t_stop=10000*pq.ms)\n",
    "            fr = elephant.statistics.mean_firing_rate(spiketrain)\n",
    "            frs.append(fr)\n",
    "            \n",
    "    return frs"
   ]
  },
  {
   "cell_type": "code",
   "execution_count": 27,
   "id": "78f7bf2d",
   "metadata": {},
   "outputs": [],
   "source": [
    "def create_fr_dfs():\n",
    "    path = Path('C:\\\\Users\\\\Nida\\\\Documents\\\\NMBU\\\\master\\\\organized_spike_data')\n",
    "    for p in path.iterdir():\n",
    "        # get list of all files of excitatory spike times in semi cont brunel in one resolution\n",
    "        file = list(p.glob('semi_cont_brunel/*12502-0.dat'))\n",
    "        fr_list = list()\n",
    "        for f in file:\n",
    "            df = pd.read_csv(f,skiprows=2,sep='\\t')\n",
    "            frs = get_frs(df) # get cvs of one seed value one resolution\n",
    "            fr_list.append(frs)\n",
    "        df = pd.DataFrame(fr_list).fillna(pq.quantity.Quantity(0,units='1/ms')) # save frs to dataframe\n",
    "        df.to_pickle(r'{}\\semi_cont_fr.pkl'.format(p)) # save as csv file "
   ]
  },
  {
   "cell_type": "code",
   "execution_count": 28,
   "id": "f4127e67",
   "metadata": {},
   "outputs": [],
   "source": [
    "create_fr_dfs()"
   ]
  },
  {
   "cell_type": "markdown",
   "id": "aed45b64",
   "metadata": {},
   "source": [
    "Create pickle files of CC distributions all resolutions all seeds."
   ]
  },
  {
   "cell_type": "code",
   "execution_count": 29,
   "id": "f3358918",
   "metadata": {},
   "outputs": [],
   "source": [
    "def get_first_inh(inh):\n",
    "    \"\"\"\n",
    "    Takes in path to dat file of inhibitory population spike times.\n",
    "    \n",
    "    This function retrieves the spike times of the first neuron in the inhibitory population.\n",
    "    Return it as a spiketrain object.\n",
    "    \"\"\"\n",
    "    #inh = pd.read_csv(path, skiprows=2, sep='\\t')\n",
    "    spike_data = inh.sort_values(by='time_ms')\n",
    "    grouped = spike_data.groupby(spike_data['sender'])\n",
    "    t = np.array(grouped.get_group(10001)['time_ms'])\n",
    "    spiketrain = neo.core.SpikeTrain(t * pq.ms, t_start=0*pq.ms, t_stop=10000*pq.ms)\n",
    "    \n",
    "    return spiketrain"
   ]
  },
  {
   "cell_type": "code",
   "execution_count": 30,
   "id": "800a2b6a",
   "metadata": {},
   "outputs": [],
   "source": [
    "def get_ccs(exc, first_inh, bs=5):\n",
    "    \"\"\"\n",
    "    Get the CC between each excitatory neuron and first inhibitory neuron.\n",
    "    CC = (x-mean(x))(y-mean(y))/sqrt((x-mean(x))^2(y-mean(y))^2)\n",
    "    \"\"\"\n",
    "    # get all spike trains of excitatory neurons\n",
    "    spike_data = exc.sort_values(by='time_ms')\n",
    "    grouped = spike_data.groupby(spike_data['sender'])\n",
    "    spike_trains = []\n",
    "    for name, group in grouped:\n",
    "        t = np.asarray(group['time_ms'])\n",
    "        spiketrain = neo.core.SpikeTrain(t * pq.ms, t_start=0*pq.ms, t_stop=10000*pq.ms)\n",
    "        spike_trains.append(spiketrain)\n",
    "    \n",
    "    correlations = []\n",
    "    for i in range(len(spike_trains)):\n",
    "        # calculate cc matrix for the pair of spiketrains\n",
    "        cc_matrix = correlation_coefficient(BinnedSpikeTrain([spike_trains[i],first_inh], bin_size=bs*pq.ms))\n",
    "        # retrieve element not on diagonala\n",
    "        cc = cc_matrix[1,0]\n",
    "        correlations.append(cc)\n",
    "        \n",
    "    return correlations"
   ]
  },
  {
   "cell_type": "code",
   "execution_count": 35,
   "id": "48622446",
   "metadata": {},
   "outputs": [],
   "source": [
    "def get_all_ccs(exc,inh,bs=5):\n",
    "    \"\"\"\n",
    "    This function takes in two nested lists. exc is list of tables of spike times for excitatory popuulation.\n",
    "    Same for inh but inhibitory population.\n",
    "    \"\"\"\n",
    "    cc_list = list()\n",
    "    for i in range(1,11):\n",
    "        first_inh = get_first_inh(inh[i])\n",
    "        exc_ccs = get_ccs(exc[i],first_inh,bs=bs)\n",
    "        cc_list.append(exc_ccs)\n",
    "    return cc_list"
   ]
  },
  {
   "cell_type": "code",
   "execution_count": 38,
   "id": "50f8cbed",
   "metadata": {},
   "outputs": [],
   "source": [
    "def get_data(spike_path):\n",
    "    \"\"\"\n",
    "    Get spike data from brunel model with rounded spike times and delays drawn from discrete interval [1.0, 2.0].\n",
    "    Send in any path we need.\n",
    "    \"\"\"\n",
    "    #spike_path = 'C:\\\\Users\\\\Nida\\\\Documents\\\\NMBU\\\\master\\\\organized_spike_data\\\\resolution_1_2\\\\brunel_rounding_1_2'\n",
    "    exc = {}\n",
    "    for i in range(1,11):\n",
    "        exc[i] = pd.read_csv(r'{}/brunel_semi_continuous_seed_{}_spikes_exc-12502-0.dat'.format(spike_path, i),\n",
    "                             skiprows=2,sep='\\t')\n",
    "\n",
    "    inh = {}\n",
    "    for i in range(1,11):\n",
    "        inh[i] = pd.read_csv(r'{}/brunel_semi_continuous__seed_{}_spikes_inh-12503-0.dat'.format(spike_path, i),\n",
    "                             skiprows=2,sep='\\t')\n",
    "    return exc, inh"
   ]
  },
  {
   "cell_type": "code",
   "execution_count": 39,
   "id": "12e9b361",
   "metadata": {},
   "outputs": [],
   "source": [
    "spike_paths = ['C:\\\\Users\\\\Nida\\\\Documents\\\\NMBU\\\\master\\\\organized_spike_data\\\\resolution_1_2\\\\semi_cont_brunel',\n",
    "               'C:\\\\Users\\\\Nida\\\\Documents\\\\NMBU\\\\master\\\\organized_spike_data\\\\resolution_1_4\\\\semi_cont_brunel',\n",
    "               'C:\\\\Users\\\\Nida\\\\Documents\\\\NMBU\\\\master\\\\organized_spike_data\\\\resolution_1_8\\\\semi_cont_brunel',\n",
    "               'C:\\\\Users\\\\Nida\\\\Documents\\\\NMBU\\\\master\\\\organized_spike_data\\\\resolution_1_16\\\\semi_cont_brunel',\n",
    "               'C:\\\\Users\\\\Nida\\\\Documents\\\\NMBU\\\\master\\\\organized_spike_data\\\\resolution_1_32\\\\semi_cont_brunel',\n",
    "               'C:\\\\Users\\\\Nida\\\\Documents\\\\NMBU\\\\master\\\\organized_spike_data\\\\resolution_1_64\\\\semi_cont_brunel',\n",
    "               'C:\\\\Users\\\\Nida\\\\Documents\\\\NMBU\\\\master\\\\organized_spike_data\\\\resolution_1_128\\\\semi_cont_brunel',\n",
    "               'C:\\\\Users\\\\Nida\\\\Documents\\\\NMBU\\\\master\\\\organized_spike_data\\\\resolution_1_256\\\\semi_cont_brunel']"
   ]
  },
  {
   "cell_type": "code",
   "execution_count": 42,
   "id": "cf13d306",
   "metadata": {},
   "outputs": [
    {
     "name": "stderr",
     "output_type": "stream",
     "text": [
      "C:\\Users\\Nida\\anaconda3\\lib\\site-packages\\elephant\\utils.py:290: UserWarning: Correcting 1 rounding errors by shifting the affected spikes into the following bin. You can set tolerance=None to disable this behaviour.\n",
      "  warnings.warn(f'Correcting {num_corrections} rounding errors by '\n"
     ]
    }
   ],
   "source": [
    "for i in range(8):\n",
    "    exc, inh = get_data(spike_paths[i])\n",
    "    cc_list_5 = get_all_ccs(exc,inh,bs=5)\n",
    "    cc_list_10 = get_all_ccs(exc,inh,bs=10)\n",
    "    cc_list_20 = get_all_ccs(exc,inh,bs=20)\n",
    "    cc_list_50 = get_all_ccs(exc,inh,bs=50)\n",
    "    cc_5 = pd.DataFrame(cc_list_5)\n",
    "    cc_10 = pd.DataFrame(cc_list_10)\n",
    "    cc_20 = pd.DataFrame(cc_list_20)\n",
    "    cc_50 = pd.DataFrame(cc_list_50)\n",
    "    cc_5.to_pickle('{}\\cc_df_5.pkl'.format(spike_paths[i]))\n",
    "    cc_10.to_pickle('{}\\cc_df_10.pkl'.format(spike_paths[i]))\n",
    "    cc_20.to_pickle('{}\\cc_df_20.pkl'.format(spike_paths[i]))\n",
    "    cc_50.to_pickle('{}\\cc_df_50.pkl'.format(spike_paths[i]))"
   ]
  },
  {
   "cell_type": "markdown",
   "id": "8e666a8d",
   "metadata": {},
   "source": [
    "Now create a multiindex dataframe for the semi continuous brunel model alone, can think of adding it to the other df for brunel models if it makes sense."
   ]
  },
  {
   "cell_type": "code",
   "execution_count": 45,
   "id": "1b146530",
   "metadata": {},
   "outputs": [],
   "source": [
    "main_path = 'C:\\\\Users\\\\Nida\\\\Documents\\\\NMBU\\\\master\\\\organized_spike_data'\n",
    "resolution = ['resolution_1_2','resolution_1_4','resolution_1_8','resolution_1_16','resolution_1_32','resolution_1_64',\n",
    "      'resolution_1_128','resolution_1_256']\n",
    "file = 'semi_cont_cv.csv'\n",
    "\n",
    "\n",
    "cv_1_2 = pd.read_csv(r'{}\\{}\\{}'.format(main_path,resolution[0],file),index_col=0)\n",
    "\n",
    "\n",
    "\n",
    "cv_1_4 = pd.read_csv(r'{}\\{}\\{}'.format(main_path,resolution[1],file),index_col=0)\n",
    "\n",
    "\n",
    "cv_1_8 = pd.read_csv(r'{}\\{}\\{}'.format(main_path,resolution[2],file),index_col=0)\n",
    "\n",
    "cv_1_16 = pd.read_csv(r'{}\\{}\\{}'.format(main_path,resolution[3],file),index_col=0)\n",
    "\n",
    "cv_1_32 = pd.read_csv(r'{}\\{}\\{}'.format(main_path,resolution[4],file),index_col=0)\n",
    "\n",
    "cv_1_64 = pd.read_csv(r'{}\\{}\\{}'.format(main_path,resolution[5],file),index_col=0)\n",
    "\n",
    "cv_1_128 = pd.read_csv(r'{}\\{}\\{}'.format(main_path,resolution[6],file),index_col=0)\n",
    "\n",
    "cv_1_256 = pd.read_csv(r'{}\\{}\\{}'.format(main_path,resolution[7],file),index_col=0)\n"
   ]
  },
  {
   "cell_type": "code",
   "execution_count": 48,
   "id": "769aa08b",
   "metadata": {},
   "outputs": [],
   "source": [
    "main_path = 'C:\\\\Users\\\\Nida\\\\Documents\\\\NMBU\\\\master\\\\organized_spike_data'\n",
    "resolution = ['resolution_1_2','resolution_1_4','resolution_1_8','resolution_1_16','resolution_1_32','resolution_1_64',\n",
    "      'resolution_1_128','resolution_1_256']\n",
    "file = 'semi_cont_fr.pkl'\n",
    "\n",
    "\n",
    "fr_1_2 = pd.read_pickle(r'{}\\{}\\{}'.format(main_path,resolution[0],file))\n",
    "\n",
    "\n",
    "fr_1_4 = pd.read_pickle(r'{}\\{}\\{}'.format(main_path,resolution[1],file))\n",
    "\n",
    "\n",
    "fr_1_8 = pd.read_pickle(r'{}\\{}\\{}'.format(main_path,resolution[2],file))\n",
    "\n",
    "fr_1_16 = pd.read_pickle(r'{}\\{}\\{}'.format(main_path,resolution[3],file))\n",
    "\n",
    "fr_1_32 = pd.read_pickle(r'{}\\{}\\{}'.format(main_path,resolution[4],file))\n",
    "\n",
    "fr_1_64 = pd.read_pickle(r'{}\\{}\\{}'.format(main_path,resolution[5],file))\n",
    "\n",
    "fr_1_128 = pd.read_pickle(r'{}\\{}\\{}'.format(main_path,resolution[6],file))\n",
    "\n",
    "fr_1_256 = pd.read_pickle(r'{}\\{}\\{}'.format(main_path,resolution[7],file))\n"
   ]
  },
  {
   "cell_type": "code",
   "execution_count": 50,
   "id": "e059f5ca",
   "metadata": {},
   "outputs": [],
   "source": [
    "main_path = 'C:\\\\Users\\\\Nida\\\\Documents\\\\NMBU\\\\master\\\\organized_spike_data'\n",
    "res = ['resolution_1_2','resolution_1_4','resolution_1_8','resolution_1_16','resolution_1_32','resolution_1_64',\n",
    "      'resolution_1_128','resolution_1_256']\n",
    "files = ['semi_cont_brunel\\\\cc_df_5.pkl','semi_cont_brunel\\\\cc_df_10.pkl','semi_cont_brunel\\\\cc_df_20.pkl',\n",
    "         'semi_cont_brunel\\\\cc_df_50.pkl']\n",
    "\n",
    "cc_1_2_5 = pd.read_pickle(r'{}\\{}\\{}'.format(main_path,res[0],files[0]))\n",
    "cc_1_2_10 = pd.read_pickle(r'{}\\{}\\{}'.format(main_path,res[0],files[1]))\n",
    "cc_1_2_20 = pd.read_pickle(r'{}\\{}\\{}'.format(main_path,res[0],files[2]))\n",
    "cc_1_2_50 = pd.read_pickle(r'{}\\{}\\{}'.format(main_path,res[0],files[3]))\n",
    "\n",
    "cc_1_4_5 = pd.read_pickle(r'{}\\{}\\{}'.format(main_path,res[1],files[0]))\n",
    "cc_1_4_10 = pd.read_pickle(r'{}\\{}\\{}'.format(main_path,res[1],files[1]))\n",
    "cc_1_4_20 = pd.read_pickle(r'{}\\{}\\{}'.format(main_path,res[1],files[2]))\n",
    "cc_1_4_50 = pd.read_pickle(r'{}\\{}\\{}'.format(main_path,res[1],files[3]))\n",
    "\n",
    "cc_1_8_5 = pd.read_pickle(r'{}\\{}\\{}'.format(main_path,res[2],files[0]))\n",
    "cc_1_8_10 = pd.read_pickle(r'{}\\{}\\{}'.format(main_path,res[2],files[1]))\n",
    "cc_1_8_20 = pd.read_pickle(r'{}\\{}\\{}'.format(main_path,res[2],files[2]))\n",
    "cc_1_8_50 = pd.read_pickle(r'{}\\{}\\{}'.format(main_path,res[2],files[3]))\n",
    "\n",
    "cc_1_16_5 = pd.read_pickle(r'{}\\{}\\{}'.format(main_path,res[3],files[0]))\n",
    "cc_1_16_10 = pd.read_pickle(r'{}\\{}\\{}'.format(main_path,res[3],files[1]))\n",
    "cc_1_16_20 = pd.read_pickle(r'{}\\{}\\{}'.format(main_path,res[3],files[2]))\n",
    "cc_1_16_50 = pd.read_pickle(r'{}\\{}\\{}'.format(main_path,res[3],files[3]))\n",
    "\n",
    "cc_1_32_5 = pd.read_pickle(r'{}\\{}\\{}'.format(main_path,res[4],files[0]))\n",
    "cc_1_32_10 = pd.read_pickle(r'{}\\{}\\{}'.format(main_path,res[4],files[1]))\n",
    "cc_1_32_20 = pd.read_pickle(r'{}\\{}\\{}'.format(main_path,res[4],files[2]))\n",
    "cc_1_32_50 = pd.read_pickle(r'{}\\{}\\{}'.format(main_path,res[4],files[3]))\n",
    "\n",
    "cc_1_64_5 = pd.read_pickle(r'{}\\{}\\{}'.format(main_path,res[5],files[0]))\n",
    "cc_1_64_10 = pd.read_pickle(r'{}\\{}\\{}'.format(main_path,res[5],files[1]))\n",
    "cc_1_64_20 = pd.read_pickle(r'{}\\{}\\{}'.format(main_path,res[5],files[2]))\n",
    "cc_1_64_50 = pd.read_pickle(r'{}\\{}\\{}'.format(main_path,res[5],files[3]))\n",
    "\n",
    "cc_1_128_5 = pd.read_pickle(r'{}\\{}\\{}'.format(main_path,res[6],files[0]))\n",
    "cc_1_128_10 = pd.read_pickle(r'{}\\{}\\{}'.format(main_path,res[6],files[1]))\n",
    "cc_1_128_20 = pd.read_pickle(r'{}\\{}\\{}'.format(main_path,res[6],files[2]))\n",
    "cc_1_128_50 = pd.read_pickle(r'{}\\{}\\{}'.format(main_path,res[6],files[3]))\n",
    "\n",
    "cc_1_256_5 = pd.read_pickle(r'{}\\{}\\{}'.format(main_path,res[7],files[0]))\n",
    "cc_1_256_10 = pd.read_pickle(r'{}\\{}\\{}'.format(main_path,res[7],files[1]))\n",
    "cc_1_256_20 = pd.read_pickle(r'{}\\{}\\{}'.format(main_path,res[7],files[2]))\n",
    "cc_1_256_50 = pd.read_pickle(r'{}\\{}\\{}'.format(main_path,res[7],files[3]))\n"
   ]
  },
  {
   "cell_type": "markdown",
   "id": "8590b744",
   "metadata": {},
   "source": [
    "Put all the values into a multiindex dataframe"
   ]
  },
  {
   "cell_type": "code",
   "execution_count": 51,
   "id": "ae6204b1",
   "metadata": {},
   "outputs": [],
   "source": [
    "second = [2,4,8,16,32,64,128,256] # what type of resolution\n",
    "third = [1,2,3,4,5,6,7,8,9,10] # what seed\n",
    "fourth = [i for i in range(0,10000)]\n",
    "arrays = [second, third, fourth]\n",
    "\n",
    "\n",
    "index = pd.MultiIndex.from_product(arrays)\n",
    "columns = ['CV','FR','CC_5','CC_10','CC_20','CC_50']\n",
    "\n",
    "df = pd.DataFrame(index=index, columns=columns)\n",
    "\n",
    "# indexes must be sorted to make more effective and avoid warnings.\n",
    "df2 = df.sort_index()"
   ]
  },
  {
   "cell_type": "code",
   "execution_count": 53,
   "id": "f1adf13e",
   "metadata": {},
   "outputs": [],
   "source": [
    "df2.loc[(2,1)]['CV'][:] = cv_1_2.iloc[0]\n",
    "df2.loc[(2,2)]['CV'][:] = cv_1_2.iloc[1]\n",
    "df2.loc[(2,3)]['CV'][:] = cv_1_2.iloc[2]\n",
    "df2.loc[(2,4)]['CV'][:] = cv_1_2.iloc[3]\n",
    "df2.loc[(2,5)]['CV'][:] = cv_1_2.iloc[4]\n",
    "df2.loc[(2,6)]['CV'][:] = cv_1_2.iloc[5]\n",
    "df2.loc[(2,7)]['CV'][:] = cv_1_2.iloc[6]\n",
    "df2.loc[(2,8)]['CV'][:] = cv_1_2.iloc[7]\n",
    "df2.loc[(2,9)]['CV'][:] = cv_1_2.iloc[8]\n",
    "df2.loc[(2,10)]['CV'][:] = cv_1_2.iloc[9]"
   ]
  },
  {
   "cell_type": "code",
   "execution_count": 54,
   "id": "0d42aee2",
   "metadata": {},
   "outputs": [],
   "source": [
    "df2.loc[(4,1)]['CV'][:] = cv_1_4.iloc[0]\n",
    "df2.loc[(4,2)]['CV'][:] = cv_1_4.iloc[1]\n",
    "df2.loc[(4,3)]['CV'][:] = cv_1_4.iloc[2]\n",
    "df2.loc[(4,4)]['CV'][:] = cv_1_4.iloc[3]\n",
    "df2.loc[(4,5)]['CV'][:] = cv_1_4.iloc[4]\n",
    "df2.loc[(4,6)]['CV'][:] = cv_1_4.iloc[5]\n",
    "df2.loc[(4,7)]['CV'][:] = cv_1_4.iloc[6]\n",
    "df2.loc[(4,8)]['CV'][:] = cv_1_4.iloc[7]\n",
    "df2.loc[(4,9)]['CV'][:] = cv_1_4.iloc[8]\n",
    "df2.loc[(4,10)]['CV'][:] = cv_1_4.iloc[9]"
   ]
  },
  {
   "cell_type": "code",
   "execution_count": 55,
   "id": "4c2f8ac9",
   "metadata": {},
   "outputs": [],
   "source": [
    "df2.loc[(8,1)]['CV'][:] = cv_1_8.iloc[0]\n",
    "df2.loc[(8,2)]['CV'][:] = cv_1_8.iloc[1]\n",
    "df2.loc[(8,3)]['CV'][:] = cv_1_8.iloc[2]\n",
    "df2.loc[(8,4)]['CV'][:] = cv_1_8.iloc[3]\n",
    "df2.loc[(8,5)]['CV'][:] = cv_1_8.iloc[4]\n",
    "df2.loc[(8,6)]['CV'][:] = cv_1_8.iloc[5]\n",
    "df2.loc[(8,7)]['CV'][:] = cv_1_8.iloc[6]\n",
    "df2.loc[(8,8)]['CV'][:] = cv_1_8.iloc[7]\n",
    "df2.loc[(8,9)]['CV'][:] = cv_1_8.iloc[8]\n",
    "df2.loc[(8,10)]['CV'][:] = cv_1_8.iloc[9]"
   ]
  },
  {
   "cell_type": "code",
   "execution_count": 56,
   "id": "fc2fd6bb",
   "metadata": {},
   "outputs": [],
   "source": [
    "df2.loc[(16,1)]['CV'][:] = cv_1_16.iloc[0]\n",
    "df2.loc[(16,2)]['CV'][:] = cv_1_16.iloc[1]\n",
    "df2.loc[(16,3)]['CV'][:] = cv_1_16.iloc[2]\n",
    "df2.loc[(16,4)]['CV'][:] = cv_1_16.iloc[3]\n",
    "df2.loc[(16,5)]['CV'][:] = cv_1_16.iloc[4]\n",
    "df2.loc[(16,6)]['CV'][:] = cv_1_16.iloc[5]\n",
    "df2.loc[(16,7)]['CV'][:] = cv_1_16.iloc[6]\n",
    "df2.loc[(16,8)]['CV'][:] = cv_1_16.iloc[7]\n",
    "df2.loc[(16,9)]['CV'][:] = cv_1_16.iloc[8]\n",
    "df2.loc[(16,10)]['CV'][:] = cv_1_16.iloc[9]"
   ]
  },
  {
   "cell_type": "code",
   "execution_count": 57,
   "id": "0a43fa70",
   "metadata": {},
   "outputs": [],
   "source": [
    "df2.loc[(32,1)]['CV'][:] = cv_1_32.iloc[0]\n",
    "df2.loc[(32,2)]['CV'][:] = cv_1_32.iloc[1]\n",
    "df2.loc[(32,3)]['CV'][:] = cv_1_32.iloc[2]\n",
    "df2.loc[(32,4)]['CV'][:] = cv_1_32.iloc[3]\n",
    "df2.loc[(32,5)]['CV'][:] = cv_1_32.iloc[4]\n",
    "df2.loc[(32,6)]['CV'][:] = cv_1_32.iloc[5]\n",
    "df2.loc[(32,7)]['CV'][:] = cv_1_32.iloc[6]\n",
    "df2.loc[(32,8)]['CV'][:] = cv_1_32.iloc[7]\n",
    "df2.loc[(32,9)]['CV'][:] = cv_1_32.iloc[8]\n",
    "df2.loc[(32,10)]['CV'][:] = cv_1_32.iloc[9]"
   ]
  },
  {
   "cell_type": "code",
   "execution_count": 58,
   "id": "8be9970b",
   "metadata": {},
   "outputs": [],
   "source": [
    "df2.loc[(64,1)]['CV'][:] = cv_1_64.iloc[0]\n",
    "df2.loc[(64,2)]['CV'][:] = cv_1_64.iloc[1]\n",
    "df2.loc[(64,3)]['CV'][:] = cv_1_64.iloc[2]\n",
    "df2.loc[(64,4)]['CV'][:] = cv_1_64.iloc[3]\n",
    "df2.loc[(64,5)]['CV'][:] = cv_1_64.iloc[4]\n",
    "df2.loc[(64,6)]['CV'][:] = cv_1_64.iloc[5]\n",
    "df2.loc[(64,7)]['CV'][:] = cv_1_64.iloc[6]\n",
    "df2.loc[(64,8)]['CV'][:] = cv_1_64.iloc[7]\n",
    "df2.loc[(64,9)]['CV'][:] = cv_1_64.iloc[8]\n",
    "df2.loc[(64,10)]['CV'][:] = cv_1_64.iloc[9]"
   ]
  },
  {
   "cell_type": "code",
   "execution_count": 59,
   "id": "2e774d57",
   "metadata": {},
   "outputs": [],
   "source": [
    "df2.loc[(128,1)]['CV'][:] = cv_1_128.iloc[0]\n",
    "df2.loc[(128,2)]['CV'][:] = cv_1_128.iloc[1]\n",
    "df2.loc[(128,3)]['CV'][:] = cv_1_128.iloc[2]\n",
    "df2.loc[(128,4)]['CV'][:] = cv_1_128.iloc[3]\n",
    "df2.loc[(128,5)]['CV'][:] = cv_1_128.iloc[4]\n",
    "df2.loc[(128,6)]['CV'][:] = cv_1_128.iloc[5]\n",
    "df2.loc[(128,7)]['CV'][:] = cv_1_128.iloc[6]\n",
    "df2.loc[(128,8)]['CV'][:] = cv_1_128.iloc[7]\n",
    "df2.loc[(128,9)]['CV'][:] = cv_1_128.iloc[8]\n",
    "df2.loc[(128,10)]['CV'][:] = cv_1_128.iloc[9]"
   ]
  },
  {
   "cell_type": "code",
   "execution_count": 60,
   "id": "4000bacc",
   "metadata": {},
   "outputs": [],
   "source": [
    "df2.loc[(256,1)]['CV'][:] = cv_1_256.iloc[0]\n",
    "df2.loc[(256,2)]['CV'][:] = cv_1_256.iloc[1]\n",
    "df2.loc[(256,3)]['CV'][:] = cv_1_256.iloc[2]\n",
    "df2.loc[(256,4)]['CV'][:] = cv_1_256.iloc[3]\n",
    "df2.loc[(256,5)]['CV'][:] = cv_1_256.iloc[4]\n",
    "df2.loc[(256,6)]['CV'][:] = cv_1_256.iloc[5]\n",
    "df2.loc[(256,7)]['CV'][:] = cv_1_256.iloc[6]\n",
    "df2.loc[(256,8)]['CV'][:] = cv_1_256.iloc[7]\n",
    "df2.loc[(256,9)]['CV'][:] = cv_1_256.iloc[8]\n",
    "df2.loc[(256,10)]['CV'][:] = cv_1_256.iloc[9]"
   ]
  },
  {
   "cell_type": "markdown",
   "id": "dc7aa414",
   "metadata": {},
   "source": [
    "now frs"
   ]
  },
  {
   "cell_type": "code",
   "execution_count": 61,
   "id": "55d0deb0",
   "metadata": {},
   "outputs": [],
   "source": [
    "df2.loc[(2,1)]['FR'][:] = fr_1_2.iloc[0]\n",
    "df2.loc[(2,2)]['FR'][:] = fr_1_2.iloc[1]\n",
    "df2.loc[(2,3)]['FR'][:] = fr_1_2.iloc[2]\n",
    "df2.loc[(2,4)]['FR'][:] = fr_1_2.iloc[3]\n",
    "df2.loc[(2,5)]['FR'][:] = fr_1_2.iloc[4]\n",
    "df2.loc[(2,6)]['FR'][:] = fr_1_2.iloc[5]\n",
    "df2.loc[(2,7)]['FR'][:] = fr_1_2.iloc[6]\n",
    "df2.loc[(2,8)]['FR'][:] = fr_1_2.iloc[7]\n",
    "df2.loc[(2,9)]['FR'][:] = fr_1_2.iloc[8]\n",
    "df2.loc[(2,10)]['FR'][:] = fr_1_2.iloc[9]"
   ]
  },
  {
   "cell_type": "code",
   "execution_count": 62,
   "id": "c379498e",
   "metadata": {},
   "outputs": [],
   "source": [
    "df2.loc[(4,1)]['FR'][:] = fr_1_4.iloc[0]\n",
    "df2.loc[(4,2)]['FR'][:] = fr_1_4.iloc[1]\n",
    "df2.loc[(4,3)]['FR'][:] = fr_1_4.iloc[2]\n",
    "df2.loc[(4,4)]['FR'][:] = fr_1_4.iloc[3]\n",
    "df2.loc[(4,5)]['FR'][:] = fr_1_4.iloc[4]\n",
    "df2.loc[(4,6)]['FR'][:] = fr_1_4.iloc[5]\n",
    "df2.loc[(4,7)]['FR'][:] = fr_1_4.iloc[6]\n",
    "df2.loc[(4,8)]['FR'][:] = fr_1_4.iloc[7]\n",
    "df2.loc[(4,9)]['FR'][:] = fr_1_4.iloc[8]\n",
    "df2.loc[(4,10)]['FR'][:] = fr_1_4.iloc[9]"
   ]
  },
  {
   "cell_type": "code",
   "execution_count": 63,
   "id": "42675030",
   "metadata": {},
   "outputs": [],
   "source": [
    "df2.loc[(8,1)]['FR'][:] = fr_1_8.iloc[0]\n",
    "df2.loc[(8,2)]['FR'][:] = fr_1_8.iloc[1]\n",
    "df2.loc[(8,3)]['FR'][:] = fr_1_8.iloc[2]\n",
    "df2.loc[(8,4)]['FR'][:] = fr_1_8.iloc[3]\n",
    "df2.loc[(8,5)]['FR'][:] = fr_1_8.iloc[4]\n",
    "df2.loc[(8,6)]['FR'][:] = fr_1_8.iloc[5]\n",
    "df2.loc[(8,7)]['FR'][:] = fr_1_8.iloc[6]\n",
    "df2.loc[(8,8)]['FR'][:] = fr_1_8.iloc[7]\n",
    "df2.loc[(8,9)]['FR'][:] = fr_1_8.iloc[8]\n",
    "df2.loc[(8,10)]['FR'][:] = fr_1_8.iloc[9]"
   ]
  },
  {
   "cell_type": "code",
   "execution_count": 64,
   "id": "7c6ecf9b",
   "metadata": {},
   "outputs": [],
   "source": [
    "df2.loc[(16,1)]['FR'][:] = fr_1_16.iloc[0]\n",
    "df2.loc[(16,2)]['FR'][:] = fr_1_16.iloc[1]\n",
    "df2.loc[(16,3)]['FR'][:] = fr_1_16.iloc[2]\n",
    "df2.loc[(16,4)]['FR'][:] = fr_1_16.iloc[3]\n",
    "df2.loc[(16,5)]['FR'][:] = fr_1_16.iloc[4]\n",
    "df2.loc[(16,6)]['FR'][:] = fr_1_16.iloc[5]\n",
    "df2.loc[(16,7)]['FR'][:] = fr_1_16.iloc[6]\n",
    "df2.loc[(16,8)]['FR'][:] = fr_1_16.iloc[7]\n",
    "df2.loc[(16,9)]['FR'][:] = fr_1_16.iloc[8]\n",
    "df2.loc[(16,10)]['FR'][:] = fr_1_16.iloc[9]"
   ]
  },
  {
   "cell_type": "code",
   "execution_count": 65,
   "id": "97232207",
   "metadata": {},
   "outputs": [],
   "source": [
    "df2.loc[(32,1)]['FR'][:] = fr_1_32.iloc[0]\n",
    "df2.loc[(32,2)]['FR'][:] = fr_1_32.iloc[1]\n",
    "df2.loc[(32,3)]['FR'][:] = fr_1_32.iloc[2]\n",
    "df2.loc[(32,4)]['FR'][:] = fr_1_32.iloc[3]\n",
    "df2.loc[(32,5)]['FR'][:] = fr_1_32.iloc[4]\n",
    "df2.loc[(32,6)]['FR'][:] = fr_1_32.iloc[5]\n",
    "df2.loc[(32,7)]['FR'][:] = fr_1_32.iloc[6]\n",
    "df2.loc[(32,8)]['FR'][:] = fr_1_32.iloc[7]\n",
    "df2.loc[(32,9)]['FR'][:] = fr_1_32.iloc[8]\n",
    "df2.loc[(32,10)]['FR'][:] = fr_1_32.iloc[9]"
   ]
  },
  {
   "cell_type": "code",
   "execution_count": 66,
   "id": "7ce9cb83",
   "metadata": {},
   "outputs": [],
   "source": [
    "df2.loc[(64,1)]['FR'][:] = fr_1_64.iloc[0]\n",
    "df2.loc[(64,2)]['FR'][:] = fr_1_64.iloc[1]\n",
    "df2.loc[(64,3)]['FR'][:] = fr_1_64.iloc[2]\n",
    "df2.loc[(64,4)]['FR'][:] = fr_1_64.iloc[3]\n",
    "df2.loc[(64,5)]['FR'][:] = fr_1_64.iloc[4]\n",
    "df2.loc[(64,6)]['FR'][:] = fr_1_64.iloc[5]\n",
    "df2.loc[(64,7)]['FR'][:] = fr_1_64.iloc[6]\n",
    "df2.loc[(64,8)]['FR'][:] = fr_1_64.iloc[7]\n",
    "df2.loc[(64,9)]['FR'][:] = fr_1_64.iloc[8]\n",
    "df2.loc[(64,10)]['FR'][:] = fr_1_64.iloc[9]"
   ]
  },
  {
   "cell_type": "code",
   "execution_count": 67,
   "id": "ad085858",
   "metadata": {},
   "outputs": [],
   "source": [
    "df2.loc[(128,1)]['FR'][:] = fr_1_128.iloc[0]\n",
    "df2.loc[(128,2)]['FR'][:] = fr_1_128.iloc[1]\n",
    "df2.loc[(128,3)]['FR'][:] = fr_1_128.iloc[2]\n",
    "df2.loc[(128,4)]['FR'][:] = fr_1_128.iloc[3]\n",
    "df2.loc[(128,5)]['FR'][:] = fr_1_128.iloc[4]\n",
    "df2.loc[(128,6)]['FR'][:] = fr_1_128.iloc[5]\n",
    "df2.loc[(128,7)]['FR'][:] = fr_1_128.iloc[6]\n",
    "df2.loc[(128,8)]['FR'][:] = fr_1_128.iloc[7]\n",
    "df2.loc[(128,9)]['FR'][:] = fr_1_128.iloc[8]\n",
    "df2.loc[(128,10)]['FR'][:] = fr_1_128.iloc[9]"
   ]
  },
  {
   "cell_type": "code",
   "execution_count": 68,
   "id": "48e88995",
   "metadata": {},
   "outputs": [],
   "source": [
    "df2.loc[(256,1)]['FR'][:] = fr_1_256.iloc[0]\n",
    "df2.loc[(256,2)]['FR'][:] = fr_1_256.iloc[1]\n",
    "df2.loc[(256,3)]['FR'][:] = fr_1_256.iloc[2]\n",
    "df2.loc[(256,4)]['FR'][:] = fr_1_256.iloc[3]\n",
    "df2.loc[(256,5)]['FR'][:] = fr_1_256.iloc[4]\n",
    "df2.loc[(256,6)]['FR'][:] = fr_1_256.iloc[5]\n",
    "df2.loc[(256,7)]['FR'][:] = fr_1_256.iloc[6]\n",
    "df2.loc[(256,8)]['FR'][:] = fr_1_256.iloc[7]\n",
    "df2.loc[(256,9)]['FR'][:] = fr_1_256.iloc[8]\n",
    "df2.loc[(256,10)]['FR'][:] = fr_1_256.iloc[9]"
   ]
  },
  {
   "cell_type": "markdown",
   "id": "f0e0fcd8",
   "metadata": {},
   "source": [
    "Now ccs"
   ]
  },
  {
   "cell_type": "code",
   "execution_count": 69,
   "id": "b6d455e5",
   "metadata": {},
   "outputs": [],
   "source": [
    "df2.loc[(2,1)]['CC_5'][:] = cc_1_2_5.iloc[0]\n",
    "df2.loc[(2,2)]['CC_5'][:] = cc_1_2_5.iloc[1]\n",
    "df2.loc[(2,3)]['CC_5'][:] = cc_1_2_5.iloc[2]\n",
    "df2.loc[(2,4)]['CC_5'][:] = cc_1_2_5.iloc[3]\n",
    "df2.loc[(2,5)]['CC_5'][:] = cc_1_2_5.iloc[4]\n",
    "df2.loc[(2,6)]['CC_5'][:] = cc_1_2_5.iloc[5]\n",
    "df2.loc[(2,7)]['CC_5'][:] = cc_1_2_5.iloc[6]\n",
    "df2.loc[(2,8)]['CC_5'][:] = cc_1_2_5.iloc[7]\n",
    "df2.loc[(2,9)]['CC_5'][:] = cc_1_2_5.iloc[8]\n",
    "df2.loc[(2,10)]['CC_5'][:] = cc_1_2_5.iloc[9]"
   ]
  },
  {
   "cell_type": "code",
   "execution_count": 70,
   "id": "10ff4b4f",
   "metadata": {},
   "outputs": [],
   "source": [
    "df2.loc[(4,1)]['CC_5'][:] = cc_1_4_5.iloc[0]\n",
    "df2.loc[(4,2)]['CC_5'][:] = cc_1_4_5.iloc[1]\n",
    "df2.loc[(4,3)]['CC_5'][:] = cc_1_4_5.iloc[2]\n",
    "df2.loc[(4,4)]['CC_5'][:] = cc_1_4_5.iloc[3]\n",
    "df2.loc[(4,5)]['CC_5'][:] = cc_1_4_5.iloc[4]\n",
    "df2.loc[(4,6)]['CC_5'][:] = cc_1_4_5.iloc[5]\n",
    "df2.loc[(4,7)]['CC_5'][:] = cc_1_4_5.iloc[6]\n",
    "df2.loc[(4,8)]['CC_5'][:] = cc_1_4_5.iloc[7]\n",
    "df2.loc[(4,9)]['CC_5'][:] = cc_1_4_5.iloc[8]\n",
    "df2.loc[(4,10)]['CC_5'][:] = cc_1_4_5.iloc[9]"
   ]
  },
  {
   "cell_type": "code",
   "execution_count": 71,
   "id": "41998003",
   "metadata": {},
   "outputs": [],
   "source": [
    "df2.loc[(8,1)]['CC_5'][:] = cc_1_8_5.iloc[0]\n",
    "df2.loc[(8,2)]['CC_5'][:] = cc_1_8_5.iloc[1]\n",
    "df2.loc[(8,3)]['CC_5'][:] = cc_1_8_5.iloc[2]\n",
    "df2.loc[(8,4)]['CC_5'][:] = cc_1_8_5.iloc[3]\n",
    "df2.loc[(8,5)]['CC_5'][:] = cc_1_8_5.iloc[4]\n",
    "df2.loc[(8,6)]['CC_5'][:] = cc_1_8_5.iloc[5]\n",
    "df2.loc[(8,7)]['CC_5'][:] = cc_1_8_5.iloc[6]\n",
    "df2.loc[(8,8)]['CC_5'][:] = cc_1_8_5.iloc[7]\n",
    "df2.loc[(8,9)]['CC_5'][:] = cc_1_8_5.iloc[8]\n",
    "df2.loc[(8,10)]['CC_5'][:] = cc_1_8_5.iloc[9]"
   ]
  },
  {
   "cell_type": "code",
   "execution_count": 72,
   "id": "850eb2e0",
   "metadata": {},
   "outputs": [],
   "source": [
    "df2.loc[(16,1)]['CC_5'][:] = cc_1_16_5.iloc[0]\n",
    "df2.loc[(16,2)]['CC_5'][:] = cc_1_16_5.iloc[1]\n",
    "df2.loc[(16,3)]['CC_5'][:] = cc_1_16_5.iloc[2]\n",
    "df2.loc[(16,4)]['CC_5'][:] = cc_1_16_5.iloc[3]\n",
    "df2.loc[(16,5)]['CC_5'][:] = cc_1_16_5.iloc[4]\n",
    "df2.loc[(16,6)]['CC_5'][:] = cc_1_16_5.iloc[5]\n",
    "df2.loc[(16,7)]['CC_5'][:] = cc_1_16_5.iloc[6]\n",
    "df2.loc[(16,8)]['CC_5'][:] = cc_1_16_5.iloc[7]\n",
    "df2.loc[(16,9)]['CC_5'][:] = cc_1_16_5.iloc[8]\n",
    "df2.loc[(16,10)]['CC_5'][:] = cc_1_16_5.iloc[9]"
   ]
  },
  {
   "cell_type": "code",
   "execution_count": 73,
   "id": "f3b17f6a",
   "metadata": {},
   "outputs": [],
   "source": [
    "df2.loc[(32,1)]['CC_5'][:] = cc_1_32_5.iloc[0]\n",
    "df2.loc[(32,2)]['CC_5'][:] = cc_1_32_5.iloc[1]\n",
    "df2.loc[(32,3)]['CC_5'][:] = cc_1_32_5.iloc[2]\n",
    "df2.loc[(32,4)]['CC_5'][:] = cc_1_32_5.iloc[3]\n",
    "df2.loc[(32,5)]['CC_5'][:] = cc_1_32_5.iloc[4]\n",
    "df2.loc[(32,6)]['CC_5'][:] = cc_1_32_5.iloc[5]\n",
    "df2.loc[(32,7)]['CC_5'][:] = cc_1_32_5.iloc[6]\n",
    "df2.loc[(32,8)]['CC_5'][:] = cc_1_32_5.iloc[7]\n",
    "df2.loc[(32,9)]['CC_5'][:] = cc_1_32_5.iloc[8]\n",
    "df2.loc[(32,10)]['CC_5'][:] = cc_1_32_5.iloc[9]"
   ]
  },
  {
   "cell_type": "code",
   "execution_count": 74,
   "id": "6a9adca0",
   "metadata": {},
   "outputs": [],
   "source": [
    "df2.loc[(64,1)]['CC_5'][:] = cc_1_64_5.iloc[0]\n",
    "df2.loc[(64,2)]['CC_5'][:] = cc_1_64_5.iloc[1]\n",
    "df2.loc[(64,3)]['CC_5'][:] = cc_1_64_5.iloc[2]\n",
    "df2.loc[(64,4)]['CC_5'][:] = cc_1_64_5.iloc[3]\n",
    "df2.loc[(64,5)]['CC_5'][:] = cc_1_64_5.iloc[4]\n",
    "df2.loc[(64,6)]['CC_5'][:] = cc_1_64_5.iloc[5]\n",
    "df2.loc[(64,7)]['CC_5'][:] = cc_1_64_5.iloc[6]\n",
    "df2.loc[(64,8)]['CC_5'][:] = cc_1_64_5.iloc[7]\n",
    "df2.loc[(64,9)]['CC_5'][:] = cc_1_64_5.iloc[8]\n",
    "df2.loc[(64,10)]['CC_5'][:] = cc_1_64_5.iloc[9]"
   ]
  },
  {
   "cell_type": "code",
   "execution_count": 75,
   "id": "8091d89b",
   "metadata": {},
   "outputs": [],
   "source": [
    "df2.loc[(128,1)]['CC_5'][:] = cc_1_128_5.iloc[0]\n",
    "df2.loc[(128,2)]['CC_5'][:] = cc_1_128_5.iloc[1]\n",
    "df2.loc[(128,3)]['CC_5'][:] = cc_1_128_5.iloc[2]\n",
    "df2.loc[(128,4)]['CC_5'][:] = cc_1_128_5.iloc[3]\n",
    "df2.loc[(128,5)]['CC_5'][:] = cc_1_128_5.iloc[4]\n",
    "df2.loc[(128,6)]['CC_5'][:] = cc_1_128_5.iloc[5]\n",
    "df2.loc[(128,7)]['CC_5'][:] = cc_1_128_5.iloc[6]\n",
    "df2.loc[(128,8)]['CC_5'][:] = cc_1_128_5.iloc[7]\n",
    "df2.loc[(128,9)]['CC_5'][:] = cc_1_128_5.iloc[8]\n",
    "df2.loc[(128,10)]['CC_5'][:] = cc_1_128_5.iloc[9]"
   ]
  },
  {
   "cell_type": "code",
   "execution_count": 76,
   "id": "03d5f9d8",
   "metadata": {},
   "outputs": [],
   "source": [
    "df2.loc[(256,1)]['CC_5'][:] = cc_1_256_5.iloc[0]\n",
    "df2.loc[(256,2)]['CC_5'][:] = cc_1_256_5.iloc[1]\n",
    "df2.loc[(256,3)]['CC_5'][:] = cc_1_256_5.iloc[2]\n",
    "df2.loc[(256,4)]['CC_5'][:] = cc_1_256_5.iloc[3]\n",
    "df2.loc[(256,5)]['CC_5'][:] = cc_1_256_5.iloc[4]\n",
    "df2.loc[(256,6)]['CC_5'][:] = cc_1_256_5.iloc[5]\n",
    "df2.loc[(256,7)]['CC_5'][:] = cc_1_256_5.iloc[6]\n",
    "df2.loc[(256,8)]['CC_5'][:] = cc_1_256_5.iloc[7]\n",
    "df2.loc[(256,9)]['CC_5'][:] = cc_1_256_5.iloc[8]\n",
    "df2.loc[(256,10)]['CC_5'][:] = cc_1_256_5.iloc[9]"
   ]
  },
  {
   "cell_type": "code",
   "execution_count": null,
   "id": "682e9475",
   "metadata": {},
   "outputs": [],
   "source": []
  },
  {
   "cell_type": "code",
   "execution_count": 77,
   "id": "db1909e4",
   "metadata": {},
   "outputs": [],
   "source": [
    "df2.loc[(2,1)]['CC_10'][:] = cc_1_2_10.iloc[0]\n",
    "df2.loc[(2,2)]['CC_10'][:] = cc_1_2_10.iloc[1]\n",
    "df2.loc[(2,3)]['CC_10'][:] = cc_1_2_10.iloc[2]\n",
    "df2.loc[(2,4)]['CC_10'][:] = cc_1_2_10.iloc[3]\n",
    "df2.loc[(2,5)]['CC_10'][:] = cc_1_2_10.iloc[4]\n",
    "df2.loc[(2,6)]['CC_10'][:] = cc_1_2_10.iloc[5]\n",
    "df2.loc[(2,7)]['CC_10'][:] = cc_1_2_10.iloc[6]\n",
    "df2.loc[(2,8)]['CC_10'][:] = cc_1_2_10.iloc[7]\n",
    "df2.loc[(2,9)]['CC_10'][:] = cc_1_2_10.iloc[8]\n",
    "df2.loc[(2,10)]['CC_10'][:] = cc_1_2_10.iloc[9]"
   ]
  },
  {
   "cell_type": "code",
   "execution_count": 78,
   "id": "4d401e5e",
   "metadata": {},
   "outputs": [],
   "source": [
    "df2.loc[(4,1)]['CC_10'][:] = cc_1_4_10.iloc[0]\n",
    "df2.loc[(4,2)]['CC_10'][:] = cc_1_4_10.iloc[1]\n",
    "df2.loc[(4,3)]['CC_10'][:] = cc_1_4_10.iloc[2]\n",
    "df2.loc[(4,4)]['CC_10'][:] = cc_1_4_10.iloc[3]\n",
    "df2.loc[(4,5)]['CC_10'][:] = cc_1_4_10.iloc[4]\n",
    "df2.loc[(4,6)]['CC_10'][:] = cc_1_4_10.iloc[5]\n",
    "df2.loc[(4,7)]['CC_10'][:] = cc_1_4_10.iloc[6]\n",
    "df2.loc[(4,8)]['CC_10'][:] = cc_1_4_10.iloc[7]\n",
    "df2.loc[(4,9)]['CC_10'][:] = cc_1_4_10.iloc[8]\n",
    "df2.loc[(4,10)]['CC_10'][:] = cc_1_4_10.iloc[9]"
   ]
  },
  {
   "cell_type": "code",
   "execution_count": 79,
   "id": "be9ebc71",
   "metadata": {},
   "outputs": [],
   "source": [
    "df2.loc[(8,1)]['CC_10'][:] = cc_1_8_10.iloc[0]\n",
    "df2.loc[(8,2)]['CC_10'][:] = cc_1_8_10.iloc[1]\n",
    "df2.loc[(8,3)]['CC_10'][:] = cc_1_8_10.iloc[2]\n",
    "df2.loc[(8,4)]['CC_10'][:] = cc_1_8_10.iloc[3]\n",
    "df2.loc[(8,5)]['CC_10'][:] = cc_1_8_10.iloc[4]\n",
    "df2.loc[(8,6)]['CC_10'][:] = cc_1_8_10.iloc[5]\n",
    "df2.loc[(8,7)]['CC_10'][:] = cc_1_8_10.iloc[6]\n",
    "df2.loc[(8,8)]['CC_10'][:] = cc_1_8_10.iloc[7]\n",
    "df2.loc[(8,9)]['CC_10'][:] = cc_1_8_10.iloc[8]\n",
    "df2.loc[(8,10)]['CC_10'][:] = cc_1_8_10.iloc[9]"
   ]
  },
  {
   "cell_type": "code",
   "execution_count": 80,
   "id": "552a83f9",
   "metadata": {},
   "outputs": [],
   "source": [
    "df2.loc[(16,1)]['CC_10'][:] = cc_1_16_10.iloc[0]\n",
    "df2.loc[(16,2)]['CC_10'][:] = cc_1_16_10.iloc[1]\n",
    "df2.loc[(16,3)]['CC_10'][:] = cc_1_16_10.iloc[2]\n",
    "df2.loc[(16,4)]['CC_10'][:] = cc_1_16_10.iloc[3]\n",
    "df2.loc[(16,5)]['CC_10'][:] = cc_1_16_10.iloc[4]\n",
    "df2.loc[(16,6)]['CC_10'][:] = cc_1_16_10.iloc[5]\n",
    "df2.loc[(16,7)]['CC_10'][:] = cc_1_16_10.iloc[6]\n",
    "df2.loc[(16,8)]['CC_10'][:] = cc_1_16_10.iloc[7]\n",
    "df2.loc[(16,9)]['CC_10'][:] = cc_1_16_10.iloc[8]\n",
    "df2.loc[(16,10)]['CC_10'][:] = cc_1_16_10.iloc[9]"
   ]
  },
  {
   "cell_type": "code",
   "execution_count": 81,
   "id": "e1318b00",
   "metadata": {},
   "outputs": [],
   "source": [
    "df2.loc[(32,1)]['CC_10'][:] = cc_1_32_10.iloc[0]\n",
    "df2.loc[(32,2)]['CC_10'][:] = cc_1_32_10.iloc[1]\n",
    "df2.loc[(32,3)]['CC_10'][:] = cc_1_32_10.iloc[2]\n",
    "df2.loc[(32,4)]['CC_10'][:] = cc_1_32_10.iloc[3]\n",
    "df2.loc[(32,5)]['CC_10'][:] = cc_1_32_10.iloc[4]\n",
    "df2.loc[(32,6)]['CC_10'][:] = cc_1_32_10.iloc[5]\n",
    "df2.loc[(32,7)]['CC_10'][:] = cc_1_32_10.iloc[6]\n",
    "df2.loc[(32,8)]['CC_10'][:] = cc_1_32_10.iloc[7]\n",
    "df2.loc[(32,9)]['CC_10'][:] = cc_1_32_10.iloc[8]\n",
    "df2.loc[(32,10)]['CC_10'][:] = cc_1_32_10.iloc[9]"
   ]
  },
  {
   "cell_type": "code",
   "execution_count": 82,
   "id": "a1fea02e",
   "metadata": {},
   "outputs": [],
   "source": [
    "df2.loc[(64,1)]['CC_10'][:] = cc_1_64_10.iloc[0]\n",
    "df2.loc[(64,2)]['CC_10'][:] = cc_1_64_10.iloc[1]\n",
    "df2.loc[(64,3)]['CC_10'][:] = cc_1_64_10.iloc[2]\n",
    "df2.loc[(64,4)]['CC_10'][:] = cc_1_64_10.iloc[3]\n",
    "df2.loc[(64,5)]['CC_10'][:] = cc_1_64_10.iloc[4]\n",
    "df2.loc[(64,6)]['CC_10'][:] = cc_1_64_10.iloc[5]\n",
    "df2.loc[(64,7)]['CC_10'][:] = cc_1_64_10.iloc[6]\n",
    "df2.loc[(64,8)]['CC_10'][:] = cc_1_64_10.iloc[7]\n",
    "df2.loc[(64,9)]['CC_10'][:] = cc_1_64_10.iloc[8]\n",
    "df2.loc[(64,10)]['CC_10'][:] = cc_1_64_10.iloc[9]"
   ]
  },
  {
   "cell_type": "code",
   "execution_count": 83,
   "id": "57dbce80",
   "metadata": {},
   "outputs": [],
   "source": [
    "df2.loc[(128,1)]['CC_10'][:] = cc_1_128_10.iloc[0]\n",
    "df2.loc[(128,2)]['CC_10'][:] = cc_1_128_10.iloc[1]\n",
    "df2.loc[(128,3)]['CC_10'][:] = cc_1_128_10.iloc[2]\n",
    "df2.loc[(128,4)]['CC_10'][:] = cc_1_128_10.iloc[3]\n",
    "df2.loc[(128,5)]['CC_10'][:] = cc_1_128_10.iloc[4]\n",
    "df2.loc[(128,6)]['CC_10'][:] = cc_1_128_10.iloc[5]\n",
    "df2.loc[(128,7)]['CC_10'][:] = cc_1_128_10.iloc[6]\n",
    "df2.loc[(128,8)]['CC_10'][:] = cc_1_128_10.iloc[7]\n",
    "df2.loc[(128,9)]['CC_10'][:] = cc_1_128_10.iloc[8]\n",
    "df2.loc[(128,10)]['CC_10'][:] = cc_1_128_10.iloc[9]"
   ]
  },
  {
   "cell_type": "code",
   "execution_count": 84,
   "id": "25a16e70",
   "metadata": {},
   "outputs": [],
   "source": [
    "df2.loc[(256,1)]['CC_10'][:] = cc_1_256_10.iloc[0]\n",
    "df2.loc[(256,2)]['CC_10'][:] = cc_1_256_10.iloc[1]\n",
    "df2.loc[(256,3)]['CC_10'][:] = cc_1_256_10.iloc[2]\n",
    "df2.loc[(256,4)]['CC_10'][:] = cc_1_256_10.iloc[3]\n",
    "df2.loc[(256,5)]['CC_10'][:] = cc_1_256_10.iloc[4]\n",
    "df2.loc[(256,6)]['CC_10'][:] = cc_1_256_10.iloc[5]\n",
    "df2.loc[(256,7)]['CC_10'][:] = cc_1_256_10.iloc[6]\n",
    "df2.loc[(256,8)]['CC_10'][:] = cc_1_256_10.iloc[7]\n",
    "df2.loc[(256,9)]['CC_10'][:] = cc_1_256_10.iloc[8]\n",
    "df2.loc[(256,10)]['CC_10'][:] = cc_1_256_10.iloc[9]"
   ]
  },
  {
   "cell_type": "code",
   "execution_count": null,
   "id": "075507e4",
   "metadata": {},
   "outputs": [],
   "source": []
  },
  {
   "cell_type": "code",
   "execution_count": 85,
   "id": "121d99f4",
   "metadata": {},
   "outputs": [],
   "source": [
    "df2.loc[(2,1)]['CC_20'][:] = cc_1_2_20.iloc[0]\n",
    "df2.loc[(2,2)]['CC_20'][:] = cc_1_2_20.iloc[1]\n",
    "df2.loc[(2,3)]['CC_20'][:] = cc_1_2_20.iloc[2]\n",
    "df2.loc[(2,4)]['CC_20'][:] = cc_1_2_20.iloc[3]\n",
    "df2.loc[(2,5)]['CC_20'][:] = cc_1_2_20.iloc[4]\n",
    "df2.loc[(2,6)]['CC_20'][:] = cc_1_2_20.iloc[5]\n",
    "df2.loc[(2,7)]['CC_20'][:] = cc_1_2_20.iloc[6]\n",
    "df2.loc[(2,8)]['CC_20'][:] = cc_1_2_20.iloc[7]\n",
    "df2.loc[(2,9)]['CC_20'][:] = cc_1_2_20.iloc[8]\n",
    "df2.loc[(2,10)]['CC_20'][:] = cc_1_2_20.iloc[9]"
   ]
  },
  {
   "cell_type": "code",
   "execution_count": 86,
   "id": "df7d15a5",
   "metadata": {},
   "outputs": [],
   "source": [
    "df2.loc[(4,1)]['CC_20'][:] = cc_1_4_20.iloc[0]\n",
    "df2.loc[(4,2)]['CC_20'][:] = cc_1_4_20.iloc[1]\n",
    "df2.loc[(4,3)]['CC_20'][:] = cc_1_4_20.iloc[2]\n",
    "df2.loc[(4,4)]['CC_20'][:] = cc_1_4_20.iloc[3]\n",
    "df2.loc[(4,5)]['CC_20'][:] = cc_1_4_20.iloc[4]\n",
    "df2.loc[(4,6)]['CC_20'][:] = cc_1_4_20.iloc[5]\n",
    "df2.loc[(4,7)]['CC_20'][:] = cc_1_4_20.iloc[6]\n",
    "df2.loc[(4,8)]['CC_20'][:] = cc_1_4_20.iloc[7]\n",
    "df2.loc[(4,9)]['CC_20'][:] = cc_1_4_20.iloc[8]\n",
    "df2.loc[(4,10)]['CC_20'][:] = cc_1_4_20.iloc[9]"
   ]
  },
  {
   "cell_type": "code",
   "execution_count": 87,
   "id": "ae1d38b2",
   "metadata": {},
   "outputs": [],
   "source": [
    "df2.loc[(8,1)]['CC_20'][:] = cc_1_8_20.iloc[0]\n",
    "df2.loc[(8,2)]['CC_20'][:] = cc_1_8_20.iloc[1]\n",
    "df2.loc[(8,3)]['CC_20'][:] = cc_1_8_20.iloc[2]\n",
    "df2.loc[(8,4)]['CC_20'][:] = cc_1_8_20.iloc[3]\n",
    "df2.loc[(8,5)]['CC_20'][:] = cc_1_8_20.iloc[4]\n",
    "df2.loc[(8,6)]['CC_20'][:] = cc_1_8_20.iloc[5]\n",
    "df2.loc[(8,7)]['CC_20'][:] = cc_1_8_20.iloc[6]\n",
    "df2.loc[(8,8)]['CC_20'][:] = cc_1_8_20.iloc[7]\n",
    "df2.loc[(8,9)]['CC_20'][:] = cc_1_8_20.iloc[8]\n",
    "df2.loc[(8,10)]['CC_20'][:] = cc_1_8_20.iloc[9]"
   ]
  },
  {
   "cell_type": "code",
   "execution_count": 88,
   "id": "0b52edf6",
   "metadata": {},
   "outputs": [],
   "source": [
    "df2.loc[(16,1)]['CC_20'][:] = cc_1_16_20.iloc[0]\n",
    "df2.loc[(16,2)]['CC_20'][:] = cc_1_16_20.iloc[1]\n",
    "df2.loc[(16,3)]['CC_20'][:] = cc_1_16_20.iloc[2]\n",
    "df2.loc[(16,4)]['CC_20'][:] = cc_1_16_20.iloc[3]\n",
    "df2.loc[(16,5)]['CC_20'][:] = cc_1_16_20.iloc[4]\n",
    "df2.loc[(16,6)]['CC_20'][:] = cc_1_16_20.iloc[5]\n",
    "df2.loc[(16,7)]['CC_20'][:] = cc_1_16_20.iloc[6]\n",
    "df2.loc[(16,8)]['CC_20'][:] = cc_1_16_20.iloc[7]\n",
    "df2.loc[(16,9)]['CC_20'][:] = cc_1_16_20.iloc[8]\n",
    "df2.loc[(16,10)]['CC_20'][:] = cc_1_16_20.iloc[9]"
   ]
  },
  {
   "cell_type": "code",
   "execution_count": 89,
   "id": "aa0e2edc",
   "metadata": {},
   "outputs": [],
   "source": [
    "df2.loc[(32,1)]['CC_20'][:] = cc_1_32_20.iloc[0]\n",
    "df2.loc[(32,2)]['CC_20'][:] = cc_1_32_20.iloc[1]\n",
    "df2.loc[(32,3)]['CC_20'][:] = cc_1_32_20.iloc[2]\n",
    "df2.loc[(32,4)]['CC_20'][:] = cc_1_32_20.iloc[3]\n",
    "df2.loc[(32,5)]['CC_20'][:] = cc_1_32_20.iloc[4]\n",
    "df2.loc[(32,6)]['CC_20'][:] = cc_1_32_20.iloc[5]\n",
    "df2.loc[(32,7)]['CC_20'][:] = cc_1_32_20.iloc[6]\n",
    "df2.loc[(32,8)]['CC_20'][:] = cc_1_32_20.iloc[7]\n",
    "df2.loc[(32,9)]['CC_20'][:] = cc_1_32_20.iloc[8]\n",
    "df2.loc[(32,10)]['CC_20'][:] = cc_1_32_20.iloc[9]"
   ]
  },
  {
   "cell_type": "code",
   "execution_count": 90,
   "id": "b4a0e3d7",
   "metadata": {},
   "outputs": [],
   "source": [
    "df2.loc[(64,1)]['CC_20'][:] = cc_1_64_20.iloc[0]\n",
    "df2.loc[(64,2)]['CC_20'][:] = cc_1_64_20.iloc[1]\n",
    "df2.loc[(64,3)]['CC_20'][:] = cc_1_64_20.iloc[2]\n",
    "df2.loc[(64,4)]['CC_20'][:] = cc_1_64_20.iloc[3]\n",
    "df2.loc[(64,5)]['CC_20'][:] = cc_1_64_20.iloc[4]\n",
    "df2.loc[(64,6)]['CC_20'][:] = cc_1_64_20.iloc[5]\n",
    "df2.loc[(64,7)]['CC_20'][:] = cc_1_64_20.iloc[6]\n",
    "df2.loc[(64,8)]['CC_20'][:] = cc_1_64_20.iloc[7]\n",
    "df2.loc[(64,9)]['CC_20'][:] = cc_1_64_20.iloc[8]\n",
    "df2.loc[(64,10)]['CC_20'][:] = cc_1_64_20.iloc[9]"
   ]
  },
  {
   "cell_type": "code",
   "execution_count": 91,
   "id": "0019e085",
   "metadata": {},
   "outputs": [],
   "source": [
    "df2.loc[(128,1)]['CC_20'][:] = cc_1_128_20.iloc[0]\n",
    "df2.loc[(128,2)]['CC_20'][:] = cc_1_128_20.iloc[1]\n",
    "df2.loc[(128,3)]['CC_20'][:] = cc_1_128_20.iloc[2]\n",
    "df2.loc[(128,4)]['CC_20'][:] = cc_1_128_20.iloc[3]\n",
    "df2.loc[(128,5)]['CC_20'][:] = cc_1_128_20.iloc[4]\n",
    "df2.loc[(128,6)]['CC_20'][:] = cc_1_128_20.iloc[5]\n",
    "df2.loc[(128,7)]['CC_20'][:] = cc_1_128_20.iloc[6]\n",
    "df2.loc[(128,8)]['CC_20'][:] = cc_1_128_20.iloc[7]\n",
    "df2.loc[(128,9)]['CC_20'][:] = cc_1_128_20.iloc[8]\n",
    "df2.loc[(128,10)]['CC_20'][:] = cc_1_128_20.iloc[9]"
   ]
  },
  {
   "cell_type": "code",
   "execution_count": 92,
   "id": "208ef0c3",
   "metadata": {},
   "outputs": [],
   "source": [
    "df2.loc[(256,1)]['CC_20'][:] = cc_1_256_20.iloc[0]\n",
    "df2.loc[(256,2)]['CC_20'][:] = cc_1_256_20.iloc[1]\n",
    "df2.loc[(256,3)]['CC_20'][:] = cc_1_256_20.iloc[2]\n",
    "df2.loc[(256,4)]['CC_20'][:] = cc_1_256_20.iloc[3]\n",
    "df2.loc[(256,5)]['CC_20'][:] = cc_1_256_20.iloc[4]\n",
    "df2.loc[(256,6)]['CC_20'][:] = cc_1_256_20.iloc[5]\n",
    "df2.loc[(256,7)]['CC_20'][:] = cc_1_256_20.iloc[6]\n",
    "df2.loc[(256,8)]['CC_20'][:] = cc_1_256_20.iloc[7]\n",
    "df2.loc[(256,9)]['CC_20'][:] = cc_1_256_20.iloc[8]\n",
    "df2.loc[(256,10)]['CC_20'][:] = cc_1_256_20.iloc[9]"
   ]
  },
  {
   "cell_type": "code",
   "execution_count": null,
   "id": "f301ab0b",
   "metadata": {},
   "outputs": [],
   "source": []
  },
  {
   "cell_type": "code",
   "execution_count": 93,
   "id": "86379a5e",
   "metadata": {},
   "outputs": [],
   "source": [
    "df2.loc[(2,1)]['CC_50'][:] = cc_1_2_50.iloc[0]\n",
    "df2.loc[(2,2)]['CC_50'][:] = cc_1_2_50.iloc[1]\n",
    "df2.loc[(2,3)]['CC_50'][:] = cc_1_2_50.iloc[2]\n",
    "df2.loc[(2,4)]['CC_50'][:] = cc_1_2_50.iloc[3]\n",
    "df2.loc[(2,5)]['CC_50'][:] = cc_1_2_50.iloc[4]\n",
    "df2.loc[(2,6)]['CC_50'][:] = cc_1_2_50.iloc[5]\n",
    "df2.loc[(2,7)]['CC_50'][:] = cc_1_2_50.iloc[6]\n",
    "df2.loc[(2,8)]['CC_50'][:] = cc_1_2_50.iloc[7]\n",
    "df2.loc[(2,9)]['CC_50'][:] = cc_1_2_50.iloc[8]\n",
    "df2.loc[(2,10)]['CC_50'][:] = cc_1_2_50.iloc[9]"
   ]
  },
  {
   "cell_type": "code",
   "execution_count": 94,
   "id": "c303e548",
   "metadata": {},
   "outputs": [],
   "source": [
    "df2.loc[(4,1)]['CC_50'][:] = cc_1_4_50.iloc[0]\n",
    "df2.loc[(4,2)]['CC_50'][:] = cc_1_4_50.iloc[1]\n",
    "df2.loc[(4,3)]['CC_50'][:] = cc_1_4_50.iloc[2]\n",
    "df2.loc[(4,4)]['CC_50'][:] = cc_1_4_50.iloc[3]\n",
    "df2.loc[(4,5)]['CC_50'][:] = cc_1_4_50.iloc[4]\n",
    "df2.loc[(4,6)]['CC_50'][:] = cc_1_4_50.iloc[5]\n",
    "df2.loc[(4,7)]['CC_50'][:] = cc_1_4_50.iloc[6]\n",
    "df2.loc[(4,8)]['CC_50'][:] = cc_1_4_50.iloc[7]\n",
    "df2.loc[(4,9)]['CC_50'][:] = cc_1_4_50.iloc[8]\n",
    "df2.loc[(4,10)]['CC_50'][:] = cc_1_4_50.iloc[9]"
   ]
  },
  {
   "cell_type": "code",
   "execution_count": 95,
   "id": "e550f4fb",
   "metadata": {},
   "outputs": [],
   "source": [
    "df2.loc[(8,1)]['CC_50'][:] = cc_1_8_50.iloc[0]\n",
    "df2.loc[(8,2)]['CC_50'][:] = cc_1_8_50.iloc[1]\n",
    "df2.loc[(8,3)]['CC_50'][:] = cc_1_8_50.iloc[2]\n",
    "df2.loc[(8,4)]['CC_50'][:] = cc_1_8_50.iloc[3]\n",
    "df2.loc[(8,5)]['CC_50'][:] = cc_1_8_50.iloc[4]\n",
    "df2.loc[(8,6)]['CC_50'][:] = cc_1_8_50.iloc[5]\n",
    "df2.loc[(8,7)]['CC_50'][:] = cc_1_8_50.iloc[6]\n",
    "df2.loc[(8,8)]['CC_50'][:] = cc_1_8_50.iloc[7]\n",
    "df2.loc[(8,9)]['CC_50'][:] = cc_1_8_50.iloc[8]\n",
    "df2.loc[(8,10)]['CC_50'][:] = cc_1_8_50.iloc[9]"
   ]
  },
  {
   "cell_type": "code",
   "execution_count": 96,
   "id": "7b3a8369",
   "metadata": {},
   "outputs": [],
   "source": [
    "df2.loc[(16,1)]['CC_50'][:] = cc_1_16_50.iloc[0]\n",
    "df2.loc[(16,2)]['CC_50'][:] = cc_1_16_50.iloc[1]\n",
    "df2.loc[(16,3)]['CC_50'][:] = cc_1_16_50.iloc[2]\n",
    "df2.loc[(16,4)]['CC_50'][:] = cc_1_16_50.iloc[3]\n",
    "df2.loc[(16,5)]['CC_50'][:] = cc_1_16_50.iloc[4]\n",
    "df2.loc[(16,6)]['CC_50'][:] = cc_1_16_50.iloc[5]\n",
    "df2.loc[(16,7)]['CC_50'][:] = cc_1_16_50.iloc[6]\n",
    "df2.loc[(16,8)]['CC_50'][:] = cc_1_16_50.iloc[7]\n",
    "df2.loc[(16,9)]['CC_50'][:] = cc_1_16_50.iloc[8]\n",
    "df2.loc[(16,10)]['CC_50'][:] = cc_1_16_50.iloc[9]"
   ]
  },
  {
   "cell_type": "code",
   "execution_count": 97,
   "id": "98558048",
   "metadata": {},
   "outputs": [],
   "source": [
    "df2.loc[(32,1)]['CC_50'][:] = cc_1_32_50.iloc[0]\n",
    "df2.loc[(32,2)]['CC_50'][:] = cc_1_32_50.iloc[1]\n",
    "df2.loc[(32,3)]['CC_50'][:] = cc_1_32_50.iloc[2]\n",
    "df2.loc[(32,4)]['CC_50'][:] = cc_1_32_50.iloc[3]\n",
    "df2.loc[(32,5)]['CC_50'][:] = cc_1_32_50.iloc[4]\n",
    "df2.loc[(32,6)]['CC_50'][:] = cc_1_32_50.iloc[5]\n",
    "df2.loc[(32,7)]['CC_50'][:] = cc_1_32_50.iloc[6]\n",
    "df2.loc[(32,8)]['CC_50'][:] = cc_1_32_50.iloc[7]\n",
    "df2.loc[(32,9)]['CC_50'][:] = cc_1_32_50.iloc[8]\n",
    "df2.loc[(32,10)]['CC_50'][:] = cc_1_32_50.iloc[9]"
   ]
  },
  {
   "cell_type": "code",
   "execution_count": 98,
   "id": "ccf36b3f",
   "metadata": {},
   "outputs": [],
   "source": [
    "df2.loc[(64,1)]['CC_50'][:] = cc_1_64_50.iloc[0]\n",
    "df2.loc[(64,2)]['CC_50'][:] = cc_1_64_50.iloc[1]\n",
    "df2.loc[(64,3)]['CC_50'][:] = cc_1_64_50.iloc[2]\n",
    "df2.loc[(64,4)]['CC_50'][:] = cc_1_64_50.iloc[3]\n",
    "df2.loc[(64,5)]['CC_50'][:] = cc_1_64_50.iloc[4]\n",
    "df2.loc[(64,6)]['CC_50'][:] = cc_1_64_50.iloc[5]\n",
    "df2.loc[(64,7)]['CC_50'][:] = cc_1_64_50.iloc[6]\n",
    "df2.loc[(64,8)]['CC_50'][:] = cc_1_64_50.iloc[7]\n",
    "df2.loc[(64,9)]['CC_50'][:] = cc_1_64_50.iloc[8]\n",
    "df2.loc[(64,10)]['CC_50'][:] = cc_1_64_50.iloc[9]"
   ]
  },
  {
   "cell_type": "code",
   "execution_count": 99,
   "id": "85440cc6",
   "metadata": {},
   "outputs": [],
   "source": [
    "df2.loc[(128,1)]['CC_50'][:] = cc_1_128_50.iloc[0]\n",
    "df2.loc[(128,2)]['CC_50'][:] = cc_1_128_50.iloc[1]\n",
    "df2.loc[(128,3)]['CC_50'][:] = cc_1_128_50.iloc[2]\n",
    "df2.loc[(128,4)]['CC_50'][:] = cc_1_128_50.iloc[3]\n",
    "df2.loc[(128,5)]['CC_50'][:] = cc_1_128_50.iloc[4]\n",
    "df2.loc[(128,6)]['CC_50'][:] = cc_1_128_50.iloc[5]\n",
    "df2.loc[(128,7)]['CC_50'][:] = cc_1_128_50.iloc[6]\n",
    "df2.loc[(128,8)]['CC_50'][:] = cc_1_128_50.iloc[7]\n",
    "df2.loc[(128,9)]['CC_50'][:] = cc_1_128_50.iloc[8]\n",
    "df2.loc[(128,10)]['CC_50'][:] = cc_1_128_50.iloc[9]"
   ]
  },
  {
   "cell_type": "code",
   "execution_count": 100,
   "id": "fb3be473",
   "metadata": {},
   "outputs": [],
   "source": [
    "df2.loc[(256,1)]['CC_50'][:] = cc_1_256_50.iloc[0]\n",
    "df2.loc[(256,2)]['CC_50'][:] = cc_1_256_50.iloc[1]\n",
    "df2.loc[(256,3)]['CC_50'][:] = cc_1_256_50.iloc[2]\n",
    "df2.loc[(256,4)]['CC_50'][:] = cc_1_256_50.iloc[3]\n",
    "df2.loc[(256,5)]['CC_50'][:] = cc_1_256_50.iloc[4]\n",
    "df2.loc[(256,6)]['CC_50'][:] = cc_1_256_50.iloc[5]\n",
    "df2.loc[(256,7)]['CC_50'][:] = cc_1_256_50.iloc[6]\n",
    "df2.loc[(256,8)]['CC_50'][:] = cc_1_256_50.iloc[7]\n",
    "df2.loc[(256,9)]['CC_50'][:] = cc_1_256_50.iloc[8]\n",
    "df2.loc[(256,10)]['CC_50'][:] = cc_1_256_50.iloc[9]"
   ]
  },
  {
   "cell_type": "markdown",
   "id": "1796514d",
   "metadata": {},
   "source": [
    "Save the dataframe"
   ]
  },
  {
   "cell_type": "code",
   "execution_count": 101,
   "id": "57c6183f",
   "metadata": {},
   "outputs": [
    {
     "data": {
      "text/html": [
       "<div>\n",
       "<style scoped>\n",
       "    .dataframe tbody tr th:only-of-type {\n",
       "        vertical-align: middle;\n",
       "    }\n",
       "\n",
       "    .dataframe tbody tr th {\n",
       "        vertical-align: top;\n",
       "    }\n",
       "\n",
       "    .dataframe thead th {\n",
       "        text-align: right;\n",
       "    }\n",
       "</style>\n",
       "<table border=\"1\" class=\"dataframe\">\n",
       "  <thead>\n",
       "    <tr style=\"text-align: right;\">\n",
       "      <th></th>\n",
       "      <th></th>\n",
       "      <th></th>\n",
       "      <th>CV</th>\n",
       "      <th>FR</th>\n",
       "      <th>CC_5</th>\n",
       "      <th>CC_10</th>\n",
       "      <th>CC_20</th>\n",
       "      <th>CC_50</th>\n",
       "    </tr>\n",
       "  </thead>\n",
       "  <tbody>\n",
       "    <tr>\n",
       "      <th rowspan=\"5\" valign=\"top\">2</th>\n",
       "      <th rowspan=\"5\" valign=\"top\">1</th>\n",
       "      <th>0</th>\n",
       "      <td>0.176262</td>\n",
       "      <td>0.0325 1/ms</td>\n",
       "      <td>0.022812</td>\n",
       "      <td>0.038135</td>\n",
       "      <td>0.066177</td>\n",
       "      <td>-0.026174</td>\n",
       "    </tr>\n",
       "    <tr>\n",
       "      <th>1</th>\n",
       "      <td>0.177784</td>\n",
       "      <td>0.0324 1/ms</td>\n",
       "      <td>-0.004292</td>\n",
       "      <td>-0.019779</td>\n",
       "      <td>-0.005685</td>\n",
       "      <td>0.065774</td>\n",
       "    </tr>\n",
       "    <tr>\n",
       "      <th>2</th>\n",
       "      <td>0.182037</td>\n",
       "      <td>0.0324 1/ms</td>\n",
       "      <td>-0.032714</td>\n",
       "      <td>-0.085546</td>\n",
       "      <td>-0.099031</td>\n",
       "      <td>-0.026174</td>\n",
       "    </tr>\n",
       "    <tr>\n",
       "      <th>3</th>\n",
       "      <td>0.179802</td>\n",
       "      <td>0.0321 1/ms</td>\n",
       "      <td>0.026304</td>\n",
       "      <td>-0.002609</td>\n",
       "      <td>-0.018727</td>\n",
       "      <td>-0.036038</td>\n",
       "    </tr>\n",
       "    <tr>\n",
       "      <th>4</th>\n",
       "      <td>0.181406</td>\n",
       "      <td>0.0325 1/ms</td>\n",
       "      <td>-0.049676</td>\n",
       "      <td>-0.072938</td>\n",
       "      <td>-0.059902</td>\n",
       "      <td>0.002498</td>\n",
       "    </tr>\n",
       "    <tr>\n",
       "      <th>...</th>\n",
       "      <th>...</th>\n",
       "      <th>...</th>\n",
       "      <td>...</td>\n",
       "      <td>...</td>\n",
       "      <td>...</td>\n",
       "      <td>...</td>\n",
       "      <td>...</td>\n",
       "      <td>...</td>\n",
       "    </tr>\n",
       "    <tr>\n",
       "      <th rowspan=\"5\" valign=\"top\">256</th>\n",
       "      <th rowspan=\"5\" valign=\"top\">10</th>\n",
       "      <th>9995</th>\n",
       "      <td>0.16278</td>\n",
       "      <td>0.0323 1/ms</td>\n",
       "      <td>0.010483</td>\n",
       "      <td>-0.019193</td>\n",
       "      <td>-0.039419</td>\n",
       "      <td>-0.024806</td>\n",
       "    </tr>\n",
       "    <tr>\n",
       "      <th>9996</th>\n",
       "      <td>0.188127</td>\n",
       "      <td>0.0319 1/ms</td>\n",
       "      <td>0.015987</td>\n",
       "      <td>0.017055</td>\n",
       "      <td>0.08348</td>\n",
       "      <td>0.099277</td>\n",
       "    </tr>\n",
       "    <tr>\n",
       "      <th>9997</th>\n",
       "      <td>0.195896</td>\n",
       "      <td>0.0322 1/ms</td>\n",
       "      <td>0.031881</td>\n",
       "      <td>0.015545</td>\n",
       "      <td>0.007319</td>\n",
       "      <td>0.061448</td>\n",
       "    </tr>\n",
       "    <tr>\n",
       "      <th>9998</th>\n",
       "      <td>0.174652</td>\n",
       "      <td>0.0323 1/ms</td>\n",
       "      <td>0.001987</td>\n",
       "      <td>0.014029</td>\n",
       "      <td>0.019055</td>\n",
       "      <td>0.050453</td>\n",
       "    </tr>\n",
       "    <tr>\n",
       "      <th>9999</th>\n",
       "      <td>0.172298</td>\n",
       "      <td>0.0316 1/ms</td>\n",
       "      <td>-0.015566</td>\n",
       "      <td>-0.047835</td>\n",
       "      <td>-0.072414</td>\n",
       "      <td>-0.057284</td>\n",
       "    </tr>\n",
       "  </tbody>\n",
       "</table>\n",
       "<p>800000 rows × 6 columns</p>\n",
       "</div>"
      ],
      "text/plain": [
       "                   CV           FR      CC_5     CC_10     CC_20     CC_50\n",
       "2   1  0     0.176262  0.0325 1/ms  0.022812  0.038135  0.066177 -0.026174\n",
       "       1     0.177784  0.0324 1/ms -0.004292 -0.019779 -0.005685  0.065774\n",
       "       2     0.182037  0.0324 1/ms -0.032714 -0.085546 -0.099031 -0.026174\n",
       "       3     0.179802  0.0321 1/ms  0.026304 -0.002609 -0.018727 -0.036038\n",
       "       4     0.181406  0.0325 1/ms -0.049676 -0.072938 -0.059902  0.002498\n",
       "...               ...          ...       ...       ...       ...       ...\n",
       "256 10 9995   0.16278  0.0323 1/ms  0.010483 -0.019193 -0.039419 -0.024806\n",
       "       9996  0.188127  0.0319 1/ms  0.015987  0.017055   0.08348  0.099277\n",
       "       9997  0.195896  0.0322 1/ms  0.031881  0.015545  0.007319  0.061448\n",
       "       9998  0.174652  0.0323 1/ms  0.001987  0.014029  0.019055  0.050453\n",
       "       9999  0.172298  0.0316 1/ms -0.015566 -0.047835 -0.072414 -0.057284\n",
       "\n",
       "[800000 rows x 6 columns]"
      ]
     },
     "execution_count": 101,
     "metadata": {},
     "output_type": "execute_result"
    }
   ],
   "source": [
    "df2"
   ]
  },
  {
   "cell_type": "code",
   "execution_count": 102,
   "id": "8ee8d376",
   "metadata": {},
   "outputs": [],
   "source": [
    "df2.to_pickle(r'{}\\semi_cont_brunel_df.pkl'.format('C:\\\\Users\\\\Nida\\\\Documents\\\\NMBU\\\\master\\\\organized_spike_data'))"
   ]
  },
  {
   "cell_type": "code",
   "execution_count": null,
   "id": "2a53a205",
   "metadata": {},
   "outputs": [],
   "source": []
  }
 ],
 "metadata": {
  "kernelspec": {
   "display_name": "Python 3",
   "language": "python",
   "name": "python3"
  },
  "language_info": {
   "codemirror_mode": {
    "name": "ipython",
    "version": 3
   },
   "file_extension": ".py",
   "mimetype": "text/x-python",
   "name": "python",
   "nbconvert_exporter": "python",
   "pygments_lexer": "ipython3",
   "version": "3.8.8"
  }
 },
 "nbformat": 4,
 "nbformat_minor": 5
}
