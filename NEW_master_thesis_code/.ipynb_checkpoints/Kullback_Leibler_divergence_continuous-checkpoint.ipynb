{
 "cells": [
  {
   "cell_type": "code",
   "execution_count": 120,
   "metadata": {},
   "outputs": [],
   "source": [
    "import numpy as np\n",
    "import pandas as pd\n",
    "import matplotlib.pyplot as plt\n",
    "import seaborn as sns\n",
    "import elephant\n",
    "import quantities as pq\n",
    "import neo\n",
    "import sys\n",
    "plt.rcParams['figure.figsize'] = (14, 10)\n",
    "import scipy.stats as stats\n",
    "import itertools\n",
    "import random"
   ]
  },
  {
   "cell_type": "markdown",
   "metadata": {},
   "source": [
    "# Kullback-Leibler divergence\n",
    "\n",
    "We want to examine the Kullback-Leilber divergence for comparing distributions. In this notebook we assume the distributions are continuous and not discrete. The divergence is calculated by approxmating a empirical cdf for the two distributions."
   ]
  },
  {
   "cell_type": "code",
   "execution_count": 134,
   "metadata": {},
   "outputs": [],
   "source": [
    "def ecdf(x,tot_min,tot_max):\n",
    "    x = np.sort(list(x)+[tot_min,tot_max])\n",
    "    u, c = np.unique(x, return_counts=True)\n",
    "    n = len(x)\n",
    "    y = (np.cumsum(c) - 0.5)/n\n",
    "    def interpolate_(x_):\n",
    "        yinterp = np.interp(x_, u, y, left=tot_min, right=tot_max)\n",
    "        return yinterp\n",
    "    return interpolate_\n",
    "\n",
    "def cumulative_kl(x,y,fraction=0.5): \n",
    "    dx = np.diff(np.sort(np.unique(x)))\n",
    "    dy = np.diff(np.sort(np.unique(y)))\n",
    "    ex = np.min(dx)\n",
    "    ey = np.min(dy)\n",
    "    e = np.min([ex,ey])*fraction\n",
    "    n = len(x)\n",
    "    # total max\n",
    "    max_x = max(x)\n",
    "    max_y = max(y)\n",
    "    tot_max = max(max_x,max_y)\n",
    "    # total min\n",
    "    min_x = min(x)\n",
    "    min_y = min(y)\n",
    "    tot_min = min(min_x, min_y)\n",
    "    # send tot_max and tot_min to interpolation limits\n",
    "    P = ecdf(x,tot_min,tot_max)\n",
    "    Q = ecdf(y,tot_min,tot_max)\n",
    "    \n",
    "    # machine epsilon\n",
    "    machine_eps = np.finfo('float').eps\n",
    "    summ = 0\n",
    "    for i in range(0,len(x)):\n",
    "        if(abs(Q(x[i])-Q(x[i]-e))>2*machine_eps):\n",
    "            summ += np.log((P(x[i]) - P(x[i]-e))/(Q(x[i]) - Q(x[i]-e)))\n",
    "        \n",
    "    KL = (1./n)*summ - 1\n",
    "    #KL = (1./n)*np.sum(np.log((P(x) - P(x-e))/(Q(x) - Q(x-e)))) - 1\n",
    "    return KL"
   ]
  },
  {
   "cell_type": "markdown",
   "metadata": {},
   "source": [
    "We get nan because the expression (P(x)-P(x-e))/(Q(x)-Q(x-e)) is not a real number. Must be division by 0. \n",
    "\n",
    "Checked for several of the values that got nan. Seems like we get 0/0. This means that P(x) and P(x-e) are the same. And Q(x) and Q(x-e) are the same. Seems like maybe we need to take bigger steps? To make sure we get different values? Or should i make the function not calculate the KL value for when Q(x) and Q(x-e) are equal? Changing the fraction does not help. That is equivalent to changing step size. Probably best to just avoid calculating KL when x and x-e gives same value for the distributions. Use an if-test."
   ]
  },
  {
   "cell_type": "code",
   "execution_count": 122,
   "metadata": {},
   "outputs": [],
   "source": [
    "# mock data\n",
    "# create 10 normal distributions with 10 000 numbers, mean 0 and standard deviation 1\n",
    "x = np.random.normal(0, 1, size=(10,10000))"
   ]
  },
  {
   "cell_type": "code",
   "execution_count": 135,
   "metadata": {},
   "outputs": [],
   "source": [
    "divs_cont = []\n",
    "for i in range(0,10):\n",
    "        for j in range(0,i):\n",
    "            kl = cumulative_kl(x[i],x[j],fraction=0.05)\n",
    "            divs_cont.append(kl)"
   ]
  },
  {
   "cell_type": "code",
   "execution_count": 136,
   "metadata": {},
   "outputs": [
    {
     "name": "stdout",
     "output_type": "stream",
     "text": [
      "maximum divergence:  0.02504486918149329  minimum divergence:  -0.016365528407618957\n"
     ]
    }
   ],
   "source": [
    "print('maximum divergence: ', max(divs_cont), ' minimum divergence: ',min(divs_cont))"
   ]
  },
  {
   "cell_type": "markdown",
   "metadata": {},
   "source": [
    "Try to run for our model."
   ]
  },
  {
   "cell_type": "code",
   "execution_count": 125,
   "metadata": {},
   "outputs": [],
   "source": [
    "def get_cvs(spike_data):\n",
    "    \"\"\"\n",
    "    Get the CV for each neuron recorded. \n",
    "    \n",
    "    CV = standard_deviation(ISIs)/mean(ISIs)\n",
    "    \"\"\"\n",
    "    cvs = []\n",
    "     \n",
    "    spike_data = spike_data.sort_values(by='time_ms')\n",
    "    grouped = spike_data.groupby(spike_data['sender'])\n",
    "\n",
    "    for name, group in grouped:\n",
    "            \"\"\"\n",
    "            Each group is senders and times for one value of senders. That is, we iterate through all \n",
    "            neurons. And the times for each neuron is in sorted order. Therefore, the cvs\n",
    "            returned must have the same order. So cvs contain cv of neuron 1, then neuron 2 .... then neuron N.\n",
    "            \"\"\"\n",
    "            t = np.asarray(group['time_ms'])\n",
    "            spiketrain = neo.core.SpikeTrain(t * pq.ms, t_start=0*pq.ms, t_stop=10000*pq.ms)\n",
    "            isi = elephant.statistics.isi(spiketrain)\n",
    "            cv = elephant.statistics.cv(isi)\n",
    "            cvs.append(cv)\n",
    "            \n",
    "    return cvs"
   ]
  },
  {
   "cell_type": "code",
   "execution_count": 126,
   "metadata": {},
   "outputs": [],
   "source": [
    "def get_cv_lists(exc, inh):\n",
    "    cv_list_exc = list()\n",
    "    for i in range(1,11):\n",
    "        exc_cvs = get_cvs(exc[i])\n",
    "        cv_list_exc.append(exc_cvs)\n",
    "\n",
    "    cv_list_inh = list()\n",
    "    for i in range(1,11):\n",
    "        inh_cvs = get_cvs(inh[i])\n",
    "        cv_list_inh.append(inh_cvs)\n",
    "    return cv_list_exc, cv_list_inh"
   ]
  },
  {
   "cell_type": "code",
   "execution_count": 127,
   "metadata": {},
   "outputs": [],
   "source": [
    "def round_1_2():\n",
    "    \"\"\"\n",
    "    Get spike data from brunel model with rounded spike times and delays drawn from discrete interval [1.0, 2.0].\n",
    "    \"\"\"\n",
    "    spike_path = '/opt/data/spike_data/brunel_10s/resolution_1_8/brunel_rounding_1_2'\n",
    "    exc = {}\n",
    "    for i in range(1,11):\n",
    "        exc[i] = pd.read_csv(r'{}/brunel_rounding_True_delay_1.0_2.0_seed_{}_spikes_exc-12502-0.dat'.format(spike_path, i),\n",
    "                             skiprows=2,sep='\\t')\n",
    "\n",
    "    inh = {}\n",
    "    for i in range(1,11):\n",
    "        inh[i] = pd.read_csv(r'{}/brunel_rounding_True_delay_1.0_2.0_seed_{}_spikes_inh-12503-0.dat'.format(spike_path, i),\n",
    "                             skiprows=2,sep='\\t')\n",
    "    return exc, inh"
   ]
  },
  {
   "cell_type": "code",
   "execution_count": 146,
   "metadata": {},
   "outputs": [],
   "source": [
    "def exact_1_2():\n",
    "    \"\"\"\n",
    "    Get spike data from brunel model with exact spike times and delays drawn form discrete interval [1.0, 2.0].\n",
    "    \"\"\"\n",
    "    spike_path = '/opt/data/spike_data/brunel_10s/resolution_1_8/brunel_exact_1_2'\n",
    "    exc = {}\n",
    "    for i in range(1,11):\n",
    "        exc[i] = pd.read_csv(r'{}/brunel_rounding_False_delay_1.0_2.0_seed_{}_spikes_exc-12502-0.dat'.format(spike_path, i),\n",
    "                             skiprows=2,sep='\\t')\n",
    "\n",
    "    inh = {}\n",
    "    for i in range(1,11):\n",
    "        inh[i] = pd.read_csv(r'{}/brunel_rounding_False_delay_1.0_2.0_seed_{}_spikes_inh-12503-0.dat'.format(spike_path, i),\n",
    "                             skiprows=2,sep='\\t')\n",
    "    return exc, inh"
   ]
  },
  {
   "cell_type": "code",
   "execution_count": 152,
   "metadata": {},
   "outputs": [],
   "source": [
    "def round_equal():\n",
    "    \"\"\"\n",
    "    Get spike data from brunel model with rounded spikes times and delay form interval [0.9375, 2.0625].\n",
    "    \"\"\"\n",
    "    spike_path = '/opt/data/spike_data/brunel_10s/resolution_1_8/brunel_rounding_0_9375_2_0625'\n",
    "    exc = {}\n",
    "    for i in range(1,11):\n",
    "        exc[i] = pd.read_csv(r'{}/brunel_rounding_True_delay_0.9375_2.0625_seed_{}_spikes_exc-12502-0.dat'.format(spike_path, i),\n",
    "                             skiprows=2,sep='\\t')\n",
    "\n",
    "    inh = {}\n",
    "    for i in range(1,11):\n",
    "        inh[i] = pd.read_csv(r'{}/brunel_rounding_True_delay_0.9375_2.0625_seed_{}_spikes_inh-12503-0.dat'.format(spike_path, i),\n",
    "                             skiprows=2,sep='\\t')\n",
    "        \n",
    "    return exc, inh"
   ]
  },
  {
   "cell_type": "code",
   "execution_count": 158,
   "metadata": {},
   "outputs": [],
   "source": [
    "def exact_equal():\n",
    "    \"\"\"\n",
    "    Get spike data from brunel with exact spike times and delays drawn from interval [0.9375, 2.0625].\n",
    "    \"\"\"\n",
    "    \n",
    "    spike_path = '/opt/data/spike_data/brunel_10s/resolution_1_8/brunel_exact_0_9375_2_0625'\n",
    "    exc = {}\n",
    "    for i in range(1,11):\n",
    "        exc[i] = pd.read_csv(r'{}/brunel_rounding_False_delay_0.9375_2.0625_seed_{}_spikes_exc-12502-0.dat'.format(spike_path, i),\n",
    "                             skiprows=2,sep='\\t')\n",
    "\n",
    "    inh = {}\n",
    "    for i in range(1,11):\n",
    "        inh[i] = pd.read_csv(r'{}/brunel_rounding_False_delay_0.9375_2.0625_seed_{}_spikes_inh-12503-0.dat'.format(spike_path, i),\n",
    "                             skiprows=2,sep='\\t')\n",
    "    \n",
    "    return exc, inh"
   ]
  },
  {
   "cell_type": "code",
   "execution_count": 164,
   "metadata": {},
   "outputs": [],
   "source": [
    "def continuous():\n",
    "    \"\"\"\n",
    "    Get spike data from brunel model with delay drawn from continuous interval [1.0, 2.0].\n",
    "    \"\"\"\n",
    "    spike_path = '/opt/data/spike_data/brunel_10s/resolution_1_8/brunel_continuous'\n",
    "    exc = {}\n",
    "    for i in range(1,11):\n",
    "        exc[i] = pd.read_csv(r'{}/brunel_continuous_delay_1.0_2.0_seed_{}_spikes_exc-12502-0.dat'.format(spike_path, i),\n",
    "                             skiprows=2,sep='\\t')\n",
    "\n",
    "    inh = {}\n",
    "    for i in range(1,11):\n",
    "        inh[i] = pd.read_csv(r'{}/brunel_continuous_delay_1.0_2.0_seed_{}_spikes_inh-12503-0.dat'.format(spike_path, i),\n",
    "                             skiprows=2,sep='\\t')\n",
    "    return exc, inh"
   ]
  },
  {
   "cell_type": "code",
   "execution_count": null,
   "metadata": {},
   "outputs": [],
   "source": [
    "def kl_exc(cv_list_exc):\n",
    "    divs_exc = []\n",
    "    for i in range(0,10):\n",
    "        for j in range(0,i):\n",
    "            kl = cumulative_kl(cv_list_exc[i],cv_list_exc[j],fraction=0.05)\n",
    "            divs_exc.append(kl)\n",
    "    return divs_exc"
   ]
  },
  {
   "cell_type": "code",
   "execution_count": null,
   "metadata": {},
   "outputs": [],
   "source": [
    "def kl_inh(cv_list_inh):\n",
    "    divs_inh = []\n",
    "    for i in range(0,10):\n",
    "        for j in range(0,i):\n",
    "            kl = cumulative_kl(cv_list_inh[i],cv_list_inh[j],fraction=0.05)\n",
    "            divs_inh.append(kl)\n",
    "    return divs_inh"
   ]
  },
  {
   "cell_type": "code",
   "execution_count": 128,
   "metadata": {},
   "outputs": [],
   "source": [
    "exc, inh = round_1_2()\n",
    "cv_list_exc, cv_list_inh = get_cv_lists(exc, inh)"
   ]
  },
  {
   "cell_type": "code",
   "execution_count": 129,
   "metadata": {},
   "outputs": [],
   "source": [
    "divs_exc = kl_exc(cv_list_exc)"
   ]
  },
  {
   "cell_type": "code",
   "execution_count": 130,
   "metadata": {},
   "outputs": [
    {
     "name": "stdout",
     "output_type": "stream",
     "text": [
      "maximum divergence:  0.01855551414294765  minimum divergence:  -1.0\n"
     ]
    }
   ],
   "source": [
    "print('maximum divergence: ',max(divs_exc), ' minimum divergence: ',min(divs_exc))"
   ]
  },
  {
   "cell_type": "code",
   "execution_count": 139,
   "metadata": {},
   "outputs": [],
   "source": [
    "divs_inh = kl_inh(cv_list_inh)"
   ]
  },
  {
   "cell_type": "code",
   "execution_count": 140,
   "metadata": {},
   "outputs": [
    {
     "name": "stdout",
     "output_type": "stream",
     "text": [
      "maximum divergence:  0.05101242915833204  minimum divergence:  -0.041698667928593\n"
     ]
    }
   ],
   "source": [
    "print('maximum divergence: ',max(divs_inh), ' minimum divergence: ',min(divs_inh))"
   ]
  },
  {
   "cell_type": "code",
   "execution_count": 147,
   "metadata": {},
   "outputs": [],
   "source": [
    "exc, inh = exact_1_2()\n",
    "cv_list_exc, cv_list_inh = get_cv_lists(exc, inh)"
   ]
  },
  {
   "cell_type": "code",
   "execution_count": 148,
   "metadata": {},
   "outputs": [],
   "source": [
    "divs_exc = kl_exc(cv_list_exc)\n",
    "divs_inh = kl_inh(cv_list_inh)"
   ]
  },
  {
   "cell_type": "code",
   "execution_count": 149,
   "metadata": {},
   "outputs": [
    {
     "name": "stdout",
     "output_type": "stream",
     "text": [
      "maximum divergence:  0.027617593000519802  minimum divergence:  -0.024542623883978654\n"
     ]
    }
   ],
   "source": [
    "print('maximum divergence: ',max(divs_exc), ' minimum divergence: ',min(divs_exc))"
   ]
  },
  {
   "cell_type": "code",
   "execution_count": 151,
   "metadata": {},
   "outputs": [
    {
     "name": "stdout",
     "output_type": "stream",
     "text": [
      "maximum divergence:  0.03934838356090076  minimum divergence:  -0.04916937039948899\n"
     ]
    }
   ],
   "source": [
    "print('maximum divergence: ',max(divs_inh), ' minimum divergence: ',min(divs_inh))"
   ]
  },
  {
   "cell_type": "code",
   "execution_count": 153,
   "metadata": {},
   "outputs": [],
   "source": [
    "exc, inh = round_equal()\n",
    "cv_list_exc, cv_list_inh = get_cv_lists(exc, inh)"
   ]
  },
  {
   "cell_type": "code",
   "execution_count": 154,
   "metadata": {},
   "outputs": [],
   "source": [
    "divs_exc = kl_exc(cv_list_exc)\n",
    "divs_inh = kl_inh(cv_list_inh)"
   ]
  },
  {
   "cell_type": "code",
   "execution_count": 155,
   "metadata": {},
   "outputs": [
    {
     "name": "stdout",
     "output_type": "stream",
     "text": [
      "maximum divergence:  0.03513629767312043  minimum divergence:  -0.01149237369570777\n"
     ]
    }
   ],
   "source": [
    "print('maximum divergence: ',max(divs_exc), ' minimum divergence: ',min(divs_exc))"
   ]
  },
  {
   "cell_type": "code",
   "execution_count": 157,
   "metadata": {},
   "outputs": [
    {
     "name": "stdout",
     "output_type": "stream",
     "text": [
      "maximum divergence:  0.0935087934178449  minimum divergence:  -0.04978267646032397\n"
     ]
    }
   ],
   "source": [
    "print('maximum divergence: ',max(divs_inh), ' minimum divergence: ',min(divs_inh))"
   ]
  },
  {
   "cell_type": "code",
   "execution_count": 159,
   "metadata": {},
   "outputs": [],
   "source": [
    "exc, inh = exact_equal()\n",
    "cv_list_exc, cv_list_inh = get_cv_lists(exc, inh)"
   ]
  },
  {
   "cell_type": "code",
   "execution_count": 160,
   "metadata": {},
   "outputs": [],
   "source": [
    "divs_exc = kl_exc(cv_list_exc)\n",
    "divs_inh = kl_inh(cv_list_inh)"
   ]
  },
  {
   "cell_type": "code",
   "execution_count": 161,
   "metadata": {},
   "outputs": [
    {
     "name": "stdout",
     "output_type": "stream",
     "text": [
      "maximum divergence:  0.03428116812996573  minimum divergence:  -0.030421088841530386\n"
     ]
    }
   ],
   "source": [
    "print('maximum divergence: ',max(divs_exc), ' minimum divergence: ',min(divs_exc))"
   ]
  },
  {
   "cell_type": "code",
   "execution_count": 163,
   "metadata": {},
   "outputs": [
    {
     "name": "stdout",
     "output_type": "stream",
     "text": [
      "maximum divergence:  0.029357994655753616  minimum divergence:  -0.04832184414944163\n"
     ]
    }
   ],
   "source": [
    "print('maximum divergence: ',max(divs_inh), ' minimum divergence: ',min(divs_inh))"
   ]
  },
  {
   "cell_type": "code",
   "execution_count": 165,
   "metadata": {},
   "outputs": [],
   "source": [
    "exc, inh = continuous()\n",
    "cv_list_exc, cv_list_inh = get_cv_lists(exc, inh)"
   ]
  },
  {
   "cell_type": "code",
   "execution_count": 166,
   "metadata": {},
   "outputs": [],
   "source": [
    "divs_exc = kl_exc(cv_list_exc)\n",
    "divs_inh = kl_inh(cv_list_inh)"
   ]
  },
  {
   "cell_type": "code",
   "execution_count": 167,
   "metadata": {},
   "outputs": [
    {
     "name": "stdout",
     "output_type": "stream",
     "text": [
      "maximum divergence:  0.023152588916305783  minimum divergence:  -0.026458547011706246\n"
     ]
    }
   ],
   "source": [
    "print('maximum divergence: ',max(divs_exc), ' minimum divergence: ',min(divs_exc))"
   ]
  },
  {
   "cell_type": "code",
   "execution_count": 169,
   "metadata": {},
   "outputs": [
    {
     "name": "stdout",
     "output_type": "stream",
     "text": [
      "maximum divergence:  0.05468343032925471  minimum divergence:  -0.052437066806510946\n"
     ]
    }
   ],
   "source": [
    "print('maximum divergence: ',max(divs_inh), ' minimum divergence: ',min(divs_inh))"
   ]
  },
  {
   "cell_type": "markdown",
   "metadata": {},
   "source": [
    "Get KL divergence for pairs of simulations from two different models. ROunded brunel 1 2 vs. exact brunel 1 2."
   ]
  },
  {
   "cell_type": "code",
   "execution_count": 170,
   "metadata": {},
   "outputs": [],
   "source": [
    "def kl_two(value_list_1,value_list_2):\n",
    "    comb = list(itertools.product(value_list_1, value_list_2))\n",
    "    kls = []\n",
    "    for i in range(0,len(comb)):\n",
    "        kl = cumulative_kl(comb[i][0],comb[i][1],fraction=0.5)\n",
    "        kls.append(kl)\n",
    "    return kls"
   ]
  },
  {
   "cell_type": "code",
   "execution_count": 171,
   "metadata": {},
   "outputs": [],
   "source": [
    "exc_1, inh_1 = round_1_2()\n",
    "exc_2, inh_2 = exact_1_2()\n",
    "cv_list_exc_1, cv_list_inh_1 = get_cv_lists(exc_1, inh_1)\n",
    "cv_list_exc_2, cv_list_inh_2 = get_cv_lists(exc_2, inh_2)"
   ]
  },
  {
   "cell_type": "code",
   "execution_count": 172,
   "metadata": {
    "scrolled": true
   },
   "outputs": [
    {
     "name": "stderr",
     "output_type": "stream",
     "text": [
      "<ipython-input-134-40914b6696e1>:35: RuntimeWarning: divide by zero encountered in log\n",
      "  summ += np.log((P(x[i]) - P(x[i]-e))/(Q(x[i]) - Q(x[i]-e)))\n"
     ]
    }
   ],
   "source": [
    "divs_exc = kl_two(cv_list_exc_1,cv_list_exc_2)\n",
    "divs_inh = kl_two(cv_list_inh_1, cv_list_inh_2)"
   ]
  },
  {
   "cell_type": "code",
   "execution_count": 173,
   "metadata": {},
   "outputs": [
    {
     "name": "stdout",
     "output_type": "stream",
     "text": [
      "excitatory. maximum divergence:  0.055429590209085555  minimum divergence:  -inf\n",
      "inhibitory. maximum divergence:  0.1358124108707801  minimum divergence:  -0.0325782539644176\n"
     ]
    }
   ],
   "source": [
    "print('excitatory. maximum divergence: ',max(divs_exc), ' minimum divergence: ',min(divs_exc))\n",
    "print('inhibitory. maximum divergence: ',max(divs_inh), ' minimum divergence: ',min(divs_inh))"
   ]
  },
  {
   "cell_type": "markdown",
   "metadata": {},
   "source": [
    "rounded 1 2 vs rounded equal."
   ]
  },
  {
   "cell_type": "code",
   "execution_count": 174,
   "metadata": {},
   "outputs": [],
   "source": [
    "exc_1, inh_1 = round_1_2()\n",
    "exc_2, inh_2 = round_equal()\n",
    "cv_list_exc_1, cv_list_inh_1 = get_cv_lists(exc_1, inh_1)\n",
    "cv_list_exc_2, cv_list_inh_2 = get_cv_lists(exc_2, inh_2)"
   ]
  },
  {
   "cell_type": "code",
   "execution_count": 175,
   "metadata": {},
   "outputs": [
    {
     "name": "stderr",
     "output_type": "stream",
     "text": [
      "<ipython-input-134-40914b6696e1>:35: RuntimeWarning: divide by zero encountered in log\n",
      "  summ += np.log((P(x[i]) - P(x[i]-e))/(Q(x[i]) - Q(x[i]-e)))\n"
     ]
    }
   ],
   "source": [
    "divs_exc = kl_two(cv_list_exc_1,cv_list_exc_2)\n",
    "divs_inh = kl_two(cv_list_inh_1, cv_list_inh_2)"
   ]
  },
  {
   "cell_type": "code",
   "execution_count": 176,
   "metadata": {},
   "outputs": [
    {
     "name": "stdout",
     "output_type": "stream",
     "text": [
      "excitatory. maximum divergence:  0.0278386859209252  minimum divergence:  -inf\n",
      "inhibitory. maximum divergence:  0.07328846072796935  minimum divergence:  -0.04468788007768798\n"
     ]
    }
   ],
   "source": [
    "print('excitatory. maximum divergence: ',max(divs_exc), ' minimum divergence: ',min(divs_exc))\n",
    "print('inhibitory. maximum divergence: ',max(divs_inh), ' minimum divergence: ',min(divs_inh))"
   ]
  },
  {
   "cell_type": "markdown",
   "metadata": {},
   "source": [
    "rounded 1 2 vs continuous."
   ]
  },
  {
   "cell_type": "code",
   "execution_count": 177,
   "metadata": {},
   "outputs": [],
   "source": [
    "exc_1, inh_1 = round_1_2()\n",
    "exc_2, inh_2 = continuous()\n",
    "cv_list_exc_1, cv_list_inh_1 = get_cv_lists(exc_1, inh_1)\n",
    "cv_list_exc_2, cv_list_inh_2 = get_cv_lists(exc_2, inh_2)"
   ]
  },
  {
   "cell_type": "code",
   "execution_count": 178,
   "metadata": {},
   "outputs": [
    {
     "name": "stderr",
     "output_type": "stream",
     "text": [
      "<ipython-input-134-40914b6696e1>:35: RuntimeWarning: divide by zero encountered in log\n",
      "  summ += np.log((P(x[i]) - P(x[i]-e))/(Q(x[i]) - Q(x[i]-e)))\n"
     ]
    }
   ],
   "source": [
    "divs_exc = kl_two(cv_list_exc_1,cv_list_exc_2)\n",
    "divs_inh = kl_two(cv_list_inh_1, cv_list_inh_2)"
   ]
  },
  {
   "cell_type": "code",
   "execution_count": 179,
   "metadata": {},
   "outputs": [
    {
     "name": "stdout",
     "output_type": "stream",
     "text": [
      "excitatory. maximum divergence:  0.04775505041079264  minimum divergence:  -inf\n",
      "inhibitory. maximum divergence:  0.09130765201817104  minimum divergence:  -0.026452315778836\n"
     ]
    }
   ],
   "source": [
    "print('excitatory. maximum divergence: ',max(divs_exc), ' minimum divergence: ',min(divs_exc))\n",
    "print('inhibitory. maximum divergence: ',max(divs_inh), ' minimum divergence: ',min(divs_inh))"
   ]
  },
  {
   "cell_type": "markdown",
   "metadata": {},
   "source": [
    "exact 1 2 vs. rounded equal."
   ]
  },
  {
   "cell_type": "code",
   "execution_count": 180,
   "metadata": {},
   "outputs": [],
   "source": [
    "exc_1, inh_1 = exact_1_2()\n",
    "exc_2, inh_2 = round_equal()\n",
    "cv_list_exc_1, cv_list_inh_1 = get_cv_lists(exc_1, inh_1)\n",
    "cv_list_exc_2, cv_list_inh_2 = get_cv_lists(exc_2, inh_2)"
   ]
  },
  {
   "cell_type": "code",
   "execution_count": 181,
   "metadata": {},
   "outputs": [],
   "source": [
    "divs_exc = kl_two(cv_list_exc_1,cv_list_exc_2)\n",
    "divs_inh = kl_two(cv_list_inh_1, cv_list_inh_2)"
   ]
  },
  {
   "cell_type": "code",
   "execution_count": 182,
   "metadata": {},
   "outputs": [
    {
     "name": "stdout",
     "output_type": "stream",
     "text": [
      "excitatory. maximum divergence:  0.06342852951778633  minimum divergence:  -0.004973798394649842\n",
      "inhibitory. maximum divergence:  0.094467690163764  minimum divergence:  -0.033973712103275266\n"
     ]
    }
   ],
   "source": [
    "print('excitatory. maximum divergence: ',max(divs_exc), ' minimum divergence: ',min(divs_exc))\n",
    "print('inhibitory. maximum divergence: ',max(divs_inh), ' minimum divergence: ',min(divs_inh))"
   ]
  },
  {
   "cell_type": "markdown",
   "metadata": {},
   "source": [
    "exact 1 2 vs. exact equal."
   ]
  },
  {
   "cell_type": "code",
   "execution_count": 183,
   "metadata": {},
   "outputs": [],
   "source": [
    "exc_1, inh_1 = exact_1_2()\n",
    "exc_2, inh_2 = exact_equal()\n",
    "cv_list_exc_1, cv_list_inh_1 = get_cv_lists(exc_1, inh_1)\n",
    "cv_list_exc_2, cv_list_inh_2 = get_cv_lists(exc_2, inh_2)"
   ]
  },
  {
   "cell_type": "code",
   "execution_count": 184,
   "metadata": {},
   "outputs": [],
   "source": [
    "divs_exc = kl_two(cv_list_exc_1,cv_list_exc_2)\n",
    "divs_inh = kl_two(cv_list_inh_1, cv_list_inh_2)"
   ]
  },
  {
   "cell_type": "code",
   "execution_count": 185,
   "metadata": {},
   "outputs": [
    {
     "name": "stdout",
     "output_type": "stream",
     "text": [
      "excitatory. maximum divergence:  0.02499044462861777  minimum divergence:  -0.042222354716549115\n",
      "inhibitory. maximum divergence:  0.049472135264158945  minimum divergence:  -0.049026359838325706\n"
     ]
    }
   ],
   "source": [
    "print('excitatory. maximum divergence: ',max(divs_exc), ' minimum divergence: ',min(divs_exc))\n",
    "print('inhibitory. maximum divergence: ',max(divs_inh), ' minimum divergence: ',min(divs_inh))"
   ]
  },
  {
   "cell_type": "markdown",
   "metadata": {},
   "source": [
    "exact 1 2 vs. continuous."
   ]
  },
  {
   "cell_type": "code",
   "execution_count": 186,
   "metadata": {},
   "outputs": [],
   "source": [
    "exc_1, inh_1 = exact_1_2()\n",
    "exc_2, inh_2 = continuous()\n",
    "cv_list_exc_1, cv_list_inh_1 = get_cv_lists(exc_1, inh_1)\n",
    "cv_list_exc_2, cv_list_inh_2 = get_cv_lists(exc_2, inh_2)"
   ]
  },
  {
   "cell_type": "code",
   "execution_count": 187,
   "metadata": {},
   "outputs": [],
   "source": [
    "divs_exc = kl_two(cv_list_exc_1,cv_list_exc_2)\n",
    "divs_inh = kl_two(cv_list_inh_1, cv_list_inh_2)"
   ]
  },
  {
   "cell_type": "code",
   "execution_count": 188,
   "metadata": {},
   "outputs": [
    {
     "name": "stdout",
     "output_type": "stream",
     "text": [
      "excitatory. maximum divergence:  0.01657146088296546  minimum divergence:  -0.033002130687459164\n",
      "inhibitory. maximum divergence:  0.048031796526020853  minimum divergence:  -0.05816838402889024\n"
     ]
    }
   ],
   "source": [
    "print('excitatory. maximum divergence: ',max(divs_exc), ' minimum divergence: ',min(divs_exc))\n",
    "print('inhibitory. maximum divergence: ',max(divs_inh), ' minimum divergence: ',min(divs_inh))"
   ]
  },
  {
   "cell_type": "markdown",
   "metadata": {},
   "source": [
    "rounded equal vs. exact equal."
   ]
  },
  {
   "cell_type": "code",
   "execution_count": 189,
   "metadata": {},
   "outputs": [],
   "source": [
    "exc_1, inh_1 = round_equal()\n",
    "exc_2, inh_2 = exact_equal()\n",
    "cv_list_exc_1, cv_list_inh_1 = get_cv_lists(exc_1, inh_1)\n",
    "cv_list_exc_2, cv_list_inh_2 = get_cv_lists(exc_2, inh_2)"
   ]
  },
  {
   "cell_type": "code",
   "execution_count": 190,
   "metadata": {},
   "outputs": [],
   "source": [
    "divs_exc = kl_two(cv_list_exc_1,cv_list_exc_2)\n",
    "divs_inh = kl_two(cv_list_inh_1, cv_list_inh_2)"
   ]
  },
  {
   "cell_type": "code",
   "execution_count": 191,
   "metadata": {},
   "outputs": [
    {
     "name": "stdout",
     "output_type": "stream",
     "text": [
      "excitatory. maximum divergence:  0.06232302153492708  minimum divergence:  -0.008841151869081743\n",
      "inhibitory. maximum divergence:  0.09377735151490518  minimum divergence:  -0.043450215601580466\n"
     ]
    }
   ],
   "source": [
    "print('excitatory. maximum divergence: ',max(divs_exc), ' minimum divergence: ',min(divs_exc))\n",
    "print('inhibitory. maximum divergence: ',max(divs_inh), ' minimum divergence: ',min(divs_inh))"
   ]
  },
  {
   "cell_type": "markdown",
   "metadata": {},
   "source": [
    "rounded equal vs. continuous."
   ]
  },
  {
   "cell_type": "code",
   "execution_count": 192,
   "metadata": {},
   "outputs": [],
   "source": [
    "exc_1, inh_1 = round_equal()\n",
    "exc_2, inh_2 = continuous()\n",
    "cv_list_exc_1, cv_list_inh_1 = get_cv_lists(exc_1, inh_1)\n",
    "cv_list_exc_2, cv_list_inh_2 = get_cv_lists(exc_2, inh_2)"
   ]
  },
  {
   "cell_type": "code",
   "execution_count": 193,
   "metadata": {},
   "outputs": [],
   "source": [
    "divs_exc = kl_two(cv_list_exc_1,cv_list_exc_2)\n",
    "divs_inh = kl_two(cv_list_inh_1, cv_list_inh_2)"
   ]
  },
  {
   "cell_type": "code",
   "execution_count": 194,
   "metadata": {},
   "outputs": [
    {
     "name": "stdout",
     "output_type": "stream",
     "text": [
      "excitatory. maximum divergence:  0.07606480159096396  minimum divergence:  -0.0009505656438955068\n",
      "inhibitory. maximum divergence:  0.10531530471182782  minimum divergence:  -0.027475317954597567\n"
     ]
    }
   ],
   "source": [
    "print('excitatory. maximum divergence: ',max(divs_exc), ' minimum divergence: ',min(divs_exc))\n",
    "print('inhibitory. maximum divergence: ',max(divs_inh), ' minimum divergence: ',min(divs_inh))"
   ]
  },
  {
   "cell_type": "markdown",
   "metadata": {},
   "source": [
    "exact equal vs. continouous."
   ]
  },
  {
   "cell_type": "code",
   "execution_count": 195,
   "metadata": {},
   "outputs": [],
   "source": [
    "exc_1, inh_1 = exact_equal()\n",
    "exc_2, inh_2 = continuous()\n",
    "cv_list_exc_1, cv_list_inh_1 = get_cv_lists(exc_1, inh_1)\n",
    "cv_list_exc_2, cv_list_inh_2 = get_cv_lists(exc_2, inh_2)"
   ]
  },
  {
   "cell_type": "code",
   "execution_count": 196,
   "metadata": {},
   "outputs": [],
   "source": [
    "divs_exc = kl_two(cv_list_exc_1,cv_list_exc_2)\n",
    "divs_inh = kl_two(cv_list_inh_1, cv_list_inh_2)"
   ]
  },
  {
   "cell_type": "code",
   "execution_count": 197,
   "metadata": {},
   "outputs": [
    {
     "name": "stdout",
     "output_type": "stream",
     "text": [
      "excitatory. maximum divergence:  0.04207257155742594  minimum divergence:  -0.035250438228043635\n",
      "inhibitory. maximum divergence:  0.04607618285871151  minimum divergence:  -0.06239310370713702\n"
     ]
    }
   ],
   "source": [
    "print('excitatory. maximum divergence: ',max(divs_exc), ' minimum divergence: ',min(divs_exc))\n",
    "print('inhibitory. maximum divergence: ',max(divs_inh), ' minimum divergence: ',min(divs_inh))"
   ]
  },
  {
   "cell_type": "code",
   "execution_count": null,
   "metadata": {},
   "outputs": [],
   "source": []
  }
 ],
 "metadata": {
  "kernelspec": {
   "display_name": "Python 3",
   "language": "python",
   "name": "python3"
  },
  "language_info": {
   "codemirror_mode": {
    "name": "ipython",
    "version": 3
   },
   "file_extension": ".py",
   "mimetype": "text/x-python",
   "name": "python",
   "nbconvert_exporter": "python",
   "pygments_lexer": "ipython3",
   "version": "3.8.10"
  }
 },
 "nbformat": 4,
 "nbformat_minor": 4
}
