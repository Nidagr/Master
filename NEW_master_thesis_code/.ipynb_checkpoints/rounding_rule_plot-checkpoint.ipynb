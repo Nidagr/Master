{
 "cells": [
  {
   "cell_type": "code",
   "execution_count": 54,
   "id": "fc9bc095",
   "metadata": {},
   "outputs": [],
   "source": [
    "import matplotlib.pyplot as plt\n",
    "plt.rcParams['figure.figsize'] = (14,10)\n",
    "import numpy as np"
   ]
  },
  {
   "cell_type": "markdown",
   "id": "da92440e",
   "metadata": {},
   "source": [
    "Want to plot the intervals for delay vlaues for the droop and the equal case resoltuion 1/8 interval [1.0,2.0]."
   ]
  },
  {
   "cell_type": "code",
   "execution_count": 113,
   "id": "2d600acf",
   "metadata": {},
   "outputs": [],
   "source": [
    "def draw_brace(ax, xspan, yy, text):\n",
    "    \"\"\"Draws an annotated brace on the axes.\"\"\"\n",
    "    xmin, xmax = xspan\n",
    "    xspan = xmax - xmin\n",
    "    ax_xmin, ax_xmax = ax.get_xlim()\n",
    "    xax_span = ax_xmax - ax_xmin\n",
    "    ymin, ymax = ax.get_ylim()\n",
    "    yspan = ymax - ymin\n",
    "    resolution = int(xspan/xax_span*100)*2+1 # guaranteed uneven\n",
    "    beta = 300./xax_span # the higher this is, the smaller the radius\n",
    "    x = np.linspace(xmin, xmax, resolution)\n",
    "    x_half = x[:int(resolution/2)+1]\n",
    "    y_half_brace = (1/(1.+np.exp(-beta*(x_half-x_half[0])))\n",
    "                    + 1/(1.+np.exp(-beta*(x_half-x_half[-1]))))\n",
    "    y = np.concatenate((y_half_brace, y_half_brace[-2::-1]))\n",
    "    y = yy + (.05*y - .01)*yspan # adjust vertical position\n",
    "    ax.autoscale(False)\n",
    "    ax.plot(x, y, color='red', lw=1)\n",
    "    ax.text((xmax+xmin)/2., yy+.07*yspan, text, ha='center', va='bottom')\n"
   ]
  },
  {
   "cell_type": "code",
   "execution_count": 114,
   "id": "3aca85c6",
   "metadata": {},
   "outputs": [],
   "source": [
    "fig_path = 'C:\\\\Users\\\\Nida\\\\Documents\\\\NMBU\\\\master\\\\Figures'"
   ]
  },
  {
   "cell_type": "code",
   "execution_count": 115,
   "id": "44c4a794",
   "metadata": {},
   "outputs": [],
   "source": [
    "cm = 1/2.54  # centimeters in inches\n",
    "plt.rcParams['figure.figsize'] = (10*cm,6*cm)"
   ]
  },
  {
   "cell_type": "code",
   "execution_count": 117,
   "id": "42d8ac57",
   "metadata": {},
   "outputs": [
    {
     "data": {
      "image/png": "[encoded data removed]",
      "text/plain": [
       "<Figure size 283.465x170.079 with 1 Axes>"
      ]
     },
     "metadata": {
      "needs_background": "light"
     },
     "output_type": "display_data"
    }
   ],
   "source": [
    "fig, ax = plt.subplots()\n",
    "l=2\n",
    "m=4\n",
    "xs = [1,1.125,1.25,1.375,1.5,1.625,1.75,1.875,2.0]\n",
    "ys = [0.8,0.8,0.8,0.8,0.8,0.8,0.8,0.8,0.8]\n",
    "ax.plot(xs,ys,'o-',linewidth=l,markersize=m)\n",
    "\n",
    "\n",
    "for x,y in zip(xs,ys):\n",
    "    label = \"{:.3f}\".format(x)\n",
    "    ax.annotate(label,(x,y),textcoords=\"offset points\", # how to position the text\n",
    "                 xytext=(0,-15), # distance from text to points (x,y)\n",
    "                 ha='center',fontsize=6)\n",
    "\n",
    "\n",
    "xs2 = [0.9375,1,1.125,1.25,1.375,1.5,1.625,1.75,1.875,2.0,2.0625]\n",
    "ys2 = [0.5,0.5,0.5,0.5,0.5,0.5,0.5,0.5,0.5,0.5,0.5]\n",
    "\n",
    "ax.plot(xs2,ys2,'g-',linewidth=l,markersize=m)\n",
    "ax.plot(xs,ys2[1:-1],'go',linewidth=l,markersize=m)\n",
    "for x,y in zip(xs2[1:-1],ys2[1:-1]):\n",
    "    label = \"{:.3f}\".format(x)\n",
    "    ax.annotate(label,(x,y),textcoords=\"offset points\", # how to position the text\n",
    "                 xytext=(0,-15), # distance from text to points (x,y)\n",
    "                 ha='center',fontsize=6)\n",
    "    \n",
    "ypos=0.525\n",
    "draw_brace(ax, (0.9375, 1.0625), ypos,'')\n",
    "draw_brace(ax, (1.0625,1.1875), ypos,'')\n",
    "draw_brace(ax, (1.1875,1.3125), ypos,'')\n",
    "draw_brace(ax, (1.3125,1.4375), ypos,'')\n",
    "draw_brace(ax, (1.4375,1.5625), ypos,'')\n",
    "draw_brace(ax, (1.5625,1.6875), ypos,'')\n",
    "draw_brace(ax, (1.6875,1.8125), ypos,'')\n",
    "draw_brace(ax, (1.8125,1.9375), ypos,'')\n",
    "draw_brace(ax, (1.9375,2.0625), ypos,'')\n",
    "\n",
    "ypos=0.825\n",
    "draw_brace(ax, (1.0, 1.0625), ypos,'')\n",
    "draw_brace(ax, (1.0625,1.1875), ypos,'')\n",
    "draw_brace(ax, (1.1875,1.3125), ypos,'')\n",
    "draw_brace(ax, (1.3125,1.4375), ypos,'')\n",
    "draw_brace(ax, (1.4375,1.5625), ypos,'')\n",
    "draw_brace(ax, (1.5625,1.6875), ypos,'')\n",
    "draw_brace(ax, (1.6875,1.8125), ypos,'')\n",
    "draw_brace(ax, (1.8125,1.9375), ypos,'')\n",
    "draw_brace(ax, (1.9375,2.0), ypos,'')\n",
    "\n",
    "\n",
    "plt.ylim(0.4,0.9);\n",
    "plt.axis('off')\n",
    "plt.savefig(r'{}\\rounding_rule.pdf'.format(fig_path),bbox_inches='tight')\n",
    "plt.show();"
   ]
  },
  {
   "cell_type": "code",
   "execution_count": null,
   "id": "fdc6ee11",
   "metadata": {},
   "outputs": [],
   "source": []
  }
 ],
 "metadata": {
  "kernelspec": {
   "display_name": "Python 3",
   "language": "python",
   "name": "python3"
  },
  "language_info": {
   "codemirror_mode": {
    "name": "ipython",
    "version": 3
   },
   "file_extension": ".py",
   "mimetype": "text/x-python",
   "name": "python",
   "nbconvert_exporter": "python",
   "pygments_lexer": "ipython3",
   "version": "3.8.8"
  }
 },
 "nbformat": 4,
 "nbformat_minor": 5
}
