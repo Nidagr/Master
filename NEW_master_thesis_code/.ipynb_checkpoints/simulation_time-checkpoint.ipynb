{
 "cells": [
  {
   "cell_type": "code",
   "execution_count": 1,
   "id": "d781fa9b",
   "metadata": {},
   "outputs": [],
   "source": [
    "import pandas as pd\n",
    "pd.set_option('display.max_columns', None)\n",
    "import matplotlib.pyplot as plt\n",
    "plt.rcParams['figure.figsize'] = (14, 10)\n",
    "import numpy as np"
   ]
  },
  {
   "cell_type": "markdown",
   "id": "78b15d4e",
   "metadata": {},
   "source": [
    "# Runtimes for the different models\n",
    "\n",
    "We want to take the runtime for the different models and resolutions into account when comparing the results. Here we retrieve the result.log files and read them into dataframes. \n",
    "\n",
    "## Brunel"
   ]
  },
  {
   "cell_type": "code",
   "execution_count": 2,
   "id": "ffd8f6f5",
   "metadata": {},
   "outputs": [],
   "source": [
    "brunel = 'C:\\\\Users\\\\Nida\\\\Documents\\\\NMBU\\\\master\\\\result_log_files_brunel'\n",
    "droop_1_2 = 'droop_res_1_2_result.log'\n",
    "droop_1_4 = 'droop_res_1_4_result.log'\n",
    "droop_1_8 = 'droop_res_1_8_result.log'\n",
    "droop_1_16 = 'droop_res_1_16_result.log'\n",
    "droop_1_32 = 'droop_res_1_32_result.log'\n",
    "droop_1_64 = 'droop_res_1_64_result.log'\n",
    "droop_1_128 = 'droop_res_1_128_result.log'\n",
    "droop_1_256 = 'droop_res_1_256_result.log'\n",
    "equal_1_2 = 'equal_res_1_2_result.log'\n",
    "equal_1_4 = 'equal_res_1_4_result.log'\n",
    "equal_1_8 = 'equal_res_1_8_result.log'\n",
    "equal_1_16 = 'equal_res_1_16_result.log'\n",
    "equal_1_32 = 'equal_res_1_32_result.log'\n",
    "equal_1_64 = 'equal_res_1_64_result.log'\n",
    "equal_1_128 = 'equal_res_1_128_result.log'\n",
    "equal_1_256 = 'equal_res_1_256_result.log'\n",
    "cont = 'cont_res_1_8_result.log'\n",
    "\n",
    "droop_paths = [droop_1_2, droop_1_4, droop_1_8, droop_1_16, droop_1_32, droop_1_64, droop_1_128, droop_1_256]\n",
    "equal_paths = [equal_1_2, equal_1_4, equal_1_8, equal_1_16, equal_1_32, equal_1_64, equal_1_128, equal_1_256]"
   ]
  },
  {
   "cell_type": "markdown",
   "id": "cd47416f",
   "metadata": {},
   "source": [
    "Can remove first column, last row, and make second column into values 1-10 as seed values."
   ]
  },
  {
   "cell_type": "code",
   "execution_count": 3,
   "id": "919e1555",
   "metadata": {},
   "outputs": [],
   "source": [
    "def format_result(path1,path2):\n",
    "    seed = [1,2,3,4,5,6,7,8,9,10]\n",
    "    df = pd.read_csv(r'{}\\{}'.format(path1,path2),skiprows=1)\n",
    "    df = df.iloc[:-1 , 2:]\n",
    "    df.index = seed\n",
    "    return df"
   ]
  },
  {
   "cell_type": "code",
   "execution_count": 4,
   "id": "57379710",
   "metadata": {},
   "outputs": [],
   "source": [
    "droop_dfs = []\n",
    "for d in droop_paths:\n",
    "    df = format_result(brunel,d)\n",
    "    droop_dfs.append(df)"
   ]
  },
  {
   "cell_type": "code",
   "execution_count": 5,
   "id": "41d508bd",
   "metadata": {},
   "outputs": [],
   "source": [
    "equal_dfs = []\n",
    "for d in equal_paths:\n",
    "    df = format_result(brunel,d)\n",
    "    equal_dfs.append(df)"
   ]
  },
  {
   "cell_type": "code",
   "execution_count": 6,
   "id": "f78ee897",
   "metadata": {},
   "outputs": [],
   "source": [
    "continuous = format_result(brunel,cont)"
   ]
  },
  {
   "cell_type": "markdown",
   "id": "e2a4cf4a",
   "metadata": {},
   "source": [
    "We get a runtime for each seed value, most interesting to look at a mean runtime for each resolution and model type, mean across the seed values. But also want the standard deviaiton for the sake of the visualization, so add for all seed values."
   ]
  },
  {
   "cell_type": "code",
   "execution_count": 17,
   "id": "50b257f7",
   "metadata": {},
   "outputs": [],
   "source": [
    "wall_time_droop = []\n",
    "py_time_droop = []\n",
    "\n",
    "for df in droop_dfs:\n",
    "    w = df['wall_time_sim']\n",
    "    p = df['py_time_simulate']\n",
    "    wall_time_droop.append(w)\n",
    "    py_time_droop.append(p)"
   ]
  },
  {
   "cell_type": "code",
   "execution_count": 19,
   "id": "0e65da5c",
   "metadata": {},
   "outputs": [],
   "source": [
    "wall_time_equal = []\n",
    "py_time_equal = []\n",
    "\n",
    "for df in equal_dfs:\n",
    "    w = df['wall_time_sim']\n",
    "    p = df['py_time_simulate']\n",
    "    wall_time_equal.append(w)\n",
    "    py_time_equal.append(p)"
   ]
  },
  {
   "cell_type": "code",
   "execution_count": 20,
   "id": "4ac4f721",
   "metadata": {},
   "outputs": [],
   "source": [
    "wall_time_cont = continuous['wall_time_sim']\n",
    "py_time_cont = continuous['py_time_simulate']"
   ]
  },
  {
   "cell_type": "code",
   "execution_count": 21,
   "id": "dd16a852",
   "metadata": {},
   "outputs": [],
   "source": [
    "first = ['equal','droop','cont']\n",
    "second = [2,4,8,16,32,64,128,256]\n",
    "third = [1,2,3,4,5,6,7,8,9,10] # what seed\n",
    "arrays=[first,second,third]\n",
    "cols = ['wall_time','py_time']\n",
    "\n",
    "index = pd.MultiIndex.from_product(arrays)\n",
    "df_brunel = pd.DataFrame(index=index, columns=cols)\n",
    "df_brunel_runtimes=df_brunel.sort_index()"
   ]
  },
  {
   "cell_type": "code",
   "execution_count": 36,
   "id": "d369d2f4",
   "metadata": {},
   "outputs": [],
   "source": [
    "res = [2,4,8,16,32,64,128,256]\n",
    "\n",
    "for i in range(len(res)):\n",
    "    for j in range(1,11):\n",
    "        df_brunel_runtimes.loc[('droop',res[i],j)]['wall_time']=wall_time_droop[i][j]\n",
    "        df_brunel_runtimes.loc[('equal',res[i],j)]['wall_time']=wall_time_equal[i][j]\n",
    "        df_brunel_runtimes.loc[('droop',res[i],j)]['py_time']=py_time_droop[i][j]\n",
    "        df_brunel_runtimes.loc[('equal',res[i],j)]['py_time']=py_time_equal[i][j]\n",
    "\n",
    "\n",
    "df_brunel_runtimes.loc[('cont',8)]['wall_time'][:]=wall_time_cont.values\n",
    "df_brunel_runtimes.loc[('cont',8)]['py_time'][:]=py_time_cont.values"
   ]
  },
  {
   "cell_type": "code",
   "execution_count": 41,
   "id": "71f1d692",
   "metadata": {},
   "outputs": [
    {
     "data": {
      "text/html": [
       "<div>\n",
       "<style scoped>\n",
       "    .dataframe tbody tr th:only-of-type {\n",
       "        vertical-align: middle;\n",
       "    }\n",
       "\n",
       "    .dataframe tbody tr th {\n",
       "        vertical-align: top;\n",
       "    }\n",
       "\n",
       "    .dataframe thead th {\n",
       "        text-align: right;\n",
       "    }\n",
       "</style>\n",
       "<table border=\"1\" class=\"dataframe\">\n",
       "  <thead>\n",
       "    <tr style=\"text-align: right;\">\n",
       "      <th></th>\n",
       "      <th></th>\n",
       "      <th>wall_time</th>\n",
       "      <th>py_time</th>\n",
       "    </tr>\n",
       "  </thead>\n",
       "  <tbody>\n",
       "    <tr>\n",
       "      <th rowspan=\"5\" valign=\"top\">2</th>\n",
       "      <th>1</th>\n",
       "      <td>65.940397</td>\n",
       "      <td>65.94234</td>\n",
       "    </tr>\n",
       "    <tr>\n",
       "      <th>2</th>\n",
       "      <td>63.426324</td>\n",
       "      <td>63.427941</td>\n",
       "    </tr>\n",
       "    <tr>\n",
       "      <th>3</th>\n",
       "      <td>62.329363</td>\n",
       "      <td>62.331183</td>\n",
       "    </tr>\n",
       "    <tr>\n",
       "      <th>4</th>\n",
       "      <td>63.622938</td>\n",
       "      <td>63.625544</td>\n",
       "    </tr>\n",
       "    <tr>\n",
       "      <th>5</th>\n",
       "      <td>63.837447</td>\n",
       "      <td>63.840347</td>\n",
       "    </tr>\n",
       "    <tr>\n",
       "      <th>...</th>\n",
       "      <th>...</th>\n",
       "      <td>...</td>\n",
       "      <td>...</td>\n",
       "    </tr>\n",
       "    <tr>\n",
       "      <th rowspan=\"5\" valign=\"top\">256</th>\n",
       "      <th>6</th>\n",
       "      <td>1372.737998</td>\n",
       "      <td>1372.74149</td>\n",
       "    </tr>\n",
       "    <tr>\n",
       "      <th>7</th>\n",
       "      <td>1365.508555</td>\n",
       "      <td>1365.512052</td>\n",
       "    </tr>\n",
       "    <tr>\n",
       "      <th>8</th>\n",
       "      <td>1365.307461</td>\n",
       "      <td>1365.311088</td>\n",
       "    </tr>\n",
       "    <tr>\n",
       "      <th>9</th>\n",
       "      <td>1372.272223</td>\n",
       "      <td>1372.27614</td>\n",
       "    </tr>\n",
       "    <tr>\n",
       "      <th>10</th>\n",
       "      <td>1359.835154</td>\n",
       "      <td>1359.838859</td>\n",
       "    </tr>\n",
       "  </tbody>\n",
       "</table>\n",
       "<p>80 rows × 2 columns</p>\n",
       "</div>"
      ],
      "text/plain": [
       "          wall_time      py_time\n",
       "2   1     65.940397     65.94234\n",
       "    2     63.426324    63.427941\n",
       "    3     62.329363    62.331183\n",
       "    4     63.622938    63.625544\n",
       "    5     63.837447    63.840347\n",
       "...             ...          ...\n",
       "256 6   1372.737998   1372.74149\n",
       "    7   1365.508555  1365.512052\n",
       "    8   1365.307461  1365.311088\n",
       "    9   1372.272223   1372.27614\n",
       "    10  1359.835154  1359.838859\n",
       "\n",
       "[80 rows x 2 columns]"
      ]
     },
     "execution_count": 41,
     "metadata": {},
     "output_type": "execute_result"
    }
   ],
   "source": [
    "df_brunel_runtimes.loc[('equal')]"
   ]
  },
  {
   "cell_type": "markdown",
   "id": "a33a5def",
   "metadata": {},
   "source": [
    "Do the same for microcircuit model.\n",
    "\n",
    "## Microcircuit"
   ]
  },
  {
   "cell_type": "code",
   "execution_count": 42,
   "id": "2c683e1f",
   "metadata": {},
   "outputs": [],
   "source": [
    "microcircuit = 'C:\\\\Users\\\\Nida\\\\Documents\\\\NMBU\\\\master\\\\result_log_files_microcircuit'\n",
    "droop_1_2_m = 'droop_res_1_2_result.log'\n",
    "droop_1_4_m = 'droop_res_1_4_result.log'\n",
    "droop_1_8_m = 'droop_res_1_8_result.log'\n",
    "droop_1_16_m = 'droop_res_1_16_result.log'\n",
    "droop_1_32_m = 'droop_res_1_32_result.log'\n",
    "droop_1_64_m = 'droop_res_1_64_result.log'\n",
    "droop_1_128_m = 'droop_res_1_128_result.log'\n",
    "droop_1_256_m = 'droop_res_1_256_result.log'\n",
    "\n",
    "equal_1_4_m = 'equal_res_1_4_result.log'\n",
    "equal_1_8_m = 'equal_res_1_8_result.log'\n",
    "equal_1_16_m = 'equal_res_1_16_result.log'\n",
    "equal_1_32_m = 'equal_res_1_32_result.log'\n",
    "equal_1_64_m = 'equal_res_1_64_result.log'\n",
    "equal_1_128_m = 'equal_res_1_128_result.log'\n",
    "equal_1_256_m = 'equal_res_1_256_result.log'\n",
    "cont_m = 'continuous_1_8_all_seed_microcircuit_result.log'\n",
    "\n",
    "droop_paths_m = [droop_1_2_m, droop_1_4_m, droop_1_8_m, droop_1_16_m, droop_1_32_m, droop_1_64_m, droop_1_128_m, droop_1_256_m]\n",
    "equal_paths_m = [equal_1_4_m, equal_1_8_m, equal_1_16_m, equal_1_32_m, equal_1_64_m, equal_1_128_m, equal_1_256_m]"
   ]
  },
  {
   "cell_type": "markdown",
   "id": "ff18919e",
   "metadata": {},
   "source": [
    "Drop first coloumn, last row and make second column into seed vales 1-10. Here all the wall-time columns have values, include all of them when calculating total walltime. For py-time only the network one is nan."
   ]
  },
  {
   "cell_type": "code",
   "execution_count": 43,
   "id": "cec1886a",
   "metadata": {},
   "outputs": [],
   "source": [
    "droop_dfs_m = []\n",
    "for d in droop_paths_m:\n",
    "    df_m = format_result(microcircuit,d)\n",
    "    droop_dfs_m.append(df_m)"
   ]
  },
  {
   "cell_type": "code",
   "execution_count": 44,
   "id": "e830bf67",
   "metadata": {},
   "outputs": [],
   "source": [
    "equal_dfs_m = []\n",
    "for d in equal_paths_m:\n",
    "    df_m = format_result(microcircuit,d)\n",
    "    equal_dfs_m.append(df_m)"
   ]
  },
  {
   "cell_type": "code",
   "execution_count": 45,
   "id": "9ed97415",
   "metadata": {},
   "outputs": [],
   "source": [
    "continuous_m = format_result(microcircuit,cont_m)"
   ]
  },
  {
   "cell_type": "code",
   "execution_count": 46,
   "id": "32fcf6fd",
   "metadata": {},
   "outputs": [],
   "source": [
    "wall_time_droop_m = []\n",
    "py_time_droop_m = []\n",
    "\n",
    "for df in droop_dfs_m:\n",
    "    w = df['wall_time_sim']\n",
    "    p = df['py_time_simulate']\n",
    "    wall_time_droop_m.append(w)\n",
    "    py_time_droop_m.append(p)"
   ]
  },
  {
   "cell_type": "code",
   "execution_count": 47,
   "id": "f049307d",
   "metadata": {},
   "outputs": [],
   "source": [
    "wall_time_equal_m = []\n",
    "py_time_equal_m = []\n",
    "\n",
    "for df in equal_dfs_m:\n",
    "    w = df['wall_time_sim']\n",
    "    p = df['py_time_simulate']\n",
    "    wall_time_equal_m.append(w)\n",
    "    py_time_equal_m.append(p)"
   ]
  },
  {
   "cell_type": "code",
   "execution_count": 48,
   "id": "2788c58d",
   "metadata": {},
   "outputs": [],
   "source": [
    "wall_time_cont_m = continuous_m['wall_time_sim']\n",
    "py_time_cont_m = continuous_m['py_time_simulate']"
   ]
  },
  {
   "cell_type": "code",
   "execution_count": 49,
   "id": "5cb5126c",
   "metadata": {},
   "outputs": [],
   "source": [
    "first = ['equal','droop','cont']\n",
    "second = [2,4,8,16,32,64,128,256]\n",
    "third = [1,2,3,4,5,6,7,8,9,10] # what seed\n",
    "arrays=[first,second,third]\n",
    "cols = ['wall_time','py_time']\n",
    "\n",
    "index = pd.MultiIndex.from_product(arrays)\n",
    "df_microcircuit = pd.DataFrame(index=index, columns=cols)\n",
    "df_microcircuit_runtimes=df_microcircuit.sort_index()"
   ]
  },
  {
   "cell_type": "code",
   "execution_count": 57,
   "id": "efcaf339",
   "metadata": {},
   "outputs": [],
   "source": [
    "res = [2,4,8,16,32,64,128,256]\n",
    "\n",
    "for i in range(len(res)):\n",
    "    for j in range(1,11):\n",
    "        df_microcircuit_runtimes.loc[('droop',res[i],j)]['wall_time']=wall_time_droop_m[i][j]\n",
    "        df_microcircuit_runtimes.loc[('droop',res[i],j)]['py_time']=py_time_droop_m[i][j]\n",
    "        \n",
    "df_microcircuit_runtimes.loc[('cont',8)]['wall_time'][:]=wall_time_cont_m.values\n",
    "df_microcircuit_runtimes.loc[('cont',8)]['py_time'][:]=py_time_cont_m.values\n"
   ]
  },
  {
   "cell_type": "code",
   "execution_count": 62,
   "id": "f774ff61",
   "metadata": {},
   "outputs": [
    {
     "data": {
      "text/plain": [
       "1     228.430674\n",
       "2      21.074863\n",
       "3      19.531130\n",
       "4      21.753295\n",
       "5      23.329352\n",
       "6      91.848438\n",
       "7     398.929613\n",
       "8     438.906199\n",
       "9      20.477665\n",
       "10    343.670261\n",
       "Name: wall_time_sim, dtype: float64"
      ]
     },
     "execution_count": 62,
     "metadata": {},
     "output_type": "execute_result"
    }
   ],
   "source": [
    "wall_time_equal_m[0]"
   ]
  },
  {
   "cell_type": "code",
   "execution_count": 60,
   "id": "d2c385b2",
   "metadata": {},
   "outputs": [
    {
     "data": {
      "text/html": [
       "<div>\n",
       "<style scoped>\n",
       "    .dataframe tbody tr th:only-of-type {\n",
       "        vertical-align: middle;\n",
       "    }\n",
       "\n",
       "    .dataframe tbody tr th {\n",
       "        vertical-align: top;\n",
       "    }\n",
       "\n",
       "    .dataframe thead th {\n",
       "        text-align: right;\n",
       "    }\n",
       "</style>\n",
       "<table border=\"1\" class=\"dataframe\">\n",
       "  <thead>\n",
       "    <tr style=\"text-align: right;\">\n",
       "      <th></th>\n",
       "      <th>wall_time</th>\n",
       "      <th>py_time</th>\n",
       "    </tr>\n",
       "  </thead>\n",
       "  <tbody>\n",
       "    <tr>\n",
       "      <th>1</th>\n",
       "      <td>122.747679</td>\n",
       "      <td>122.866771</td>\n",
       "    </tr>\n",
       "    <tr>\n",
       "      <th>2</th>\n",
       "      <td>122.865368</td>\n",
       "      <td>122.981567</td>\n",
       "    </tr>\n",
       "    <tr>\n",
       "      <th>3</th>\n",
       "      <td>136.489645</td>\n",
       "      <td>136.602593</td>\n",
       "    </tr>\n",
       "    <tr>\n",
       "      <th>4</th>\n",
       "      <td>126.423639</td>\n",
       "      <td>126.530798</td>\n",
       "    </tr>\n",
       "    <tr>\n",
       "      <th>5</th>\n",
       "      <td>127.945125</td>\n",
       "      <td>128.065827</td>\n",
       "    </tr>\n",
       "    <tr>\n",
       "      <th>6</th>\n",
       "      <td>127.82365</td>\n",
       "      <td>127.93058</td>\n",
       "    </tr>\n",
       "    <tr>\n",
       "      <th>7</th>\n",
       "      <td>122.849205</td>\n",
       "      <td>122.960534</td>\n",
       "    </tr>\n",
       "    <tr>\n",
       "      <th>8</th>\n",
       "      <td>122.880233</td>\n",
       "      <td>122.991848</td>\n",
       "    </tr>\n",
       "    <tr>\n",
       "      <th>9</th>\n",
       "      <td>127.996422</td>\n",
       "      <td>128.109081</td>\n",
       "    </tr>\n",
       "    <tr>\n",
       "      <th>10</th>\n",
       "      <td>123.985979</td>\n",
       "      <td>124.093215</td>\n",
       "    </tr>\n",
       "  </tbody>\n",
       "</table>\n",
       "</div>"
      ],
      "text/plain": [
       "     wall_time     py_time\n",
       "1   122.747679  122.866771\n",
       "2   122.865368  122.981567\n",
       "3   136.489645  136.602593\n",
       "4   126.423639  126.530798\n",
       "5   127.945125  128.065827\n",
       "6    127.82365   127.93058\n",
       "7   122.849205  122.960534\n",
       "8   122.880233  122.991848\n",
       "9   127.996422  128.109081\n",
       "10  123.985979  124.093215"
      ]
     },
     "execution_count": 60,
     "metadata": {},
     "output_type": "execute_result"
    }
   ],
   "source": [
    "for i in range(1,len(res)):\n",
    "    for j in range(1,11):\n",
    "        df_microcircuit_runtimes.loc[('equal',res[i],j)]['wall_time']=wall_time_equal_m[i][j]\n",
    "        df_microcircuit_runtimes.loc[('equal',res[i],j)]['py_time']=py_time_equal_m[i][j]\n",
    "        \n",
    "df_microcircuit_runtimes.loc[('equal',4,j)]['wall_time'] =    "
   ]
  },
  {
   "cell_type": "code",
   "execution_count": null,
   "id": "26cf5b9d",
   "metadata": {},
   "outputs": [],
   "source": []
  },
  {
   "cell_type": "code",
   "execution_count": 55,
   "id": "2cc87597",
   "metadata": {},
   "outputs": [],
   "source": [
    "res = [2,4,8,16,32,64,128,256]\n",
    "\n",
    "for i in range(len(res)):\n",
    "    df_microcircuit_runtimes.loc[('droop',res[i])]['wall_time']=wall_time_droop[i]\n",
    "    df_microcircuit_runtimes.loc[('droop',res[i])]['py_time']=py_time_droop[i]\n",
    "    \n",
    "df_microcircuit_runtimes.loc[('cont',8)]['wall_time']=wall_time_cont\n",
    "df_microcircuit_runtimes.loc[('cont',8)]['py_time']=py_time_cont"
   ]
  },
  {
   "cell_type": "code",
   "execution_count": 56,
   "id": "7dd2c351",
   "metadata": {},
   "outputs": [],
   "source": [
    "res = [4,8,16,32,64,128,256]\n",
    "\n",
    "for i in range(len(res)):\n",
    "    df_microcircuit_runtimes.loc[('equal',res[i])]['wall_time']=wall_time_equal[i]\n",
    "    df_microcircuit_runtimes.loc[('equal',res[i])]['py_time']=py_time_equal[i]\n",
    "    "
   ]
  },
  {
   "cell_type": "code",
   "execution_count": 57,
   "id": "69baa845",
   "metadata": {},
   "outputs": [
    {
     "data": {
      "text/html": [
       "<div>\n",
       "<style scoped>\n",
       "    .dataframe tbody tr th:only-of-type {\n",
       "        vertical-align: middle;\n",
       "    }\n",
       "\n",
       "    .dataframe tbody tr th {\n",
       "        vertical-align: top;\n",
       "    }\n",
       "\n",
       "    .dataframe thead th {\n",
       "        text-align: right;\n",
       "    }\n",
       "</style>\n",
       "<table border=\"1\" class=\"dataframe\">\n",
       "  <thead>\n",
       "    <tr style=\"text-align: right;\">\n",
       "      <th></th>\n",
       "      <th></th>\n",
       "      <th>wall_time</th>\n",
       "      <th>py_time</th>\n",
       "    </tr>\n",
       "  </thead>\n",
       "  <tbody>\n",
       "    <tr>\n",
       "      <th rowspan=\"8\" valign=\"top\">equal</th>\n",
       "      <th>2</th>\n",
       "      <td>63.634984</td>\n",
       "      <td>63.637117</td>\n",
       "    </tr>\n",
       "    <tr>\n",
       "      <th>4</th>\n",
       "      <td>75.652879</td>\n",
       "      <td>75.654762</td>\n",
       "    </tr>\n",
       "    <tr>\n",
       "      <th>8</th>\n",
       "      <td>103.235808</td>\n",
       "      <td>103.237583</td>\n",
       "    </tr>\n",
       "    <tr>\n",
       "      <th>16</th>\n",
       "      <td>150.750775</td>\n",
       "      <td>150.752743</td>\n",
       "    </tr>\n",
       "    <tr>\n",
       "      <th>32</th>\n",
       "      <td>243.929048</td>\n",
       "      <td>243.930957</td>\n",
       "    </tr>\n",
       "    <tr>\n",
       "      <th>64</th>\n",
       "      <td>445.018223</td>\n",
       "      <td>445.019972</td>\n",
       "    </tr>\n",
       "    <tr>\n",
       "      <th>128</th>\n",
       "      <td>772.767172</td>\n",
       "      <td>772.769096</td>\n",
       "    </tr>\n",
       "    <tr>\n",
       "      <th>256</th>\n",
       "      <td>1366.621975</td>\n",
       "      <td>1366.625572</td>\n",
       "    </tr>\n",
       "    <tr>\n",
       "      <th rowspan=\"8\" valign=\"top\">droop</th>\n",
       "      <th>2</th>\n",
       "      <td>62.794512</td>\n",
       "      <td>63.109184</td>\n",
       "    </tr>\n",
       "    <tr>\n",
       "      <th>4</th>\n",
       "      <td>75.922022</td>\n",
       "      <td>75.923746</td>\n",
       "    </tr>\n",
       "    <tr>\n",
       "      <th>8</th>\n",
       "      <td>103.46508</td>\n",
       "      <td>103.466948</td>\n",
       "    </tr>\n",
       "    <tr>\n",
       "      <th>16</th>\n",
       "      <td>149.281582</td>\n",
       "      <td>149.283435</td>\n",
       "    </tr>\n",
       "    <tr>\n",
       "      <th>32</th>\n",
       "      <td>243.075278</td>\n",
       "      <td>243.077167</td>\n",
       "    </tr>\n",
       "    <tr>\n",
       "      <th>64</th>\n",
       "      <td>444.795649</td>\n",
       "      <td>444.797619</td>\n",
       "    </tr>\n",
       "    <tr>\n",
       "      <th>128</th>\n",
       "      <td>771.449597</td>\n",
       "      <td>771.45149</td>\n",
       "    </tr>\n",
       "    <tr>\n",
       "      <th>256</th>\n",
       "      <td>1367.682388</td>\n",
       "      <td>1367.68571</td>\n",
       "    </tr>\n",
       "    <tr>\n",
       "      <th rowspan=\"8\" valign=\"top\">cont</th>\n",
       "      <th>2</th>\n",
       "      <td>NaN</td>\n",
       "      <td>NaN</td>\n",
       "    </tr>\n",
       "    <tr>\n",
       "      <th>4</th>\n",
       "      <td>NaN</td>\n",
       "      <td>NaN</td>\n",
       "    </tr>\n",
       "    <tr>\n",
       "      <th>8</th>\n",
       "      <td>379.87868</td>\n",
       "      <td>379.88035</td>\n",
       "    </tr>\n",
       "    <tr>\n",
       "      <th>16</th>\n",
       "      <td>NaN</td>\n",
       "      <td>NaN</td>\n",
       "    </tr>\n",
       "    <tr>\n",
       "      <th>32</th>\n",
       "      <td>NaN</td>\n",
       "      <td>NaN</td>\n",
       "    </tr>\n",
       "    <tr>\n",
       "      <th>64</th>\n",
       "      <td>NaN</td>\n",
       "      <td>NaN</td>\n",
       "    </tr>\n",
       "    <tr>\n",
       "      <th>128</th>\n",
       "      <td>NaN</td>\n",
       "      <td>NaN</td>\n",
       "    </tr>\n",
       "    <tr>\n",
       "      <th>256</th>\n",
       "      <td>NaN</td>\n",
       "      <td>NaN</td>\n",
       "    </tr>\n",
       "  </tbody>\n",
       "</table>\n",
       "</div>"
      ],
      "text/plain": [
       "             wall_time      py_time\n",
       "equal 2      63.634984    63.637117\n",
       "      4      75.652879    75.654762\n",
       "      8     103.235808   103.237583\n",
       "      16    150.750775   150.752743\n",
       "      32    243.929048   243.930957\n",
       "      64    445.018223   445.019972\n",
       "      128   772.767172   772.769096\n",
       "      256  1366.621975  1366.625572\n",
       "droop 2      62.794512    63.109184\n",
       "      4      75.922022    75.923746\n",
       "      8      103.46508   103.466948\n",
       "      16    149.281582   149.283435\n",
       "      32    243.075278   243.077167\n",
       "      64    444.795649   444.797619\n",
       "      128   771.449597    771.45149\n",
       "      256  1367.682388   1367.68571\n",
       "cont  2            NaN          NaN\n",
       "      4            NaN          NaN\n",
       "      8      379.87868    379.88035\n",
       "      16           NaN          NaN\n",
       "      32           NaN          NaN\n",
       "      64           NaN          NaN\n",
       "      128          NaN          NaN\n",
       "      256          NaN          NaN"
      ]
     },
     "execution_count": 57,
     "metadata": {},
     "output_type": "execute_result"
    }
   ],
   "source": [
    "df_brunel_runtimes"
   ]
  },
  {
   "cell_type": "code",
   "execution_count": 58,
   "id": "004e2771",
   "metadata": {},
   "outputs": [
    {
     "data": {
      "text/html": [
       "<div>\n",
       "<style scoped>\n",
       "    .dataframe tbody tr th:only-of-type {\n",
       "        vertical-align: middle;\n",
       "    }\n",
       "\n",
       "    .dataframe tbody tr th {\n",
       "        vertical-align: top;\n",
       "    }\n",
       "\n",
       "    .dataframe thead th {\n",
       "        text-align: right;\n",
       "    }\n",
       "</style>\n",
       "<table border=\"1\" class=\"dataframe\">\n",
       "  <thead>\n",
       "    <tr style=\"text-align: right;\">\n",
       "      <th></th>\n",
       "      <th></th>\n",
       "      <th>wall_time</th>\n",
       "      <th>py_time</th>\n",
       "    </tr>\n",
       "  </thead>\n",
       "  <tbody>\n",
       "    <tr>\n",
       "      <th rowspan=\"8\" valign=\"top\">equal</th>\n",
       "      <th>2</th>\n",
       "      <td>NaN</td>\n",
       "      <td>NaN</td>\n",
       "    </tr>\n",
       "    <tr>\n",
       "      <th>4</th>\n",
       "      <td>160.795149</td>\n",
       "      <td>160.903636</td>\n",
       "    </tr>\n",
       "    <tr>\n",
       "      <th>8</th>\n",
       "      <td>21.158142</td>\n",
       "      <td>21.266416</td>\n",
       "    </tr>\n",
       "    <tr>\n",
       "      <th>16</th>\n",
       "      <td>36.929252</td>\n",
       "      <td>37.040473</td>\n",
       "    </tr>\n",
       "    <tr>\n",
       "      <th>32</th>\n",
       "      <td>60.733853</td>\n",
       "      <td>60.836612</td>\n",
       "    </tr>\n",
       "    <tr>\n",
       "      <th>64</th>\n",
       "      <td>103.142318</td>\n",
       "      <td>103.250024</td>\n",
       "    </tr>\n",
       "    <tr>\n",
       "      <th>128</th>\n",
       "      <td>168.425972</td>\n",
       "      <td>168.538733</td>\n",
       "    </tr>\n",
       "    <tr>\n",
       "      <th>256</th>\n",
       "      <td>281.423656</td>\n",
       "      <td>281.540157</td>\n",
       "    </tr>\n",
       "    <tr>\n",
       "      <th rowspan=\"8\" valign=\"top\">droop</th>\n",
       "      <th>2</th>\n",
       "      <td>364.61324</td>\n",
       "      <td>364.711023</td>\n",
       "    </tr>\n",
       "    <tr>\n",
       "      <th>4</th>\n",
       "      <td>152.23929</td>\n",
       "      <td>152.351885</td>\n",
       "    </tr>\n",
       "    <tr>\n",
       "      <th>8</th>\n",
       "      <td>22.295684</td>\n",
       "      <td>22.419211</td>\n",
       "    </tr>\n",
       "    <tr>\n",
       "      <th>16</th>\n",
       "      <td>37.088518</td>\n",
       "      <td>37.204611</td>\n",
       "    </tr>\n",
       "    <tr>\n",
       "      <th>32</th>\n",
       "      <td>60.504492</td>\n",
       "      <td>60.623181</td>\n",
       "    </tr>\n",
       "    <tr>\n",
       "      <th>64</th>\n",
       "      <td>103.359754</td>\n",
       "      <td>103.475733</td>\n",
       "    </tr>\n",
       "    <tr>\n",
       "      <th>128</th>\n",
       "      <td>168.896289</td>\n",
       "      <td>169.010277</td>\n",
       "    </tr>\n",
       "    <tr>\n",
       "      <th>256</th>\n",
       "      <td>279.802049</td>\n",
       "      <td>279.912715</td>\n",
       "    </tr>\n",
       "    <tr>\n",
       "      <th rowspan=\"8\" valign=\"top\">cont</th>\n",
       "      <th>2</th>\n",
       "      <td>NaN</td>\n",
       "      <td>NaN</td>\n",
       "    </tr>\n",
       "    <tr>\n",
       "      <th>4</th>\n",
       "      <td>NaN</td>\n",
       "      <td>NaN</td>\n",
       "    </tr>\n",
       "    <tr>\n",
       "      <th>8</th>\n",
       "      <td>126.200695</td>\n",
       "      <td>126.313281</td>\n",
       "    </tr>\n",
       "    <tr>\n",
       "      <th>16</th>\n",
       "      <td>NaN</td>\n",
       "      <td>NaN</td>\n",
       "    </tr>\n",
       "    <tr>\n",
       "      <th>32</th>\n",
       "      <td>NaN</td>\n",
       "      <td>NaN</td>\n",
       "    </tr>\n",
       "    <tr>\n",
       "      <th>64</th>\n",
       "      <td>NaN</td>\n",
       "      <td>NaN</td>\n",
       "    </tr>\n",
       "    <tr>\n",
       "      <th>128</th>\n",
       "      <td>NaN</td>\n",
       "      <td>NaN</td>\n",
       "    </tr>\n",
       "    <tr>\n",
       "      <th>256</th>\n",
       "      <td>NaN</td>\n",
       "      <td>NaN</td>\n",
       "    </tr>\n",
       "  </tbody>\n",
       "</table>\n",
       "</div>"
      ],
      "text/plain": [
       "            wall_time     py_time\n",
       "equal 2           NaN         NaN\n",
       "      4    160.795149  160.903636\n",
       "      8     21.158142   21.266416\n",
       "      16    36.929252   37.040473\n",
       "      32    60.733853   60.836612\n",
       "      64   103.142318  103.250024\n",
       "      128  168.425972  168.538733\n",
       "      256  281.423656  281.540157\n",
       "droop 2     364.61324  364.711023\n",
       "      4     152.23929  152.351885\n",
       "      8     22.295684   22.419211\n",
       "      16    37.088518   37.204611\n",
       "      32    60.504492   60.623181\n",
       "      64   103.359754  103.475733\n",
       "      128  168.896289  169.010277\n",
       "      256  279.802049  279.912715\n",
       "cont  2           NaN         NaN\n",
       "      4           NaN         NaN\n",
       "      8    126.200695  126.313281\n",
       "      16          NaN         NaN\n",
       "      32          NaN         NaN\n",
       "      64          NaN         NaN\n",
       "      128         NaN         NaN\n",
       "      256         NaN         NaN"
      ]
     },
     "execution_count": 58,
     "metadata": {},
     "output_type": "execute_result"
    }
   ],
   "source": [
    "df_microcircuit_runtimes"
   ]
  },
  {
   "cell_type": "markdown",
   "id": "7d17b467",
   "metadata": {},
   "source": [
    "Plot the wall_time and py_time according to resolution for each model.\n",
    "\n",
    "Brunel model equal and droop model wall_time"
   ]
  },
  {
   "cell_type": "code",
   "execution_count": 72,
   "id": "f3cc993f",
   "metadata": {},
   "outputs": [
    {
     "data": {
      "text/plain": [
       "379.8786801"
      ]
     },
     "execution_count": 72,
     "metadata": {},
     "output_type": "execute_result"
    }
   ],
   "source": [
    "df_brunel_runtimes.loc[('cont',8)]['wall_time']"
   ]
  },
  {
   "cell_type": "code",
   "execution_count": 73,
   "id": "4263a8f4",
   "metadata": {},
   "outputs": [
    {
     "data": {
      "image/png": "[encoded data removed]",
      "text/plain": [
       "<Figure size 1008x720 with 1 Axes>"
      ]
     },
     "metadata": {
      "needs_background": "light"
     },
     "output_type": "display_data"
    }
   ],
   "source": [
    "x = [2,4,8,16,32,64,128,256]\n",
    "y = df_brunel_runtimes.loc['droop']['wall_time']\n",
    "z = df_brunel_runtimes.loc['equal']['wall_time']\n",
    "plt.plot(x,y,marker='.',label='droop')\n",
    "plt.plot(x,z,marker='.',label='equal')\n",
    "c = df_brunel_runtimes.loc[('cont',8)]['wall_time']\n",
    "plt.axhline(y=c,label='continuous',color='r')\n",
    "plt.legend();\n",
    "plt.grid();"
   ]
  },
  {
   "cell_type": "markdown",
   "id": "7d7a0c76",
   "metadata": {},
   "source": [
    "Microcircuit model droop and equal res 1/4 and up. "
   ]
  },
  {
   "cell_type": "code",
   "execution_count": 66,
   "id": "ca71b114",
   "metadata": {},
   "outputs": [
    {
     "data": {
      "image/png": "[encoded data removed]",
      "text/plain": [
       "<Figure size 1008x720 with 1 Axes>"
      ]
     },
     "metadata": {
      "needs_background": "light"
     },
     "output_type": "display_data"
    }
   ],
   "source": [
    "x = [4,8,16,32,64,128,256]\n",
    "y = df_microcircuit_runtimes.loc['droop']['wall_time'][1:]\n",
    "z = df_microcircuit_runtimes.loc['equal']['wall_time'][1:]\n",
    "\n",
    "plt.plot(x,y,marker='.',label='droop')\n",
    "plt.plot(x,z,marker='.',label='equal')\n",
    "plt.legend();\n",
    "plt.grid();"
   ]
  },
  {
   "cell_type": "markdown",
   "id": "6a479959",
   "metadata": {},
   "source": [
    "Microcircuit model equal and droop res 1/8 and up"
   ]
  },
  {
   "cell_type": "code",
   "execution_count": 67,
   "id": "4fa40b92",
   "metadata": {},
   "outputs": [
    {
     "data": {
      "image/png": "[encoded data removed]",
      "text/plain": [
       "<Figure size 1008x720 with 1 Axes>"
      ]
     },
     "metadata": {
      "needs_background": "light"
     },
     "output_type": "display_data"
    }
   ],
   "source": [
    "x = [8,16,32,64,128,256]\n",
    "y = df_microcircuit_runtimes.loc['droop']['wall_time'][2:]\n",
    "z = df_microcircuit_runtimes.loc['equal']['wall_time'][2:]\n",
    "\n",
    "plt.plot(x,y,marker='.',label='droop')\n",
    "plt.plot(x,z,marker='.',label='equal')\n",
    "plt.legend();\n",
    "plt.grid();"
   ]
  },
  {
   "cell_type": "markdown",
   "id": "e7ebc2dd",
   "metadata": {},
   "source": [
    "Plot the wall_time and py_time according to resolution for each model.\n",
    "\n",
    "Brunel model equal and droop model wall_time"
   ]
  },
  {
   "cell_type": "code",
   "execution_count": 68,
   "id": "eedfdf65",
   "metadata": {},
   "outputs": [
    {
     "data": {
      "image/png": "[encoded data removed]",
      "text/plain": [
       "<Figure size 1008x720 with 1 Axes>"
      ]
     },
     "metadata": {
      "needs_background": "light"
     },
     "output_type": "display_data"
    }
   ],
   "source": [
    "x = [2,4,8,16,32,64,128,256]\n",
    "y = df_brunel_runtimes.loc['droop']['py_time']\n",
    "z = df_brunel_runtimes.loc['equal']['py_time']\n",
    "plt.plot(x,y,marker='.',label='droop')\n",
    "plt.plot(x,z,marker='.',label='equal')\n",
    "plt.legend();\n",
    "plt.grid();"
   ]
  },
  {
   "cell_type": "markdown",
   "id": "c195f830",
   "metadata": {},
   "source": [
    "Microcircuit model droop and equal res 1/4 and up. "
   ]
  },
  {
   "cell_type": "code",
   "execution_count": 69,
   "id": "f9965e8d",
   "metadata": {},
   "outputs": [
    {
     "data": {
      "image/png": "[encoded data removed]",
      "text/plain": [
       "<Figure size 1008x720 with 1 Axes>"
      ]
     },
     "metadata": {
      "needs_background": "light"
     },
     "output_type": "display_data"
    }
   ],
   "source": [
    "x = [4,8,16,32,64,128,256]\n",
    "y = df_microcircuit_runtimes.loc['droop']['py_time'][1:]\n",
    "z = df_microcircuit_runtimes.loc['equal']['py_time'][1:]\n",
    "\n",
    "plt.plot(x,y,marker='.',label='droop')\n",
    "plt.plot(x,z,marker='.',label='equal')\n",
    "plt.legend();\n",
    "plt.grid();"
   ]
  },
  {
   "cell_type": "markdown",
   "id": "de054e3d",
   "metadata": {},
   "source": [
    "Microcircuit model equal and droop res 1/8 and up"
   ]
  },
  {
   "cell_type": "code",
   "execution_count": 70,
   "id": "1e5158e8",
   "metadata": {},
   "outputs": [
    {
     "data": {
      "image/png": "[encoded data removed]",
      "text/plain": [
       "<Figure size 1008x720 with 1 Axes>"
      ]
     },
     "metadata": {
      "needs_background": "light"
     },
     "output_type": "display_data"
    }
   ],
   "source": [
    "x = [8,16,32,64,128,256]\n",
    "y = df_microcircuit_runtimes.loc['droop']['py_time'][2:]\n",
    "z = df_microcircuit_runtimes.loc['equal']['py_time'][2:]\n",
    "\n",
    "plt.plot(x,y,marker='.',label='droop')\n",
    "plt.plot(x,z,marker='.',label='equal')\n",
    "plt.legend();\n",
    "plt.grid();"
   ]
  },
  {
   "cell_type": "code",
   "execution_count": null,
   "id": "58b714f9",
   "metadata": {},
   "outputs": [],
   "source": []
  }
 ],
 "metadata": {
  "kernelspec": {
   "display_name": "Python 3",
   "language": "python",
   "name": "python3"
  },
  "language_info": {
   "codemirror_mode": {
    "name": "ipython",
    "version": 3
   },
   "file_extension": ".py",
   "mimetype": "text/x-python",
   "name": "python",
   "nbconvert_exporter": "python",
   "pygments_lexer": "ipython3",
   "version": "3.8.8"
  }
 },
 "nbformat": 4,
 "nbformat_minor": 5
}
