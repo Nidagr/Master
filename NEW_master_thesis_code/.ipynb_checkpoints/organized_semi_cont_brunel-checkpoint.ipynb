{
 "cells": [
  {
   "cell_type": "markdown",
   "id": "a18757d9",
   "metadata": {},
   "source": [
    "# Organize semi continuous Brunel\n",
    "\n",
    "Organize data of continuous Brunel model with discrete delays, equal probability of each delay value."
   ]
  },
  {
   "cell_type": "code",
   "execution_count": 1,
   "id": "662325aa",
   "metadata": {},
   "outputs": [],
   "source": [
    "#import nest\n",
    "import pandas as pd\n",
    "import elephant\n",
    "import quantities as pq\n",
    "import neo\n",
    "import numpy as np\n",
    "import sys\n",
    "sys.setrecursionlimit(10000)\n",
    "from pathlib import Path\n",
    "# import sys\n",
    "# !{sys.executable} -m pip install elephant"
   ]
  },
  {
   "cell_type": "code",
   "execution_count": 2,
   "id": "a96980c2",
   "metadata": {},
   "outputs": [],
   "source": [
    "def get_cvs(spike_data):\n",
    "    \"\"\"\n",
    "    Get the CV for each neuron recorded. \n",
    "    \n",
    "    CV = standard_deviation(ISIs)/mean(ISIs)\n",
    "    \"\"\"\n",
    "    cvs = []\n",
    "     \n",
    "    spike_data = spike_data.sort_values(by='time_ms')\n",
    "    grouped = spike_data.groupby(spike_data['sender'])\n",
    "\n",
    "    for name, group in grouped:\n",
    "            \"\"\"\n",
    "            Each group is senders and times for one value of senders. That is, we iterate through all \n",
    "            neurons. And the times for each neuron is in sorted order. Therefore, the cvs\n",
    "            returned must have the same order. So cvs contain cv of neuron 1, then neuron 2 .... then neuron N.\n",
    "            \"\"\"\n",
    "            t = np.asarray(group['time_ms'])\n",
    "            spiketrain = neo.core.SpikeTrain(t * pq.ms, t_start=0*pq.ms, t_stop=10000*pq.ms)\n",
    "            isi = elephant.statistics.isi(spiketrain)\n",
    "            cv = elephant.statistics.cv(isi)\n",
    "            cvs.append(cv)\n",
    "            \n",
    "    return cvs"
   ]
  },
  {
   "cell_type": "code",
   "execution_count": 20,
   "id": "ecd18c74",
   "metadata": {},
   "outputs": [],
   "source": [
    "def create_cv_dfs():\n",
    "    path = Path('C:\\\\Users\\\\Nida\\\\Documents\\\\NMBU\\\\master\\\\organized_spike_data')\n",
    "    for p in path.iterdir():\n",
    "        # get list of all files of excitatory spike times in semi cont brunel in one resolution\n",
    "        file = list(p.glob('semi_cont_brunel/*12502-0.dat'))\n",
    "        cv_list = list()\n",
    "        for f in file:\n",
    "            df = pd.read_csv(f,skiprows=2,sep='\\t')\n",
    "            cvs = get_cvs(df) # get cvs of one seed value one resolution\n",
    "            cv_list.append(cvs)\n",
    "        df =pd.DataFrame(cv_list)\n",
    "        # save the dataframe as semi_cont_cv.csv in each resolution folder\n",
    "        df.to_csv(r'{}\\semi_cont_cv.csv'.format(p))"
   ]
  },
  {
   "cell_type": "code",
   "execution_count": 23,
   "id": "338acc5c",
   "metadata": {},
   "outputs": [],
   "source": [
    "create_cv_dfs()"
   ]
  },
  {
   "cell_type": "code",
   "execution_count": 24,
   "id": "3b603c0e",
   "metadata": {},
   "outputs": [],
   "source": [
    "def get_frs(spike_data):\n",
    "    \"\"\"\n",
    "    Get the FR for each neuron recorded. \n",
    "    \n",
    "    FR = number of spikes fired during simulation/time of simulation\n",
    "    \"\"\"\n",
    "    frs = []\n",
    "     \n",
    "    spike_data = spike_data.sort_values(by='time_ms')\n",
    "    grouped = spike_data.groupby(spike_data['sender'])\n",
    "\n",
    "    for name, group in grouped:\n",
    "            \"\"\"\n",
    "            Each group is senders and times for one value of senders. That is, we iterate through all \n",
    "            neurons. And the times for each neuron is in sorted order. Therefore, the cvs\n",
    "            returned must have the same order. So cvs contain cv of neuron 1, then neuron 2 .... then neuron N.\n",
    "            \"\"\"\n",
    "            t = np.asarray(group['time_ms'])\n",
    "            spiketrain = neo.core.SpikeTrain(t * pq.ms, t_start=0*pq.ms, t_stop=10000*pq.ms)\n",
    "            fr = elephant.statistics.mean_firing_rate(spiketrain)\n",
    "            frs.append(fr)\n",
    "            \n",
    "    return frs"
   ]
  },
  {
   "cell_type": "code",
   "execution_count": 27,
   "id": "f8c4f084",
   "metadata": {},
   "outputs": [],
   "source": [
    "def create_fr_dfs():\n",
    "    path = Path('C:\\\\Users\\\\Nida\\\\Documents\\\\NMBU\\\\master\\\\organized_spike_data')\n",
    "    for p in path.iterdir():\n",
    "        # get list of all files of excitatory spike times in semi cont brunel in one resolution\n",
    "        file = list(p.glob('semi_cont_brunel/*12502-0.dat'))\n",
    "        fr_list = list()\n",
    "        for f in file:\n",
    "            df = pd.read_csv(f,skiprows=2,sep='\\t')\n",
    "            frs = get_frs(df) # get cvs of one seed value one resolution\n",
    "            fr_list.append(frs)\n",
    "        df = pd.DataFrame(fr_list).fillna(pq.quantity.Quantity(0,units='1/ms')) # save frs to dataframe\n",
    "        df.to_pickle(r'{}\\semi_cont_fr.pkl'.format(p)) # save as csv file "
   ]
  },
  {
   "cell_type": "code",
   "execution_count": 28,
   "id": "a2506b35",
   "metadata": {},
   "outputs": [],
   "source": [
    "create_fr_dfs()"
   ]
  },
  {
   "cell_type": "code",
   "execution_count": 29,
   "id": "a5bd45b2",
   "metadata": {},
   "outputs": [],
   "source": [
    "def get_first_inh(inh):\n",
    "    \"\"\"\n",
    "    Takes in path to dat file of inhibitory population spike times.\n",
    "    \n",
    "    This function retrieves the spike times of the first neuron in the inhibitory population.\n",
    "    Return it as a spiketrain object.\n",
    "    \"\"\"\n",
    "    #inh = pd.read_csv(path, skiprows=2, sep='\\t')\n",
    "    spike_data = inh.sort_values(by='time_ms')\n",
    "    grouped = spike_data.groupby(spike_data['sender'])\n",
    "    t = np.array(grouped.get_group(10001)['time_ms'])\n",
    "    spiketrain = neo.core.SpikeTrain(t * pq.ms, t_start=0*pq.ms, t_stop=10000*pq.ms)\n",
    "    \n",
    "    return spiketrain"
   ]
  },
  {
   "cell_type": "code",
   "execution_count": 30,
   "id": "5e0512df",
   "metadata": {},
   "outputs": [],
   "source": [
    "def get_ccs(exc, first_inh, bs=5):\n",
    "    \"\"\"\n",
    "    Get the CC between each excitatory neuron and first inhibitory neuron.\n",
    "    CC = (x-mean(x))(y-mean(y))/sqrt((x-mean(x))^2(y-mean(y))^2)\n",
    "    \"\"\"\n",
    "    # get all spike trains of excitatory neurons\n",
    "    spike_data = exc.sort_values(by='time_ms')\n",
    "    grouped = spike_data.groupby(spike_data['sender'])\n",
    "    spike_trains = []\n",
    "    for name, group in grouped:\n",
    "        t = np.asarray(group['time_ms'])\n",
    "        spiketrain = neo.core.SpikeTrain(t * pq.ms, t_start=0*pq.ms, t_stop=10000*pq.ms)\n",
    "        spike_trains.append(spiketrain)\n",
    "    \n",
    "    correlations = []\n",
    "    for i in range(len(spike_trains)):\n",
    "        # calculate cc matrix for the pair of spiketrains\n",
    "        cc_matrix = correlation_coefficient(BinnedSpikeTrain([spike_trains[i],first_inh], bin_size=bs*pq.ms))\n",
    "        # retrieve element not on diagonala\n",
    "        cc = cc_matrix[1,0]\n",
    "        correlations.append(cc)\n",
    "        \n",
    "    return correlations"
   ]
  },
  {
   "cell_type": "code",
   "execution_count": null,
   "id": "ac422d06",
   "metadata": {},
   "outputs": [],
   "source": [
    "def create_cc_dfs():\n",
    "    path = Path('C:\\\\Users\\\\Nida\\\\Documents\\\\NMBU\\\\master\\\\organized_spike_data')\n",
    "    for p in path.iterdir():\n",
    "        # get list of all files of excitatory spike times in semi cont brunel in one resolution\n",
    "        file = list(p.glob('semi_cont_brunel/*12502-0.dat'))\n",
    "        cc_list = list()\n",
    "        for f in file:\n",
    "            df = pd.read_csv(f,skiprows=2,sep='\\t')\n",
    "            first = get_first_inh()\n",
    "            ccs = get_ccs(df) # get cvs of one seed value one resolution\n",
    "            fr_list.append(frs)\n",
    "        df = pd.DataFrame(fr_list).fillna(pq.quantity.Quantity(0,units='1/ms')) # save frs to dataframe\n",
    "        df.to_pickle(r'{}\\semi_cont_fr.pkl'.format(p)) # save as csv file "
   ]
  },
  {
   "cell_type": "code",
   "execution_count": null,
   "id": "e12b2ff9",
   "metadata": {},
   "outputs": [],
   "source": [
    "def get_all_ccs(exc,inh,bs=5):\n",
    "    \"\"\"\n",
    "    This function takes in two nested lists. exc is list of tables of spike times for excitatory popuulation.\n",
    "    Same for inh but inhibitory population.\n",
    "    \"\"\"\n",
    "    cc_list = list()\n",
    "    for i in range(1,11):\n",
    "        first_inh = get_first_inh(inh[i])\n",
    "        exc_ccs = get_ccs(exc[i],first_inh,bs=bs)\n",
    "        cc_list.append(exc_ccs)\n",
    "    return cc_list"
   ]
  }
 ],
 "metadata": {
  "kernelspec": {
   "display_name": "Python 3",
   "language": "python",
   "name": "python3"
  },
  "language_info": {
   "codemirror_mode": {
    "name": "ipython",
    "version": 3
   },
   "file_extension": ".py",
   "mimetype": "text/x-python",
   "name": "python",
   "nbconvert_exporter": "python",
   "pygments_lexer": "ipython3",
   "version": "3.8.8"
  }
 },
 "nbformat": 4,
 "nbformat_minor": 5
}
