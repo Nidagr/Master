{
 "cells": [
  {
   "cell_type": "code",
   "execution_count": 1,
   "id": "8e7151d0",
   "metadata": {},
   "outputs": [
    {
     "name": "stderr",
     "output_type": "stream",
     "text": [
      "C:\\Users\\Nida\\anaconda3\\envs\\nunit\\lib\\site-packages\\elephant\\parallel\\__init__.py:47: UserWarning: mpi4py package is missing. Please run 'pip install mpi4py' in a terminal to activate MPI features.\n",
      "  warnings.warn(\"mpi4py package is missing. Please run 'pip install mpi4py' \"\n"
     ]
    }
   ],
   "source": [
    "import neo\n",
    "from networkunit import tests, scores, models\n",
    "#from networkunit.capabilities.cap_ProducesSpikeTrains import ProducesSpikeTrains\n",
    "from networkunit.capabilities.ProducesSpikeTrains import ProducesSpikeTrains # branch v0.2\n",
    "from copy import copy\n",
    "import pandas as pd\n",
    "import numpy as np\n",
    "import elephant\n",
    "import quantities as pq\n",
    "import sciunit\n",
    "from quantities import ms\n",
    "import sys\n",
    "sys.setrecursionlimit(10000)\n",
    "from pathlib import Path"
   ]
  },
  {
   "cell_type": "code",
   "execution_count": 2,
   "id": "b4c8fe09",
   "metadata": {},
   "outputs": [],
   "source": [
    "def create_class(path):\n",
    "    \"\"\"\n",
    "    This function creates a model class for the specific file path given.\n",
    "    \"\"\"\n",
    "    class model(models.loaded_spiketrains): \n",
    "    \n",
    "        default_params = {'file_path':path}\n",
    "\n",
    "        def load(self):\n",
    "            file_path = self.default_params['file_path']        \n",
    "            data = pd.read_csv(file_path,skiprows=2,sep='\\t')\n",
    "            spike_data = data.sort_values(by='time_ms')\n",
    "            grouped = spike_data.groupby(spike_data['sender'])\n",
    "\n",
    "            spike_trains = []\n",
    "            for name, group in grouped:\n",
    "                    \"\"\"\n",
    "                    Each group is senders and times for one value of senders. That is, we iterate through all \n",
    "                    neurons. And the times for each neuron is in sorted order. Therefore, the cvs\n",
    "                    returned must have the same order. So cvs contain cv of neuron 1, then neuron 2 .... then neuron N.\n",
    "                    \"\"\"\n",
    "                    t = np.asarray(group['time_ms'])\n",
    "                    spiketrain = neo.core.SpikeTrain(t * pq.ms, t_start=0*pq.ms, t_stop=10000*pq.ms)\n",
    "                    spike_trains.append(spiketrain)\n",
    "            return spike_trains\n",
    "    return model"
   ]
  },
  {
   "cell_type": "code",
   "execution_count": 3,
   "id": "f84b5911",
   "metadata": {},
   "outputs": [],
   "source": [
    "cont_seed_1 = 'C:\\\\Users\\\\Nida\\\\Documents\\\\NMBU\\\\master\\\\organized_spike_data\\\\resolution_1_8\\\\brunel_continuous\\\\brunel_continuous_delay_1.0_2.0_seed_1_spikes_exc-12502-0.dat'\n",
    "cont_1 = create_class(cont_seed_1)\n",
    "# create instance of class\n",
    "cont = cont_1()\n",
    "# produce spike trains\n",
    "cont.produce_spiketrains();"
   ]
  },
  {
   "cell_type": "code",
   "execution_count": 4,
   "id": "eafcb54e",
   "metadata": {},
   "outputs": [],
   "source": [
    "d2_seed_1 = 'C:\\\\Users\\\\Nida\\\\Documents\\\\NMBU\\\\master\\\\organized_spike_data\\\\resolution_1_2\\\\brunel_rounding_1_2\\\\brunel_rounding_True_delay_1.0_2.0_seed_1_spikes_exc-12502-0.dat'\n",
    "d2_1 = create_class(d2_seed_1)\n",
    "# create instance of class\n",
    "droop_1_2 = d2_1()\n",
    "# produce spike trains\n",
    "droop_1_2.produce_spiketrains();"
   ]
  },
  {
   "cell_type": "code",
   "execution_count": 5,
   "id": "dc5f12b6",
   "metadata": {},
   "outputs": [
    {
     "data": {
      "text/plain": [
       "10000"
      ]
     },
     "execution_count": 5,
     "metadata": {},
     "output_type": "execute_result"
    }
   ],
   "source": [
    "len(cont.spiketrains)"
   ]
  },
  {
   "cell_type": "code",
   "execution_count": 6,
   "id": "433c3799",
   "metadata": {},
   "outputs": [
    {
     "data": {
      "text/plain": [
       "10000"
      ]
     },
     "execution_count": 6,
     "metadata": {},
     "output_type": "execute_result"
    }
   ],
   "source": [
    "len(droop_1_2.spiketrains)"
   ]
  },
  {
   "cell_type": "code",
   "execution_count": 13,
   "id": "2bdd2c8b",
   "metadata": {},
   "outputs": [
    {
     "ename": "AttributeError",
     "evalue": "'ScoreMatrixM2M' object has no attribute 'wasserstein_distance'",
     "output_type": "error",
     "traceback": [
      "\u001b[1;31m---------------------------------------------------------------------------\u001b[0m",
      "\u001b[1;31mAttributeError\u001b[0m                            Traceback (most recent call last)",
      "Input \u001b[1;32mIn [13]\u001b[0m, in \u001b[0;36m<cell line: 1>\u001b[1;34m()\u001b[0m\n\u001b[1;32m----> 1\u001b[0m \u001b[38;5;28;01mclass\u001b[39;00m \u001b[38;5;21;01mFR_test_class\u001b[39;00m(sciunit\u001b[38;5;241m.\u001b[39mTestM2M, tests\u001b[38;5;241m.\u001b[39mfiring_rate_test):\n\u001b[0;32m      2\u001b[0m     score_type \u001b[38;5;241m=\u001b[39m scores\u001b[38;5;241m.\u001b[39mwasserstein_distance\n\u001b[0;32m      4\u001b[0m FR_test \u001b[38;5;241m=\u001b[39m FR_test_class()\n",
      "Input \u001b[1;32mIn [13]\u001b[0m, in \u001b[0;36mFR_test_class\u001b[1;34m()\u001b[0m\n\u001b[0;32m      1\u001b[0m \u001b[38;5;28;01mclass\u001b[39;00m \u001b[38;5;21;01mFR_test_class\u001b[39;00m(sciunit\u001b[38;5;241m.\u001b[39mTestM2M, tests\u001b[38;5;241m.\u001b[39mfiring_rate_test):\n\u001b[1;32m----> 2\u001b[0m     score_type \u001b[38;5;241m=\u001b[39m \u001b[43mscores\u001b[49m\u001b[38;5;241;43m.\u001b[39;49m\u001b[43mwasserstein_distance\u001b[49m\n",
      "File \u001b[1;32m~\\anaconda3\\envs\\nunit\\lib\\site-packages\\sciunit\\scores\\collections_m2m.py:164\u001b[0m, in \u001b[0;36mScoreMatrixM2M.__getattr__\u001b[1;34m(self, name)\u001b[0m\n\u001b[0;32m    162\u001b[0m     attr \u001b[38;5;241m=\u001b[39m \u001b[38;5;28mself\u001b[39m\u001b[38;5;241m.\u001b[39mapplymap(\u001b[38;5;28;01mlambda\u001b[39;00m x: \u001b[38;5;28mgetattr\u001b[39m(x, name))\n\u001b[0;32m    163\u001b[0m \u001b[38;5;28;01melse\u001b[39;00m:\n\u001b[1;32m--> 164\u001b[0m     attr \u001b[38;5;241m=\u001b[39m \u001b[38;5;28;43msuper\u001b[39;49m\u001b[43m(\u001b[49m\u001b[43mScoreMatrixM2M\u001b[49m\u001b[43m,\u001b[49m\u001b[43m \u001b[49m\u001b[38;5;28;43mself\u001b[39;49m\u001b[43m)\u001b[49m\u001b[38;5;241;43m.\u001b[39;49m\u001b[38;5;21;43m__getattribute__\u001b[39;49m\u001b[43m(\u001b[49m\u001b[43mname\u001b[49m\u001b[43m)\u001b[49m\n\u001b[0;32m    165\u001b[0m \u001b[38;5;28;01mreturn\u001b[39;00m attr\n",
      "\u001b[1;31mAttributeError\u001b[0m: 'ScoreMatrixM2M' object has no attribute 'wasserstein_distance'"
     ]
    }
   ],
   "source": [
    "class FR_test_class(sciunit.TestM2M, tests.firing_rate_test):\n",
    "    score_type = scores.wasserstein_distance\n",
    "    \n",
    "FR_test = FR_test_class()"
   ]
  },
  {
   "cell_type": "code",
   "execution_count": 8,
   "id": "97812272",
   "metadata": {},
   "outputs": [],
   "source": [
    "scores = FR_test.judge([cont,droop_1_2])"
   ]
  },
  {
   "cell_type": "code",
   "execution_count": 9,
   "id": "3ee89429",
   "metadata": {},
   "outputs": [
    {
     "data": {
      "text/html": [
       "<div>\n",
       "<style scoped>\n",
       "    .dataframe tbody tr th:only-of-type {\n",
       "        vertical-align: middle;\n",
       "    }\n",
       "\n",
       "    .dataframe tbody tr th {\n",
       "        vertical-align: top;\n",
       "    }\n",
       "\n",
       "    .dataframe thead th {\n",
       "        text-align: right;\n",
       "    }\n",
       "</style>\n",
       "<table border=\"1\" class=\"dataframe\">\n",
       "  <thead>\n",
       "    <tr style=\"text-align: right;\">\n",
       "      <th></th>\n",
       "      <th>model</th>\n",
       "      <th>model</th>\n",
       "    </tr>\n",
       "  </thead>\n",
       "  <tbody>\n",
       "    <tr>\n",
       "      <th>model</th>\n",
       "      <td>0.000000</td>\n",
       "      <td>1.317082</td>\n",
       "    </tr>\n",
       "    <tr>\n",
       "      <th>model</th>\n",
       "      <td>1.317082</td>\n",
       "      <td>0.000000</td>\n",
       "    </tr>\n",
       "  </tbody>\n",
       "</table>\n",
       "</div>"
      ],
      "text/plain": [
       "          model     model\n",
       "model  0.000000  1.317082\n",
       "model  1.317082  0.000000"
      ]
     },
     "execution_count": 9,
     "metadata": {},
     "output_type": "execute_result"
    }
   ],
   "source": [
    "scores.score"
   ]
  },
  {
   "cell_type": "code",
   "execution_count": null,
   "id": "55c548e5",
   "metadata": {},
   "outputs": [],
   "source": []
  }
 ],
 "metadata": {
  "kernelspec": {
   "display_name": "Python 3 (ipykernel)",
   "language": "python",
   "name": "python3"
  },
  "language_info": {
   "codemirror_mode": {
    "name": "ipython",
    "version": 3
   },
   "file_extension": ".py",
   "mimetype": "text/x-python",
   "name": "python",
   "nbconvert_exporter": "python",
   "pygments_lexer": "ipython3",
   "version": "3.9.12"
  }
 },
 "nbformat": 4,
 "nbformat_minor": 5
}
