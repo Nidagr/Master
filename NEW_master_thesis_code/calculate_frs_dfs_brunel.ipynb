{
 "cells": [
  {
   "cell_type": "code",
   "execution_count": 3,
   "id": "08da88b1",
   "metadata": {},
   "outputs": [],
   "source": [
    "import numpy as np\n",
    "import pandas as pd\n",
    "import matplotlib.pyplot as plt\n",
    "import seaborn as sns\n",
    "import elephant\n",
    "import quantities as pq\n",
    "import neo\n",
    "import sys\n",
    "from scipy.stats import ks_2samp\n",
    "plt.rcParams['figure.figsize'] = (14, 10)\n",
    "import scipy.stats as stats\n",
    "import itertools\n",
    "import random\n",
    "import sys\n",
    "sys.setrecursionlimit(10000)\n",
    "from pathlib import Path"
   ]
  },
  {
   "cell_type": "code",
   "execution_count": 3,
   "id": "99d3568b",
   "metadata": {},
   "outputs": [],
   "source": [
    "def get_cvs(spike_data):\n",
    "    \"\"\"\n",
    "    Get the CV for each neuron recorded. \n",
    "    \n",
    "    CV = standard_deviation(ISIs)/mean(ISIs)\n",
    "    \"\"\"\n",
    "    cvs = []\n",
    "     \n",
    "    spike_data = spike_data.sort_values(by='time_ms')\n",
    "    grouped = spike_data.groupby(spike_data['sender'])\n",
    "\n",
    "    for name, group in grouped:\n",
    "            \"\"\"\n",
    "            Each group is senders and times for one value of senders. That is, we iterate through all \n",
    "            neurons. And the times for each neuron is in sorted order. Therefore, the cvs\n",
    "            returned must have the same order. So cvs contain cv of neuron 1, then neuron 2 .... then neuron N.\n",
    "            \"\"\"\n",
    "            t = np.asarray(group['time_ms'])\n",
    "            spiketrain = neo.core.SpikeTrain(t * pq.ms, t_start=0*pq.ms, t_stop=10000*pq.ms)\n",
    "            isi = elephant.statistics.isi(spiketrain)\n",
    "            cv = elephant.statistics.cv(isi)\n",
    "            cvs.append(cv)\n",
    "            \n",
    "    return cvs"
   ]
  },
  {
   "cell_type": "code",
   "execution_count": 4,
   "id": "8e845d3e",
   "metadata": {},
   "outputs": [],
   "source": [
    "def get_cv_lists(exc):\n",
    "    cv_list_exc = list()\n",
    "    for i in range(1,11):\n",
    "        exc_cvs = get_cvs(exc[i])\n",
    "        cv_list_exc.append(exc_cvs)\n",
    "    return cv_list_exc"
   ]
  },
  {
   "cell_type": "code",
   "execution_count": 2,
   "id": "e39c2a34",
   "metadata": {},
   "outputs": [],
   "source": [
    "main_path = 'C:\\\\Users\\\\Nida\\\\Documents\\\\NMBU\\\\master\\\\organized_spike_data'\n",
    "res = ['resolution_1_2','resolution_1_4','resolution_1_8','resolution_1_16','resolution_1_32','resolution_1_64',\n",
    "      'resolution_1_128','resolution_1_256']\n",
    "typ = ['brunel_rounding_1_2','brunel_rounding_equal']"
   ]
  },
  {
   "cell_type": "code",
   "execution_count": 73,
   "id": "5fdafe30",
   "metadata": {},
   "outputs": [],
   "source": [
    "exc = {}\n",
    "for i in range(1,11):\n",
    "    exc[i] = pd.read_csv(r'{}/{}/{}/large_J/brunel_rounding_True_delay_0.998046875_2.001953125_seed_{}_spikes_exc-12502-0.dat'.format(main_path,res[7],typ[1],i),\n",
    "                         skiprows=2,sep='\\t')"
   ]
  },
  {
   "cell_type": "code",
   "execution_count": 74,
   "id": "38023ea5",
   "metadata": {},
   "outputs": [],
   "source": [
    "cv_lists = get_cv_lists(exc)"
   ]
  },
  {
   "cell_type": "code",
   "execution_count": 75,
   "id": "6e5d472f",
   "metadata": {},
   "outputs": [],
   "source": [
    "df = pd.DataFrame(cv_lists)"
   ]
  },
  {
   "cell_type": "code",
   "execution_count": 76,
   "id": "662bca32",
   "metadata": {},
   "outputs": [],
   "source": [
    "df.to_csv(r'{}/{}/{}/large_J/cv_exc.csv'.format(main_path,res[7],typ[1]))"
   ]
  },
  {
   "cell_type": "code",
   "execution_count": null,
   "id": "c591ab23",
   "metadata": {},
   "outputs": [],
   "source": []
  },
  {
   "cell_type": "code",
   "execution_count": null,
   "id": "472f9721",
   "metadata": {},
   "outputs": [],
   "source": []
  },
  {
   "cell_type": "code",
   "execution_count": null,
   "id": "b6a11fc8",
   "metadata": {},
   "outputs": [],
   "source": []
  },
  {
   "cell_type": "code",
   "execution_count": null,
   "id": "f67dc8f5",
   "metadata": {},
   "outputs": [],
   "source": []
  },
  {
   "cell_type": "code",
   "execution_count": null,
   "id": "133be181",
   "metadata": {},
   "outputs": [],
   "source": []
  },
  {
   "cell_type": "code",
   "execution_count": null,
   "id": "b1cd66cd",
   "metadata": {},
   "outputs": [],
   "source": []
  },
  {
   "cell_type": "markdown",
   "id": "13fc505b",
   "metadata": {},
   "source": [
    "For continous:"
   ]
  },
  {
   "cell_type": "code",
   "execution_count": 33,
   "id": "a78fd75b",
   "metadata": {},
   "outputs": [],
   "source": [
    "exc = {}\n",
    "for i in range(1,11):\n",
    "    exc[i] = pd.read_csv(r'{}/{}/brunel_continuous/large_J/brunel_continuous_delay_1.0_2.0_seed_{}_spikes_exc-12502-0.dat'.format(main_path,res[2],i),\n",
    "                         skiprows=2,sep='\\t')"
   ]
  },
  {
   "cell_type": "code",
   "execution_count": 34,
   "id": "394a88a8",
   "metadata": {},
   "outputs": [],
   "source": [
    "cv_lists = get_cv_lists(exc)"
   ]
  },
  {
   "cell_type": "code",
   "execution_count": 35,
   "id": "a600d43d",
   "metadata": {},
   "outputs": [],
   "source": [
    "df = pd.DataFrame(cv_lists)"
   ]
  },
  {
   "cell_type": "code",
   "execution_count": 36,
   "id": "6c7ea561",
   "metadata": {},
   "outputs": [],
   "source": [
    "df.to_csv(r'{}/{}/brunel_continuous/large_J/cv_exc.csv'.format(main_path,res[2]))"
   ]
  },
  {
   "cell_type": "code",
   "execution_count": null,
   "id": "3239b9d6",
   "metadata": {},
   "outputs": [],
   "source": []
  },
  {
   "cell_type": "code",
   "execution_count": null,
   "id": "d186e9cf",
   "metadata": {},
   "outputs": [],
   "source": []
  },
  {
   "cell_type": "code",
   "execution_count": null,
   "id": "f0514c55",
   "metadata": {},
   "outputs": [],
   "source": []
  },
  {
   "cell_type": "code",
   "execution_count": null,
   "id": "20ccd1b0",
   "metadata": {},
   "outputs": [],
   "source": []
  },
  {
   "cell_type": "code",
   "execution_count": null,
   "id": "bf3c093a",
   "metadata": {},
   "outputs": [],
   "source": []
  },
  {
   "cell_type": "code",
   "execution_count": 20,
   "id": "38bf44e1",
   "metadata": {},
   "outputs": [],
   "source": [
    "def get_frs(spike_data):\n",
    "    \"\"\"\n",
    "    Get the FR for each neuron recorded. \n",
    "    \n",
    "    FR = number of spikes fired during simulation/time of simulation\n",
    "    \"\"\"\n",
    "    frs = []\n",
    "     \n",
    "    spike_data = spike_data.sort_values(by='time_ms')\n",
    "    grouped = spike_data.groupby(spike_data['sender'])\n",
    "\n",
    "    for name, group in grouped:\n",
    "            \"\"\"\n",
    "            Each group is senders and times for one value of senders. That is, we iterate through all \n",
    "            neurons. And the times for each neuron is in sorted order. Therefore, the cvs\n",
    "            returned must have the same order. So cvs contain cv of neuron 1, then neuron 2 .... then neuron N.\n",
    "            \"\"\"\n",
    "            t = np.asarray(group['time_ms'])\n",
    "            spiketrain = neo.core.SpikeTrain(t * pq.ms, t_start=0*pq.ms, t_stop=10000*pq.ms)\n",
    "            fr = elephant.statistics.mean_firing_rate(spiketrain)\n",
    "            frs.append(fr)\n",
    "            \n",
    "    return frs"
   ]
  },
  {
   "cell_type": "code",
   "execution_count": 21,
   "id": "43c8a1a2",
   "metadata": {},
   "outputs": [],
   "source": [
    "def get_fr_lists(exc):\n",
    "    fr_list_exc = list()\n",
    "    for i in range(1,11):\n",
    "        exc_frs = get_frs(exc[i])\n",
    "        fr_list_exc.append(exc_frs)\n",
    "    return fr_list_exc"
   ]
  },
  {
   "cell_type": "code",
   "execution_count": 79,
   "id": "5d10a47d",
   "metadata": {},
   "outputs": [],
   "source": [
    "main_path = 'C:\\\\Users\\\\Nida\\\\Documents\\\\NMBU\\\\master\\\\organized_spike_data'\n",
    "res = ['resolution_1_2','resolution_1_4','resolution_1_8','resolution_1_16','resolution_1_32','resolution_1_64',\n",
    "      'resolution_1_128','resolution_1_256']\n",
    "typ = ['brunel_rounding_1_2','brunel_rounding_equal']"
   ]
  },
  {
   "cell_type": "code",
   "execution_count": 153,
   "id": "21292481",
   "metadata": {},
   "outputs": [],
   "source": [
    "exc = {}\n",
    "for i in range(1,11):\n",
    "    exc[i] = pd.read_csv(r'{}/{}/{}/large_J/brunel_rounding_True_delay_0.998046875_2.001953125_seed_{}_spikes_exc-12502-0.dat'.format(main_path,res[7],typ[1],i),\n",
    "                         skiprows=2,sep='\\t')"
   ]
  },
  {
   "cell_type": "code",
   "execution_count": 154,
   "id": "2932711f",
   "metadata": {},
   "outputs": [],
   "source": [
    "fr_lists = get_fr_lists(exc)"
   ]
  },
  {
   "cell_type": "code",
   "execution_count": 155,
   "id": "2c512e56",
   "metadata": {},
   "outputs": [],
   "source": [
    "df = pd.DataFrame(fr_lists)"
   ]
  },
  {
   "cell_type": "code",
   "execution_count": 156,
   "id": "3baffc1c",
   "metadata": {},
   "outputs": [],
   "source": [
    "df.to_pickle(r'{}/{}/{}/large_J/mean_fr_exc.pkl'.format(main_path,res[7],typ[1]))"
   ]
  },
  {
   "cell_type": "code",
   "execution_count": null,
   "id": "443d5f47",
   "metadata": {},
   "outputs": [],
   "source": []
  },
  {
   "cell_type": "code",
   "execution_count": null,
   "id": "366ba48b",
   "metadata": {},
   "outputs": [],
   "source": []
  },
  {
   "cell_type": "code",
   "execution_count": null,
   "id": "f936a6e1",
   "metadata": {},
   "outputs": [],
   "source": []
  },
  {
   "cell_type": "code",
   "execution_count": 113,
   "id": "a1af31a7",
   "metadata": {},
   "outputs": [],
   "source": [
    "exc = {}\n",
    "for i in range(1,11):\n",
    "    exc[i] = pd.read_csv(r'{}/{}/brunel_continuous/large_J/brunel_continuous_delay_1.0_2.0_seed_{}_spikes_exc-12502-0.dat'.format(main_path,res[2],i),\n",
    "                         skiprows=2,sep='\\t')"
   ]
  },
  {
   "cell_type": "code",
   "execution_count": 114,
   "id": "6247db51",
   "metadata": {},
   "outputs": [],
   "source": [
    "fr_lists = get_fr_lists(exc)"
   ]
  },
  {
   "cell_type": "code",
   "execution_count": 115,
   "id": "3c9692fc",
   "metadata": {},
   "outputs": [],
   "source": [
    "df = pd.DataFrame(fr_lists)"
   ]
  },
  {
   "cell_type": "code",
   "execution_count": 116,
   "id": "dda79e06",
   "metadata": {},
   "outputs": [],
   "source": [
    "df.to_pickle(r'{}/{}/brunel_continuous/large_J/mean_fr_exc.pkl'.format(main_path,res[2]))"
   ]
  },
  {
   "cell_type": "code",
   "execution_count": null,
   "id": "5bb52d97",
   "metadata": {},
   "outputs": [],
   "source": [
    "\n",
    "\n",
    "\n",
    "\n"
   ]
  },
  {
   "cell_type": "code",
   "execution_count": null,
   "id": "4c062a41",
   "metadata": {},
   "outputs": [],
   "source": []
  },
  {
   "cell_type": "code",
   "execution_count": null,
   "id": "02b79802",
   "metadata": {},
   "outputs": [],
   "source": []
  },
  {
   "cell_type": "code",
   "execution_count": null,
   "id": "0757f76a",
   "metadata": {},
   "outputs": [],
   "source": []
  },
  {
   "cell_type": "code",
   "execution_count": 26,
   "id": "72fafe59",
   "metadata": {},
   "outputs": [],
   "source": [
    "def create_fr_dfs():\n",
    "    path = Path('C:\\\\Users\\\\Nida\\\\Documents\\\\NMBU\\\\master\\\\organized_spike_data')\n",
    "    for p in path.iterdir():\n",
    "        # for each resolution folder\n",
    "        # get list of all files of excitatory spike times in semi cont brunel in one resolution\n",
    "        file = list(p.glob('brunel_continuous/*12502-0.dat'))\n",
    "        if len(file)>0:\n",
    "            fr_list = list()\n",
    "            for f in file:\n",
    "                df = pd.read_csv(f,skiprows=2,sep='\\t')\n",
    "                frs = get_frs(df) # get cvs of one seed value one resolution\n",
    "                fr_list.append(frs)\n",
    "            df = pd.DataFrame(fr_list).fillna(pq.quantity.Quantity(0,units='1/ms')) # save frs to dataframe\n",
    "            df.to_pickle(r'{}\\brunel_continuous\\mean_fr_exc.pkl'.format(p)) # save as csv file "
   ]
  },
  {
   "cell_type": "code",
   "execution_count": 27,
   "id": "669c891f",
   "metadata": {},
   "outputs": [],
   "source": [
    "create_fr_dfs()"
   ]
  },
  {
   "cell_type": "code",
   "execution_count": null,
   "id": "af979650",
   "metadata": {},
   "outputs": [],
   "source": []
  }
 ],
 "metadata": {
  "kernelspec": {
   "display_name": "Python 3",
   "language": "python",
   "name": "python3"
  },
  "language_info": {
   "codemirror_mode": {
    "name": "ipython",
    "version": 3
   },
   "file_extension": ".py",
   "mimetype": "text/x-python",
   "name": "python",
   "nbconvert_exporter": "python",
   "pygments_lexer": "ipython3",
   "version": "3.8.8"
  }
 },
 "nbformat": 4,
 "nbformat_minor": 5
}
