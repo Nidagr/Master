{
 "cells": [
  {
   "cell_type": "code",
   "execution_count": 14,
   "id": "8e7151d0",
   "metadata": {},
   "outputs": [],
   "source": [
    "import neo\n",
    "from networkunit import tests, scores, models\n",
    "#from networkunit.capabilities.cap_ProducesSpikeTrains import ProducesSpikeTrains\n",
    "from networkunit.capabilities.ProducesSpikeTrains import ProducesSpikeTrains # branch v0.2\n",
    "from copy import copy\n",
    "import pandas as pd\n",
    "import numpy as np\n",
    "import elephant\n",
    "import quantities as pq\n",
    "import sciunit\n",
    "from quantities import ms\n",
    "import sys\n",
    "sys.setrecursionlimit(10000)\n",
    "from pathlib import Path"
   ]
  },
  {
   "cell_type": "code",
   "execution_count": 15,
   "id": "b4c8fe09",
   "metadata": {},
   "outputs": [],
   "source": [
    "def create_class(path):\n",
    "    \"\"\"\n",
    "    This function creates a model class for the specific file path given.\n",
    "    \"\"\"\n",
    "    class model(models.loaded_spiketrains): \n",
    "    \n",
    "        default_params = {'file_path':path}\n",
    "\n",
    "        def load(self):\n",
    "            file_path = self.default_params['file_path']        \n",
    "            data = pd.read_csv(file_path,skiprows=2,sep='\\t')\n",
    "            spike_data = data.sort_values(by='time_ms')\n",
    "            grouped = spike_data.groupby(spike_data['sender'])\n",
    "\n",
    "            spike_trains = []\n",
    "            for name, group in grouped:\n",
    "                    \"\"\"\n",
    "                    Each group is senders and times for one value of senders. That is, we iterate through all \n",
    "                    neurons. And the times for each neuron is in sorted order. Therefore, the cvs\n",
    "                    returned must have the same order. So cvs contain cv of neuron 1, then neuron 2 .... then neuron N.\n",
    "                    \"\"\"\n",
    "                    t = np.asarray(group['time_ms'])\n",
    "                    spiketrain = neo.core.SpikeTrain(t * pq.ms, t_start=0*pq.ms, t_stop=10000*pq.ms)\n",
    "                    spike_trains.append(spiketrain)\n",
    "            return spike_trains\n",
    "    return model"
   ]
  },
  {
   "cell_type": "code",
   "execution_count": 16,
   "id": "f84b5911",
   "metadata": {},
   "outputs": [],
   "source": [
    "cont_seed_1 = 'C:\\\\Users\\\\Nida\\\\Documents\\\\NMBU\\\\master\\\\organized_spike_data\\\\resolution_1_8\\\\brunel_continuous\\\\brunel_continuous_delay_1.0_2.0_seed_1_spikes_exc-12502-0.dat'\n",
    "cont_1 = create_class(cont_seed_1)\n",
    "# create instance of class\n",
    "cont = cont_1()\n",
    "# produce spike trains\n",
    "cont.produce_spiketrains();"
   ]
  },
  {
   "cell_type": "code",
   "execution_count": 17,
   "id": "eafcb54e",
   "metadata": {},
   "outputs": [],
   "source": [
    "d2_seed_1 = 'C:\\\\Users\\\\Nida\\\\Documents\\\\NMBU\\\\master\\\\organized_spike_data\\\\resolution_1_2\\\\brunel_rounding_1_2\\\\brunel_rounding_True_delay_1.0_2.0_seed_1_spikes_exc-12502-0.dat'\n",
    "d2_1 = create_class(d2_seed_1)\n",
    "# create instance of class\n",
    "droop_1_2 = d2_1()\n",
    "# produce spike trains\n",
    "droop_1_2.produce_spiketrains();"
   ]
  },
  {
   "cell_type": "code",
   "execution_count": 18,
   "id": "dc5f12b6",
   "metadata": {},
   "outputs": [
    {
     "data": {
      "text/plain": [
       "10000"
      ]
     },
     "execution_count": 18,
     "metadata": {},
     "output_type": "execute_result"
    }
   ],
   "source": [
    "len(cont.spiketrains)"
   ]
  },
  {
   "cell_type": "code",
   "execution_count": 19,
   "id": "433c3799",
   "metadata": {},
   "outputs": [
    {
     "data": {
      "text/plain": [
       "10000"
      ]
     },
     "execution_count": 19,
     "metadata": {},
     "output_type": "execute_result"
    }
   ],
   "source": [
    "len(droop_1_2.spiketrains)"
   ]
  },
  {
   "cell_type": "code",
   "execution_count": 20,
   "id": "2bdd2c8b",
   "metadata": {},
   "outputs": [],
   "source": [
    "class FR_test_class(sciunit.TestM2M, tests.firing_rate_test):\n",
    "    score_type = scores.wasserstein_distance\n",
    "    \n",
    "FR_test = FR_test_class()"
   ]
  },
  {
   "cell_type": "code",
   "execution_count": 8,
   "id": "97812272",
   "metadata": {},
   "outputs": [],
   "source": [
    "scores = FR_test.judge([cont,droop_1_2])"
   ]
  },
  {
   "cell_type": "code",
   "execution_count": 9,
   "id": "3ee89429",
   "metadata": {},
   "outputs": [
    {
     "data": {
      "text/html": [
       "<div>\n",
       "<style scoped>\n",
       "    .dataframe tbody tr th:only-of-type {\n",
       "        vertical-align: middle;\n",
       "    }\n",
       "\n",
       "    .dataframe tbody tr th {\n",
       "        vertical-align: top;\n",
       "    }\n",
       "\n",
       "    .dataframe thead th {\n",
       "        text-align: right;\n",
       "    }\n",
       "</style>\n",
       "<table border=\"1\" class=\"dataframe\">\n",
       "  <thead>\n",
       "    <tr style=\"text-align: right;\">\n",
       "      <th></th>\n",
       "      <th>model</th>\n",
       "      <th>model</th>\n",
       "    </tr>\n",
       "  </thead>\n",
       "  <tbody>\n",
       "    <tr>\n",
       "      <th>model</th>\n",
       "      <td>0.000000</td>\n",
       "      <td>1.317082</td>\n",
       "    </tr>\n",
       "    <tr>\n",
       "      <th>model</th>\n",
       "      <td>1.317082</td>\n",
       "      <td>0.000000</td>\n",
       "    </tr>\n",
       "  </tbody>\n",
       "</table>\n",
       "</div>"
      ],
      "text/plain": [
       "          model     model\n",
       "model  0.000000  1.317082\n",
       "model  1.317082  0.000000"
      ]
     },
     "execution_count": 9,
     "metadata": {},
     "output_type": "execute_result"
    }
   ],
   "source": [
    "scores.score"
   ]
  },
  {
   "cell_type": "code",
   "execution_count": null,
   "id": "55c548e5",
   "metadata": {},
   "outputs": [],
   "source": []
  }
 ],
 "metadata": {
  "kernelspec": {
   "display_name": "Python 3",
   "language": "python",
   "name": "python3"
  },
  "language_info": {
   "codemirror_mode": {
    "name": "ipython",
    "version": 3
   },
   "file_extension": ".py",
   "mimetype": "text/x-python",
   "name": "python",
   "nbconvert_exporter": "python",
   "pygments_lexer": "ipython3",
   "version": "3.8.8"
  }
 },
 "nbformat": 4,
 "nbformat_minor": 5
}
