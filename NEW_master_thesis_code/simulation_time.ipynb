{
 "cells": [
  {
   "cell_type": "code",
   "execution_count": 1,
   "id": "d781fa9b",
   "metadata": {},
   "outputs": [],
   "source": [
    "import pandas as pd\n",
    "pd.set_option('display.max_columns', None)\n",
    "import matplotlib.pyplot as plt\n",
    "#plt.rcParams['figure.figsize'] = (14, 10)\n",
    "import numpy as np"
   ]
  },
  {
   "cell_type": "code",
   "execution_count": 2,
   "id": "16f20e89",
   "metadata": {},
   "outputs": [],
   "source": [
    "cm = 1/2.54  # centimeters in inches\n",
    "plt.rcParams['figure.figsize'] = (8*cm,6*cm)"
   ]
  },
  {
   "cell_type": "code",
   "execution_count": 3,
   "id": "1621e286",
   "metadata": {},
   "outputs": [],
   "source": [
    "fig_path = 'C:\\\\Users\\\\Nida\\\\Documents\\\\NMBU\\\\master\\\\Figures'"
   ]
  },
  {
   "cell_type": "markdown",
   "id": "78b15d4e",
   "metadata": {},
   "source": [
    "# Runtimes for the different models\n",
    "\n",
    "We want to take the runtime for the different models and resolutions into account when comparing the results. Here we retrieve the result.log files and read them into dataframes. \n",
    "\n",
    "## Brunel"
   ]
  },
  {
   "cell_type": "code",
   "execution_count": 4,
   "id": "ffd8f6f5",
   "metadata": {},
   "outputs": [],
   "source": [
    "brunel = 'C:\\\\Users\\\\Nida\\\\Documents\\\\NMBU\\\\master\\\\result_log_files_brunel'\n",
    "droop_1_2 = 'droop_res_1_2_result.log'\n",
    "droop_1_4 = 'droop_res_1_4_result.log'\n",
    "droop_1_8 = 'droop_res_1_8_result.log'\n",
    "droop_1_16 = 'droop_res_1_16_result.log'\n",
    "droop_1_32 = 'droop_res_1_32_result.log'\n",
    "droop_1_64 = 'droop_res_1_64_result.log'\n",
    "droop_1_128 = 'droop_res_1_128_result.log'\n",
    "droop_1_256 = 'droop_res_1_256_result.log'\n",
    "equal_1_2 = 'equal_res_1_2_result.log'\n",
    "equal_1_4 = 'equal_res_1_4_result.log'\n",
    "equal_1_8 = 'equal_res_1_8_result.log'\n",
    "equal_1_16 = 'equal_res_1_16_result.log'\n",
    "equal_1_32 = 'equal_res_1_32_result.log'\n",
    "equal_1_64 = 'equal_res_1_64_result.log'\n",
    "equal_1_128 = 'equal_res_1_128_result.log'\n",
    "equal_1_256 = 'equal_res_1_256_result.log'\n",
    "cont = 'cont_res_1_8_result.log'\n",
    "\n",
    "droop_paths = [droop_1_2, droop_1_4, droop_1_8, droop_1_16, droop_1_32, droop_1_64, droop_1_128, droop_1_256]\n",
    "equal_paths = [equal_1_2, equal_1_4, equal_1_8, equal_1_16, equal_1_32, equal_1_64, equal_1_128, equal_1_256]"
   ]
  },
  {
   "cell_type": "markdown",
   "id": "cd47416f",
   "metadata": {},
   "source": [
    "Can remove first column, last row, and make second column into values 1-10 as seed values."
   ]
  },
  {
   "cell_type": "code",
   "execution_count": 5,
   "id": "919e1555",
   "metadata": {},
   "outputs": [],
   "source": [
    "def format_result(path1,path2):\n",
    "    seed = [1,2,3,4,5,6,7,8,9,10]\n",
    "    df = pd.read_csv(r'{}\\{}'.format(path1,path2),skiprows=1)\n",
    "    df = df.iloc[:-1 , 2:]\n",
    "    df.index = seed\n",
    "    return df"
   ]
  },
  {
   "cell_type": "code",
   "execution_count": 6,
   "id": "57379710",
   "metadata": {},
   "outputs": [],
   "source": [
    "droop_dfs = []\n",
    "for d in droop_paths:\n",
    "    df = format_result(brunel,d)\n",
    "    droop_dfs.append(df)"
   ]
  },
  {
   "cell_type": "code",
   "execution_count": 7,
   "id": "41d508bd",
   "metadata": {},
   "outputs": [],
   "source": [
    "equal_dfs = []\n",
    "for d in equal_paths:\n",
    "    df = format_result(brunel,d)\n",
    "    equal_dfs.append(df)"
   ]
  },
  {
   "cell_type": "code",
   "execution_count": 8,
   "id": "f78ee897",
   "metadata": {},
   "outputs": [],
   "source": [
    "continuous = format_result(brunel,cont)"
   ]
  },
  {
   "cell_type": "markdown",
   "id": "e2a4cf4a",
   "metadata": {},
   "source": [
    "We get a runtime for each seed value, most interesting to look at a mean runtime for each resolution and model type, mean across the seed values. But also want the standard deviaiton for the sake of the visualization, so add for all seed values."
   ]
  },
  {
   "cell_type": "code",
   "execution_count": 9,
   "id": "afac0dde",
   "metadata": {},
   "outputs": [],
   "source": [
    "wall_time_droop = []\n",
    "py_time_droop = []\n",
    "\n",
    "for df in droop_dfs:\n",
    "    w = df['wall_time_sim']\n",
    "    p = df['py_time_simulate']\n",
    "    wall_time_droop.append(w)\n",
    "    py_time_droop.append(p)"
   ]
  },
  {
   "cell_type": "code",
   "execution_count": 10,
   "id": "0b9d89cd",
   "metadata": {},
   "outputs": [],
   "source": [
    "wall_time_equal = []\n",
    "py_time_equal = []\n",
    "\n",
    "for df in equal_dfs:\n",
    "    w = df['wall_time_sim']\n",
    "    p = df['py_time_simulate']\n",
    "    wall_time_equal.append(w)\n",
    "    py_time_equal.append(p)"
   ]
  },
  {
   "cell_type": "code",
   "execution_count": 11,
   "id": "94c4fce2",
   "metadata": {},
   "outputs": [],
   "source": [
    "wall_time_cont = continuous['wall_time_sim']\n",
    "py_time_cont = continuous['py_time_simulate']"
   ]
  },
  {
   "cell_type": "code",
   "execution_count": 12,
   "id": "67a87ced",
   "metadata": {},
   "outputs": [],
   "source": [
    "first = ['equal','droop','cont']\n",
    "second = [2,4,8,16,32,64,128,256]\n",
    "third = [1,2,3,4,5,6,7,8,9,10] # what seed\n",
    "arrays=[first,second,third]\n",
    "cols = ['wall_time','py_time']\n",
    "\n",
    "index = pd.MultiIndex.from_product(arrays)\n",
    "df_brunel = pd.DataFrame(index=index, columns=cols)\n",
    "df_brunel_runtimes=df_brunel.sort_index()"
   ]
  },
  {
   "cell_type": "code",
   "execution_count": 13,
   "id": "b6b551e9",
   "metadata": {},
   "outputs": [],
   "source": [
    "res = [2,4,8,16,32,64,128,256]\n",
    "\n",
    "for i in range(len(res)):\n",
    "    for j in range(1,11):\n",
    "        df_brunel_runtimes.loc[('droop',res[i],j)]['wall_time']=wall_time_droop[i][j]\n",
    "        df_brunel_runtimes.loc[('equal',res[i],j)]['wall_time']=wall_time_equal[i][j]\n",
    "        df_brunel_runtimes.loc[('droop',res[i],j)]['py_time']=py_time_droop[i][j]\n",
    "        df_brunel_runtimes.loc[('equal',res[i],j)]['py_time']=py_time_equal[i][j]\n",
    "\n",
    "\n",
    "df_brunel_runtimes.loc[('cont',8)]['wall_time'][:]=wall_time_cont.values\n",
    "df_brunel_runtimes.loc[('cont',8)]['py_time'][:]=py_time_cont.values"
   ]
  },
  {
   "cell_type": "code",
   "execution_count": 14,
   "id": "4c6f2959",
   "metadata": {},
   "outputs": [
    {
     "data": {
      "text/html": [
       "<div>\n",
       "<style scoped>\n",
       "    .dataframe tbody tr th:only-of-type {\n",
       "        vertical-align: middle;\n",
       "    }\n",
       "\n",
       "    .dataframe tbody tr th {\n",
       "        vertical-align: top;\n",
       "    }\n",
       "\n",
       "    .dataframe thead th {\n",
       "        text-align: right;\n",
       "    }\n",
       "</style>\n",
       "<table border=\"1\" class=\"dataframe\">\n",
       "  <thead>\n",
       "    <tr style=\"text-align: right;\">\n",
       "      <th></th>\n",
       "      <th></th>\n",
       "      <th>wall_time</th>\n",
       "      <th>py_time</th>\n",
       "    </tr>\n",
       "  </thead>\n",
       "  <tbody>\n",
       "    <tr>\n",
       "      <th rowspan=\"5\" valign=\"top\">2</th>\n",
       "      <th>1</th>\n",
       "      <td>65.940397</td>\n",
       "      <td>65.94234</td>\n",
       "    </tr>\n",
       "    <tr>\n",
       "      <th>2</th>\n",
       "      <td>63.426324</td>\n",
       "      <td>63.427941</td>\n",
       "    </tr>\n",
       "    <tr>\n",
       "      <th>3</th>\n",
       "      <td>62.329363</td>\n",
       "      <td>62.331183</td>\n",
       "    </tr>\n",
       "    <tr>\n",
       "      <th>4</th>\n",
       "      <td>63.622938</td>\n",
       "      <td>63.625544</td>\n",
       "    </tr>\n",
       "    <tr>\n",
       "      <th>5</th>\n",
       "      <td>63.837447</td>\n",
       "      <td>63.840347</td>\n",
       "    </tr>\n",
       "    <tr>\n",
       "      <th>...</th>\n",
       "      <th>...</th>\n",
       "      <td>...</td>\n",
       "      <td>...</td>\n",
       "    </tr>\n",
       "    <tr>\n",
       "      <th rowspan=\"5\" valign=\"top\">256</th>\n",
       "      <th>6</th>\n",
       "      <td>1372.737998</td>\n",
       "      <td>1372.74149</td>\n",
       "    </tr>\n",
       "    <tr>\n",
       "      <th>7</th>\n",
       "      <td>1365.508555</td>\n",
       "      <td>1365.512052</td>\n",
       "    </tr>\n",
       "    <tr>\n",
       "      <th>8</th>\n",
       "      <td>1365.307461</td>\n",
       "      <td>1365.311088</td>\n",
       "    </tr>\n",
       "    <tr>\n",
       "      <th>9</th>\n",
       "      <td>1372.272223</td>\n",
       "      <td>1372.27614</td>\n",
       "    </tr>\n",
       "    <tr>\n",
       "      <th>10</th>\n",
       "      <td>1359.835154</td>\n",
       "      <td>1359.838859</td>\n",
       "    </tr>\n",
       "  </tbody>\n",
       "</table>\n",
       "<p>80 rows × 2 columns</p>\n",
       "</div>"
      ],
      "text/plain": [
       "          wall_time      py_time\n",
       "2   1     65.940397     65.94234\n",
       "    2     63.426324    63.427941\n",
       "    3     62.329363    62.331183\n",
       "    4     63.622938    63.625544\n",
       "    5     63.837447    63.840347\n",
       "...             ...          ...\n",
       "256 6   1372.737998   1372.74149\n",
       "    7   1365.508555  1365.512052\n",
       "    8   1365.307461  1365.311088\n",
       "    9   1372.272223   1372.27614\n",
       "    10  1359.835154  1359.838859\n",
       "\n",
       "[80 rows x 2 columns]"
      ]
     },
     "execution_count": 14,
     "metadata": {},
     "output_type": "execute_result"
    }
   ],
   "source": [
    "df_brunel_runtimes.loc[('equal')]"
   ]
  },
  {
   "cell_type": "markdown",
   "id": "a33a5def",
   "metadata": {},
   "source": [
    "Do the same for microcircuit model.\n",
    "\n",
    "## Microcircuit"
   ]
  },
  {
   "cell_type": "code",
   "execution_count": 15,
   "id": "2c683e1f",
   "metadata": {},
   "outputs": [],
   "source": [
    "microcircuit = 'C:\\\\Users\\\\Nida\\\\Documents\\\\NMBU\\\\master\\\\result_log_files_microcircuit'\n",
    "droop_1_2_m = 'droop_res_1_2_result.log'\n",
    "droop_1_4_m = 'droop_res_1_4_result.log'\n",
    "droop_1_8_m = 'droop_res_1_8_result.log'\n",
    "droop_1_16_m = 'droop_res_1_16_result.log'\n",
    "droop_1_32_m = 'droop_res_1_32_result.log'\n",
    "droop_1_64_m = 'droop_res_1_64_result.log'\n",
    "droop_1_128_m = 'droop_res_1_128_result.log'\n",
    "droop_1_256_m = 'droop_res_1_256_result.log'\n",
    "\n",
    "equal_1_4_m = 'equal_res_1_4_result.log'\n",
    "equal_1_8_m = 'equal_res_1_8_result.log'\n",
    "equal_1_16_m = 'equal_res_1_16_result.log'\n",
    "equal_1_32_m = 'equal_res_1_32_result.log'\n",
    "equal_1_64_m = 'equal_res_1_64_result.log'\n",
    "equal_1_128_m = 'equal_res_1_128_result.log'\n",
    "equal_1_256_m = 'equal_res_1_256_result.log'\n",
    "cont_m = 'continuous_1_8_all_seed_microcircuit_result.log'\n",
    "\n",
    "droop_paths_m = [droop_1_2_m, droop_1_4_m, droop_1_8_m, droop_1_16_m, droop_1_32_m, droop_1_64_m, droop_1_128_m, droop_1_256_m]\n",
    "equal_paths_m = [equal_1_4_m, equal_1_8_m, equal_1_16_m, equal_1_32_m, equal_1_64_m, equal_1_128_m, equal_1_256_m]"
   ]
  },
  {
   "cell_type": "markdown",
   "id": "ff18919e",
   "metadata": {},
   "source": [
    "Drop first coloumn, last row and make second column into seed vales 1-10. Here all the wall-time columns have values, include all of them when calculating total walltime. For py-time only the network one is nan."
   ]
  },
  {
   "cell_type": "code",
   "execution_count": 16,
   "id": "cec1886a",
   "metadata": {},
   "outputs": [],
   "source": [
    "droop_dfs_m = []\n",
    "for d in droop_paths_m:\n",
    "    df_m = format_result(microcircuit,d)\n",
    "    droop_dfs_m.append(df_m)"
   ]
  },
  {
   "cell_type": "code",
   "execution_count": 17,
   "id": "e830bf67",
   "metadata": {},
   "outputs": [],
   "source": [
    "equal_dfs_m = []\n",
    "for d in equal_paths_m:\n",
    "    df_m = format_result(microcircuit,d)\n",
    "    equal_dfs_m.append(df_m)"
   ]
  },
  {
   "cell_type": "code",
   "execution_count": 18,
   "id": "9ed97415",
   "metadata": {},
   "outputs": [],
   "source": [
    "continuous_m = format_result(microcircuit,cont_m)"
   ]
  },
  {
   "cell_type": "code",
   "execution_count": 19,
   "id": "becf14c5",
   "metadata": {},
   "outputs": [],
   "source": [
    "wall_time_droop_m = []\n",
    "py_time_droop_m = []\n",
    "\n",
    "for df in droop_dfs_m:\n",
    "    w = df['wall_time_sim']\n",
    "    p = df['py_time_simulate']\n",
    "    wall_time_droop_m.append(w)\n",
    "    py_time_droop_m.append(p)"
   ]
  },
  {
   "cell_type": "code",
   "execution_count": 20,
   "id": "ab0eab78",
   "metadata": {},
   "outputs": [],
   "source": [
    "wall_time_equal_m = []\n",
    "py_time_equal_m = []\n",
    "\n",
    "for df in equal_dfs_m:\n",
    "    w = df['wall_time_sim']\n",
    "    p = df['py_time_simulate']\n",
    "    wall_time_equal_m.append(w)\n",
    "    py_time_equal_m.append(p)"
   ]
  },
  {
   "cell_type": "code",
   "execution_count": 21,
   "id": "a95f26cd",
   "metadata": {},
   "outputs": [],
   "source": [
    "wall_time_cont_m = continuous_m['wall_time_sim']\n",
    "py_time_cont_m = continuous_m['py_time_simulate']"
   ]
  },
  {
   "cell_type": "code",
   "execution_count": 22,
   "id": "ad0cb053",
   "metadata": {},
   "outputs": [],
   "source": [
    "first = ['equal','droop','cont']\n",
    "second = [2,4,8,16,32,64,128,256]\n",
    "third = [1,2,3,4,5,6,7,8,9,10] # what seed\n",
    "arrays=[first,second,third]\n",
    "cols = ['wall_time','py_time']\n",
    "\n",
    "index = pd.MultiIndex.from_product(arrays)\n",
    "df_microcircuit = pd.DataFrame(index=index, columns=cols)\n",
    "df_microcircuit_runtimes=df_microcircuit.sort_index()"
   ]
  },
  {
   "cell_type": "code",
   "execution_count": 23,
   "id": "c53294f3",
   "metadata": {},
   "outputs": [],
   "source": [
    "res = [2,4,8,16,32,64,128,256]\n",
    "\n",
    "for i in range(len(res)):\n",
    "    for j in range(1,11):\n",
    "        df_microcircuit_runtimes.loc[('droop',res[i],j)]['wall_time']=wall_time_droop_m[i][j]\n",
    "        df_microcircuit_runtimes.loc[('droop',res[i],j)]['py_time']=py_time_droop_m[i][j]\n",
    "        \n",
    "df_microcircuit_runtimes.loc[('cont',8)]['wall_time'][:]=wall_time_cont_m.values\n",
    "df_microcircuit_runtimes.loc[('cont',8)]['py_time'][:]=py_time_cont_m.values\n"
   ]
  },
  {
   "cell_type": "code",
   "execution_count": 24,
   "id": "2d373788",
   "metadata": {},
   "outputs": [],
   "source": [
    "res = [4,8,16,32,64,128,256]\n",
    "\n",
    "for i in range(len(res)):\n",
    "    for j in range(1,11):\n",
    "        df_microcircuit_runtimes.loc[('equal',res[i],j)]['wall_time']=wall_time_equal_m[i][j]\n",
    "        df_microcircuit_runtimes.loc[('equal',res[i],j)]['py_time']=py_time_equal_m[i][j]\n",
    "        "
   ]
  },
  {
   "cell_type": "code",
   "execution_count": 25,
   "id": "6a5ddb0d",
   "metadata": {},
   "outputs": [
    {
     "data": {
      "text/html": [
       "<div>\n",
       "<style scoped>\n",
       "    .dataframe tbody tr th:only-of-type {\n",
       "        vertical-align: middle;\n",
       "    }\n",
       "\n",
       "    .dataframe tbody tr th {\n",
       "        vertical-align: top;\n",
       "    }\n",
       "\n",
       "    .dataframe thead th {\n",
       "        text-align: right;\n",
       "    }\n",
       "</style>\n",
       "<table border=\"1\" class=\"dataframe\">\n",
       "  <thead>\n",
       "    <tr style=\"text-align: right;\">\n",
       "      <th></th>\n",
       "      <th></th>\n",
       "      <th></th>\n",
       "      <th>wall_time</th>\n",
       "      <th>py_time</th>\n",
       "    </tr>\n",
       "  </thead>\n",
       "  <tbody>\n",
       "    <tr>\n",
       "      <th rowspan=\"5\" valign=\"top\">cont</th>\n",
       "      <th rowspan=\"5\" valign=\"top\">2</th>\n",
       "      <th>1</th>\n",
       "      <td>NaN</td>\n",
       "      <td>NaN</td>\n",
       "    </tr>\n",
       "    <tr>\n",
       "      <th>2</th>\n",
       "      <td>NaN</td>\n",
       "      <td>NaN</td>\n",
       "    </tr>\n",
       "    <tr>\n",
       "      <th>3</th>\n",
       "      <td>NaN</td>\n",
       "      <td>NaN</td>\n",
       "    </tr>\n",
       "    <tr>\n",
       "      <th>4</th>\n",
       "      <td>NaN</td>\n",
       "      <td>NaN</td>\n",
       "    </tr>\n",
       "    <tr>\n",
       "      <th>5</th>\n",
       "      <td>NaN</td>\n",
       "      <td>NaN</td>\n",
       "    </tr>\n",
       "    <tr>\n",
       "      <th>...</th>\n",
       "      <th>...</th>\n",
       "      <th>...</th>\n",
       "      <td>...</td>\n",
       "      <td>...</td>\n",
       "    </tr>\n",
       "    <tr>\n",
       "      <th rowspan=\"5\" valign=\"top\">equal</th>\n",
       "      <th rowspan=\"5\" valign=\"top\">256</th>\n",
       "      <th>6</th>\n",
       "      <td>280.878867</td>\n",
       "      <td>280.989398</td>\n",
       "    </tr>\n",
       "    <tr>\n",
       "      <th>7</th>\n",
       "      <td>283.30798</td>\n",
       "      <td>283.419271</td>\n",
       "    </tr>\n",
       "    <tr>\n",
       "      <th>8</th>\n",
       "      <td>283.334952</td>\n",
       "      <td>283.448043</td>\n",
       "    </tr>\n",
       "    <tr>\n",
       "      <th>9</th>\n",
       "      <td>283.274755</td>\n",
       "      <td>283.391718</td>\n",
       "    </tr>\n",
       "    <tr>\n",
       "      <th>10</th>\n",
       "      <td>284.283532</td>\n",
       "      <td>284.396581</td>\n",
       "    </tr>\n",
       "  </tbody>\n",
       "</table>\n",
       "<p>240 rows × 2 columns</p>\n",
       "</div>"
      ],
      "text/plain": [
       "               wall_time     py_time\n",
       "cont  2   1          NaN         NaN\n",
       "          2          NaN         NaN\n",
       "          3          NaN         NaN\n",
       "          4          NaN         NaN\n",
       "          5          NaN         NaN\n",
       "...                  ...         ...\n",
       "equal 256 6   280.878867  280.989398\n",
       "          7    283.30798  283.419271\n",
       "          8   283.334952  283.448043\n",
       "          9   283.274755  283.391718\n",
       "          10  284.283532  284.396581\n",
       "\n",
       "[240 rows x 2 columns]"
      ]
     },
     "execution_count": 25,
     "metadata": {},
     "output_type": "execute_result"
    }
   ],
   "source": [
    "df_microcircuit_runtimes"
   ]
  },
  {
   "cell_type": "markdown",
   "id": "7d17b467",
   "metadata": {},
   "source": [
    "Plot the wall_time and py_time according to resolution for each model.\n",
    "\n",
    "Brunel model equal and droop model wall_time\n",
    "\n",
    "# Brunel"
   ]
  },
  {
   "cell_type": "markdown",
   "id": "7d3462d6",
   "metadata": {},
   "source": [
    "## wall time"
   ]
  },
  {
   "cell_type": "code",
   "execution_count": 26,
   "id": "97641a5c",
   "metadata": {},
   "outputs": [],
   "source": [
    "n = 5\n",
    "colors = plt.cm.viridis(np.linspace(0, 1, n))"
   ]
  },
  {
   "cell_type": "code",
   "execution_count": 34,
   "id": "36401b3f",
   "metadata": {},
   "outputs": [],
   "source": [
    "means = []\n",
    "stds = []\n",
    "res = [2,4,8,16,32,64,128,256]\n",
    "\n",
    "for r in res:\n",
    "    p, s = df_brunel_runtimes.loc['droop','wall_time'][r].mean(), df_brunel_runtimes.loc['droop','wall_time'][r].std()\n",
    "    means.append(p)\n",
    "    stds.append(s)\n",
    "\n",
    "mean_c, std_c = df_brunel_runtimes.loc['cont','wall_time'][8].mean(), df_brunel_runtimes.loc['cont','wall_time'][8].std()\n",
    "\n",
    "means_e = []\n",
    "stds_e = []\n",
    "\n",
    "for r in res:\n",
    "    p, s = df_brunel_runtimes.loc['equal','wall_time'][r].mean(), df_brunel_runtimes.loc['equal','wall_time'][r].std()\n",
    "    means_e.append(p)\n",
    "    stds_e.append(s)\n"
   ]
  },
  {
   "cell_type": "code",
   "execution_count": 35,
   "id": "35d9729a",
   "metadata": {},
   "outputs": [
    {
     "data": {
      "text/plain": [
       "[-0.8404716000000079,\n",
       " 0.2691429999999997,\n",
       " 0.22927190000000053,\n",
       " -1.4691938999999934,\n",
       " -0.8537700000000257,\n",
       " -0.22257430000007616,\n",
       " -1.3175743000001603,\n",
       " 1.060413699999799]"
      ]
     },
     "execution_count": 35,
     "metadata": {},
     "output_type": "execute_result"
    }
   ],
   "source": [
    "[x-y for x,y in zip(means,means_e)]"
   ]
  },
  {
   "cell_type": "code",
   "execution_count": 32,
   "id": "0df7fe4d",
   "metadata": {},
   "outputs": [
    {
     "data": {
      "image/png": "[encoded data removed]",
      "text/plain": [
       "<Figure size 226.772x170.079 with 1 Axes>"
      ]
     },
     "metadata": {
      "needs_background": "light"
     },
     "output_type": "display_data"
    }
   ],
   "source": [
    "x = [4,8,12,16,20,24,28,32]\n",
    "l=3 # linewidth\n",
    "plt.errorbar(x, means, stds, linestyle='-', marker='^',label='droop',color=colors[0],alpha=0.5,linewidth=l)\n",
    "eq=plt.errorbar(x, means_e, stds_e, linestyle='dashed', marker='^',label='equal',color=colors[1],alpha=0.5,linewidth=l)\n",
    "eq[-1][0].set_linestyle('--') # get dashed errorbar for equal model\n",
    "plt.axhline(y=mean_c,label='continuous',color=colors[3],linewidth=l)\n",
    "x2 = [3,4,8,12,16,20,24,28,32,33]\n",
    "plt.fill_between(x2,y1=mean_c-std_c,y2=mean_c+std_c,alpha=0.2,color=colors[3])\n",
    "#plt.legend()\n",
    "plt.xticks(x,('1/2','1/4','1/8','1/16','1/32','1/64','1/128','1/256'))\n",
    "plt.xlabel('Resolution',fontsize=6)\n",
    "plt.ylabel('wall time (s)',fontsize=6, labelpad=1)\n",
    "plt.xticks(fontsize=7)\n",
    "plt.yticks(fontsize=7)\n",
    "plt.savefig(r'{}\\wall_time_brunel.pdf'.format(fig_path),bbox_inches='tight')\n",
    "\n",
    "plt.show();"
   ]
  },
  {
   "cell_type": "markdown",
   "id": "28c64116",
   "metadata": {},
   "source": [
    "## py time"
   ]
  },
  {
   "cell_type": "code",
   "execution_count": 52,
   "id": "39c5a666",
   "metadata": {},
   "outputs": [],
   "source": [
    "means = []\n",
    "stds = []\n",
    "res = [2,4,8,16,32,64,128,256]\n",
    "\n",
    "for r in res:\n",
    "    p, s = df_brunel_runtimes.loc['droop','py_time'][r].mean(), df_brunel_runtimes.loc['droop','py_time'][r].std()\n",
    "    means.append(p)\n",
    "    stds.append(s)\n",
    "\n",
    "mean_c, std_c = df_brunel_runtimes.loc['cont','py_time'][8].mean(), df_brunel_runtimes.loc['cont','py_time'][8].std()\n",
    "\n",
    "means_e = []\n",
    "stds_e = []\n",
    "\n",
    "for r in res:\n",
    "    p, s = df_brunel_runtimes.loc['equal','py_time'][r].mean(), df_brunel_runtimes.loc['equal','py_time'][r].std()\n",
    "    means_e.append(p)\n",
    "    stds_e.append(s)\n"
   ]
  },
  {
   "cell_type": "code",
   "execution_count": 53,
   "id": "92d1227f",
   "metadata": {},
   "outputs": [
    {
     "data": {
      "image/png": "[encoded data removed]",
      "text/plain": [
       "<Figure size 226.772x198.425 with 1 Axes>"
      ]
     },
     "metadata": {
      "needs_background": "light"
     },
     "output_type": "display_data"
    }
   ],
   "source": [
    "x = [4,8,12,16,20,24,28,32]\n",
    "l=3 # linewidth\n",
    "plt.errorbar(x, means, stds, linestyle='-', marker='^',label='droop',color=colors[0],alpha=0.5,linewidth=l)\n",
    "eq=plt.errorbar(x, means_e, stds_e, linestyle='dashed', marker='^',label='equal',color=colors[1],alpha=0.5,linewidth=l)\n",
    "eq[-1][0].set_linestyle('--') # get dashed errorbar for equal model\n",
    "plt.axhline(y=mean_c,label='continuous',color=colors[3],linewidth=l)\n",
    "x2 = [3,4,8,12,16,20,24,28,32,33]\n",
    "plt.fill_between(x2,y1=mean_c-std_c,y2=mean_c+std_c,alpha=0.2,color=colors[3])\n",
    "#plt.legend()\n",
    "plt.xticks(x,('1/2','1/4','1/8','1/16','1/32','1/64','1/128','1/256'))\n",
    "plt.xlabel('Resolution',fontsize=6)\n",
    "plt.ylabel('py time (s)',fontsize=6, labelpad=1)\n",
    "plt.xticks(fontsize=4)\n",
    "plt.yticks(fontsize=4)\n",
    "plt.savefig(r'{}\\py_time_brunel.pdf'.format(fig_path),bbox_inches='tight')\n",
    "\n",
    "plt.show();"
   ]
  },
  {
   "cell_type": "markdown",
   "id": "fcab913d",
   "metadata": {},
   "source": [
    "# Microcircuit"
   ]
  },
  {
   "cell_type": "markdown",
   "id": "14b7c617",
   "metadata": {},
   "source": [
    "## wall time"
   ]
  },
  {
   "cell_type": "code",
   "execution_count": 27,
   "id": "02307953",
   "metadata": {},
   "outputs": [],
   "source": [
    "means = []\n",
    "stds = []\n",
    "res = [8,16,32,64,128,256]\n",
    "\n",
    "for r in res:\n",
    "    p, s = df_microcircuit_runtimes.loc['droop','wall_time'][r].mean(), df_microcircuit_runtimes.loc['droop','wall_time'][r].std()\n",
    "    means.append(p)\n",
    "    stds.append(s)\n",
    "\n",
    "mean_c, std_c = df_microcircuit_runtimes.loc['cont','wall_time'][8].mean(), df_microcircuit_runtimes.loc['cont','wall_time'][8].std()\n",
    "\n",
    "means_e = []\n",
    "stds_e = []\n",
    "\n",
    "for r in res:\n",
    "    p, s = df_microcircuit_runtimes.loc['equal','wall_time'][r].mean(), df_microcircuit_runtimes.loc['equal','wall_time'][r].std()\n",
    "    means_e.append(p)\n",
    "    stds_e.append(s)\n"
   ]
  },
  {
   "cell_type": "code",
   "execution_count": 33,
   "id": "a604222f",
   "metadata": {},
   "outputs": [
    {
     "data": {
      "text/plain": [
       "[1.1375417999999975,\n",
       " 0.1592665000000082,\n",
       " -0.2293605999999997,\n",
       " 0.21743589999999813,\n",
       " 0.470317199999954,\n",
       " -1.6216074999999819]"
      ]
     },
     "execution_count": 33,
     "metadata": {},
     "output_type": "execute_result"
    }
   ],
   "source": [
    "[x-y for x,y in zip(means,means_e)]"
   ]
  },
  {
   "cell_type": "code",
   "execution_count": 34,
   "id": "76d7e854",
   "metadata": {},
   "outputs": [
    {
     "data": {
      "image/png": "[encoded data removed]",
      "text/plain": [
       "<Figure size 226.772x170.079 with 1 Axes>"
      ]
     },
     "metadata": {
      "needs_background": "light"
     },
     "output_type": "display_data"
    }
   ],
   "source": [
    "x = [4,8,12,16,20,24]\n",
    "l=3 # linewidth\n",
    "plt.errorbar(x, means, stds, linestyle='-', marker='^',label='droop',color=colors[0],alpha=0.5,linewidth=l)\n",
    "eq=plt.errorbar(x, means_e, stds_e, linestyle='dashed', marker='^',label='equal',color=colors[1],alpha=0.5,linewidth=l)\n",
    "eq[-1][0].set_linestyle('--') # get dashed errorbar for equal model\n",
    "plt.axhline(y=mean_c,label='continuous',color=colors[3],linewidth=l)\n",
    "x2 = [3,4,8,12,16,20,24,25]\n",
    "plt.fill_between(x2,y1=mean_c-std_c,y2=mean_c+std_c,alpha=0.2,color=colors[3])\n",
    "#plt.legend()\n",
    "plt.xticks(x,('1/8','1/16','1/32','1/64','1/128','1/256'))\n",
    "plt.xlabel('Resolution',fontsize=6)\n",
    "plt.ylabel('wall time (s)',fontsize=6, labelpad=1)\n",
    "plt.xticks(fontsize=7)\n",
    "plt.yticks(fontsize=7)\n",
    "plt.savefig(r'{}\\wall_time_microcircuit.pdf'.format(fig_path),bbox_inches='tight')\n",
    "\n",
    "plt.show();"
   ]
  },
  {
   "cell_type": "markdown",
   "id": "e56f1d14",
   "metadata": {},
   "source": [
    "## py time"
   ]
  },
  {
   "cell_type": "code",
   "execution_count": 57,
   "id": "e4e0526d",
   "metadata": {},
   "outputs": [],
   "source": [
    "means = []\n",
    "stds = []\n",
    "res = [8,16,32,64,128,256]\n",
    "\n",
    "for r in res:\n",
    "    p, s = df_microcircuit_runtimes.loc['droop','py_time'][r].mean(), df_microcircuit_runtimes.loc['droop','py_time'][r].std()\n",
    "    means.append(p)\n",
    "    stds.append(s)\n",
    "\n",
    "mean_c, std_c = df_microcircuit_runtimes.loc['cont','py_time'][8].mean(), df_microcircuit_runtimes.loc['cont','py_time'][8].std()\n",
    "\n",
    "means_e = []\n",
    "stds_e = []\n",
    "\n",
    "for r in res:\n",
    "    p, s = df_microcircuit_runtimes.loc['equal','py_time'][r].mean(), df_microcircuit_runtimes.loc['equal','py_time'][r].std()\n",
    "    means_e.append(p)\n",
    "    stds_e.append(s)\n"
   ]
  },
  {
   "cell_type": "code",
   "execution_count": 58,
   "id": "8fbeb81e",
   "metadata": {},
   "outputs": [
    {
     "data": {
      "image/png": "[encoded data removed]",
      "text/plain": [
       "<Figure size 226.772x198.425 with 1 Axes>"
      ]
     },
     "metadata": {
      "needs_background": "light"
     },
     "output_type": "display_data"
    }
   ],
   "source": [
    "x = [4,8,12,16,20,24]\n",
    "l=3 # linewidth\n",
    "plt.errorbar(x, means, stds, linestyle='-', marker='^',label='droop',color=colors[0],alpha=0.5,linewidth=l)\n",
    "eq=plt.errorbar(x, means_e, stds_e, linestyle='dashed', marker='^',label='equal',color=colors[1],alpha=0.5,linewidth=l)\n",
    "eq[-1][0].set_linestyle('--') # get dashed errorbar for equal model\n",
    "plt.axhline(y=mean_c,label='continuous',color=colors[3],linewidth=l)\n",
    "x2 = [3,4,8,12,16,20,24,25]\n",
    "plt.fill_between(x2,y1=mean_c-std_c,y2=mean_c+std_c,alpha=0.2,color=colors[3])\n",
    "#plt.legend()\n",
    "plt.xticks(x,('1/8','1/16','1/32','1/64','1/128','1/256'))\n",
    "plt.xlabel('Resolution',fontsize=6)\n",
    "plt.ylabel('py time (s)',fontsize=6, labelpad=1)\n",
    "plt.xticks(fontsize=4)\n",
    "plt.yticks(fontsize=4)\n",
    "plt.savefig(r'{}\\py_time_microcircuit.pdf'.format(fig_path),bbox_inches='tight')\n",
    "\n",
    "plt.show();"
   ]
  },
  {
   "cell_type": "code",
   "execution_count": null,
   "id": "c1132040",
   "metadata": {},
   "outputs": [],
   "source": []
  }
 ],
 "metadata": {
  "kernelspec": {
   "display_name": "Python 3",
   "language": "python",
   "name": "python3"
  },
  "language_info": {
   "codemirror_mode": {
    "name": "ipython",
    "version": 3
   },
   "file_extension": ".py",
   "mimetype": "text/x-python",
   "name": "python",
   "nbconvert_exporter": "python",
   "pygments_lexer": "ipython3",
   "version": "3.8.8"
  }
 },
 "nbformat": 4,
 "nbformat_minor": 5
}
