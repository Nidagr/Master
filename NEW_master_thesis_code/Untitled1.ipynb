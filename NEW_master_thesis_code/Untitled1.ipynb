{
 "cells": [
  {
   "cell_type": "code",
   "execution_count": 1,
   "id": "46c91ce9",
   "metadata": {},
   "outputs": [
    {
     "name": "stderr",
     "output_type": "stream",
     "text": [
      "C:\\Users\\Nida\\anaconda3\\envs\\nunit\\lib\\site-packages\\elephant\\parallel\\__init__.py:47: UserWarning: mpi4py package is missing. Please run 'pip install mpi4py' in a terminal to activate MPI features.\n",
      "  warnings.warn(\"mpi4py package is missing. Please run 'pip install mpi4py' \"\n"
     ]
    }
   ],
   "source": [
    "import neo\n",
    "from networkunit import tests, scores, models\n",
    "#from networkunit.capabilities.cap_ProducesSpikeTrains import ProducesSpikeTrains\n",
    "from networkunit.capabilities.ProducesSpikeTrains import ProducesSpikeTrains # branch v0.2\n",
    "from copy import copy\n",
    "import pandas as pd\n",
    "import numpy as np\n",
    "import elephant\n",
    "import quantities as pq\n",
    "import sciunit\n",
    "from quantities import ms\n",
    "import sys\n",
    "sys.setrecursionlimit(10000)\n",
    "from pathlib import Path"
   ]
  },
  {
   "cell_type": "code",
   "execution_count": 2,
   "id": "6e51867a",
   "metadata": {},
   "outputs": [],
   "source": [
    "def create_class(path):\n",
    "    \"\"\"\n",
    "    This function creates a model class for the specific file path given.\n",
    "    \"\"\"\n",
    "    class model(models.loaded_spiketrains): \n",
    "    \n",
    "        default_params = {'file_path':path}\n",
    "\n",
    "        def load(self):\n",
    "            file_path = self.default_params['file_path']        \n",
    "            data = pd.read_csv(file_path,skiprows=2,sep='\\t')\n",
    "            spike_data = data.sort_values(by='time_ms')\n",
    "            grouped = spike_data.groupby(spike_data['sender'])\n",
    "\n",
    "            spike_trains = []\n",
    "            for name, group in grouped:\n",
    "                    \"\"\"\n",
    "                    Each group is senders and times for one value of senders. That is, we iterate through all \n",
    "                    neurons. And the times for each neuron is in sorted order. Therefore, the cvs\n",
    "                    returned must have the same order. So cvs contain cv of neuron 1, then neuron 2 .... then neuron N.\n",
    "                    \"\"\"\n",
    "                    t = np.asarray(group['time_ms'])\n",
    "                    spiketrain = neo.core.SpikeTrain(t * pq.ms, t_start=0*pq.ms, t_stop=10000*pq.ms)\n",
    "                    spike_trains.append(spiketrain)\n",
    "             # make sure we get spiketrains of length 10000\n",
    "            \n",
    "            if len(spike_trains) < 10000:\n",
    "                n = 10000 - len(spike_trains)\n",
    "                t = np.asarray([0])\n",
    "                for i in range(n):\n",
    "                    sp = neo.core.SpikeTrain(t * pq.ms, t_start=0*pq.ms, t_stop=10000*pq.ms)\n",
    "                    spike_trains.append(sp)\n",
    "            return spike_trains\n",
    "    return model"
   ]
  },
  {
   "cell_type": "code",
   "execution_count": 3,
   "id": "28a27b8d",
   "metadata": {},
   "outputs": [],
   "source": [
    "def get_classes(path_list):\n",
    "    classes = []\n",
    "    for p in path_list:\n",
    "        cl = create_class(p)\n",
    "        classes.append(cl)\n",
    "    return classes"
   ]
  },
  {
   "cell_type": "code",
   "execution_count": 4,
   "id": "d4a75cd3",
   "metadata": {},
   "outputs": [],
   "source": [
    "class FR_test_class(sciunit.TestM2M, tests.firing_rate_test):\n",
    "    \"\"\"\n",
    "    This finds the wasserstein distance based on firing rates.\n",
    "    \"\"\"\n",
    "    score_type = scores.wasserstein_distance\n",
    "    \n",
    "FR_test = FR_test_class()"
   ]
  },
  {
   "cell_type": "code",
   "execution_count": 5,
   "id": "0a516232",
   "metadata": {},
   "outputs": [],
   "source": [
    "class CV_test_class(sciunit.TestM2M, tests.isi_variation_test):\n",
    "    \"\"\"\n",
    "    This finds the wasserstein distance based on CVs.\n",
    "    \"\"\"\n",
    "    default_params = {'variation_measure': 'cv'} # need to set cv as lvr is default in tests.isi_variation_test\n",
    "    score_type = scores.wasserstein_distance\n",
    "    \n",
    "CV_test = CV_test_class()"
   ]
  },
  {
   "cell_type": "code",
   "execution_count": 6,
   "id": "21860e90",
   "metadata": {},
   "outputs": [],
   "source": [
    "class CC_test_class(sciunit.TestM2M, tests.correlation_matrix_test):\n",
    "    \"\"\"\n",
    "    This finds the wasserstein distance based on CC matrices.\n",
    "    \"\"\"\n",
    "    score_type = scores.wasserstein_distance\n",
    "    \n",
    "CC_test = CC_test_class()"
   ]
  },
  {
   "cell_type": "code",
   "execution_count": 7,
   "id": "49deda74",
   "metadata": {},
   "outputs": [],
   "source": [
    "cont_seed_1 = 'C:\\\\Users\\\\Nida\\\\Documents\\\\NMBU\\\\master\\\\organized_spike_data\\\\resolution_1_8\\\\brunel_continuous\\\\brunel_continuous_delay_1.0_2.0_seed_1_spikes_exc-12502-0.dat'\n",
    "cont_1 = create_class(cont_seed_1)\n",
    "# create instance of class\n",
    "cont = cont_1()\n",
    "# produce spike trains\n",
    "cont.produce_spiketrains();"
   ]
  },
  {
   "cell_type": "markdown",
   "id": "4560a891",
   "metadata": {},
   "source": [
    "File paths droop model"
   ]
  },
  {
   "cell_type": "code",
   "execution_count": 8,
   "id": "76335567",
   "metadata": {},
   "outputs": [],
   "source": [
    "droop_1_2 = [f'C:\\\\Users\\\\Nida\\\\Documents\\\\NMBU\\\\master\\\\organized_spike_data\\\\resolution_1_2\\\\brunel_rounding_1_2\\\\brunel_rounding_True_delay_1.0_2.0_seed_{i}_spikes_exc-12502-0.dat'.format(i) for i in range(1,11)]\n",
    "droop_1_4 = [f'C:\\\\Users\\\\Nida\\\\Documents\\\\NMBU\\\\master\\\\organized_spike_data\\\\resolution_1_4\\\\brunel_rounding_1_2\\\\brunel_rounding_True_delay_1.0_2.0_seed_{i}_spikes_exc-12502-0.dat'.format(i) for i in range(1,11)]\n",
    "droop_1_8 = [f'C:\\\\Users\\\\Nida\\\\Documents\\\\NMBU\\\\master\\\\organized_spike_data\\\\resolution_1_8\\\\brunel_rounding_1_2\\\\brunel_rounding_True_delay_1.0_2.0_seed_{i}_spikes_exc-12502-0.dat'.format(i) for i in range(1,11)]\n",
    "droop_1_16 = [f'C:\\\\Users\\\\Nida\\\\Documents\\\\NMBU\\\\master\\\\organized_spike_data\\\\resolution_1_16\\\\brunel_rounding_1_2\\\\brunel_rounding_True_delay_1.0_2.0_seed_{i}_spikes_exc-12502-0.dat'.format(i) for i in range(1,11)]\n",
    "droop_1_32 = [f'C:\\\\Users\\\\Nida\\\\Documents\\\\NMBU\\\\master\\\\organized_spike_data\\\\resolution_1_32\\\\brunel_rounding_1_2\\\\brunel_rounding_True_delay_1.0_2.0_seed_{i}_spikes_exc-12502-0.dat'.format(i) for i in range(1,11)]\n",
    "droop_1_64 = [f'C:\\\\Users\\\\Nida\\\\Documents\\\\NMBU\\\\master\\\\organized_spike_data\\\\resolution_1_64\\\\brunel_rounding_1_2\\\\brunel_rounding_True_delay_1.0_2.0_seed_{i}_spikes_exc-12502-0.dat'.format(i) for i in range(1,11)]\n",
    "droop_1_128 = [f'C:\\\\Users\\\\Nida\\\\Documents\\\\NMBU\\\\master\\\\organized_spike_data\\\\resolution_1_128\\\\brunel_rounding_1_2\\\\brunel_rounding_True_delay_1.0_2.0_seed_{i}_spikes_exc-12502-0.dat'.format(i) for i in range(1,11)]\n",
    "droop_1_256 = [f'C:\\\\Users\\\\Nida\\\\Documents\\\\NMBU\\\\master\\\\organized_spike_data\\\\resolution_1_256\\\\brunel_rounding_1_2\\\\brunel_rounding_True_delay_1.0_2.0_seed_{i}_spikes_exc-12502-0.dat'.format(i) for i in range(1,11)]"
   ]
  },
  {
   "cell_type": "code",
   "execution_count": 10,
   "id": "b9d57961",
   "metadata": {},
   "outputs": [],
   "source": [
    "droop_1_2_classes = get_classes(droop_1_2)\n",
    "\n",
    "#droop_1_4_classes = get_classes(droop_1_4)\n",
    "#droop_1_8_classes = get_classes(droop_1_8)\n",
    "#droop_1_16_classes = get_classes(droop_1_16)\n",
    "#droop_1_32_classes = get_classes(droop_1_32)\n",
    "#droop_1_64_classes = get_classes(droop_1_64)\n",
    "#droop_1_128_classes = get_classes(droop_1_128)\n",
    "#droop_1_256_classes = get_classes(droop_1_256)"
   ]
  },
  {
   "cell_type": "code",
   "execution_count": 11,
   "id": "0186b241",
   "metadata": {},
   "outputs": [],
   "source": [
    "def create_instances(class_list):\n",
    "    \"\"\"\n",
    "    Iterate through list of classes, create instance and run create_spiketrains(). Return list of the instances, \n",
    "    ready to be measured.\n",
    "    \"\"\"\n",
    "    instances = []\n",
    "    for cl in class_list:\n",
    "        c = cl()\n",
    "        c.produce_spiketrains();\n",
    "        instances.append(c)\n",
    "    return instances"
   ]
  },
  {
   "cell_type": "code",
   "execution_count": 12,
   "id": "b4f17e01",
   "metadata": {},
   "outputs": [],
   "source": [
    "droop_1_2_instances = create_instances(droop_1_2_classes)\n",
    "#droop_1_4_instances = create_instances(droop_1_4_classes)\n",
    "#droop_1_8_instances = create_instances(droop_1_8_classes)\n",
    "#droop_1_16_instances = create_instances(droop_1_16_classes)\n",
    "#droop_1_32_instances = create_instances(droop_1_32_classes)\n",
    "#droop_1_64_instances = create_instances(droop_1_64_classes)\n",
    "#droop_1_128_instances = create_instances(droop_1_128_classes)\n",
    "#droop_1_256_instances = create_instances(droop_1_256_classes)"
   ]
  },
  {
   "cell_type": "code",
   "execution_count": 13,
   "id": "c5a9c63c",
   "metadata": {},
   "outputs": [],
   "source": [
    "def get_ws_distances_cv(list_of_instances):\n",
    "    \"\"\"\n",
    "    Run the wasserstein metric on continuous model vs all seeds one model one resolution by passing list of \n",
    "    instances of class.\n",
    "    \"\"\"\n",
    "    ws_distances = [] \n",
    "\n",
    "    for i in range(0,10):\n",
    "        CV_scores = CV_test.judge([cont,list_of_instances[i]])\n",
    "        v = CV_scores.score.iloc[1,0]\n",
    "        ws_distances.append(v)\n",
    "    return ws_distances"
   ]
  },
  {
   "cell_type": "code",
   "execution_count": null,
   "id": "68a53c45",
   "metadata": {},
   "outputs": [],
   "source": [
    "ws_cv_droop_1_2 = get_ws_distances_cv(droop_1_2_instances)"
   ]
  },
  {
   "cell_type": "code",
   "execution_count": null,
   "id": "ef1c79c4",
   "metadata": {},
   "outputs": [],
   "source": [
    "ws_cv_droop_1_8 = get_ws_distances_cv(droop_1_8_instances)\n",
    "\n",
    "ws_cv_droop_1_16 = get_ws_distances_cv(droop_1_16_instances)\n",
    "\n",
    "ws_cv_droop_1_32 = get_ws_distances_cv(droop_1_32_instances)\n",
    "\n",
    "ws_cv_droop_1_64 = get_ws_distances_cv(droop_1_64_instances)\n",
    "\n",
    "ws_cv_droop_1_128 = get_ws_distances_cv(droop_1_128_instances)\n",
    "\n",
    "ws_cv_droop_1_256 = get_ws_distances_cv(droop_1_256_instances)"
   ]
  }
 ],
 "metadata": {
  "kernelspec": {
   "display_name": "Python 3 (ipykernel)",
   "language": "python",
   "name": "python3"
  },
  "language_info": {
   "codemirror_mode": {
    "name": "ipython",
    "version": 3
   },
   "file_extension": ".py",
   "mimetype": "text/x-python",
   "name": "python",
   "nbconvert_exporter": "python",
   "pygments_lexer": "ipython3",
   "version": "3.9.12"
  }
 },
 "nbformat": 4,
 "nbformat_minor": 5
}
