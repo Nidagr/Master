{
 "cells": [
  {
   "cell_type": "code",
   "execution_count": 1,
   "id": "219d52a2",
   "metadata": {},
   "outputs": [],
   "source": [
    "import pandas as pd\n",
    "import matplotlib.pyplot as plt\n",
    "plt.rcParams['figure.figsize'] = (14,10)\n",
    "import numpy as np"
   ]
  },
  {
   "cell_type": "markdown",
   "id": "34bb63ac",
   "metadata": {},
   "source": [
    "Retrieve the Wasserstein distances.\n",
    "\n",
    "We ran the Wasserstein distance between the continuous model seed 1 and all seeds of the various droop and equal models (one-vs-all), in addition we ran the wasserstein distance between continuous seed 1 vs all other seeds continuous model, this way we get a clue about what level of distance we accept while models still being close/similar.\n",
    "\n",
    "**Brunel**"
   ]
  },
  {
   "cell_type": "code",
   "execution_count": 2,
   "id": "6e3f05da",
   "metadata": {},
   "outputs": [],
   "source": [
    "path = 'C:\\\\Users\\\\Nida\\\\Documents\\\\NMBU\\\\master\\\\master_thesis_code\\\\wasserstein\\\\distances'\n",
    "ws2 = pd.read_csv(r'{}\\ws_droop_1_2'.format(path),index_col=0)\n",
    "ws4 = pd.read_csv(r'{}\\ws_droop_1_4'.format(path),index_col=0)\n",
    "ws8 = pd.read_csv(r'{}\\ws_droop_1_8'.format(path),index_col=0)\n",
    "ws16 = pd.read_csv(r'{}\\ws_droop_1_16'.format(path),index_col=0)\n",
    "ws32 = pd.read_csv(r'{}\\ws_droop_1_32'.format(path),index_col=0)\n",
    "ws64 = pd.read_csv(r'{}\\ws_droop_1_64'.format(path),index_col=0)\n",
    "ws128 = pd.read_csv(r'{}\\ws_droop_1_128'.format(path),index_col=0)\n",
    "ws256 = pd.read_csv(r'{}\\ws_droop_1_256'.format(path),index_col=0)\n",
    "wscont=pd.read_csv(r'{}\\ws_cont.csv'.format(path),index_col=0)\n",
    "\n",
    "ws2e = pd.read_csv(r'{}\\ws_equal_1_2.csv'.format(path),index_col=0)\n",
    "ws4e = pd.read_csv(r'{}\\ws_equal_1_4.csv'.format(path),index_col=0)\n",
    "ws8e = pd.read_csv(r'{}\\ws_equal_1_8.csv'.format(path),index_col=0)\n",
    "ws16e = pd.read_csv(r'{}\\ws_equal_1_16.csv'.format(path),index_col=0)\n",
    "ws32e = pd.read_csv(r'{}\\ws_equal_1_32.csv'.format(path),index_col=0)\n",
    "ws64e = pd.read_csv(r'{}\\ws_equal_1_64.csv'.format(path),index_col=0)\n",
    "ws128e = pd.read_csv(r'{}\\ws_equal_1_128.csv'.format(path),index_col=0)\n",
    "ws256e = pd.read_csv(r'{}\\ws_equal_1_256.csv'.format(path),index_col=0)"
   ]
  },
  {
   "cell_type": "code",
   "execution_count": 3,
   "id": "09840d67",
   "metadata": {},
   "outputs": [],
   "source": [
    "ws2CV = pd.read_csv(r'{}\\ws_cv_droop_1_2.csv'.format(path),index_col=0)\n",
    "ws4CV = pd.read_csv(r'{}\\ws_cv_droop_1_4.csv'.format(path),index_col=0)\n",
    "ws8CV = pd.read_csv(r'{}\\ws_cv_droop_1_8.csv'.format(path),index_col=0)\n",
    "ws16CV = pd.read_csv(r'{}\\ws_cv_droop_1_16.csv'.format(path),index_col=0)\n",
    "ws32CV = pd.read_csv(r'{}\\ws_cv_droop_1_32.csv'.format(path),index_col=0)\n",
    "ws64CV = pd.read_csv(r'{}\\ws_cv_droop_1_64.csv'.format(path),index_col=0)\n",
    "ws128CV = pd.read_csv(r'{}\\ws_cv_droop_1_128.csv'.format(path),index_col=0)\n",
    "ws256CV = pd.read_csv(r'{}\\ws_cv_droop_1_256.csv'.format(path),index_col=0)\n",
    "wscontCV=pd.read_csv(r'{}\\ws_cv_rest_cont.csv'.format(path),index_col=0)\n",
    "\n",
    "ws2eCV = pd.read_csv(r'{}\\ws_cv_equal_1_2.csv'.format(path),index_col=0)\n",
    "ws4eCV = pd.read_csv(r'{}\\ws_cv_equal_1_4.csv'.format(path),index_col=0)\n",
    "ws8eCV = pd.read_csv(r'{}\\ws_cv_equal_1_8.csv'.format(path),index_col=0)\n",
    "ws16eCV = pd.read_csv(r'{}\\ws_cv_equal_1_16.csv'.format(path),index_col=0)\n",
    "ws32eCV = pd.read_csv(r'{}\\ws_cv_equal_1_32.csv'.format(path),index_col=0)\n",
    "ws64eCV = pd.read_csv(r'{}\\ws_cv_equal_1_64.csv'.format(path),index_col=0)\n",
    "ws128eCV = pd.read_csv(r'{}\\ws_cv_equal_1_128.csv'.format(path),index_col=0)\n",
    "ws256eCV = pd.read_csv(r'{}\\ws_cv_equal_1_256.csv'.format(path),index_col=0)"
   ]
  },
  {
   "cell_type": "code",
   "execution_count": 4,
   "id": "8d708f3e",
   "metadata": {},
   "outputs": [],
   "source": [
    "ws2CC = pd.read_csv(r'{}\\ws_cc_droop_1_2.csv'.format(path),index_col=0)\n",
    "ws4CC = pd.read_csv(r'{}\\ws_cc_droop_1_4.csv'.format(path),index_col=0)\n",
    "ws8CC = pd.read_csv(r'{}\\ws_cc_droop_1_8.csv'.format(path),index_col=0)\n",
    "ws16CC = pd.read_csv(r'{}\\ws_cc_droop_1_16.csv'.format(path),index_col=0)\n",
    "ws32CC = pd.read_csv(r'{}\\ws_cc_droop_1_32.csv'.format(path),index_col=0)\n",
    "ws64CC = pd.read_csv(r'{}\\ws_cc_droop_1_64.csv'.format(path),index_col=0)\n",
    "ws128CC = pd.read_csv(r'{}\\ws_cc_droop_1_128.csv'.format(path),index_col=0)\n",
    "ws256CC = pd.read_csv(r'{}\\ws_cc_droop_1_256.csv'.format(path),index_col=0)\n",
    "wscontCC=pd.read_csv(r'{}\\ws_cc_rest_cont.csv'.format(path),index_col=0)\n",
    "\n",
    "ws2eCC = pd.read_csv(r'{}\\ws_cc_equal_1_2.csv'.format(path),index_col=0)\n",
    "ws4eCC = pd.read_csv(r'{}\\ws_cc_equal_1_4.csv'.format(path),index_col=0)\n",
    "ws8eCC = pd.read_csv(r'{}\\ws_cc_equal_1_8.csv'.format(path),index_col=0)\n",
    "ws16eCC = pd.read_csv(r'{}\\ws_cc_equal_1_16.csv'.format(path),index_col=0)\n",
    "ws32eCC = pd.read_csv(r'{}\\ws_cc_equal_1_32.csv'.format(path),index_col=0)\n",
    "ws64eCC = pd.read_csv(r'{}\\ws_cc_equal_1_64.csv'.format(path),index_col=0)\n",
    "ws128eCC = pd.read_csv(r'{}\\ws_cc_equal_1_128.csv'.format(path),index_col=0)\n",
    "ws256eCC = pd.read_csv(r'{}\\ws_cc_equal_1_256.csv'.format(path),index_col=0)"
   ]
  },
  {
   "cell_type": "code",
   "execution_count": 5,
   "id": "f0f5aa87",
   "metadata": {},
   "outputs": [],
   "source": [
    "first = ['droop','equal','continuous'] #what type of model\n",
    "second = [2,4,8,16,32,64,128,256] # what type of resolution\n",
    "third = [1,2,3,4,5,6,7,8,9,10] # what seed\n",
    "arrays = [first, second, third]\n",
    "\n",
    "\n",
    "index = pd.MultiIndex.from_product(arrays)\n",
    "columns = ['CV','FR','CC']\n",
    "\n",
    "df_b = pd.DataFrame(index=index, columns=columns)\n",
    "\n",
    "# indexes must be sorted to make more effective and avoid warnings.\n",
    "ws_distances_brunel = df_b.sort_index()"
   ]
  },
  {
   "cell_type": "code",
   "execution_count": 6,
   "id": "e6cb3a13",
   "metadata": {},
   "outputs": [],
   "source": [
    "ws_distances_brunel.loc[('droop',2)]['FR'][:] = ws2['0'][:].values\n",
    "ws_distances_brunel.loc[('droop',4)]['FR'][:] = ws4['0'][:].values\n",
    "ws_distances_brunel.loc[('droop',8)]['FR'][:] = ws8['0'][:].values\n",
    "ws_distances_brunel.loc[('droop',16)]['FR'][:] = ws16['0'][:].values\n",
    "ws_distances_brunel.loc[('droop',32)]['FR'][:] = ws32['0'][:].values\n",
    "ws_distances_brunel.loc[('droop',64)]['FR'][:] = ws64['0'][:].values\n",
    "ws_distances_brunel.loc[('droop',128)]['FR'][:] = ws128['0'][:].values\n",
    "ws_distances_brunel.loc[('droop',256)]['FR'][:] = ws256['0'][:].values"
   ]
  },
  {
   "cell_type": "code",
   "execution_count": 7,
   "id": "22eb5ee5",
   "metadata": {},
   "outputs": [],
   "source": [
    "ws_distances_brunel.loc[('equal',2)]['FR'][:] = ws2e['0'][:].values\n",
    "ws_distances_brunel.loc[('equal',4)]['FR'][:] = ws4e['0'][:].values\n",
    "ws_distances_brunel.loc[('equal',8)]['FR'][:] = ws8e['0'][:].values\n",
    "ws_distances_brunel.loc[('equal',16)]['FR'][:] = ws16e['0'][:].values\n",
    "ws_distances_brunel.loc[('equal',32)]['FR'][:] = ws32e['0'][:].values\n",
    "ws_distances_brunel.loc[('equal',64)]['FR'][:] = ws64e['0'][:].values\n",
    "ws_distances_brunel.loc[('equal',128)]['FR'][:] = ws128e['0'][:].values\n",
    "ws_distances_brunel.loc[('equal',256)]['FR'][:] = ws256e['0'][:].values"
   ]
  },
  {
   "cell_type": "code",
   "execution_count": 8,
   "id": "32fdca07",
   "metadata": {},
   "outputs": [],
   "source": [
    "ws_distances_brunel.loc[('droop',2)]['CV'][:] = ws2CV['0'][:].values\n",
    "ws_distances_brunel.loc[('droop',4)]['CV'][:] = ws4CV['0'][:].values\n",
    "ws_distances_brunel.loc[('droop',8)]['CV'][:] = ws8CV['0'][:].values\n",
    "ws_distances_brunel.loc[('droop',16)]['CV'][:] = ws16CV['0'][:].values\n",
    "ws_distances_brunel.loc[('droop',32)]['CV'][:] = ws32CV['0'][:].values\n",
    "ws_distances_brunel.loc[('droop',64)]['CV'][:] = ws64CV['0'][:].values\n",
    "ws_distances_brunel.loc[('droop',128)]['CV'][:] = ws128CV['0'][:].values\n",
    "ws_distances_brunel.loc[('droop',256)]['CV'][:] = ws256CV['0'][:].values"
   ]
  },
  {
   "cell_type": "code",
   "execution_count": 9,
   "id": "404e7cf8",
   "metadata": {},
   "outputs": [],
   "source": [
    "ws_distances_brunel.loc[('equal',2)]['CV'][:] = ws2eCV['0'][:].values\n",
    "ws_distances_brunel.loc[('equal',4)]['CV'][:] = ws4eCV['0'][:].values\n",
    "ws_distances_brunel.loc[('equal',8)]['CV'][:] = ws8eCV['0'][:].values\n",
    "ws_distances_brunel.loc[('equal',16)]['CV'][:] = ws16eCV['0'][:].values\n",
    "ws_distances_brunel.loc[('equal',32)]['CV'][:] = ws32eCV['0'][:].values\n",
    "ws_distances_brunel.loc[('equal',64)]['CV'][:] = ws64eCV['0'][:].values\n",
    "ws_distances_brunel.loc[('equal',128)]['CV'][:] = ws128eCV['0'][:].values\n",
    "ws_distances_brunel.loc[('equal',256)]['CV'][:] = ws256eCV['0'][:].values"
   ]
  },
  {
   "cell_type": "code",
   "execution_count": 10,
   "id": "53250379",
   "metadata": {},
   "outputs": [],
   "source": [
    "ws_distances_brunel.loc[('continuous',8)]['FR'][:] = np.hstack((None,wscont['0'][:].values))\n",
    "ws_distances_brunel.loc[('continuous',8)]['CV'][:] = np.hstack((None,wscontCV['0'][:].values))\n",
    "ws_distances_brunel.loc[('continuous',8)]['CC'][:] = np.hstack((None,wscontCC['0'][:].values))"
   ]
  },
  {
   "cell_type": "code",
   "execution_count": 11,
   "id": "acd05f23",
   "metadata": {},
   "outputs": [],
   "source": [
    "ws_distances_brunel.loc[('droop',2)]['CC'][:] = ws2CC['0'][:].values\n",
    "ws_distances_brunel.loc[('droop',4)]['CC'][:] = ws4CC['0'][:].values\n",
    "ws_distances_brunel.loc[('droop',8)]['CC'][:] = ws8CC['0'][:].values\n",
    "ws_distances_brunel.loc[('droop',16)]['CC'][:] = ws16CC['0'][:].values\n",
    "ws_distances_brunel.loc[('droop',32)]['CC'][:] = ws32CC['0'][:].values\n",
    "ws_distances_brunel.loc[('droop',64)]['CC'][:] = ws64CC['0'][:].values\n",
    "ws_distances_brunel.loc[('droop',128)]['CC'][:] = ws128CC['0'][:].values\n",
    "ws_distances_brunel.loc[('droop',256)]['CC'][:] = ws256CC['0'][:].values"
   ]
  },
  {
   "cell_type": "code",
   "execution_count": 12,
   "id": "2a4561ff",
   "metadata": {},
   "outputs": [],
   "source": [
    "ws_distances_brunel.loc[('equal',2)]['CC'][:] = ws2eCC['0'][:].values\n",
    "ws_distances_brunel.loc[('equal',4)]['CC'][:] = ws4eCC['0'][:].values\n",
    "ws_distances_brunel.loc[('equal',8)]['CC'][:] = ws8eCC['0'][:].values\n",
    "ws_distances_brunel.loc[('equal',16)]['CC'][:] = ws16eCC['0'][:].values\n",
    "ws_distances_brunel.loc[('equal',32)]['CC'][:] = ws32eCC['0'][:].values\n",
    "ws_distances_brunel.loc[('equal',64)]['CC'][:] = ws64eCC['0'][:].values\n",
    "ws_distances_brunel.loc[('equal',128)]['CC'][:] = ws128eCC['0'][:].values\n",
    "ws_distances_brunel.loc[('equal',256)]['CC'][:] = ws256eCC['0'][:].values"
   ]
  },
  {
   "cell_type": "markdown",
   "id": "a5527c7e",
   "metadata": {},
   "source": [
    "**Microcircuit**"
   ]
  },
  {
   "cell_type": "code",
   "execution_count": 28,
   "id": "4cc75bc3",
   "metadata": {},
   "outputs": [],
   "source": [
    "path = 'C:\\\\Users\\\\Nida\\\\Documents\\\\NMBU\\\\master\\\\master_thesis_code\\\\wasserstein\\\\distances'\n",
    "# wasserstein distances based on FR\n",
    "ws8m = pd.read_csv(r'{}\\ws_microcircuit_droop_1_8.csv'.format(path),index_col=0)\n",
    "ws16m = pd.read_csv(r'{}\\ws_microcircuit_droop_1_16.csv'.format(path),index_col=0)\n",
    "ws32m = pd.read_csv(r'{}\\ws_microcircuit_droop_1_32.csv'.format(path),index_col=0)\n",
    "ws64m = pd.read_csv(r'{}\\ws_microcircuit_droop_1_64.csv'.format(path),index_col=0)\n",
    "ws128m = pd.read_csv(r'{}\\ws_microcircuit_droop_1_128.csv'.format(path),index_col=0)\n",
    "ws256m = pd.read_csv(r'{}\\ws_microcircuit_droop_1_256.csv'.format(path),index_col=0)\n",
    "wscontm=pd.read_csv(r'{}\\ws_microcircuit_cont.csv'.format(path),index_col=0)\n",
    "\n",
    "ws8em = pd.read_csv(r'{}\\ws_microcircuit_equal_1_8.csv'.format(path),index_col=0)\n",
    "ws16em = pd.read_csv(r'{}\\ws_microcircuit_equal_1_16.csv'.format(path),index_col=0)\n",
    "ws32em = pd.read_csv(r'{}\\ws_microcircuit_equal_1_32.csv'.format(path),index_col=0)\n",
    "ws64em = pd.read_csv(r'{}\\ws_microcircuit_equal_1_64.csv'.format(path),index_col=0)\n",
    "ws128em = pd.read_csv(r'{}\\ws_microcircuit_equal_1_128.csv'.format(path),index_col=0)\n",
    "ws256em = pd.read_csv(r'{}\\ws_microcircuit_equal_1_256.csv'.format(path),index_col=0)\n",
    "\n",
    "# Wasserstein distances based on CV\n",
    "ws8mCV = pd.read_csv(r'{}\\ws_cv_microcircuit_droop_1_8.csv'.format(path),index_col=0)\n",
    "ws16mCV = pd.read_csv(r'{}\\ws_cv_microcircuit_droop_1_16.csv'.format(path),index_col=0)\n",
    "ws32mCV = pd.read_csv(r'{}\\ws_cv_microcircuit_droop_1_32.csv'.format(path),index_col=0)\n",
    "ws64mCV = pd.read_csv(r'{}\\ws_cv_microcircuit_droop_1_64.csv'.format(path),index_col=0)\n",
    "ws128mCV = pd.read_csv(r'{}\\ws_cv_microcircuit_droop_1_128.csv'.format(path),index_col=0)\n",
    "ws256mCV = pd.read_csv(r'{}\\ws_cv_microcircuit_droop_1_256.csv'.format(path),index_col=0)\n",
    "wscontmCV=pd.read_csv(r'{}\\ws_cv_microcircuit_cont.csv'.format(path),index_col=0)\n",
    "\n",
    "\n",
    "ws8emCV = pd.read_csv(r'{}\\ws_cv_microcircuit_equal_1_8.csv'.format(path),index_col=0)\n",
    "ws16emCV = pd.read_csv(r'{}\\ws_cv_microcircuit_equal_1_16.csv'.format(path),index_col=0)\n",
    "ws32emCV = pd.read_csv(r'{}\\ws_cv_microcircuit_equal_1_32.csv'.format(path),index_col=0)\n",
    "ws64emCV = pd.read_csv(r'{}\\ws_cv_microcircuit_equal_1_64.csv'.format(path),index_col=0)\n",
    "ws128emCV = pd.read_csv(r'{}\\ws_cv_microcircuit_equal_1_128.csv'.format(path),index_col=0)\n",
    "ws256emCV = pd.read_csv(r'{}\\ws_cv_microcircuit_equal_1_256.csv'.format(path),index_col=0)\n",
    "\n",
    "# Wasserstein distances based on CC\n",
    "ws8mCC = pd.read_csv(r'{}\\ws_cc_microcircuit_droop_1_8.csv'.format(path),index_col=0)\n",
    "ws16mCC = pd.read_csv(r'{}\\ws_cc_microcircuit_droop_1_16.csv'.format(path),index_col=0)\n",
    "ws32mCC = pd.read_csv(r'{}\\ws_cc_microcircuit_droop_1_32.csv'.format(path),index_col=0)\n",
    "ws64mCC = pd.read_csv(r'{}\\ws_cc_microcircuit_droop_1_64.csv'.format(path),index_col=0)\n",
    "ws128mCC = pd.read_csv(r'{}\\ws_cc_microcircuit_droop_1_128.csv'.format(path),index_col=0)\n",
    "ws256mCC = pd.read_csv(r'{}\\ws_cc_microcircuit_droop_1_256.csv'.format(path),index_col=0)\n",
    "wscontmCC=pd.read_csv(r'{}\\ws_cc_microcircuit_cont.csv'.format(path),index_col=0)\n",
    "\n",
    "ws8emCC = pd.read_csv(r'{}\\ws_cc_microcircuit_equal_1_8.csv'.format(path),index_col=0)\n",
    "ws16emCC = pd.read_csv(r'{}\\ws_cc_microcircuit_equal_1_16.csv'.format(path),index_col=0)\n",
    "ws32emCC = pd.read_csv(r'{}\\ws_cc_microcircuit_equal_1_32.csv'.format(path),index_col=0)\n",
    "ws64emCC = pd.read_csv(r'{}\\ws_cc_microcircuit_equal_1_64.csv'.format(path),index_col=0)\n",
    "ws128emCC = pd.read_csv(r'{}\\ws_cc_microcircuit_equal_1_128.csv'.format(path),index_col=0)\n",
    "ws256emCC = pd.read_csv(r'{}\\ws_cc_microcircuit_equal_1_256.csv'.format(path),index_col=0)"
   ]
  },
  {
   "cell_type": "code",
   "execution_count": 29,
   "id": "3b28e879",
   "metadata": {},
   "outputs": [],
   "source": [
    "first = ['droop','equal','continuous'] #what type of model\n",
    "second = [8,16,32,64,128,256] # what type of resolution\n",
    "third = [1,2,3,4,5,6,7,8,9,10] # what seed\n",
    "arrays = [first, second, third]\n",
    "\n",
    "\n",
    "index = pd.MultiIndex.from_product(arrays)\n",
    "columns = ['CV','FR','CC']\n",
    "\n",
    "df = pd.DataFrame(index=index, columns=columns)\n",
    "\n",
    "# indexes must be sorted to make more effective and avoid warnings.\n",
    "ws_distances_microcircuit = df.sort_index()"
   ]
  },
  {
   "cell_type": "code",
   "execution_count": 30,
   "id": "3e3b25a0",
   "metadata": {},
   "outputs": [],
   "source": [
    "ws_distances_microcircuit.loc[('droop',8)]['FR'][:] = ws8m['0'][:].values\n",
    "ws_distances_microcircuit.loc[('droop',16)]['FR'][:] = ws16m['0'][:].values\n",
    "ws_distances_microcircuit.loc[('droop',32)]['FR'][:] = ws32m['0'][:].values\n",
    "ws_distances_microcircuit.loc[('droop',64)]['FR'][:] = ws64m['0'][:].values\n",
    "ws_distances_microcircuit.loc[('droop',128)]['FR'][:] = ws128m['0'][:].values\n",
    "ws_distances_microcircuit.loc[('droop',256)]['FR'][:] = ws256m['0'][:].values\n",
    "\n",
    "\n",
    "ws_distances_microcircuit.loc[('droop',8)]['CV'][:] = ws8mCV['0'][:].values\n",
    "ws_distances_microcircuit.loc[('droop',16)]['CV'][:] = ws16mCV['0'][:].values\n",
    "ws_distances_microcircuit.loc[('droop',32)]['CV'][:] = ws32mCV['0'][:].values\n",
    "ws_distances_microcircuit.loc[('droop',64)]['CV'][:] = ws64mCV['0'][:].values\n",
    "ws_distances_microcircuit.loc[('droop',128)]['CV'][:] = ws128mCV['0'][:].values\n",
    "ws_distances_microcircuit.loc[('droop',256)]['CV'][:] = ws256mCV['0'][:].values\n",
    "\n",
    "\n",
    "ws_distances_microcircuit.loc[('droop',8)]['CC'][:] = ws8mCC['0'][:].values\n",
    "ws_distances_microcircuit.loc[('droop',16)]['CC'][:] = ws16mCC['0'][:].values\n",
    "ws_distances_microcircuit.loc[('droop',32)]['CC'][:] = ws32mCC['0'][:].values\n",
    "ws_distances_microcircuit.loc[('droop',64)]['CC'][:] = ws64mCC['0'][:].values\n",
    "ws_distances_microcircuit.loc[('droop',128)]['CC'][:] = ws128mCC['0'][:].values\n",
    "ws_distances_microcircuit.loc[('droop',256)]['CC'][:] = ws256mCC['0'][:].values\n",
    "\n",
    "\n",
    "ws_distances_microcircuit.loc[('equal',8)]['FR'][:] = ws8em['0'][:].values\n",
    "ws_distances_microcircuit.loc[('equal',16)]['FR'][:] = ws16em['0'][:].values\n",
    "ws_distances_microcircuit.loc[('equal',32)]['FR'][:] = ws32em['0'][:].values\n",
    "ws_distances_microcircuit.loc[('equal',64)]['FR'][:] = ws64em['0'][:].values\n",
    "ws_distances_microcircuit.loc[('equal',128)]['FR'][:] = ws128em['0'][:].values\n",
    "ws_distances_microcircuit.loc[('equal',256)]['FR'][:] = ws256em['0'][:].values\n",
    "\n",
    "\n",
    "ws_distances_microcircuit.loc[('equal',8)]['CV'][:] = ws8emCV['0'][:].values\n",
    "ws_distances_microcircuit.loc[('equal',16)]['CV'][:] = ws16emCV['0'][:].values\n",
    "ws_distances_microcircuit.loc[('equal',32)]['CV'][:] = ws32emCV['0'][:].values\n",
    "ws_distances_microcircuit.loc[('equal',64)]['CV'][:] = ws64emCV['0'][:].values\n",
    "ws_distances_microcircuit.loc[('equal',128)]['CV'][:] = ws128emCV['0'][:].values\n",
    "ws_distances_microcircuit.loc[('equal',256)]['CV'][:] = ws256emCV['0'][:].values\n",
    "\n",
    "\n",
    "ws_distances_microcircuit.loc[('equal',8)]['CC'][:] = ws8emCC['0'][:].values\n",
    "ws_distances_microcircuit.loc[('equal',16)]['CC'][:] = ws16emCC['0'][:].values\n",
    "ws_distances_microcircuit.loc[('equal',32)]['CC'][:] = ws32emCC['0'][:].values\n",
    "ws_distances_microcircuit.loc[('equal',64)]['CC'][:] = ws64emCC['0'][:].values\n",
    "ws_distances_microcircuit.loc[('equal',128)]['CC'][:] = ws128emCC['0'][:].values\n",
    "ws_distances_microcircuit.loc[('equal',256)]['CC'][:] = ws256emCC['0'][:].values\n",
    "\n",
    "\n",
    "ws_distances_microcircuit.loc[('continuous',8)]['FR'][:] = np.hstack((None,wscontm['0'][:].values))\n",
    "ws_distances_microcircuit.loc[('continuous',8)]['CV'][:] = np.hstack((None,wscontmCV['0'][:].values))\n",
    "ws_distances_microcircuit.loc[('continuous',8)]['CC'][:] = np.hstack((None,wscontmCC['0'][:].values))"
   ]
  },
  {
   "cell_type": "markdown",
   "id": "dea95138",
   "metadata": {},
   "source": [
    "Lets look into them in more detail. We start with the Brunel model. Find the mean ws distance for the continuous models against seed 1. Then take mean of ws distances across all seed for each of the model cases."
   ]
  },
  {
   "cell_type": "code",
   "execution_count": 13,
   "id": "2afc9323",
   "metadata": {},
   "outputs": [],
   "source": [
    "cm = 1/2.54  # centimeters in inches\n",
    "plt.rcParams['figure.figsize'] = (8*cm,7*cm)"
   ]
  },
  {
   "cell_type": "code",
   "execution_count": 14,
   "id": "fcf2ea86",
   "metadata": {},
   "outputs": [],
   "source": [
    "fig_path = 'C:\\\\Users\\\\Nida\\\\Documents\\\\NMBU\\\\master\\\\Figures'"
   ]
  },
  {
   "cell_type": "markdown",
   "id": "9c2654a5",
   "metadata": {},
   "source": [
    "# Wasserstein distances Brunel model"
   ]
  },
  {
   "cell_type": "code",
   "execution_count": 15,
   "id": "45efc342",
   "metadata": {},
   "outputs": [],
   "source": [
    "n = 5\n",
    "colors = plt.cm.viridis(np.linspace(0, 1, n))"
   ]
  },
  {
   "cell_type": "markdown",
   "id": "48a9bb1b",
   "metadata": {},
   "source": [
    "## WS based on CV"
   ]
  },
  {
   "cell_type": "code",
   "execution_count": 16,
   "id": "bde7228a",
   "metadata": {},
   "outputs": [],
   "source": [
    "droop_means_cvws= [ws_distances_brunel.loc[('droop',i)]['CV'].mean() for i in [2,4,8,16,32,64,128,256]]\n",
    "droop_stds_cvws= [ws_distances_brunel.loc[('droop',i)]['CV'].std() for i in [2,4,8,16,32,64,128,256]]\n",
    "equal_means_cvws= [ws_distances_brunel.loc[('equal',i)]['CV'].mean() for i in [2,4,8,16,32,64,128,256]]\n",
    "equal_stds_cvws= [ws_distances_brunel.loc[('equal',i)]['CV'].std() for i in [2,4,8,16,32,64,128,256]]\n",
    "cont_mean_cvws = ws_distances_brunel.loc[('continuous',8)]['CV'].mean()\n",
    "cont_std_cvws = ws_distances_brunel.loc[('continuous',8)]['CV'].std()"
   ]
  },
  {
   "cell_type": "code",
   "execution_count": 18,
   "id": "01e634ca",
   "metadata": {},
   "outputs": [
    {
     "data": {
      "text/plain": [
       "[-0.012249895930290244,\n",
       " -0.031888130307197615,\n",
       " -0.002002976834774073,\n",
       " -0.018880657851696042,\n",
       " -0.018843813613057134,\n",
       " 0.0020784407854080103,\n",
       " 0.00512705789878963,\n",
       " -0.0006581641733646171]"
      ]
     },
     "execution_count": 18,
     "metadata": {},
     "output_type": "execute_result"
    }
   ],
   "source": [
    "[x-y for x,y in zip(droop_means_cvws,equal_means_cvws)]"
   ]
  },
  {
   "cell_type": "code",
   "execution_count": 20,
   "id": "67657a28",
   "metadata": {},
   "outputs": [
    {
     "data": {
      "text/plain": [
       "0.023277246773015306"
      ]
     },
     "execution_count": 20,
     "metadata": {},
     "output_type": "execute_result"
    }
   ],
   "source": [
    "np.mean(droop_stds_cvws)"
   ]
  },
  {
   "cell_type": "code",
   "execution_count": 22,
   "id": "48cd1f16",
   "metadata": {},
   "outputs": [
    {
     "data": {
      "image/png": "[encoded data removed]",
      "text/plain": [
       "<Figure size 226.772x198.425 with 1 Axes>"
      ]
     },
     "metadata": {
      "needs_background": "light"
     },
     "output_type": "display_data"
    }
   ],
   "source": [
    "x = [4,8,12,16,20,24,28,32]\n",
    "l=3\n",
    "plt.errorbar(x, droop_means_cvws, droop_stds_cvws, linestyle='-', marker='^',label='droop',color=colors[0],alpha=0.5,linewidth=l)\n",
    "plt.errorbar(x, equal_means_cvws, equal_stds_cvws, linestyle='dashed', marker='^',label='equal',color=colors[1],alpha=0.5,linewidth=l)\n",
    "plt.axhline(y=cont_mean_cvws,label='continuous',color=colors[3],linewidth=l)\n",
    "x2 = [3,4,8,12,16,20,24,28,32,33]\n",
    "plt.fill_between(x2,y1=cont_mean_cvws-cont_std_cvws,y2=cont_mean_cvws+cont_std_cvws,alpha=0.2,color=colors[3])\n",
    "plt.xticks(x,('1/2','1/4','1/8','1/16','1/32','1/64','1/128','1/256'))\n",
    "plt.xlabel('Resolution',fontsize=6)\n",
    "plt.ylabel('WS of CV',fontsize=6, labelpad=3)\n",
    "plt.xticks(fontsize=7)\n",
    "plt.yticks(fontsize=7);\n",
    "plt.savefig(r'{}\\mean_WS_CV_brunel.pdf'.format(fig_path),bbox_inches='tight')\n",
    "#plt.legend()\n",
    "# only for analysis, not include in thesis figure:\n",
    "#plt.grid()"
   ]
  },
  {
   "cell_type": "markdown",
   "id": "f23f287e",
   "metadata": {},
   "source": [
    "## WS based on FR"
   ]
  },
  {
   "cell_type": "code",
   "execution_count": 21,
   "id": "18b4b542",
   "metadata": {},
   "outputs": [],
   "source": [
    "droop_means_frws= [ws_distances_brunel.loc[('droop',i)]['FR'].mean() for i in [2,4,8,16,32,64,128,256]]\n",
    "droop_stds_frws= [ws_distances_brunel.loc[('droop',i)]['FR'].std() for i in [2,4,8,16,32,64,128,256]]\n",
    "equal_means_frws= [ws_distances_brunel.loc[('equal',i)]['FR'].mean() for i in [2,4,8,16,32,64,128,256]]\n",
    "equal_stds_frws= [ws_distances_brunel.loc[('equal',i)]['FR'].std() for i in [2,4,8,16,32,64,128,256]]\n",
    "cont_mean_frws = ws_distances_brunel.loc[('continuous',8)]['FR'].mean()\n",
    "cont_std_frws = ws_distances_brunel.loc[('continuous',8)]['FR'].std()"
   ]
  },
  {
   "cell_type": "code",
   "execution_count": 18,
   "id": "d9f07b0c",
   "metadata": {},
   "outputs": [
    {
     "data": {
      "text/plain": [
       "[1.3408535957336425,\n",
       " 1.1196701169013976,\n",
       " 0.8467620253562927,\n",
       " 0.5831933081150055,\n",
       " 0.3479893982410431,\n",
       " 0.22243990823626514,\n",
       " 0.16040173172950742,\n",
       " 0.09444710565730925]"
      ]
     },
     "execution_count": 18,
     "metadata": {},
     "output_type": "execute_result"
    }
   ],
   "source": [
    "equal_means_frws"
   ]
  },
  {
   "cell_type": "code",
   "execution_count": 111,
   "id": "d7269e64",
   "metadata": {},
   "outputs": [
    {
     "data": {
      "text/plain": [
       "array([1.27436861, 1.05318514, 0.78027704, 0.51670833, 0.28150442,\n",
       "       0.15595493, 0.09391675, 0.02796212])"
      ]
     },
     "execution_count": 111,
     "metadata": {},
     "output_type": "execute_result"
    }
   ],
   "source": [
    "equal_means_frws-cont_mean_frws"
   ]
  },
  {
   "cell_type": "code",
   "execution_count": 112,
   "id": "cd086bee",
   "metadata": {},
   "outputs": [
    {
     "data": {
      "text/plain": [
       "array([1.26254829, 1.02716685, 0.75722224, 0.4953738 , 0.28697633,\n",
       "       0.14520019, 0.06579738, 0.0124187 ])"
      ]
     },
     "execution_count": 112,
     "metadata": {},
     "output_type": "execute_result"
    }
   ],
   "source": [
    "droop_means_frws-cont_mean_frws"
   ]
  },
  {
   "cell_type": "code",
   "execution_count": 114,
   "id": "aa3ab106",
   "metadata": {},
   "outputs": [
    {
     "data": {
      "text/plain": [
       "[-0.011820328235626176,\n",
       " -0.026018285751342685,\n",
       " -0.02305480241775515,\n",
       " -0.021334522962570213,\n",
       " 0.005471916496753715,\n",
       " -0.010754735767841306,\n",
       " -0.028119373135268688,\n",
       " -0.015543428156524888]"
      ]
     },
     "execution_count": 114,
     "metadata": {},
     "output_type": "execute_result"
    }
   ],
   "source": [
    "[x-y for x,y in zip(droop_means_frws,equal_means_frws)]"
   ]
  },
  {
   "cell_type": "code",
   "execution_count": 22,
   "id": "04b55f6e",
   "metadata": {},
   "outputs": [
    {
     "data": {
      "image/png": "[encoded data removed]",
      "text/plain": [
       "<Figure size 1008x720 with 1 Axes>"
      ]
     },
     "metadata": {
      "needs_background": "light"
     },
     "output_type": "display_data"
    }
   ],
   "source": [
    "x = [4,8,12,16,20,24,28,32]\n",
    "l=3\n",
    "plt.errorbar(x, droop_means_frws, droop_stds_frws, linestyle='-', marker='^',label='droop',color=colors[0],alpha=0.5,linewidth=l)\n",
    "plt.errorbar(x, equal_means_frws, equal_stds_frws, linestyle='dashed', marker='^',label='equal',color=colors[1],alpha=0.5,linewidth=l)\n",
    "plt.axhline(y=cont_mean_frws,label='continuous',color=colors[3],linewidth=l)\n",
    "x2 = [3,4,8,12,16,20,24,28,32,33]\n",
    "plt.fill_between(x2,y1=cont_mean_frws-cont_std_frws,y2=cont_mean_frws+cont_std_frws,alpha=0.2,color=colors[3])\n",
    "plt.xticks(x,('1/2','1/4','1/8','1/16','1/32','1/64','1/128','1/256'))\n",
    "plt.xlabel('Resolution',fontsize=6)\n",
    "plt.ylabel('WS of FR',fontsize=6, labelpad=3)\n",
    "plt.xticks(fontsize=7)\n",
    "plt.yticks(fontsize=7);\n",
    "#plt.legend()\n",
    "#plt.savefig(r'{}\\mean_WS_FR_brunel.pdf'.format(fig_path),bbox_inches='tight')\n",
    "# only for analysis, not to be included in thesis figures:\n",
    "#plt.grid()"
   ]
  },
  {
   "cell_type": "markdown",
   "id": "0114b878",
   "metadata": {},
   "source": [
    "## WS distances based on CC"
   ]
  },
  {
   "cell_type": "code",
   "execution_count": 21,
   "id": "cbe6ec3e",
   "metadata": {},
   "outputs": [],
   "source": [
    "droop_means_ccws= [ws_distances_brunel.loc[('droop',i)]['CC'].mean() for i in [2,4,8,16,32,64,128,256]]\n",
    "droop_stds_ccws= [ws_distances_brunel.loc[('droop',i)]['CC'].std() for i in [2,4,8,16,32,64,128,256]]\n",
    "equal_means_ccws= [ws_distances_brunel.loc[('equal',i)]['CC'].mean() for i in [2,4,8,16,32,64,128,256]]\n",
    "equal_stds_ccws= [ws_distances_brunel.loc[('equal',i)]['CC'].std() for i in [2,4,8,16,32,64,128,256]]\n",
    "cont_mean_ccws = ws_distances_brunel.loc[('continuous',8)]['CC'].mean()\n",
    "cont_std_ccws = ws_distances_brunel.loc[('continuous',8)]['CC'].std()"
   ]
  },
  {
   "cell_type": "code",
   "execution_count": 26,
   "id": "278506ad",
   "metadata": {},
   "outputs": [
    {
     "data": {
      "text/plain": [
       "-0.02006626129150213"
      ]
     },
     "execution_count": 26,
     "metadata": {},
     "output_type": "execute_result"
    }
   ],
   "source": [
    "l=[x-y for x,y in zip(droop_means_ccws,equal_means_ccws)]\n",
    "np.mean(l)"
   ]
  },
  {
   "cell_type": "code",
   "execution_count": 27,
   "id": "8fafa0d8",
   "metadata": {},
   "outputs": [
    {
     "data": {
      "text/plain": [
       "0.03319493101851423"
      ]
     },
     "execution_count": 27,
     "metadata": {},
     "output_type": "execute_result"
    }
   ],
   "source": [
    "np.mean(droop_stds_ccws)"
   ]
  },
  {
   "cell_type": "code",
   "execution_count": 26,
   "id": "12f3ef31",
   "metadata": {},
   "outputs": [
    {
     "data": {
      "image/png": "[encoded data removed]",
      "text/plain": [
       "<Figure size 226.772x198.425 with 1 Axes>"
      ]
     },
     "metadata": {
      "needs_background": "light"
     },
     "output_type": "display_data"
    }
   ],
   "source": [
    "x = [4,8,12,16,20,24,28,32]\n",
    "l=3\n",
    "plt.errorbar(x, droop_means_ccws, droop_stds_ccws, linestyle='-', marker='^',label='droop',color=colors[0],alpha=0.5,linewidth=l)\n",
    "plt.errorbar(x, equal_means_ccws, equal_stds_ccws, linestyle='dashed', marker='^',label='equal',color=colors[1],alpha=0.5,linewidth=l)\n",
    "plt.axhline(y=cont_mean_ccws,label='continuous',color=colors[3],linewidth=l)\n",
    "x2 = [3,4,8,12,16,20,24,28,32,33]\n",
    "plt.fill_between(x2,y1=cont_mean_ccws-cont_std_ccws,y2=cont_mean_ccws+cont_std_ccws,alpha=0.2,color=colors[3])\n",
    "plt.xticks(x,('1/2','1/4','1/8','1/16','1/32','1/64','1/128','1/256'))\n",
    "plt.xlabel('Resolution',fontsize=6)\n",
    "plt.ylabel('WS of CC',fontsize=6, labelpad=3)\n",
    "plt.xticks(fontsize=7)\n",
    "plt.yticks(fontsize=7);\n",
    "#plt.legend()\n",
    "plt.savefig(r'{}\\mean_WS_CC_brunel.pdf'.format(fig_path),bbox_inches='tight')\n",
    "# only for analysis, not to be included in thesis figures:\n",
    "#plt.grid()"
   ]
  },
  {
   "cell_type": "markdown",
   "id": "199bd518",
   "metadata": {},
   "source": [
    "# Wasserstein distances Microcircuit\n",
    "\n",
    "## WS based on CV"
   ]
  },
  {
   "cell_type": "code",
   "execution_count": 31,
   "id": "a120916b",
   "metadata": {},
   "outputs": [],
   "source": [
    "n = 5\n",
    "colors = plt.cm.viridis(np.linspace(0, 1, n))"
   ]
  },
  {
   "cell_type": "code",
   "execution_count": 32,
   "id": "ca1c002d",
   "metadata": {},
   "outputs": [],
   "source": [
    "droop_means_cvws= [ws_distances_microcircuit.loc[('droop',i)]['CV'].mean() for i in [8,16,32,64,128,256]]\n",
    "droop_stds_cvws= [ws_distances_microcircuit.loc[('droop',i)]['CV'].std() for i in [8,16,32,64,128,256]]\n",
    "equal_means_cvws= [ws_distances_microcircuit.loc[('equal',i)]['CV'].mean() for i in [8,16,32,64,128,256]]\n",
    "equal_stds_cvws= [ws_distances_microcircuit.loc[('equal',i)]['CV'].std() for i in [8,16,32,64,128,256]]\n",
    "cont_mean_cvws = ws_distances_microcircuit.loc[('continuous',8)]['CV'].mean()\n",
    "cont_std_cvws = ws_distances_microcircuit.loc[('continuous',8)]['CV'].std()"
   ]
  },
  {
   "cell_type": "code",
   "execution_count": 33,
   "id": "a9f2a4c8",
   "metadata": {},
   "outputs": [
    {
     "data": {
      "text/plain": [
       "[0.11893291361629961,\n",
       " 0.16389473751187322,\n",
       " 0.18400308378040792,\n",
       " 0.0754591606557369,\n",
       " 0.08675399906933305,\n",
       " 0.15968013256788252]"
      ]
     },
     "execution_count": 33,
     "metadata": {},
     "output_type": "execute_result"
    }
   ],
   "source": [
    "equal_means_cvws"
   ]
  },
  {
   "cell_type": "code",
   "execution_count": 35,
   "id": "e54b716b",
   "metadata": {},
   "outputs": [
    {
     "data": {
      "text/plain": [
       "0.04607547181893775"
      ]
     },
     "execution_count": 35,
     "metadata": {},
     "output_type": "execute_result"
    }
   ],
   "source": [
    "cont_std_cvws"
   ]
  },
  {
   "cell_type": "code",
   "execution_count": 29,
   "id": "ccbcfa43",
   "metadata": {},
   "outputs": [
    {
     "data": {
      "image/png": "[encoded data removed]",
      "text/plain": [
       "<Figure size 226.772x198.425 with 1 Axes>"
      ]
     },
     "metadata": {
      "needs_background": "light"
     },
     "output_type": "display_data"
    }
   ],
   "source": [
    "x = [4,8,12,16,20,24]\n",
    "l=3\n",
    "plt.errorbar(x, droop_means_cvws, droop_stds_cvws, linestyle='-', marker='^',label='droop',color=colors[0],alpha=0.5,linewidth=l)\n",
    "plt.errorbar(x, equal_means_cvws, equal_stds_cvws, linestyle='dashed', marker='^',label='equal',color=colors[1],alpha=0.5,linewidth=l)\n",
    "plt.axhline(y=cont_mean_cvws,label='continuous',color=colors[3],linewidth=l)\n",
    "x2 = [3,4,8,12,16,20,24,25]\n",
    "plt.fill_between(x2,y1=cont_mean_cvws-cont_std_cvws,y2=cont_mean_cvws+cont_std_cvws,alpha=0.2,color=colors[3])\n",
    "plt.xticks(x,('1/8','1/16','1/32','1/64','1/128','1/256'))\n",
    "plt.xlabel('Resolution',fontsize=6)\n",
    "plt.ylabel('WS of CV',fontsize=6, labelpad=3)\n",
    "plt.xticks(fontsize=7)\n",
    "plt.yticks(fontsize=7);\n",
    "plt.savefig(r'{}\\mean_WS_CV_microcircuit.pdf'.format(fig_path),bbox_inches='tight')\n",
    "#plt.legend()\n",
    "# only for analysis, not include in thesis figure:\n",
    "#plt.grid()"
   ]
  },
  {
   "cell_type": "markdown",
   "id": "2d7fabce",
   "metadata": {},
   "source": [
    "## WS based on FR"
   ]
  },
  {
   "cell_type": "code",
   "execution_count": 34,
   "id": "fcbae1e7",
   "metadata": {},
   "outputs": [],
   "source": [
    "droop_means_frws= [ws_distances_microcircuit.loc[('droop',i)]['FR'].mean() for i in [8,16,32,64,128,256]]\n",
    "droop_stds_frws= [ws_distances_microcircuit.loc[('droop',i)]['FR'].std() for i in [8,16,32,64,128,256]]\n",
    "equal_means_frws= [ws_distances_microcircuit.loc[('equal',i)]['FR'].mean() for i in [8,16,32,64,128,256]]\n",
    "equal_stds_frws= [ws_distances_microcircuit.loc[('equal',i)]['FR'].std() for i in [8,16,32,64,128,256]]\n",
    "cont_mean_frws = ws_distances_microcircuit.loc[('continuous',8)]['FR'].mean()\n",
    "cont_std_frws = ws_distances_microcircuit.loc[('continuous',8)]['FR'].std()"
   ]
  },
  {
   "cell_type": "code",
   "execution_count": 37,
   "id": "bdaa4160",
   "metadata": {},
   "outputs": [
    {
     "data": {
      "text/plain": [
       "[0.2255694717168808,\n",
       " 0.11942760050296782,\n",
       " 0.06793784461915489,\n",
       " 0.05869148019701238,\n",
       " 0.04780320674180981,\n",
       " 0.04788652975112196]"
      ]
     },
     "execution_count": 37,
     "metadata": {},
     "output_type": "execute_result"
    }
   ],
   "source": [
    "droop_means_frws"
   ]
  },
  {
   "cell_type": "code",
   "execution_count": 27,
   "id": "a41eb3ef",
   "metadata": {},
   "outputs": [
    {
     "data": {
      "image/png": "[encoded data removed]",
      "text/plain": [
       "<Figure size 1008x720 with 1 Axes>"
      ]
     },
     "metadata": {
      "needs_background": "light"
     },
     "output_type": "display_data"
    }
   ],
   "source": [
    "x = [4,8,12,16,20,24]\n",
    "l=3\n",
    "plt.errorbar(x, droop_means_frws, droop_stds_frws, linestyle='-', marker='^',label='droop',color=colors[0],alpha=0.5,linewidth=l)\n",
    "plt.errorbar(x, equal_means_frws, equal_stds_frws, linestyle='dashed', marker='^',label='equal',color=colors[1],alpha=0.5,linewidth=l)\n",
    "plt.axhline(y=cont_mean_frws,label='continuous',color=colors[3],linewidth=l)\n",
    "x2 = [3,4,8,12,16,20,24,25]\n",
    "plt.fill_between(x2,y1=cont_mean_frws-cont_std_frws,y2=cont_mean_frws+cont_std_frws,alpha=0.2,color=colors[3])\n",
    "plt.xticks(x,('1/8','1/16','1/32','1/64','1/128','1/256'))\n",
    "plt.xlabel('Resolution',fontsize=6)\n",
    "plt.ylabel('WS of FR',fontsize=6, labelpad=3)\n",
    "plt.xticks(fontsize=7)\n",
    "plt.yticks(fontsize=7);\n",
    "#plt.legend()\n",
    "#plt.savefig(r'{}\\mean_WS_FR_microcircuit.pdf'.format(fig_path),bbox_inches='tight')\n",
    "# only for analysis, not to be included in thesis figures:\n",
    "#plt.grid()"
   ]
  },
  {
   "cell_type": "markdown",
   "id": "24d92cf4",
   "metadata": {},
   "source": [
    "## WS based on CC"
   ]
  },
  {
   "cell_type": "code",
   "execution_count": 38,
   "id": "21ed24bc",
   "metadata": {},
   "outputs": [],
   "source": [
    "droop_means_ccws= [ws_distances_microcircuit.loc[('droop',i)]['CC'].mean() for i in [8,16,32,64,128,256]]\n",
    "droop_stds_ccws= [ws_distances_microcircuit.loc[('droop',i)]['CC'].std() for i in [8,16,32,64,128,256]]\n",
    "equal_means_ccws= [ws_distances_microcircuit.loc[('equal',i)]['CC'].mean() for i in [8,16,32,64,128,256]]\n",
    "equal_stds_ccws= [ws_distances_microcircuit.loc[('equal',i)]['CC'].std() for i in [8,16,32,64,128,256]]\n",
    "cont_mean_ccws = ws_distances_microcircuit.loc[('continuous',8)]['CC'].mean()\n",
    "cont_std_ccws = ws_distances_microcircuit.loc[('continuous',8)]['CC'].std()"
   ]
  },
  {
   "cell_type": "code",
   "execution_count": 40,
   "id": "cc2b3cd6",
   "metadata": {},
   "outputs": [
    {
     "data": {
      "text/plain": [
       "[15.505531311035156,\n",
       " 6.701618003845212,\n",
       " 0.7358768463134808,\n",
       " 2.7833765029907234,\n",
       " 2.519849014282226,\n",
       " -1.8674074172973647]"
      ]
     },
     "execution_count": 40,
     "metadata": {},
     "output_type": "execute_result"
    }
   ],
   "source": [
    "[x-y for x,y in zip(droop_means_ccws,equal_means_ccws)]"
   ]
  },
  {
   "cell_type": "code",
   "execution_count": 42,
   "id": "0e5dbb9d",
   "metadata": {},
   "outputs": [
    {
     "data": {
      "text/plain": [
       "[3.253175187026223,\n",
       " 6.96501499451804,\n",
       " 6.499114765673095,\n",
       " 5.203027894348031,\n",
       " 4.604911516778321,\n",
       " 4.175718921313812]"
      ]
     },
     "execution_count": 42,
     "metadata": {},
     "output_type": "execute_result"
    }
   ],
   "source": [
    "droop_stds_ccws"
   ]
  },
  {
   "cell_type": "code",
   "execution_count": 33,
   "id": "c3815c76",
   "metadata": {},
   "outputs": [
    {
     "data": {
      "image/png": "[encoded data removed]",
      "text/plain": [
       "<Figure size 226.772x198.425 with 1 Axes>"
      ]
     },
     "metadata": {
      "needs_background": "light"
     },
     "output_type": "display_data"
    }
   ],
   "source": [
    "x = [4,8,12,16,20,24]\n",
    "l=3\n",
    "plt.errorbar(x, droop_means_ccws, droop_stds_ccws, linestyle='-', marker='^',label='droop',color=colors[0],alpha=0.5,linewidth=l)\n",
    "plt.errorbar(x, equal_means_ccws, equal_stds_ccws, linestyle='dashed', marker='^',label='equal',color=colors[1],alpha=0.5,linewidth=l)\n",
    "plt.axhline(y=cont_mean_ccws,label='continuous',color=colors[3],linewidth=l)\n",
    "x2 = [3,4,8,12,16,20,24,25]\n",
    "plt.fill_between(x2,y1=cont_mean_ccws-cont_std_ccws,y2=cont_mean_ccws+cont_std_ccws,alpha=0.2,color=colors[3])\n",
    "plt.xticks(x,('1/8','1/16','1/32','1/64','1/128','1/256'))\n",
    "plt.xlabel('Resolution',fontsize=6)\n",
    "plt.ylabel('WS of CC',fontsize=6, labelpad=3)\n",
    "plt.xticks(fontsize=7)\n",
    "plt.yticks(fontsize=7);\n",
    "#plt.legend()\n",
    "plt.savefig(r'{}\\mean_WS_CC_microcircuit.pdf'.format(fig_path),bbox_inches='tight')\n",
    "# only for analysis, not include in thesis\n",
    "#plt.grid()"
   ]
  },
  {
   "cell_type": "code",
   "execution_count": null,
   "id": "b1fbefdd",
   "metadata": {},
   "outputs": [],
   "source": []
  }
 ],
 "metadata": {
  "kernelspec": {
   "display_name": "Python 3",
   "language": "python",
   "name": "python3"
  },
  "language_info": {
   "codemirror_mode": {
    "name": "ipython",
    "version": 3
   },
   "file_extension": ".py",
   "mimetype": "text/x-python",
   "name": "python",
   "nbconvert_exporter": "python",
   "pygments_lexer": "ipython3",
   "version": "3.8.8"
  }
 },
 "nbformat": 4,
 "nbformat_minor": 5
}
