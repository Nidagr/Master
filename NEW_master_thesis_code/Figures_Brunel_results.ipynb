{
 "cells": [
  {
   "cell_type": "markdown",
   "id": "72700ffb",
   "metadata": {},
   "source": [
    "# Produce plots of distributions to include in the Brunel results section of the thesis\n",
    "\n",
    "We start be importing the dataframe."
   ]
  },
  {
   "cell_type": "code",
   "execution_count": 1,
   "id": "6b158fec",
   "metadata": {},
   "outputs": [],
   "source": [
    "import pandas as pd\n",
    "import seaborn as sns\n",
    "import matplotlib.pyplot as plt\n",
    "#plt.rcParams['figure.figsize'] = (8,4) # seems like this size gives best size when inserting the figure in latex\n",
    "#plt.rcParams['figure.figsize'] = (14,10)  # to examine better here\n",
    "import numpy as np\n",
    "from scipy.stats import probplot\n",
    "from scipy.stats import normaltest\n",
    "from matplotlib import cm\n",
    "from mpl_toolkits.axes_grid1.inset_locator import zoomed_inset_axes, mark_inset"
   ]
  },
  {
   "cell_type": "code",
   "execution_count": 2,
   "id": "78003e51",
   "metadata": {},
   "outputs": [],
   "source": [
    "cm = 1/2.54  # centimeters in inches\n",
    "#plt.rcParams['figure.figsize'] = (8*cm,7*cm)# used this in the beginning, but want shorter images (height)\n",
    "plt.rcParams['figure.figsize'] = (12*cm,11*cm)"
   ]
  },
  {
   "cell_type": "code",
   "execution_count": 3,
   "id": "9949dade",
   "metadata": {},
   "outputs": [],
   "source": [
    "df = pd.read_pickle('structured_df.pkl')"
   ]
  },
  {
   "cell_type": "code",
   "execution_count": 4,
   "id": "1a981f52",
   "metadata": {},
   "outputs": [],
   "source": [
    "#fig_path = 'C:\\\\Users\\\\Nida\\\\Documents\\\\NMBU\\\\master\\\\Figures' # for thesis paper\n",
    "fig_path = 'C:\\\\Users\\\\Nida\\\\Documents\\\\NMBU\\\\master\\\\Presentation' # for presentation"
   ]
  },
  {
   "cell_type": "markdown",
   "id": "5e9c0a0e",
   "metadata": {},
   "source": [
    "Want to show example of how ten ecdf curves of statistic becomes one mean ecdf curve. Do this for droop model resolution 1/8, CV values. "
   ]
  },
  {
   "cell_type": "code",
   "execution_count": 5,
   "id": "6c9c5154",
   "metadata": {},
   "outputs": [],
   "source": [
    "def get_mean_list(model):\n",
    "    cv_list = []\n",
    "    for i in range(1,11):\n",
    "        cvs = model[i].values\n",
    "        cv_list.append(cvs)\n",
    "    mean_list = np.mean(cv_list,axis=0)\n",
    "    return mean_list"
   ]
  },
  {
   "cell_type": "code",
   "execution_count": 13,
   "id": "a7a7a7a1",
   "metadata": {},
   "outputs": [
    {
     "data": {
      "image/png": "[encoded data removed]",
      "text/plain": [
       "<Figure size 226.772x198.425 with 1 Axes>"
      ]
     },
     "metadata": {
      "needs_background": "light"
     },
     "output_type": "display_data"
    }
   ],
   "source": [
    "for i in range(1,11):\n",
    "    cv = df.loc['droop',8,i]['CV'].values\n",
    "    plt.plot(np.sort(cv), np.linspace(0, 1, len(cv), endpoint=False),label=i)\n",
    "    \n",
    "plt.xlabel('CV',fontsize=6);\n",
    "plt.ylabel('Proportion',fontsize=6);\n",
    "plt.xticks(fontsize=7);\n",
    "plt.yticks(fontsize=7);\n",
    "textstr = 'a)'\n",
    "plt.text(-0.025, 0.85, textstr, fontsize=8, transform=plt.gcf().transFigure,weight='bold');\n",
    "plt.savefig(r'{}\\all_CV_1_8_brunel_ecdf.pdf'.format(fig_path),bbox_inches='tight')"
   ]
  },
  {
   "cell_type": "code",
   "execution_count": 14,
   "id": "18545d59",
   "metadata": {},
   "outputs": [
    {
     "data": {
      "image/png": "[encoded data removed]",
      "text/plain": [
       "<Figure size 226.772x198.425 with 1 Axes>"
      ]
     },
     "metadata": {
      "needs_background": "light"
     },
     "output_type": "display_data"
    }
   ],
   "source": [
    "ref = get_mean_list(df.loc['droop',8]['CV'])  \n",
    "plt.plot(np.sort(ref), np.linspace(0, 1, len(ref), endpoint=False));\n",
    "plt.xlabel('CV',fontsize=6);\n",
    "plt.ylabel('Proportion',fontsize=6);\n",
    "plt.xticks(fontsize=7);\n",
    "plt.yticks(fontsize=7);\n",
    "textstr = 'b)'\n",
    "plt.text(-0.025, 0.85, textstr, fontsize=8, transform=plt.gcf().transFigure,weight='bold');\n",
    "plt.savefig(r'{}\\mean_CV_1_8_brunel_ecdf.pdf'.format(fig_path),bbox_inches='tight')"
   ]
  },
  {
   "cell_type": "markdown",
   "id": "7e6b174d",
   "metadata": {},
   "source": [
    "Now create the plots of all the mean distributions."
   ]
  },
  {
   "cell_type": "code",
   "execution_count": 6,
   "id": "1a4f90af",
   "metadata": {},
   "outputs": [],
   "source": [
    "m = 9\n",
    "col = plt.cm.viridis(np.linspace(0, 1, m)) #colorblind friendly"
   ]
  },
  {
   "cell_type": "code",
   "execution_count": 7,
   "id": "72d972c7",
   "metadata": {},
   "outputs": [],
   "source": [
    "def get_mean_list(model):\n",
    "    fr_list = []\n",
    "    for i in range(1,11):\n",
    "        frs = model[i].values\n",
    "        frs = [float(x)*1000 for x in frs]\n",
    "        fr_list.append(frs)\n",
    "    mean_list = np.mean(fr_list,axis=0)\n",
    "    return mean_list"
   ]
  },
  {
   "cell_type": "markdown",
   "id": "d59da7ce",
   "metadata": {},
   "source": [
    "# Mean FR curve all models"
   ]
  },
  {
   "cell_type": "code",
   "execution_count": 8,
   "id": "550826f2",
   "metadata": {},
   "outputs": [],
   "source": [
    "p01=get_mean_list(df.loc['droop','FR'][2])\n",
    "p02=get_mean_list(df.loc['droop','FR'][4])\n",
    "p03=get_mean_list(df.loc['droop','FR'][8])\n",
    "p04=get_mean_list(df.loc['droop','FR'][16])\n",
    "p05=get_mean_list(df.loc['droop','FR'][32])\n",
    "p06=get_mean_list(df.loc['droop','FR'][64])\n",
    "p07=get_mean_list(df.loc['droop','FR'][128])\n",
    "p08=get_mean_list(df.loc['droop','FR'][256])\n",
    "p09=get_mean_list(df.loc['continuous','FR'][8])\n",
    "\n",
    "q01=get_mean_list(df.loc['equal','FR'][2])\n",
    "q02=get_mean_list(df.loc['equal','FR'][4])\n",
    "q03=get_mean_list(df.loc['equal','FR'][8])\n",
    "q04=get_mean_list(df.loc['equal','FR'][16])\n",
    "q05=get_mean_list(df.loc['equal','FR'][32])\n",
    "q06=get_mean_list(df.loc['equal','FR'][64])\n",
    "q07=get_mean_list(df.loc['equal','FR'][128])\n",
    "q08=get_mean_list(df.loc['equal','FR'][256])"
   ]
  },
  {
   "cell_type": "code",
   "execution_count": 13,
   "id": "2c087822",
   "metadata": {},
   "outputs": [
    {
     "data": {
      "image/png": "[encoded data removed]",
      "text/plain": [
       "<Figure size 340.157x311.811 with 1 Axes>"
      ]
     },
     "metadata": {
      "needs_background": "light"
     },
     "output_type": "display_data"
    }
   ],
   "source": [
    "\n",
    "# continuous model\n",
    "plt.plot(np.sort(p09), np.linspace(0, 1, len(p09), endpoint=False),color=col[8],label='continuous') # yellow\n",
    "#plt.legend(prop={'size': 4})\n",
    "plt.xlabel('FR (spikes/s)',fontsize=6);\n",
    "plt.ylabel('Proportion',fontsize=6);\n",
    "plt.xticks(fontsize=7);\n",
    "plt.yticks(fontsize=7);\n",
    "#textstr = 'a)'\n",
    "#plt.text(-0.025, 0.85, textstr, fontsize=8, transform=plt.gcf().transFigure,weight='bold');\n",
    "plt.savefig(r'{}\\mean_FR_brunel_cont.pdf'.format(fig_path),bbox_inches='tight')\n",
    "# for analysis, not for ploting in thesis:\n",
    "#plt.grid()"
   ]
  },
  {
   "cell_type": "code",
   "execution_count": 14,
   "id": "6efac467",
   "metadata": {},
   "outputs": [
    {
     "data": {
      "image/png": "[encoded data removed]",
      "text/plain": [
       "<Figure size 340.157x311.811 with 1 Axes>"
      ]
     },
     "metadata": {
      "needs_background": "light"
     },
     "output_type": "display_data"
    }
   ],
   "source": [
    "plt.plot(np.sort(p01), np.linspace(0, 1, len(p01), endpoint=False),color=col[0],label='1/2')\n",
    "# continuous model\n",
    "plt.plot(np.sort(p09), np.linspace(0, 1, len(p09), endpoint=False),color=col[8],label='continuous') # yellow\n",
    "#plt.legend(prop={'size': 4})\n",
    "plt.xlabel('FR (spikes/s)',fontsize=6);\n",
    "plt.ylabel('Proportion',fontsize=6);\n",
    "plt.xticks(fontsize=7);\n",
    "plt.yticks(fontsize=7);\n",
    "#textstr = 'a)'\n",
    "#plt.text(-0.025, 0.85, textstr, fontsize=8, transform=plt.gcf().transFigure,weight='bold');\n",
    "plt.savefig(r'{}\\mean_FR_brunel_cont_droop2.pdf'.format(fig_path),bbox_inches='tight')\n",
    "# for analysis, not for ploting in thesis:\n",
    "#plt.grid()"
   ]
  },
  {
   "cell_type": "code",
   "execution_count": 15,
   "id": "be0fc3d7",
   "metadata": {},
   "outputs": [
    {
     "data": {
      "image/png": "[encoded data removed]",
      "text/plain": [
       "<Figure size 340.157x311.811 with 1 Axes>"
      ]
     },
     "metadata": {
      "needs_background": "light"
     },
     "output_type": "display_data"
    }
   ],
   "source": [
    "plt.plot(np.sort(p01), np.linspace(0, 1, len(p01), endpoint=False),color=col[0],label='1/2')\n",
    "plt.plot(np.sort(q01), np.linspace(0, 1, len(q01), endpoint=False),linestyle='dashed',color=col[0])\n",
    "# continuous model\n",
    "plt.plot(np.sort(p09), np.linspace(0, 1, len(p09), endpoint=False),color=col[8],label='continuous') # yellow\n",
    "#plt.legend(prop={'size': 4})\n",
    "plt.xlabel('FR (spikes/s)',fontsize=6);\n",
    "plt.ylabel('Proportion',fontsize=6);\n",
    "plt.xticks(fontsize=7);\n",
    "plt.yticks(fontsize=7);\n",
    "#textstr = 'a)'\n",
    "#plt.text(-0.025, 0.85, textstr, fontsize=8, transform=plt.gcf().transFigure,weight='bold');\n",
    "plt.savefig(r'{}\\mean_FR_brunel_cont_droop2_equal2.pdf'.format(fig_path),bbox_inches='tight')\n",
    "# for analysis, not for ploting in thesis:\n",
    "#plt.grid()"
   ]
  },
  {
   "cell_type": "code",
   "execution_count": null,
   "id": "cd75ccea",
   "metadata": {},
   "outputs": [],
   "source": []
  },
  {
   "cell_type": "code",
   "execution_count": 16,
   "id": "5883b17b",
   "metadata": {},
   "outputs": [
    {
     "data": {
      "image/png": "[encoded data removed]",
      "text/plain": [
       "<Figure size 340.157x311.811 with 1 Axes>"
      ]
     },
     "metadata": {
      "needs_background": "light"
     },
     "output_type": "display_data"
    }
   ],
   "source": [
    "# droop models\n",
    "plt.plot(np.sort(p01), np.linspace(0, 1, len(p01), endpoint=False),color=col[0],label='1/2')\n",
    "plt.plot(np.sort(p02), np.linspace(0, 1, len(p02), endpoint=False),color=col[1],label='1/4')\n",
    "plt.plot(np.sort(p03), np.linspace(0, 1, len(p03), endpoint=False),color=col[2],label='1/8')\n",
    "plt.plot(np.sort(p04), np.linspace(0, 1, len(p04), endpoint=False),color=col[3],label='1/16')\n",
    "plt.plot(np.sort(p05), np.linspace(0, 1, len(p05), endpoint=False),color=col[4],label='1/32')\n",
    "plt.plot(np.sort(p06), np.linspace(0, 1, len(p06), endpoint=False),color=col[5],label='1/64')\n",
    "plt.plot(np.sort(p07), np.linspace(0, 1, len(p07), endpoint=False),color=col[6],label='1/128')#medium green\n",
    "plt.plot(np.sort(p08), np.linspace(0, 1, len(p08), endpoint=False),color=col[7],label='1/256') #light green\n",
    "# equal models\n",
    "plt.plot(np.sort(q01), np.linspace(0, 1, len(q01), endpoint=False),linestyle='dashed',color=col[0])\n",
    "plt.plot(np.sort(q02), np.linspace(0, 1, len(q02), endpoint=False),linestyle='dashed',color=col[1])\n",
    "plt.plot(np.sort(q03), np.linspace(0, 1, len(q03), endpoint=False),linestyle='dashed',color=col[2])\n",
    "plt.plot(np.sort(q04), np.linspace(0, 1, len(q04), endpoint=False),linestyle='dashed',color=col[3])\n",
    "plt.plot(np.sort(q05), np.linspace(0, 1, len(q05), endpoint=False),linestyle='dashed',color=col[4])\n",
    "plt.plot(np.sort(q06), np.linspace(0, 1, len(q06), endpoint=False),linestyle='dashed',color=col[5])\n",
    "plt.plot(np.sort(q07), np.linspace(0, 1, len(q07), endpoint=False),linestyle='dashed',color=col[6]) #medium green\n",
    "plt.plot(np.sort(q08), np.linspace(0, 1, len(q08), endpoint=False),linestyle='dashed',color=col[7]) #light green\n",
    "# continuous model\n",
    "plt.plot(np.sort(p09), np.linspace(0, 1, len(p09), endpoint=False),color=col[8],label='continuous') # yellow\n",
    "plt.legend(prop={'size': 4})\n",
    "plt.xlabel('FR (spikes/s)',fontsize=6);\n",
    "plt.ylabel('Proportion',fontsize=6);\n",
    "plt.xticks(fontsize=7);\n",
    "plt.yticks(fontsize=7);\n",
    "#textstr = 'a)'\n",
    "#plt.text(-0.025, 0.85, textstr, fontsize=8, transform=plt.gcf().transFigure,weight='bold');\n",
    "plt.savefig(r'{}\\mean_FR_brunel_ecdf.pdf'.format(fig_path),bbox_inches='tight')\n",
    "# for analysis, not for ploting in thesis:\n",
    "#plt.grid()"
   ]
  },
  {
   "cell_type": "code",
   "execution_count": 10,
   "id": "c915328f",
   "metadata": {},
   "outputs": [],
   "source": [
    "def get_mean_list(model):\n",
    "    cv_list = []\n",
    "    for i in range(1,11):\n",
    "        cvs = model[i].values\n",
    "        cv_list.append(cvs)\n",
    "    mean_list = np.mean(cv_list,axis=0)\n",
    "    return mean_list"
   ]
  },
  {
   "cell_type": "markdown",
   "id": "c1ca60ce",
   "metadata": {},
   "source": [
    "# Mean CV curves all models"
   ]
  },
  {
   "cell_type": "code",
   "execution_count": 11,
   "id": "27f3226c",
   "metadata": {},
   "outputs": [],
   "source": [
    "p01=get_mean_list(df.loc['droop','CV'][2])\n",
    "p02=get_mean_list(df.loc['droop','CV'][4])\n",
    "p03=get_mean_list(df.loc['droop','CV'][8])\n",
    "p04=get_mean_list(df.loc['droop','CV'][16])\n",
    "p05=get_mean_list(df.loc['droop','CV'][32])\n",
    "p06=get_mean_list(df.loc['droop','CV'][64])\n",
    "p07=get_mean_list(df.loc['droop','CV'][128])\n",
    "p08=get_mean_list(df.loc['droop','CV'][256])\n",
    "p09=get_mean_list(df.loc['continuous','CV'][8])\n",
    "\n",
    "q01=get_mean_list(df.loc['equal','CV'][2])\n",
    "q02=get_mean_list(df.loc['equal','CV'][4])\n",
    "q03=get_mean_list(df.loc['equal','CV'][8])\n",
    "q04=get_mean_list(df.loc['equal','CV'][16])\n",
    "q05=get_mean_list(df.loc['equal','CV'][32])\n",
    "q06=get_mean_list(df.loc['equal','CV'][64])\n",
    "q07=get_mean_list(df.loc['equal','CV'][128])\n",
    "q08=get_mean_list(df.loc['equal','CV'][256])"
   ]
  },
  {
   "cell_type": "markdown",
   "id": "ab736a39",
   "metadata": {},
   "source": [
    "Make equal model dashed lines. And make droop and equal model with same resolution the same color so it is easy to compare."
   ]
  },
  {
   "cell_type": "code",
   "execution_count": 12,
   "id": "c401ee93",
   "metadata": {},
   "outputs": [
    {
     "data": {
      "image/png": "[encoded data removed]",
      "text/plain": [
       "<Figure size 226.772x198.425 with 1 Axes>"
      ]
     },
     "metadata": {
      "needs_background": "light"
     },
     "output_type": "display_data"
    }
   ],
   "source": [
    "# droop models\n",
    "plt.plot(np.sort(p01), np.linspace(0, 1, len(p01), endpoint=False),color=col[0],label='1/2')\n",
    "plt.plot(np.sort(p02), np.linspace(0, 1, len(p02), endpoint=False),color=col[1],label='1/4')\n",
    "plt.plot(np.sort(p03), np.linspace(0, 1, len(p03), endpoint=False),color=col[2],label='1/8')\n",
    "plt.plot(np.sort(p04), np.linspace(0, 1, len(p04), endpoint=False),color=col[3],label='1/16')\n",
    "plt.plot(np.sort(p05), np.linspace(0, 1, len(p05), endpoint=False),color=col[4],label='1/32')\n",
    "plt.plot(np.sort(p06), np.linspace(0, 1, len(p06), endpoint=False),color=col[5],label='1/64')\n",
    "plt.plot(np.sort(p07), np.linspace(0, 1, len(p07), endpoint=False),color=col[6],label='1/128')#medium green\n",
    "plt.plot(np.sort(p08), np.linspace(0, 1, len(p08), endpoint=False),color=col[7],label='1/256') #light green\n",
    "# equal models\n",
    "plt.plot(np.sort(q01), np.linspace(0, 1, len(q01), endpoint=False),linestyle='dashed',color=col[0])\n",
    "plt.plot(np.sort(q02), np.linspace(0, 1, len(q02), endpoint=False),linestyle='dashed',color=col[1])\n",
    "plt.plot(np.sort(q03), np.linspace(0, 1, len(q03), endpoint=False),linestyle='dashed',color=col[2])\n",
    "plt.plot(np.sort(q04), np.linspace(0, 1, len(q04), endpoint=False),linestyle='dashed',color=col[3])\n",
    "plt.plot(np.sort(q05), np.linspace(0, 1, len(q05), endpoint=False),linestyle='dashed',color=col[4])\n",
    "plt.plot(np.sort(q06), np.linspace(0, 1, len(q06), endpoint=False),linestyle='dashed',color=col[5])\n",
    "plt.plot(np.sort(q07), np.linspace(0, 1, len(q07), endpoint=False),linestyle='dashed',color=col[6]) #medium green\n",
    "plt.plot(np.sort(q08), np.linspace(0, 1, len(q08), endpoint=False),linestyle='dashed',color=col[7]) #light green\n",
    "# continuous model\n",
    "plt.plot(np.sort(p09), np.linspace(0, 1, len(p09), endpoint=False),color=col[8],label='continuous') # yellow\n",
    "plt.xlabel('CV',fontsize=6);\n",
    "plt.ylabel('Proportion',fontsize=6);\n",
    "plt.xticks(fontsize=7);\n",
    "plt.yticks(fontsize=7);\n",
    "#textstr = 'c)'\n",
    "#plt.text(-0.025, 0.85, textstr, fontsize=8, transform=plt.gcf().transFigure,weight='bold');\n",
    "plt.savefig(r'{}\\mean_CV_brunel_ecdf.pdf'.format(fig_path),bbox_inches='tight')\n",
    "# only for analysis, not to be included in thesis figures:\n",
    "#plt.grid()"
   ]
  },
  {
   "cell_type": "markdown",
   "id": "89de07cf",
   "metadata": {},
   "source": [
    "We should do this for the FR distributions as well."
   ]
  },
  {
   "cell_type": "markdown",
   "id": "cee3f000",
   "metadata": {},
   "source": [
    "# Mean CC_5 curve all models"
   ]
  },
  {
   "cell_type": "code",
   "execution_count": 13,
   "id": "125f1c82",
   "metadata": {},
   "outputs": [],
   "source": [
    "p01=get_mean_list(df.loc['droop','CC_5'][2])\n",
    "p02=get_mean_list(df.loc['droop','CC_5'][4])\n",
    "p03=get_mean_list(df.loc['droop','CC_5'][8])\n",
    "p04=get_mean_list(df.loc['droop','CC_5'][16])\n",
    "p05=get_mean_list(df.loc['droop','CC_5'][32])\n",
    "p06=get_mean_list(df.loc['droop','CC_5'][64])\n",
    "p07=get_mean_list(df.loc['droop','CC_5'][128])\n",
    "p08=get_mean_list(df.loc['droop','CC_5'][256])\n",
    "p09=get_mean_list(df.loc['continuous','CC_5'][8])\n",
    "\n",
    "q01=get_mean_list(df.loc['equal','CC_5'][2])\n",
    "q02=get_mean_list(df.loc['equal','CC_5'][4])\n",
    "q03=get_mean_list(df.loc['equal','CC_5'][8])\n",
    "q04=get_mean_list(df.loc['equal','CC_5'][16])\n",
    "q05=get_mean_list(df.loc['equal','CC_5'][32])\n",
    "q06=get_mean_list(df.loc['equal','CC_5'][64])\n",
    "q07=get_mean_list(df.loc['equal','CC_5'][128])\n",
    "q08=get_mean_list(df.loc['equal','CC_5'][256])"
   ]
  },
  {
   "cell_type": "code",
   "execution_count": 14,
   "id": "2b6e55ce",
   "metadata": {},
   "outputs": [
    {
     "data": {
      "image/png": "[encoded data removed]",
      "text/plain": [
       "<Figure size 226.772x198.425 with 2 Axes>"
      ]
     },
     "metadata": {
      "needs_background": "light"
     },
     "output_type": "display_data"
    }
   ],
   "source": [
    "# droop models\n",
    "\n",
    "fig, ax = plt.subplots()\n",
    "\n",
    "ax.plot(np.sort(p01), np.linspace(0, 1, len(p01), endpoint=False),color=col[0],label='1/2')\n",
    "ax.plot(np.sort(p02), np.linspace(0, 1, len(p02), endpoint=False),color=col[1],label='1/4')\n",
    "ax.plot(np.sort(p03), np.linspace(0, 1, len(p03), endpoint=False),color=col[2],label='1/8')\n",
    "ax.plot(np.sort(p04), np.linspace(0, 1, len(p04), endpoint=False),color=col[3],label='1/16')\n",
    "ax.plot(np.sort(p05), np.linspace(0, 1, len(p05), endpoint=False),color=col[4],label='1/32')\n",
    "ax.plot(np.sort(p06), np.linspace(0, 1, len(p06), endpoint=False),color=col[5],label='1/64')\n",
    "ax.plot(np.sort(p07), np.linspace(0, 1, len(p07), endpoint=False),color=col[6],label='1/128')#medium green\n",
    "ax.plot(np.sort(p08), np.linspace(0, 1, len(p08), endpoint=False),color=col[7],label='1/256') #light green\n",
    "# equal models\n",
    "ax.plot(np.sort(q01), np.linspace(0, 1, len(q01), endpoint=False),linestyle='dashed',color=col[0])\n",
    "ax.plot(np.sort(q02), np.linspace(0, 1, len(q02), endpoint=False),linestyle='dashed',color=col[1])\n",
    "ax.plot(np.sort(q03), np.linspace(0, 1, len(q03), endpoint=False),linestyle='dashed',color=col[2])\n",
    "ax.plot(np.sort(q04), np.linspace(0, 1, len(q04), endpoint=False),linestyle='dashed',color=col[3])\n",
    "ax.plot(np.sort(q05), np.linspace(0, 1, len(q05), endpoint=False),linestyle='dashed',color=col[4])\n",
    "ax.plot(np.sort(q06), np.linspace(0, 1, len(q06), endpoint=False),linestyle='dashed',color=col[5])\n",
    "ax.plot(np.sort(q07), np.linspace(0, 1, len(q07), endpoint=False),linestyle='dashed',color=col[6]) #medium green\n",
    "ax.plot(np.sort(q08), np.linspace(0, 1, len(q08), endpoint=False),linestyle='dashed',color=col[7]) #light green\n",
    "# continuous model\n",
    "ax.plot(np.sort(p09), np.linspace(0, 1, len(p09), endpoint=False),color=col[8],label='continuous') # yellow\n",
    "\n",
    "plt.xlabel('CC',fontsize=6);\n",
    "plt.ylabel('Proportion',fontsize=6);\n",
    "plt.xticks(fontsize=7);\n",
    "plt.yticks(fontsize=7);\n",
    "\n",
    "\n",
    "# code to fix zoomed in version\n",
    "axins1 = zoomed_inset_axes(ax, zoom = 3, loc=2)\n",
    "axins1.plot(np.sort(p01),np.linspace(0, 1, len(p01), endpoint=False),color=col[0])\n",
    "axins1.plot(np.sort(p02),np.linspace(0, 1, len(p02), endpoint=False),color=col[1])\n",
    "axins1.plot(np.sort(p03), np.linspace(0, 1, len(p03), endpoint=False),color=col[2])\n",
    "axins1.plot(np.sort(p04), np.linspace(0, 1, len(p04), endpoint=False),color=col[3])\n",
    "axins1.plot(np.sort(p05), np.linspace(0, 1, len(p05), endpoint=False),color=col[4])\n",
    "axins1.plot(np.sort(p06), np.linspace(0, 1, len(p06), endpoint=False),color=col[5])\n",
    "axins1.plot(np.sort(p07), np.linspace(0, 1, len(p07), endpoint=False),color=col[6])\n",
    "axins1.plot(np.sort(p08), np.linspace(0, 1, len(p08), endpoint=False),color=col[7])\n",
    "# equal models\n",
    "axins1.plot(np.sort(q01), np.linspace(0, 1, len(q01), endpoint=False),linestyle='dashed',color=col[0])\n",
    "axins1.plot(np.sort(q02), np.linspace(0, 1, len(q02), endpoint=False),linestyle='dashed',color=col[1])\n",
    "axins1.plot(np.sort(q03), np.linspace(0, 1, len(q03), endpoint=False),linestyle='dashed',color=col[2])\n",
    "axins1.plot(np.sort(q04), np.linspace(0, 1, len(q04), endpoint=False),linestyle='dashed',color=col[3])\n",
    "axins1.plot(np.sort(q05), np.linspace(0, 1, len(q05), endpoint=False),linestyle='dashed',color=col[4])\n",
    "axins1.plot(np.sort(q06), np.linspace(0, 1, len(q06), endpoint=False),linestyle='dashed',color=col[5])\n",
    "axins1.plot(np.sort(q07), np.linspace(0, 1, len(q07), endpoint=False),linestyle='dashed',color=col[6]) \n",
    "axins1.plot(np.sort(q08), np.linspace(0, 1, len(q08), endpoint=False),linestyle='dashed',color=col[7]) \n",
    "# continuous model\n",
    "axins1.plot(np.sort(p09), np.linspace(0, 1, len(p09), endpoint=False),color=col[8])\n",
    "# SPECIFY THE LIMITS\n",
    "x1, x2, y1, y2 = 0.004, 0.014, 0.4, 0.6\n",
    "axins1.set_xlim(x1, x2)\n",
    "axins1.set_ylim(y1, y2)\n",
    "\n",
    "plt.xticks(visible=False)\n",
    "plt.yticks(visible=False)\n",
    "mark_inset(ax, axins1, loc1=1, loc2=4, fc=\"none\", ec=\"0.5\")\n",
    "#textstr = 'e)'\n",
    "#plt.text(-0.025, 0.85, textstr, fontsize=8, transform=plt.gcf().transFigure,weight='bold');\n",
    "\n",
    "plt.savefig(r'{}\\mean_CC_brunel_ecdf.pdf'.format(fig_path),bbox_inches='tight')\n",
    "# for analysis purposes only:\n",
    "#ax.grid()\n",
    "plt.show()"
   ]
  },
  {
   "cell_type": "code",
   "execution_count": 15,
   "id": "857396a4",
   "metadata": {},
   "outputs": [],
   "source": [
    "n = 5\n",
    "colors = plt.cm.viridis(np.linspace(0, 1, n))"
   ]
  },
  {
   "cell_type": "markdown",
   "id": "dfe109b2",
   "metadata": {},
   "source": [
    "# Mean FR as function of resolution with std error bars\n",
    "We want to multiply the FR with 1000 for the plotting."
   ]
  },
  {
   "cell_type": "code",
   "execution_count": 16,
   "id": "97346d8e",
   "metadata": {},
   "outputs": [],
   "source": [
    "def get_mean_std(model):\n",
    "    \"\"\"\n",
    "    Retrieve the mean of each cv distribution. The mean is calculated for each of the 10 simulations in each case then \n",
    "    the mean of these means are taken, and the std of these 10 means are taken. Store in a list which will be returned.\n",
    "    \"\"\"\n",
    "    res = [2,4,8,16,32,64,128,256]\n",
    "    means = []\n",
    "    stds = []\n",
    "    for r in res:\n",
    "        means_m = []\n",
    "        for i in range(1,11):\n",
    "            fr = model[r][i].values\n",
    "            frs = [float(x)*1000 for x in fr]\n",
    "            me = np.mean(frs)\n",
    "            means_m.append(me)\n",
    "        m, s =  np.mean(means_m), np.std(means_m)\n",
    "        means.append(m)\n",
    "        stds.append(s)\n",
    "    return means, stds\n"
   ]
  },
  {
   "cell_type": "code",
   "execution_count": 17,
   "id": "58c9bf55",
   "metadata": {},
   "outputs": [],
   "source": [
    "def get_mean_std_cont(model):\n",
    "    means = []\n",
    "    for i in range(1,11):\n",
    "        fr = model[i].values\n",
    "        frs = [float(x)*1000 for x in fr]\n",
    "        m = np.mean(frs)\n",
    "        means.append(m)\n",
    "    return np.mean(means), np.std(means)\n",
    "        "
   ]
  },
  {
   "cell_type": "code",
   "execution_count": 18,
   "id": "8ba3a28d",
   "metadata": {},
   "outputs": [],
   "source": [
    "y1, e1 = get_mean_std(df.loc['droop','FR'])\n",
    "y2, e2 = get_mean_std(df.loc['equal','FR'])\n",
    "m_c, s_c = get_mean_std_cont(df.loc['continuous','FR'][8])"
   ]
  },
  {
   "cell_type": "code",
   "execution_count": 19,
   "id": "b1205add",
   "metadata": {
    "scrolled": false
   },
   "outputs": [
    {
     "data": {
      "image/png": "[encoded data removed]",
      "text/plain": [
       "<Figure size 226.772x198.425 with 1 Axes>"
      ]
     },
     "metadata": {
      "needs_background": "light"
     },
     "output_type": "display_data"
    }
   ],
   "source": [
    "x = [4,8,12,16,20,24,28,32]\n",
    "l=3 # linewidth\n",
    "\n",
    "plt.errorbar(x, y1, e1, linestyle='-', marker='^',label='droop',color=colors[0],alpha=0.5,linewidth=l)\n",
    "eq = plt.errorbar(x, y2, e2, linestyle='dashed', marker='^',label='equal',color=colors[1],alpha=0.5,linewidth=l)\n",
    "eq[-1][0].set_linestyle('--')\n",
    "plt.axhline(y=m_c,label='continuous',color=colors[3],linewidth=l)\n",
    "x2 = [3,4,8,12,16,20,24,28,32,33]\n",
    "plt.fill_between(x2,y1=m_c-s_c,y2=m_c+s_c,alpha=0.2,color=colors[3])\n",
    "#plt.legend()\n",
    "plt.xticks(x,('1/2','1/4','1/8','1/16','1/32','1/64','1/128','1/256'))\n",
    "plt.xlabel('Resolution',fontsize=6)\n",
    "plt.ylabel('FR (spikes/s)',fontsize=6, labelpad=1)\n",
    "plt.xticks(fontsize=7)\n",
    "plt.yticks(fontsize=7)\n",
    "#textstr = 'b)'\n",
    "#plt.text(-0.03, 0.85, textstr, fontsize=8, transform=plt.gcf().transFigure,weight='bold');\n",
    "plt.savefig(r'{}\\mean_FR_brunel.pdf'.format(fig_path),bbox_inches='tight')\n",
    "# only for sake of analysis, not including in thesis figure:\n",
    "#plt.grid()\n",
    "plt.show();"
   ]
  },
  {
   "cell_type": "markdown",
   "id": "676b860b",
   "metadata": {},
   "source": [
    "Large J"
   ]
  },
  {
   "cell_type": "code",
   "execution_count": 12,
   "id": "9577ce4c",
   "metadata": {},
   "outputs": [],
   "source": [
    "largeJ_df = pd.read_pickle('C:\\\\Users\\\\Nida\\\\Documents\\\\NMBU\\\\master\\\\master_thesis_code\\\\structured_df_large_J.pkl')"
   ]
  },
  {
   "cell_type": "code",
   "execution_count": 30,
   "id": "d0c05674",
   "metadata": {},
   "outputs": [],
   "source": [
    "y1, e1 = get_mean_std(largeJ_df.loc['droop','FR'])\n",
    "y2, e2 = get_mean_std(largeJ_df.loc['equal','FR'])\n",
    "m_c, s_c = get_mean_std_cont(largeJ_df.loc['continuous','FR'][8])"
   ]
  },
  {
   "cell_type": "code",
   "execution_count": 31,
   "id": "4cfe096c",
   "metadata": {},
   "outputs": [
    {
     "data": {
      "image/png": "[encoded data removed]",
      "text/plain": [
       "<Figure size 1008x720 with 1 Axes>"
      ]
     },
     "metadata": {
      "needs_background": "light"
     },
     "output_type": "display_data"
    }
   ],
   "source": [
    "x = [4,8,12,16,20,24,28,32]\n",
    "l=3 # linewidth\n",
    "\n",
    "plt.errorbar(x, y1, e1, linestyle='-', marker='^',label='droop',color=colors[0],alpha=0.5,linewidth=l)\n",
    "eq = plt.errorbar(x, y2, e2, linestyle='dashed', marker='^',label='equal',color=colors[1],alpha=0.5,linewidth=l)\n",
    "eq[-1][0].set_linestyle('--')\n",
    "plt.axhline(y=m_c,label='continuous',color=colors[3],linewidth=l)\n",
    "x2 = [3,4,8,12,16,20,24,28,32,33]\n",
    "plt.fill_between(x2,y1=m_c-s_c,y2=m_c+s_c,alpha=0.2,color=colors[3])\n",
    "#plt.legend()\n",
    "plt.xticks(x,('1/2','1/4','1/8','1/16','1/32','1/64','1/128','1/256'))\n",
    "plt.xlabel('Resolution',fontsize=6)\n",
    "plt.ylabel('FR (spikes/s)',fontsize=6, labelpad=1)\n",
    "plt.xticks(fontsize=7)\n",
    "plt.yticks(fontsize=7)\n",
    "textstr = 'b)'\n",
    "plt.text(-0.03, 0.85, textstr, fontsize=8, transform=plt.gcf().transFigure);\n",
    "#plt.savefig(r'{}\\mean_FR_brunel.pdf'.format(fig_path),bbox_inches='tight')\n",
    "# only for sake of analysis, not including in thesis figure:\n",
    "#plt.grid()\n",
    "plt.show();"
   ]
  },
  {
   "cell_type": "markdown",
   "id": "2de15b81",
   "metadata": {},
   "source": [
    "# Mean CV as a function of resolution with std errorbar"
   ]
  },
  {
   "cell_type": "code",
   "execution_count": 20,
   "id": "f6c23bcb",
   "metadata": {},
   "outputs": [],
   "source": [
    "def get_mean_std(model):\n",
    "    \"\"\"\n",
    "    Retrieve the mean of each cv distribution. The mean is calculated for each of the 10 simulations in each case then \n",
    "    the mean of these means are taken, and the std of these 10 means are taken. Store in a list which will be returned.\n",
    "    \"\"\"\n",
    "    res = [2,4,8,16,32,64,128,256]\n",
    "    means = []\n",
    "    stds = []\n",
    "    for r in res:\n",
    "        means_m = []\n",
    "        for i in range(1,11):\n",
    "            me = model[r][i].mean()\n",
    "            means_m.append(me)\n",
    "        m, s =  np.mean(means_m), np.std(means_m)\n",
    "        means.append(m)\n",
    "        stds.append(s)\n",
    "    return means, stds\n"
   ]
  },
  {
   "cell_type": "code",
   "execution_count": 21,
   "id": "2bde669e",
   "metadata": {},
   "outputs": [],
   "source": [
    "def get_mean_std_cont(model):\n",
    "    means = []\n",
    "    for i in range(1,11):\n",
    "        m = model[i].mean()\n",
    "        means.append(m)\n",
    "    return np.mean(means), np.std(means)\n",
    "        "
   ]
  },
  {
   "cell_type": "code",
   "execution_count": 22,
   "id": "f62f3e94",
   "metadata": {},
   "outputs": [],
   "source": [
    "means, stds = get_mean_std(df.loc['droop','CV'])\n",
    "means_e, stds_e = get_mean_std(df.loc['equal','CV'])\n",
    "mean_c, std_c = get_mean_std_cont(df.loc['continuous','CV'][8])"
   ]
  },
  {
   "cell_type": "code",
   "execution_count": 23,
   "id": "fe6215bb",
   "metadata": {},
   "outputs": [
    {
     "data": {
      "image/png": "[encoded data removed]",
      "text/plain": [
       "<Figure size 226.772x198.425 with 1 Axes>"
      ]
     },
     "metadata": {
      "needs_background": "light"
     },
     "output_type": "display_data"
    }
   ],
   "source": [
    "x = [4,8,12,16,20,24,28,32]\n",
    "l=3 # linewidth\n",
    "plt.errorbar(x, means, stds, linestyle='-', marker='^',label='droop',color=colors[0],alpha=0.5,linewidth=l)\n",
    "eq=plt.errorbar(x, means_e, stds_e, linestyle='dashed', marker='^',label='equal',color=colors[1],alpha=0.5,linewidth=l)\n",
    "eq[-1][0].set_linestyle('--') # get dashed errorbar for equal model\n",
    "plt.axhline(y=mean_c,label='continuous',color=colors[3],linewidth=l)\n",
    "x2 = [3,4,8,12,16,20,24,28,32,33]\n",
    "plt.fill_between(x2,y1=mean_c-std_c,y2=mean_c+std_c,alpha=0.2,color=colors[3])\n",
    "#plt.legend()\n",
    "plt.xticks(x,('1/2','1/4','1/8','1/16','1/32','1/64','1/128','1/256'))\n",
    "plt.xlabel('Resolution',fontsize=6)\n",
    "plt.ylabel('CV',fontsize=6, labelpad=1);\n",
    "plt.xticks(fontsize=7)\n",
    "plt.yticks(fontsize=7)\n",
    "#textstr = 'd)'\n",
    "#plt.text(-0.03, 0.85, textstr, fontsize=8, transform=plt.gcf().transFigure,weight='bold');\n",
    "plt.savefig(r'{}\\mean_CV_brunel.pdf'.format(fig_path),bbox_inches='tight')\n",
    "\n",
    "# only for the sake of analysis, not to be included in thesis figure:\n",
    "#plt.grid()\n",
    "#plt.show();"
   ]
  },
  {
   "cell_type": "markdown",
   "id": "a263f1cf",
   "metadata": {},
   "source": [
    "Large J"
   ]
  },
  {
   "cell_type": "code",
   "execution_count": 36,
   "id": "79ba5a3f",
   "metadata": {},
   "outputs": [],
   "source": [
    "means, stds = get_mean_std(largeJ_df.loc['droop','CV'])\n",
    "means_e, stds_e = get_mean_std(largeJ_df.loc['equal','CV'])\n",
    "mean_c, std_c = get_mean_std_cont(largeJ_df.loc['continuous','CV'][8])"
   ]
  },
  {
   "cell_type": "code",
   "execution_count": 37,
   "id": "999ba04e",
   "metadata": {},
   "outputs": [
    {
     "data": {
      "image/png": "[encoded data removed]",
      "text/plain": [
       "<Figure size 1008x720 with 1 Axes>"
      ]
     },
     "metadata": {
      "needs_background": "light"
     },
     "output_type": "display_data"
    }
   ],
   "source": [
    "x = [4,8,12,16,20,24,28,32]\n",
    "l=3 # linewidth\n",
    "plt.errorbar(x, means, stds, linestyle='-', marker='^',label='droop',color=colors[0],alpha=0.5,linewidth=l)\n",
    "eq=plt.errorbar(x, means_e, stds_e, linestyle='dashed', marker='^',label='equal',color=colors[1],alpha=0.5,linewidth=l)\n",
    "eq[-1][0].set_linestyle('--') # get dashed errorbar for equal model\n",
    "plt.axhline(y=mean_c,label='continuous',color=colors[3],linewidth=l)\n",
    "x2 = [3,4,8,12,16,20,24,28,32,33]\n",
    "plt.fill_between(x2,y1=mean_c-std_c,y2=mean_c+std_c,alpha=0.2,color=colors[3])\n",
    "#plt.legend()\n",
    "plt.xticks(x,('1/2','1/4','1/8','1/16','1/32','1/64','1/128','1/256'))\n",
    "plt.xlabel('Resolution',fontsize=6)\n",
    "plt.ylabel('CV',fontsize=6, labelpad=1);\n",
    "plt.xticks(fontsize=7)\n",
    "plt.yticks(fontsize=7)\n",
    "textstr = 'd)'\n",
    "plt.text(-0.03, 0.85, textstr, fontsize=8, transform=plt.gcf().transFigure);\n",
    "#plt.savefig(r'{}\\mean_CV_brunel.pdf'.format(fig_path),bbox_inches='tight')\n",
    "\n",
    "# only for the sake of analysis, not to be included in thesis figure:\n",
    "#plt.grid()\n",
    "#plt.show();"
   ]
  },
  {
   "cell_type": "markdown",
   "id": "08271326",
   "metadata": {},
   "source": [
    "# Mean CC as a funciton of resolution with std error bars"
   ]
  },
  {
   "cell_type": "code",
   "execution_count": 24,
   "id": "ccb162fb",
   "metadata": {},
   "outputs": [],
   "source": [
    "means, stds = get_mean_std(df.loc['droop','CC_5'])\n",
    "means_e, stds_e = get_mean_std(df.loc['equal','CC_5'])\n",
    "mean_c, std_c = get_mean_std_cont(df.loc['continuous','CC_5'][8])"
   ]
  },
  {
   "cell_type": "code",
   "execution_count": 12,
   "id": "d5f6f94b",
   "metadata": {},
   "outputs": [
    {
     "data": {
      "text/plain": [
       "0.0029041177382657106"
      ]
     },
     "execution_count": 12,
     "metadata": {},
     "output_type": "execute_result"
    }
   ],
   "source": [
    "np.mean(stds)"
   ]
  },
  {
   "cell_type": "code",
   "execution_count": 25,
   "id": "2faa19be",
   "metadata": {
    "scrolled": false
   },
   "outputs": [
    {
     "data": {
      "image/png": "[encoded data removed]",
      "text/plain": [
       "<Figure size 226.772x198.425 with 1 Axes>"
      ]
     },
     "metadata": {
      "needs_background": "light"
     },
     "output_type": "display_data"
    }
   ],
   "source": [
    "x = [4,8,12,16,20,24,28,32]\n",
    "l=3\n",
    "plt.errorbar(x, means, stds, linestyle='-', marker='^',label='droop',color=colors[0],alpha=0.5,linewidth=l)\n",
    "eq=plt.errorbar(x, means_e, stds_e, linestyle='dashed', marker='^',label='equal',color=colors[1],alpha=0.5,linewidth=l)\n",
    "eq[-1][0].set_linestyle('--')\n",
    "plt.axhline(y=mean_c,label='continuous',color=colors[3],linewidth=l)\n",
    "x2 = [3,4,8,12,16,20,24,28,32,33]\n",
    "plt.fill_between(x2,y1=mean_c-std_c,y2=mean_c+std_c,alpha=0.2,color=colors[3])\n",
    "#plt.legend()\n",
    "plt.xticks(x,('1/2','1/4','1/8','1/16','1/32','1/64','1/128','1/256'))\n",
    "plt.xlabel('Resolution',fontsize=6)\n",
    "plt.ylabel('CC',fontsize=6, labelpad=1)\n",
    "\n",
    "plt.xticks(fontsize=7)\n",
    "plt.yticks(fontsize=7)\n",
    "#textstr = 'f)'\n",
    "#plt.text(-0.03, 0.85, textstr, fontsize=8, transform=plt.gcf().transFigure,weight='bold');\n",
    "plt.savefig(r'{}\\mean_CC_brunel.pdf'.format(fig_path),bbox_inches='tight')\n",
    "# only for analysis, do not include in thesis figures:\n",
    "#plt.grid()\n",
    "plt.show();"
   ]
  },
  {
   "cell_type": "markdown",
   "id": "c9b76e4e",
   "metadata": {},
   "source": [
    "Large J"
   ]
  },
  {
   "cell_type": "code",
   "execution_count": 23,
   "id": "e5eee4f9",
   "metadata": {},
   "outputs": [],
   "source": [
    "means, stds = get_mean_std(largeJ_df.loc['droop','CC_5'])\n",
    "means_e, stds_e = get_mean_std(largeJ_df.loc['equal','CC_5'])\n",
    "mean_c, std_c = get_mean_std_cont(largeJ_df.loc['continuous','CC_5'][8])"
   ]
  },
  {
   "cell_type": "code",
   "execution_count": 24,
   "id": "827e1826",
   "metadata": {},
   "outputs": [
    {
     "data": {
      "image/png": "[encoded data removed]",
      "text/plain": [
       "<Figure size 226.772x198.425 with 1 Axes>"
      ]
     },
     "metadata": {
      "needs_background": "light"
     },
     "output_type": "display_data"
    }
   ],
   "source": [
    "x = [4,8,12,16,20,24,28,32]\n",
    "l=3\n",
    "plt.errorbar(x, means, stds, linestyle='-', marker='^',label='droop',color=colors[0],alpha=0.5,linewidth=l)\n",
    "eq=plt.errorbar(x, means_e, stds_e, linestyle='dashed', marker='^',label='equal',color=colors[1],alpha=0.5,linewidth=l)\n",
    "eq[-1][0].set_linestyle('--')\n",
    "plt.axhline(y=mean_c,label='continuous',color=colors[3],linewidth=l)\n",
    "x2 = [3,4,8,12,16,20,24,28,32,33]\n",
    "plt.fill_between(x2,y1=mean_c-std_c,y2=mean_c+std_c,alpha=0.2,color=colors[3])\n",
    "#plt.legend()\n",
    "plt.xticks(x,('1/2','1/4','1/8','1/16','1/32','1/64','1/128','1/256'))\n",
    "plt.xlabel('Resolution',fontsize=6)\n",
    "plt.ylabel('CC',fontsize=6, labelpad=1)\n",
    "\n",
    "plt.xticks(fontsize=7)\n",
    "plt.yticks(fontsize=7)\n",
    "textstr = 'f)'\n",
    "plt.text(-0.03, 0.85, textstr, fontsize=8, transform=plt.gcf().transFigure);\n",
    "#plt.savefig(r'{}\\mean_CC_brunel.pdf'.format(fig_path),bbox_inches='tight')\n",
    "# only for analysis, do not include in thesis figures:\n",
    "#plt.grid()\n",
    "plt.show();"
   ]
  },
  {
   "cell_type": "markdown",
   "id": "aa26eae3",
   "metadata": {},
   "source": [
    "# Semi-cont Brunel vs. cont"
   ]
  },
  {
   "cell_type": "code",
   "execution_count": 5,
   "id": "91ca8254",
   "metadata": {},
   "outputs": [],
   "source": [
    "p = 'C:\\\\Users\\\\Nida\\\\Documents\\\\NMBU\\\\master\\\\organized_spike_data\\\\semi_cont_brunel_df.pkl'\n",
    "semi_df = pd.read_pickle(p)"
   ]
  },
  {
   "cell_type": "code",
   "execution_count": 99,
   "id": "ad545233",
   "metadata": {},
   "outputs": [
    {
     "data": {
      "text/html": [
       "<div>\n",
       "<style scoped>\n",
       "    .dataframe tbody tr th:only-of-type {\n",
       "        vertical-align: middle;\n",
       "    }\n",
       "\n",
       "    .dataframe tbody tr th {\n",
       "        vertical-align: top;\n",
       "    }\n",
       "\n",
       "    .dataframe thead th {\n",
       "        text-align: right;\n",
       "    }\n",
       "</style>\n",
       "<table border=\"1\" class=\"dataframe\">\n",
       "  <thead>\n",
       "    <tr style=\"text-align: right;\">\n",
       "      <th></th>\n",
       "      <th></th>\n",
       "      <th></th>\n",
       "      <th>CV</th>\n",
       "      <th>FR</th>\n",
       "      <th>CC_5</th>\n",
       "      <th>CC_10</th>\n",
       "      <th>CC_20</th>\n",
       "      <th>CC_50</th>\n",
       "    </tr>\n",
       "  </thead>\n",
       "  <tbody>\n",
       "    <tr>\n",
       "      <th rowspan=\"5\" valign=\"top\">2</th>\n",
       "      <th rowspan=\"5\" valign=\"top\">1</th>\n",
       "      <th>0</th>\n",
       "      <td>0.176262</td>\n",
       "      <td>0.0325 1/ms</td>\n",
       "      <td>0.022812</td>\n",
       "      <td>0.038135</td>\n",
       "      <td>0.066177</td>\n",
       "      <td>-0.026174</td>\n",
       "    </tr>\n",
       "    <tr>\n",
       "      <th>1</th>\n",
       "      <td>0.177784</td>\n",
       "      <td>0.0324 1/ms</td>\n",
       "      <td>-0.004292</td>\n",
       "      <td>-0.019779</td>\n",
       "      <td>-0.005685</td>\n",
       "      <td>0.065774</td>\n",
       "    </tr>\n",
       "    <tr>\n",
       "      <th>2</th>\n",
       "      <td>0.182037</td>\n",
       "      <td>0.0324 1/ms</td>\n",
       "      <td>-0.032714</td>\n",
       "      <td>-0.085546</td>\n",
       "      <td>-0.099031</td>\n",
       "      <td>-0.026174</td>\n",
       "    </tr>\n",
       "    <tr>\n",
       "      <th>3</th>\n",
       "      <td>0.179802</td>\n",
       "      <td>0.0321 1/ms</td>\n",
       "      <td>0.026304</td>\n",
       "      <td>-0.002609</td>\n",
       "      <td>-0.018727</td>\n",
       "      <td>-0.036038</td>\n",
       "    </tr>\n",
       "    <tr>\n",
       "      <th>4</th>\n",
       "      <td>0.181406</td>\n",
       "      <td>0.0325 1/ms</td>\n",
       "      <td>-0.049676</td>\n",
       "      <td>-0.072938</td>\n",
       "      <td>-0.059902</td>\n",
       "      <td>0.002498</td>\n",
       "    </tr>\n",
       "    <tr>\n",
       "      <th>...</th>\n",
       "      <th>...</th>\n",
       "      <th>...</th>\n",
       "      <td>...</td>\n",
       "      <td>...</td>\n",
       "      <td>...</td>\n",
       "      <td>...</td>\n",
       "      <td>...</td>\n",
       "      <td>...</td>\n",
       "    </tr>\n",
       "    <tr>\n",
       "      <th rowspan=\"5\" valign=\"top\">256</th>\n",
       "      <th rowspan=\"5\" valign=\"top\">10</th>\n",
       "      <th>9995</th>\n",
       "      <td>0.16278</td>\n",
       "      <td>0.0323 1/ms</td>\n",
       "      <td>0.010483</td>\n",
       "      <td>-0.019193</td>\n",
       "      <td>-0.039419</td>\n",
       "      <td>-0.024806</td>\n",
       "    </tr>\n",
       "    <tr>\n",
       "      <th>9996</th>\n",
       "      <td>0.188127</td>\n",
       "      <td>0.0319 1/ms</td>\n",
       "      <td>0.015987</td>\n",
       "      <td>0.017055</td>\n",
       "      <td>0.08348</td>\n",
       "      <td>0.099277</td>\n",
       "    </tr>\n",
       "    <tr>\n",
       "      <th>9997</th>\n",
       "      <td>0.195896</td>\n",
       "      <td>0.0322 1/ms</td>\n",
       "      <td>0.031881</td>\n",
       "      <td>0.015545</td>\n",
       "      <td>0.007319</td>\n",
       "      <td>0.061448</td>\n",
       "    </tr>\n",
       "    <tr>\n",
       "      <th>9998</th>\n",
       "      <td>0.174652</td>\n",
       "      <td>0.0323 1/ms</td>\n",
       "      <td>0.001987</td>\n",
       "      <td>0.014029</td>\n",
       "      <td>0.019055</td>\n",
       "      <td>0.050453</td>\n",
       "    </tr>\n",
       "    <tr>\n",
       "      <th>9999</th>\n",
       "      <td>0.172298</td>\n",
       "      <td>0.0316 1/ms</td>\n",
       "      <td>-0.015566</td>\n",
       "      <td>-0.047835</td>\n",
       "      <td>-0.072414</td>\n",
       "      <td>-0.057284</td>\n",
       "    </tr>\n",
       "  </tbody>\n",
       "</table>\n",
       "<p>800000 rows × 6 columns</p>\n",
       "</div>"
      ],
      "text/plain": [
       "                   CV           FR      CC_5     CC_10     CC_20     CC_50\n",
       "2   1  0     0.176262  0.0325 1/ms  0.022812  0.038135  0.066177 -0.026174\n",
       "       1     0.177784  0.0324 1/ms -0.004292 -0.019779 -0.005685  0.065774\n",
       "       2     0.182037  0.0324 1/ms -0.032714 -0.085546 -0.099031 -0.026174\n",
       "       3     0.179802  0.0321 1/ms  0.026304 -0.002609 -0.018727 -0.036038\n",
       "       4     0.181406  0.0325 1/ms -0.049676 -0.072938 -0.059902  0.002498\n",
       "...               ...          ...       ...       ...       ...       ...\n",
       "256 10 9995   0.16278  0.0323 1/ms  0.010483 -0.019193 -0.039419 -0.024806\n",
       "       9996  0.188127  0.0319 1/ms  0.015987  0.017055   0.08348  0.099277\n",
       "       9997  0.195896  0.0322 1/ms  0.031881  0.015545  0.007319  0.061448\n",
       "       9998  0.174652  0.0323 1/ms  0.001987  0.014029  0.019055  0.050453\n",
       "       9999  0.172298  0.0316 1/ms -0.015566 -0.047835 -0.072414 -0.057284\n",
       "\n",
       "[800000 rows x 6 columns]"
      ]
     },
     "execution_count": 99,
     "metadata": {},
     "output_type": "execute_result"
    }
   ],
   "source": [
    "semi_df"
   ]
  },
  {
   "cell_type": "markdown",
   "id": "2c44349c",
   "metadata": {},
   "source": [
    "## FR"
   ]
  },
  {
   "cell_type": "code",
   "execution_count": 6,
   "id": "52176d6f",
   "metadata": {},
   "outputs": [],
   "source": [
    "def get_mean_std(model):\n",
    "    \"\"\"\n",
    "    Retrieve the mean of each cv distribution. The mean is calculated for each of the 10 simulations in each case then \n",
    "    the mean of these means are taken, and the std of these 10 means are taken. Store in a list which will be returned.\n",
    "    \"\"\"\n",
    "    res = [2,4,8,16,32,64,128,256]\n",
    "    means = []\n",
    "    stds = []\n",
    "    for r in res:\n",
    "        means_m = []\n",
    "        for i in range(1,11):\n",
    "            fr = model[r][i].values\n",
    "            frs = [float(x)*1000 for x in fr]\n",
    "            me = np.mean(frs)\n",
    "            means_m.append(me)\n",
    "        m, s =  np.mean(means_m), np.std(means_m)\n",
    "        means.append(m)\n",
    "        stds.append(s)\n",
    "    return means, stds\n"
   ]
  },
  {
   "cell_type": "code",
   "execution_count": 7,
   "id": "d98dbc12",
   "metadata": {},
   "outputs": [],
   "source": [
    "def get_mean_std_cont(model):\n",
    "    means = []\n",
    "    for i in range(1,11):\n",
    "        fr = model[i].values\n",
    "        frs = [float(x)*1000 for x in fr]\n",
    "        m = np.mean(frs)\n",
    "        means.append(m)\n",
    "    return np.mean(means), np.std(means)\n",
    "        "
   ]
  },
  {
   "cell_type": "code",
   "execution_count": 8,
   "id": "7c667458",
   "metadata": {},
   "outputs": [],
   "source": [
    "y, e = get_mean_std(semi_df['FR'])\n",
    "m_c, s_c = get_mean_std_cont(df.loc['continuous','FR'][8])"
   ]
  },
  {
   "cell_type": "code",
   "execution_count": 13,
   "id": "4f9758fe",
   "metadata": {},
   "outputs": [
    {
     "data": {
      "image/png": "[encoded data removed]",
      "text/plain": [
       "<Figure size 226.772x198.425 with 1 Axes>"
      ]
     },
     "metadata": {
      "needs_background": "light"
     },
     "output_type": "display_data"
    }
   ],
   "source": [
    "x = [4,8,12,16,20,24,28,32]\n",
    "l=3 # linewidth\n",
    "\n",
    "plt.errorbar(x, y, e, linestyle='-', marker='^',label='semi cont',color=colors[0],alpha=0.5,linewidth=l)\n",
    "plt.axhline(y=m_c,label='continuous',color=colors[3],linewidth=l)\n",
    "x2 = [3,4,8,12,16,20,24,28,32,33]\n",
    "plt.fill_between(x2,y1=m_c-s_c,y2=m_c+s_c,alpha=0.2,color=colors[3])\n",
    "#plt.legend()\n",
    "plt.xticks(x,('1/2','1/4','1/8','1/16','1/32','1/64','1/128','1/256'))\n",
    "plt.xlabel('Resolution',fontsize=6)\n",
    "plt.ylabel('FR (spikes/s)',fontsize=6, labelpad=1);\n",
    "plt.xticks(fontsize=7)\n",
    "plt.yticks(fontsize=7);\n",
    "textstr = 'b)'\n",
    "plt.text(-0.04, 0.85, textstr, fontsize=8, transform=plt.gcf().transFigure,weight='bold');\n",
    "plt.savefig(r'{}\\semi_cont_fr_brunel.pdf'.format(fig_path),bbox_inches='tight')\n",
    "# only for analysis, not to be included in thesis figure:\n",
    "#plt.grid()"
   ]
  },
  {
   "cell_type": "markdown",
   "id": "7f2cd55e",
   "metadata": {},
   "source": [
    "## CV"
   ]
  },
  {
   "cell_type": "code",
   "execution_count": 14,
   "id": "5cb6559d",
   "metadata": {},
   "outputs": [],
   "source": [
    "def get_mean_std(model):\n",
    "    \"\"\"\n",
    "    Retrieve the mean of each cv distribution. The mean is calculated for each of the 10 simulations in each case then \n",
    "    the mean of these means are taken, and the std of these 10 means are taken. Store in a list which will be returned.\n",
    "    \"\"\"\n",
    "    res = [2,4,8,16,32,64,128,256]\n",
    "    means = []\n",
    "    stds = []\n",
    "    for r in res:\n",
    "        means_m = []\n",
    "        for i in range(1,11):\n",
    "            me = model[r][i].mean()\n",
    "            means_m.append(me)\n",
    "        m, s =  np.mean(means_m), np.std(means_m)\n",
    "        means.append(m)\n",
    "        stds.append(s)\n",
    "    return means, stds\n"
   ]
  },
  {
   "cell_type": "code",
   "execution_count": 15,
   "id": "8ee2ba65",
   "metadata": {},
   "outputs": [],
   "source": [
    "def get_mean_std_cont(model):\n",
    "    means = []\n",
    "    for i in range(1,11):\n",
    "        m = model[i].mean()\n",
    "        means.append(m)\n",
    "    return np.mean(means), np.std(means)\n",
    "        "
   ]
  },
  {
   "cell_type": "code",
   "execution_count": 16,
   "id": "dcb74cae",
   "metadata": {},
   "outputs": [],
   "source": [
    "means, stds = get_mean_std(semi_df['CV'])\n",
    "mean_c, std_c = get_mean_std_cont(df.loc['continuous','CV'][8])"
   ]
  },
  {
   "cell_type": "code",
   "execution_count": 17,
   "id": "482e3c74",
   "metadata": {},
   "outputs": [
    {
     "data": {
      "image/png": "[encoded data removed]",
      "text/plain": [
       "<Figure size 226.772x198.425 with 1 Axes>"
      ]
     },
     "metadata": {
      "needs_background": "light"
     },
     "output_type": "display_data"
    }
   ],
   "source": [
    "x = [4,8,12,16,20,24,28,32]\n",
    "l=3 # linewidth\n",
    "plt.errorbar(x, means, stds, linestyle='-', marker='^',label='semi cont',color=colors[0],alpha=0.5,linewidth=l)\n",
    "plt.axhline(y=mean_c,label='continuous',color=colors[3],linewidth=l)\n",
    "x2 = [3,4,8,12,16,20,24,28,32,33]\n",
    "plt.fill_between(x2,y1=mean_c-std_c,y2=mean_c+std_c,alpha=0.2,color=colors[3])\n",
    "#plt.legend()\n",
    "plt.xticks(x,('1/2','1/4','1/8','1/16','1/32','1/64','1/128','1/256'))\n",
    "plt.xlabel('Resolution',fontsize=6)\n",
    "plt.ylabel('CV',fontsize=6, labelpad=1)\n",
    "plt.xticks(fontsize=7)\n",
    "plt.yticks(fontsize=7)\n",
    "textstr = 'd)'\n",
    "plt.text(-0.04, 0.85, textstr, fontsize=8, transform=plt.gcf().transFigure,weight='bold');\n",
    "plt.savefig(r'{}\\semi_cont_cv_brunel.pdf'.format(fig_path),bbox_inches='tight')\n",
    "# only for analysis, do not include in thesis figure:\n",
    "#plt.grid()\n",
    "plt.show();"
   ]
  },
  {
   "cell_type": "markdown",
   "id": "5fb802d8",
   "metadata": {},
   "source": [
    "## CC (5)"
   ]
  },
  {
   "cell_type": "code",
   "execution_count": 18,
   "id": "714ac984",
   "metadata": {},
   "outputs": [],
   "source": [
    "means, stds = get_mean_std(semi_df['CC_5'])\n",
    "\n",
    "mean_c, std_c = get_mean_std_cont(df.loc['continuous','CC_5'][8])"
   ]
  },
  {
   "cell_type": "code",
   "execution_count": 19,
   "id": "284af124",
   "metadata": {},
   "outputs": [
    {
     "data": {
      "image/png": "[encoded data removed]",
      "text/plain": [
       "<Figure size 226.772x198.425 with 1 Axes>"
      ]
     },
     "metadata": {
      "needs_background": "light"
     },
     "output_type": "display_data"
    }
   ],
   "source": [
    "x = [4,8,12,16,20,24,28,32]\n",
    "l=3 # linewidth\n",
    "plt.errorbar(x, means, stds, linestyle='-', marker='^',label='semi cont',color=colors[0],alpha=0.5,linewidth=l)\n",
    "plt.axhline(y=mean_c,label='continuous',color=colors[3],linewidth=l)\n",
    "x2 = [3,4,8,12,16,20,24,28,32,33]\n",
    "plt.fill_between(x2,y1=mean_c-std_c,y2=mean_c+std_c,alpha=0.2,color=colors[3])\n",
    "#plt.legend()\n",
    "plt.xticks(x,('1/2','1/4','1/8','1/16','1/32','1/64','1/128','1/256'))\n",
    "plt.xlabel('Resolution',fontsize=6)\n",
    "plt.ylabel('CC',fontsize=6, labelpad=1)\n",
    "plt.xticks(fontsize=7)\n",
    "plt.yticks(fontsize=7)\n",
    "textstr = 'f)'\n",
    "plt.text(-0.04, 0.85, textstr, fontsize=8, transform=plt.gcf().transFigure,weight='bold');\n",
    "plt.savefig(r'{}\\semi_cont_cc_brunel.pdf'.format(fig_path),bbox_inches='tight')\n",
    "# only for analysis, do not include in thesis figures:\n",
    "#plt.grid()\n",
    "plt.show();"
   ]
  },
  {
   "cell_type": "code",
   "execution_count": 52,
   "id": "8abad6b5",
   "metadata": {},
   "outputs": [],
   "source": [
    "m = 9\n",
    "col = plt.cm.viridis(np.linspace(0, 1, m)) #colorblind friendly"
   ]
  },
  {
   "cell_type": "markdown",
   "id": "2ea0b277",
   "metadata": {},
   "source": [
    "## Ecdf plots FR"
   ]
  },
  {
   "cell_type": "code",
   "execution_count": 53,
   "id": "1da507fb",
   "metadata": {},
   "outputs": [],
   "source": [
    "def get_mean_list(model):\n",
    "    fr_list = []\n",
    "    for i in range(1,11):\n",
    "        frs = model[i].values\n",
    "        frs = [float(x)*1000 for x in frs]\n",
    "        fr_list.append(frs)\n",
    "    mean_list = np.mean(fr_list,axis=0)\n",
    "    return mean_list"
   ]
  },
  {
   "cell_type": "code",
   "execution_count": 54,
   "id": "62eefb11",
   "metadata": {},
   "outputs": [],
   "source": [
    "p01=get_mean_list(semi_df['FR'][2])\n",
    "p02=get_mean_list(semi_df['FR'][4])\n",
    "p03=get_mean_list(semi_df['FR'][8])\n",
    "p04=get_mean_list(semi_df['FR'][16])\n",
    "p05=get_mean_list(semi_df['FR'][32])\n",
    "p06=get_mean_list(semi_df['FR'][64])\n",
    "p07=get_mean_list(semi_df['FR'][128])\n",
    "p08=get_mean_list(semi_df['FR'][256])\n",
    "\n",
    "p09=get_mean_list(df.loc['continuous','FR'][8])\n"
   ]
  },
  {
   "cell_type": "code",
   "execution_count": 55,
   "id": "d63019bf",
   "metadata": {},
   "outputs": [
    {
     "data": {
      "image/png": "[encoded data removed]",
      "text/plain": [
       "<Figure size 226.772x198.425 with 1 Axes>"
      ]
     },
     "metadata": {
      "needs_background": "light"
     },
     "output_type": "display_data"
    }
   ],
   "source": [
    "# droop models\n",
    "plt.plot(np.sort(p01), np.linspace(0, 1, len(p01), endpoint=False),color=col[0],label='1/2')\n",
    "plt.plot(np.sort(p02), np.linspace(0, 1, len(p02), endpoint=False),color=col[1],label='1/4')\n",
    "plt.plot(np.sort(p03), np.linspace(0, 1, len(p03), endpoint=False),color=col[2],label='1/8')\n",
    "plt.plot(np.sort(p04), np.linspace(0, 1, len(p04), endpoint=False),color=col[3],label='1/16')\n",
    "plt.plot(np.sort(p05), np.linspace(0, 1, len(p05), endpoint=False),color=col[4],label='1/32')\n",
    "plt.plot(np.sort(p06), np.linspace(0, 1, len(p06), endpoint=False),color=col[5],label='1/64')\n",
    "plt.plot(np.sort(p07), np.linspace(0, 1, len(p07), endpoint=False),color=col[6],label='1/128')#medium green\n",
    "plt.plot(np.sort(p08), np.linspace(0, 1, len(p08), endpoint=False),color=col[7],label='1/256') #light green\n",
    "\n",
    "# continuous model\n",
    "plt.plot(np.sort(p09), np.linspace(0, 1, len(p09), endpoint=False),color=col[8],label='continuous') # yellow\n",
    "plt.xlabel('FR (spikes/s)',fontsize=6);\n",
    "plt.ylabel('Proportion',fontsize=6);\n",
    "plt.xticks(fontsize=7)\n",
    "plt.yticks(fontsize=7)\n",
    "plt.legend(prop={'size': 4})\n",
    "textstr = 'a)'\n",
    "plt.text(-0.025, 0.85, textstr, fontsize=8, transform=plt.gcf().transFigure,weight='bold');\n",
    "plt.savefig(r'{}\\semi_cont_fr_brunel_ecdf.pdf'.format(fig_path),bbox_inches='tight')"
   ]
  },
  {
   "cell_type": "markdown",
   "id": "8a8af5c8",
   "metadata": {},
   "source": [
    "## Ecdf plots CV"
   ]
  },
  {
   "cell_type": "code",
   "execution_count": 56,
   "id": "8d60e801",
   "metadata": {},
   "outputs": [],
   "source": [
    "def get_mean_list(model):\n",
    "    cv_list = []\n",
    "    for i in range(1,11):\n",
    "        cvs = model[i].values\n",
    "        cv_list.append(cvs)\n",
    "    mean_list = np.mean(cv_list,axis=0)\n",
    "    return mean_list"
   ]
  },
  {
   "cell_type": "code",
   "execution_count": 57,
   "id": "10013643",
   "metadata": {},
   "outputs": [],
   "source": [
    "p01=get_mean_list(semi_df['CV'][2])\n",
    "p02=get_mean_list(semi_df['CV'][4])\n",
    "p03=get_mean_list(semi_df['CV'][8])\n",
    "p04=get_mean_list(semi_df['CV'][16])\n",
    "p05=get_mean_list(semi_df['CV'][32])\n",
    "p06=get_mean_list(semi_df['CV'][64])\n",
    "p07=get_mean_list(semi_df['CV'][128])\n",
    "p08=get_mean_list(semi_df['CV'][256])\n",
    "\n",
    "p09=get_mean_list(df.loc['continuous','CV'][8])\n"
   ]
  },
  {
   "cell_type": "code",
   "execution_count": 58,
   "id": "6abdb7fb",
   "metadata": {},
   "outputs": [
    {
     "data": {
      "image/png": "[encoded data removed]",
      "text/plain": [
       "<Figure size 226.772x198.425 with 1 Axes>"
      ]
     },
     "metadata": {
      "needs_background": "light"
     },
     "output_type": "display_data"
    }
   ],
   "source": [
    "# droop models\n",
    "plt.plot(np.sort(p01), np.linspace(0, 1, len(p01), endpoint=False),color=col[0],label='1/2')\n",
    "plt.plot(np.sort(p02), np.linspace(0, 1, len(p02), endpoint=False),color=col[1],label='1/4')\n",
    "plt.plot(np.sort(p03), np.linspace(0, 1, len(p03), endpoint=False),color=col[2],label='1/8')\n",
    "plt.plot(np.sort(p04), np.linspace(0, 1, len(p04), endpoint=False),color=col[3],label='1/16')\n",
    "plt.plot(np.sort(p05), np.linspace(0, 1, len(p05), endpoint=False),color=col[4],label='1/32')\n",
    "plt.plot(np.sort(p06), np.linspace(0, 1, len(p06), endpoint=False),color=col[5],label='1/64')\n",
    "plt.plot(np.sort(p07), np.linspace(0, 1, len(p07), endpoint=False),color=col[6],label='1/128')#medium green\n",
    "plt.plot(np.sort(p08), np.linspace(0, 1, len(p08), endpoint=False),color=col[7],label='1/256') #light green\n",
    "\n",
    "# continuous model\n",
    "plt.plot(np.sort(p09), np.linspace(0, 1, len(p09), endpoint=False),color=col[8],label='continuous') # yellow\n",
    "plt.xlabel('CV',fontsize=6);\n",
    "plt.ylabel('Proportion',fontsize=6);\n",
    "plt.xticks(fontsize=7)\n",
    "plt.yticks(fontsize=7)\n",
    "#plt.legend()\n",
    "textstr = 'c)'\n",
    "plt.text(-0.025, 0.85, textstr, fontsize=8, transform=plt.gcf().transFigure,weight='bold');\n",
    "plt.savefig(r'{}\\semi_cont_cv_brunel_ecdf.pdf'.format(fig_path),bbox_inches='tight')"
   ]
  },
  {
   "cell_type": "markdown",
   "id": "7384f13b",
   "metadata": {},
   "source": [
    "## Ecdf plots CC"
   ]
  },
  {
   "cell_type": "code",
   "execution_count": 59,
   "id": "33d1858b",
   "metadata": {},
   "outputs": [],
   "source": [
    "def get_mean_list(model):\n",
    "    cv_list = []\n",
    "    for i in range(1,11):\n",
    "        cvs = model[i].values\n",
    "        cv_list.append(cvs)\n",
    "    mean_list = np.mean(cv_list,axis=0)\n",
    "    return mean_list"
   ]
  },
  {
   "cell_type": "code",
   "execution_count": 60,
   "id": "34c1071b",
   "metadata": {},
   "outputs": [],
   "source": [
    "p01=get_mean_list(semi_df['CC_5'][2])\n",
    "p02=get_mean_list(semi_df['CC_5'][4])\n",
    "p03=get_mean_list(semi_df['CC_5'][8])\n",
    "p04=get_mean_list(semi_df['CC_5'][16])\n",
    "p05=get_mean_list(semi_df['CC_5'][32])\n",
    "p06=get_mean_list(semi_df['CC_5'][64])\n",
    "p07=get_mean_list(semi_df['CC_5'][128])\n",
    "p08=get_mean_list(semi_df['CC_5'][256])\n",
    "\n",
    "p09=get_mean_list(df.loc['continuous','CC_5'][8])\n"
   ]
  },
  {
   "cell_type": "code",
   "execution_count": 61,
   "id": "bd54a2a7",
   "metadata": {},
   "outputs": [
    {
     "data": {
      "image/png": "[encoded data removed]",
      "text/plain": [
       "<Figure size 226.772x198.425 with 2 Axes>"
      ]
     },
     "metadata": {
      "needs_background": "light"
     },
     "output_type": "display_data"
    }
   ],
   "source": [
    "fig, ax = plt.subplots()\n",
    "# droop models\n",
    "ax.plot(np.sort(p01), np.linspace(0, 1, len(p01), endpoint=False),color=col[0],label='1/2')\n",
    "ax.plot(np.sort(p02), np.linspace(0, 1, len(p02), endpoint=False),color=col[1],label='1/4')\n",
    "ax.plot(np.sort(p03), np.linspace(0, 1, len(p03), endpoint=False),color=col[2],label='1/8')\n",
    "ax.plot(np.sort(p04), np.linspace(0, 1, len(p04), endpoint=False),color=col[3],label='1/16')\n",
    "ax.plot(np.sort(p05), np.linspace(0, 1, len(p05), endpoint=False),color=col[4],label='1/32')\n",
    "ax.plot(np.sort(p06), np.linspace(0, 1, len(p06), endpoint=False),color=col[5],label='1/64')\n",
    "ax.plot(np.sort(p07), np.linspace(0, 1, len(p07), endpoint=False),color=col[6],label='1/128')#medium green\n",
    "ax.plot(np.sort(p08), np.linspace(0, 1, len(p08), endpoint=False),color=col[7],label='1/256') #light green\n",
    "\n",
    "# continuous model\n",
    "ax.plot(np.sort(p09), np.linspace(0, 1, len(p09), endpoint=False),color=col[8],label='continuous') # yellow\n",
    "plt.xlabel('CC',fontsize=6);\n",
    "plt.ylabel('Proportion',fontsize=6);\n",
    "plt.xticks(fontsize=7)\n",
    "plt.yticks(fontsize=7);\n",
    "#plt.legend()\n",
    "\n",
    "# code to fix zoomed in version\n",
    "axins1 = zoomed_inset_axes(ax, zoom = 3, loc=2)\n",
    "axins1.plot(np.sort(p01),np.linspace(0, 1, len(p01), endpoint=False),color=col[0])\n",
    "axins1.plot(np.sort(p02),np.linspace(0, 1, len(p02), endpoint=False),color=col[1])\n",
    "axins1.plot(np.sort(p03), np.linspace(0, 1, len(p03), endpoint=False),color=col[2])\n",
    "axins1.plot(np.sort(p04), np.linspace(0, 1, len(p04), endpoint=False),color=col[3])\n",
    "axins1.plot(np.sort(p05), np.linspace(0, 1, len(p05), endpoint=False),color=col[4])\n",
    "axins1.plot(np.sort(p06), np.linspace(0, 1, len(p06), endpoint=False),color=col[5])\n",
    "axins1.plot(np.sort(p07), np.linspace(0, 1, len(p07), endpoint=False),color=col[6])\n",
    "axins1.plot(np.sort(p08), np.linspace(0, 1, len(p08), endpoint=False),color=col[7])\n",
    " \n",
    "# continuous model\n",
    "axins1.plot(np.sort(p09), np.linspace(0, 1, len(p09), endpoint=False),color=col[8])\n",
    "# SPECIFY THE LIMITS\n",
    "x1, x2, y1, y2 = 0.005, 0.015, 0.4, 0.6\n",
    "axins1.set_xlim(x1, x2)\n",
    "axins1.set_ylim(y1, y2)\n",
    "\n",
    "plt.xticks(visible=False)\n",
    "plt.yticks(visible=False)\n",
    "mark_inset(ax, axins1, loc1=1, loc2=4, fc=\"none\", ec=\"0.5\");\n",
    "textstr = 'e)'\n",
    "plt.text(-0.025, 0.85, textstr, fontsize=8, transform=plt.gcf().transFigure,weight='bold');\n",
    "plt.savefig(r'{}\\semi_cont_cc_brunel_ecdf.pdf'.format(fig_path),bbox_inches='tight')"
   ]
  },
  {
   "cell_type": "code",
   "execution_count": null,
   "id": "b87b98f6",
   "metadata": {},
   "outputs": [],
   "source": []
  }
 ],
 "metadata": {
  "kernelspec": {
   "display_name": "Python 3",
   "language": "python",
   "name": "python3"
  },
  "language_info": {
   "codemirror_mode": {
    "name": "ipython",
    "version": 3
   },
   "file_extension": ".py",
   "mimetype": "text/x-python",
   "name": "python",
   "nbconvert_exporter": "python",
   "pygments_lexer": "ipython3",
   "version": "3.8.8"
  }
 },
 "nbformat": 4,
 "nbformat_minor": 5
}
