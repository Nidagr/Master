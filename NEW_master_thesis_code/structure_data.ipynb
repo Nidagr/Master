{
 "cells": [
  {
   "cell_type": "code",
   "execution_count": 110,
   "id": "ab36ccd5",
   "metadata": {},
   "outputs": [],
   "source": [
    "import numpy as np\n",
    "import pandas as pd\n",
    "import matplotlib.pyplot as plt\n",
    "import seaborn as sns\n",
    "import elephant\n",
    "import quantities as pq\n",
    "import neo\n",
    "import sys\n",
    "from scipy.stats import ks_2samp\n",
    "plt.rcParams['figure.figsize'] = (14, 10)\n",
    "import scipy.stats as stats\n",
    "import itertools\n",
    "import random"
   ]
  },
  {
   "cell_type": "markdown",
   "id": "78ddaf47",
   "metadata": {},
   "source": [
    "Get all the CV values and store in variables:"
   ]
  },
  {
   "cell_type": "code",
   "execution_count": 111,
   "id": "ef17ea34",
   "metadata": {},
   "outputs": [],
   "source": [
    "main_path = 'C:\\\\Users\\\\Nida\\\\Documents\\\\NMBU\\\\master\\\\organized_spike_data'\n",
    "res = ['resolution_1_2','resolution_1_4','resolution_1_8','resolution_1_16','resolution_1_32','resolution_1_64',\n",
    "      'resolution_1_128','resolution_1_256']\n",
    "typ = ['brunel_rounding_1_2','brunel_rounding_equal']\n",
    "file = 'cv_exc.csv'\n",
    "\n",
    "\n",
    "cv_1_2_droop = pd.read_csv(r'{}\\{}\\{}\\{}'.format(main_path,res[0],typ[0],file),index_col=0)\n",
    "cv_1_2_equal = pd.read_csv(r'{}\\{}\\{}\\{}'.format(main_path,res[0],typ[1],file),index_col=0)\n",
    "\n",
    "cv_1_4_droop = pd.read_csv(r'{}\\{}\\{}\\{}'.format(main_path,res[1],typ[0],file),index_col=0)\n",
    "cv_1_4_equal = pd.read_csv(r'{}\\{}\\{}\\{}'.format(main_path,res[1],typ[1],file),index_col=0)\n",
    "\n",
    "cv_1_8_droop = pd.read_csv(r'{}\\{}\\{}\\{}'.format(main_path,res[2],typ[0],file),index_col=0)\n",
    "cv_1_8_equal = pd.read_csv(r'{}\\{}\\{}\\{}'.format(main_path,res[2],typ[1],file),index_col=0)\n",
    "\n",
    "cv_1_16_droop = pd.read_csv(r'{}\\{}\\{}\\{}'.format(main_path,res[3],typ[0],file),index_col=0)\n",
    "cv_1_16_equal = pd.read_csv(r'{}\\{}\\{}\\{}'.format(main_path,res[3],typ[1],file),index_col=0)\n",
    "\n",
    "cv_1_32_droop = pd.read_csv(r'{}\\{}\\{}\\{}'.format(main_path,res[4],typ[0],file),index_col=0)\n",
    "cv_1_32_equal = pd.read_csv(r'{}\\{}\\{}\\{}'.format(main_path,res[4],typ[1],file),index_col=0)\n",
    "\n",
    "cv_1_64_droop = pd.read_csv(r'{}\\{}\\{}\\{}'.format(main_path,res[5],typ[0],file),index_col=0)\n",
    "cv_1_64_equal = pd.read_csv(r'{}\\{}\\{}\\{}'.format(main_path,res[5],typ[1],file),index_col=0)\n",
    "\n",
    "cv_1_128_droop = pd.read_csv(r'{}\\{}\\{}\\{}'.format(main_path,res[6],typ[0],file),index_col=0)\n",
    "cv_1_128_equal = pd.read_csv(r'{}\\{}\\{}\\{}'.format(main_path,res[6],typ[1],file),index_col=0)\n",
    "\n",
    "cv_1_256_droop = pd.read_csv(r'{}\\{}\\{}\\{}'.format(main_path,res[7],typ[0],file),index_col=0)\n",
    "cv_1_256_equal = pd.read_csv(r'{}\\{}\\{}\\{}'.format(main_path,res[7],typ[1],file),index_col=0)\n",
    "\n",
    "cv_cont = pd.read_csv('C:\\\\Users\\\\Nida\\\\Documents\\\\NMBU\\\\master\\\\organized_spike_data\\\\resolution_1_8\\\\brunel_continuous\\\\cv_exc.csv',index_col=0)"
   ]
  },
  {
   "cell_type": "markdown",
   "id": "c2ac5d60",
   "metadata": {},
   "source": [
    "Get all the FR values and store in variables:"
   ]
  },
  {
   "cell_type": "code",
   "execution_count": 112,
   "id": "6a8bb077",
   "metadata": {},
   "outputs": [],
   "source": [
    "main_path = 'C:\\\\Users\\\\Nida\\\\Documents\\\\NMBU\\\\master\\\\organized_spike_data'\n",
    "res = ['resolution_1_2','resolution_1_4','resolution_1_8','resolution_1_16','resolution_1_32','resolution_1_64',\n",
    "      'resolution_1_128','resolution_1_256']\n",
    "typ = ['brunel_rounding_1_2','brunel_rounding_equal']\n",
    "file = 'mean_fr_exc.pkl'\n",
    "\n",
    "\n",
    "fr_1_2_droop = pd.read_pickle(r'{}\\{}\\{}\\{}'.format(main_path,res[0],typ[0],file))\n",
    "fr_1_2_equal = pd.read_pickle(r'{}\\{}\\{}\\{}'.format(main_path,res[0],typ[1],file))\n",
    "\n",
    "fr_1_4_droop = pd.read_pickle(r'{}\\{}\\{}\\{}'.format(main_path,res[1],typ[0],file))\n",
    "fr_1_4_equal = pd.read_pickle(r'{}\\{}\\{}\\{}'.format(main_path,res[1],typ[1],file))\n",
    "\n",
    "fr_1_8_droop = pd.read_pickle(r'{}\\{}\\{}\\{}'.format(main_path,res[2],typ[0],file))\n",
    "fr_1_8_equal = pd.read_pickle(r'{}\\{}\\{}\\{}'.format(main_path,res[2],typ[1],file))\n",
    "\n",
    "fr_1_16_droop = pd.read_pickle(r'{}\\{}\\{}\\{}'.format(main_path,res[3],typ[0],file))\n",
    "fr_1_16_equal = pd.read_pickle(r'{}\\{}\\{}\\{}'.format(main_path,res[3],typ[1],file))\n",
    "\n",
    "fr_1_32_droop = pd.read_pickle(r'{}\\{}\\{}\\{}'.format(main_path,res[4],typ[0],file))\n",
    "fr_1_32_equal = pd.read_pickle(r'{}\\{}\\{}\\{}'.format(main_path,res[4],typ[1],file))\n",
    "\n",
    "fr_1_64_droop = pd.read_pickle(r'{}\\{}\\{}\\{}'.format(main_path,res[5],typ[0],file))\n",
    "fr_1_64_equal = pd.read_pickle(r'{}\\{}\\{}\\{}'.format(main_path,res[5],typ[1],file))\n",
    "\n",
    "fr_1_128_droop = pd.read_pickle(r'{}\\{}\\{}\\{}'.format(main_path,res[6],typ[0],file))\n",
    "fr_1_128_equal = pd.read_pickle(r'{}\\{}\\{}\\{}'.format(main_path,res[6],typ[1],file))\n",
    "\n",
    "fr_1_256_droop = pd.read_pickle(r'{}\\{}\\{}\\{}'.format(main_path,res[7],typ[0],file))\n",
    "fr_1_256_equal = pd.read_pickle(r'{}\\{}\\{}\\{}'.format(main_path,res[7],typ[1],file))\n",
    "\n",
    "fr_cont = pd.read_pickle('C:\\\\Users\\\\Nida\\\\Documents\\\\NMBU\\\\master\\\\organized_spike_data\\\\resolution_1_8\\\\brunel_continuous\\\\mean_fr_exc.pkl')"
   ]
  },
  {
   "cell_type": "markdown",
   "id": "585ff774",
   "metadata": {},
   "source": [
    "Get all the CC values and store in variables:"
   ]
  },
  {
   "cell_type": "code",
   "execution_count": 113,
   "id": "e059f5ca",
   "metadata": {},
   "outputs": [],
   "source": [
    "main_path = 'C:\\\\Users\\\\Nida\\\\Documents\\\\NMBU\\\\master\\\\organized_spike_data'\n",
    "res = ['resolution_1_2','resolution_1_4','resolution_1_8','resolution_1_16','resolution_1_32','resolution_1_64',\n",
    "      'resolution_1_128','resolution_1_256']\n",
    "typ = ['brunel_rounding_1_2','brunel_rounding_equal']\n",
    "files = ['cc_df_5.pkl','cc_df_10.pkl','cc_df_20.pkl','cc_df_50.pkl']\n",
    "\n",
    "cc_1_2_droop_5 = pd.read_pickle(r'{}\\{}\\{}\\{}'.format(main_path,res[0],typ[0],files[0]))\n",
    "cc_1_2_droop_10 = pd.read_pickle(r'{}\\{}\\{}\\{}'.format(main_path,res[0],typ[0],files[1]))\n",
    "cc_1_2_droop_20 = pd.read_pickle(r'{}\\{}\\{}\\{}'.format(main_path,res[0],typ[0],files[2]))\n",
    "cc_1_2_droop_50 = pd.read_pickle(r'{}\\{}\\{}\\{}'.format(main_path,res[0],typ[0],files[3]))\n",
    "\n",
    "cc_1_2_equal_5 = pd.read_pickle(r'{}\\{}\\{}\\{}'.format(main_path,res[0],typ[1],files[0]))\n",
    "cc_1_2_equal_10 = pd.read_pickle(r'{}\\{}\\{}\\{}'.format(main_path,res[0],typ[1],files[1]))\n",
    "cc_1_2_equal_20 = pd.read_pickle(r'{}\\{}\\{}\\{}'.format(main_path,res[0],typ[1],files[2]))\n",
    "cc_1_2_equal_50 = pd.read_pickle(r'{}\\{}\\{}\\{}'.format(main_path,res[0],typ[1],files[3]))\n",
    "\n",
    "cc_1_4_droop_5 = pd.read_pickle(r'{}\\{}\\{}\\{}'.format(main_path,res[1],typ[0],files[0]))\n",
    "cc_1_4_droop_10 = pd.read_pickle(r'{}\\{}\\{}\\{}'.format(main_path,res[1],typ[0],files[1]))\n",
    "cc_1_4_droop_20 = pd.read_pickle(r'{}\\{}\\{}\\{}'.format(main_path,res[1],typ[0],files[2]))\n",
    "cc_1_4_droop_50 = pd.read_pickle(r'{}\\{}\\{}\\{}'.format(main_path,res[1],typ[0],files[3]))\n",
    "\n",
    "cc_1_4_equal_5 = pd.read_pickle(r'{}\\{}\\{}\\{}'.format(main_path,res[1],typ[1],files[0]))\n",
    "cc_1_4_equal_10 = pd.read_pickle(r'{}\\{}\\{}\\{}'.format(main_path,res[1],typ[1],files[1]))\n",
    "cc_1_4_equal_20 = pd.read_pickle(r'{}\\{}\\{}\\{}'.format(main_path,res[1],typ[1],files[2]))\n",
    "cc_1_4_equal_50 = pd.read_pickle(r'{}\\{}\\{}\\{}'.format(main_path,res[1],typ[1],files[3]))\n",
    "\n",
    "cc_1_8_droop_5 = pd.read_pickle(r'{}\\{}\\{}\\{}'.format(main_path,res[2],typ[0],files[0]))\n",
    "cc_1_8_droop_10 = pd.read_pickle(r'{}\\{}\\{}\\{}'.format(main_path,res[2],typ[0],files[1]))\n",
    "cc_1_8_droop_20 = pd.read_pickle(r'{}\\{}\\{}\\{}'.format(main_path,res[2],typ[0],files[2]))\n",
    "cc_1_8_droop_50 = pd.read_pickle(r'{}\\{}\\{}\\{}'.format(main_path,res[2],typ[0],files[3]))\n",
    "\n",
    "cc_1_8_equal_5 = pd.read_pickle(r'{}\\{}\\{}\\{}'.format(main_path,res[2],typ[1],files[0]))\n",
    "cc_1_8_equal_10 = pd.read_pickle(r'{}\\{}\\{}\\{}'.format(main_path,res[2],typ[1],files[1]))\n",
    "cc_1_8_equal_20 = pd.read_pickle(r'{}\\{}\\{}\\{}'.format(main_path,res[2],typ[1],files[2]))\n",
    "cc_1_8_equal_50 = pd.read_pickle(r'{}\\{}\\{}\\{}'.format(main_path,res[2],typ[1],files[3]))\n",
    "\n",
    "cc_1_16_droop_5 = pd.read_pickle(r'{}\\{}\\{}\\{}'.format(main_path,res[3],typ[0],files[0]))\n",
    "cc_1_16_droop_10 = pd.read_pickle(r'{}\\{}\\{}\\{}'.format(main_path,res[3],typ[0],files[1]))\n",
    "cc_1_16_droop_20 = pd.read_pickle(r'{}\\{}\\{}\\{}'.format(main_path,res[3],typ[0],files[2]))\n",
    "cc_1_16_droop_50 = pd.read_pickle(r'{}\\{}\\{}\\{}'.format(main_path,res[3],typ[0],files[3]))\n",
    "\n",
    "cc_1_16_equal_5 = pd.read_pickle(r'{}\\{}\\{}\\{}'.format(main_path,res[3],typ[1],files[0]))\n",
    "cc_1_16_equal_10 = pd.read_pickle(r'{}\\{}\\{}\\{}'.format(main_path,res[3],typ[1],files[1]))\n",
    "cc_1_16_equal_20 = pd.read_pickle(r'{}\\{}\\{}\\{}'.format(main_path,res[3],typ[1],files[2]))\n",
    "cc_1_16_equal_50 = pd.read_pickle(r'{}\\{}\\{}\\{}'.format(main_path,res[3],typ[1],files[3]))\n",
    "\n",
    "cc_1_32_droop_5 = pd.read_pickle(r'{}\\{}\\{}\\{}'.format(main_path,res[4],typ[0],files[0]))\n",
    "cc_1_32_droop_10 = pd.read_pickle(r'{}\\{}\\{}\\{}'.format(main_path,res[4],typ[0],files[1]))\n",
    "cc_1_32_droop_20 = pd.read_pickle(r'{}\\{}\\{}\\{}'.format(main_path,res[4],typ[0],files[2]))\n",
    "cc_1_32_droop_50 = pd.read_pickle(r'{}\\{}\\{}\\{}'.format(main_path,res[4],typ[0],files[3]))\n",
    "\n",
    "cc_1_32_equal_5 = pd.read_pickle(r'{}\\{}\\{}\\{}'.format(main_path,res[4],typ[1],files[0]))\n",
    "cc_1_32_equal_10 = pd.read_pickle(r'{}\\{}\\{}\\{}'.format(main_path,res[4],typ[1],files[1]))\n",
    "cc_1_32_equal_20 = pd.read_pickle(r'{}\\{}\\{}\\{}'.format(main_path,res[4],typ[1],files[2]))\n",
    "cc_1_32_equal_50 = pd.read_pickle(r'{}\\{}\\{}\\{}'.format(main_path,res[4],typ[1],files[3]))\n",
    "\n",
    "cc_1_64_droop_5 = pd.read_pickle(r'{}\\{}\\{}\\{}'.format(main_path,res[5],typ[0],files[0]))\n",
    "cc_1_64_droop_10 = pd.read_pickle(r'{}\\{}\\{}\\{}'.format(main_path,res[5],typ[0],files[1]))\n",
    "cc_1_64_droop_20 = pd.read_pickle(r'{}\\{}\\{}\\{}'.format(main_path,res[5],typ[0],files[2]))\n",
    "cc_1_64_droop_50 = pd.read_pickle(r'{}\\{}\\{}\\{}'.format(main_path,res[5],typ[0],files[3]))\n",
    "\n",
    "cc_1_64_equal_5 = pd.read_pickle(r'{}\\{}\\{}\\{}'.format(main_path,res[5],typ[1],files[0]))\n",
    "cc_1_64_equal_10 = pd.read_pickle(r'{}\\{}\\{}\\{}'.format(main_path,res[5],typ[1],files[1]))\n",
    "cc_1_64_equal_20 = pd.read_pickle(r'{}\\{}\\{}\\{}'.format(main_path,res[5],typ[1],files[2]))\n",
    "cc_1_64_equal_50 = pd.read_pickle(r'{}\\{}\\{}\\{}'.format(main_path,res[5],typ[1],files[3]))\n",
    "\n",
    "cc_1_128_droop_5 = pd.read_pickle(r'{}\\{}\\{}\\{}'.format(main_path,res[6],typ[0],files[0]))\n",
    "cc_1_128_droop_10 = pd.read_pickle(r'{}\\{}\\{}\\{}'.format(main_path,res[6],typ[0],files[1]))\n",
    "cc_1_128_droop_20 = pd.read_pickle(r'{}\\{}\\{}\\{}'.format(main_path,res[6],typ[0],files[2]))\n",
    "cc_1_128_droop_50 = pd.read_pickle(r'{}\\{}\\{}\\{}'.format(main_path,res[6],typ[0],files[3]))\n",
    "\n",
    "cc_1_128_equal_5 = pd.read_pickle(r'{}\\{}\\{}\\{}'.format(main_path,res[6],typ[1],files[0]))\n",
    "cc_1_128_equal_10 = pd.read_pickle(r'{}\\{}\\{}\\{}'.format(main_path,res[6],typ[1],files[1]))\n",
    "cc_1_128_equal_20 = pd.read_pickle(r'{}\\{}\\{}\\{}'.format(main_path,res[6],typ[1],files[2]))\n",
    "cc_1_128_equal_50 = pd.read_pickle(r'{}\\{}\\{}\\{}'.format(main_path,res[6],typ[1],files[3]))\n",
    "\n",
    "cc_1_256_droop_5 = pd.read_pickle(r'{}\\{}\\{}\\{}'.format(main_path,res[7],typ[0],files[0]))\n",
    "cc_1_256_droop_10 = pd.read_pickle(r'{}\\{}\\{}\\{}'.format(main_path,res[7],typ[0],files[1]))\n",
    "cc_1_256_droop_20 = pd.read_pickle(r'{}\\{}\\{}\\{}'.format(main_path,res[7],typ[0],files[2]))\n",
    "cc_1_256_droop_50 = pd.read_pickle(r'{}\\{}\\{}\\{}'.format(main_path,res[7],typ[0],files[3]))\n",
    "\n",
    "cc_1_256_equal_5 = pd.read_pickle(r'{}\\{}\\{}\\{}'.format(main_path,res[7],typ[1],files[0]))\n",
    "cc_1_256_equal_10 = pd.read_pickle(r'{}\\{}\\{}\\{}'.format(main_path,res[7],typ[1],files[1]))\n",
    "cc_1_256_equal_20 = pd.read_pickle(r'{}\\{}\\{}\\{}'.format(main_path,res[7],typ[1],files[2]))\n",
    "cc_1_256_equal_50 = pd.read_pickle(r'{}\\{}\\{}\\{}'.format(main_path,res[7],typ[1],files[3]))\n",
    "\n",
    "cc_cont_5 = pd.read_pickle(r'{}\\{}\\brunel_continuous\\{}'.format(main_path,res[2],files[0]))\n",
    "cc_cont_10 = pd.read_pickle(r'{}\\{}\\brunel_continuous\\{}'.format(main_path,res[2],files[1]))\n",
    "cc_cont_20 = pd.read_pickle(r'{}\\{}\\brunel_continuous\\{}'.format(main_path,res[2],files[2]))\n",
    "cc_cont_50 = pd.read_pickle(r'{}\\{}\\brunel_continuous\\{}'.format(main_path,res[2],files[3]))"
   ]
  },
  {
   "cell_type": "markdown",
   "id": "2075afce",
   "metadata": {},
   "source": [
    "Now we can create a multiindex dataframe to store all of the data neatly:"
   ]
  },
  {
   "cell_type": "code",
   "execution_count": 114,
   "id": "8ca28490",
   "metadata": {},
   "outputs": [],
   "source": [
    "first = ['droop','equal','continuous'] #what type of model\n",
    "second = [2,4,8,16,32,64,128,256] # what type of resolution\n",
    "third = [1,2,3,4,5,6,7,8,9,10] # what seed\n",
    "fourth = [i for i in range(0,10000)]\n",
    "arrays = [first, second, third, fourth]\n",
    "\n",
    "\n",
    "index = pd.MultiIndex.from_product(arrays)\n",
    "columns = ['CV','FR','CC_5','CC_10','CC_20','CC_50']\n",
    "\n",
    "df = pd.DataFrame(index=index, columns=columns)\n",
    "\n",
    "# indexes must be sorted to make more effective and avoid warnings.\n",
    "df2 = df.sort_index()"
   ]
  },
  {
   "cell_type": "markdown",
   "id": "ed805d71",
   "metadata": {},
   "source": [
    "Now we fill in the correct values in the correct places in the dataframe.\n",
    "\n",
    "Start with inserting CV values for droop model all resolutions."
   ]
  },
  {
   "cell_type": "code",
   "execution_count": 115,
   "id": "59c7a15d",
   "metadata": {},
   "outputs": [],
   "source": [
    "df2.loc[('droop',2,1)]['CV'][:] = cv_1_2_droop.iloc[0]\n",
    "df2.loc[('droop',2,2)]['CV'][:] = cv_1_2_droop.iloc[1]\n",
    "df2.loc[('droop',2,3)]['CV'][:] = cv_1_2_droop.iloc[2]\n",
    "df2.loc[('droop',2,4)]['CV'][:] = cv_1_2_droop.iloc[3]\n",
    "df2.loc[('droop',2,5)]['CV'][:] = cv_1_2_droop.iloc[4]\n",
    "df2.loc[('droop',2,6)]['CV'][:] = cv_1_2_droop.iloc[5]\n",
    "df2.loc[('droop',2,7)]['CV'][:] = cv_1_2_droop.iloc[6]\n",
    "df2.loc[('droop',2,8)]['CV'][:] = cv_1_2_droop.iloc[7]\n",
    "df2.loc[('droop',2,9)]['CV'][:] = cv_1_2_droop.iloc[8]\n",
    "df2.loc[('droop',2,10)]['CV'][:] = cv_1_2_droop.iloc[9]"
   ]
  },
  {
   "cell_type": "code",
   "execution_count": 116,
   "id": "a8a50f67",
   "metadata": {},
   "outputs": [],
   "source": [
    "df2.loc[('droop',4,1)]['CV'][:] = cv_1_4_droop.iloc[0]\n",
    "df2.loc[('droop',4,2)]['CV'][:] = cv_1_4_droop.iloc[1]\n",
    "df2.loc[('droop',4,3)]['CV'][:] = cv_1_4_droop.iloc[2]\n",
    "df2.loc[('droop',4,4)]['CV'][:] = cv_1_4_droop.iloc[3]\n",
    "df2.loc[('droop',4,5)]['CV'][:] = cv_1_4_droop.iloc[4]\n",
    "df2.loc[('droop',4,6)]['CV'][:] = cv_1_4_droop.iloc[5]\n",
    "df2.loc[('droop',4,7)]['CV'][:] = cv_1_4_droop.iloc[6]\n",
    "df2.loc[('droop',4,8)]['CV'][:] = cv_1_4_droop.iloc[7]\n",
    "df2.loc[('droop',4,9)]['CV'][:] = cv_1_4_droop.iloc[8]\n",
    "df2.loc[('droop',4,10)]['CV'][:] = cv_1_4_droop.iloc[9]"
   ]
  },
  {
   "cell_type": "code",
   "execution_count": 117,
   "id": "6d9b80f5",
   "metadata": {},
   "outputs": [],
   "source": [
    "df2.loc[('droop',8,1)]['CV'][:] = cv_1_8_droop.iloc[0]\n",
    "df2.loc[('droop',8,2)]['CV'][:] = cv_1_8_droop.iloc[1]\n",
    "df2.loc[('droop',8,3)]['CV'][:] = cv_1_8_droop.iloc[2]\n",
    "df2.loc[('droop',8,4)]['CV'][:] = cv_1_8_droop.iloc[3]\n",
    "df2.loc[('droop',8,5)]['CV'][:] = cv_1_8_droop.iloc[4]\n",
    "df2.loc[('droop',8,6)]['CV'][:] = cv_1_8_droop.iloc[5]\n",
    "df2.loc[('droop',8,7)]['CV'][:] = cv_1_8_droop.iloc[6]\n",
    "df2.loc[('droop',8,8)]['CV'][:] = cv_1_8_droop.iloc[7]\n",
    "df2.loc[('droop',8,9)]['CV'][:] = cv_1_8_droop.iloc[8]\n",
    "df2.loc[('droop',8,10)]['CV'][:] = cv_1_8_droop.iloc[9]"
   ]
  },
  {
   "cell_type": "code",
   "execution_count": 118,
   "id": "65a74313",
   "metadata": {},
   "outputs": [],
   "source": [
    "df2.loc[('droop',16,1)]['CV'][:] = cv_1_16_droop.iloc[0]\n",
    "df2.loc[('droop',16,2)]['CV'][:] = cv_1_16_droop.iloc[1]\n",
    "df2.loc[('droop',16,3)]['CV'][:] = cv_1_16_droop.iloc[2]\n",
    "df2.loc[('droop',16,4)]['CV'][:] = cv_1_16_droop.iloc[3]\n",
    "df2.loc[('droop',16,5)]['CV'][:] = cv_1_16_droop.iloc[4]\n",
    "df2.loc[('droop',16,6)]['CV'][:] = cv_1_16_droop.iloc[5]\n",
    "df2.loc[('droop',16,7)]['CV'][:] = cv_1_16_droop.iloc[6]\n",
    "df2.loc[('droop',16,8)]['CV'][:] = cv_1_16_droop.iloc[7]\n",
    "df2.loc[('droop',16,9)]['CV'][:] = cv_1_16_droop.iloc[8]\n",
    "df2.loc[('droop',16,10)]['CV'][:] = cv_1_16_droop.iloc[9]"
   ]
  },
  {
   "cell_type": "code",
   "execution_count": 119,
   "id": "72435d27",
   "metadata": {},
   "outputs": [],
   "source": [
    "df2.loc[('droop',32,1)]['CV'][:] = cv_1_32_droop.iloc[0]\n",
    "df2.loc[('droop',32,2)]['CV'][:] = cv_1_32_droop.iloc[1]\n",
    "df2.loc[('droop',32,3)]['CV'][:] = cv_1_32_droop.iloc[2]\n",
    "df2.loc[('droop',32,4)]['CV'][:] = cv_1_32_droop.iloc[3]\n",
    "df2.loc[('droop',32,5)]['CV'][:] = cv_1_32_droop.iloc[4]\n",
    "df2.loc[('droop',32,6)]['CV'][:] = cv_1_32_droop.iloc[5]\n",
    "df2.loc[('droop',32,7)]['CV'][:] = cv_1_32_droop.iloc[6]\n",
    "df2.loc[('droop',32,8)]['CV'][:] = cv_1_32_droop.iloc[7]\n",
    "df2.loc[('droop',32,9)]['CV'][:] = cv_1_32_droop.iloc[8]\n",
    "df2.loc[('droop',32,10)]['CV'][:] = cv_1_32_droop.iloc[9]"
   ]
  },
  {
   "cell_type": "code",
   "execution_count": 120,
   "id": "c0dd3d53",
   "metadata": {},
   "outputs": [],
   "source": [
    "df2.loc[('droop',64,1)]['CV'][:] = cv_1_64_droop.iloc[0]\n",
    "df2.loc[('droop',64,2)]['CV'][:] = cv_1_64_droop.iloc[1]\n",
    "df2.loc[('droop',64,3)]['CV'][:] = cv_1_64_droop.iloc[2]\n",
    "df2.loc[('droop',64,4)]['CV'][:] = cv_1_64_droop.iloc[3]\n",
    "df2.loc[('droop',64,5)]['CV'][:] = cv_1_64_droop.iloc[4]\n",
    "df2.loc[('droop',64,6)]['CV'][:] = cv_1_64_droop.iloc[5]\n",
    "df2.loc[('droop',64,7)]['CV'][:] = cv_1_64_droop.iloc[6]\n",
    "df2.loc[('droop',64,8)]['CV'][:] = cv_1_64_droop.iloc[7]\n",
    "df2.loc[('droop',64,9)]['CV'][:] = cv_1_64_droop.iloc[8]\n",
    "df2.loc[('droop',64,10)]['CV'][:] = cv_1_64_droop.iloc[9]"
   ]
  },
  {
   "cell_type": "code",
   "execution_count": 121,
   "id": "60f5910c",
   "metadata": {},
   "outputs": [],
   "source": [
    "df2.loc[('droop',128,1)]['CV'][:] = cv_1_128_droop.iloc[0]\n",
    "df2.loc[('droop',128,2)]['CV'][:] = cv_1_128_droop.iloc[1]\n",
    "df2.loc[('droop',128,3)]['CV'][:] = cv_1_128_droop.iloc[2]\n",
    "df2.loc[('droop',128,4)]['CV'][:] = cv_1_128_droop.iloc[3]\n",
    "df2.loc[('droop',128,5)]['CV'][:] = cv_1_128_droop.iloc[4]\n",
    "df2.loc[('droop',128,6)]['CV'][:] = cv_1_128_droop.iloc[5]\n",
    "df2.loc[('droop',128,7)]['CV'][:] = cv_1_128_droop.iloc[6]\n",
    "df2.loc[('droop',128,8)]['CV'][:] = cv_1_128_droop.iloc[7]\n",
    "df2.loc[('droop',128,9)]['CV'][:] = cv_1_128_droop.iloc[8]\n",
    "df2.loc[('droop',128,10)]['CV'][:] = cv_1_128_droop.iloc[9]"
   ]
  },
  {
   "cell_type": "code",
   "execution_count": 122,
   "id": "04befc6d",
   "metadata": {},
   "outputs": [],
   "source": [
    "df2.loc[('droop',256,1)]['CV'][:] = cv_1_256_droop.iloc[0]\n",
    "df2.loc[('droop',256,2)]['CV'][:] = cv_1_256_droop.iloc[1]\n",
    "df2.loc[('droop',256,3)]['CV'][:] = cv_1_256_droop.iloc[2]\n",
    "df2.loc[('droop',256,4)]['CV'][:] = cv_1_256_droop.iloc[3]\n",
    "df2.loc[('droop',256,5)]['CV'][:] = cv_1_256_droop.iloc[4]\n",
    "df2.loc[('droop',256,6)]['CV'][:] = cv_1_256_droop.iloc[5]\n",
    "df2.loc[('droop',256,7)]['CV'][:] = cv_1_256_droop.iloc[6]\n",
    "df2.loc[('droop',256,8)]['CV'][:] = cv_1_256_droop.iloc[7]\n",
    "df2.loc[('droop',256,9)]['CV'][:] = cv_1_256_droop.iloc[8]\n",
    "df2.loc[('droop',256,10)]['CV'][:] = cv_1_256_droop.iloc[9]"
   ]
  },
  {
   "cell_type": "markdown",
   "id": "f5c9e771",
   "metadata": {},
   "source": [
    "Now insert CV values for equal model all resolutions."
   ]
  },
  {
   "cell_type": "code",
   "execution_count": 123,
   "id": "620014a4",
   "metadata": {},
   "outputs": [],
   "source": [
    "df2.loc[('equal',2,1)]['CV'][:] = cv_1_2_equal.iloc[0]\n",
    "df2.loc[('equal',2,2)]['CV'][:] = cv_1_2_equal.iloc[1]\n",
    "df2.loc[('equal',2,3)]['CV'][:] = cv_1_2_equal.iloc[2]\n",
    "df2.loc[('equal',2,4)]['CV'][:] = cv_1_2_equal.iloc[3]\n",
    "df2.loc[('equal',2,5)]['CV'][:] = cv_1_2_equal.iloc[4]\n",
    "df2.loc[('equal',2,6)]['CV'][:] = cv_1_2_equal.iloc[5]\n",
    "df2.loc[('equal',2,7)]['CV'][:] = cv_1_2_equal.iloc[6]\n",
    "df2.loc[('equal',2,8)]['CV'][:] = cv_1_2_equal.iloc[7]\n",
    "df2.loc[('equal',2,9)]['CV'][:] = cv_1_2_equal.iloc[8]\n",
    "df2.loc[('equal',2,10)]['CV'][:] = cv_1_2_equal.iloc[9]"
   ]
  },
  {
   "cell_type": "code",
   "execution_count": 124,
   "id": "d47733e6",
   "metadata": {},
   "outputs": [],
   "source": [
    "df2.loc[('equal',4,1)]['CV'][:] = cv_1_4_equal.iloc[0]\n",
    "df2.loc[('equal',4,2)]['CV'][:] = cv_1_4_equal.iloc[1]\n",
    "df2.loc[('equal',4,3)]['CV'][:] = cv_1_4_equal.iloc[2]\n",
    "df2.loc[('equal',4,4)]['CV'][:] = cv_1_4_equal.iloc[3]\n",
    "df2.loc[('equal',4,5)]['CV'][:] = cv_1_4_equal.iloc[4]\n",
    "df2.loc[('equal',4,6)]['CV'][:] = cv_1_4_equal.iloc[5]\n",
    "df2.loc[('equal',4,7)]['CV'][:] = cv_1_4_equal.iloc[6]\n",
    "df2.loc[('equal',4,8)]['CV'][:] = cv_1_4_equal.iloc[7]\n",
    "df2.loc[('equal',4,9)]['CV'][:] = cv_1_4_equal.iloc[8]\n",
    "df2.loc[('equal',4,10)]['CV'][:] = cv_1_4_equal.iloc[9]"
   ]
  },
  {
   "cell_type": "code",
   "execution_count": 125,
   "id": "39eb9d6d",
   "metadata": {},
   "outputs": [],
   "source": [
    "df2.loc[('equal',8,1)]['CV'][:] = cv_1_8_equal.iloc[0]\n",
    "df2.loc[('equal',8,2)]['CV'][:] = cv_1_8_equal.iloc[1]\n",
    "df2.loc[('equal',8,3)]['CV'][:] = cv_1_8_equal.iloc[2]\n",
    "df2.loc[('equal',8,4)]['CV'][:] = cv_1_8_equal.iloc[3]\n",
    "df2.loc[('equal',8,5)]['CV'][:] = cv_1_8_equal.iloc[4]\n",
    "df2.loc[('equal',8,6)]['CV'][:] = cv_1_8_equal.iloc[5]\n",
    "df2.loc[('equal',8,7)]['CV'][:] = cv_1_8_equal.iloc[6]\n",
    "df2.loc[('equal',8,8)]['CV'][:] = cv_1_8_equal.iloc[7]\n",
    "df2.loc[('equal',8,9)]['CV'][:] = cv_1_8_equal.iloc[8]\n",
    "df2.loc[('equal',8,10)]['CV'][:] = cv_1_8_equal.iloc[9]"
   ]
  },
  {
   "cell_type": "code",
   "execution_count": 126,
   "id": "7ca9bcf6",
   "metadata": {},
   "outputs": [],
   "source": [
    "df2.loc[('equal',16,1)]['CV'][:] = cv_1_16_equal.iloc[0]\n",
    "df2.loc[('equal',16,2)]['CV'][:] = cv_1_16_equal.iloc[1]\n",
    "df2.loc[('equal',16,3)]['CV'][:] = cv_1_16_equal.iloc[2]\n",
    "df2.loc[('equal',16,4)]['CV'][:] = cv_1_16_equal.iloc[3]\n",
    "df2.loc[('equal',16,5)]['CV'][:] = cv_1_16_equal.iloc[4]\n",
    "df2.loc[('equal',16,6)]['CV'][:] = cv_1_16_equal.iloc[5]\n",
    "df2.loc[('equal',16,7)]['CV'][:] = cv_1_16_equal.iloc[6]\n",
    "df2.loc[('equal',16,8)]['CV'][:] = cv_1_16_equal.iloc[7]\n",
    "df2.loc[('equal',16,9)]['CV'][:] = cv_1_16_equal.iloc[8]\n",
    "df2.loc[('equal',16,10)]['CV'][:] = cv_1_16_equal.iloc[9]"
   ]
  },
  {
   "cell_type": "code",
   "execution_count": 127,
   "id": "7e8ee90d",
   "metadata": {},
   "outputs": [],
   "source": [
    "df2.loc[('equal',32,1)]['CV'][:] = cv_1_32_equal.iloc[0]\n",
    "df2.loc[('equal',32,2)]['CV'][:] = cv_1_32_equal.iloc[1]\n",
    "df2.loc[('equal',32,3)]['CV'][:] = cv_1_32_equal.iloc[2]\n",
    "df2.loc[('equal',32,4)]['CV'][:] = cv_1_32_equal.iloc[3]\n",
    "df2.loc[('equal',32,5)]['CV'][:] = cv_1_32_equal.iloc[4]\n",
    "df2.loc[('equal',32,6)]['CV'][:] = cv_1_32_equal.iloc[5]\n",
    "df2.loc[('equal',32,7)]['CV'][:] = cv_1_32_equal.iloc[6]\n",
    "df2.loc[('equal',32,8)]['CV'][:] = cv_1_32_equal.iloc[7]\n",
    "df2.loc[('equal',32,9)]['CV'][:] = cv_1_32_equal.iloc[8]\n",
    "df2.loc[('equal',32,10)]['CV'][:] = cv_1_32_equal.iloc[9]"
   ]
  },
  {
   "cell_type": "code",
   "execution_count": 128,
   "id": "89fc3830",
   "metadata": {},
   "outputs": [],
   "source": [
    "df2.loc[('equal',64,1)]['CV'][:] = cv_1_64_equal.iloc[0]\n",
    "df2.loc[('equal',64,2)]['CV'][:] = cv_1_64_equal.iloc[1]\n",
    "df2.loc[('equal',64,3)]['CV'][:] = cv_1_64_equal.iloc[2]\n",
    "df2.loc[('equal',64,4)]['CV'][:] = cv_1_64_equal.iloc[3]\n",
    "df2.loc[('equal',64,5)]['CV'][:] = cv_1_64_equal.iloc[4]\n",
    "df2.loc[('equal',64,6)]['CV'][:] = cv_1_64_equal.iloc[5]\n",
    "df2.loc[('equal',64,7)]['CV'][:] = cv_1_64_equal.iloc[6]\n",
    "df2.loc[('equal',64,8)]['CV'][:] = cv_1_64_equal.iloc[7]\n",
    "df2.loc[('equal',64,9)]['CV'][:] = cv_1_64_equal.iloc[8]\n",
    "df2.loc[('equal',64,10)]['CV'][:] = cv_1_64_equal.iloc[9]"
   ]
  },
  {
   "cell_type": "code",
   "execution_count": 129,
   "id": "31437a4e",
   "metadata": {},
   "outputs": [],
   "source": [
    "df2.loc[('equal',128,1)]['CV'][:] = cv_1_128_equal.iloc[0]\n",
    "df2.loc[('equal',128,2)]['CV'][:] = cv_1_128_equal.iloc[1]\n",
    "df2.loc[('equal',128,3)]['CV'][:] = cv_1_128_equal.iloc[2]\n",
    "df2.loc[('equal',128,4)]['CV'][:] = cv_1_128_equal.iloc[3]\n",
    "df2.loc[('equal',128,5)]['CV'][:] = cv_1_128_equal.iloc[4]\n",
    "df2.loc[('equal',128,6)]['CV'][:] = cv_1_128_equal.iloc[5]\n",
    "df2.loc[('equal',128,7)]['CV'][:] = cv_1_128_equal.iloc[6]\n",
    "df2.loc[('equal',128,8)]['CV'][:] = cv_1_128_equal.iloc[7]\n",
    "df2.loc[('equal',128,9)]['CV'][:] = cv_1_128_equal.iloc[8]\n",
    "df2.loc[('equal',128,10)]['CV'][:] = cv_1_128_equal.iloc[9]"
   ]
  },
  {
   "cell_type": "code",
   "execution_count": 130,
   "id": "cc564d3f",
   "metadata": {},
   "outputs": [],
   "source": [
    "df2.loc[('equal',256,1)]['CV'][:] = cv_1_256_equal.iloc[0]\n",
    "df2.loc[('equal',256,2)]['CV'][:] = cv_1_256_equal.iloc[1]\n",
    "df2.loc[('equal',256,3)]['CV'][:] = cv_1_256_equal.iloc[2]\n",
    "df2.loc[('equal',256,4)]['CV'][:] = cv_1_256_equal.iloc[3]\n",
    "df2.loc[('equal',256,5)]['CV'][:] = cv_1_256_equal.iloc[4]\n",
    "df2.loc[('equal',256,6)]['CV'][:] = cv_1_256_equal.iloc[5]\n",
    "df2.loc[('equal',256,7)]['CV'][:] = cv_1_256_equal.iloc[6]\n",
    "df2.loc[('equal',256,8)]['CV'][:] = cv_1_256_equal.iloc[7]\n",
    "df2.loc[('equal',256,9)]['CV'][:] = cv_1_256_equal.iloc[8]\n",
    "df2.loc[('equal',256,10)]['CV'][:] = cv_1_256_equal.iloc[9]"
   ]
  },
  {
   "cell_type": "markdown",
   "id": "7b1ccaff",
   "metadata": {},
   "source": [
    "Insert the CV values for the continuous case."
   ]
  },
  {
   "cell_type": "code",
   "execution_count": 131,
   "id": "66aa04c4",
   "metadata": {},
   "outputs": [],
   "source": [
    "df2.loc[('continuous',8,1)]['CV'][:] = cv_cont.iloc[0]\n",
    "df2.loc[('continuous',8,2)]['CV'][:] = cv_cont.iloc[1]\n",
    "df2.loc[('continuous',8,3)]['CV'][:] = cv_cont.iloc[2]\n",
    "df2.loc[('continuous',8,4)]['CV'][:] = cv_cont.iloc[3]\n",
    "df2.loc[('continuous',8,5)]['CV'][:] = cv_cont.iloc[4]\n",
    "df2.loc[('continuous',8,6)]['CV'][:] = cv_cont.iloc[5]\n",
    "df2.loc[('continuous',8,7)]['CV'][:] = cv_cont.iloc[6]\n",
    "df2.loc[('continuous',8,8)]['CV'][:] = cv_cont.iloc[7]\n",
    "df2.loc[('continuous',8,9)]['CV'][:] = cv_cont.iloc[8]\n",
    "df2.loc[('continuous',8,10)]['CV'][:] = cv_cont.iloc[9]"
   ]
  },
  {
   "cell_type": "markdown",
   "id": "9c3bcf7b",
   "metadata": {},
   "source": [
    "Insert all FR values droop model all resolutions:"
   ]
  },
  {
   "cell_type": "code",
   "execution_count": 132,
   "id": "cd868dac",
   "metadata": {},
   "outputs": [],
   "source": [
    "df2.loc[('droop',2,1)]['FR'][:] = fr_1_2_droop.iloc[0]\n",
    "df2.loc[('droop',2,2)]['FR'][:] = fr_1_2_droop.iloc[1]\n",
    "df2.loc[('droop',2,3)]['FR'][:] = fr_1_2_droop.iloc[2]\n",
    "df2.loc[('droop',2,4)]['FR'][:] = fr_1_2_droop.iloc[3]\n",
    "df2.loc[('droop',2,5)]['FR'][:] = fr_1_2_droop.iloc[4]\n",
    "df2.loc[('droop',2,6)]['FR'][:] = fr_1_2_droop.iloc[5]\n",
    "df2.loc[('droop',2,7)]['FR'][:] = fr_1_2_droop.iloc[6]\n",
    "df2.loc[('droop',2,8)]['FR'][:] = fr_1_2_droop.iloc[7]\n",
    "df2.loc[('droop',2,9)]['FR'][:] = fr_1_2_droop.iloc[8]\n",
    "df2.loc[('droop',2,10)]['FR'][:] = fr_1_2_droop.iloc[9]"
   ]
  },
  {
   "cell_type": "code",
   "execution_count": 133,
   "id": "9556c3c2",
   "metadata": {},
   "outputs": [],
   "source": [
    "df2.loc[('droop',4,1)]['FR'][:] = fr_1_4_droop.iloc[0]\n",
    "df2.loc[('droop',4,2)]['FR'][:] = fr_1_4_droop.iloc[1]\n",
    "df2.loc[('droop',4,3)]['FR'][:] = fr_1_4_droop.iloc[2]\n",
    "df2.loc[('droop',4,4)]['FR'][:] = fr_1_4_droop.iloc[3]\n",
    "df2.loc[('droop',4,5)]['FR'][:] = fr_1_4_droop.iloc[4]\n",
    "df2.loc[('droop',4,6)]['FR'][:] = fr_1_4_droop.iloc[5]\n",
    "df2.loc[('droop',4,7)]['FR'][:] = fr_1_4_droop.iloc[6]\n",
    "df2.loc[('droop',4,8)]['FR'][:] = fr_1_4_droop.iloc[7]\n",
    "df2.loc[('droop',4,9)]['FR'][:] = fr_1_4_droop.iloc[8]\n",
    "df2.loc[('droop',4,10)]['FR'][:] = fr_1_4_droop.iloc[9]"
   ]
  },
  {
   "cell_type": "code",
   "execution_count": 134,
   "id": "89be9075",
   "metadata": {},
   "outputs": [],
   "source": [
    "df2.loc[('droop',8,1)]['FR'][:] = fr_1_8_droop.iloc[0]\n",
    "df2.loc[('droop',8,2)]['FR'][:] = fr_1_8_droop.iloc[1]\n",
    "df2.loc[('droop',8,3)]['FR'][:] = fr_1_8_droop.iloc[2]\n",
    "df2.loc[('droop',8,4)]['FR'][:] = fr_1_8_droop.iloc[3]\n",
    "df2.loc[('droop',8,5)]['FR'][:] = fr_1_8_droop.iloc[4]\n",
    "df2.loc[('droop',8,6)]['FR'][:] = fr_1_8_droop.iloc[5]\n",
    "df2.loc[('droop',8,7)]['FR'][:] = fr_1_8_droop.iloc[6]\n",
    "df2.loc[('droop',8,8)]['FR'][:] = fr_1_8_droop.iloc[7]\n",
    "df2.loc[('droop',8,9)]['FR'][:] = fr_1_8_droop.iloc[8]\n",
    "df2.loc[('droop',8,10)]['FR'][:] = fr_1_8_droop.iloc[9]"
   ]
  },
  {
   "cell_type": "code",
   "execution_count": 135,
   "id": "c1c59ac5",
   "metadata": {},
   "outputs": [],
   "source": [
    "df2.loc[('droop',16,1)]['FR'][:] = fr_1_16_droop.iloc[0]\n",
    "df2.loc[('droop',16,2)]['FR'][:] = fr_1_16_droop.iloc[1]\n",
    "df2.loc[('droop',16,3)]['FR'][:] = fr_1_16_droop.iloc[2]\n",
    "df2.loc[('droop',16,4)]['FR'][:] = fr_1_16_droop.iloc[3]\n",
    "df2.loc[('droop',16,5)]['FR'][:] = fr_1_16_droop.iloc[4]\n",
    "df2.loc[('droop',16,6)]['FR'][:] = fr_1_16_droop.iloc[5]\n",
    "df2.loc[('droop',16,7)]['FR'][:] = fr_1_16_droop.iloc[6]\n",
    "df2.loc[('droop',16,8)]['FR'][:] = fr_1_16_droop.iloc[7]\n",
    "df2.loc[('droop',16,9)]['FR'][:] = fr_1_16_droop.iloc[8]\n",
    "df2.loc[('droop',16,10)]['FR'][:] = fr_1_16_droop.iloc[9]"
   ]
  },
  {
   "cell_type": "code",
   "execution_count": 136,
   "id": "8ccec3af",
   "metadata": {},
   "outputs": [],
   "source": [
    "df2.loc[('droop',32,1)]['FR'][:] = fr_1_32_droop.iloc[0]\n",
    "df2.loc[('droop',32,2)]['FR'][:] = fr_1_32_droop.iloc[1]\n",
    "df2.loc[('droop',32,3)]['FR'][:] = fr_1_32_droop.iloc[2]\n",
    "df2.loc[('droop',32,4)]['FR'][:] = fr_1_32_droop.iloc[3]\n",
    "df2.loc[('droop',32,5)]['FR'][:] = fr_1_32_droop.iloc[4]\n",
    "df2.loc[('droop',32,6)]['FR'][:] = fr_1_32_droop.iloc[5]\n",
    "df2.loc[('droop',32,7)]['FR'][:] = fr_1_32_droop.iloc[6]\n",
    "df2.loc[('droop',32,8)]['FR'][:] = fr_1_32_droop.iloc[7]\n",
    "df2.loc[('droop',32,9)]['FR'][:] = fr_1_32_droop.iloc[8]\n",
    "df2.loc[('droop',32,10)]['FR'][:] = fr_1_32_droop.iloc[9]"
   ]
  },
  {
   "cell_type": "code",
   "execution_count": 137,
   "id": "8bc63cb0",
   "metadata": {},
   "outputs": [],
   "source": [
    "df2.loc[('droop',64,1)]['FR'][:] = fr_1_64_droop.iloc[0]\n",
    "df2.loc[('droop',64,2)]['FR'][:] = fr_1_64_droop.iloc[1]\n",
    "df2.loc[('droop',64,3)]['FR'][:] = fr_1_64_droop.iloc[2]\n",
    "df2.loc[('droop',64,4)]['FR'][:] = fr_1_64_droop.iloc[3]\n",
    "df2.loc[('droop',64,5)]['FR'][:] = fr_1_64_droop.iloc[4]\n",
    "df2.loc[('droop',64,6)]['FR'][:] = fr_1_64_droop.iloc[5]\n",
    "df2.loc[('droop',64,7)]['FR'][:] = fr_1_64_droop.iloc[6]\n",
    "df2.loc[('droop',64,8)]['FR'][:] = fr_1_64_droop.iloc[7]\n",
    "df2.loc[('droop',64,9)]['FR'][:] = fr_1_64_droop.iloc[8]\n",
    "df2.loc[('droop',64,10)]['FR'][:] = fr_1_64_droop.iloc[9]"
   ]
  },
  {
   "cell_type": "code",
   "execution_count": 138,
   "id": "478c08a4",
   "metadata": {},
   "outputs": [],
   "source": [
    "df2.loc[('droop',128,1)]['FR'][:] = fr_1_128_droop.iloc[0]\n",
    "df2.loc[('droop',128,2)]['FR'][:] = fr_1_128_droop.iloc[1]\n",
    "df2.loc[('droop',128,3)]['FR'][:] = fr_1_128_droop.iloc[2]\n",
    "df2.loc[('droop',128,4)]['FR'][:] = fr_1_128_droop.iloc[3]\n",
    "df2.loc[('droop',128,5)]['FR'][:] = fr_1_128_droop.iloc[4]\n",
    "df2.loc[('droop',128,6)]['FR'][:] = fr_1_128_droop.iloc[5]\n",
    "df2.loc[('droop',128,7)]['FR'][:] = fr_1_128_droop.iloc[6]\n",
    "df2.loc[('droop',128,8)]['FR'][:] = fr_1_128_droop.iloc[7]\n",
    "df2.loc[('droop',128,9)]['FR'][:] = fr_1_128_droop.iloc[8]\n",
    "df2.loc[('droop',128,10)]['FR'][:] = fr_1_128_droop.iloc[9]"
   ]
  },
  {
   "cell_type": "code",
   "execution_count": 139,
   "id": "85a79dc3",
   "metadata": {},
   "outputs": [],
   "source": [
    "df2.loc[('droop',256,1)]['FR'][:] = fr_1_256_droop.iloc[0]\n",
    "df2.loc[('droop',256,2)]['FR'][:] = fr_1_256_droop.iloc[1]\n",
    "df2.loc[('droop',256,3)]['FR'][:] = fr_1_256_droop.iloc[2]\n",
    "df2.loc[('droop',256,4)]['FR'][:] = fr_1_256_droop.iloc[3]\n",
    "df2.loc[('droop',256,5)]['FR'][:] = fr_1_256_droop.iloc[4]\n",
    "df2.loc[('droop',256,6)]['FR'][:] = fr_1_256_droop.iloc[5]\n",
    "df2.loc[('droop',256,7)]['FR'][:] = fr_1_256_droop.iloc[6]\n",
    "df2.loc[('droop',256,8)]['FR'][:] = fr_1_256_droop.iloc[7]\n",
    "df2.loc[('droop',256,9)]['FR'][:] = fr_1_256_droop.iloc[8]\n",
    "df2.loc[('droop',256,10)]['FR'][:] = fr_1_256_droop.iloc[9]"
   ]
  },
  {
   "cell_type": "markdown",
   "id": "e46f50da",
   "metadata": {},
   "source": [
    "Insert FR valeus for equal model all resolutions."
   ]
  },
  {
   "cell_type": "code",
   "execution_count": 140,
   "id": "bb6a52fc",
   "metadata": {},
   "outputs": [],
   "source": [
    "df2.loc[('equal',2,1)]['FR'][:] = fr_1_2_equal.iloc[0]\n",
    "df2.loc[('equal',2,2)]['FR'][:] = fr_1_2_equal.iloc[1]\n",
    "df2.loc[('equal',2,3)]['FR'][:] = fr_1_2_equal.iloc[2]\n",
    "df2.loc[('equal',2,4)]['FR'][:] = fr_1_2_equal.iloc[3]\n",
    "df2.loc[('equal',2,5)]['FR'][:] = fr_1_2_equal.iloc[4]\n",
    "df2.loc[('equal',2,6)]['FR'][:] = fr_1_2_equal.iloc[5]\n",
    "df2.loc[('equal',2,7)]['FR'][:] = fr_1_2_equal.iloc[6]\n",
    "df2.loc[('equal',2,8)]['FR'][:] = fr_1_2_equal.iloc[7]\n",
    "df2.loc[('equal',2,9)]['FR'][:] = fr_1_2_equal.iloc[8]\n",
    "df2.loc[('equal',2,10)]['FR'][:] = fr_1_2_equal.iloc[9]"
   ]
  },
  {
   "cell_type": "code",
   "execution_count": 141,
   "id": "0ca820c5",
   "metadata": {},
   "outputs": [],
   "source": [
    "df2.loc[('equal',4,1)]['FR'][:] = fr_1_4_equal.iloc[0]\n",
    "df2.loc[('equal',4,2)]['FR'][:] = fr_1_4_equal.iloc[1]\n",
    "df2.loc[('equal',4,3)]['FR'][:] = fr_1_4_equal.iloc[2]\n",
    "df2.loc[('equal',4,4)]['FR'][:] = fr_1_4_equal.iloc[3]\n",
    "df2.loc[('equal',4,5)]['FR'][:] = fr_1_4_equal.iloc[4]\n",
    "df2.loc[('equal',4,6)]['FR'][:] = fr_1_4_equal.iloc[5]\n",
    "df2.loc[('equal',4,7)]['FR'][:] = fr_1_4_equal.iloc[6]\n",
    "df2.loc[('equal',4,8)]['FR'][:] = fr_1_4_equal.iloc[7]\n",
    "df2.loc[('equal',4,9)]['FR'][:] = fr_1_4_equal.iloc[8]\n",
    "df2.loc[('equal',4,10)]['FR'][:] = fr_1_4_equal.iloc[9]"
   ]
  },
  {
   "cell_type": "code",
   "execution_count": 142,
   "id": "ba54e125",
   "metadata": {},
   "outputs": [],
   "source": [
    "df2.loc[('equal',8,1)]['FR'][:] = fr_1_8_equal.iloc[0]\n",
    "df2.loc[('equal',8,2)]['FR'][:] = fr_1_8_equal.iloc[1]\n",
    "df2.loc[('equal',8,3)]['FR'][:] = fr_1_8_equal.iloc[2]\n",
    "df2.loc[('equal',8,4)]['FR'][:] = fr_1_8_equal.iloc[3]\n",
    "df2.loc[('equal',8,5)]['FR'][:] = fr_1_8_equal.iloc[4]\n",
    "df2.loc[('equal',8,6)]['FR'][:] = fr_1_8_equal.iloc[5]\n",
    "df2.loc[('equal',8,7)]['FR'][:] = fr_1_8_equal.iloc[6]\n",
    "df2.loc[('equal',8,8)]['FR'][:] = fr_1_8_equal.iloc[7]\n",
    "df2.loc[('equal',8,9)]['FR'][:] = fr_1_8_equal.iloc[8]\n",
    "df2.loc[('equal',8,10)]['FR'][:] = fr_1_8_equal.iloc[9]"
   ]
  },
  {
   "cell_type": "code",
   "execution_count": 143,
   "id": "2ee507fa",
   "metadata": {},
   "outputs": [],
   "source": [
    "df2.loc[('equal',16,1)]['FR'][:] = fr_1_16_equal.iloc[0]\n",
    "df2.loc[('equal',16,2)]['FR'][:] = fr_1_16_equal.iloc[1]\n",
    "df2.loc[('equal',16,3)]['FR'][:] = fr_1_16_equal.iloc[2]\n",
    "df2.loc[('equal',16,4)]['FR'][:] = fr_1_16_equal.iloc[3]\n",
    "df2.loc[('equal',16,5)]['FR'][:] = fr_1_16_equal.iloc[4]\n",
    "df2.loc[('equal',16,6)]['FR'][:] = fr_1_16_equal.iloc[5]\n",
    "df2.loc[('equal',16,7)]['FR'][:] = fr_1_16_equal.iloc[6]\n",
    "df2.loc[('equal',16,8)]['FR'][:] = fr_1_16_equal.iloc[7]\n",
    "df2.loc[('equal',16,9)]['FR'][:] = fr_1_16_equal.iloc[8]\n",
    "df2.loc[('equal',16,10)]['FR'][:] = fr_1_16_equal.iloc[9]"
   ]
  },
  {
   "cell_type": "code",
   "execution_count": 144,
   "id": "3290f837",
   "metadata": {},
   "outputs": [],
   "source": [
    "df2.loc[('equal',32,1)]['FR'][:] = fr_1_32_equal.iloc[0]\n",
    "df2.loc[('equal',32,2)]['FR'][:] = fr_1_32_equal.iloc[1]\n",
    "df2.loc[('equal',32,3)]['FR'][:] = fr_1_32_equal.iloc[2]\n",
    "df2.loc[('equal',32,4)]['FR'][:] = fr_1_32_equal.iloc[3]\n",
    "df2.loc[('equal',32,5)]['FR'][:] = fr_1_32_equal.iloc[4]\n",
    "df2.loc[('equal',32,6)]['FR'][:] = fr_1_32_equal.iloc[5]\n",
    "df2.loc[('equal',32,7)]['FR'][:] = fr_1_32_equal.iloc[6]\n",
    "df2.loc[('equal',32,8)]['FR'][:] = fr_1_32_equal.iloc[7]\n",
    "df2.loc[('equal',32,9)]['FR'][:] = fr_1_32_equal.iloc[8]\n",
    "df2.loc[('equal',32,10)]['FR'][:] = fr_1_32_equal.iloc[9]"
   ]
  },
  {
   "cell_type": "code",
   "execution_count": 145,
   "id": "c259e51e",
   "metadata": {},
   "outputs": [],
   "source": [
    "df2.loc[('equal',64,1)]['FR'][:] = fr_1_64_equal.iloc[0]\n",
    "df2.loc[('equal',64,2)]['FR'][:] = fr_1_64_equal.iloc[1]\n",
    "df2.loc[('equal',64,3)]['FR'][:] = fr_1_64_equal.iloc[2]\n",
    "df2.loc[('equal',64,4)]['FR'][:] = fr_1_64_equal.iloc[3]\n",
    "df2.loc[('equal',64,5)]['FR'][:] = fr_1_64_equal.iloc[4]\n",
    "df2.loc[('equal',64,6)]['FR'][:] = fr_1_64_equal.iloc[5]\n",
    "df2.loc[('equal',64,7)]['FR'][:] = fr_1_64_equal.iloc[6]\n",
    "df2.loc[('equal',64,8)]['FR'][:] = fr_1_64_equal.iloc[7]\n",
    "df2.loc[('equal',64,9)]['FR'][:] = fr_1_64_equal.iloc[8]\n",
    "df2.loc[('equal',64,10)]['FR'][:] = fr_1_64_equal.iloc[9]"
   ]
  },
  {
   "cell_type": "code",
   "execution_count": 146,
   "id": "77f25cff",
   "metadata": {},
   "outputs": [],
   "source": [
    "df2.loc[('equal',128,1)]['FR'][:] = fr_1_128_equal.iloc[0]\n",
    "df2.loc[('equal',128,2)]['FR'][:] = fr_1_128_equal.iloc[1]\n",
    "df2.loc[('equal',128,3)]['FR'][:] = fr_1_128_equal.iloc[2]\n",
    "df2.loc[('equal',128,4)]['FR'][:] = fr_1_128_equal.iloc[3]\n",
    "df2.loc[('equal',128,5)]['FR'][:] = fr_1_128_equal.iloc[4]\n",
    "df2.loc[('equal',128,6)]['FR'][:] = fr_1_128_equal.iloc[5]\n",
    "df2.loc[('equal',128,7)]['FR'][:] = fr_1_128_equal.iloc[6]\n",
    "df2.loc[('equal',128,8)]['FR'][:] = fr_1_128_equal.iloc[7]\n",
    "df2.loc[('equal',128,9)]['FR'][:] = fr_1_128_equal.iloc[8]\n",
    "df2.loc[('equal',128,10)]['FR'][:] = fr_1_128_equal.iloc[9]"
   ]
  },
  {
   "cell_type": "code",
   "execution_count": 147,
   "id": "49ae8ae6",
   "metadata": {},
   "outputs": [],
   "source": [
    "df2.loc[('equal',256,1)]['FR'][:] = fr_1_256_equal.iloc[0]\n",
    "df2.loc[('equal',256,2)]['FR'][:] = fr_1_256_equal.iloc[1]\n",
    "df2.loc[('equal',256,3)]['FR'][:] = fr_1_256_equal.iloc[2]\n",
    "df2.loc[('equal',256,4)]['FR'][:] = fr_1_256_equal.iloc[3]\n",
    "df2.loc[('equal',256,5)]['FR'][:] = fr_1_256_equal.iloc[4]\n",
    "df2.loc[('equal',256,6)]['FR'][:] = fr_1_256_equal.iloc[5]\n",
    "df2.loc[('equal',256,7)]['FR'][:] = fr_1_256_equal.iloc[6]\n",
    "df2.loc[('equal',256,8)]['FR'][:] = fr_1_256_equal.iloc[7]\n",
    "df2.loc[('equal',256,9)]['FR'][:] = fr_1_256_equal.iloc[8]\n",
    "df2.loc[('equal',256,10)]['FR'][:] = fr_1_256_equal.iloc[9]"
   ]
  },
  {
   "cell_type": "markdown",
   "id": "e54673f4",
   "metadata": {},
   "source": [
    "Insert FR values continuous case."
   ]
  },
  {
   "cell_type": "code",
   "execution_count": 148,
   "id": "e80bc2c5",
   "metadata": {},
   "outputs": [],
   "source": [
    "df2.loc[('continuous',8,1)]['FR'][:] = fr_cont.iloc[0]\n",
    "df2.loc[('continuous',8,2)]['FR'][:] = fr_cont.iloc[1]\n",
    "df2.loc[('continuous',8,3)]['FR'][:] = fr_cont.iloc[2]\n",
    "df2.loc[('continuous',8,4)]['FR'][:] = fr_cont.iloc[3]\n",
    "df2.loc[('continuous',8,5)]['FR'][:] = fr_cont.iloc[4]\n",
    "df2.loc[('continuous',8,6)]['FR'][:] = fr_cont.iloc[5]\n",
    "df2.loc[('continuous',8,7)]['FR'][:] = fr_cont.iloc[6]\n",
    "df2.loc[('continuous',8,8)]['FR'][:] = fr_cont.iloc[7]\n",
    "df2.loc[('continuous',8,9)]['FR'][:] = fr_cont.iloc[8]\n",
    "df2.loc[('continuous',8,10)]['FR'][:] = fr_cont.iloc[9]"
   ]
  },
  {
   "cell_type": "markdown",
   "id": "fca66537",
   "metadata": {},
   "source": [
    "Now we insert the CC values.\n",
    "\n",
    "Droop model resolution 1/2."
   ]
  },
  {
   "cell_type": "code",
   "execution_count": 149,
   "id": "1561424b",
   "metadata": {},
   "outputs": [],
   "source": [
    "df2.loc[('droop',2,1)]['CC_5'][:] = cc_1_2_droop_5.iloc[0]\n",
    "df2.loc[('droop',2,2)]['CC_5'][:] = cc_1_2_droop_5.iloc[1]\n",
    "df2.loc[('droop',2,3)]['CC_5'][:] = cc_1_2_droop_5.iloc[2]\n",
    "df2.loc[('droop',2,4)]['CC_5'][:] = cc_1_2_droop_5.iloc[3]\n",
    "df2.loc[('droop',2,5)]['CC_5'][:] = cc_1_2_droop_5.iloc[4]\n",
    "df2.loc[('droop',2,6)]['CC_5'][:] = cc_1_2_droop_5.iloc[5]\n",
    "df2.loc[('droop',2,7)]['CC_5'][:] = cc_1_2_droop_5.iloc[6]\n",
    "df2.loc[('droop',2,8)]['CC_5'][:] = cc_1_2_droop_5.iloc[7]\n",
    "df2.loc[('droop',2,9)]['CC_5'][:] = cc_1_2_droop_5.iloc[8]\n",
    "df2.loc[('droop',2,10)]['CC_5'][:] = cc_1_2_droop_5.iloc[9]"
   ]
  },
  {
   "cell_type": "code",
   "execution_count": 150,
   "id": "9f4c649a",
   "metadata": {},
   "outputs": [],
   "source": [
    "df2.loc[('droop',2,1)]['CC_10'][:] = cc_1_2_droop_10.iloc[0]\n",
    "df2.loc[('droop',2,2)]['CC_10'][:] = cc_1_2_droop_10.iloc[1]\n",
    "df2.loc[('droop',2,3)]['CC_10'][:] = cc_1_2_droop_10.iloc[2]\n",
    "df2.loc[('droop',2,4)]['CC_10'][:] = cc_1_2_droop_10.iloc[3]\n",
    "df2.loc[('droop',2,5)]['CC_10'][:] = cc_1_2_droop_10.iloc[4]\n",
    "df2.loc[('droop',2,6)]['CC_10'][:] = cc_1_2_droop_10.iloc[5]\n",
    "df2.loc[('droop',2,7)]['CC_10'][:] = cc_1_2_droop_10.iloc[6]\n",
    "df2.loc[('droop',2,8)]['CC_10'][:] = cc_1_2_droop_10.iloc[7]\n",
    "df2.loc[('droop',2,9)]['CC_10'][:] = cc_1_2_droop_10.iloc[8]\n",
    "df2.loc[('droop',2,10)]['CC_10'][:] = cc_1_2_droop_10.iloc[9]"
   ]
  },
  {
   "cell_type": "code",
   "execution_count": 151,
   "id": "cc191b94",
   "metadata": {},
   "outputs": [],
   "source": [
    "df2.loc[('droop',2,1)]['CC_20'][:] = cc_1_2_droop_20.iloc[0]\n",
    "df2.loc[('droop',2,2)]['CC_20'][:] = cc_1_2_droop_20.iloc[1]\n",
    "df2.loc[('droop',2,3)]['CC_20'][:] = cc_1_2_droop_20.iloc[2]\n",
    "df2.loc[('droop',2,4)]['CC_20'][:] = cc_1_2_droop_20.iloc[3]\n",
    "df2.loc[('droop',2,5)]['CC_20'][:] = cc_1_2_droop_20.iloc[4]\n",
    "df2.loc[('droop',2,6)]['CC_20'][:] = cc_1_2_droop_20.iloc[5]\n",
    "df2.loc[('droop',2,7)]['CC_20'][:] = cc_1_2_droop_20.iloc[6]\n",
    "df2.loc[('droop',2,8)]['CC_20'][:] = cc_1_2_droop_20.iloc[7]\n",
    "df2.loc[('droop',2,9)]['CC_20'][:] = cc_1_2_droop_20.iloc[8]\n",
    "df2.loc[('droop',2,10)]['CC_20'][:] = cc_1_2_droop_20.iloc[9]"
   ]
  },
  {
   "cell_type": "code",
   "execution_count": 152,
   "id": "39668a3a",
   "metadata": {},
   "outputs": [],
   "source": [
    "df2.loc[('droop',2,1)]['CC_50'][:] = cc_1_2_droop_50.iloc[0]\n",
    "df2.loc[('droop',2,2)]['CC_50'][:] = cc_1_2_droop_50.iloc[1]\n",
    "df2.loc[('droop',2,3)]['CC_50'][:] = cc_1_2_droop_50.iloc[2]\n",
    "df2.loc[('droop',2,4)]['CC_50'][:] = cc_1_2_droop_50.iloc[3]\n",
    "df2.loc[('droop',2,5)]['CC_50'][:] = cc_1_2_droop_50.iloc[4]\n",
    "df2.loc[('droop',2,6)]['CC_50'][:] = cc_1_2_droop_50.iloc[5]\n",
    "df2.loc[('droop',2,7)]['CC_50'][:] = cc_1_2_droop_50.iloc[6]\n",
    "df2.loc[('droop',2,8)]['CC_50'][:] = cc_1_2_droop_50.iloc[7]\n",
    "df2.loc[('droop',2,9)]['CC_50'][:] = cc_1_2_droop_50.iloc[8]\n",
    "df2.loc[('droop',2,10)]['CC_50'][:] = cc_1_2_droop_50.iloc[9]"
   ]
  },
  {
   "cell_type": "markdown",
   "id": "ce2cd2ef",
   "metadata": {},
   "source": [
    "res 1/4"
   ]
  },
  {
   "cell_type": "code",
   "execution_count": 153,
   "id": "10ef36f0",
   "metadata": {},
   "outputs": [],
   "source": [
    "df2.loc[('droop',4,1)]['CC_5'][:] = cc_1_4_droop_5.iloc[0]\n",
    "df2.loc[('droop',4,2)]['CC_5'][:] = cc_1_4_droop_5.iloc[1]\n",
    "df2.loc[('droop',4,3)]['CC_5'][:] = cc_1_4_droop_5.iloc[2]\n",
    "df2.loc[('droop',4,4)]['CC_5'][:] = cc_1_4_droop_5.iloc[3]\n",
    "df2.loc[('droop',4,5)]['CC_5'][:] = cc_1_4_droop_5.iloc[4]\n",
    "df2.loc[('droop',4,6)]['CC_5'][:] = cc_1_4_droop_5.iloc[5]\n",
    "df2.loc[('droop',4,7)]['CC_5'][:] = cc_1_4_droop_5.iloc[6]\n",
    "df2.loc[('droop',4,8)]['CC_5'][:] = cc_1_4_droop_5.iloc[7]\n",
    "df2.loc[('droop',4,9)]['CC_5'][:] = cc_1_4_droop_5.iloc[8]\n",
    "df2.loc[('droop',4,10)]['CC_5'][:] = cc_1_4_droop_5.iloc[9]"
   ]
  },
  {
   "cell_type": "code",
   "execution_count": 154,
   "id": "3999a4ad",
   "metadata": {},
   "outputs": [],
   "source": [
    "df2.loc[('droop',4,1)]['CC_10'][:] = cc_1_4_droop_10.iloc[0]\n",
    "df2.loc[('droop',4,2)]['CC_10'][:] = cc_1_4_droop_10.iloc[1]\n",
    "df2.loc[('droop',4,3)]['CC_10'][:] = cc_1_4_droop_10.iloc[2]\n",
    "df2.loc[('droop',4,4)]['CC_10'][:] = cc_1_4_droop_10.iloc[3]\n",
    "df2.loc[('droop',4,5)]['CC_10'][:] = cc_1_4_droop_10.iloc[4]\n",
    "df2.loc[('droop',4,6)]['CC_10'][:] = cc_1_4_droop_10.iloc[5]\n",
    "df2.loc[('droop',4,7)]['CC_10'][:] = cc_1_4_droop_10.iloc[6]\n",
    "df2.loc[('droop',4,8)]['CC_10'][:] = cc_1_4_droop_10.iloc[7]\n",
    "df2.loc[('droop',4,9)]['CC_10'][:] = cc_1_4_droop_10.iloc[8]\n",
    "df2.loc[('droop',4,10)]['CC_10'][:] = cc_1_4_droop_10.iloc[9]"
   ]
  },
  {
   "cell_type": "code",
   "execution_count": 155,
   "id": "3b48bc6c",
   "metadata": {},
   "outputs": [],
   "source": [
    "df2.loc[('droop',4,1)]['CC_20'][:] = cc_1_4_droop_20.iloc[0]\n",
    "df2.loc[('droop',4,2)]['CC_20'][:] = cc_1_4_droop_20.iloc[1]\n",
    "df2.loc[('droop',4,3)]['CC_20'][:] = cc_1_4_droop_20.iloc[2]\n",
    "df2.loc[('droop',4,4)]['CC_20'][:] = cc_1_4_droop_20.iloc[3]\n",
    "df2.loc[('droop',4,5)]['CC_20'][:] = cc_1_4_droop_20.iloc[4]\n",
    "df2.loc[('droop',4,6)]['CC_20'][:] = cc_1_4_droop_20.iloc[5]\n",
    "df2.loc[('droop',4,7)]['CC_20'][:] = cc_1_4_droop_20.iloc[6]\n",
    "df2.loc[('droop',4,8)]['CC_20'][:] = cc_1_4_droop_20.iloc[7]\n",
    "df2.loc[('droop',4,9)]['CC_20'][:] = cc_1_4_droop_20.iloc[8]\n",
    "df2.loc[('droop',4,10)]['CC_20'][:] = cc_1_4_droop_20.iloc[9]"
   ]
  },
  {
   "cell_type": "code",
   "execution_count": 156,
   "id": "04d6f603",
   "metadata": {},
   "outputs": [],
   "source": [
    "df2.loc[('droop',4,1)]['CC_50'][:] = cc_1_4_droop_50.iloc[0]\n",
    "df2.loc[('droop',4,2)]['CC_50'][:] = cc_1_4_droop_50.iloc[1]\n",
    "df2.loc[('droop',4,3)]['CC_50'][:] = cc_1_4_droop_50.iloc[2]\n",
    "df2.loc[('droop',4,4)]['CC_50'][:] = cc_1_4_droop_50.iloc[3]\n",
    "df2.loc[('droop',4,5)]['CC_50'][:] = cc_1_4_droop_50.iloc[4]\n",
    "df2.loc[('droop',4,6)]['CC_50'][:] = cc_1_4_droop_50.iloc[5]\n",
    "df2.loc[('droop',4,7)]['CC_50'][:] = cc_1_4_droop_50.iloc[6]\n",
    "df2.loc[('droop',4,8)]['CC_50'][:] = cc_1_4_droop_50.iloc[7]\n",
    "df2.loc[('droop',4,9)]['CC_50'][:] = cc_1_4_droop_50.iloc[8]\n",
    "df2.loc[('droop',4,10)]['CC_50'][:] = cc_1_4_droop_50.iloc[9]"
   ]
  },
  {
   "cell_type": "markdown",
   "id": "623d681a",
   "metadata": {},
   "source": [
    "res 1/8"
   ]
  },
  {
   "cell_type": "code",
   "execution_count": 157,
   "id": "6989b897",
   "metadata": {},
   "outputs": [],
   "source": [
    "df2.loc[('droop',8,1)]['CC_5'][:] = cc_1_8_droop_5.iloc[0]\n",
    "df2.loc[('droop',8,2)]['CC_5'][:] = cc_1_8_droop_5.iloc[1]\n",
    "df2.loc[('droop',8,3)]['CC_5'][:] = cc_1_8_droop_5.iloc[2]\n",
    "df2.loc[('droop',8,4)]['CC_5'][:] = cc_1_8_droop_5.iloc[3]\n",
    "df2.loc[('droop',8,5)]['CC_5'][:] = cc_1_8_droop_5.iloc[4]\n",
    "df2.loc[('droop',8,6)]['CC_5'][:] = cc_1_8_droop_5.iloc[5]\n",
    "df2.loc[('droop',8,7)]['CC_5'][:] = cc_1_8_droop_5.iloc[6]\n",
    "df2.loc[('droop',8,8)]['CC_5'][:] = cc_1_8_droop_5.iloc[7]\n",
    "df2.loc[('droop',8,9)]['CC_5'][:] = cc_1_8_droop_5.iloc[8]\n",
    "df2.loc[('droop',8,10)]['CC_5'][:] = cc_1_8_droop_5.iloc[9]"
   ]
  },
  {
   "cell_type": "code",
   "execution_count": 158,
   "id": "16fa5008",
   "metadata": {},
   "outputs": [],
   "source": [
    "df2.loc[('droop',8,1)]['CC_10'][:] = cc_1_8_droop_10.iloc[0]\n",
    "df2.loc[('droop',8,2)]['CC_10'][:] = cc_1_8_droop_10.iloc[1]\n",
    "df2.loc[('droop',8,3)]['CC_10'][:] = cc_1_8_droop_10.iloc[2]\n",
    "df2.loc[('droop',8,4)]['CC_10'][:] = cc_1_8_droop_10.iloc[3]\n",
    "df2.loc[('droop',8,5)]['CC_10'][:] = cc_1_8_droop_10.iloc[4]\n",
    "df2.loc[('droop',8,6)]['CC_10'][:] = cc_1_8_droop_10.iloc[5]\n",
    "df2.loc[('droop',8,7)]['CC_10'][:] = cc_1_8_droop_10.iloc[6]\n",
    "df2.loc[('droop',8,8)]['CC_10'][:] = cc_1_8_droop_10.iloc[7]\n",
    "df2.loc[('droop',8,9)]['CC_10'][:] = cc_1_8_droop_10.iloc[8]\n",
    "df2.loc[('droop',8,10)]['CC_10'][:] = cc_1_8_droop_10.iloc[9]"
   ]
  },
  {
   "cell_type": "code",
   "execution_count": 159,
   "id": "061f52f2",
   "metadata": {},
   "outputs": [],
   "source": [
    "df2.loc[('droop',8,1)]['CC_20'][:] = cc_1_8_droop_20.iloc[0]\n",
    "df2.loc[('droop',8,2)]['CC_20'][:] = cc_1_8_droop_20.iloc[1]\n",
    "df2.loc[('droop',8,3)]['CC_20'][:] = cc_1_8_droop_20.iloc[2]\n",
    "df2.loc[('droop',8,4)]['CC_20'][:] = cc_1_8_droop_20.iloc[3]\n",
    "df2.loc[('droop',8,5)]['CC_20'][:] = cc_1_8_droop_20.iloc[4]\n",
    "df2.loc[('droop',8,6)]['CC_20'][:] = cc_1_8_droop_20.iloc[5]\n",
    "df2.loc[('droop',8,7)]['CC_20'][:] = cc_1_8_droop_20.iloc[6]\n",
    "df2.loc[('droop',8,8)]['CC_20'][:] = cc_1_8_droop_20.iloc[7]\n",
    "df2.loc[('droop',8,9)]['CC_20'][:] = cc_1_8_droop_20.iloc[8]\n",
    "df2.loc[('droop',8,10)]['CC_20'][:] = cc_1_8_droop_20.iloc[9]"
   ]
  },
  {
   "cell_type": "code",
   "execution_count": 160,
   "id": "ced6ddff",
   "metadata": {},
   "outputs": [],
   "source": [
    "df2.loc[('droop',8,1)]['CC_50'][:] = cc_1_8_droop_50.iloc[0]\n",
    "df2.loc[('droop',8,2)]['CC_50'][:] = cc_1_8_droop_50.iloc[1]\n",
    "df2.loc[('droop',8,3)]['CC_50'][:] = cc_1_8_droop_50.iloc[2]\n",
    "df2.loc[('droop',8,4)]['CC_50'][:] = cc_1_8_droop_50.iloc[3]\n",
    "df2.loc[('droop',8,5)]['CC_50'][:] = cc_1_8_droop_50.iloc[4]\n",
    "df2.loc[('droop',8,6)]['CC_50'][:] = cc_1_8_droop_50.iloc[5]\n",
    "df2.loc[('droop',8,7)]['CC_50'][:] = cc_1_8_droop_50.iloc[6]\n",
    "df2.loc[('droop',8,8)]['CC_50'][:] = cc_1_8_droop_50.iloc[7]\n",
    "df2.loc[('droop',8,9)]['CC_50'][:] = cc_1_8_droop_50.iloc[8]\n",
    "df2.loc[('droop',8,10)]['CC_50'][:] = cc_1_8_droop_50.iloc[9]"
   ]
  },
  {
   "cell_type": "markdown",
   "id": "b2f7d4bd",
   "metadata": {},
   "source": [
    "res 1/16"
   ]
  },
  {
   "cell_type": "code",
   "execution_count": 161,
   "id": "07030132",
   "metadata": {},
   "outputs": [],
   "source": [
    "df2.loc[('droop',16,1)]['CC_5'][:] = cc_1_16_droop_5.iloc[0]\n",
    "df2.loc[('droop',16,2)]['CC_5'][:] = cc_1_16_droop_5.iloc[1]\n",
    "df2.loc[('droop',16,3)]['CC_5'][:] = cc_1_16_droop_5.iloc[2]\n",
    "df2.loc[('droop',16,4)]['CC_5'][:] = cc_1_16_droop_5.iloc[3]\n",
    "df2.loc[('droop',16,5)]['CC_5'][:] = cc_1_16_droop_5.iloc[4]\n",
    "df2.loc[('droop',16,6)]['CC_5'][:] = cc_1_16_droop_5.iloc[5]\n",
    "df2.loc[('droop',16,7)]['CC_5'][:] = cc_1_16_droop_5.iloc[6]\n",
    "df2.loc[('droop',16,8)]['CC_5'][:] = cc_1_16_droop_5.iloc[7]\n",
    "df2.loc[('droop',16,9)]['CC_5'][:] = cc_1_16_droop_5.iloc[8]\n",
    "df2.loc[('droop',16,10)]['CC_5'][:] = cc_1_16_droop_5.iloc[9]"
   ]
  },
  {
   "cell_type": "code",
   "execution_count": 162,
   "id": "64e64751",
   "metadata": {},
   "outputs": [],
   "source": [
    "df2.loc[('droop',16,1)]['CC_10'][:] = cc_1_16_droop_10.iloc[0]\n",
    "df2.loc[('droop',16,2)]['CC_10'][:] = cc_1_16_droop_10.iloc[1]\n",
    "df2.loc[('droop',16,3)]['CC_10'][:] = cc_1_16_droop_10.iloc[2]\n",
    "df2.loc[('droop',16,4)]['CC_10'][:] = cc_1_16_droop_10.iloc[3]\n",
    "df2.loc[('droop',16,5)]['CC_10'][:] = cc_1_16_droop_10.iloc[4]\n",
    "df2.loc[('droop',16,6)]['CC_10'][:] = cc_1_16_droop_10.iloc[5]\n",
    "df2.loc[('droop',16,7)]['CC_10'][:] = cc_1_16_droop_10.iloc[6]\n",
    "df2.loc[('droop',16,8)]['CC_10'][:] = cc_1_16_droop_10.iloc[7]\n",
    "df2.loc[('droop',16,9)]['CC_10'][:] = cc_1_16_droop_10.iloc[8]\n",
    "df2.loc[('droop',16,10)]['CC_10'][:] = cc_1_16_droop_10.iloc[9]"
   ]
  },
  {
   "cell_type": "code",
   "execution_count": 163,
   "id": "a9514363",
   "metadata": {},
   "outputs": [],
   "source": [
    "df2.loc[('droop',16,1)]['CC_20'][:] = cc_1_16_droop_20.iloc[0]\n",
    "df2.loc[('droop',16,2)]['CC_20'][:] = cc_1_16_droop_20.iloc[1]\n",
    "df2.loc[('droop',16,3)]['CC_20'][:] = cc_1_16_droop_20.iloc[2]\n",
    "df2.loc[('droop',16,4)]['CC_20'][:] = cc_1_16_droop_20.iloc[3]\n",
    "df2.loc[('droop',16,5)]['CC_20'][:] = cc_1_16_droop_20.iloc[4]\n",
    "df2.loc[('droop',16,6)]['CC_20'][:] = cc_1_16_droop_20.iloc[5]\n",
    "df2.loc[('droop',16,7)]['CC_20'][:] = cc_1_16_droop_20.iloc[6]\n",
    "df2.loc[('droop',16,8)]['CC_20'][:] = cc_1_16_droop_20.iloc[7]\n",
    "df2.loc[('droop',16,9)]['CC_20'][:] = cc_1_16_droop_20.iloc[8]\n",
    "df2.loc[('droop',16,10)]['CC_20'][:] = cc_1_16_droop_20.iloc[9]"
   ]
  },
  {
   "cell_type": "code",
   "execution_count": 164,
   "id": "c6ccaefe",
   "metadata": {},
   "outputs": [],
   "source": [
    "df2.loc[('droop',16,1)]['CC_50'][:] = cc_1_16_droop_50.iloc[0]\n",
    "df2.loc[('droop',16,2)]['CC_50'][:] = cc_1_16_droop_50.iloc[1]\n",
    "df2.loc[('droop',16,3)]['CC_50'][:] = cc_1_16_droop_50.iloc[2]\n",
    "df2.loc[('droop',16,4)]['CC_50'][:] = cc_1_16_droop_50.iloc[3]\n",
    "df2.loc[('droop',16,5)]['CC_50'][:] = cc_1_16_droop_50.iloc[4]\n",
    "df2.loc[('droop',16,6)]['CC_50'][:] = cc_1_16_droop_50.iloc[5]\n",
    "df2.loc[('droop',16,7)]['CC_50'][:] = cc_1_16_droop_50.iloc[6]\n",
    "df2.loc[('droop',16,8)]['CC_50'][:] = cc_1_16_droop_50.iloc[7]\n",
    "df2.loc[('droop',16,9)]['CC_50'][:] = cc_1_16_droop_50.iloc[8]\n",
    "df2.loc[('droop',16,10)]['CC_50'][:] = cc_1_16_droop_50.iloc[9]"
   ]
  },
  {
   "cell_type": "markdown",
   "id": "dd165ed3",
   "metadata": {},
   "source": [
    "res 1/32"
   ]
  },
  {
   "cell_type": "code",
   "execution_count": 165,
   "id": "150268ad",
   "metadata": {},
   "outputs": [],
   "source": [
    "df2.loc[('droop',32,1)]['CC_5'][:] = cc_1_32_droop_5.iloc[0]\n",
    "df2.loc[('droop',32,2)]['CC_5'][:] = cc_1_32_droop_5.iloc[1]\n",
    "df2.loc[('droop',32,3)]['CC_5'][:] = cc_1_32_droop_5.iloc[2]\n",
    "df2.loc[('droop',32,4)]['CC_5'][:] = cc_1_32_droop_5.iloc[3]\n",
    "df2.loc[('droop',32,5)]['CC_5'][:] = cc_1_32_droop_5.iloc[4]\n",
    "df2.loc[('droop',32,6)]['CC_5'][:] = cc_1_32_droop_5.iloc[5]\n",
    "df2.loc[('droop',32,7)]['CC_5'][:] = cc_1_32_droop_5.iloc[6]\n",
    "df2.loc[('droop',32,8)]['CC_5'][:] = cc_1_32_droop_5.iloc[7]\n",
    "df2.loc[('droop',32,9)]['CC_5'][:] = cc_1_32_droop_5.iloc[8]\n",
    "df2.loc[('droop',32,10)]['CC_5'][:] = cc_1_32_droop_5.iloc[9]"
   ]
  },
  {
   "cell_type": "code",
   "execution_count": 166,
   "id": "fe6c24b0",
   "metadata": {},
   "outputs": [],
   "source": [
    "df2.loc[('droop',32,1)]['CC_10'][:] = cc_1_32_droop_10.iloc[0]\n",
    "df2.loc[('droop',32,2)]['CC_10'][:] = cc_1_32_droop_10.iloc[1]\n",
    "df2.loc[('droop',32,3)]['CC_10'][:] = cc_1_32_droop_10.iloc[2]\n",
    "df2.loc[('droop',32,4)]['CC_10'][:] = cc_1_32_droop_10.iloc[3]\n",
    "df2.loc[('droop',32,5)]['CC_10'][:] = cc_1_32_droop_10.iloc[4]\n",
    "df2.loc[('droop',32,6)]['CC_10'][:] = cc_1_32_droop_10.iloc[5]\n",
    "df2.loc[('droop',32,7)]['CC_10'][:] = cc_1_32_droop_10.iloc[6]\n",
    "df2.loc[('droop',32,8)]['CC_10'][:] = cc_1_32_droop_10.iloc[7]\n",
    "df2.loc[('droop',32,9)]['CC_10'][:] = cc_1_32_droop_10.iloc[8]\n",
    "df2.loc[('droop',32,10)]['CC_10'][:] = cc_1_32_droop_10.iloc[9]"
   ]
  },
  {
   "cell_type": "code",
   "execution_count": 167,
   "id": "a5e6956c",
   "metadata": {},
   "outputs": [],
   "source": [
    "df2.loc[('droop',32,1)]['CC_20'][:] = cc_1_32_droop_20.iloc[0]\n",
    "df2.loc[('droop',32,2)]['CC_20'][:] = cc_1_32_droop_20.iloc[1]\n",
    "df2.loc[('droop',32,3)]['CC_20'][:] = cc_1_32_droop_20.iloc[2]\n",
    "df2.loc[('droop',32,4)]['CC_20'][:] = cc_1_32_droop_20.iloc[3]\n",
    "df2.loc[('droop',32,5)]['CC_20'][:] = cc_1_32_droop_20.iloc[4]\n",
    "df2.loc[('droop',32,6)]['CC_20'][:] = cc_1_32_droop_20.iloc[5]\n",
    "df2.loc[('droop',32,7)]['CC_20'][:] = cc_1_32_droop_20.iloc[6]\n",
    "df2.loc[('droop',32,8)]['CC_20'][:] = cc_1_32_droop_20.iloc[7]\n",
    "df2.loc[('droop',32,9)]['CC_20'][:] = cc_1_32_droop_20.iloc[8]\n",
    "df2.loc[('droop',32,10)]['CC_20'][:] = cc_1_32_droop_20.iloc[9]"
   ]
  },
  {
   "cell_type": "code",
   "execution_count": 168,
   "id": "11e56604",
   "metadata": {},
   "outputs": [],
   "source": [
    "df2.loc[('droop',32,1)]['CC_50'][:] = cc_1_32_droop_50.iloc[0]\n",
    "df2.loc[('droop',32,2)]['CC_50'][:] = cc_1_32_droop_50.iloc[1]\n",
    "df2.loc[('droop',32,3)]['CC_50'][:] = cc_1_32_droop_50.iloc[2]\n",
    "df2.loc[('droop',32,4)]['CC_50'][:] = cc_1_32_droop_50.iloc[3]\n",
    "df2.loc[('droop',32,5)]['CC_50'][:] = cc_1_32_droop_50.iloc[4]\n",
    "df2.loc[('droop',32,6)]['CC_50'][:] = cc_1_32_droop_50.iloc[5]\n",
    "df2.loc[('droop',32,7)]['CC_50'][:] = cc_1_32_droop_50.iloc[6]\n",
    "df2.loc[('droop',32,8)]['CC_50'][:] = cc_1_32_droop_50.iloc[7]\n",
    "df2.loc[('droop',32,9)]['CC_50'][:] = cc_1_32_droop_50.iloc[8]\n",
    "df2.loc[('droop',32,10)]['CC_50'][:] = cc_1_32_droop_50.iloc[9]"
   ]
  },
  {
   "cell_type": "markdown",
   "id": "9e35d28b",
   "metadata": {},
   "source": [
    "res 1/64"
   ]
  },
  {
   "cell_type": "code",
   "execution_count": 169,
   "id": "bde6fa77",
   "metadata": {},
   "outputs": [],
   "source": [
    "df2.loc[('droop',64,1)]['CC_5'][:] = cc_1_64_droop_5.iloc[0]\n",
    "df2.loc[('droop',64,2)]['CC_5'][:] = cc_1_64_droop_5.iloc[1]\n",
    "df2.loc[('droop',64,3)]['CC_5'][:] = cc_1_64_droop_5.iloc[2]\n",
    "df2.loc[('droop',64,4)]['CC_5'][:] = cc_1_64_droop_5.iloc[3]\n",
    "df2.loc[('droop',64,5)]['CC_5'][:] = cc_1_64_droop_5.iloc[4]\n",
    "df2.loc[('droop',64,6)]['CC_5'][:] = cc_1_64_droop_5.iloc[5]\n",
    "df2.loc[('droop',64,7)]['CC_5'][:] = cc_1_64_droop_5.iloc[6]\n",
    "df2.loc[('droop',64,8)]['CC_5'][:] = cc_1_64_droop_5.iloc[7]\n",
    "df2.loc[('droop',64,9)]['CC_5'][:] = cc_1_64_droop_5.iloc[8]\n",
    "df2.loc[('droop',64,10)]['CC_5'][:] = cc_1_64_droop_5.iloc[9]"
   ]
  },
  {
   "cell_type": "code",
   "execution_count": 170,
   "id": "515ce7ec",
   "metadata": {},
   "outputs": [],
   "source": [
    "df2.loc[('droop',64,1)]['CC_10'][:] = cc_1_64_droop_10.iloc[0]\n",
    "df2.loc[('droop',64,2)]['CC_10'][:] = cc_1_64_droop_10.iloc[1]\n",
    "df2.loc[('droop',64,3)]['CC_10'][:] = cc_1_64_droop_10.iloc[2]\n",
    "df2.loc[('droop',64,4)]['CC_10'][:] = cc_1_64_droop_10.iloc[3]\n",
    "df2.loc[('droop',64,5)]['CC_10'][:] = cc_1_64_droop_10.iloc[4]\n",
    "df2.loc[('droop',64,6)]['CC_10'][:] = cc_1_64_droop_10.iloc[5]\n",
    "df2.loc[('droop',64,7)]['CC_10'][:] = cc_1_64_droop_10.iloc[6]\n",
    "df2.loc[('droop',64,8)]['CC_10'][:] = cc_1_64_droop_10.iloc[7]\n",
    "df2.loc[('droop',64,9)]['CC_10'][:] = cc_1_64_droop_10.iloc[8]\n",
    "df2.loc[('droop',64,10)]['CC_10'][:] = cc_1_64_droop_10.iloc[9]"
   ]
  },
  {
   "cell_type": "code",
   "execution_count": 171,
   "id": "29b32e94",
   "metadata": {},
   "outputs": [],
   "source": [
    "df2.loc[('droop',64,1)]['CC_20'][:] = cc_1_64_droop_20.iloc[0]\n",
    "df2.loc[('droop',64,2)]['CC_20'][:] = cc_1_64_droop_20.iloc[1]\n",
    "df2.loc[('droop',64,3)]['CC_20'][:] = cc_1_64_droop_20.iloc[2]\n",
    "df2.loc[('droop',64,4)]['CC_20'][:] = cc_1_64_droop_20.iloc[3]\n",
    "df2.loc[('droop',64,5)]['CC_20'][:] = cc_1_64_droop_20.iloc[4]\n",
    "df2.loc[('droop',64,6)]['CC_20'][:] = cc_1_64_droop_20.iloc[5]\n",
    "df2.loc[('droop',64,7)]['CC_20'][:] = cc_1_64_droop_20.iloc[6]\n",
    "df2.loc[('droop',64,8)]['CC_20'][:] = cc_1_64_droop_20.iloc[7]\n",
    "df2.loc[('droop',64,9)]['CC_20'][:] = cc_1_64_droop_20.iloc[8]\n",
    "df2.loc[('droop',64,10)]['CC_20'][:] = cc_1_64_droop_20.iloc[9]"
   ]
  },
  {
   "cell_type": "code",
   "execution_count": 172,
   "id": "a3f56fe4",
   "metadata": {},
   "outputs": [],
   "source": [
    "df2.loc[('droop',64,1)]['CC_50'][:] = cc_1_64_droop_50.iloc[0]\n",
    "df2.loc[('droop',64,2)]['CC_50'][:] = cc_1_64_droop_50.iloc[1]\n",
    "df2.loc[('droop',64,3)]['CC_50'][:] = cc_1_64_droop_50.iloc[2]\n",
    "df2.loc[('droop',64,4)]['CC_50'][:] = cc_1_64_droop_50.iloc[3]\n",
    "df2.loc[('droop',64,5)]['CC_50'][:] = cc_1_64_droop_50.iloc[4]\n",
    "df2.loc[('droop',64,6)]['CC_50'][:] = cc_1_64_droop_50.iloc[5]\n",
    "df2.loc[('droop',64,7)]['CC_50'][:] = cc_1_64_droop_50.iloc[6]\n",
    "df2.loc[('droop',64,8)]['CC_50'][:] = cc_1_64_droop_50.iloc[7]\n",
    "df2.loc[('droop',64,9)]['CC_50'][:] = cc_1_64_droop_50.iloc[8]\n",
    "df2.loc[('droop',64,10)]['CC_50'][:] = cc_1_64_droop_50.iloc[9]"
   ]
  },
  {
   "cell_type": "markdown",
   "id": "1bf9faab",
   "metadata": {},
   "source": [
    "res 1/128"
   ]
  },
  {
   "cell_type": "code",
   "execution_count": 173,
   "id": "36f8a4e3",
   "metadata": {},
   "outputs": [],
   "source": [
    "df2.loc[('droop',128,1)]['CC_5'][:] = cc_1_128_droop_5.iloc[0]\n",
    "df2.loc[('droop',128,2)]['CC_5'][:] = cc_1_128_droop_5.iloc[1]\n",
    "df2.loc[('droop',128,3)]['CC_5'][:] = cc_1_128_droop_5.iloc[2]\n",
    "df2.loc[('droop',128,4)]['CC_5'][:] = cc_1_128_droop_5.iloc[3]\n",
    "df2.loc[('droop',128,5)]['CC_5'][:] = cc_1_128_droop_5.iloc[4]\n",
    "df2.loc[('droop',128,6)]['CC_5'][:] = cc_1_128_droop_5.iloc[5]\n",
    "df2.loc[('droop',128,7)]['CC_5'][:] = cc_1_128_droop_5.iloc[6]\n",
    "df2.loc[('droop',128,8)]['CC_5'][:] = cc_1_128_droop_5.iloc[7]\n",
    "df2.loc[('droop',128,9)]['CC_5'][:] = cc_1_128_droop_5.iloc[8]\n",
    "df2.loc[('droop',128,10)]['CC_5'][:] = cc_1_128_droop_5.iloc[9]"
   ]
  },
  {
   "cell_type": "code",
   "execution_count": 174,
   "id": "e069fa06",
   "metadata": {},
   "outputs": [],
   "source": [
    "df2.loc[('droop',128,1)]['CC_10'][:] = cc_1_128_droop_10.iloc[0]\n",
    "df2.loc[('droop',128,2)]['CC_10'][:] = cc_1_128_droop_10.iloc[1]\n",
    "df2.loc[('droop',128,3)]['CC_10'][:] = cc_1_128_droop_10.iloc[2]\n",
    "df2.loc[('droop',128,4)]['CC_10'][:] = cc_1_128_droop_10.iloc[3]\n",
    "df2.loc[('droop',128,5)]['CC_10'][:] = cc_1_128_droop_10.iloc[4]\n",
    "df2.loc[('droop',128,6)]['CC_10'][:] = cc_1_128_droop_10.iloc[5]\n",
    "df2.loc[('droop',128,7)]['CC_10'][:] = cc_1_128_droop_10.iloc[6]\n",
    "df2.loc[('droop',128,8)]['CC_10'][:] = cc_1_128_droop_10.iloc[7]\n",
    "df2.loc[('droop',128,9)]['CC_10'][:] = cc_1_128_droop_10.iloc[8]\n",
    "df2.loc[('droop',128,10)]['CC_10'][:] = cc_1_128_droop_10.iloc[9]"
   ]
  },
  {
   "cell_type": "code",
   "execution_count": 175,
   "id": "2c3a287f",
   "metadata": {},
   "outputs": [],
   "source": [
    "df2.loc[('droop',128,1)]['CC_20'][:] = cc_1_128_droop_20.iloc[0]\n",
    "df2.loc[('droop',128,2)]['CC_20'][:] = cc_1_128_droop_20.iloc[1]\n",
    "df2.loc[('droop',128,3)]['CC_20'][:] = cc_1_128_droop_20.iloc[2]\n",
    "df2.loc[('droop',128,4)]['CC_20'][:] = cc_1_128_droop_20.iloc[3]\n",
    "df2.loc[('droop',128,5)]['CC_20'][:] = cc_1_128_droop_20.iloc[4]\n",
    "df2.loc[('droop',128,6)]['CC_20'][:] = cc_1_128_droop_20.iloc[5]\n",
    "df2.loc[('droop',128,7)]['CC_20'][:] = cc_1_128_droop_20.iloc[6]\n",
    "df2.loc[('droop',128,8)]['CC_20'][:] = cc_1_128_droop_20.iloc[7]\n",
    "df2.loc[('droop',128,9)]['CC_20'][:] = cc_1_128_droop_20.iloc[8]\n",
    "df2.loc[('droop',128,10)]['CC_20'][:] = cc_1_128_droop_20.iloc[9]"
   ]
  },
  {
   "cell_type": "code",
   "execution_count": 176,
   "id": "be4afcd6",
   "metadata": {},
   "outputs": [],
   "source": [
    "df2.loc[('droop',128,1)]['CC_50'][:] = cc_1_128_droop_50.iloc[0]\n",
    "df2.loc[('droop',128,2)]['CC_50'][:] = cc_1_128_droop_50.iloc[1]\n",
    "df2.loc[('droop',128,3)]['CC_50'][:] = cc_1_128_droop_50.iloc[2]\n",
    "df2.loc[('droop',128,4)]['CC_50'][:] = cc_1_128_droop_50.iloc[3]\n",
    "df2.loc[('droop',128,5)]['CC_50'][:] = cc_1_128_droop_50.iloc[4]\n",
    "df2.loc[('droop',128,6)]['CC_50'][:] = cc_1_128_droop_50.iloc[5]\n",
    "df2.loc[('droop',128,7)]['CC_50'][:] = cc_1_128_droop_50.iloc[6]\n",
    "df2.loc[('droop',128,8)]['CC_50'][:] = cc_1_128_droop_50.iloc[7]\n",
    "df2.loc[('droop',128,9)]['CC_50'][:] = cc_1_128_droop_50.iloc[8]\n",
    "df2.loc[('droop',128,10)]['CC_50'][:] = cc_1_128_droop_50.iloc[9]"
   ]
  },
  {
   "cell_type": "markdown",
   "id": "1358bd94",
   "metadata": {},
   "source": [
    "res 1/256"
   ]
  },
  {
   "cell_type": "code",
   "execution_count": 177,
   "id": "272515ec",
   "metadata": {},
   "outputs": [],
   "source": [
    "df2.loc[('droop',256,1)]['CC_5'][:] = cc_1_256_droop_5.iloc[0]\n",
    "df2.loc[('droop',256,2)]['CC_5'][:] = cc_1_256_droop_5.iloc[1]\n",
    "df2.loc[('droop',256,3)]['CC_5'][:] = cc_1_256_droop_5.iloc[2]\n",
    "df2.loc[('droop',256,4)]['CC_5'][:] = cc_1_256_droop_5.iloc[3]\n",
    "df2.loc[('droop',256,5)]['CC_5'][:] = cc_1_256_droop_5.iloc[4]\n",
    "df2.loc[('droop',256,6)]['CC_5'][:] = cc_1_256_droop_5.iloc[5]\n",
    "df2.loc[('droop',256,7)]['CC_5'][:] = cc_1_256_droop_5.iloc[6]\n",
    "df2.loc[('droop',256,8)]['CC_5'][:] = cc_1_256_droop_5.iloc[7]\n",
    "df2.loc[('droop',256,9)]['CC_5'][:] = cc_1_256_droop_5.iloc[8]\n",
    "df2.loc[('droop',256,10)]['CC_5'][:] = cc_1_256_droop_5.iloc[9]"
   ]
  },
  {
   "cell_type": "code",
   "execution_count": 178,
   "id": "17717eb2",
   "metadata": {},
   "outputs": [],
   "source": [
    "df2.loc[('droop',256,1)]['CC_10'][:] = cc_1_256_droop_10.iloc[0]\n",
    "df2.loc[('droop',256,2)]['CC_10'][:] = cc_1_256_droop_10.iloc[1]\n",
    "df2.loc[('droop',256,3)]['CC_10'][:] = cc_1_256_droop_10.iloc[2]\n",
    "df2.loc[('droop',256,4)]['CC_10'][:] = cc_1_256_droop_10.iloc[3]\n",
    "df2.loc[('droop',256,5)]['CC_10'][:] = cc_1_256_droop_10.iloc[4]\n",
    "df2.loc[('droop',256,6)]['CC_10'][:] = cc_1_256_droop_10.iloc[5]\n",
    "df2.loc[('droop',256,7)]['CC_10'][:] = cc_1_256_droop_10.iloc[6]\n",
    "df2.loc[('droop',256,8)]['CC_10'][:] = cc_1_256_droop_10.iloc[7]\n",
    "df2.loc[('droop',256,9)]['CC_10'][:] = cc_1_256_droop_10.iloc[8]\n",
    "df2.loc[('droop',256,10)]['CC_10'][:] = cc_1_256_droop_10.iloc[9]"
   ]
  },
  {
   "cell_type": "code",
   "execution_count": 179,
   "id": "c7665e2c",
   "metadata": {},
   "outputs": [],
   "source": [
    "df2.loc[('droop',256,1)]['CC_20'][:] = cc_1_256_droop_20.iloc[0]\n",
    "df2.loc[('droop',256,2)]['CC_20'][:] = cc_1_256_droop_20.iloc[1]\n",
    "df2.loc[('droop',256,3)]['CC_20'][:] = cc_1_256_droop_20.iloc[2]\n",
    "df2.loc[('droop',256,4)]['CC_20'][:] = cc_1_256_droop_20.iloc[3]\n",
    "df2.loc[('droop',256,5)]['CC_20'][:] = cc_1_256_droop_20.iloc[4]\n",
    "df2.loc[('droop',256,6)]['CC_20'][:] = cc_1_256_droop_20.iloc[5]\n",
    "df2.loc[('droop',256,7)]['CC_20'][:] = cc_1_256_droop_20.iloc[6]\n",
    "df2.loc[('droop',256,8)]['CC_20'][:] = cc_1_256_droop_20.iloc[7]\n",
    "df2.loc[('droop',256,9)]['CC_20'][:] = cc_1_256_droop_20.iloc[8]\n",
    "df2.loc[('droop',256,10)]['CC_20'][:] = cc_1_256_droop_20.iloc[9]"
   ]
  },
  {
   "cell_type": "code",
   "execution_count": 180,
   "id": "c6fc20c1",
   "metadata": {},
   "outputs": [],
   "source": [
    "df2.loc[('droop',256,1)]['CC_50'][:] = cc_1_256_droop_50.iloc[0]\n",
    "df2.loc[('droop',256,2)]['CC_50'][:] = cc_1_256_droop_50.iloc[1]\n",
    "df2.loc[('droop',256,3)]['CC_50'][:] = cc_1_256_droop_50.iloc[2]\n",
    "df2.loc[('droop',256,4)]['CC_50'][:] = cc_1_256_droop_50.iloc[3]\n",
    "df2.loc[('droop',256,5)]['CC_50'][:] = cc_1_256_droop_50.iloc[4]\n",
    "df2.loc[('droop',256,6)]['CC_50'][:] = cc_1_256_droop_50.iloc[5]\n",
    "df2.loc[('droop',256,7)]['CC_50'][:] = cc_1_256_droop_50.iloc[6]\n",
    "df2.loc[('droop',256,8)]['CC_50'][:] = cc_1_256_droop_50.iloc[7]\n",
    "df2.loc[('droop',256,9)]['CC_50'][:] = cc_1_256_droop_50.iloc[8]\n",
    "df2.loc[('droop',256,10)]['CC_50'][:] = cc_1_256_droop_50.iloc[9]"
   ]
  },
  {
   "cell_type": "markdown",
   "id": "113176d8",
   "metadata": {},
   "source": [
    "Equal model.\n",
    "\n",
    "res 1/2"
   ]
  },
  {
   "cell_type": "code",
   "execution_count": 181,
   "id": "b6d9eb91",
   "metadata": {},
   "outputs": [],
   "source": [
    "df2.loc[('equal',2,1)]['CC_5'][:] = cc_1_2_equal_5.iloc[0]\n",
    "df2.loc[('equal',2,2)]['CC_5'][:] = cc_1_2_equal_5.iloc[1]\n",
    "df2.loc[('equal',2,3)]['CC_5'][:] = cc_1_2_equal_5.iloc[2]\n",
    "df2.loc[('equal',2,4)]['CC_5'][:] = cc_1_2_equal_5.iloc[3]\n",
    "df2.loc[('equal',2,5)]['CC_5'][:] = cc_1_2_equal_5.iloc[4]\n",
    "df2.loc[('equal',2,6)]['CC_5'][:] = cc_1_2_equal_5.iloc[5]\n",
    "df2.loc[('equal',2,7)]['CC_5'][:] = cc_1_2_equal_5.iloc[6]\n",
    "df2.loc[('equal',2,8)]['CC_5'][:] = cc_1_2_equal_5.iloc[7]\n",
    "df2.loc[('equal',2,9)]['CC_5'][:] = cc_1_2_equal_5.iloc[8]\n",
    "df2.loc[('equal',2,10)]['CC_5'][:] = cc_1_2_equal_5.iloc[9]"
   ]
  },
  {
   "cell_type": "code",
   "execution_count": 182,
   "id": "084ffaf4",
   "metadata": {},
   "outputs": [],
   "source": [
    "df2.loc[('equal',2,1)]['CC_10'][:] = cc_1_2_equal_10.iloc[0]\n",
    "df2.loc[('equal',2,2)]['CC_10'][:] = cc_1_2_equal_10.iloc[1]\n",
    "df2.loc[('equal',2,3)]['CC_10'][:] = cc_1_2_equal_10.iloc[2]\n",
    "df2.loc[('equal',2,4)]['CC_10'][:] = cc_1_2_equal_10.iloc[3]\n",
    "df2.loc[('equal',2,5)]['CC_10'][:] = cc_1_2_equal_10.iloc[4]\n",
    "df2.loc[('equal',2,6)]['CC_10'][:] = cc_1_2_equal_10.iloc[5]\n",
    "df2.loc[('equal',2,7)]['CC_10'][:] = cc_1_2_equal_10.iloc[6]\n",
    "df2.loc[('equal',2,8)]['CC_10'][:] = cc_1_2_equal_10.iloc[7]\n",
    "df2.loc[('equal',2,9)]['CC_10'][:] = cc_1_2_equal_10.iloc[8]\n",
    "df2.loc[('equal',2,10)]['CC_10'][:] = cc_1_2_equal_10.iloc[9]"
   ]
  },
  {
   "cell_type": "code",
   "execution_count": 183,
   "id": "a927739c",
   "metadata": {},
   "outputs": [],
   "source": [
    "df2.loc[('equal',2,1)]['CC_20'][:] = cc_1_2_equal_20.iloc[0]\n",
    "df2.loc[('equal',2,2)]['CC_20'][:] = cc_1_2_equal_20.iloc[1]\n",
    "df2.loc[('equal',2,3)]['CC_20'][:] = cc_1_2_equal_20.iloc[2]\n",
    "df2.loc[('equal',2,4)]['CC_20'][:] = cc_1_2_equal_20.iloc[3]\n",
    "df2.loc[('equal',2,5)]['CC_20'][:] = cc_1_2_equal_20.iloc[4]\n",
    "df2.loc[('equal',2,6)]['CC_20'][:] = cc_1_2_equal_20.iloc[5]\n",
    "df2.loc[('equal',2,7)]['CC_20'][:] = cc_1_2_equal_20.iloc[6]\n",
    "df2.loc[('equal',2,8)]['CC_20'][:] = cc_1_2_equal_20.iloc[7]\n",
    "df2.loc[('equal',2,9)]['CC_20'][:] = cc_1_2_equal_20.iloc[8]\n",
    "df2.loc[('equal',2,10)]['CC_20'][:] = cc_1_2_equal_20.iloc[9]"
   ]
  },
  {
   "cell_type": "code",
   "execution_count": 184,
   "id": "79a8badf",
   "metadata": {},
   "outputs": [],
   "source": [
    "df2.loc[('equal',2,1)]['CC_50'][:] = cc_1_2_equal_50.iloc[0]\n",
    "df2.loc[('equal',2,2)]['CC_50'][:] = cc_1_2_equal_50.iloc[1]\n",
    "df2.loc[('equal',2,3)]['CC_50'][:] = cc_1_2_equal_50.iloc[2]\n",
    "df2.loc[('equal',2,4)]['CC_50'][:] = cc_1_2_equal_50.iloc[3]\n",
    "df2.loc[('equal',2,5)]['CC_50'][:] = cc_1_2_equal_50.iloc[4]\n",
    "df2.loc[('equal',2,6)]['CC_50'][:] = cc_1_2_equal_50.iloc[5]\n",
    "df2.loc[('equal',2,7)]['CC_50'][:] = cc_1_2_equal_50.iloc[6]\n",
    "df2.loc[('equal',2,8)]['CC_50'][:] = cc_1_2_equal_50.iloc[7]\n",
    "df2.loc[('equal',2,9)]['CC_50'][:] = cc_1_2_equal_50.iloc[8]\n",
    "df2.loc[('equal',2,10)]['CC_50'][:] = cc_1_2_equal_50.iloc[9]"
   ]
  },
  {
   "cell_type": "markdown",
   "id": "e765c348",
   "metadata": {},
   "source": [
    "res 1/4"
   ]
  },
  {
   "cell_type": "code",
   "execution_count": 185,
   "id": "d159adc2",
   "metadata": {},
   "outputs": [],
   "source": [
    "df2.loc[('equal',4,1)]['CC_5'][:] = cc_1_4_equal_5.iloc[0]\n",
    "df2.loc[('equal',4,2)]['CC_5'][:] = cc_1_4_equal_5.iloc[1]\n",
    "df2.loc[('equal',4,3)]['CC_5'][:] = cc_1_4_equal_5.iloc[2]\n",
    "df2.loc[('equal',4,4)]['CC_5'][:] = cc_1_4_equal_5.iloc[3]\n",
    "df2.loc[('equal',4,5)]['CC_5'][:] = cc_1_4_equal_5.iloc[4]\n",
    "df2.loc[('equal',4,6)]['CC_5'][:] = cc_1_4_equal_5.iloc[5]\n",
    "df2.loc[('equal',4,7)]['CC_5'][:] = cc_1_4_equal_5.iloc[6]\n",
    "df2.loc[('equal',4,8)]['CC_5'][:] = cc_1_4_equal_5.iloc[7]\n",
    "df2.loc[('equal',4,9)]['CC_5'][:] = cc_1_4_equal_5.iloc[8]\n",
    "df2.loc[('equal',4,10)]['CC_5'][:] = cc_1_4_equal_5.iloc[9]"
   ]
  },
  {
   "cell_type": "code",
   "execution_count": 186,
   "id": "61657d2e",
   "metadata": {},
   "outputs": [],
   "source": [
    "df2.loc[('equal',4,1)]['CC_10'][:] = cc_1_4_equal_10.iloc[0]\n",
    "df2.loc[('equal',4,2)]['CC_10'][:] = cc_1_4_equal_10.iloc[1]\n",
    "df2.loc[('equal',4,3)]['CC_10'][:] = cc_1_4_equal_10.iloc[2]\n",
    "df2.loc[('equal',4,4)]['CC_10'][:] = cc_1_4_equal_10.iloc[3]\n",
    "df2.loc[('equal',4,5)]['CC_10'][:] = cc_1_4_equal_10.iloc[4]\n",
    "df2.loc[('equal',4,6)]['CC_10'][:] = cc_1_4_equal_10.iloc[5]\n",
    "df2.loc[('equal',4,7)]['CC_10'][:] = cc_1_4_equal_10.iloc[6]\n",
    "df2.loc[('equal',4,8)]['CC_10'][:] = cc_1_4_equal_10.iloc[7]\n",
    "df2.loc[('equal',4,9)]['CC_10'][:] = cc_1_4_equal_10.iloc[8]\n",
    "df2.loc[('equal',4,10)]['CC_10'][:] = cc_1_4_equal_10.iloc[9]"
   ]
  },
  {
   "cell_type": "code",
   "execution_count": 187,
   "id": "7f79b5af",
   "metadata": {},
   "outputs": [],
   "source": [
    "df2.loc[('equal',4,1)]['CC_20'][:] = cc_1_4_equal_20.iloc[0]\n",
    "df2.loc[('equal',4,2)]['CC_20'][:] = cc_1_4_equal_20.iloc[1]\n",
    "df2.loc[('equal',4,3)]['CC_20'][:] = cc_1_4_equal_20.iloc[2]\n",
    "df2.loc[('equal',4,4)]['CC_20'][:] = cc_1_4_equal_20.iloc[3]\n",
    "df2.loc[('equal',4,5)]['CC_20'][:] = cc_1_4_equal_20.iloc[4]\n",
    "df2.loc[('equal',4,6)]['CC_20'][:] = cc_1_4_equal_20.iloc[5]\n",
    "df2.loc[('equal',4,7)]['CC_20'][:] = cc_1_4_equal_20.iloc[6]\n",
    "df2.loc[('equal',4,8)]['CC_20'][:] = cc_1_4_equal_20.iloc[7]\n",
    "df2.loc[('equal',4,9)]['CC_20'][:] = cc_1_4_equal_20.iloc[8]\n",
    "df2.loc[('equal',4,10)]['CC_20'][:] = cc_1_4_equal_20.iloc[9]"
   ]
  },
  {
   "cell_type": "code",
   "execution_count": 188,
   "id": "2f7f52a8",
   "metadata": {},
   "outputs": [],
   "source": [
    "df2.loc[('equal',4,1)]['CC_50'][:] = cc_1_4_equal_50.iloc[0]\n",
    "df2.loc[('equal',4,2)]['CC_50'][:] = cc_1_4_equal_50.iloc[1]\n",
    "df2.loc[('equal',4,3)]['CC_50'][:] = cc_1_4_equal_50.iloc[2]\n",
    "df2.loc[('equal',4,4)]['CC_50'][:] = cc_1_4_equal_50.iloc[3]\n",
    "df2.loc[('equal',4,5)]['CC_50'][:] = cc_1_4_equal_50.iloc[4]\n",
    "df2.loc[('equal',4,6)]['CC_50'][:] = cc_1_4_equal_50.iloc[5]\n",
    "df2.loc[('equal',4,7)]['CC_50'][:] = cc_1_4_equal_50.iloc[6]\n",
    "df2.loc[('equal',4,8)]['CC_50'][:] = cc_1_4_equal_50.iloc[7]\n",
    "df2.loc[('equal',4,9)]['CC_50'][:] = cc_1_4_equal_50.iloc[8]\n",
    "df2.loc[('equal',4,10)]['CC_50'][:] = cc_1_4_equal_50.iloc[9]"
   ]
  },
  {
   "cell_type": "markdown",
   "id": "64642714",
   "metadata": {},
   "source": [
    "res 1/8"
   ]
  },
  {
   "cell_type": "code",
   "execution_count": 189,
   "id": "ffd7bf47",
   "metadata": {},
   "outputs": [],
   "source": [
    "df2.loc[('equal',8,1)]['CC_5'][:] = cc_1_8_equal_5.iloc[0]\n",
    "df2.loc[('equal',8,2)]['CC_5'][:] = cc_1_8_equal_5.iloc[1]\n",
    "df2.loc[('equal',8,3)]['CC_5'][:] = cc_1_8_equal_5.iloc[2]\n",
    "df2.loc[('equal',8,4)]['CC_5'][:] = cc_1_8_equal_5.iloc[3]\n",
    "df2.loc[('equal',8,5)]['CC_5'][:] = cc_1_8_equal_5.iloc[4]\n",
    "df2.loc[('equal',8,6)]['CC_5'][:] = cc_1_8_equal_5.iloc[5]\n",
    "df2.loc[('equal',8,7)]['CC_5'][:] = cc_1_8_equal_5.iloc[6]\n",
    "df2.loc[('equal',8,8)]['CC_5'][:] = cc_1_8_equal_5.iloc[7]\n",
    "df2.loc[('equal',8,9)]['CC_5'][:] = cc_1_8_equal_5.iloc[8]\n",
    "df2.loc[('equal',8,10)]['CC_5'][:] = cc_1_8_equal_5.iloc[9]"
   ]
  },
  {
   "cell_type": "code",
   "execution_count": 190,
   "id": "65ea2861",
   "metadata": {},
   "outputs": [],
   "source": [
    "df2.loc[('equal',8,1)]['CC_10'][:] = cc_1_8_equal_10.iloc[0]\n",
    "df2.loc[('equal',8,2)]['CC_10'][:] = cc_1_8_equal_10.iloc[1]\n",
    "df2.loc[('equal',8,3)]['CC_10'][:] = cc_1_8_equal_10.iloc[2]\n",
    "df2.loc[('equal',8,4)]['CC_10'][:] = cc_1_8_equal_10.iloc[3]\n",
    "df2.loc[('equal',8,5)]['CC_10'][:] = cc_1_8_equal_10.iloc[4]\n",
    "df2.loc[('equal',8,6)]['CC_10'][:] = cc_1_8_equal_10.iloc[5]\n",
    "df2.loc[('equal',8,7)]['CC_10'][:] = cc_1_8_equal_10.iloc[6]\n",
    "df2.loc[('equal',8,8)]['CC_10'][:] = cc_1_8_equal_10.iloc[7]\n",
    "df2.loc[('equal',8,9)]['CC_10'][:] = cc_1_8_equal_10.iloc[8]\n",
    "df2.loc[('equal',8,10)]['CC_10'][:] = cc_1_8_equal_10.iloc[9]"
   ]
  },
  {
   "cell_type": "code",
   "execution_count": 191,
   "id": "e0f29d94",
   "metadata": {},
   "outputs": [],
   "source": [
    "df2.loc[('equal',8,1)]['CC_20'][:] = cc_1_8_equal_20.iloc[0]\n",
    "df2.loc[('equal',8,2)]['CC_20'][:] = cc_1_8_equal_20.iloc[1]\n",
    "df2.loc[('equal',8,3)]['CC_20'][:] = cc_1_8_equal_20.iloc[2]\n",
    "df2.loc[('equal',8,4)]['CC_20'][:] = cc_1_8_equal_20.iloc[3]\n",
    "df2.loc[('equal',8,5)]['CC_20'][:] = cc_1_8_equal_20.iloc[4]\n",
    "df2.loc[('equal',8,6)]['CC_20'][:] = cc_1_8_equal_20.iloc[5]\n",
    "df2.loc[('equal',8,7)]['CC_20'][:] = cc_1_8_equal_20.iloc[6]\n",
    "df2.loc[('equal',8,8)]['CC_20'][:] = cc_1_8_equal_20.iloc[7]\n",
    "df2.loc[('equal',8,9)]['CC_20'][:] = cc_1_8_equal_20.iloc[8]\n",
    "df2.loc[('equal',8,10)]['CC_20'][:] = cc_1_8_equal_20.iloc[9]"
   ]
  },
  {
   "cell_type": "code",
   "execution_count": 192,
   "id": "7927914c",
   "metadata": {},
   "outputs": [],
   "source": [
    "df2.loc[('equal',8,1)]['CC_50'][:] = cc_1_8_equal_50.iloc[0]\n",
    "df2.loc[('equal',8,2)]['CC_50'][:] = cc_1_8_equal_50.iloc[1]\n",
    "df2.loc[('equal',8,3)]['CC_50'][:] = cc_1_8_equal_50.iloc[2]\n",
    "df2.loc[('equal',8,4)]['CC_50'][:] = cc_1_8_equal_50.iloc[3]\n",
    "df2.loc[('equal',8,5)]['CC_50'][:] = cc_1_8_equal_50.iloc[4]\n",
    "df2.loc[('equal',8,6)]['CC_50'][:] = cc_1_8_equal_50.iloc[5]\n",
    "df2.loc[('equal',8,7)]['CC_50'][:] = cc_1_8_equal_50.iloc[6]\n",
    "df2.loc[('equal',8,8)]['CC_50'][:] = cc_1_8_equal_50.iloc[7]\n",
    "df2.loc[('equal',8,9)]['CC_50'][:] = cc_1_8_equal_50.iloc[8]\n",
    "df2.loc[('equal',8,10)]['CC_50'][:] = cc_1_8_equal_50.iloc[9]"
   ]
  },
  {
   "cell_type": "markdown",
   "id": "fda6f063",
   "metadata": {},
   "source": [
    "res 1/16"
   ]
  },
  {
   "cell_type": "code",
   "execution_count": 193,
   "id": "f1a9d236",
   "metadata": {},
   "outputs": [],
   "source": [
    "df2.loc[('equal',16,1)]['CC_5'][:] = cc_1_16_equal_5.iloc[0]\n",
    "df2.loc[('equal',16,2)]['CC_5'][:] = cc_1_16_equal_5.iloc[1]\n",
    "df2.loc[('equal',16,3)]['CC_5'][:] = cc_1_16_equal_5.iloc[2]\n",
    "df2.loc[('equal',16,4)]['CC_5'][:] = cc_1_16_equal_5.iloc[3]\n",
    "df2.loc[('equal',16,5)]['CC_5'][:] = cc_1_16_equal_5.iloc[4]\n",
    "df2.loc[('equal',16,6)]['CC_5'][:] = cc_1_16_equal_5.iloc[5]\n",
    "df2.loc[('equal',16,7)]['CC_5'][:] = cc_1_16_equal_5.iloc[6]\n",
    "df2.loc[('equal',16,8)]['CC_5'][:] = cc_1_16_equal_5.iloc[7]\n",
    "df2.loc[('equal',16,9)]['CC_5'][:] = cc_1_16_equal_5.iloc[8]\n",
    "df2.loc[('equal',16,10)]['CC_5'][:] = cc_1_16_equal_5.iloc[9]"
   ]
  },
  {
   "cell_type": "code",
   "execution_count": 194,
   "id": "72e3bda9",
   "metadata": {},
   "outputs": [],
   "source": [
    "df2.loc[('equal',16,1)]['CC_10'][:] = cc_1_16_equal_10.iloc[0]\n",
    "df2.loc[('equal',16,2)]['CC_10'][:] = cc_1_16_equal_10.iloc[1]\n",
    "df2.loc[('equal',16,3)]['CC_10'][:] = cc_1_16_equal_10.iloc[2]\n",
    "df2.loc[('equal',16,4)]['CC_10'][:] = cc_1_16_equal_10.iloc[3]\n",
    "df2.loc[('equal',16,5)]['CC_10'][:] = cc_1_16_equal_10.iloc[4]\n",
    "df2.loc[('equal',16,6)]['CC_10'][:] = cc_1_16_equal_10.iloc[5]\n",
    "df2.loc[('equal',16,7)]['CC_10'][:] = cc_1_16_equal_10.iloc[6]\n",
    "df2.loc[('equal',16,8)]['CC_10'][:] = cc_1_16_equal_10.iloc[7]\n",
    "df2.loc[('equal',16,9)]['CC_10'][:] = cc_1_16_equal_10.iloc[8]\n",
    "df2.loc[('equal',16,10)]['CC_10'][:] = cc_1_16_equal_10.iloc[9]"
   ]
  },
  {
   "cell_type": "code",
   "execution_count": 195,
   "id": "9d27934e",
   "metadata": {},
   "outputs": [],
   "source": [
    "df2.loc[('equal',16,1)]['CC_20'][:] = cc_1_16_equal_20.iloc[0]\n",
    "df2.loc[('equal',16,2)]['CC_20'][:] = cc_1_16_equal_20.iloc[1]\n",
    "df2.loc[('equal',16,3)]['CC_20'][:] = cc_1_16_equal_20.iloc[2]\n",
    "df2.loc[('equal',16,4)]['CC_20'][:] = cc_1_16_equal_20.iloc[3]\n",
    "df2.loc[('equal',16,5)]['CC_20'][:] = cc_1_16_equal_20.iloc[4]\n",
    "df2.loc[('equal',16,6)]['CC_20'][:] = cc_1_16_equal_20.iloc[5]\n",
    "df2.loc[('equal',16,7)]['CC_20'][:] = cc_1_16_equal_20.iloc[6]\n",
    "df2.loc[('equal',16,8)]['CC_20'][:] = cc_1_16_equal_20.iloc[7]\n",
    "df2.loc[('equal',16,9)]['CC_20'][:] = cc_1_16_equal_20.iloc[8]\n",
    "df2.loc[('equal',16,10)]['CC_20'][:] = cc_1_16_equal_20.iloc[9]"
   ]
  },
  {
   "cell_type": "code",
   "execution_count": 196,
   "id": "ea8ad803",
   "metadata": {},
   "outputs": [],
   "source": [
    "df2.loc[('equal',16,1)]['CC_50'][:] = cc_1_16_equal_50.iloc[0]\n",
    "df2.loc[('equal',16,2)]['CC_50'][:] = cc_1_16_equal_50.iloc[1]\n",
    "df2.loc[('equal',16,3)]['CC_50'][:] = cc_1_16_equal_50.iloc[2]\n",
    "df2.loc[('equal',16,4)]['CC_50'][:] = cc_1_16_equal_50.iloc[3]\n",
    "df2.loc[('equal',16,5)]['CC_50'][:] = cc_1_16_equal_50.iloc[4]\n",
    "df2.loc[('equal',16,6)]['CC_50'][:] = cc_1_16_equal_50.iloc[5]\n",
    "df2.loc[('equal',16,7)]['CC_50'][:] = cc_1_16_equal_50.iloc[6]\n",
    "df2.loc[('equal',16,8)]['CC_50'][:] = cc_1_16_equal_50.iloc[7]\n",
    "df2.loc[('equal',16,9)]['CC_50'][:] = cc_1_16_equal_50.iloc[8]\n",
    "df2.loc[('equal',16,10)]['CC_50'][:] = cc_1_16_equal_50.iloc[9]"
   ]
  },
  {
   "cell_type": "markdown",
   "id": "a41d352c",
   "metadata": {},
   "source": [
    "res 1/32"
   ]
  },
  {
   "cell_type": "code",
   "execution_count": 197,
   "id": "57005fc7",
   "metadata": {},
   "outputs": [],
   "source": [
    "df2.loc[('equal',32,1)]['CC_5'][:] = cc_1_32_equal_5.iloc[0]\n",
    "df2.loc[('equal',32,2)]['CC_5'][:] = cc_1_32_equal_5.iloc[1]\n",
    "df2.loc[('equal',32,3)]['CC_5'][:] = cc_1_32_equal_5.iloc[2]\n",
    "df2.loc[('equal',32,4)]['CC_5'][:] = cc_1_32_equal_5.iloc[3]\n",
    "df2.loc[('equal',32,5)]['CC_5'][:] = cc_1_32_equal_5.iloc[4]\n",
    "df2.loc[('equal',32,6)]['CC_5'][:] = cc_1_32_equal_5.iloc[5]\n",
    "df2.loc[('equal',32,7)]['CC_5'][:] = cc_1_32_equal_5.iloc[6]\n",
    "df2.loc[('equal',32,8)]['CC_5'][:] = cc_1_32_equal_5.iloc[7]\n",
    "df2.loc[('equal',32,9)]['CC_5'][:] = cc_1_32_equal_5.iloc[8]\n",
    "df2.loc[('equal',32,10)]['CC_5'][:] = cc_1_32_equal_5.iloc[9]"
   ]
  },
  {
   "cell_type": "code",
   "execution_count": 198,
   "id": "f4a5e099",
   "metadata": {},
   "outputs": [],
   "source": [
    "df2.loc[('equal',32,1)]['CC_10'][:] = cc_1_32_equal_10.iloc[0]\n",
    "df2.loc[('equal',32,2)]['CC_10'][:] = cc_1_32_equal_10.iloc[1]\n",
    "df2.loc[('equal',32,3)]['CC_10'][:] = cc_1_32_equal_10.iloc[2]\n",
    "df2.loc[('equal',32,4)]['CC_10'][:] = cc_1_32_equal_10.iloc[3]\n",
    "df2.loc[('equal',32,5)]['CC_10'][:] = cc_1_32_equal_10.iloc[4]\n",
    "df2.loc[('equal',32,6)]['CC_10'][:] = cc_1_32_equal_10.iloc[5]\n",
    "df2.loc[('equal',32,7)]['CC_10'][:] = cc_1_32_equal_10.iloc[6]\n",
    "df2.loc[('equal',32,8)]['CC_10'][:] = cc_1_32_equal_10.iloc[7]\n",
    "df2.loc[('equal',32,9)]['CC_10'][:] = cc_1_32_equal_10.iloc[8]\n",
    "df2.loc[('equal',32,10)]['CC_10'][:] = cc_1_32_equal_10.iloc[9]"
   ]
  },
  {
   "cell_type": "code",
   "execution_count": 199,
   "id": "2c94618d",
   "metadata": {},
   "outputs": [],
   "source": [
    "df2.loc[('equal',32,1)]['CC_20'][:] = cc_1_32_equal_20.iloc[0]\n",
    "df2.loc[('equal',32,2)]['CC_20'][:] = cc_1_32_equal_20.iloc[1]\n",
    "df2.loc[('equal',32,3)]['CC_20'][:] = cc_1_32_equal_20.iloc[2]\n",
    "df2.loc[('equal',32,4)]['CC_20'][:] = cc_1_32_equal_20.iloc[3]\n",
    "df2.loc[('equal',32,5)]['CC_20'][:] = cc_1_32_equal_20.iloc[4]\n",
    "df2.loc[('equal',32,6)]['CC_20'][:] = cc_1_32_equal_20.iloc[5]\n",
    "df2.loc[('equal',32,7)]['CC_20'][:] = cc_1_32_equal_20.iloc[6]\n",
    "df2.loc[('equal',32,8)]['CC_20'][:] = cc_1_32_equal_20.iloc[7]\n",
    "df2.loc[('equal',32,9)]['CC_20'][:] = cc_1_32_equal_20.iloc[8]\n",
    "df2.loc[('equal',32,10)]['CC_20'][:] = cc_1_32_equal_20.iloc[9]"
   ]
  },
  {
   "cell_type": "code",
   "execution_count": 200,
   "id": "b0b4bfa2",
   "metadata": {},
   "outputs": [],
   "source": [
    "df2.loc[('equal',32,1)]['CC_50'][:] = cc_1_32_equal_50.iloc[0]\n",
    "df2.loc[('equal',32,2)]['CC_50'][:] = cc_1_32_equal_50.iloc[1]\n",
    "df2.loc[('equal',32,3)]['CC_50'][:] = cc_1_32_equal_50.iloc[2]\n",
    "df2.loc[('equal',32,4)]['CC_50'][:] = cc_1_32_equal_50.iloc[3]\n",
    "df2.loc[('equal',32,5)]['CC_50'][:] = cc_1_32_equal_50.iloc[4]\n",
    "df2.loc[('equal',32,6)]['CC_50'][:] = cc_1_32_equal_50.iloc[5]\n",
    "df2.loc[('equal',32,7)]['CC_50'][:] = cc_1_32_equal_50.iloc[6]\n",
    "df2.loc[('equal',32,8)]['CC_50'][:] = cc_1_32_equal_50.iloc[7]\n",
    "df2.loc[('equal',32,9)]['CC_50'][:] = cc_1_32_equal_50.iloc[8]\n",
    "df2.loc[('equal',32,10)]['CC_50'][:] = cc_1_32_equal_50.iloc[9]"
   ]
  },
  {
   "cell_type": "markdown",
   "id": "1f395f00",
   "metadata": {},
   "source": [
    "res 1/64"
   ]
  },
  {
   "cell_type": "code",
   "execution_count": 201,
   "id": "4cf5d83b",
   "metadata": {},
   "outputs": [],
   "source": [
    "df2.loc[('equal',64,1)]['CC_5'][:] = cc_1_64_equal_5.iloc[0]\n",
    "df2.loc[('equal',64,2)]['CC_5'][:] = cc_1_64_equal_5.iloc[1]\n",
    "df2.loc[('equal',64,3)]['CC_5'][:] = cc_1_64_equal_5.iloc[2]\n",
    "df2.loc[('equal',64,4)]['CC_5'][:] = cc_1_64_equal_5.iloc[3]\n",
    "df2.loc[('equal',64,5)]['CC_5'][:] = cc_1_64_equal_5.iloc[4]\n",
    "df2.loc[('equal',64,6)]['CC_5'][:] = cc_1_64_equal_5.iloc[5]\n",
    "df2.loc[('equal',64,7)]['CC_5'][:] = cc_1_64_equal_5.iloc[6]\n",
    "df2.loc[('equal',64,8)]['CC_5'][:] = cc_1_64_equal_5.iloc[7]\n",
    "df2.loc[('equal',64,9)]['CC_5'][:] = cc_1_64_equal_5.iloc[8]\n",
    "df2.loc[('equal',64,10)]['CC_5'][:] = cc_1_64_equal_5.iloc[9]"
   ]
  },
  {
   "cell_type": "code",
   "execution_count": 202,
   "id": "46c596ef",
   "metadata": {},
   "outputs": [],
   "source": [
    "df2.loc[('equal',64,1)]['CC_10'][:] = cc_1_64_equal_10.iloc[0]\n",
    "df2.loc[('equal',64,2)]['CC_10'][:] = cc_1_64_equal_10.iloc[1]\n",
    "df2.loc[('equal',64,3)]['CC_10'][:] = cc_1_64_equal_10.iloc[2]\n",
    "df2.loc[('equal',64,4)]['CC_10'][:] = cc_1_64_equal_10.iloc[3]\n",
    "df2.loc[('equal',64,5)]['CC_10'][:] = cc_1_64_equal_10.iloc[4]\n",
    "df2.loc[('equal',64,6)]['CC_10'][:] = cc_1_64_equal_10.iloc[5]\n",
    "df2.loc[('equal',64,7)]['CC_10'][:] = cc_1_64_equal_10.iloc[6]\n",
    "df2.loc[('equal',64,8)]['CC_10'][:] = cc_1_64_equal_10.iloc[7]\n",
    "df2.loc[('equal',64,9)]['CC_10'][:] = cc_1_64_equal_10.iloc[8]\n",
    "df2.loc[('equal',64,10)]['CC_10'][:] = cc_1_64_equal_10.iloc[9]"
   ]
  },
  {
   "cell_type": "code",
   "execution_count": 203,
   "id": "26a3980d",
   "metadata": {},
   "outputs": [],
   "source": [
    "df2.loc[('equal',64,1)]['CC_20'][:] = cc_1_64_equal_20.iloc[0]\n",
    "df2.loc[('equal',64,2)]['CC_20'][:] = cc_1_64_equal_20.iloc[1]\n",
    "df2.loc[('equal',64,3)]['CC_20'][:] = cc_1_64_equal_20.iloc[2]\n",
    "df2.loc[('equal',64,4)]['CC_20'][:] = cc_1_64_equal_20.iloc[3]\n",
    "df2.loc[('equal',64,5)]['CC_20'][:] = cc_1_64_equal_20.iloc[4]\n",
    "df2.loc[('equal',64,6)]['CC_20'][:] = cc_1_64_equal_20.iloc[5]\n",
    "df2.loc[('equal',64,7)]['CC_20'][:] = cc_1_64_equal_20.iloc[6]\n",
    "df2.loc[('equal',64,8)]['CC_20'][:] = cc_1_64_equal_20.iloc[7]\n",
    "df2.loc[('equal',64,9)]['CC_20'][:] = cc_1_64_equal_20.iloc[8]\n",
    "df2.loc[('equal',64,10)]['CC_20'][:] = cc_1_64_equal_20.iloc[9]"
   ]
  },
  {
   "cell_type": "code",
   "execution_count": 204,
   "id": "c45c9b57",
   "metadata": {},
   "outputs": [],
   "source": [
    "df2.loc[('equal',64,1)]['CC_50'][:] = cc_1_64_equal_50.iloc[0]\n",
    "df2.loc[('equal',64,2)]['CC_50'][:] = cc_1_64_equal_50.iloc[1]\n",
    "df2.loc[('equal',64,3)]['CC_50'][:] = cc_1_64_equal_50.iloc[2]\n",
    "df2.loc[('equal',64,4)]['CC_50'][:] = cc_1_64_equal_50.iloc[3]\n",
    "df2.loc[('equal',64,5)]['CC_50'][:] = cc_1_64_equal_50.iloc[4]\n",
    "df2.loc[('equal',64,6)]['CC_50'][:] = cc_1_64_equal_50.iloc[5]\n",
    "df2.loc[('equal',64,7)]['CC_50'][:] = cc_1_64_equal_50.iloc[6]\n",
    "df2.loc[('equal',64,8)]['CC_50'][:] = cc_1_64_equal_50.iloc[7]\n",
    "df2.loc[('equal',64,9)]['CC_50'][:] = cc_1_64_equal_50.iloc[8]\n",
    "df2.loc[('equal',64,10)]['CC_50'][:] = cc_1_64_equal_50.iloc[9]"
   ]
  },
  {
   "cell_type": "markdown",
   "id": "e9793259",
   "metadata": {},
   "source": [
    "res 1/128"
   ]
  },
  {
   "cell_type": "code",
   "execution_count": 205,
   "id": "a3e932bd",
   "metadata": {},
   "outputs": [],
   "source": [
    "df2.loc[('equal',128,1)]['CC_5'][:] = cc_1_128_equal_5.iloc[0]\n",
    "df2.loc[('equal',128,2)]['CC_5'][:] = cc_1_128_equal_5.iloc[1]\n",
    "df2.loc[('equal',128,3)]['CC_5'][:] = cc_1_128_equal_5.iloc[2]\n",
    "df2.loc[('equal',128,4)]['CC_5'][:] = cc_1_128_equal_5.iloc[3]\n",
    "df2.loc[('equal',128,5)]['CC_5'][:] = cc_1_128_equal_5.iloc[4]\n",
    "df2.loc[('equal',128,6)]['CC_5'][:] = cc_1_128_equal_5.iloc[5]\n",
    "df2.loc[('equal',128,7)]['CC_5'][:] = cc_1_128_equal_5.iloc[6]\n",
    "df2.loc[('equal',128,8)]['CC_5'][:] = cc_1_128_equal_5.iloc[7]\n",
    "df2.loc[('equal',128,9)]['CC_5'][:] = cc_1_128_equal_5.iloc[8]\n",
    "df2.loc[('equal',128,10)]['CC_5'][:] = cc_1_128_equal_5.iloc[9]"
   ]
  },
  {
   "cell_type": "code",
   "execution_count": 206,
   "id": "4a4537e8",
   "metadata": {},
   "outputs": [],
   "source": [
    "df2.loc[('equal',128,1)]['CC_10'][:] = cc_1_128_equal_10.iloc[0]\n",
    "df2.loc[('equal',128,2)]['CC_10'][:] = cc_1_128_equal_10.iloc[1]\n",
    "df2.loc[('equal',128,3)]['CC_10'][:] = cc_1_128_equal_10.iloc[2]\n",
    "df2.loc[('equal',128,4)]['CC_10'][:] = cc_1_128_equal_10.iloc[3]\n",
    "df2.loc[('equal',128,5)]['CC_10'][:] = cc_1_128_equal_10.iloc[4]\n",
    "df2.loc[('equal',128,6)]['CC_10'][:] = cc_1_128_equal_10.iloc[5]\n",
    "df2.loc[('equal',128,7)]['CC_10'][:] = cc_1_128_equal_10.iloc[6]\n",
    "df2.loc[('equal',128,8)]['CC_10'][:] = cc_1_128_equal_10.iloc[7]\n",
    "df2.loc[('equal',128,9)]['CC_10'][:] = cc_1_128_equal_10.iloc[8]\n",
    "df2.loc[('equal',128,10)]['CC_10'][:] = cc_1_128_equal_10.iloc[9]"
   ]
  },
  {
   "cell_type": "code",
   "execution_count": 207,
   "id": "a4d4aa71",
   "metadata": {},
   "outputs": [],
   "source": [
    "df2.loc[('equal',128,1)]['CC_20'][:] = cc_1_128_equal_20.iloc[0]\n",
    "df2.loc[('equal',128,2)]['CC_20'][:] = cc_1_128_equal_20.iloc[1]\n",
    "df2.loc[('equal',128,3)]['CC_20'][:] = cc_1_128_equal_20.iloc[2]\n",
    "df2.loc[('equal',128,4)]['CC_20'][:] = cc_1_128_equal_20.iloc[3]\n",
    "df2.loc[('equal',128,5)]['CC_20'][:] = cc_1_128_equal_20.iloc[4]\n",
    "df2.loc[('equal',128,6)]['CC_20'][:] = cc_1_128_equal_20.iloc[5]\n",
    "df2.loc[('equal',128,7)]['CC_20'][:] = cc_1_128_equal_20.iloc[6]\n",
    "df2.loc[('equal',128,8)]['CC_20'][:] = cc_1_128_equal_20.iloc[7]\n",
    "df2.loc[('equal',128,9)]['CC_20'][:] = cc_1_128_equal_20.iloc[8]\n",
    "df2.loc[('equal',128,10)]['CC_20'][:] = cc_1_128_equal_20.iloc[9]"
   ]
  },
  {
   "cell_type": "code",
   "execution_count": 208,
   "id": "aac410f9",
   "metadata": {},
   "outputs": [],
   "source": [
    "df2.loc[('equal',128,1)]['CC_50'][:] = cc_1_128_equal_50.iloc[0]\n",
    "df2.loc[('equal',128,2)]['CC_50'][:] = cc_1_128_equal_50.iloc[1]\n",
    "df2.loc[('equal',128,3)]['CC_50'][:] = cc_1_128_equal_50.iloc[2]\n",
    "df2.loc[('equal',128,4)]['CC_50'][:] = cc_1_128_equal_50.iloc[3]\n",
    "df2.loc[('equal',128,5)]['CC_50'][:] = cc_1_128_equal_50.iloc[4]\n",
    "df2.loc[('equal',128,6)]['CC_50'][:] = cc_1_128_equal_50.iloc[5]\n",
    "df2.loc[('equal',128,7)]['CC_50'][:] = cc_1_128_equal_50.iloc[6]\n",
    "df2.loc[('equal',128,8)]['CC_50'][:] = cc_1_128_equal_50.iloc[7]\n",
    "df2.loc[('equal',128,9)]['CC_50'][:] = cc_1_128_equal_50.iloc[8]\n",
    "df2.loc[('equal',128,10)]['CC_50'][:] = cc_1_128_equal_50.iloc[9]"
   ]
  },
  {
   "cell_type": "markdown",
   "id": "5d7ff731",
   "metadata": {},
   "source": [
    "res 1/256"
   ]
  },
  {
   "cell_type": "code",
   "execution_count": 209,
   "id": "ddad8f6b",
   "metadata": {},
   "outputs": [],
   "source": [
    "df2.loc[('equal',256,1)]['CC_5'][:] = cc_1_256_equal_5.iloc[0]\n",
    "df2.loc[('equal',256,2)]['CC_5'][:] = cc_1_256_equal_5.iloc[1]\n",
    "df2.loc[('equal',256,3)]['CC_5'][:] = cc_1_256_equal_5.iloc[2]\n",
    "df2.loc[('equal',256,4)]['CC_5'][:] = cc_1_256_equal_5.iloc[3]\n",
    "df2.loc[('equal',256,5)]['CC_5'][:] = cc_1_256_equal_5.iloc[4]\n",
    "df2.loc[('equal',256,6)]['CC_5'][:] = cc_1_256_equal_5.iloc[5]\n",
    "df2.loc[('equal',256,7)]['CC_5'][:] = cc_1_256_equal_5.iloc[6]\n",
    "df2.loc[('equal',256,8)]['CC_5'][:] = cc_1_256_equal_5.iloc[7]\n",
    "df2.loc[('equal',256,9)]['CC_5'][:] = cc_1_256_equal_5.iloc[8]\n",
    "df2.loc[('equal',256,10)]['CC_5'][:] = cc_1_256_equal_5.iloc[9]"
   ]
  },
  {
   "cell_type": "code",
   "execution_count": 210,
   "id": "a21249f3",
   "metadata": {},
   "outputs": [],
   "source": [
    "df2.loc[('equal',256,1)]['CC_10'][:] = cc_1_256_equal_10.iloc[0]\n",
    "df2.loc[('equal',256,2)]['CC_10'][:] = cc_1_256_equal_10.iloc[1]\n",
    "df2.loc[('equal',256,3)]['CC_10'][:] = cc_1_256_equal_10.iloc[2]\n",
    "df2.loc[('equal',256,4)]['CC_10'][:] = cc_1_256_equal_10.iloc[3]\n",
    "df2.loc[('equal',256,5)]['CC_10'][:] = cc_1_256_equal_10.iloc[4]\n",
    "df2.loc[('equal',256,6)]['CC_10'][:] = cc_1_256_equal_10.iloc[5]\n",
    "df2.loc[('equal',256,7)]['CC_10'][:] = cc_1_256_equal_10.iloc[6]\n",
    "df2.loc[('equal',256,8)]['CC_10'][:] = cc_1_256_equal_10.iloc[7]\n",
    "df2.loc[('equal',256,9)]['CC_10'][:] = cc_1_256_equal_10.iloc[8]\n",
    "df2.loc[('equal',256,10)]['CC_10'][:] = cc_1_256_equal_10.iloc[9]"
   ]
  },
  {
   "cell_type": "code",
   "execution_count": 211,
   "id": "3fbeee57",
   "metadata": {},
   "outputs": [],
   "source": [
    "df2.loc[('equal',256,1)]['CC_20'][:] = cc_1_256_equal_20.iloc[0]\n",
    "df2.loc[('equal',256,2)]['CC_20'][:] = cc_1_256_equal_20.iloc[1]\n",
    "df2.loc[('equal',256,3)]['CC_20'][:] = cc_1_256_equal_20.iloc[2]\n",
    "df2.loc[('equal',256,4)]['CC_20'][:] = cc_1_256_equal_20.iloc[3]\n",
    "df2.loc[('equal',256,5)]['CC_20'][:] = cc_1_256_equal_20.iloc[4]\n",
    "df2.loc[('equal',256,6)]['CC_20'][:] = cc_1_256_equal_20.iloc[5]\n",
    "df2.loc[('equal',256,7)]['CC_20'][:] = cc_1_256_equal_20.iloc[6]\n",
    "df2.loc[('equal',256,8)]['CC_20'][:] = cc_1_256_equal_20.iloc[7]\n",
    "df2.loc[('equal',256,9)]['CC_20'][:] = cc_1_256_equal_20.iloc[8]\n",
    "df2.loc[('equal',256,10)]['CC_20'][:] = cc_1_256_equal_20.iloc[9]"
   ]
  },
  {
   "cell_type": "code",
   "execution_count": 212,
   "id": "1d9f7d4b",
   "metadata": {},
   "outputs": [],
   "source": [
    "df2.loc[('equal',256,1)]['CC_50'][:] = cc_1_256_equal_50.iloc[0]\n",
    "df2.loc[('equal',256,2)]['CC_50'][:] = cc_1_256_equal_50.iloc[1]\n",
    "df2.loc[('equal',256,3)]['CC_50'][:] = cc_1_256_equal_50.iloc[2]\n",
    "df2.loc[('equal',256,4)]['CC_50'][:] = cc_1_256_equal_50.iloc[3]\n",
    "df2.loc[('equal',256,5)]['CC_50'][:] = cc_1_256_equal_50.iloc[4]\n",
    "df2.loc[('equal',256,6)]['CC_50'][:] = cc_1_256_equal_50.iloc[5]\n",
    "df2.loc[('equal',256,7)]['CC_50'][:] = cc_1_256_equal_50.iloc[6]\n",
    "df2.loc[('equal',256,8)]['CC_50'][:] = cc_1_256_equal_50.iloc[7]\n",
    "df2.loc[('equal',256,9)]['CC_50'][:] = cc_1_256_equal_50.iloc[8]\n",
    "df2.loc[('equal',256,10)]['CC_50'][:] = cc_1_256_equal_50.iloc[9]"
   ]
  },
  {
   "cell_type": "markdown",
   "id": "f468a9aa",
   "metadata": {},
   "source": [
    "The continuous model"
   ]
  },
  {
   "cell_type": "code",
   "execution_count": 213,
   "id": "a0790b95",
   "metadata": {},
   "outputs": [],
   "source": [
    "df2.loc[('continuous',8,1)]['CC_5'][:] = cc_cont_5.iloc[0]\n",
    "df2.loc[('continuous',8,2)]['CC_5'][:] = cc_cont_5.iloc[1]\n",
    "df2.loc[('continuous',8,3)]['CC_5'][:] = cc_cont_5.iloc[2]\n",
    "df2.loc[('continuous',8,4)]['CC_5'][:] = cc_cont_5.iloc[3]\n",
    "df2.loc[('continuous',8,5)]['CC_5'][:] = cc_cont_5.iloc[4]\n",
    "df2.loc[('continuous',8,6)]['CC_5'][:] = cc_cont_5.iloc[5]\n",
    "df2.loc[('continuous',8,7)]['CC_5'][:] = cc_cont_5.iloc[6]\n",
    "df2.loc[('continuous',8,8)]['CC_5'][:] = cc_cont_5.iloc[7]\n",
    "df2.loc[('continuous',8,9)]['CC_5'][:] = cc_cont_5.iloc[8]\n",
    "df2.loc[('continuous',8,10)]['CC_5'][:] = cc_cont_5.iloc[9]"
   ]
  },
  {
   "cell_type": "code",
   "execution_count": 214,
   "id": "00bfe646",
   "metadata": {},
   "outputs": [],
   "source": [
    "df2.loc[('continuous',8,1)]['CC_10'][:] = cc_cont_10.iloc[0]\n",
    "df2.loc[('continuous',8,2)]['CC_10'][:] = cc_cont_10.iloc[1]\n",
    "df2.loc[('continuous',8,3)]['CC_10'][:] = cc_cont_10.iloc[2]\n",
    "df2.loc[('continuous',8,4)]['CC_10'][:] = cc_cont_10.iloc[3]\n",
    "df2.loc[('continuous',8,5)]['CC_10'][:] = cc_cont_10.iloc[4]\n",
    "df2.loc[('continuous',8,6)]['CC_10'][:] = cc_cont_10.iloc[5]\n",
    "df2.loc[('continuous',8,7)]['CC_10'][:] = cc_cont_10.iloc[6]\n",
    "df2.loc[('continuous',8,8)]['CC_10'][:] = cc_cont_10.iloc[7]\n",
    "df2.loc[('continuous',8,9)]['CC_10'][:] = cc_cont_10.iloc[8]\n",
    "df2.loc[('continuous',8,10)]['CC_10'][:] = cc_cont_10.iloc[9]"
   ]
  },
  {
   "cell_type": "code",
   "execution_count": 215,
   "id": "b7abcfc3",
   "metadata": {},
   "outputs": [],
   "source": [
    "df2.loc[('continuous',8,1)]['CC_20'][:] = cc_cont_20.iloc[0]\n",
    "df2.loc[('continuous',8,2)]['CC_20'][:] = cc_cont_20.iloc[1]\n",
    "df2.loc[('continuous',8,3)]['CC_20'][:] = cc_cont_20.iloc[2]\n",
    "df2.loc[('continuous',8,4)]['CC_20'][:] = cc_cont_20.iloc[3]\n",
    "df2.loc[('continuous',8,5)]['CC_20'][:] = cc_cont_20.iloc[4]\n",
    "df2.loc[('continuous',8,6)]['CC_20'][:] = cc_cont_20.iloc[5]\n",
    "df2.loc[('continuous',8,7)]['CC_20'][:] = cc_cont_20.iloc[6]\n",
    "df2.loc[('continuous',8,8)]['CC_20'][:] = cc_cont_20.iloc[7]\n",
    "df2.loc[('continuous',8,9)]['CC_20'][:] = cc_cont_20.iloc[8]\n",
    "df2.loc[('continuous',8,10)]['CC_20'][:] = cc_cont_20.iloc[9]"
   ]
  },
  {
   "cell_type": "code",
   "execution_count": 216,
   "id": "2ac99f3c",
   "metadata": {},
   "outputs": [],
   "source": [
    "df2.loc[('continuous',8,1)]['CC_50'][:] = cc_cont_50.iloc[0]\n",
    "df2.loc[('continuous',8,2)]['CC_50'][:] = cc_cont_50.iloc[1]\n",
    "df2.loc[('continuous',8,3)]['CC_50'][:] = cc_cont_50.iloc[2]\n",
    "df2.loc[('continuous',8,4)]['CC_50'][:] = cc_cont_50.iloc[3]\n",
    "df2.loc[('continuous',8,5)]['CC_50'][:] = cc_cont_50.iloc[4]\n",
    "df2.loc[('continuous',8,6)]['CC_50'][:] = cc_cont_50.iloc[5]\n",
    "df2.loc[('continuous',8,7)]['CC_50'][:] = cc_cont_50.iloc[6]\n",
    "df2.loc[('continuous',8,8)]['CC_50'][:] = cc_cont_50.iloc[7]\n",
    "df2.loc[('continuous',8,9)]['CC_50'][:] = cc_cont_50.iloc[8]\n",
    "df2.loc[('continuous',8,10)]['CC_50'][:] = cc_cont_50.iloc[9]"
   ]
  },
  {
   "cell_type": "markdown",
   "id": "63ec867e",
   "metadata": {},
   "source": [
    "The final dataframe is finished:"
   ]
  },
  {
   "cell_type": "code",
   "execution_count": 217,
   "id": "56200073",
   "metadata": {
    "scrolled": true
   },
   "outputs": [
    {
     "data": {
      "text/html": [
       "<div>\n",
       "<style scoped>\n",
       "    .dataframe tbody tr th:only-of-type {\n",
       "        vertical-align: middle;\n",
       "    }\n",
       "\n",
       "    .dataframe tbody tr th {\n",
       "        vertical-align: top;\n",
       "    }\n",
       "\n",
       "    .dataframe thead th {\n",
       "        text-align: right;\n",
       "    }\n",
       "</style>\n",
       "<table border=\"1\" class=\"dataframe\">\n",
       "  <thead>\n",
       "    <tr style=\"text-align: right;\">\n",
       "      <th></th>\n",
       "      <th></th>\n",
       "      <th></th>\n",
       "      <th>CV</th>\n",
       "      <th>FR</th>\n",
       "      <th>CC_5</th>\n",
       "      <th>CC_10</th>\n",
       "      <th>CC_20</th>\n",
       "      <th>CC_50</th>\n",
       "    </tr>\n",
       "  </thead>\n",
       "  <tbody>\n",
       "    <tr>\n",
       "      <th rowspan=\"5\" valign=\"top\">2</th>\n",
       "      <th rowspan=\"5\" valign=\"top\">1</th>\n",
       "      <th>0</th>\n",
       "      <td>0.172138</td>\n",
       "      <td>0.0316 1/ms</td>\n",
       "      <td>-0.003486</td>\n",
       "      <td>-0.031715</td>\n",
       "      <td>0.002494</td>\n",
       "      <td>-0.043997</td>\n",
       "    </tr>\n",
       "    <tr>\n",
       "      <th>1</th>\n",
       "      <td>0.178283</td>\n",
       "      <td>0.0317 1/ms</td>\n",
       "      <td>-0.01158</td>\n",
       "      <td>0.013082</td>\n",
       "      <td>0.031511</td>\n",
       "      <td>0.099764</td>\n",
       "    </tr>\n",
       "    <tr>\n",
       "      <th>2</th>\n",
       "      <td>0.186189</td>\n",
       "      <td>0.0321 1/ms</td>\n",
       "      <td>-0.000909</td>\n",
       "      <td>-0.006859</td>\n",
       "      <td>0.060597</td>\n",
       "      <td>-0.027653</td>\n",
       "    </tr>\n",
       "    <tr>\n",
       "      <th>3</th>\n",
       "      <td>0.165191</td>\n",
       "      <td>0.031 1/ms</td>\n",
       "      <td>0.012268</td>\n",
       "      <td>0.039485</td>\n",
       "      <td>0.06124</td>\n",
       "      <td>-0.122453</td>\n",
       "    </tr>\n",
       "    <tr>\n",
       "      <th>4</th>\n",
       "      <td>0.181983</td>\n",
       "      <td>0.0317 1/ms</td>\n",
       "      <td>0.008996</td>\n",
       "      <td>-0.024215</td>\n",
       "      <td>-0.046365</td>\n",
       "      <td>-0.098814</td>\n",
       "    </tr>\n",
       "    <tr>\n",
       "      <th>...</th>\n",
       "      <th>...</th>\n",
       "      <th>...</th>\n",
       "      <td>...</td>\n",
       "      <td>...</td>\n",
       "      <td>...</td>\n",
       "      <td>...</td>\n",
       "      <td>...</td>\n",
       "      <td>...</td>\n",
       "    </tr>\n",
       "    <tr>\n",
       "      <th rowspan=\"5\" valign=\"top\">256</th>\n",
       "      <th rowspan=\"5\" valign=\"top\">10</th>\n",
       "      <th>9995</th>\n",
       "      <td>0.174985</td>\n",
       "      <td>0.0327 1/ms</td>\n",
       "      <td>0.002382</td>\n",
       "      <td>-0.026256</td>\n",
       "      <td>0.004902</td>\n",
       "      <td>-0.071963</td>\n",
       "    </tr>\n",
       "    <tr>\n",
       "      <th>9996</th>\n",
       "      <td>0.177326</td>\n",
       "      <td>0.0322 1/ms</td>\n",
       "      <td>-0.019912</td>\n",
       "      <td>-0.049216</td>\n",
       "      <td>-0.107157</td>\n",
       "      <td>-0.052998</td>\n",
       "    </tr>\n",
       "    <tr>\n",
       "      <th>9997</th>\n",
       "      <td>0.18187</td>\n",
       "      <td>0.0313 1/ms</td>\n",
       "      <td>0.008005</td>\n",
       "      <td>-0.007673</td>\n",
       "      <td>0.126715</td>\n",
       "      <td>0.071734</td>\n",
       "    </tr>\n",
       "    <tr>\n",
       "      <th>9998</th>\n",
       "      <td>0.161538</td>\n",
       "      <td>0.0319 1/ms</td>\n",
       "      <td>-0.015049</td>\n",
       "      <td>0.008831</td>\n",
       "      <td>0.015816</td>\n",
       "      <td>0.151704</td>\n",
       "    </tr>\n",
       "    <tr>\n",
       "      <th>9999</th>\n",
       "      <td>0.180661</td>\n",
       "      <td>0.0317 1/ms</td>\n",
       "      <td>0.046318</td>\n",
       "      <td>-0.013934</td>\n",
       "      <td>-0.052403</td>\n",
       "      <td>-0.043899</td>\n",
       "    </tr>\n",
       "  </tbody>\n",
       "</table>\n",
       "<p>800000 rows × 6 columns</p>\n",
       "</div>"
      ],
      "text/plain": [
       "                   CV           FR      CC_5     CC_10     CC_20     CC_50\n",
       "2   1  0     0.172138  0.0316 1/ms -0.003486 -0.031715  0.002494 -0.043997\n",
       "       1     0.178283  0.0317 1/ms  -0.01158  0.013082  0.031511  0.099764\n",
       "       2     0.186189  0.0321 1/ms -0.000909 -0.006859  0.060597 -0.027653\n",
       "       3     0.165191   0.031 1/ms  0.012268  0.039485   0.06124 -0.122453\n",
       "       4     0.181983  0.0317 1/ms  0.008996 -0.024215 -0.046365 -0.098814\n",
       "...               ...          ...       ...       ...       ...       ...\n",
       "256 10 9995  0.174985  0.0327 1/ms  0.002382 -0.026256  0.004902 -0.071963\n",
       "       9996  0.177326  0.0322 1/ms -0.019912 -0.049216 -0.107157 -0.052998\n",
       "       9997   0.18187  0.0313 1/ms  0.008005 -0.007673  0.126715  0.071734\n",
       "       9998  0.161538  0.0319 1/ms -0.015049  0.008831  0.015816  0.151704\n",
       "       9999  0.180661  0.0317 1/ms  0.046318 -0.013934 -0.052403 -0.043899\n",
       "\n",
       "[800000 rows x 6 columns]"
      ]
     },
     "execution_count": 217,
     "metadata": {},
     "output_type": "execute_result"
    }
   ],
   "source": [
    "df2.loc['droop']"
   ]
  },
  {
   "cell_type": "code",
   "execution_count": 218,
   "id": "d066ee42",
   "metadata": {},
   "outputs": [],
   "source": [
    "# save it as pickle object for later use\n",
    "df2.to_pickle('structured_df.pkl')"
   ]
  },
  {
   "cell_type": "markdown",
   "id": "ed5dfb55",
   "metadata": {},
   "source": [
    "The multiindex dataframe can then easily be read into another file by calling read_pickle('structured_df.pkl')"
   ]
  },
  {
   "cell_type": "code",
   "execution_count": null,
   "id": "0a1e2913",
   "metadata": {},
   "outputs": [],
   "source": []
  }
 ],
 "metadata": {
  "kernelspec": {
   "display_name": "Python 3",
   "language": "python",
   "name": "python3"
  },
  "language_info": {
   "codemirror_mode": {
    "name": "ipython",
    "version": 3
   },
   "file_extension": ".py",
   "mimetype": "text/x-python",
   "name": "python",
   "nbconvert_exporter": "python",
   "pygments_lexer": "ipython3",
   "version": "3.8.8"
  }
 },
 "nbformat": 4,
 "nbformat_minor": 5
}
