{
 "cells": [
  {
   "cell_type": "code",
   "execution_count": 1,
   "id": "36a30594",
   "metadata": {},
   "outputs": [],
   "source": [
    "import pandas as pd\n",
    "import seaborn as sns\n",
    "import matplotlib.pyplot as plt\n",
    "#plt.rcParams['figure.figsize'] = (8,4) # seems like this size gives best size when inserting the figure in latex\n",
    "#plt.rcParams['figure.figsize'] = (14,10)  # to examine better here\n",
    "import numpy as np\n",
    "from scipy.stats import probplot\n",
    "from scipy.stats import normaltest\n",
    "from matplotlib import cm"
   ]
  },
  {
   "cell_type": "code",
   "execution_count": 2,
   "id": "306b1dc9",
   "metadata": {},
   "outputs": [],
   "source": [
    "df = pd.read_pickle('C:\\\\Users\\\\Nida\\\\Documents\\\\NMBU\\\\master\\\\microcircuit_spike_data\\\\microcircuit_77175_df.pkl')"
   ]
  },
  {
   "cell_type": "code",
   "execution_count": 3,
   "id": "03d3c993",
   "metadata": {},
   "outputs": [],
   "source": [
    "cm = 1/2.54  # centimeters in inches\n",
    "plt.rcParams['figure.figsize'] = (8*cm,7*cm)\n",
    "#plt.rcParams['figure.figsize'] = (8*cm,6*cm)"
   ]
  },
  {
   "cell_type": "code",
   "execution_count": 4,
   "id": "cbeaace8",
   "metadata": {},
   "outputs": [],
   "source": [
    "fig_path = 'C:\\\\Users\\\\Nida\\\\Documents\\\\NMBU\\\\master\\\\Figures'"
   ]
  },
  {
   "cell_type": "code",
   "execution_count": 5,
   "id": "957dcb57",
   "metadata": {},
   "outputs": [],
   "source": [
    "n = 5\n",
    "colors = plt.cm.viridis(np.linspace(0, 1, n))"
   ]
  },
  {
   "cell_type": "markdown",
   "id": "2508ba06",
   "metadata": {},
   "source": [
    "# Mean FR and variance as error bars all models"
   ]
  },
  {
   "cell_type": "code",
   "execution_count": 6,
   "id": "6a7b9a8e",
   "metadata": {},
   "outputs": [],
   "source": [
    "def get_mean_std(model):\n",
    "    \"\"\"\n",
    "    Retrieve the mean of each cv distribution. The mean is calculated for each of the 10 simulations in each case then \n",
    "    the mean of these means are taken, and the std of these 10 means are taken. Store in a list which will be returned.\n",
    "    \"\"\"\n",
    "    res = [8,16,32,64,128,256]\n",
    "    means = []\n",
    "    stds = []\n",
    "    for r in res:\n",
    "        means_m = []\n",
    "        for i in range(1,11):\n",
    "            fr = model[r][i].values\n",
    "            frs = [float(x)*1000 for x in fr]\n",
    "            me = np.mean(frs)\n",
    "            means_m.append(me)\n",
    "        m, s =  np.mean(means_m), np.std(means_m)\n",
    "        means.append(m)\n",
    "        stds.append(s)\n",
    "    return means, stds\n"
   ]
  },
  {
   "cell_type": "code",
   "execution_count": 7,
   "id": "54feb50e",
   "metadata": {},
   "outputs": [],
   "source": [
    "def get_mean_std_cont(model):\n",
    "    means = []\n",
    "    for i in range(1,11):\n",
    "        fr = model[i].values\n",
    "        frs = [float(x)*1000 for x in fr]\n",
    "        m = np.mean(frs)\n",
    "        means.append(m)\n",
    "    return np.mean(means), np.std(means)\n",
    "        "
   ]
  },
  {
   "cell_type": "code",
   "execution_count": 8,
   "id": "bad33405",
   "metadata": {},
   "outputs": [],
   "source": [
    "y1, e1 = get_mean_std(df.loc['droop','FR'])\n",
    "y2, e2 = get_mean_std(df.loc['equal','FR'])\n",
    "m_c, s_c = get_mean_std_cont(df.loc['continuous','FR'][8])"
   ]
  },
  {
   "cell_type": "code",
   "execution_count": 10,
   "id": "81dce0e3",
   "metadata": {},
   "outputs": [
    {
     "data": {
      "image/png": "[encoded data removed]",
      "text/plain": [
       "<Figure size 226.772x198.425 with 1 Axes>"
      ]
     },
     "metadata": {
      "needs_background": "light"
     },
     "output_type": "display_data"
    }
   ],
   "source": [
    "x = [4,8,12,16,20,24]\n",
    "l=3\n",
    "plt.errorbar(x, y1, e1, linestyle='-', marker='^',label='droop',color=colors[0],alpha=0.5,linewidth=l)\n",
    "plt.errorbar(x, y2, e2, linestyle='dashed', marker='^',label='equal',color=colors[1],alpha=0.5,linewidth=l)\n",
    "plt.axhline(y=m_c,label='continuous',color=colors[3],linewidth=l)\n",
    "x2 = [3,4,8,12,16,20,24,25]\n",
    "plt.fill_between(x2,y1=m_c-s_c,y2=m_c+s_c,alpha=0.2,color=colors[3])\n",
    "#plt.legend()\n",
    "plt.xlabel('Resolution',fontsize=6)\n",
    "plt.ylabel('FR (spikes/s)',fontsize=6, labelpad=1)\n",
    "plt.xticks(x,('1/8','1/16','1/32','1/64','1/128','1/256'))\n",
    "plt.xticks(fontsize=7)\n",
    "plt.yticks(fontsize=7)\n",
    "textstr = 'b)'\n",
    "plt.text(-0.035, 0.85, textstr, fontsize=8, transform=plt.gcf().transFigure,weight='bold');\n",
    "plt.savefig(r'{}\\mean_FR_microcircuit.pdf'.format(fig_path),bbox_inches='tight')\n",
    "# analysis, not include in thesis:\n",
    "#plt.grid()\n",
    "plt.show();"
   ]
  },
  {
   "cell_type": "markdown",
   "id": "67eced9e",
   "metadata": {},
   "source": [
    "# Mean CV and variance as error bars all models"
   ]
  },
  {
   "cell_type": "code",
   "execution_count": 11,
   "id": "5634ec42",
   "metadata": {},
   "outputs": [],
   "source": [
    "def get_mean_std(model):\n",
    "    \"\"\"\n",
    "    Retrieve the mean of each cv distribution. The mean is calculated for each of the 10 simulations in each case then \n",
    "    the mean of these means are taken, and the std of these 10 means are taken. Store in a list which will be returned.\n",
    "    \"\"\"\n",
    "    res = [8,16,32,64,128,256]\n",
    "    means = []\n",
    "    stds = []\n",
    "    for r in res:\n",
    "        means_m = []\n",
    "        for i in range(1,11):\n",
    "            me = model[r][i].mean()\n",
    "            means_m.append(me)\n",
    "        m, s =  np.mean(means_m), np.std(means_m)\n",
    "        means.append(m)\n",
    "        stds.append(s)\n",
    "    return means, stds\n"
   ]
  },
  {
   "cell_type": "code",
   "execution_count": 12,
   "id": "678f5ba8",
   "metadata": {},
   "outputs": [],
   "source": [
    "def get_mean_std_cont(model):\n",
    "    means = []\n",
    "    for i in range(1,11):\n",
    "        m = model[i].mean()\n",
    "        means.append(m)\n",
    "    return np.mean(means), np.std(means)\n",
    "        "
   ]
  },
  {
   "cell_type": "code",
   "execution_count": 13,
   "id": "d37b3356",
   "metadata": {},
   "outputs": [],
   "source": [
    "means, stds = get_mean_std(df.loc['droop','CV'])\n",
    "means_e, stds_e = get_mean_std(df.loc['equal','CV'])\n",
    "mean_c, std_c = get_mean_std_cont(df.loc['continuous','CV'][8])"
   ]
  },
  {
   "cell_type": "code",
   "execution_count": 14,
   "id": "1205bb45",
   "metadata": {},
   "outputs": [
    {
     "data": {
      "image/png": "[encoded data removed]",
      "text/plain": [
       "<Figure size 226.772x198.425 with 1 Axes>"
      ]
     },
     "metadata": {
      "needs_background": "light"
     },
     "output_type": "display_data"
    }
   ],
   "source": [
    "x = [4,8,12,16,20,24]\n",
    "l=3\n",
    "plt.errorbar(x, means, stds, linestyle='-', marker='^',label='droop',color=colors[0],alpha=0.5,linewidth=l)\n",
    "eq=plt.errorbar(x, means_e, stds_e, linestyle='dashed', marker='^',label='equal',color=colors[1],alpha=0.5,linewidth=l)\n",
    "eq[-1][0].set_linestyle('--') # get dashed errorbar for equal model\n",
    "plt.axhline(y=mean_c,label='continuous',color=colors[3],linewidth=l)\n",
    "x2 = [3,4,8,12,16,20,24,25]\n",
    "plt.fill_between(x2,y1=mean_c-std_c,y2=mean_c+std_c,alpha=0.2,color=colors[3])\n",
    "#plt.legend()\n",
    "plt.xlabel('Resolution',fontsize=6)\n",
    "plt.ylabel('CV',fontsize=6, labelpad=1)\n",
    "plt.xticks(x,('1/8','1/16','1/32','1/64','1/128','1/256'))\n",
    "plt.xticks(fontsize=7)\n",
    "plt.yticks(fontsize=7)\n",
    "textstr = 'd)'\n",
    "plt.text(-0.035, 0.85, textstr, fontsize=8, transform=plt.gcf().transFigure,weight='bold');\n",
    "plt.savefig(r'{}\\mean_CV_microcircuit.pdf'.format(fig_path),bbox_inches='tight')\n",
    "# only for analysis, not to be included in thesis:\n",
    "#plt.grid()\n",
    "plt.show();"
   ]
  },
  {
   "cell_type": "markdown",
   "id": "0ff1c7eb",
   "metadata": {},
   "source": [
    "# Mean CC and variance as errorbars"
   ]
  },
  {
   "cell_type": "code",
   "execution_count": 15,
   "id": "b8f8e52e",
   "metadata": {},
   "outputs": [],
   "source": [
    "means, stds = get_mean_std(df.loc['droop','CC_5'])\n",
    "means_e, stds_e = get_mean_std(df.loc['equal','CC_5'])\n",
    "mean_c, std_c = get_mean_std_cont(df.loc['continuous','CC_5'][8])"
   ]
  },
  {
   "cell_type": "code",
   "execution_count": 16,
   "id": "d65c8089",
   "metadata": {},
   "outputs": [
    {
     "data": {
      "image/png": "[encoded data removed]",
      "text/plain": [
       "<Figure size 226.772x198.425 with 1 Axes>"
      ]
     },
     "metadata": {
      "needs_background": "light"
     },
     "output_type": "display_data"
    }
   ],
   "source": [
    "x = [4,8,12,16,20,24]\n",
    "l=3\n",
    "plt.errorbar(x, means, stds, linestyle='-', marker='^',label='droop',color=colors[0],alpha=0.5,linewidth=l)\n",
    "plt.errorbar(x, means_e, stds_e, linestyle='dashed', marker='^',label='equal',color=colors[1],alpha=0.5,linewidth=l)\n",
    "plt.axhline(y=mean_c,label='continuous',color=colors[3],linewidth=l)\n",
    "x2 = [3,4,8,12,16,20,24,25]\n",
    "plt.fill_between(x2,y1=mean_c-std_c,y2=mean_c+std_c,alpha=0.2,color=colors[3])\n",
    "#plt.legend()\n",
    "plt.xlabel('Resolution',fontsize=6)\n",
    "plt.ylabel('CC',fontsize=6, labelpad=1)\n",
    "plt.xticks(x,('1/8','1/16','1/32','1/64','1/128','1/256'))\n",
    "plt.xticks(fontsize=7)\n",
    "plt.yticks(fontsize=7)\n",
    "textstr = 'f)'\n",
    "plt.text(-0.035, 0.85, textstr, fontsize=8, transform=plt.gcf().transFigure,weight='bold');\n",
    "plt.savefig(r'{}\\mean_CC_microcircuit.pdf'.format(fig_path),bbox_inches='tight')\n",
    "#plt.grid() # not include in thesis\n",
    "plt.show();"
   ]
  },
  {
   "cell_type": "code",
   "execution_count": 16,
   "id": "88b4b047",
   "metadata": {},
   "outputs": [],
   "source": [
    "m = 9\n",
    "col = plt.cm.viridis(np.linspace(0, 1, m)) #colorblind friendly"
   ]
  },
  {
   "cell_type": "markdown",
   "id": "5dd46121",
   "metadata": {},
   "source": [
    "# Mean FR distribution all models"
   ]
  },
  {
   "cell_type": "code",
   "execution_count": 17,
   "id": "b8924a7d",
   "metadata": {},
   "outputs": [],
   "source": [
    "def get_mean_list(model):\n",
    "    fr_list = []\n",
    "    for i in range(1,11):\n",
    "        frs = model[i].values\n",
    "        frs = [float(x)*1000 for x in frs]\n",
    "        fr_list.append(frs)\n",
    "    mean_list = np.mean(fr_list,axis=0)\n",
    "    return mean_list"
   ]
  },
  {
   "cell_type": "code",
   "execution_count": 18,
   "id": "8d6e439a",
   "metadata": {},
   "outputs": [],
   "source": [
    "p03=get_mean_list(df.loc['droop','FR'][8])\n",
    "p04=get_mean_list(df.loc['droop','FR'][16])\n",
    "p05=get_mean_list(df.loc['droop','FR'][32])\n",
    "p06=get_mean_list(df.loc['droop','FR'][64])\n",
    "p07=get_mean_list(df.loc['droop','FR'][128])\n",
    "p08=get_mean_list(df.loc['droop','FR'][256])\n",
    "p09=get_mean_list(df.loc['continuous','FR'][8])\n",
    "\n",
    "q03=get_mean_list(df.loc['equal','FR'][8])\n",
    "q04=get_mean_list(df.loc['equal','FR'][16])\n",
    "q05=get_mean_list(df.loc['equal','FR'][32])\n",
    "q06=get_mean_list(df.loc['equal','FR'][64])\n",
    "q07=get_mean_list(df.loc['equal','FR'][128])\n",
    "q08=get_mean_list(df.loc['equal','FR'][256])"
   ]
  },
  {
   "cell_type": "code",
   "execution_count": 19,
   "id": "36574c58",
   "metadata": {},
   "outputs": [
    {
     "data": {
      "image/png": "[encoded data removed]",
      "text/plain": [
       "<Figure size 226.772x198.425 with 1 Axes>"
      ]
     },
     "metadata": {
      "needs_background": "light"
     },
     "output_type": "display_data"
    }
   ],
   "source": [
    "# droop models\n",
    "\n",
    "plt.plot(np.sort(p03), np.linspace(0, 1, len(p03), endpoint=False),color=col[2],label='1/8')\n",
    "plt.plot(np.sort(p04), np.linspace(0, 1, len(p04), endpoint=False),color=col[3],label='1/16')\n",
    "plt.plot(np.sort(p05), np.linspace(0, 1, len(p05), endpoint=False),color=col[4],label='1/32')\n",
    "plt.plot(np.sort(p06), np.linspace(0, 1, len(p06), endpoint=False),color=col[5],label='1/64')\n",
    "plt.plot(np.sort(p07), np.linspace(0, 1, len(p07), endpoint=False),color=col[6],label='1/128')#medium green\n",
    "plt.plot(np.sort(p08), np.linspace(0, 1, len(p08), endpoint=False),color=col[7],label='1/256') #light green\n",
    "# equal models\n",
    "\n",
    "plt.plot(np.sort(q03), np.linspace(0, 1, len(q03), endpoint=False),linestyle='dashed',color=col[2])\n",
    "plt.plot(np.sort(q04), np.linspace(0, 1, len(q04), endpoint=False),linestyle='dashed',color=col[3])\n",
    "plt.plot(np.sort(q05), np.linspace(0, 1, len(q05), endpoint=False),linestyle='dashed',color=col[4])\n",
    "plt.plot(np.sort(q06), np.linspace(0, 1, len(q06), endpoint=False),linestyle='dashed',color=col[5])\n",
    "plt.plot(np.sort(q07), np.linspace(0, 1, len(q07), endpoint=False),linestyle='dashed',color=col[6]) #medium green\n",
    "plt.plot(np.sort(q08), np.linspace(0, 1, len(q08), endpoint=False),linestyle='dashed',color=col[7]) #light green\n",
    "# continuous model\n",
    "plt.plot(np.sort(p09), np.linspace(0, 1, len(p09), endpoint=False),color=col[8],label='continuous') # yellow\n",
    "plt.legend(prop={'size': 4})\n",
    "plt.xlabel('FR (spikes/s)',fontsize=6);\n",
    "plt.ylabel('Proportion',fontsize=6);\n",
    "plt.xticks(fontsize=7);\n",
    "plt.yticks(fontsize=7);\n",
    "textstr = 'a)'\n",
    "plt.text(-0.025, 0.85, textstr, fontsize=8, transform=plt.gcf().transFigure,weight='bold');\n",
    "plt.savefig(r'{}\\mean_FR_microcircuit_ecdf.pdf'.format(fig_path),bbox_inches='tight')\n",
    "# analysis only, not include in thesis:\n",
    "#plt.grid()"
   ]
  },
  {
   "cell_type": "markdown",
   "id": "765ff666",
   "metadata": {},
   "source": [
    "# Mean CV distribution all models"
   ]
  },
  {
   "cell_type": "code",
   "execution_count": 20,
   "id": "882b6f54",
   "metadata": {},
   "outputs": [],
   "source": [
    "def get_mean_list(model):\n",
    "    cv_list = []\n",
    "    for i in range(1,11):\n",
    "        cvs = model[i].values\n",
    "        cv_list.append(cvs)\n",
    "    mean_list = np.mean(cv_list,axis=0)\n",
    "    return mean_list"
   ]
  },
  {
   "cell_type": "markdown",
   "id": "6386d865",
   "metadata": {},
   "source": [
    "Some neurons do not always fire so we get nan values for cv. But we cannot simply set them to 0 as this is not representable. Drop nan values from the mean list before plotting them."
   ]
  },
  {
   "cell_type": "code",
   "execution_count": 21,
   "id": "dc1e054d",
   "metadata": {},
   "outputs": [],
   "source": [
    "p03 = get_mean_list(df.loc['droop','CV'][8])\n",
    "p03 = [x for x in p03 if np.isnan(x) == False]\n",
    "p04 = get_mean_list(df.loc['droop','CV'][16])\n",
    "p04 = [x for x in p04 if np.isnan(x) == False]\n",
    "p05 = get_mean_list(df.loc['droop','CV'][32])\n",
    "p05 = [x for x in p05 if np.isnan(x) == False]\n",
    "p06 = get_mean_list(df.loc['droop','CV'][64])\n",
    "p06 = [x for x in p06 if np.isnan(x) == False]\n",
    "p07=get_mean_list(df.loc['droop','CV'][128])\n",
    "p07 = [x for x in p07 if np.isnan(x) == False]\n",
    "p08=get_mean_list(df.loc['droop','CV'][256])\n",
    "p08 = [x for x in p08 if np.isnan(x) == False]\n",
    "p09=get_mean_list(df.loc['continuous','CV'][8])\n",
    "p09 = [x for x in p09 if np.isnan(x) == False]\n",
    "\n",
    "q03=get_mean_list(df.loc['equal','CV'][8])\n",
    "q03 = [x for x in q03 if np.isnan(x) == False]\n",
    "q04=get_mean_list(df.loc['equal','CV'][16])\n",
    "q04 = [x for x in q04 if np.isnan(x) == False]\n",
    "q05=get_mean_list(df.loc['equal','CV'][32])\n",
    "q05 = [x for x in q05 if np.isnan(x) == False]\n",
    "q06=get_mean_list(df.loc['equal','CV'][64])\n",
    "q06 = [x for x in q06 if np.isnan(x) == False]\n",
    "q07=get_mean_list(df.loc['equal','CV'][128])\n",
    "q07 = [x for x in q07 if np.isnan(x) == False]\n",
    "q08=get_mean_list(df.loc['equal','CV'][256])\n",
    "q08 = [x for x in q08 if np.isnan(x) == False]"
   ]
  },
  {
   "cell_type": "code",
   "execution_count": 22,
   "id": "b87a0e2e",
   "metadata": {},
   "outputs": [
    {
     "data": {
      "image/png": "[encoded data removed]",
      "text/plain": [
       "<Figure size 226.772x198.425 with 1 Axes>"
      ]
     },
     "metadata": {
      "needs_background": "light"
     },
     "output_type": "display_data"
    }
   ],
   "source": [
    "# droop models\n",
    "\n",
    "plt.plot(np.sort(p03), np.linspace(0, 1, len(p03), endpoint=False),color=col[2],label='1/8')\n",
    "plt.plot(np.sort(p04), np.linspace(0, 1, len(p04), endpoint=False),color=col[3],label='1/16')\n",
    "plt.plot(np.sort(p05), np.linspace(0, 1, len(p05), endpoint=False),color=col[4],label='1/32')\n",
    "plt.plot(np.sort(p06), np.linspace(0, 1, len(p06), endpoint=False),color=col[5],label='1/64')\n",
    "plt.plot(np.sort(p07), np.linspace(0, 1, len(p07), endpoint=False),color=col[6],label='1/128')#medium green\n",
    "plt.plot(np.sort(p08), np.linspace(0, 1, len(p08), endpoint=False),color=col[7],label='1/256') #light green\n",
    "# equal models\n",
    "\n",
    "plt.plot(np.sort(q03), np.linspace(0, 1, len(q03), endpoint=False),linestyle='dashed',color=col[2])\n",
    "plt.plot(np.sort(q04), np.linspace(0, 1, len(q04), endpoint=False),linestyle='dashed',color=col[3])\n",
    "plt.plot(np.sort(q05), np.linspace(0, 1, len(q05), endpoint=False),linestyle='dashed',color=col[4])\n",
    "plt.plot(np.sort(q06), np.linspace(0, 1, len(q06), endpoint=False),linestyle='dashed',color=col[5])\n",
    "plt.plot(np.sort(q07), np.linspace(0, 1, len(q07), endpoint=False),linestyle='dashed',color=col[6]) #medium green\n",
    "plt.plot(np.sort(q08), np.linspace(0, 1, len(q08), endpoint=False),linestyle='dashed',color=col[7]) #light green\n",
    "# continuous model\n",
    "plt.plot(np.sort(p09), np.linspace(0, 1, len(p09), endpoint=False),color=col[8],label='continuous') # yellow\n",
    "plt.xlabel('CV',fontsize=6);\n",
    "plt.ylabel('Proportion',fontsize=6);\n",
    "plt.xticks(fontsize=7);\n",
    "plt.yticks(fontsize=7);\n",
    "#plt.legend()\n",
    "#analysis only, not include in thesis:\n",
    "#plt.grid()\n",
    "textstr = 'c)'\n",
    "plt.text(-0.025, 0.85, textstr, fontsize=8, transform=plt.gcf().transFigure,weight='bold');\n",
    "plt.savefig(r'{}\\mean_CV_microcircuit_ecdf.pdf'.format(fig_path),bbox_inches='tight')"
   ]
  },
  {
   "cell_type": "markdown",
   "id": "09a65015",
   "metadata": {},
   "source": [
    "# Mean CC distribution all models"
   ]
  },
  {
   "cell_type": "code",
   "execution_count": 23,
   "id": "9b562c8e",
   "metadata": {},
   "outputs": [],
   "source": [
    "def get_mean_list(model):\n",
    "    cc_list = []\n",
    "    for i in range(1,11):\n",
    "        ccs = model[i][1:].values\n",
    "        cc_list.append(ccs)\n",
    "    mean_list = np.mean(cc_list,axis=0)\n",
    "    return mean_list"
   ]
  },
  {
   "cell_type": "code",
   "execution_count": 24,
   "id": "f0564bde",
   "metadata": {},
   "outputs": [],
   "source": [
    "p03=get_mean_list(df.loc['droop','CC_5'][8])\n",
    "p04=get_mean_list(df.loc['droop','CC_5'][16])\n",
    "p05=get_mean_list(df.loc['droop','CC_5'][32])\n",
    "p06=get_mean_list(df.loc['droop','CC_5'][64])\n",
    "p07=get_mean_list(df.loc['droop','CC_5'][128])\n",
    "p08=get_mean_list(df.loc['droop','CC_5'][256])\n",
    "p09=get_mean_list(df.loc['continuous','CC_5'][8])\n",
    "\n",
    "q03=get_mean_list(df.loc['equal','CC_5'][8])\n",
    "q04=get_mean_list(df.loc['equal','CC_5'][16])\n",
    "q05=get_mean_list(df.loc['equal','CC_5'][32])\n",
    "q06=get_mean_list(df.loc['equal','CC_5'][64])\n",
    "q07=get_mean_list(df.loc['equal','CC_5'][128])\n",
    "q08=get_mean_list(df.loc['equal','CC_5'][256])"
   ]
  },
  {
   "cell_type": "code",
   "execution_count": 25,
   "id": "6f52f636",
   "metadata": {},
   "outputs": [
    {
     "data": {
      "image/png": "[encoded data removed]",
      "text/plain": [
       "<Figure size 226.772x198.425 with 1 Axes>"
      ]
     },
     "metadata": {
      "needs_background": "light"
     },
     "output_type": "display_data"
    }
   ],
   "source": [
    "# droop models\n",
    "\n",
    "plt.plot(np.sort(p03), np.linspace(0, 1, len(p03), endpoint=False),color=col[2],label='1/8')\n",
    "plt.plot(np.sort(p04), np.linspace(0, 1, len(p04), endpoint=False),color=col[3],label='1/16')\n",
    "plt.plot(np.sort(p05), np.linspace(0, 1, len(p05), endpoint=False),color=col[4],label='1/32')\n",
    "plt.plot(np.sort(p06), np.linspace(0, 1, len(p06), endpoint=False),color=col[5],label='1/64')\n",
    "plt.plot(np.sort(p07), np.linspace(0, 1, len(p07), endpoint=False),color=col[6],label='1/128')#medium green\n",
    "plt.plot(np.sort(p08), np.linspace(0, 1, len(p08), endpoint=False),color=col[7],label='1/256') #light green\n",
    "# equal models\n",
    "\n",
    "plt.plot(np.sort(q03), np.linspace(0, 1, len(q03), endpoint=False),linestyle='dashed',color=col[2])\n",
    "plt.plot(np.sort(q04), np.linspace(0, 1, len(q04), endpoint=False),linestyle='dashed',color=col[3])\n",
    "plt.plot(np.sort(q05), np.linspace(0, 1, len(q05), endpoint=False),linestyle='dashed',color=col[4])\n",
    "plt.plot(np.sort(q06), np.linspace(0, 1, len(q06), endpoint=False),linestyle='dashed',color=col[5])\n",
    "plt.plot(np.sort(q07), np.linspace(0, 1, len(q07), endpoint=False),linestyle='dashed',color=col[6]) #medium green\n",
    "plt.plot(np.sort(q08), np.linspace(0, 1, len(q08), endpoint=False),linestyle='dashed',color=col[7]) #light green\n",
    "# continuous model\n",
    "plt.plot(np.sort(p09), np.linspace(0, 1, len(p09), endpoint=False),color=col[8],label='continuous') # yellow\n",
    "#plt.legend()\n",
    "plt.xlabel('CC',fontsize=6);\n",
    "plt.ylabel('Proportion',fontsize=6);\n",
    "plt.xticks(fontsize=7);\n",
    "plt.yticks(fontsize=7);\n",
    "textstr = 'e)'\n",
    "plt.text(-0.025, 0.85, textstr, fontsize=8, transform=plt.gcf().transFigure,weight='bold');\n",
    "plt.savefig(r'{}\\mean_CC_microcircuit_ecdf.pdf'.format(fig_path),bbox_inches='tight')\n",
    "# analysis only, do not include in thesis:\n",
    "#plt.grid()"
   ]
  },
  {
   "cell_type": "code",
   "execution_count": null,
   "id": "601dc769",
   "metadata": {},
   "outputs": [],
   "source": []
  }
 ],
 "metadata": {
  "kernelspec": {
   "display_name": "Python 3",
   "language": "python",
   "name": "python3"
  },
  "language_info": {
   "codemirror_mode": {
    "name": "ipython",
    "version": 3
   },
   "file_extension": ".py",
   "mimetype": "text/x-python",
   "name": "python",
   "nbconvert_exporter": "python",
   "pygments_lexer": "ipython3",
   "version": "3.8.8"
  }
 },
 "nbformat": 4,
 "nbformat_minor": 5
}
