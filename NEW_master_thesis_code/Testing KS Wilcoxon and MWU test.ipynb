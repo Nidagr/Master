{
 "cells": [
  {
   "cell_type": "code",
   "execution_count": 51,
   "metadata": {},
   "outputs": [],
   "source": [
    "import nest\n",
    "import numpy as np\n",
    "import pandas as pd\n",
    "import matplotlib.pyplot as plt\n",
    "import seaborn as sns\n",
    "import elephant\n",
    "import quantities as pq\n",
    "import neo\n",
    "import sys\n",
    "from scipy.stats import ks_2samp, wilcoxon, mannwhitneyu\n",
    "plt.rcParams['figure.figsize'] = (14, 10)\n",
    "import scipy.stats as stats\n",
    "import itertools\n",
    "import random"
   ]
  },
  {
   "cell_type": "code",
   "execution_count": 2,
   "metadata": {},
   "outputs": [],
   "source": [
    "def get_cvs(spike_data):\n",
    "    \"\"\"\n",
    "    Get the CV for each neuron recorded. \n",
    "    \n",
    "    CV = standard_deviation(ISIs)/mean(ISIs)\n",
    "    \"\"\"\n",
    "    cvs = []\n",
    "     \n",
    "    spike_data = spike_data.sort_values(by='time_ms')\n",
    "    grouped = spike_data.groupby(spike_data['sender'])\n",
    "\n",
    "    for name, group in grouped:\n",
    "            \"\"\"\n",
    "            Each group is senders and times for one value of senders. That is, we iterate through all \n",
    "            neurons. And the times for each neuron is in sorted order. Therefore, the cvs\n",
    "            returned must have the same order. So cvs contain cv of neuron 1, then neuron 2 .... then neuron N.\n",
    "            \"\"\"\n",
    "            t = np.asarray(group['time_ms'])\n",
    "            spiketrain = neo.core.SpikeTrain(t * pq.ms, t_start=0*pq.ms, t_stop=10000*pq.ms)\n",
    "            isi = elephant.statistics.isi(spiketrain)\n",
    "            cv = elephant.statistics.cv(isi)\n",
    "            cvs.append(cv)\n",
    "            \n",
    "    return cvs"
   ]
  },
  {
   "cell_type": "code",
   "execution_count": 3,
   "metadata": {},
   "outputs": [],
   "source": [
    "def get_cv_lists(exc, inh):\n",
    "    cv_list_exc = list()\n",
    "    for i in range(1,11):\n",
    "        exc_cvs = get_cvs(exc[i])\n",
    "        cv_list_exc.append(exc_cvs)\n",
    "\n",
    "    cv_list_inh = list()\n",
    "    for i in range(1,11):\n",
    "        inh_cvs = get_cvs(inh[i])\n",
    "        cv_list_inh.append(inh_cvs)\n",
    "    return cv_list_exc, cv_list_inh"
   ]
  },
  {
   "cell_type": "markdown",
   "metadata": {},
   "source": [
    "Lets try to run KS-test on randomly drawn samples from each model, e.g. 500 samples. Then see if tests pass."
   ]
  },
  {
   "cell_type": "code",
   "execution_count": 4,
   "metadata": {},
   "outputs": [],
   "source": [
    "def round_1_2():\n",
    "    \"\"\"\n",
    "    Get spike data from brunel model with rounded spike times and delays drawn from discrete interval [1.0, 2.0].\n",
    "    \"\"\"\n",
    "    spike_path = '/opt/data/spike_data/brunel_10s/brunel_rounding_1_2'\n",
    "    exc = {}\n",
    "    for i in range(1,11):\n",
    "        exc[i] = pd.read_csv(r'{}/brunel_rounding_True_delay_1.0_2.0_seed_{}_spikes_exc-12502-0.dat'.format(spike_path, i),\n",
    "                             skiprows=2,sep='\\t')\n",
    "\n",
    "    inh = {}\n",
    "    for i in range(1,11):\n",
    "        inh[i] = pd.read_csv(r'{}/brunel_rounding_True_delay_1.0_2.0_seed_{}_spikes_inh-12503-0.dat'.format(spike_path, i),\n",
    "                             skiprows=2,sep='\\t')\n",
    "    return exc, inh"
   ]
  },
  {
   "cell_type": "code",
   "execution_count": 5,
   "metadata": {},
   "outputs": [],
   "source": [
    "def exact_1_2():\n",
    "    \"\"\"\n",
    "    Get spike data from brunel model with exact spike times and delays drawn form discrete interval [1.0, 2.0].\n",
    "    \"\"\"\n",
    "    spike_path = '/opt/data/spike_data/brunel_10s/brunel_exact_1_2'\n",
    "    exc = {}\n",
    "    for i in range(1,11):\n",
    "        exc[i] = pd.read_csv(r'{}/brunel_rounding_False_delay_1.0_2.0_seed_{}_spikes_exc-12502-0.dat'.format(spike_path, i),\n",
    "                             skiprows=2,sep='\\t')\n",
    "\n",
    "    inh = {}\n",
    "    for i in range(1,11):\n",
    "        inh[i] = pd.read_csv(r'{}/brunel_rounding_False_delay_1.0_2.0_seed_{}_spikes_inh-12503-0.dat'.format(spike_path, i),\n",
    "                             skiprows=2,sep='\\t')\n",
    "    return exc, inh"
   ]
  },
  {
   "cell_type": "code",
   "execution_count": 6,
   "metadata": {},
   "outputs": [],
   "source": [
    "def round_equal():\n",
    "    \"\"\"\n",
    "    Get spike data from brunel model with rounded spikes times and delay form interval [0.9375, 2.0625].\n",
    "    \"\"\"\n",
    "    spike_path = '/opt/data/spike_data/brunel_10s/brunel_rounding_0_9375_2_0625'\n",
    "    exc = {}\n",
    "    for i in range(1,11):\n",
    "        exc[i] = pd.read_csv(r'{}/brunel_rounding_True_delay_0.9375_2.0625_seed_{}_spikes_exc-12502-0.dat'.format(spike_path, i),\n",
    "                             skiprows=2,sep='\\t')\n",
    "\n",
    "    inh = {}\n",
    "    for i in range(1,11):\n",
    "        inh[i] = pd.read_csv(r'{}/brunel_rounding_True_delay_0.9375_2.0625_seed_{}_spikes_inh-12503-0.dat'.format(spike_path, i),\n",
    "                             skiprows=2,sep='\\t')\n",
    "        \n",
    "    return exc, inh"
   ]
  },
  {
   "cell_type": "code",
   "execution_count": 7,
   "metadata": {},
   "outputs": [],
   "source": [
    "def exact_equal():\n",
    "    \"\"\"\n",
    "    Get spike data from brunel with exact spike times and delays drawn from interval [0.9375, 2.0625].\n",
    "    \"\"\"\n",
    "    \n",
    "    spike_path = '/opt/data/spike_data/brunel_10s/brunel_exact_0_9375_2_0625'\n",
    "    exc = {}\n",
    "    for i in range(1,11):\n",
    "        exc[i] = pd.read_csv(r'{}/brunel_rounding_False_delay_0.9375_2.0625_seed_{}_spikes_exc-12502-0.dat'.format(spike_path, i),\n",
    "                             skiprows=2,sep='\\t')\n",
    "\n",
    "    inh = {}\n",
    "    for i in range(1,11):\n",
    "        inh[i] = pd.read_csv(r'{}/brunel_rounding_False_delay_0.9375_2.0625_seed_{}_spikes_inh-12503-0.dat'.format(spike_path, i),\n",
    "                             skiprows=2,sep='\\t')\n",
    "    \n",
    "    return exc, inh"
   ]
  },
  {
   "cell_type": "code",
   "execution_count": 8,
   "metadata": {},
   "outputs": [],
   "source": [
    "def continuous():\n",
    "    \"\"\"\n",
    "    Get spike data from brunel model with delay drawn from continuous interval [1.0, 2.0].\n",
    "    \"\"\"\n",
    "    spike_path = '/opt/data/spike_data/brunel_10s/brunel_continuous'\n",
    "    exc = {}\n",
    "    for i in range(1,11):\n",
    "        exc[i] = pd.read_csv(r'{}/brunel_continuous_delay_1.0_2.0_seed_{}_spikes_exc-12502-0.dat'.format(spike_path, i),\n",
    "                             skiprows=2,sep='\\t')\n",
    "\n",
    "    inh = {}\n",
    "    for i in range(1,11):\n",
    "        inh[i] = pd.read_csv(r'{}/brunel_continuous_delay_1.0_2.0_seed_{}_spikes_inh-12503-0.dat'.format(spike_path, i),\n",
    "                             skiprows=2,sep='\\t')\n",
    "    return exc, inh"
   ]
  },
  {
   "cell_type": "code",
   "execution_count": 9,
   "metadata": {},
   "outputs": [],
   "source": [
    "def ks_test(value_list, N=500):\n",
    "    \"\"\"\n",
    "    Perform KS-test on all possible pairs of simulations from same model. (10 simulations). \n",
    "    Return statistic and p-values. Use N randomly drawn samples from each simulation being compared.\n",
    "    \"\"\"\n",
    "    statistics = []\n",
    "    p_values = []\n",
    "    for i in range(0,10):\n",
    "        for j in range(0,i):\n",
    "            x1 = random.sample(value_list[i], N)\n",
    "            x2 = random.sample(value_list[j], N)\n",
    "            statistic = ks_2samp(x1, x2, alternative='two-sided')[0]\n",
    "            p_value = ks_2samp(x1, x2, alternative='two-sided')[1]\n",
    "            p_values.append(p_value)\n",
    "            statistics.append(statistic)\n",
    "    return statistics, p_values\n",
    "        "
   ]
  },
  {
   "cell_type": "code",
   "execution_count": 10,
   "metadata": {},
   "outputs": [],
   "source": [
    "def num_fail_pass(statistics, p_values):\n",
    "    \"\"\"\n",
    "    Get number of tests which failed and which passed.\n",
    "    \"\"\"\n",
    "    failed = 0\n",
    "    passed = 0\n",
    "    for i in range(0,len(statistics)):\n",
    "        if statistics[i] > p_values[i]:\n",
    "            # test fails\n",
    "            failed += 1\n",
    "        else:\n",
    "            passed += 1\n",
    "    s = str(passed) + ' tests passed, ' + str(failed) + ' tests failed.'\n",
    "    return s"
   ]
  },
  {
   "cell_type": "code",
   "execution_count": 11,
   "metadata": {},
   "outputs": [
    {
     "name": "stdout",
     "output_type": "stream",
     "text": [
      "43 tests passed, 2 tests failed.\n"
     ]
    }
   ],
   "source": [
    "exc, inh = round_1_2()\n",
    "cv_list_exc, cv_list_inh = get_cv_lists(exc, inh)\n",
    "statistics, p_values = ks_test(cv_list_exc)\n",
    "s = num_fail_pass(statistics, p_values)\n",
    "print(s)"
   ]
  },
  {
   "cell_type": "code",
   "execution_count": 12,
   "metadata": {},
   "outputs": [
    {
     "name": "stdout",
     "output_type": "stream",
     "text": [
      "41 tests passed, 4 tests failed.\n"
     ]
    }
   ],
   "source": [
    "statistics, p_values = ks_test(cv_list_inh)\n",
    "s = num_fail_pass(statistics, p_values)\n",
    "print(s)"
   ]
  },
  {
   "cell_type": "markdown",
   "metadata": {},
   "source": [
    "Next model:"
   ]
  },
  {
   "cell_type": "code",
   "execution_count": 13,
   "metadata": {},
   "outputs": [
    {
     "name": "stdout",
     "output_type": "stream",
     "text": [
      "41 tests passed, 4 tests failed.\n"
     ]
    }
   ],
   "source": [
    "exc, inh = exact_1_2()\n",
    "cv_list_exc, cv_list_inh = get_cv_lists(exc, inh)\n",
    "statistics, p_values = ks_test(cv_list_exc)\n",
    "s = num_fail_pass(statistics, p_values)\n",
    "print(s)"
   ]
  },
  {
   "cell_type": "code",
   "execution_count": 14,
   "metadata": {},
   "outputs": [
    {
     "name": "stdout",
     "output_type": "stream",
     "text": [
      "40 tests passed, 5 tests failed.\n"
     ]
    }
   ],
   "source": [
    "statistics, p_values = ks_test(cv_list_inh)\n",
    "s = num_fail_pass(statistics, p_values)\n",
    "print(s)"
   ]
  },
  {
   "cell_type": "markdown",
   "metadata": {},
   "source": [
    "Next model:"
   ]
  },
  {
   "cell_type": "code",
   "execution_count": 15,
   "metadata": {},
   "outputs": [
    {
     "name": "stdout",
     "output_type": "stream",
     "text": [
      "40 tests passed, 5 tests failed.\n"
     ]
    }
   ],
   "source": [
    "exc, inh = round_equal()\n",
    "cv_list_exc, cv_list_inh = get_cv_lists(exc, inh)\n",
    "statistics, p_values = ks_test(cv_list_exc)\n",
    "s = num_fail_pass(statistics, p_values)\n",
    "print(s)"
   ]
  },
  {
   "cell_type": "code",
   "execution_count": 16,
   "metadata": {},
   "outputs": [
    {
     "name": "stdout",
     "output_type": "stream",
     "text": [
      "40 tests passed, 5 tests failed.\n"
     ]
    }
   ],
   "source": [
    "statistics, p_values = ks_test(cv_list_inh)\n",
    "s = num_fail_pass(statistics, p_values)\n",
    "print(s)"
   ]
  },
  {
   "cell_type": "markdown",
   "metadata": {},
   "source": [
    "Next model:"
   ]
  },
  {
   "cell_type": "code",
   "execution_count": 17,
   "metadata": {},
   "outputs": [
    {
     "name": "stdout",
     "output_type": "stream",
     "text": [
      "41 tests passed, 4 tests failed.\n"
     ]
    }
   ],
   "source": [
    "exc, inh = exact_equal()\n",
    "cv_list_exc, cv_list_inh = get_cv_lists(exc, inh)\n",
    "statistics, p_values = ks_test(cv_list_exc)\n",
    "s = num_fail_pass(statistics, p_values)\n",
    "print(s)"
   ]
  },
  {
   "cell_type": "code",
   "execution_count": 18,
   "metadata": {},
   "outputs": [
    {
     "name": "stdout",
     "output_type": "stream",
     "text": [
      "40 tests passed, 5 tests failed.\n"
     ]
    }
   ],
   "source": [
    "statistics, p_values = ks_test(cv_list_inh)\n",
    "s = num_fail_pass(statistics, p_values)\n",
    "print(s)"
   ]
  },
  {
   "cell_type": "markdown",
   "metadata": {},
   "source": [
    "Last model:"
   ]
  },
  {
   "cell_type": "code",
   "execution_count": 19,
   "metadata": {},
   "outputs": [
    {
     "name": "stdout",
     "output_type": "stream",
     "text": [
      "36 tests passed, 9 tests failed.\n"
     ]
    }
   ],
   "source": [
    "exc, inh = continuous()\n",
    "cv_list_exc, cv_list_inh = get_cv_lists(exc, inh)\n",
    "statistics, p_values = ks_test(cv_list_exc)\n",
    "s = num_fail_pass(statistics, p_values)\n",
    "print(s)"
   ]
  },
  {
   "cell_type": "code",
   "execution_count": 20,
   "metadata": {},
   "outputs": [
    {
     "name": "stdout",
     "output_type": "stream",
     "text": [
      "41 tests passed, 4 tests failed.\n"
     ]
    }
   ],
   "source": [
    "statistics, p_values = ks_test(cv_list_inh)\n",
    "s = num_fail_pass(statistics, p_values)\n",
    "print(s)"
   ]
  },
  {
   "cell_type": "markdown",
   "metadata": {},
   "source": [
    "## Mock data\n",
    "\n",
    "### KS-test\n",
    "We check if KS test is working for large datasets. Create some mock data of large size, from same distribution so we know that it should pass. See how it works. Lets use Gaussian distribution, distribution of size 10000."
   ]
  },
  {
   "cell_type": "code",
   "execution_count": 22,
   "metadata": {},
   "outputs": [],
   "source": [
    "def ks_test(value_list):\n",
    "    \"\"\"\n",
    "    Perform KS-test on all possible pairs of simulations from same model. (10 simulations). \n",
    "    Return statistic and p-values.\n",
    "    \"\"\"\n",
    "    statistics = []\n",
    "    p_values = []\n",
    "    for i in range(0,10):\n",
    "        for j in range(0,i):\n",
    "            statistic = ks_2samp(value_list[i], value_list[j], alternative='two-sided')[0]\n",
    "            p_value = ks_2samp(value_list[i], value_list[j], alternative='two-sided')[1]\n",
    "            p_values.append(p_value)\n",
    "            statistics.append(statistic)\n",
    "    return statistics, p_values\n",
    "        "
   ]
  },
  {
   "cell_type": "code",
   "execution_count": 23,
   "metadata": {},
   "outputs": [
    {
     "name": "stdout",
     "output_type": "stream",
     "text": [
      "42 tests passed, 3 tests failed.\n"
     ]
    }
   ],
   "source": [
    "x1 = np.random.normal(0, 1, 10000)\n",
    "x2 = np.random.normal(0, 1, 10000)\n",
    "x3 = np.random.normal(0, 1, 10000)\n",
    "x4 = np.random.normal(0, 1, 10000)\n",
    "x5 = np.random.normal(0, 1, 10000)\n",
    "x6 = np.random.normal(0, 1, 10000)\n",
    "x7 = np.random.normal(0, 1, 10000)\n",
    "x8 = np.random.normal(0, 1, 10000)\n",
    "x9 = np.random.normal(0, 1, 10000)\n",
    "x10 = np.random.normal(0, 1, 10000)\n",
    "x = [x1,x2,x3,x4,x5,x6,x7,x8,x9,x10]\n",
    "s,p = ks_test(x)\n",
    "print(num_fail_pass(s,p))"
   ]
  },
  {
   "cell_type": "markdown",
   "metadata": {},
   "source": [
    "Even when testing 10 different distributions of the same size frawn from the same distribution, the tests does not all pass."
   ]
  },
  {
   "cell_type": "code",
   "execution_count": 25,
   "metadata": {},
   "outputs": [
    {
     "data": {
      "image/png": "[encoded data removed]",
      "text/plain": [
       "<Figure size 360x360 with 1 Axes>"
      ]
     },
     "metadata": {
      "needs_background": "light"
     },
     "output_type": "display_data"
    }
   ],
   "source": [
    "sns.displot(p,kind='ecdf',label='p-values')\n",
    "plt.plot([0,1],[0,1],label='uniform')\n",
    "plt.legend()\n",
    "plt.show()"
   ]
  },
  {
   "cell_type": "markdown",
   "metadata": {},
   "source": [
    "See also that p-values are not uniformly distributed. \n",
    "\n",
    "### Wilcoxon Test\n",
    "\n",
    "Obviously KS test is not well fit for large datasets. Lets try and check Wilcoxon test. Recommended by scipy instead of Mann Whiitney U test as it expects independent samples.\n",
    "\n",
    "Wilcoxon test has null hypothesis that H_0= The observations X_i-Y_i are symmetric about mean=0.  Reject null hypothesis if statistic > p_value."
   ]
  },
  {
   "cell_type": "code",
   "execution_count": 47,
   "metadata": {},
   "outputs": [],
   "source": [
    "def wcx_test(value_list):\n",
    "    \"\"\"\n",
    "    Perform Wilcoxon-test on all possible pairs of simulations from same model. (10 simulations). \n",
    "    Return statistic and p-values.\n",
    "    \"\"\"\n",
    "    statistics = []\n",
    "    p_values = []\n",
    "    for i in range(0,10):\n",
    "        for j in range(0,i):\n",
    "            statistic = wilcoxon(value_list[i], value_list[j], alternative='two-sided')[0]\n",
    "            p_value = wilcoxon(value_list[i], value_list[j], alternative='two-sided')[1]\n",
    "            p_values.append(p_value)\n",
    "            statistics.append(statistic)\n",
    "    return statistics, p_values\n",
    "        "
   ]
  },
  {
   "cell_type": "code",
   "execution_count": 48,
   "metadata": {},
   "outputs": [
    {
     "name": "stdout",
     "output_type": "stream",
     "text": [
      "0 tests passed, 45 tests failed.\n"
     ]
    }
   ],
   "source": [
    "x1 = np.random.normal(0, 1, 10000)\n",
    "x2 = np.random.normal(0, 1, 10000)\n",
    "x3 = np.random.normal(0, 1, 10000)\n",
    "x4 = np.random.normal(0, 1, 10000)\n",
    "x5 = np.random.normal(0, 1, 10000)\n",
    "x6 = np.random.normal(0, 1, 10000)\n",
    "x7 = np.random.normal(0, 1, 10000)\n",
    "x8 = np.random.normal(0, 1, 10000)\n",
    "x9 = np.random.normal(0, 1, 10000)\n",
    "x10 = np.random.normal(0, 1, 10000)\n",
    "x = [x1,x2,x3,x4,x5,x6,x7,x8,x9,x10]\n",
    "s,p = wcx_test(x)\n",
    "print(num_fail_pass(s,p))"
   ]
  },
  {
   "cell_type": "markdown",
   "metadata": {},
   "source": [
    "The wilcoxon test is not well suited for large datasets. Even worse than the KS-test. Lets double check that whtiney U is bad as well."
   ]
  },
  {
   "cell_type": "code",
   "execution_count": 50,
   "metadata": {},
   "outputs": [],
   "source": [
    "def mwu_test(value_list):\n",
    "    \"\"\"\n",
    "    Perform Wilcoxon-test on all possible pairs of simulations from same model. (10 simulations). \n",
    "    Return statistic and p-values.\n",
    "    \"\"\"\n",
    "    statistics = []\n",
    "    p_values = []\n",
    "    for i in range(0,10):\n",
    "        for j in range(0,i):\n",
    "            statistic = mannwhitneyu(value_list[i], value_list[j], alternative='two-sided')[0]\n",
    "            p_value = mannwhitneyu(value_list[i], value_list[j], alternative='two-sided')[1]\n",
    "            p_values.append(p_value)\n",
    "            statistics.append(statistic)\n",
    "    return statistics, p_values\n",
    "        "
   ]
  },
  {
   "cell_type": "code",
   "execution_count": 52,
   "metadata": {},
   "outputs": [
    {
     "name": "stdout",
     "output_type": "stream",
     "text": [
      "0 tests passed, 45 tests failed.\n"
     ]
    }
   ],
   "source": [
    "s,p = mwu_test(x)\n",
    "print(num_fail_pass(s,p))"
   ]
  },
  {
   "cell_type": "markdown",
   "metadata": {},
   "source": [
    "Also not well suited."
   ]
  },
  {
   "cell_type": "code",
   "execution_count": 53,
   "metadata": {},
   "outputs": [],
   "source": [
    "def ks_test(value_list):\n",
    "    \"\"\"\n",
    "    Perform KS-test on all possible pairs of simulations from same model. (10 simulations). \n",
    "    Return statistic and p-values.\n",
    "    \"\"\"\n",
    "    statistics = []\n",
    "    p_values = []\n",
    "    for i in range(0,10):\n",
    "        for j in range(0,i):\n",
    "            statistic = ks_2samp(value_list[i], value_list[j], alternative='two-sided')[0]\n",
    "            p_value = ks_2samp(value_list[i], value_list[j], alternative='two-sided')[1]\n",
    "            p_values.append(p_value)\n",
    "            statistics.append(statistic)\n",
    "    return statistics, p_values\n",
    "        "
   ]
  },
  {
   "cell_type": "code",
   "execution_count": 58,
   "metadata": {},
   "outputs": [
    {
     "name": "stdout",
     "output_type": "stream",
     "text": [
      "43 tests passed, 2 tests failed.\n"
     ]
    }
   ],
   "source": [
    "x1 = np.random.normal(0, 1, 10000)\n",
    "x2 = np.random.normal(0, 1, 10000)\n",
    "x3 = np.random.normal(0, 1, 10000)\n",
    "x4 = np.random.normal(0, 1, 10000)\n",
    "x5 = np.random.normal(0, 1, 10000)\n",
    "x6 = np.random.normal(0, 1, 10000)\n",
    "x7 = np.random.normal(0, 1, 10000)\n",
    "x8 = np.random.normal(0, 1, 10000)\n",
    "x9 = np.random.normal(0, 1, 10000)\n",
    "x10 = np.random.normal(0, 1, 10000)\n",
    "x = [x1,x2,x3,x4,x5,x6,x7,x8,x9,x10]\n",
    "s,p = ks_test(x)\n",
    "print(num_fail_pass(s,p))"
   ]
  },
  {
   "cell_type": "code",
   "execution_count": 59,
   "metadata": {},
   "outputs": [
    {
     "data": {
      "image/png": "[encoded data removed]",
      "text/plain": [
       "<Figure size 360x360 with 1 Axes>"
      ]
     },
     "metadata": {
      "needs_background": "light"
     },
     "output_type": "display_data"
    }
   ],
   "source": [
    "sns.displot(p,kind='ecdf',label='p-values')\n",
    "plt.plot([0,1],[0,1],label='uniform')\n",
    "plt.legend()\n",
    "plt.show()"
   ]
  },
  {
   "cell_type": "markdown",
   "metadata": {},
   "source": [
    "Sometimes all tests pass, sometimes they do not. Try to find a cut off value for the statistic?\n",
    "\n",
    "SOme mean that you reject hypothesis if p-value is less than your significance level. So we actually check the wrong thing when deciding whether it passes or not. Lets fix this."
   ]
  },
  {
   "cell_type": "code",
   "execution_count": 64,
   "metadata": {},
   "outputs": [],
   "source": [
    "def num_fail_pass(p_values, significance_level=0.05):\n",
    "    \"\"\"\n",
    "    Get number of tests which failed and which passed.\n",
    "    \"\"\"\n",
    "    failed = 0\n",
    "    passed = 0\n",
    "    for i in range(0,len(p_values)):\n",
    "        if  p_values[i] < significance_level:\n",
    "            # reject hypothesis of equal distributions\n",
    "            failed += 1\n",
    "        else:\n",
    "            passed += 1\n",
    "    s = str(passed) + ' tests passed, ' + str(failed) + ' tests failed.'\n",
    "    return s"
   ]
  },
  {
   "cell_type": "code",
   "execution_count": 70,
   "metadata": {},
   "outputs": [
    {
     "name": "stdout",
     "output_type": "stream",
     "text": [
      "43 tests passed, 2 tests failed.\n"
     ]
    }
   ],
   "source": [
    "x1 = np.random.normal(0, 1, 10000)\n",
    "x2 = np.random.normal(0, 1, 10000)\n",
    "x3 = np.random.normal(0, 1, 10000)\n",
    "x4 = np.random.normal(0, 1, 10000)\n",
    "x5 = np.random.normal(0, 1, 10000)\n",
    "x6 = np.random.normal(0, 1, 10000)\n",
    "x7 = np.random.normal(0, 1, 10000)\n",
    "x8 = np.random.normal(0, 1, 10000)\n",
    "x9 = np.random.normal(0, 1, 10000)\n",
    "x10 = np.random.normal(0, 1, 10000)\n",
    "x = [x1,x2,x3,x4,x5,x6,x7,x8,x9,x10]\n",
    "s,p = ks_test(x)\n",
    "print(num_fail_pass(p))"
   ]
  },
  {
   "cell_type": "markdown",
   "metadata": {},
   "source": [
    "Still sometimes fail. Try higher singificance level, e.g. 10%."
   ]
  },
  {
   "cell_type": "code",
   "execution_count": 99,
   "metadata": {},
   "outputs": [
    {
     "name": "stdout",
     "output_type": "stream",
     "text": [
      "43 tests passed, 2 tests failed.\n"
     ]
    }
   ],
   "source": [
    "x1 = np.random.normal(0, 1, 10000)\n",
    "x2 = np.random.normal(0, 1, 10000)\n",
    "x3 = np.random.normal(0, 1, 10000)\n",
    "x4 = np.random.normal(0, 1, 10000)\n",
    "x5 = np.random.normal(0, 1, 10000)\n",
    "x6 = np.random.normal(0, 1, 10000)\n",
    "x7 = np.random.normal(0, 1, 10000)\n",
    "x8 = np.random.normal(0, 1, 10000)\n",
    "x9 = np.random.normal(0, 1, 10000)\n",
    "x10 = np.random.normal(0, 1, 10000)\n",
    "x = [x1,x2,x3,x4,x5,x6,x7,x8,x9,x10]\n",
    "s,p = ks_test(x)\n",
    "print(num_fail_pass(p,0.005))"
   ]
  },
  {
   "cell_type": "markdown",
   "metadata": {},
   "source": [
    "Still not all passing each time.\n",
    "\n",
    "\n",
    "Try to run KS test on smaller parts of the dsitribution."
   ]
  },
  {
   "cell_type": "code",
   "execution_count": 104,
   "metadata": {},
   "outputs": [],
   "source": [
    "for n in range(50,10000,50):\n",
    "    y1 = x1[n-50:n]\n",
    "    y2 = x2[n-50:n]\n",
    "    p_value = ks_2samp(y1, y2, alternative='two-sided')[1]\n",
    "    bol = p_value > 0.01\n",
    "    if (bol==False):\n",
    "        print('fail')"
   ]
  },
  {
   "cell_type": "code",
   "execution_count": 105,
   "metadata": {},
   "outputs": [],
   "source": [
    "for n in range(50,10000,50):\n",
    "    y1 = x2[n-50:n]\n",
    "    y2 = x3[n-50:n]\n",
    "    p_value = ks_2samp(y1, y2, alternative='two-sided')[1]\n",
    "    bol = p_value > 0.01\n",
    "    if (bol==False):\n",
    "        print('fail')"
   ]
  },
  {
   "cell_type": "code",
   "execution_count": 106,
   "metadata": {},
   "outputs": [
    {
     "name": "stdout",
     "output_type": "stream",
     "text": [
      "fail\n"
     ]
    }
   ],
   "source": [
    "for n in range(50,10000,50):\n",
    "    y1 = x3[n-50:n]\n",
    "    y2 = x4[n-50:n]\n",
    "    p_value = ks_2samp(y1, y2, alternative='two-sided')[1]\n",
    "    bol = p_value > 0.01\n",
    "    if (bol==False):\n",
    "        print('fail')"
   ]
  },
  {
   "cell_type": "markdown",
   "metadata": {},
   "source": [
    "# Kullback-Leibler divergence\n",
    "\n",
    "\"The Kullback-Leibler divergence is based on the entropy and a measure to quantify how different two probability distributions are, or in other words, how much information is lost if we approximate one distribution with another distribution.” [see article](https://johfischer.com/2021/12/31/intuitive-explanation-of-the-kullback-leibler-divergence/)\n",
    "\n",
    "Retrieving KL div for mock data, should be close to zero."
   ]
  },
  {
   "cell_type": "code",
   "execution_count": 143,
   "metadata": {},
   "outputs": [],
   "source": [
    "x1 = np.random.normal(0, 1, 10000)\n",
    "x2 = np.random.normal(0, 1, 10000)\n",
    "x3 = np.random.normal(0, 1, 10000)\n",
    "x4 = np.random.normal(0, 1, 10000)\n",
    "x5 = np.random.normal(0, 1, 10000)\n",
    "x6 = np.random.normal(0, 1, 10000)\n",
    "x7 = np.random.normal(0, 1, 10000)\n",
    "x8 = np.random.normal(0, 1, 10000)\n",
    "x9 = np.random.normal(0, 1, 10000)\n",
    "x10 = np.random.normal(0, 1, 10000)\n",
    "x = [x1,x2,x3,x4,x5,x6,x7,x8,x9,x10]"
   ]
  },
  {
   "cell_type": "code",
   "execution_count": 144,
   "metadata": {},
   "outputs": [],
   "source": [
    "def compute_probs(data, n=10): \n",
    "    h, e = np.histogram(data, n)\n",
    "    p = h/data.shape[0]\n",
    "    return e, p\n",
    "\n",
    "def support_intersection(p, q): \n",
    "    sup_int = (\n",
    "        list(\n",
    "            filter(\n",
    "                lambda x: (x[0]!=0) & (x[1]!=0), zip(p, q)\n",
    "            )\n",
    "        )\n",
    "    )\n",
    "    return sup_int\n",
    "\n",
    "def get_probs(list_of_tuples): \n",
    "    p = np.array([p[0] for p in list_of_tuples])\n",
    "    q = np.array([p[1] for p in list_of_tuples])\n",
    "    return p, q\n",
    "\n",
    "def kl_divergence(p, q): \n",
    "    return np.sum(p*np.log(p/q))\n",
    "\n",
    "def js_divergence(p, q):\n",
    "    m = (1./2.)*(p + q)\n",
    "    return (1./2.)*kl_divergence(p, m) + (1./2.)*kl_divergence(q, m)\n",
    "\n",
    "def compute_kl_divergence(train_sample, test_sample, n_bins=10): \n",
    "    \"\"\"\n",
    "    Computes the KL Divergence using the support \n",
    "    intersection between two different samples\n",
    "    \"\"\"\n",
    "    e, p = compute_probs(train_sample, n=n_bins)\n",
    "    _, q = compute_probs(test_sample, n=e)\n",
    "\n",
    "    list_of_tuples = support_intersection(p, q)\n",
    "    p, q = get_probs(list_of_tuples)\n",
    "    \n",
    "    return kl_divergence(p, q)"
   ]
  },
  {
   "cell_type": "code",
   "execution_count": 145,
   "metadata": {},
   "outputs": [],
   "source": [
    "divs = []\n",
    "for i in range(0,10):\n",
    "        for j in range(0,i):\n",
    "            kl = compute_kl_divergence(x[i],x[j])\n",
    "            divs.append(kl)"
   ]
  },
  {
   "cell_type": "code",
   "execution_count": 146,
   "metadata": {},
   "outputs": [
    {
     "data": {
      "text/plain": [
       "[0.0018627002297798157,\n",
       " 0.0010033554180329054,\n",
       " 0.001758335521306645,\n",
       " 0.0013524487657290778,\n",
       " 0.0008197562485540522,\n",
       " 0.0009711488447318604,\n",
       " 0.0011689276851307405,\n",
       " 0.0004476966168484448,\n",
       " 0.000762352163523453,\n",
       " 0.0007422523676422412,\n",
       " 0.0006105664328015524,\n",
       " 0.0011519025572054586,\n",
       " 0.0023760382271283157,\n",
       " 0.0017163437645266242,\n",
       " 0.0015730001943425726,\n",
       " 0.0014697022739483321,\n",
       " 0.0009210113045681444,\n",
       " 0.0006806056364601264,\n",
       " 0.000733774468675833,\n",
       " 0.0006506485367411505,\n",
       " 0.0006758631208542685,\n",
       " 0.0010805947955126677,\n",
       " 0.0010394928217138618,\n",
       " 0.0006246175722793395,\n",
       " 0.0006550312751939436,\n",
       " 0.0006722999829150478,\n",
       " 0.001257117934303,\n",
       " 0.00036599887352601007,\n",
       " 0.0016445376468322565,\n",
       " 0.00028578408471566404,\n",
       " 0.0014772421707451148,\n",
       " 0.0006496755603503274,\n",
       " 0.0005865964526417958,\n",
       " 0.000876361729968573,\n",
       " 0.0007030987982152101,\n",
       " 0.0008955223243248057,\n",
       " 0.0012618585320233666,\n",
       " 0.0018009510618188357,\n",
       " 0.001038982640304918,\n",
       " 0.0014395963760344087,\n",
       " 0.0012707939453243714,\n",
       " 0.0017951048382547927,\n",
       " 0.0014871149515779804,\n",
       " 0.0013472415772155515,\n",
       " 0.00178006227996683]"
      ]
     },
     "execution_count": 146,
     "metadata": {},
     "output_type": "execute_result"
    }
   ],
   "source": [
    "divs"
   ]
  },
  {
   "cell_type": "code",
   "execution_count": 150,
   "metadata": {},
   "outputs": [
    {
     "name": "stdout",
     "output_type": "stream",
     "text": [
      "maximum difference:  0.0023760382271283157  Minimum difference:  0.00028578408471566404\n"
     ]
    }
   ],
   "source": [
    "print('maximum difference: ',max(divs), ' Minimum difference: ', min(divs))"
   ]
  },
  {
   "cell_type": "markdown",
   "metadata": {},
   "source": [
    "Now try on simulations from same model, the brunel model with rounded spike times and delays drawn from discrete interval [1.0, 2.0]. "
   ]
  },
  {
   "cell_type": "code",
   "execution_count": 151,
   "metadata": {},
   "outputs": [],
   "source": [
    "exc, inh = round_1_2()\n",
    "cv_list_exc, cv_list_inh = get_cv_lists(exc, inh)"
   ]
  },
  {
   "cell_type": "code",
   "execution_count": 152,
   "metadata": {},
   "outputs": [],
   "source": [
    "def compute_probs(data, n=10): \n",
    "    h, e = np.histogram(data, n)\n",
    "    p = h/len(data)\n",
    "    return e, p\n",
    "\n",
    "def support_intersection(p, q): \n",
    "    sup_int = (\n",
    "        list(\n",
    "            filter(\n",
    "                lambda x: (x[0]!=0) & (x[1]!=0), zip(p, q)\n",
    "            )\n",
    "        )\n",
    "    )\n",
    "    return sup_int\n",
    "\n",
    "def get_probs(list_of_tuples): \n",
    "    p = np.array([p[0] for p in list_of_tuples])\n",
    "    q = np.array([p[1] for p in list_of_tuples])\n",
    "    return p, q\n",
    "\n",
    "def kl_divergence(p, q): \n",
    "    return np.sum(p*np.log(p/q))\n",
    "\n",
    "def js_divergence(p, q):\n",
    "    m = (1./2.)*(p + q)\n",
    "    return (1./2.)*kl_divergence(p, m) + (1./2.)*kl_divergence(q, m)\n",
    "\n",
    "def compute_kl_divergence(train_sample, test_sample, n_bins=10): \n",
    "    \"\"\"\n",
    "    Computes the KL Divergence using the support \n",
    "    intersection between two different samples\n",
    "    \"\"\"\n",
    "    e, p = compute_probs(train_sample, n=n_bins)\n",
    "    _, q = compute_probs(test_sample, n=e)\n",
    "\n",
    "    list_of_tuples = support_intersection(p, q)\n",
    "    p, q = get_probs(list_of_tuples)\n",
    "    \n",
    "    return kl_divergence(p, q)"
   ]
  },
  {
   "cell_type": "code",
   "execution_count": 153,
   "metadata": {},
   "outputs": [],
   "source": [
    "def kl_div(value_list):\n",
    "    \"\"\"\n",
    "    Perform KS-test on all possible pairs of simulations from same model. (10 simulations). \n",
    "    Return statistic and p-values.\n",
    "    \"\"\"\n",
    "    divs = []\n",
    "    \n",
    "    for i in range(0,10):\n",
    "        for j in range(0,i):\n",
    "            kl = compute_kl_divergence(value_list[i], value_list[j])\n",
    "            divs.append(kl)\n",
    "    return divs\n",
    "        "
   ]
  },
  {
   "cell_type": "code",
   "execution_count": 230,
   "metadata": {},
   "outputs": [],
   "source": [
    "def kl_div_cont(value_list):\n",
    "    \"\"\"\n",
    "    Perform KS-test on all possible pairs of simulations from same model. (10 simulations). \n",
    "    Return statistic and p-values.\n",
    "    \"\"\"\n",
    "    divs = []\n",
    "    \n",
    "    for i in range(0,10):\n",
    "        for j in range(0,i):\n",
    "            kl = cumulative_kl(value_list[i], value_list[j])\n",
    "            divs.append(kl)\n",
    "    return divs\n",
    "        "
   ]
  },
  {
   "cell_type": "code",
   "execution_count": 232,
   "metadata": {},
   "outputs": [
    {
     "name": "stderr",
     "output_type": "stream",
     "text": [
      "<ipython-input-227-bdf727934552>:29: RuntimeWarning:divide by zero encountered in true_divide\n",
      "<ipython-input-227-bdf727934552>:29: RuntimeWarning:invalid value encountered in true_divide\n",
      "<ipython-input-227-bdf727934552>:29: RuntimeWarning:divide by zero encountered in log\n"
     ]
    },
    {
     "data": {
      "text/plain": [
       "[-0.0024060591128203246,\n",
       " nan,\n",
       " nan,\n",
       " -0.011336557837948735,\n",
       " 0.010666269308719833,\n",
       " nan,\n",
       " 0.008823483751874583,\n",
       " 0.007030990906508494,\n",
       " nan,\n",
       " 0.012431153057487654,\n",
       " -0.017566022753544797,\n",
       " -0.001023604432937586,\n",
       " nan,\n",
       " -0.021180352705993388,\n",
       " -0.0005043668889646025,\n",
       " -0.003926589492667998,\n",
       " -0.008617067490174768,\n",
       " nan,\n",
       " 0.013730033573096767,\n",
       " 0.01718634059858326,\n",
       " -0.020543837981522484,\n",
       " -0.011287815008082513,\n",
       " -0.006057272007739534,\n",
       " nan,\n",
       " -0.0007285420904182827,\n",
       " 0.018555511329412022,\n",
       " -0.009005751365393722,\n",
       " -0.01181800608483441,\n",
       " 0.011694255886116611,\n",
       " -0.006170074549632698,\n",
       " nan,\n",
       " 0.0016959429137362036,\n",
       " 0.009000929181739892,\n",
       " -0.022199155486032907,\n",
       " -0.004463672177880795,\n",
       " -0.0027536384277525583,\n",
       " -0.0006830656569994931,\n",
       " -0.0005609491215822215,\n",
       " nan,\n",
       " 0.008553985821022847,\n",
       " 0.0061294622751013605,\n",
       " -0.005958835940208074,\n",
       " -0.008713151747107739,\n",
       " 0.011179749959549179,\n",
       " -0.00945959730132262]"
      ]
     },
     "execution_count": 232,
     "metadata": {},
     "output_type": "execute_result"
    }
   ],
   "source": [
    "d1c = kl_div_cont(cv_list_exc)\n",
    "d1c"
   ]
  },
  {
   "cell_type": "code",
   "execution_count": 154,
   "metadata": {},
   "outputs": [],
   "source": [
    "d1 = kl_div(cv_list_exc)"
   ]
  },
  {
   "cell_type": "code",
   "execution_count": 155,
   "metadata": {},
   "outputs": [
    {
     "data": {
      "text/plain": [
       "[0.0008117387682380643,\n",
       " 0.0007743302703848301,\n",
       " 0.0011323883882996526,\n",
       " 0.0007718222587935656,\n",
       " 0.0016002265717752933,\n",
       " 0.002317316664821285,\n",
       " 0.0005626518685845134,\n",
       " 0.001012372834062225,\n",
       " 0.0012487496963858881,\n",
       " 0.0008844892844726012,\n",
       " 0.0009287870511238429,\n",
       " 0.0015108916143229522,\n",
       " 0.0023532089695504927,\n",
       " 0.0022211253738781893,\n",
       " 0.001855789812874045,\n",
       " 0.001721275458554683,\n",
       " 0.0022130213901066574,\n",
       " 0.0017316941490306994,\n",
       " 0.003429361850875966,\n",
       " 0.0020551939648568284,\n",
       " 0.001210957112674034,\n",
       " 0.0016603574312934316,\n",
       " 0.0019570801229812423,\n",
       " 0.0014952407072140548,\n",
       " 0.00233451882984233,\n",
       " 0.001589741727290506,\n",
       " 0.001270450744341581,\n",
       " 0.0014277469969620495,\n",
       " 0.0017836383080754286,\n",
       " 0.0014238364853801054,\n",
       " 0.0013603644111557477,\n",
       " 0.0020933961281632057,\n",
       " 0.0016678076338754579,\n",
       " 0.0017554119801222639,\n",
       " 0.0006423682894323704,\n",
       " 0.0014597908898157416,\n",
       " 0.0013173904169367775,\n",
       " 0.0015158721106896353,\n",
       " 0.0021037977542333348,\n",
       " 0.0005392714495221113,\n",
       " 0.0010079333668968236,\n",
       " 0.0028323890844495943,\n",
       " 0.0037054357186489064,\n",
       " 0.0021736465436666586,\n",
       " 0.002175168536671983]"
      ]
     },
     "execution_count": 155,
     "metadata": {},
     "output_type": "execute_result"
    }
   ],
   "source": [
    "d1"
   ]
  },
  {
   "cell_type": "code",
   "execution_count": 156,
   "metadata": {},
   "outputs": [
    {
     "name": "stdout",
     "output_type": "stream",
     "text": [
      "maximum difference:  0.0037054357186489064  Minimum difference:  0.0005392714495221113\n"
     ]
    }
   ],
   "source": [
    "print('maximum difference: ',max(d1), ' Minimum difference: ', min(d1))"
   ]
  },
  {
   "cell_type": "code",
   "execution_count": 177,
   "metadata": {},
   "outputs": [
    {
     "data": {
      "image/png": "[encoded data removed]",
      "text/plain": [
       "<Figure size 1008x720 with 1 Axes>"
      ]
     },
     "metadata": {
      "needs_background": "light"
     },
     "output_type": "display_data"
    }
   ],
   "source": [
    "_, axs = plt.subplots(1)\n",
    "sns.ecdfplot(d2,ax=axs, label='rounded 1,2 vs. exact 1,2')\n",
    "sns.ecdfplot(d1,ax=axs, label='simulations one model')\n",
    "sns.ecdfplot(divs,ax=axs, label='gaussian distributions')\n",
    "sns.ecdfplot(d3,ax=axs, label='rounded 1,2 vs. rounded 0.9375,2.0625')\n",
    "plt.legend();"
   ]
  },
  {
   "cell_type": "markdown",
   "metadata": {},
   "source": [
    "Try models against eachother. Brunel with rounded spike times on [1.0,2.0] vs. exact spike times on [1.0,2.0]."
   ]
  },
  {
   "cell_type": "code",
   "execution_count": 157,
   "metadata": {},
   "outputs": [],
   "source": [
    "def kl_div(value_list_1, value_list_2):\n",
    "    \"\"\"\n",
    "    Perform Kl-div on all possible compinations of pairwise simulations in two different models.\n",
    "    \"\"\"\n",
    "    comb = list(itertools.product(value_list_1, value_list_2))\n",
    "\n",
    "    divs = []\n",
    "    for i in range(0,len(comb)):\n",
    "        kl = compute_kl_divergence(comb[i][0],comb[i][1])\n",
    "        divs.append(kl)\n",
    "    return divs"
   ]
  },
  {
   "cell_type": "code",
   "execution_count": 158,
   "metadata": {},
   "outputs": [],
   "source": [
    "exc_2, inh_2 = exact_1_2()"
   ]
  },
  {
   "cell_type": "code",
   "execution_count": 159,
   "metadata": {},
   "outputs": [],
   "source": [
    "cv_list_exc_2, cv_list_inh_2 = get_cv_lists(exc_2, inh_2)"
   ]
  },
  {
   "cell_type": "code",
   "execution_count": 160,
   "metadata": {},
   "outputs": [
    {
     "data": {
      "text/plain": [
       "[0.03166352170886119,\n",
       " 0.02395313170306795,\n",
       " 0.03262528373633848,\n",
       " 0.03085254294492102,\n",
       " 0.02942727589000347,\n",
       " 0.03341787294756279,\n",
       " 0.025614455023606413,\n",
       " 0.027333827354051845,\n",
       " 0.023094587805884803,\n",
       " 0.03324091773919981,\n",
       " 0.028573348569437128,\n",
       " 0.02171072851407407,\n",
       " 0.02890534471082378,\n",
       " 0.02963712257833157,\n",
       " 0.026128901806124618,\n",
       " 0.031154182815069147,\n",
       " 0.023032595744856287,\n",
       " 0.024029094045857038,\n",
       " 0.020888677779828394,\n",
       " 0.029815471365979705,\n",
       " 0.034817081018165,\n",
       " 0.02652561404210974,\n",
       " 0.032587048317121475,\n",
       " 0.03168175011481056,\n",
       " 0.03196465692859398,\n",
       " 0.03424325212259732,\n",
       " 0.0278100558386761,\n",
       " 0.0274149650219152,\n",
       " 0.02533383113860744,\n",
       " 0.034141170076305474,\n",
       " 0.025668959459904984,\n",
       " 0.020498115567645133,\n",
       " 0.02696574449981913,\n",
       " 0.02441451949096171,\n",
       " 0.02441851198814876,\n",
       " 0.028515523516782316,\n",
       " 0.02114037965174837,\n",
       " 0.022933025420887817,\n",
       " 0.01794383721490707,\n",
       " 0.028066630720717804,\n",
       " 0.03186479376211792,\n",
       " 0.02378130025753992,\n",
       " 0.030817281561498676,\n",
       " 0.02954026785750137,\n",
       " 0.029543619481967764,\n",
       " 0.032565222275577184,\n",
       " 0.021873333916653265,\n",
       " 0.026735545630803204,\n",
       " 0.02159926816593721,\n",
       " 0.030159637384758978,\n",
       " 0.03590804654545465,\n",
       " 0.02739452528946745,\n",
       " 0.035940857471651995,\n",
       " 0.03531770835326823,\n",
       " 0.03376902601356332,\n",
       " 0.03800955310000204,\n",
       " 0.027754807635452426,\n",
       " 0.030805436605013243,\n",
       " 0.025821357311518762,\n",
       " 0.03538201199045902,\n",
       " 0.04277483208349445,\n",
       " 0.03303849965363841,\n",
       " 0.04185454189833697,\n",
       " 0.041308671961161586,\n",
       " 0.04085028129737479,\n",
       " 0.04425625590918711,\n",
       " 0.03571449197563595,\n",
       " 0.03748250404761183,\n",
       " 0.03156763645095519,\n",
       " 0.04459365108238149,\n",
       " 0.03507468719068452,\n",
       " 0.02614529552823306,\n",
       " 0.033964335787796784,\n",
       " 0.03523201678121249,\n",
       " 0.032554055499896525,\n",
       " 0.03661574918386809,\n",
       " 0.027409094367572762,\n",
       " 0.02890794152329969,\n",
       " 0.026130918206999407,\n",
       " 0.03507785803558797,\n",
       " 0.036089355138441775,\n",
       " 0.028938087593773837,\n",
       " 0.03427889210197477,\n",
       " 0.0336132057678629,\n",
       " 0.031833431536632324,\n",
       " 0.037314380140553605,\n",
       " 0.027137381890646732,\n",
       " 0.029833560224932734,\n",
       " 0.027063329771557176,\n",
       " 0.03473941467968081,\n",
       " 0.02282072616481387,\n",
       " 0.017446865623495584,\n",
       " 0.02315483626253064,\n",
       " 0.023074066463296256,\n",
       " 0.02189294748087724,\n",
       " 0.02555145168670415,\n",
       " 0.0199384388957529,\n",
       " 0.01963576209920712,\n",
       " 0.015837590165627375,\n",
       " 0.024419026906238768]"
      ]
     },
     "execution_count": 160,
     "metadata": {},
     "output_type": "execute_result"
    }
   ],
   "source": [
    "# epect these to be very different\n",
    "d2 = kl_div(cv_list_exc, cv_list_exc_2)\n",
    "d2"
   ]
  },
  {
   "cell_type": "code",
   "execution_count": 161,
   "metadata": {},
   "outputs": [
    {
     "name": "stdout",
     "output_type": "stream",
     "text": [
      "maximum difference:  0.04459365108238149  Minimum difference:  0.015837590165627375\n"
     ]
    }
   ],
   "source": [
    "print('maximum difference: ',max(d2), ' Minimum difference: ', min(d2))"
   ]
  },
  {
   "cell_type": "markdown",
   "metadata": {},
   "source": [
    "Brunel with rounded spiek tiems and delays on [1.0,2.0] vs. rounded spike times and delays on [0.9375,2.0625]."
   ]
  },
  {
   "cell_type": "code",
   "execution_count": 162,
   "metadata": {},
   "outputs": [],
   "source": [
    "exc_2, inh_2 = round_equal()\n",
    "cv_list_exc_2, cv_list_inh_2 = get_cv_lists(exc_2, inh_2)"
   ]
  },
  {
   "cell_type": "code",
   "execution_count": 163,
   "metadata": {},
   "outputs": [
    {
     "data": {
      "text/plain": [
       "[0.001288661323909908,\n",
       " 0.0020567852057046055,\n",
       " 0.0010155038186731012,\n",
       " 0.0011514285367570142,\n",
       " 0.0014350040606396993,\n",
       " 0.00047574405247362663,\n",
       " 0.0011355901789951162,\n",
       " 0.0009855227728535042,\n",
       " 0.0015387183842418724,\n",
       " 0.002334853384760971,\n",
       " 0.0007237328281119761,\n",
       " 0.002569825067805315,\n",
       " 0.0008522180929431994,\n",
       " 0.0014819193631671285,\n",
       " 0.0014544961529765732,\n",
       " 0.00039069366512981343,\n",
       " 0.001246452130276093,\n",
       " 0.0009449864649560733,\n",
       " 0.0022690489769461586,\n",
       " 0.0020316740108111174,\n",
       " 0.0016746454242847174,\n",
       " 0.00314155087101951,\n",
       " 0.0020647337916813893,\n",
       " 0.0009408238258907211,\n",
       " 0.0021493799135484893,\n",
       " 0.002107177514177717,\n",
       " 0.0018531725998193007,\n",
       " 0.0009849588441856712,\n",
       " 0.0019207969974309887,\n",
       " 0.002910273927395429,\n",
       " 0.002120614242186866,\n",
       " 0.003819574750492672,\n",
       " 0.0018746367329721659,\n",
       " 0.001286237817761846,\n",
       " 0.0010011432676431849,\n",
       " 0.0008079359910085357,\n",
       " 0.0022323591571856982,\n",
       " 0.002363568759706671,\n",
       " 0.002843677908426768,\n",
       " 0.001798798175932377,\n",
       " 0.0010270239517829558,\n",
       " 0.0025325514318817292,\n",
       " 0.0008426151308661417,\n",
       " 0.001364904192462933,\n",
       " 0.0013041684600260954,\n",
       " 0.0009652374592599186,\n",
       " 0.0013366904785116485,\n",
       " 0.0007097098607634618,\n",
       " 0.0013196694778591029,\n",
       " 0.002263334690431881,\n",
       " 0.0020818814760343047,\n",
       " 0.0023231960679582038,\n",
       " 0.0009650460572642165,\n",
       " 0.001646611903426486,\n",
       " 0.0029177739856869195,\n",
       " 0.0011922694118057142,\n",
       " 0.0012385818906902174,\n",
       " 0.0016523258027776907,\n",
       " 0.0016301193994488067,\n",
       " 0.004419332937135024,\n",
       " 0.0009818363863525411,\n",
       " 0.0008409464044902344,\n",
       " 0.001540225764229281,\n",
       " 0.002732716544979093,\n",
       " 0.004436322968311758,\n",
       " 0.001917851104267355,\n",
       " 0.0007110994318410892,\n",
       " 0.00119498233036709,\n",
       " 0.0007547588243552249,\n",
       " 0.005422198576236496,\n",
       " 0.0015512044557619705,\n",
       " 0.001259421888252512,\n",
       " 0.0012606256774748506,\n",
       " 0.001404255014023784,\n",
       " 0.0025621156716719128,\n",
       " 0.0011292369375862383,\n",
       " 0.0009747456985818656,\n",
       " 0.0015711778540168871,\n",
       " 0.000926926129803531,\n",
       " 0.003514673589732414,\n",
       " 0.0013762684809186796,\n",
       " 0.0015332227825602838,\n",
       " 0.0016260364484802022,\n",
       " 0.0019699726589367827,\n",
       " 0.0023591169670734184,\n",
       " 0.0010891869973102257,\n",
       " 0.0016310910071519879,\n",
       " 0.000985132746324573,\n",
       " 0.0018909220308343025,\n",
       " 0.003916073499348242,\n",
       " 0.0023434822025052288,\n",
       " 0.0047613368387274075,\n",
       " 0.001862952214518489,\n",
       " 0.0009905571945412793,\n",
       " 0.0010114905611698648,\n",
       " 0.0012157367829122284,\n",
       " 0.002691792686747819,\n",
       " 0.003332260862012161,\n",
       " 0.0029307085535503702,\n",
       " 0.0011121987679865324]"
      ]
     },
     "execution_count": 163,
     "metadata": {},
     "output_type": "execute_result"
    }
   ],
   "source": [
    "# expect these to be more equal than last case, but not as equal as simulations from same model.\n",
    "d3 = kl_div(cv_list_exc, cv_list_exc_2)\n",
    "d3"
   ]
  },
  {
   "cell_type": "code",
   "execution_count": 164,
   "metadata": {
    "scrolled": true
   },
   "outputs": [
    {
     "name": "stdout",
     "output_type": "stream",
     "text": [
      "maximum difference:  0.005422198576236496  Minimum difference:  0.00039069366512981343\n"
     ]
    }
   ],
   "source": [
    "print('maximum difference: ',max(d3), ' Minimum difference: ', min(d3))"
   ]
  },
  {
   "cell_type": "markdown",
   "metadata": {},
   "source": [
    "rounded spikes [1.0,2.0] vs. continuous case."
   ]
  },
  {
   "cell_type": "code",
   "execution_count": 165,
   "metadata": {},
   "outputs": [],
   "source": [
    "exc_2, inh_2 = continuous()\n",
    "cv_list_exc_2, cv_list_inh_2 = get_cv_lists(exc_2, inh_2)"
   ]
  },
  {
   "cell_type": "code",
   "execution_count": 166,
   "metadata": {},
   "outputs": [
    {
     "data": {
      "text/plain": [
       "[0.028386746467873265,\n",
       " 0.02620871249454446,\n",
       " 0.03306757270730868,\n",
       " 0.03693723694548769,\n",
       " 0.02991955151277597,\n",
       " 0.02358695188605447,\n",
       " 0.018948000053628747,\n",
       " 0.02571815820847716,\n",
       " 0.034587959217445965,\n",
       " 0.033087992635577726,\n",
       " 0.026512147032380542,\n",
       " 0.02351810947694625,\n",
       " 0.031866083874991416,\n",
       " 0.03523645844107664,\n",
       " 0.025786880152606644,\n",
       " 0.021078783190032466,\n",
       " 0.01582604810241075,\n",
       " 0.022891296609046815,\n",
       " 0.03283627216015289,\n",
       " 0.029515287978229627,\n",
       " 0.030689922384139076,\n",
       " 0.029405677993277073,\n",
       " 0.03506777702576572,\n",
       " 0.03763394436275531,\n",
       " 0.031545857195590034,\n",
       " 0.02595997709344659,\n",
       " 0.019910666383790177,\n",
       " 0.027019848854376045,\n",
       " 0.033972139337905875,\n",
       " 0.03344945613080309,\n",
       " 0.02276523692990469,\n",
       " 0.021140433746462052,\n",
       " 0.027886105656655065,\n",
       " 0.030924352393280716,\n",
       " 0.022921985899269588,\n",
       " 0.01867026296876746,\n",
       " 0.014447329032292127,\n",
       " 0.020461434349768954,\n",
       " 0.030158376099041602,\n",
       " 0.027098066280999537,\n",
       " 0.0293713601991243,\n",
       " 0.025254330133495446,\n",
       " 0.03426094225890559,\n",
       " 0.03744853972412512,\n",
       " 0.029728975101835465,\n",
       " 0.023685549085516202,\n",
       " 0.018726335000971542,\n",
       " 0.024576027670447684,\n",
       " 0.03154380288445302,\n",
       " 0.03412837948161273,\n",
       " 0.03228455201728824,\n",
       " 0.030542764543248405,\n",
       " 0.03774128093090888,\n",
       " 0.04018532256654082,\n",
       " 0.032701094371868925,\n",
       " 0.026557051156302174,\n",
       " 0.021001162349003077,\n",
       " 0.02939582097312275,\n",
       " 0.03766052198043618,\n",
       " 0.03568951527985023,\n",
       " 0.040313660625447174,\n",
       " 0.03636918407513244,\n",
       " 0.04487112607834155,\n",
       " 0.04905116584387103,\n",
       " 0.04102093357850635,\n",
       " 0.03330177654090766,\n",
       " 0.02754494663310709,\n",
       " 0.0350747189508114,\n",
       " 0.04419638220049466,\n",
       " 0.04506939390512379,\n",
       " 0.032554437248981105,\n",
       " 0.029132663565135993,\n",
       " 0.037535322193888755,\n",
       " 0.04063291848609999,\n",
       " 0.031616962823768656,\n",
       " 0.026818747774694385,\n",
       " 0.021128080121231754,\n",
       " 0.02910743082601003,\n",
       " 0.037740139755456814,\n",
       " 0.035486021613797526,\n",
       " 0.03282161305257872,\n",
       " 0.030716119467506933,\n",
       " 0.03864869384246008,\n",
       " 0.040836930198159975,\n",
       " 0.032649936604645456,\n",
       " 0.026685549967968236,\n",
       " 0.021284666724754247,\n",
       " 0.028805926810565933,\n",
       " 0.036716096805476356,\n",
       " 0.03729686071526171,\n",
       " 0.02094711852975741,\n",
       " 0.018436802348793222,\n",
       " 0.024967424885399735,\n",
       " 0.02857693375227748,\n",
       " 0.020844598290583802,\n",
       " 0.01641769695495171,\n",
       " 0.012157828239834783,\n",
       " 0.01848895819643921,\n",
       " 0.026960876120191848,\n",
       " 0.023494494972064645]"
      ]
     },
     "execution_count": 166,
     "metadata": {},
     "output_type": "execute_result"
    }
   ],
   "source": [
    "d4 = kl_div(cv_list_exc, cv_list_exc_2)\n",
    "d4"
   ]
  },
  {
   "cell_type": "code",
   "execution_count": 167,
   "metadata": {},
   "outputs": [
    {
     "name": "stdout",
     "output_type": "stream",
     "text": [
      "maximum difference:  0.04905116584387103  Minimum difference:  0.012157828239834783\n"
     ]
    }
   ],
   "source": [
    "print('maximum difference: ',max(d4), ' Minimum difference: ', min(d4))"
   ]
  },
  {
   "cell_type": "markdown",
   "metadata": {},
   "source": [
    "The question is how many bins should we use?  And is it correct to use the discrete distribution version? "
   ]
  },
  {
   "cell_type": "code",
   "execution_count": null,
   "metadata": {},
   "outputs": [],
   "source": []
  },
  {
   "cell_type": "code",
   "execution_count": 227,
   "metadata": {},
   "outputs": [],
   "source": [
    "def ecdf(x,tot_min,tot_max):\n",
    "    x = np.sort(list(x)+[tot_min,tot_max])\n",
    "    u, c = np.unique(x, return_counts=True)\n",
    "    n = len(x)\n",
    "    y = (np.cumsum(c) - 0.5)/n\n",
    "    def interpolate_(x_):\n",
    "        yinterp = np.interp(x_, u, y, left=tot_min, right=tot_max)\n",
    "        return yinterp\n",
    "    return interpolate_\n",
    "\n",
    "def cumulative_kl(x,y,fraction=0.5): \n",
    "    dx = np.diff(np.sort(np.unique(x)))\n",
    "    dy = np.diff(np.sort(np.unique(y)))\n",
    "    ex = np.min(dx)\n",
    "    ey = np.min(dy)\n",
    "    e = np.min([ex,ey])*fraction\n",
    "    n = len(x)\n",
    "    # total max\n",
    "    max_x = max(x)\n",
    "    max_y = max(y)\n",
    "    tot_max = max(max_x,max_y)\n",
    "    # total min\n",
    "    min_x = min(x)\n",
    "    min_y = min(y)\n",
    "    tot_min = min(min_x, min_y)\n",
    "    # send tot_max and tot_min to interpolation limits\n",
    "    P = ecdf(x,tot_min,tot_max)\n",
    "    Q = ecdf(y,tot_min,tot_max)  \n",
    "    KL = (1./n)*np.sum(np.log((P(x) - P(x-e))/(Q(x) - Q(x-e)))) - 1\n",
    "    return KL"
   ]
  },
  {
   "cell_type": "code",
   "execution_count": 188,
   "metadata": {},
   "outputs": [
    {
     "data": {
      "text/plain": [
       "9.997572240905139e-08"
      ]
     },
     "execution_count": 188,
     "metadata": {},
     "output_type": "execute_result"
    }
   ],
   "source": [
    "np.min(np.diff(np.sort(np.unique(x1))))"
   ]
  },
  {
   "cell_type": "code",
   "execution_count": 190,
   "metadata": {},
   "outputs": [],
   "source": [
    "e = 0.5*np.min(np.diff(np.sort(np.unique(x2))))"
   ]
  },
  {
   "cell_type": "code",
   "execution_count": 215,
   "metadata": {},
   "outputs": [
    {
     "data": {
      "text/plain": [
       "4.781463311225032e-13"
      ]
     },
     "execution_count": 215,
     "metadata": {},
     "output_type": "execute_result"
    }
   ],
   "source": [
    "min(ecdf_x1(x1)-ecdf_x1(x1-e))"
   ]
  },
  {
   "cell_type": "code",
   "execution_count": 216,
   "metadata": {},
   "outputs": [
    {
     "data": {
      "text/plain": [
       "1587"
      ]
     },
     "execution_count": 216,
     "metadata": {},
     "output_type": "execute_result"
    }
   ],
   "source": [
    "np.argmin(ecdf_x2(x1)-ecdf_x2(x1-e))"
   ]
  },
  {
   "cell_type": "code",
   "execution_count": 217,
   "metadata": {},
   "outputs": [
    {
     "data": {
      "text/plain": [
       "array([0.68156668, 0.72246814, 0.        , 0.00262565, 0.39908235])"
      ]
     },
     "execution_count": 217,
     "metadata": {},
     "output_type": "execute_result"
    }
   ],
   "source": [
    "ecdf_x2(x1[1585:1590])"
   ]
  },
  {
   "cell_type": "code",
   "execution_count": 218,
   "metadata": {},
   "outputs": [
    {
     "data": {
      "text/plain": [
       "array([0.68156668, 0.72246814, 0.        , 0.00262565, 0.39908235])"
      ]
     },
     "execution_count": 218,
     "metadata": {},
     "output_type": "execute_result"
    }
   ],
   "source": [
    "ecdf_x2(x1[1585:1590]-e)"
   ]
  },
  {
   "cell_type": "code",
   "execution_count": 210,
   "metadata": {},
   "outputs": [
    {
     "data": {
      "text/plain": [
       "array([1.32175004e-09, 1.81493853e-09, 0.00000000e+00, 3.36784819e-11,\n",
       "       1.98755845e-10])"
      ]
     },
     "execution_count": 210,
     "metadata": {},
     "output_type": "execute_result"
    }
   ],
   "source": [
    "ecdf_x2(x1[1585:1590])-ecdf_x2(x1[1585:1590]-e)"
   ]
  },
  {
   "cell_type": "code",
   "execution_count": 211,
   "metadata": {},
   "outputs": [
    {
     "data": {
      "text/plain": [
       "array([ 0.47677817,  0.59802523, -3.9906047 , -2.94027109, -0.24173772])"
      ]
     },
     "execution_count": 211,
     "metadata": {},
     "output_type": "execute_result"
    }
   ],
   "source": [
    "x1[1585:1590]"
   ]
  },
  {
   "cell_type": "code",
   "execution_count": 212,
   "metadata": {},
   "outputs": [
    {
     "data": {
      "text/plain": [
       "-4.087882594514999"
      ]
     },
     "execution_count": 212,
     "metadata": {},
     "output_type": "execute_result"
    }
   ],
   "source": [
    "min(x1)"
   ]
  },
  {
   "cell_type": "code",
   "execution_count": 213,
   "metadata": {},
   "outputs": [
    {
     "data": {
      "text/plain": [
       "-3.5331042009352496"
      ]
     },
     "execution_count": 213,
     "metadata": {},
     "output_type": "execute_result"
    }
   ],
   "source": [
    "min(x2)"
   ]
  },
  {
   "cell_type": "code",
   "execution_count": 205,
   "metadata": {},
   "outputs": [
    {
     "data": {
      "text/plain": [
       "inf"
      ]
     },
     "execution_count": 205,
     "metadata": {},
     "output_type": "execute_result"
    }
   ],
   "source": [
    "np.mean(a)"
   ]
  },
  {
   "cell_type": "code",
   "execution_count": 203,
   "metadata": {},
   "outputs": [
    {
     "name": "stderr",
     "output_type": "stream",
     "text": [
      "<ipython-input-203-7fe1acf1458a>:1: RuntimeWarning:divide by zero encountered in true_divide\n"
     ]
    },
    {
     "data": {
      "text/plain": [
       "<matplotlib.axes._subplots.AxesSubplot at 0x7f88ac592bb0>"
      ]
     },
     "execution_count": 203,
     "metadata": {},
     "output_type": "execute_result"
    },
    {
     "data": {
      "image/png": "[encoded data removed]",
      "text/plain": [
       "<Figure size 1008x720 with 1 Axes>"
      ]
     },
     "metadata": {
      "needs_background": "light"
     },
     "output_type": "display_data"
    }
   ],
   "source": [
    "a = (ecdf_x1(x1)-ecdf_x1(x1-e))/(ecdf_x2(x1)-ecdf_x2(x1-e))\n",
    "sns.ecdfplot(np.log(a))"
   ]
  },
  {
   "cell_type": "code",
   "execution_count": null,
   "metadata": {},
   "outputs": [],
   "source": [
    "x1 = np.random.normal(0, 1, 10000)\n",
    "x2 = np.random.normal(0, 1, 10000)\n",
    "x3 = np.random.normal(0, 1, 10000)\n",
    "x4 = np.random.normal(0, 1, 10000)\n",
    "x5 = np.random.normal(0, 1, 10000)\n",
    "x6 = np.random.normal(0, 1, 10000)\n",
    "x7 = np.random.normal(0, 1, 10000)\n",
    "x8 = np.random.normal(0, 1, 10000)\n",
    "x9 = np.random.normal(0, 1, 10000)\n",
    "x10 = np.random.normal(0, 1, 10000)\n",
    "x = [x1,x2,x3,x4,x5,x6,x7,x8,x9,x10]"
   ]
  },
  {
   "cell_type": "code",
   "execution_count": 228,
   "metadata": {},
   "outputs": [],
   "source": [
    "divs_cont = []\n",
    "for i in range(0,10):\n",
    "        for j in range(0,i):\n",
    "            kl = cumulative_kl(x[i],x[j],fraction=0.05)\n",
    "            divs_cont.append(kl)"
   ]
  },
  {
   "cell_type": "code",
   "execution_count": 229,
   "metadata": {},
   "outputs": [
    {
     "data": {
      "text/plain": [
       "array([ 0.02276723,  0.01555777,  0.01299636, -0.01284911, -0.00031115,\n",
       "       -0.00417728,  0.01262605,  0.02605892,  0.02595068,  0.00036448,\n",
       "       -0.02068981, -0.01931756, -0.00619723, -0.0279479 , -0.0220647 ,\n",
       "        0.00990452,  0.00178968,  0.00036518, -0.01010138,  0.00356242,\n",
       "       -0.03541187,  0.006663  ,  0.01657231,  0.01702439,  0.01012413,\n",
       "        0.02294688, -0.0021284 , -0.00250318, -0.01080888,  0.0024771 ,\n",
       "        0.00886426, -0.00408152, -0.01174835, -0.01494913, -0.01943078,\n",
       "        0.01376621,  0.01145918,  0.01584217,  0.01411663,  0.00248103,\n",
       "        0.00152918, -0.01425059, -0.01313406,  0.01646706,  0.0029946 ])"
      ]
     },
     "execution_count": 229,
     "metadata": {},
     "output_type": "execute_result"
    }
   ],
   "source": [
    "np.array(divs_cont)"
   ]
  },
  {
   "cell_type": "code",
   "execution_count": 226,
   "metadata": {},
   "outputs": [
    {
     "data": {
      "text/plain": [
       "(array([1., 1., 4., 5., 3., 7., 7., 6., 7., 4.]),\n",
       " array([-0.03541187, -0.02926479, -0.02311771, -0.01697063, -0.01082355,\n",
       "        -0.00467647,  0.00147061,  0.00761768,  0.01376476,  0.01991184,\n",
       "         0.02605892]),\n",
       " <a list of 10 Patch objects>)"
      ]
     },
     "execution_count": 226,
     "metadata": {},
     "output_type": "execute_result"
    },
    {
     "data": {
      "image/png": "[encoded data removed]",
      "text/plain": [
       "<Figure size 1008x720 with 1 Axes>"
      ]
     },
     "metadata": {
      "needs_background": "light"
     },
     "output_type": "display_data"
    }
   ],
   "source": [
    "plt.hist(np.array(divs_cont)-1)"
   ]
  },
  {
   "cell_type": "code",
   "execution_count": 219,
   "metadata": {},
   "outputs": [
    {
     "ename": "TypeError",
     "evalue": "ecdf() missing 2 required positional arguments: 'tot_min' and 'tot_max'",
     "output_type": "error",
     "traceback": [
      "\u001b[0;31m---------------------------------------------------------------------------\u001b[0m",
      "\u001b[0;31mTypeError\u001b[0m                                 Traceback (most recent call last)",
      "\u001b[0;32m<ipython-input-219-5a90a7bcfdfe>\u001b[0m in \u001b[0;36m<module>\u001b[0;34m\u001b[0m\n\u001b[0;32m----> 1\u001b[0;31m \u001b[0mecdf_x1\u001b[0m \u001b[0;34m=\u001b[0m \u001b[0mecdf\u001b[0m\u001b[0;34m(\u001b[0m\u001b[0mx1\u001b[0m\u001b[0;34m)\u001b[0m\u001b[0;34m\u001b[0m\u001b[0;34m\u001b[0m\u001b[0m\n\u001b[0m\u001b[1;32m      2\u001b[0m \u001b[0mecdf_x2\u001b[0m \u001b[0;34m=\u001b[0m \u001b[0mecdf\u001b[0m\u001b[0;34m(\u001b[0m\u001b[0mx2\u001b[0m\u001b[0;34m)\u001b[0m\u001b[0;34m\u001b[0m\u001b[0;34m\u001b[0m\u001b[0m\n",
      "\u001b[0;31mTypeError\u001b[0m: ecdf() missing 2 required positional arguments: 'tot_min' and 'tot_max'"
     ]
    }
   ],
   "source": [
    "ecdf_x1 = ecdf(x1)\n",
    "ecdf_x2 = ecdf(x2)"
   ]
  },
  {
   "cell_type": "code",
   "execution_count": 187,
   "metadata": {},
   "outputs": [
    {
     "data": {
      "image/png": "[encoded data removed]",
      "text/plain": [
       "<Figure size 1008x720 with 1 Axes>"
      ]
     },
     "metadata": {
      "needs_background": "light"
     },
     "output_type": "display_data"
    }
   ],
   "source": [
    "xx = np.linspace(-5,5,num=100)\n",
    "plt.plot(xx,ecdf_x1(xx))\n",
    "plt.plot(xx,ecdf_x2(xx))\n",
    "plt.show()"
   ]
  },
  {
   "cell_type": "code",
   "execution_count": null,
   "metadata": {},
   "outputs": [],
   "source": []
  }
 ],
 "metadata": {
  "kernelspec": {
   "display_name": "Python 3",
   "language": "python",
   "name": "python3"
  },
  "language_info": {
   "codemirror_mode": {
    "name": "ipython",
    "version": 3
   },
   "file_extension": ".py",
   "mimetype": "text/x-python",
   "name": "python",
   "nbconvert_exporter": "python",
   "pygments_lexer": "ipython3",
   "version": "3.8.8"
  }
 },
 "nbformat": 4,
 "nbformat_minor": 4
}
