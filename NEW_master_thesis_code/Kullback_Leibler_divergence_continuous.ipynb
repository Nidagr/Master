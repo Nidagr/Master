{
 "cells": [
  {
   "cell_type": "code",
   "execution_count": 1,
   "metadata": {},
   "outputs": [],
   "source": [
    "import numpy as np\n",
    "import pandas as pd\n",
    "import matplotlib.pyplot as plt\n",
    "import seaborn as sns\n",
    "import elephant\n",
    "import quantities as pq\n",
    "import neo\n",
    "import sys\n",
    "plt.rcParams['figure.figsize'] = (14, 10)\n",
    "import scipy.stats as stats\n",
    "import itertools\n",
    "import random"
   ]
  },
  {
   "cell_type": "markdown",
   "metadata": {},
   "source": [
    "# Kullback-Leibler divergence\n",
    "\n",
    "We want to examine the Kullback-Leilber divergence for comparing distributions. In this notebook we assume the distributions are continuous and not discrete. The divergence is calculated by approxmating a empirical cdf for the two distributions."
   ]
  },
  {
   "cell_type": "code",
   "execution_count": 2,
   "metadata": {},
   "outputs": [],
   "source": [
    "def ecdf(x,tot_min,tot_max):\n",
    "    x = np.sort(list(x)+[tot_min,tot_max])\n",
    "    u, c = np.unique(x, return_counts=True)\n",
    "    n = len(x)\n",
    "    y = (np.cumsum(c) - 0.5)/n\n",
    "    def interpolate_(x_):\n",
    "        yinterp = np.interp(x_, u, y, left=tot_min, right=tot_max)\n",
    "        return yinterp\n",
    "    return interpolate_\n",
    "\n",
    "def cumulative_kl(x,y,fraction=0.5): \n",
    "    dx = np.diff(np.sort(np.unique(x)))\n",
    "    dy = np.diff(np.sort(np.unique(y)))\n",
    "    ex = np.min(dx)\n",
    "    ey = np.min(dy)\n",
    "    e = np.min([ex,ey])*fraction\n",
    "    n = len(x)\n",
    "    # total max\n",
    "    max_x = max(x)\n",
    "    max_y = max(y)\n",
    "    tot_max = max(max_x,max_y)\n",
    "    # total min\n",
    "    min_x = min(x)\n",
    "    min_y = min(y)\n",
    "    tot_min = min(min_x, min_y)\n",
    "    # send tot_max and tot_min to interpolation limits\n",
    "    P = ecdf(x,tot_min,tot_max)\n",
    "    Q = ecdf(y,tot_min,tot_max)\n",
    "    \n",
    "    # machine epsilon\n",
    "    machine_eps = np.finfo('float').eps\n",
    "    summ = 0\n",
    "    for i in range(0,len(x)):\n",
    "        if(abs(Q(x[i])-Q(x[i]-e))>3*machine_eps):\n",
    "            summ += np.log((P(x[i]) - P(x[i]-e))/(Q(x[i]) - Q(x[i]-e)))\n",
    "    # 1/n*summ - 1 converges to KL divergence    \n",
    "    KL = (1./n)*summ - 1\n",
    "    #KL = (1./n)*np.sum(np.log((P(x) - P(x-e))/(Q(x) - Q(x-e)))) - 1\n",
    "    return KL"
   ]
  },
  {
   "cell_type": "markdown",
   "metadata": {},
   "source": [
    "We get nan because the expression (P(x)-P(x-e))/(Q(x)-Q(x-e)) is not a real number. Must be division by 0. \n",
    "\n",
    "Checked for several of the values that got nan. Seems like we get 0/0. This means that P(x) and P(x-e) are the same. And Q(x) and Q(x-e) are the same. Seems like maybe we need to take bigger steps? To make sure we get different values? Or should i make the function not calculate the KL value for when Q(x) and Q(x-e) are equal? Changing the fraction does not help. That is equivalent to changing step size. Probably best to just avoid calculating KL when x and x-e gives same value for the distributions. Use an if-test."
   ]
  },
  {
   "cell_type": "code",
   "execution_count": 3,
   "metadata": {},
   "outputs": [],
   "source": [
    "# mock data\n",
    "# create 10 normal distributions with 10 000 numbers, mean 0 and standard deviation 1\n",
    "x = np.random.normal(0, 1, size=(10,10000))"
   ]
  },
  {
   "cell_type": "code",
   "execution_count": 4,
   "metadata": {},
   "outputs": [],
   "source": [
    "divs_cont = []\n",
    "for i in range(0,10):\n",
    "        for j in range(0,i):\n",
    "            kl = cumulative_kl(x[i],x[j],fraction=0.05)\n",
    "            divs_cont.append(kl)"
   ]
  },
  {
   "cell_type": "code",
   "execution_count": 5,
   "metadata": {},
   "outputs": [
    {
     "name": "stdout",
     "output_type": "stream",
     "text": [
      "maximum divergence:  0.026850628445515223  minimum divergence:  -0.017251327857875864\n"
     ]
    }
   ],
   "source": [
    "print('maximum divergence: ', max(divs_cont), ' minimum divergence: ',min(divs_cont))"
   ]
  },
  {
   "cell_type": "markdown",
   "metadata": {},
   "source": [
    "Try to run for our model."
   ]
  },
  {
   "cell_type": "code",
   "execution_count": 3,
   "metadata": {},
   "outputs": [],
   "source": [
    "cv_path = 'C:\\\\Users\\\\Nida\\\\Documents\\\\NMBU\\\\master\\\\spike_data\\\\CV_distributions\\\\resolution_1_8'\n",
    "round_1_2_exc = pd.read_csv(r'{}/brunel_round_1_2_exc_cv.csv'.format(cv_path),index_col=0)\n",
    "round_1_2_inh = pd.read_csv(r'{}/brunel_round_1_2_inh_cv.csv'.format(cv_path),index_col=0)\n",
    "exact_1_2_exc = pd.read_csv(r'{}/brunel_exact_1_2_exc_cv.csv'.format(cv_path),index_col=0)\n",
    "exact_1_2_inh = pd.read_csv(r'{}/brunel_exact_1_2_inh_cv.csv'.format(cv_path),index_col=0)\n",
    "round_equal_exc = pd.read_csv(r'{}/brunel_round_equal_exc_cv.csv'.format(cv_path),index_col=0)\n",
    "round_equal_inh = pd.read_csv(r'{}/brunel_round_equal_inh_cv.csv'.format(cv_path),index_col=0)\n",
    "exact_equal_exc = pd.read_csv(r'{}/brunel_exact_equal_exc_cv.csv'.format(cv_path),index_col=0)\n",
    "exact_equal_inh = pd.read_csv(r'{}/brunel_exact_equal_inh_cv.csv'.format(cv_path),index_col=0)\n",
    "continuous_exc = pd.read_csv(r'{}/brunel_continuous_exc_cv.csv'.format(cv_path),index_col=0)\n",
    "continuous_inh = pd.read_csv(r'{}/brunel_continuous_inh_cv.csv'.format(cv_path),index_col=0)"
   ]
  },
  {
   "cell_type": "code",
   "execution_count": 4,
   "metadata": {},
   "outputs": [],
   "source": [
    "def kl(cv_list_exc,cv_list_inh):\n",
    "    cv_list_exc = cv_list_exc.values.tolist()\n",
    "    cv_list_inh = cv_list_inh.values.tolist()\n",
    "    divs_exc = []\n",
    "    divs_inh = []\n",
    "    for i in range(0,10):\n",
    "        for j in range(0,i):\n",
    "            kl_exc = cumulative_kl(cv_list_exc[i],cv_list_exc[j],fraction=0.05)\n",
    "            kl_inh = cumulative_kl(cv_list_inh[i],cv_list_inh[j],fraction=0.05)\n",
    "            divs_exc.append(kl_exc)\n",
    "            divs_inh.append(kl_inh)\n",
    "    return divs_exc, divs_inh"
   ]
  },
  {
   "cell_type": "code",
   "execution_count": 5,
   "metadata": {},
   "outputs": [],
   "source": [
    "divs_exc_round_1_2_self, divs_inh_round_1_2_self = kl(round_1_2_exc, round_1_2_inh)"
   ]
  },
  {
   "cell_type": "code",
   "execution_count": 60,
   "metadata": {},
   "outputs": [
    {
     "name": "stdout",
     "output_type": "stream",
     "text": [
      "maximum divergence:  0.018555506341647376  minimum divergence:  -0.022423143878084306\n",
      "maximum divergence:  0.05101233279345463  minimum divergence:  -0.04169866833513369\n"
     ]
    }
   ],
   "source": [
    "print('maximum divergence: ',max(divs_exc), ' minimum divergence: ',min(divs_exc))\n",
    "print('maximum divergence: ',max(divs_inh), ' minimum divergence: ',min(divs_inh))"
   ]
  },
  {
   "cell_type": "code",
   "execution_count": 19,
   "metadata": {},
   "outputs": [],
   "source": [
    "divs_exc_exact_1_2_self, divs_inh_exact_1_2_self = kl(exact_1_2_exc, exact_1_2_inh)"
   ]
  },
  {
   "cell_type": "code",
   "execution_count": 62,
   "metadata": {},
   "outputs": [
    {
     "name": "stdout",
     "output_type": "stream",
     "text": [
      "maximum divergence:  0.027617736375079138  minimum divergence:  -0.024542611683108007\n",
      "maximum divergence:  0.039348383632115125  minimum divergence:  -0.04916936958762064\n"
     ]
    }
   ],
   "source": [
    "print('maximum divergence: ',max(divs_exc), ' minimum divergence: ',min(divs_exc))\n",
    "print('maximum divergence: ',max(divs_inh), ' minimum divergence: ',min(divs_inh))"
   ]
  },
  {
   "cell_type": "code",
   "execution_count": 63,
   "metadata": {},
   "outputs": [],
   "source": [
    "divs_exc, divs_inh = kl(round_equal_exc, round_equal_inh)"
   ]
  },
  {
   "cell_type": "code",
   "execution_count": 64,
   "metadata": {},
   "outputs": [
    {
     "name": "stdout",
     "output_type": "stream",
     "text": [
      "maximum divergence:  0.035136333050083124  minimum divergence:  -0.011492371515357203\n",
      "maximum divergence:  0.09350879776204324  minimum divergence:  -0.04978267501807632\n"
     ]
    }
   ],
   "source": [
    "print('maximum divergence: ',max(divs_exc), ' minimum divergence: ',min(divs_exc))\n",
    "print('maximum divergence: ',max(divs_inh), ' minimum divergence: ',min(divs_inh))"
   ]
  },
  {
   "cell_type": "code",
   "execution_count": 65,
   "metadata": {},
   "outputs": [],
   "source": [
    "divs_exc, divs_inh = kl(exact_equal_exc, exact_equal_inh)"
   ]
  },
  {
   "cell_type": "code",
   "execution_count": 66,
   "metadata": {},
   "outputs": [
    {
     "name": "stdout",
     "output_type": "stream",
     "text": [
      "maximum divergence:  0.03428111906212283  minimum divergence:  -0.030421123313659093\n",
      "maximum divergence:  0.0293579996755593  minimum divergence:  -0.04832179965643424\n"
     ]
    }
   ],
   "source": [
    "print('maximum divergence: ',max(divs_exc), ' minimum divergence: ',min(divs_exc))\n",
    "print('maximum divergence: ',max(divs_inh), ' minimum divergence: ',min(divs_inh))"
   ]
  },
  {
   "cell_type": "code",
   "execution_count": 25,
   "metadata": {},
   "outputs": [],
   "source": [
    "divs_exc_cont_self, divs_inh_cont_self = kl(continuous_exc, continuous_inh)"
   ]
  },
  {
   "cell_type": "code",
   "execution_count": 68,
   "metadata": {},
   "outputs": [
    {
     "name": "stdout",
     "output_type": "stream",
     "text": [
      "maximum divergence:  0.02315216986106705  minimum divergence:  -0.026458550789427604\n",
      "maximum divergence:  0.05468341051206704  minimum divergence:  -0.05243706941853943\n"
     ]
    }
   ],
   "source": [
    "print('maximum divergence: ',max(divs_exc), ' minimum divergence: ',min(divs_exc))\n",
    "print('maximum divergence: ',max(divs_inh), ' minimum divergence: ',min(divs_inh))"
   ]
  },
  {
   "cell_type": "markdown",
   "metadata": {},
   "source": [
    "Get KL divergence for pairs of simulations from two different models. Rounded brunel 1 2 vs. exact brunel 1 2."
   ]
  },
  {
   "cell_type": "code",
   "execution_count": 71,
   "metadata": {},
   "outputs": [
    {
     "name": "stdout",
     "output_type": "stream",
     "text": [
      "excitatory. maximum divergence:  0.05542959347769538  minimum divergence:  0.001089517671710949\n",
      "inhibitory. maximum divergence:  0.13581240868103128  minimum divergence:  -0.032578253981871974\n"
     ]
    }
   ],
   "source": [
    "print('excitatory. maximum divergence: ',max(divs_exc), ' minimum divergence: ',min(divs_exc))\n",
    "print('inhibitory. maximum divergence: ',max(divs_inh), ' minimum divergence: ',min(divs_inh))"
   ]
  },
  {
   "cell_type": "code",
   "execution_count": 73,
   "metadata": {},
   "outputs": [
    {
     "name": "stdout",
     "output_type": "stream",
     "text": [
      "excitatory. maximum divergence:  0.02783868647965715  minimum divergence:  -0.02929957373628367\n",
      "inhibitory. maximum divergence:  0.07328846100630448  minimum divergence:  -0.04468788001222612\n"
     ]
    }
   ],
   "source": [
    "print('excitatory. maximum divergence: ',max(divs_exc), ' minimum divergence: ',min(divs_exc))\n",
    "print('inhibitory. maximum divergence: ',max(divs_inh), ' minimum divergence: ',min(divs_inh))"
   ]
  },
  {
   "cell_type": "code",
   "execution_count": 77,
   "metadata": {},
   "outputs": [
    {
     "name": "stdout",
     "output_type": "stream",
     "text": [
      "excitatory. maximum divergence:  0.048667733453735096  minimum divergence:  -0.00963277045878086\n",
      "inhibitory. maximum divergence:  0.07948794617256927  minimum divergence:  -0.04729793731454279\n"
     ]
    }
   ],
   "source": [
    "print('excitatory. maximum divergence: ',max(divs_exc), ' minimum divergence: ',min(divs_exc))\n",
    "print('inhibitory. maximum divergence: ',max(divs_inh), ' minimum divergence: ',min(divs_inh))"
   ]
  },
  {
   "cell_type": "code",
   "execution_count": null,
   "metadata": {},
   "outputs": [],
   "source": []
  },
  {
   "cell_type": "code",
   "execution_count": 8,
   "metadata": {},
   "outputs": [],
   "source": [
    "def kl_two(value_list_1,value_list_2):\n",
    "    value_list_1 = value_list_1.values.tolist()\n",
    "    value_list_2 = value_list_2.values.tolist()\n",
    "    comb = list(itertools.product(value_list_1, value_list_2))\n",
    "    kls = []\n",
    "    for i in range(0,len(comb)):\n",
    "        kl = cumulative_kl(comb[i][0],comb[i][1],fraction=0.05)\n",
    "        kls.append(kl)\n",
    "    return kls"
   ]
  },
  {
   "cell_type": "code",
   "execution_count": 20,
   "metadata": {},
   "outputs": [],
   "source": [
    "divs_exc_round_exact = kl_two(round_1_2_exc, exact_1_2_exc)\n",
    "divs_inh_round_exact = kl_two(round_1_2_inh, exact_1_2_inh)"
   ]
  },
  {
   "cell_type": "code",
   "execution_count": 10,
   "metadata": {},
   "outputs": [
    {
     "name": "stdout",
     "output_type": "stream",
     "text": [
      "excitatory. maximum divergence:  0.055429626203565174  minimum divergence:  0.001089580537390944\n",
      "inhibitory. maximum divergence:  0.13581239720787086  minimum divergence:  -0.03257825313636731\n"
     ]
    }
   ],
   "source": [
    "print('excitatory. maximum divergence: ',max(divs_exc), ' minimum divergence: ',min(divs_exc))\n",
    "print('inhibitory. maximum divergence: ',max(divs_inh), ' minimum divergence: ',min(divs_inh))"
   ]
  },
  {
   "cell_type": "markdown",
   "metadata": {},
   "source": [
    "rounded 1 2 vs rounded equal."
   ]
  },
  {
   "cell_type": "code",
   "execution_count": 21,
   "metadata": {},
   "outputs": [],
   "source": [
    "divs_exc_round_equal = kl_two(round_1_2_exc,round_equal_exc)\n",
    "divs_inh_round_equal = kl_two(round_1_2_inh, round_equal_inh)"
   ]
  },
  {
   "cell_type": "code",
   "execution_count": 12,
   "metadata": {},
   "outputs": [
    {
     "name": "stdout",
     "output_type": "stream",
     "text": [
      "excitatory. maximum divergence:  0.027838675382482858  minimum divergence:  -0.029310512414981504\n",
      "inhibitory. maximum divergence:  0.07328854491264036  minimum divergence:  -0.04468787960960341\n"
     ]
    }
   ],
   "source": [
    "print('excitatory. maximum divergence: ',max(divs_exc), ' minimum divergence: ',min(divs_exc))\n",
    "print('inhibitory. maximum divergence: ',max(divs_inh), ' minimum divergence: ',min(divs_inh))"
   ]
  },
  {
   "cell_type": "markdown",
   "metadata": {},
   "source": [
    "rounded 1 2 vs. exact equal"
   ]
  },
  {
   "cell_type": "code",
   "execution_count": 22,
   "metadata": {},
   "outputs": [],
   "source": [
    "divs_exc_round_exact = kl_two(round_1_2_exc,exact_equal_exc)\n",
    "divs_inh_round_exact = kl_two(round_1_2_inh, exact_equal_inh)"
   ]
  },
  {
   "cell_type": "code",
   "execution_count": 14,
   "metadata": {},
   "outputs": [
    {
     "name": "stdout",
     "output_type": "stream",
     "text": [
      "excitatory. maximum divergence:  0.04862744717550305  minimum divergence:  -0.009632724295461359\n",
      "inhibitory. maximum divergence:  0.07948794796996728  minimum divergence:  -0.04729793648958158\n"
     ]
    }
   ],
   "source": [
    "print('excitatory. maximum divergence: ',max(divs_exc), ' minimum divergence: ',min(divs_exc))\n",
    "print('inhibitory. maximum divergence: ',max(divs_inh), ' minimum divergence: ',min(divs_inh))"
   ]
  },
  {
   "cell_type": "markdown",
   "metadata": {},
   "source": [
    "rounded 1 2 vs continuous."
   ]
  },
  {
   "cell_type": "code",
   "execution_count": 23,
   "metadata": {
    "scrolled": true
   },
   "outputs": [],
   "source": [
    "divs_exc_round_continuous = kl_two(round_1_2_exc,continuous_exc)\n",
    "divs_inh_round_continuous = kl_two(round_1_2_inh, continuous_inh)"
   ]
  },
  {
   "cell_type": "code",
   "execution_count": 16,
   "metadata": {},
   "outputs": [
    {
     "name": "stdout",
     "output_type": "stream",
     "text": [
      "excitatory. maximum divergence:  0.047708838079617344  minimum divergence:  -0.008401297397597762\n",
      "inhibitory. maximum divergence:  0.0913076645150861  minimum divergence:  -0.026165946959320174\n"
     ]
    }
   ],
   "source": [
    "print('excitatory. maximum divergence: ',max(divs_exc), ' minimum divergence: ',min(divs_exc))\n",
    "print('inhibitory. maximum divergence: ',max(divs_inh), ' minimum divergence: ',min(divs_inh))"
   ]
  },
  {
   "cell_type": "code",
   "execution_count": 26,
   "metadata": {},
   "outputs": [
    {
     "data": {
      "image/png": "[encoded data removed]",
      "text/plain": [
       "<Figure size 1008x720 with 1 Axes>"
      ]
     },
     "metadata": {
      "needs_background": "light"
     },
     "output_type": "display_data"
    }
   ],
   "source": [
    "sns.ecdfplot(divs_exc_round_1_2_self,label='round 1 2 self')\n",
    "sns.ecdfplot(divs_exc_exact_1_2_self, label='exact 1 2 self')\n",
    "sns.ecdfplot(divs_exc_cont_self, label='continuous self')\n",
    "sns.ecdfplot(divs_exc_round_exact, label='round 1 2 vs. exact 1 2')\n",
    "sns.ecdfplot(divs_exc_round_equal,label='round 1 2 vs. round equal')\n",
    "sns.ecdfplot(divs_exc_round_continuous,label='round 1 2 vs. continuous')\n",
    "plt.legend();"
   ]
  },
  {
   "cell_type": "markdown",
   "metadata": {},
   "source": [
    "exact 1 2 vs. rounded equal."
   ]
  },
  {
   "cell_type": "code",
   "execution_count": 17,
   "metadata": {},
   "outputs": [],
   "source": [
    "divs_exc = kl_two(exact_1_2_exc,round_equal_exc)\n",
    "divs_inh = kl_two(exact_1_2_inh, round_equal_inh)"
   ]
  },
  {
   "cell_type": "code",
   "execution_count": 79,
   "metadata": {},
   "outputs": [
    {
     "name": "stdout",
     "output_type": "stream",
     "text": [
      "excitatory. maximum divergence:  0.06342853074665222  minimum divergence:  -0.00497379978853929\n",
      "inhibitory. maximum divergence:  0.09446769031140034  minimum divergence:  -0.03397371197705701\n"
     ]
    }
   ],
   "source": [
    "print('excitatory. maximum divergence: ',max(divs_exc), ' minimum divergence: ',min(divs_exc))\n",
    "print('inhibitory. maximum divergence: ',max(divs_inh), ' minimum divergence: ',min(divs_inh))"
   ]
  },
  {
   "cell_type": "markdown",
   "metadata": {},
   "source": [
    "exact 1 2 vs. exact equal."
   ]
  },
  {
   "cell_type": "code",
   "execution_count": 80,
   "metadata": {},
   "outputs": [],
   "source": [
    "divs_exc = kl_two(exact_1_2_exc,exact_equal_exc)\n",
    "divs_inh = kl_two(exact_1_2_inh, exact_equal_inh)"
   ]
  },
  {
   "cell_type": "code",
   "execution_count": 81,
   "metadata": {},
   "outputs": [
    {
     "name": "stdout",
     "output_type": "stream",
     "text": [
      "excitatory. maximum divergence:  0.024990443898313952  minimum divergence:  -0.042222346007015354\n",
      "inhibitory. maximum divergence:  0.04947228537148307  minimum divergence:  -0.04902635935482813\n"
     ]
    }
   ],
   "source": [
    "print('excitatory. maximum divergence: ',max(divs_exc), ' minimum divergence: ',min(divs_exc))\n",
    "print('inhibitory. maximum divergence: ',max(divs_inh), ' minimum divergence: ',min(divs_inh))"
   ]
  },
  {
   "cell_type": "markdown",
   "metadata": {},
   "source": [
    "exact 1 2 vs. continuous."
   ]
  },
  {
   "cell_type": "code",
   "execution_count": 82,
   "metadata": {},
   "outputs": [],
   "source": [
    "divs_exc = kl_two(exact_1_2_exc,continuous_exc)\n",
    "divs_inh = kl_two(exact_1_2_inh, continuous_inh)"
   ]
  },
  {
   "cell_type": "code",
   "execution_count": 83,
   "metadata": {},
   "outputs": [
    {
     "name": "stdout",
     "output_type": "stream",
     "text": [
      "excitatory. maximum divergence:  0.016571461087499184  minimum divergence:  -0.03300213070521785\n",
      "inhibitory. maximum divergence:  0.04803179629839871  minimum divergence:  -0.0581683840054491\n"
     ]
    }
   ],
   "source": [
    "print('excitatory. maximum divergence: ',max(divs_exc), ' minimum divergence: ',min(divs_exc))\n",
    "print('inhibitory. maximum divergence: ',max(divs_inh), ' minimum divergence: ',min(divs_inh))"
   ]
  },
  {
   "cell_type": "markdown",
   "metadata": {},
   "source": [
    "rounded equal vs. exact equal."
   ]
  },
  {
   "cell_type": "code",
   "execution_count": 84,
   "metadata": {},
   "outputs": [],
   "source": [
    "divs_exc = kl_two(round_equal_exc,exact_equal_exc)\n",
    "divs_inh = kl_two(round_equal_inh, exact_equal_inh)"
   ]
  },
  {
   "cell_type": "code",
   "execution_count": 85,
   "metadata": {},
   "outputs": [
    {
     "name": "stdout",
     "output_type": "stream",
     "text": [
      "excitatory. maximum divergence:  0.06232302284675639  minimum divergence:  -0.008841152235647631\n",
      "inhibitory. maximum divergence:  0.09377735145115307  minimum divergence:  -0.04345021609011346\n"
     ]
    }
   ],
   "source": [
    "print('excitatory. maximum divergence: ',max(divs_exc), ' minimum divergence: ',min(divs_exc))\n",
    "print('inhibitory. maximum divergence: ',max(divs_inh), ' minimum divergence: ',min(divs_inh))"
   ]
  },
  {
   "cell_type": "markdown",
   "metadata": {},
   "source": [
    "rounded equal vs. continuous."
   ]
  },
  {
   "cell_type": "code",
   "execution_count": 86,
   "metadata": {},
   "outputs": [],
   "source": [
    "divs_exc = kl_two(round_equal_exc,continuous_exc)\n",
    "divs_inh = kl_two(round_equal_inh, continuous_inh)"
   ]
  },
  {
   "cell_type": "code",
   "execution_count": 87,
   "metadata": {
    "scrolled": true
   },
   "outputs": [
    {
     "name": "stdout",
     "output_type": "stream",
     "text": [
      "excitatory. maximum divergence:  0.07606477215532026  minimum divergence:  -0.0009505652264649722\n",
      "inhibitory. maximum divergence:  0.10531530477939932  minimum divergence:  -0.027475318126247927\n"
     ]
    }
   ],
   "source": [
    "print('excitatory. maximum divergence: ',max(divs_exc), ' minimum divergence: ',min(divs_exc))\n",
    "print('inhibitory. maximum divergence: ',max(divs_inh), ' minimum divergence: ',min(divs_inh))"
   ]
  },
  {
   "cell_type": "markdown",
   "metadata": {},
   "source": [
    "exact equal vs. continouous."
   ]
  },
  {
   "cell_type": "code",
   "execution_count": 88,
   "metadata": {},
   "outputs": [],
   "source": [
    "divs_exc = kl_two(exact_equal_exc,continuous_exc)\n",
    "divs_inh = kl_two(exact_equal_inh, continuous_inh)"
   ]
  },
  {
   "cell_type": "code",
   "execution_count": 89,
   "metadata": {},
   "outputs": [
    {
     "name": "stdout",
     "output_type": "stream",
     "text": [
      "excitatory. maximum divergence:  0.04207255921369746  minimum divergence:  -0.035250438687493\n",
      "inhibitory. maximum divergence:  0.04607618337822994  minimum divergence:  -0.0623931037221549\n"
     ]
    }
   ],
   "source": [
    "print('excitatory. maximum divergence: ',max(divs_exc), ' minimum divergence: ',min(divs_exc))\n",
    "print('inhibitory. maximum divergence: ',max(divs_inh), ' minimum divergence: ',min(divs_inh))"
   ]
  },
  {
   "cell_type": "code",
   "execution_count": null,
   "metadata": {},
   "outputs": [],
   "source": []
  }
 ],
 "metadata": {
  "kernelspec": {
   "display_name": "Python 3",
   "language": "python",
   "name": "python3"
  },
  "language_info": {
   "codemirror_mode": {
    "name": "ipython",
    "version": 3
   },
   "file_extension": ".py",
   "mimetype": "text/x-python",
   "name": "python",
   "nbconvert_exporter": "python",
   "pygments_lexer": "ipython3",
   "version": "3.8.8"
  }
 },
 "nbformat": 4,
 "nbformat_minor": 4
}
