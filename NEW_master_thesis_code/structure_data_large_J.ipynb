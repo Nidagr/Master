{
 "cells": [
  {
   "cell_type": "code",
   "execution_count": 1,
   "id": "ab36ccd5",
   "metadata": {},
   "outputs": [],
   "source": [
    "import numpy as np\n",
    "import pandas as pd\n",
    "import matplotlib.pyplot as plt\n",
    "import seaborn as sns\n",
    "import elephant\n",
    "import quantities as pq\n",
    "import neo\n",
    "import sys\n",
    "from scipy.stats import ks_2samp\n",
    "plt.rcParams['figure.figsize'] = (14, 10)\n",
    "import scipy.stats as stats\n",
    "import itertools\n",
    "import random"
   ]
  },
  {
   "cell_type": "markdown",
   "id": "78ddaf47",
   "metadata": {},
   "source": [
    "Get all the CV values and store in variables:"
   ]
  },
  {
   "cell_type": "code",
   "execution_count": 2,
   "id": "ef17ea34",
   "metadata": {},
   "outputs": [],
   "source": [
    "main_path = 'C:\\\\Users\\\\Nida\\\\Documents\\\\NMBU\\\\master\\\\organized_spike_data'\n",
    "res = ['resolution_1_2','resolution_1_4','resolution_1_8','resolution_1_16','resolution_1_32','resolution_1_64',\n",
    "      'resolution_1_128','resolution_1_256']\n",
    "typ = ['brunel_rounding_1_2\\\\large_J','brunel_rounding_equal\\\\large_J']\n",
    "file = 'cv_exc.csv'\n",
    "\n",
    "\n",
    "cv_1_2_droop = pd.read_csv(r'{}\\{}\\{}\\{}'.format(main_path,res[0],typ[0],file),index_col=0)\n",
    "cv_1_2_equal = pd.read_csv(r'{}\\{}\\{}\\{}'.format(main_path,res[0],typ[1],file),index_col=0)\n",
    "\n",
    "cv_1_4_droop = pd.read_csv(r'{}\\{}\\{}\\{}'.format(main_path,res[1],typ[0],file),index_col=0)\n",
    "cv_1_4_equal = pd.read_csv(r'{}\\{}\\{}\\{}'.format(main_path,res[1],typ[1],file),index_col=0)\n",
    "\n",
    "cv_1_8_droop = pd.read_csv(r'{}\\{}\\{}\\{}'.format(main_path,res[2],typ[0],file),index_col=0)\n",
    "cv_1_8_equal = pd.read_csv(r'{}\\{}\\{}\\{}'.format(main_path,res[2],typ[1],file),index_col=0)\n",
    "\n",
    "cv_1_16_droop = pd.read_csv(r'{}\\{}\\{}\\{}'.format(main_path,res[3],typ[0],file),index_col=0)\n",
    "cv_1_16_equal = pd.read_csv(r'{}\\{}\\{}\\{}'.format(main_path,res[3],typ[1],file),index_col=0)\n",
    "\n",
    "cv_1_32_droop = pd.read_csv(r'{}\\{}\\{}\\{}'.format(main_path,res[4],typ[0],file),index_col=0)\n",
    "cv_1_32_equal = pd.read_csv(r'{}\\{}\\{}\\{}'.format(main_path,res[4],typ[1],file),index_col=0)\n",
    "\n",
    "cv_1_64_droop = pd.read_csv(r'{}\\{}\\{}\\{}'.format(main_path,res[5],typ[0],file),index_col=0)\n",
    "cv_1_64_equal = pd.read_csv(r'{}\\{}\\{}\\{}'.format(main_path,res[5],typ[1],file),index_col=0)\n",
    "\n",
    "cv_1_128_droop = pd.read_csv(r'{}\\{}\\{}\\{}'.format(main_path,res[6],typ[0],file),index_col=0)\n",
    "cv_1_128_equal = pd.read_csv(r'{}\\{}\\{}\\{}'.format(main_path,res[6],typ[1],file),index_col=0)\n",
    "\n",
    "cv_1_256_droop = pd.read_csv(r'{}\\{}\\{}\\{}'.format(main_path,res[7],typ[0],file),index_col=0)\n",
    "cv_1_256_equal = pd.read_csv(r'{}\\{}\\{}\\{}'.format(main_path,res[7],typ[1],file),index_col=0)\n",
    "\n",
    "cv_cont = pd.read_csv('C:\\\\Users\\\\Nida\\\\Documents\\\\NMBU\\\\master\\\\organized_spike_data\\\\resolution_1_8\\\\brunel_continuous\\\\large_J\\\\cv_exc.csv',index_col=0)"
   ]
  },
  {
   "cell_type": "markdown",
   "id": "c2ac5d60",
   "metadata": {},
   "source": [
    "Get all the FR values and store in variables:"
   ]
  },
  {
   "cell_type": "code",
   "execution_count": 3,
   "id": "6a8bb077",
   "metadata": {},
   "outputs": [],
   "source": [
    "main_path = 'C:\\\\Users\\\\Nida\\\\Documents\\\\NMBU\\\\master\\\\organized_spike_data'\n",
    "res = ['resolution_1_2','resolution_1_4','resolution_1_8','resolution_1_16','resolution_1_32','resolution_1_64',\n",
    "      'resolution_1_128','resolution_1_256']\n",
    "typ = ['brunel_rounding_1_2\\\\large_J','brunel_rounding_equal\\\\large_J']\n",
    "file = 'mean_fr_exc.pkl'\n",
    "\n",
    "\n",
    "fr_1_2_droop = pd.read_pickle(r'{}\\{}\\{}\\{}'.format(main_path,res[0],typ[0],file))\n",
    "fr_1_2_equal = pd.read_pickle(r'{}\\{}\\{}\\{}'.format(main_path,res[0],typ[1],file))\n",
    "\n",
    "fr_1_4_droop = pd.read_pickle(r'{}\\{}\\{}\\{}'.format(main_path,res[1],typ[0],file))\n",
    "fr_1_4_equal = pd.read_pickle(r'{}\\{}\\{}\\{}'.format(main_path,res[1],typ[1],file))\n",
    "\n",
    "fr_1_8_droop = pd.read_pickle(r'{}\\{}\\{}\\{}'.format(main_path,res[2],typ[0],file))\n",
    "fr_1_8_equal = pd.read_pickle(r'{}\\{}\\{}\\{}'.format(main_path,res[2],typ[1],file))\n",
    "\n",
    "fr_1_16_droop = pd.read_pickle(r'{}\\{}\\{}\\{}'.format(main_path,res[3],typ[0],file))\n",
    "fr_1_16_equal = pd.read_pickle(r'{}\\{}\\{}\\{}'.format(main_path,res[3],typ[1],file))\n",
    "\n",
    "fr_1_32_droop = pd.read_pickle(r'{}\\{}\\{}\\{}'.format(main_path,res[4],typ[0],file))\n",
    "fr_1_32_equal = pd.read_pickle(r'{}\\{}\\{}\\{}'.format(main_path,res[4],typ[1],file))\n",
    "\n",
    "fr_1_64_droop = pd.read_pickle(r'{}\\{}\\{}\\{}'.format(main_path,res[5],typ[0],file))\n",
    "fr_1_64_equal = pd.read_pickle(r'{}\\{}\\{}\\{}'.format(main_path,res[5],typ[1],file))\n",
    "\n",
    "fr_1_128_droop = pd.read_pickle(r'{}\\{}\\{}\\{}'.format(main_path,res[6],typ[0],file))\n",
    "fr_1_128_equal = pd.read_pickle(r'{}\\{}\\{}\\{}'.format(main_path,res[6],typ[1],file))\n",
    "\n",
    "fr_1_256_droop = pd.read_pickle(r'{}\\{}\\{}\\{}'.format(main_path,res[7],typ[0],file))\n",
    "fr_1_256_equal = pd.read_pickle(r'{}\\{}\\{}\\{}'.format(main_path,res[7],typ[1],file))\n",
    "\n",
    "fr_cont = pd.read_pickle('C:\\\\Users\\\\Nida\\\\Documents\\\\NMBU\\\\master\\\\organized_spike_data\\\\resolution_1_8\\\\brunel_continuous\\\\large_J\\\\mean_fr_exc.pkl')"
   ]
  },
  {
   "cell_type": "markdown",
   "id": "585ff774",
   "metadata": {},
   "source": [
    "Get all the CC values and store in variables:"
   ]
  },
  {
   "cell_type": "code",
   "execution_count": 4,
   "id": "e059f5ca",
   "metadata": {},
   "outputs": [],
   "source": [
    "main_path = 'C:\\\\Users\\\\Nida\\\\Documents\\\\NMBU\\\\master\\\\organized_spike_data'\n",
    "res = ['resolution_1_2','resolution_1_4','resolution_1_8','resolution_1_16','resolution_1_32','resolution_1_64',\n",
    "      'resolution_1_128','resolution_1_256']\n",
    "typ = ['brunel_rounding_1_2\\\\large_J','brunel_rounding_equal\\\\large_J']\n",
    "files = ['cc_df_5.pkl','cc_df_10.pkl','cc_df_20.pkl','cc_df_50.pkl']\n",
    "\n",
    "cc_1_2_droop_5 = pd.read_pickle(r'{}\\{}\\{}\\{}'.format(main_path,res[0],typ[0],files[0]))\n",
    "cc_1_2_droop_10 = pd.read_pickle(r'{}\\{}\\{}\\{}'.format(main_path,res[0],typ[0],files[1]))\n",
    "cc_1_2_droop_20 = pd.read_pickle(r'{}\\{}\\{}\\{}'.format(main_path,res[0],typ[0],files[2]))\n",
    "cc_1_2_droop_50 = pd.read_pickle(r'{}\\{}\\{}\\{}'.format(main_path,res[0],typ[0],files[3]))\n",
    "\n",
    "cc_1_2_equal_5 = pd.read_pickle(r'{}\\{}\\{}\\{}'.format(main_path,res[0],typ[1],files[0]))\n",
    "cc_1_2_equal_10 = pd.read_pickle(r'{}\\{}\\{}\\{}'.format(main_path,res[0],typ[1],files[1]))\n",
    "cc_1_2_equal_20 = pd.read_pickle(r'{}\\{}\\{}\\{}'.format(main_path,res[0],typ[1],files[2]))\n",
    "cc_1_2_equal_50 = pd.read_pickle(r'{}\\{}\\{}\\{}'.format(main_path,res[0],typ[1],files[3]))\n",
    "\n",
    "cc_1_4_droop_5 = pd.read_pickle(r'{}\\{}\\{}\\{}'.format(main_path,res[1],typ[0],files[0]))\n",
    "cc_1_4_droop_10 = pd.read_pickle(r'{}\\{}\\{}\\{}'.format(main_path,res[1],typ[0],files[1]))\n",
    "cc_1_4_droop_20 = pd.read_pickle(r'{}\\{}\\{}\\{}'.format(main_path,res[1],typ[0],files[2]))\n",
    "cc_1_4_droop_50 = pd.read_pickle(r'{}\\{}\\{}\\{}'.format(main_path,res[1],typ[0],files[3]))\n",
    "\n",
    "cc_1_4_equal_5 = pd.read_pickle(r'{}\\{}\\{}\\{}'.format(main_path,res[1],typ[1],files[0]))\n",
    "cc_1_4_equal_10 = pd.read_pickle(r'{}\\{}\\{}\\{}'.format(main_path,res[1],typ[1],files[1]))\n",
    "cc_1_4_equal_20 = pd.read_pickle(r'{}\\{}\\{}\\{}'.format(main_path,res[1],typ[1],files[2]))\n",
    "cc_1_4_equal_50 = pd.read_pickle(r'{}\\{}\\{}\\{}'.format(main_path,res[1],typ[1],files[3]))\n",
    "\n",
    "cc_1_8_droop_5 = pd.read_pickle(r'{}\\{}\\{}\\{}'.format(main_path,res[2],typ[0],files[0]))\n",
    "cc_1_8_droop_10 = pd.read_pickle(r'{}\\{}\\{}\\{}'.format(main_path,res[2],typ[0],files[1]))\n",
    "cc_1_8_droop_20 = pd.read_pickle(r'{}\\{}\\{}\\{}'.format(main_path,res[2],typ[0],files[2]))\n",
    "cc_1_8_droop_50 = pd.read_pickle(r'{}\\{}\\{}\\{}'.format(main_path,res[2],typ[0],files[3]))\n",
    "\n",
    "cc_1_8_equal_5 = pd.read_pickle(r'{}\\{}\\{}\\{}'.format(main_path,res[2],typ[1],files[0]))\n",
    "cc_1_8_equal_10 = pd.read_pickle(r'{}\\{}\\{}\\{}'.format(main_path,res[2],typ[1],files[1]))\n",
    "cc_1_8_equal_20 = pd.read_pickle(r'{}\\{}\\{}\\{}'.format(main_path,res[2],typ[1],files[2]))\n",
    "cc_1_8_equal_50 = pd.read_pickle(r'{}\\{}\\{}\\{}'.format(main_path,res[2],typ[1],files[3]))\n",
    "\n",
    "cc_1_16_droop_5 = pd.read_pickle(r'{}\\{}\\{}\\{}'.format(main_path,res[3],typ[0],files[0]))\n",
    "cc_1_16_droop_10 = pd.read_pickle(r'{}\\{}\\{}\\{}'.format(main_path,res[3],typ[0],files[1]))\n",
    "cc_1_16_droop_20 = pd.read_pickle(r'{}\\{}\\{}\\{}'.format(main_path,res[3],typ[0],files[2]))\n",
    "cc_1_16_droop_50 = pd.read_pickle(r'{}\\{}\\{}\\{}'.format(main_path,res[3],typ[0],files[3]))\n",
    "\n",
    "cc_1_16_equal_5 = pd.read_pickle(r'{}\\{}\\{}\\{}'.format(main_path,res[3],typ[1],files[0]))\n",
    "cc_1_16_equal_10 = pd.read_pickle(r'{}\\{}\\{}\\{}'.format(main_path,res[3],typ[1],files[1]))\n",
    "cc_1_16_equal_20 = pd.read_pickle(r'{}\\{}\\{}\\{}'.format(main_path,res[3],typ[1],files[2]))\n",
    "cc_1_16_equal_50 = pd.read_pickle(r'{}\\{}\\{}\\{}'.format(main_path,res[3],typ[1],files[3]))\n",
    "\n",
    "cc_1_32_droop_5 = pd.read_pickle(r'{}\\{}\\{}\\{}'.format(main_path,res[4],typ[0],files[0]))\n",
    "cc_1_32_droop_10 = pd.read_pickle(r'{}\\{}\\{}\\{}'.format(main_path,res[4],typ[0],files[1]))\n",
    "cc_1_32_droop_20 = pd.read_pickle(r'{}\\{}\\{}\\{}'.format(main_path,res[4],typ[0],files[2]))\n",
    "cc_1_32_droop_50 = pd.read_pickle(r'{}\\{}\\{}\\{}'.format(main_path,res[4],typ[0],files[3]))\n",
    "\n",
    "cc_1_32_equal_5 = pd.read_pickle(r'{}\\{}\\{}\\{}'.format(main_path,res[4],typ[1],files[0]))\n",
    "cc_1_32_equal_10 = pd.read_pickle(r'{}\\{}\\{}\\{}'.format(main_path,res[4],typ[1],files[1]))\n",
    "cc_1_32_equal_20 = pd.read_pickle(r'{}\\{}\\{}\\{}'.format(main_path,res[4],typ[1],files[2]))\n",
    "cc_1_32_equal_50 = pd.read_pickle(r'{}\\{}\\{}\\{}'.format(main_path,res[4],typ[1],files[3]))\n",
    "\n",
    "cc_1_64_droop_5 = pd.read_pickle(r'{}\\{}\\{}\\{}'.format(main_path,res[5],typ[0],files[0]))\n",
    "cc_1_64_droop_10 = pd.read_pickle(r'{}\\{}\\{}\\{}'.format(main_path,res[5],typ[0],files[1]))\n",
    "cc_1_64_droop_20 = pd.read_pickle(r'{}\\{}\\{}\\{}'.format(main_path,res[5],typ[0],files[2]))\n",
    "cc_1_64_droop_50 = pd.read_pickle(r'{}\\{}\\{}\\{}'.format(main_path,res[5],typ[0],files[3]))\n",
    "\n",
    "cc_1_64_equal_5 = pd.read_pickle(r'{}\\{}\\{}\\{}'.format(main_path,res[5],typ[1],files[0]))\n",
    "cc_1_64_equal_10 = pd.read_pickle(r'{}\\{}\\{}\\{}'.format(main_path,res[5],typ[1],files[1]))\n",
    "cc_1_64_equal_20 = pd.read_pickle(r'{}\\{}\\{}\\{}'.format(main_path,res[5],typ[1],files[2]))\n",
    "cc_1_64_equal_50 = pd.read_pickle(r'{}\\{}\\{}\\{}'.format(main_path,res[5],typ[1],files[3]))\n",
    "\n",
    "cc_1_128_droop_5 = pd.read_pickle(r'{}\\{}\\{}\\{}'.format(main_path,res[6],typ[0],files[0]))\n",
    "cc_1_128_droop_10 = pd.read_pickle(r'{}\\{}\\{}\\{}'.format(main_path,res[6],typ[0],files[1]))\n",
    "cc_1_128_droop_20 = pd.read_pickle(r'{}\\{}\\{}\\{}'.format(main_path,res[6],typ[0],files[2]))\n",
    "cc_1_128_droop_50 = pd.read_pickle(r'{}\\{}\\{}\\{}'.format(main_path,res[6],typ[0],files[3]))\n",
    "\n",
    "cc_1_128_equal_5 = pd.read_pickle(r'{}\\{}\\{}\\{}'.format(main_path,res[6],typ[1],files[0]))\n",
    "cc_1_128_equal_10 = pd.read_pickle(r'{}\\{}\\{}\\{}'.format(main_path,res[6],typ[1],files[1]))\n",
    "cc_1_128_equal_20 = pd.read_pickle(r'{}\\{}\\{}\\{}'.format(main_path,res[6],typ[1],files[2]))\n",
    "cc_1_128_equal_50 = pd.read_pickle(r'{}\\{}\\{}\\{}'.format(main_path,res[6],typ[1],files[3]))\n",
    "\n",
    "cc_1_256_droop_5 = pd.read_pickle(r'{}\\{}\\{}\\{}'.format(main_path,res[7],typ[0],files[0]))\n",
    "cc_1_256_droop_10 = pd.read_pickle(r'{}\\{}\\{}\\{}'.format(main_path,res[7],typ[0],files[1]))\n",
    "cc_1_256_droop_20 = pd.read_pickle(r'{}\\{}\\{}\\{}'.format(main_path,res[7],typ[0],files[2]))\n",
    "cc_1_256_droop_50 = pd.read_pickle(r'{}\\{}\\{}\\{}'.format(main_path,res[7],typ[0],files[3]))\n",
    "\n",
    "cc_1_256_equal_5 = pd.read_pickle(r'{}\\{}\\{}\\{}'.format(main_path,res[7],typ[1],files[0]))\n",
    "cc_1_256_equal_10 = pd.read_pickle(r'{}\\{}\\{}\\{}'.format(main_path,res[7],typ[1],files[1]))\n",
    "cc_1_256_equal_20 = pd.read_pickle(r'{}\\{}\\{}\\{}'.format(main_path,res[7],typ[1],files[2]))\n",
    "cc_1_256_equal_50 = pd.read_pickle(r'{}\\{}\\{}\\{}'.format(main_path,res[7],typ[1],files[3]))\n",
    "\n",
    "cc_cont_5 = pd.read_pickle(r'{}\\{}\\brunel_continuous\\\\large_J\\{}'.format(main_path,res[2],files[0]))\n",
    "cc_cont_10 = pd.read_pickle(r'{}\\{}\\brunel_continuous\\\\large_J\\{}'.format(main_path,res[2],files[1]))\n",
    "cc_cont_20 = pd.read_pickle(r'{}\\{}\\brunel_continuous\\\\large_J\\{}'.format(main_path,res[2],files[2]))\n",
    "cc_cont_50 = pd.read_pickle(r'{}\\{}\\brunel_continuous\\\\large_J\\{}'.format(main_path,res[2],files[3]))"
   ]
  },
  {
   "cell_type": "markdown",
   "id": "2075afce",
   "metadata": {},
   "source": [
    "Now we can create a multiindex dataframe to store all of the data neatly:"
   ]
  },
  {
   "cell_type": "code",
   "execution_count": 5,
   "id": "8ca28490",
   "metadata": {},
   "outputs": [],
   "source": [
    "first = ['droop','equal','continuous'] #what type of model\n",
    "second = [2,4,8,16,32,64,128,256] # what type of resolution\n",
    "third = [1,2,3,4,5,6,7,8,9,10] # what seed\n",
    "fourth = [i for i in range(0,10000)]\n",
    "arrays = [first, second, third, fourth]\n",
    "\n",
    "\n",
    "index = pd.MultiIndex.from_product(arrays)\n",
    "columns = ['CV','FR','CC_5','CC_10','CC_20','CC_50']\n",
    "\n",
    "df = pd.DataFrame(index=index, columns=columns)\n",
    "\n",
    "# indexes must be sorted to make more effective and avoid warnings.\n",
    "df2 = df.sort_index()"
   ]
  },
  {
   "cell_type": "markdown",
   "id": "ed805d71",
   "metadata": {},
   "source": [
    "Now we fill in the correct values in the correct places in the dataframe.\n",
    "\n",
    "Start with inserting CV values for droop model all resolutions."
   ]
  },
  {
   "cell_type": "code",
   "execution_count": 6,
   "id": "59c7a15d",
   "metadata": {},
   "outputs": [],
   "source": [
    "df2.loc[('droop',2,1)]['CV'][:] = cv_1_2_droop.iloc[0]\n",
    "df2.loc[('droop',2,2)]['CV'][:] = cv_1_2_droop.iloc[1]\n",
    "df2.loc[('droop',2,3)]['CV'][:] = cv_1_2_droop.iloc[2]\n",
    "df2.loc[('droop',2,4)]['CV'][:] = cv_1_2_droop.iloc[3]\n",
    "df2.loc[('droop',2,5)]['CV'][:] = cv_1_2_droop.iloc[4]\n",
    "df2.loc[('droop',2,6)]['CV'][:] = cv_1_2_droop.iloc[5]\n",
    "df2.loc[('droop',2,7)]['CV'][:] = cv_1_2_droop.iloc[6]\n",
    "df2.loc[('droop',2,8)]['CV'][:] = cv_1_2_droop.iloc[7]\n",
    "df2.loc[('droop',2,9)]['CV'][:] = cv_1_2_droop.iloc[8]\n",
    "df2.loc[('droop',2,10)]['CV'][:] = cv_1_2_droop.iloc[9]"
   ]
  },
  {
   "cell_type": "code",
   "execution_count": 7,
   "id": "a8a50f67",
   "metadata": {},
   "outputs": [],
   "source": [
    "df2.loc[('droop',4,1)]['CV'][:] = cv_1_4_droop.iloc[0]\n",
    "df2.loc[('droop',4,2)]['CV'][:] = cv_1_4_droop.iloc[1]\n",
    "df2.loc[('droop',4,3)]['CV'][:] = cv_1_4_droop.iloc[2]\n",
    "df2.loc[('droop',4,4)]['CV'][:] = cv_1_4_droop.iloc[3]\n",
    "df2.loc[('droop',4,5)]['CV'][:] = cv_1_4_droop.iloc[4]\n",
    "df2.loc[('droop',4,6)]['CV'][:] = cv_1_4_droop.iloc[5]\n",
    "df2.loc[('droop',4,7)]['CV'][:] = cv_1_4_droop.iloc[6]\n",
    "df2.loc[('droop',4,8)]['CV'][:] = cv_1_4_droop.iloc[7]\n",
    "df2.loc[('droop',4,9)]['CV'][:] = cv_1_4_droop.iloc[8]\n",
    "df2.loc[('droop',4,10)]['CV'][:] = cv_1_4_droop.iloc[9]"
   ]
  },
  {
   "cell_type": "code",
   "execution_count": 8,
   "id": "6d9b80f5",
   "metadata": {},
   "outputs": [],
   "source": [
    "df2.loc[('droop',8,1)]['CV'][:] = cv_1_8_droop.iloc[0]\n",
    "df2.loc[('droop',8,2)]['CV'][:] = cv_1_8_droop.iloc[1]\n",
    "df2.loc[('droop',8,3)]['CV'][:] = cv_1_8_droop.iloc[2]\n",
    "df2.loc[('droop',8,4)]['CV'][:] = cv_1_8_droop.iloc[3]\n",
    "df2.loc[('droop',8,5)]['CV'][:] = cv_1_8_droop.iloc[4]\n",
    "df2.loc[('droop',8,6)]['CV'][:] = cv_1_8_droop.iloc[5]\n",
    "df2.loc[('droop',8,7)]['CV'][:] = cv_1_8_droop.iloc[6]\n",
    "df2.loc[('droop',8,8)]['CV'][:] = cv_1_8_droop.iloc[7]\n",
    "df2.loc[('droop',8,9)]['CV'][:] = cv_1_8_droop.iloc[8]\n",
    "df2.loc[('droop',8,10)]['CV'][:] = cv_1_8_droop.iloc[9]"
   ]
  },
  {
   "cell_type": "code",
   "execution_count": 9,
   "id": "65a74313",
   "metadata": {},
   "outputs": [],
   "source": [
    "df2.loc[('droop',16,1)]['CV'][:] = cv_1_16_droop.iloc[0]\n",
    "df2.loc[('droop',16,2)]['CV'][:] = cv_1_16_droop.iloc[1]\n",
    "df2.loc[('droop',16,3)]['CV'][:] = cv_1_16_droop.iloc[2]\n",
    "df2.loc[('droop',16,4)]['CV'][:] = cv_1_16_droop.iloc[3]\n",
    "df2.loc[('droop',16,5)]['CV'][:] = cv_1_16_droop.iloc[4]\n",
    "df2.loc[('droop',16,6)]['CV'][:] = cv_1_16_droop.iloc[5]\n",
    "df2.loc[('droop',16,7)]['CV'][:] = cv_1_16_droop.iloc[6]\n",
    "df2.loc[('droop',16,8)]['CV'][:] = cv_1_16_droop.iloc[7]\n",
    "df2.loc[('droop',16,9)]['CV'][:] = cv_1_16_droop.iloc[8]\n",
    "df2.loc[('droop',16,10)]['CV'][:] = cv_1_16_droop.iloc[9]"
   ]
  },
  {
   "cell_type": "code",
   "execution_count": 10,
   "id": "72435d27",
   "metadata": {},
   "outputs": [],
   "source": [
    "df2.loc[('droop',32,1)]['CV'][:] = cv_1_32_droop.iloc[0]\n",
    "df2.loc[('droop',32,2)]['CV'][:] = cv_1_32_droop.iloc[1]\n",
    "df2.loc[('droop',32,3)]['CV'][:] = cv_1_32_droop.iloc[2]\n",
    "df2.loc[('droop',32,4)]['CV'][:] = cv_1_32_droop.iloc[3]\n",
    "df2.loc[('droop',32,5)]['CV'][:] = cv_1_32_droop.iloc[4]\n",
    "df2.loc[('droop',32,6)]['CV'][:] = cv_1_32_droop.iloc[5]\n",
    "df2.loc[('droop',32,7)]['CV'][:] = cv_1_32_droop.iloc[6]\n",
    "df2.loc[('droop',32,8)]['CV'][:] = cv_1_32_droop.iloc[7]\n",
    "df2.loc[('droop',32,9)]['CV'][:] = cv_1_32_droop.iloc[8]\n",
    "df2.loc[('droop',32,10)]['CV'][:] = cv_1_32_droop.iloc[9]"
   ]
  },
  {
   "cell_type": "code",
   "execution_count": 11,
   "id": "c0dd3d53",
   "metadata": {},
   "outputs": [],
   "source": [
    "df2.loc[('droop',64,1)]['CV'][:] = cv_1_64_droop.iloc[0]\n",
    "df2.loc[('droop',64,2)]['CV'][:] = cv_1_64_droop.iloc[1]\n",
    "df2.loc[('droop',64,3)]['CV'][:] = cv_1_64_droop.iloc[2]\n",
    "df2.loc[('droop',64,4)]['CV'][:] = cv_1_64_droop.iloc[3]\n",
    "df2.loc[('droop',64,5)]['CV'][:] = cv_1_64_droop.iloc[4]\n",
    "df2.loc[('droop',64,6)]['CV'][:] = cv_1_64_droop.iloc[5]\n",
    "df2.loc[('droop',64,7)]['CV'][:] = cv_1_64_droop.iloc[6]\n",
    "df2.loc[('droop',64,8)]['CV'][:] = cv_1_64_droop.iloc[7]\n",
    "df2.loc[('droop',64,9)]['CV'][:] = cv_1_64_droop.iloc[8]\n",
    "df2.loc[('droop',64,10)]['CV'][:] = cv_1_64_droop.iloc[9]"
   ]
  },
  {
   "cell_type": "code",
   "execution_count": 12,
   "id": "60f5910c",
   "metadata": {},
   "outputs": [],
   "source": [
    "df2.loc[('droop',128,1)]['CV'][:] = cv_1_128_droop.iloc[0]\n",
    "df2.loc[('droop',128,2)]['CV'][:] = cv_1_128_droop.iloc[1]\n",
    "df2.loc[('droop',128,3)]['CV'][:] = cv_1_128_droop.iloc[2]\n",
    "df2.loc[('droop',128,4)]['CV'][:] = cv_1_128_droop.iloc[3]\n",
    "df2.loc[('droop',128,5)]['CV'][:] = cv_1_128_droop.iloc[4]\n",
    "df2.loc[('droop',128,6)]['CV'][:] = cv_1_128_droop.iloc[5]\n",
    "df2.loc[('droop',128,7)]['CV'][:] = cv_1_128_droop.iloc[6]\n",
    "df2.loc[('droop',128,8)]['CV'][:] = cv_1_128_droop.iloc[7]\n",
    "df2.loc[('droop',128,9)]['CV'][:] = cv_1_128_droop.iloc[8]\n",
    "df2.loc[('droop',128,10)]['CV'][:] = cv_1_128_droop.iloc[9]"
   ]
  },
  {
   "cell_type": "code",
   "execution_count": 13,
   "id": "04befc6d",
   "metadata": {},
   "outputs": [],
   "source": [
    "df2.loc[('droop',256,1)]['CV'][:] = cv_1_256_droop.iloc[0]\n",
    "df2.loc[('droop',256,2)]['CV'][:] = cv_1_256_droop.iloc[1]\n",
    "df2.loc[('droop',256,3)]['CV'][:] = cv_1_256_droop.iloc[2]\n",
    "df2.loc[('droop',256,4)]['CV'][:] = cv_1_256_droop.iloc[3]\n",
    "df2.loc[('droop',256,5)]['CV'][:] = cv_1_256_droop.iloc[4]\n",
    "df2.loc[('droop',256,6)]['CV'][:] = cv_1_256_droop.iloc[5]\n",
    "df2.loc[('droop',256,7)]['CV'][:] = cv_1_256_droop.iloc[6]\n",
    "df2.loc[('droop',256,8)]['CV'][:] = cv_1_256_droop.iloc[7]\n",
    "df2.loc[('droop',256,9)]['CV'][:] = cv_1_256_droop.iloc[8]\n",
    "df2.loc[('droop',256,10)]['CV'][:] = cv_1_256_droop.iloc[9]"
   ]
  },
  {
   "cell_type": "markdown",
   "id": "f5c9e771",
   "metadata": {},
   "source": [
    "Now insert CV values for equal model all resolutions."
   ]
  },
  {
   "cell_type": "code",
   "execution_count": 14,
   "id": "620014a4",
   "metadata": {},
   "outputs": [],
   "source": [
    "df2.loc[('equal',2,1)]['CV'][:] = cv_1_2_equal.iloc[0]\n",
    "df2.loc[('equal',2,2)]['CV'][:] = cv_1_2_equal.iloc[1]\n",
    "df2.loc[('equal',2,3)]['CV'][:] = cv_1_2_equal.iloc[2]\n",
    "df2.loc[('equal',2,4)]['CV'][:] = cv_1_2_equal.iloc[3]\n",
    "df2.loc[('equal',2,5)]['CV'][:] = cv_1_2_equal.iloc[4]\n",
    "df2.loc[('equal',2,6)]['CV'][:] = cv_1_2_equal.iloc[5]\n",
    "df2.loc[('equal',2,7)]['CV'][:] = cv_1_2_equal.iloc[6]\n",
    "df2.loc[('equal',2,8)]['CV'][:] = cv_1_2_equal.iloc[7]\n",
    "df2.loc[('equal',2,9)]['CV'][:] = cv_1_2_equal.iloc[8]\n",
    "df2.loc[('equal',2,10)]['CV'][:] = cv_1_2_equal.iloc[9]"
   ]
  },
  {
   "cell_type": "code",
   "execution_count": 15,
   "id": "d47733e6",
   "metadata": {},
   "outputs": [],
   "source": [
    "df2.loc[('equal',4,1)]['CV'][:] = cv_1_4_equal.iloc[0]\n",
    "df2.loc[('equal',4,2)]['CV'][:] = cv_1_4_equal.iloc[1]\n",
    "df2.loc[('equal',4,3)]['CV'][:] = cv_1_4_equal.iloc[2]\n",
    "df2.loc[('equal',4,4)]['CV'][:] = cv_1_4_equal.iloc[3]\n",
    "df2.loc[('equal',4,5)]['CV'][:] = cv_1_4_equal.iloc[4]\n",
    "df2.loc[('equal',4,6)]['CV'][:] = cv_1_4_equal.iloc[5]\n",
    "df2.loc[('equal',4,7)]['CV'][:] = cv_1_4_equal.iloc[6]\n",
    "df2.loc[('equal',4,8)]['CV'][:] = cv_1_4_equal.iloc[7]\n",
    "df2.loc[('equal',4,9)]['CV'][:] = cv_1_4_equal.iloc[8]\n",
    "df2.loc[('equal',4,10)]['CV'][:] = cv_1_4_equal.iloc[9]"
   ]
  },
  {
   "cell_type": "code",
   "execution_count": 16,
   "id": "39eb9d6d",
   "metadata": {},
   "outputs": [],
   "source": [
    "df2.loc[('equal',8,1)]['CV'][:] = cv_1_8_equal.iloc[0]\n",
    "df2.loc[('equal',8,2)]['CV'][:] = cv_1_8_equal.iloc[1]\n",
    "df2.loc[('equal',8,3)]['CV'][:] = cv_1_8_equal.iloc[2]\n",
    "df2.loc[('equal',8,4)]['CV'][:] = cv_1_8_equal.iloc[3]\n",
    "df2.loc[('equal',8,5)]['CV'][:] = cv_1_8_equal.iloc[4]\n",
    "df2.loc[('equal',8,6)]['CV'][:] = cv_1_8_equal.iloc[5]\n",
    "df2.loc[('equal',8,7)]['CV'][:] = cv_1_8_equal.iloc[6]\n",
    "df2.loc[('equal',8,8)]['CV'][:] = cv_1_8_equal.iloc[7]\n",
    "df2.loc[('equal',8,9)]['CV'][:] = cv_1_8_equal.iloc[8]\n",
    "df2.loc[('equal',8,10)]['CV'][:] = cv_1_8_equal.iloc[9]"
   ]
  },
  {
   "cell_type": "code",
   "execution_count": 17,
   "id": "7ca9bcf6",
   "metadata": {},
   "outputs": [],
   "source": [
    "df2.loc[('equal',16,1)]['CV'][:] = cv_1_16_equal.iloc[0]\n",
    "df2.loc[('equal',16,2)]['CV'][:] = cv_1_16_equal.iloc[1]\n",
    "df2.loc[('equal',16,3)]['CV'][:] = cv_1_16_equal.iloc[2]\n",
    "df2.loc[('equal',16,4)]['CV'][:] = cv_1_16_equal.iloc[3]\n",
    "df2.loc[('equal',16,5)]['CV'][:] = cv_1_16_equal.iloc[4]\n",
    "df2.loc[('equal',16,6)]['CV'][:] = cv_1_16_equal.iloc[5]\n",
    "df2.loc[('equal',16,7)]['CV'][:] = cv_1_16_equal.iloc[6]\n",
    "df2.loc[('equal',16,8)]['CV'][:] = cv_1_16_equal.iloc[7]\n",
    "df2.loc[('equal',16,9)]['CV'][:] = cv_1_16_equal.iloc[8]\n",
    "df2.loc[('equal',16,10)]['CV'][:] = cv_1_16_equal.iloc[9]"
   ]
  },
  {
   "cell_type": "code",
   "execution_count": 18,
   "id": "7e8ee90d",
   "metadata": {},
   "outputs": [],
   "source": [
    "df2.loc[('equal',32,1)]['CV'][:] = cv_1_32_equal.iloc[0]\n",
    "df2.loc[('equal',32,2)]['CV'][:] = cv_1_32_equal.iloc[1]\n",
    "df2.loc[('equal',32,3)]['CV'][:] = cv_1_32_equal.iloc[2]\n",
    "df2.loc[('equal',32,4)]['CV'][:] = cv_1_32_equal.iloc[3]\n",
    "df2.loc[('equal',32,5)]['CV'][:] = cv_1_32_equal.iloc[4]\n",
    "df2.loc[('equal',32,6)]['CV'][:] = cv_1_32_equal.iloc[5]\n",
    "df2.loc[('equal',32,7)]['CV'][:] = cv_1_32_equal.iloc[6]\n",
    "df2.loc[('equal',32,8)]['CV'][:] = cv_1_32_equal.iloc[7]\n",
    "df2.loc[('equal',32,9)]['CV'][:] = cv_1_32_equal.iloc[8]\n",
    "df2.loc[('equal',32,10)]['CV'][:] = cv_1_32_equal.iloc[9]"
   ]
  },
  {
   "cell_type": "code",
   "execution_count": 19,
   "id": "89fc3830",
   "metadata": {},
   "outputs": [],
   "source": [
    "df2.loc[('equal',64,1)]['CV'][:] = cv_1_64_equal.iloc[0]\n",
    "df2.loc[('equal',64,2)]['CV'][:] = cv_1_64_equal.iloc[1]\n",
    "df2.loc[('equal',64,3)]['CV'][:] = cv_1_64_equal.iloc[2]\n",
    "df2.loc[('equal',64,4)]['CV'][:] = cv_1_64_equal.iloc[3]\n",
    "df2.loc[('equal',64,5)]['CV'][:] = cv_1_64_equal.iloc[4]\n",
    "df2.loc[('equal',64,6)]['CV'][:] = cv_1_64_equal.iloc[5]\n",
    "df2.loc[('equal',64,7)]['CV'][:] = cv_1_64_equal.iloc[6]\n",
    "df2.loc[('equal',64,8)]['CV'][:] = cv_1_64_equal.iloc[7]\n",
    "df2.loc[('equal',64,9)]['CV'][:] = cv_1_64_equal.iloc[8]\n",
    "df2.loc[('equal',64,10)]['CV'][:] = cv_1_64_equal.iloc[9]"
   ]
  },
  {
   "cell_type": "code",
   "execution_count": 20,
   "id": "31437a4e",
   "metadata": {},
   "outputs": [],
   "source": [
    "df2.loc[('equal',128,1)]['CV'][:] = cv_1_128_equal.iloc[0]\n",
    "df2.loc[('equal',128,2)]['CV'][:] = cv_1_128_equal.iloc[1]\n",
    "df2.loc[('equal',128,3)]['CV'][:] = cv_1_128_equal.iloc[2]\n",
    "df2.loc[('equal',128,4)]['CV'][:] = cv_1_128_equal.iloc[3]\n",
    "df2.loc[('equal',128,5)]['CV'][:] = cv_1_128_equal.iloc[4]\n",
    "df2.loc[('equal',128,6)]['CV'][:] = cv_1_128_equal.iloc[5]\n",
    "df2.loc[('equal',128,7)]['CV'][:] = cv_1_128_equal.iloc[6]\n",
    "df2.loc[('equal',128,8)]['CV'][:] = cv_1_128_equal.iloc[7]\n",
    "df2.loc[('equal',128,9)]['CV'][:] = cv_1_128_equal.iloc[8]\n",
    "df2.loc[('equal',128,10)]['CV'][:] = cv_1_128_equal.iloc[9]"
   ]
  },
  {
   "cell_type": "code",
   "execution_count": 21,
   "id": "cc564d3f",
   "metadata": {},
   "outputs": [],
   "source": [
    "df2.loc[('equal',256,1)]['CV'][:] = cv_1_256_equal.iloc[0]\n",
    "df2.loc[('equal',256,2)]['CV'][:] = cv_1_256_equal.iloc[1]\n",
    "df2.loc[('equal',256,3)]['CV'][:] = cv_1_256_equal.iloc[2]\n",
    "df2.loc[('equal',256,4)]['CV'][:] = cv_1_256_equal.iloc[3]\n",
    "df2.loc[('equal',256,5)]['CV'][:] = cv_1_256_equal.iloc[4]\n",
    "df2.loc[('equal',256,6)]['CV'][:] = cv_1_256_equal.iloc[5]\n",
    "df2.loc[('equal',256,7)]['CV'][:] = cv_1_256_equal.iloc[6]\n",
    "df2.loc[('equal',256,8)]['CV'][:] = cv_1_256_equal.iloc[7]\n",
    "df2.loc[('equal',256,9)]['CV'][:] = cv_1_256_equal.iloc[8]\n",
    "df2.loc[('equal',256,10)]['CV'][:] = cv_1_256_equal.iloc[9]"
   ]
  },
  {
   "cell_type": "markdown",
   "id": "7b1ccaff",
   "metadata": {},
   "source": [
    "Insert the CV values for the continuous case."
   ]
  },
  {
   "cell_type": "code",
   "execution_count": 22,
   "id": "66aa04c4",
   "metadata": {},
   "outputs": [],
   "source": [
    "df2.loc[('continuous',8,1)]['CV'][:] = cv_cont.iloc[0]\n",
    "df2.loc[('continuous',8,2)]['CV'][:] = cv_cont.iloc[1]\n",
    "df2.loc[('continuous',8,3)]['CV'][:] = cv_cont.iloc[2]\n",
    "df2.loc[('continuous',8,4)]['CV'][:] = cv_cont.iloc[3]\n",
    "df2.loc[('continuous',8,5)]['CV'][:] = cv_cont.iloc[4]\n",
    "df2.loc[('continuous',8,6)]['CV'][:] = cv_cont.iloc[5]\n",
    "df2.loc[('continuous',8,7)]['CV'][:] = cv_cont.iloc[6]\n",
    "df2.loc[('continuous',8,8)]['CV'][:] = cv_cont.iloc[7]\n",
    "df2.loc[('continuous',8,9)]['CV'][:] = cv_cont.iloc[8]\n",
    "df2.loc[('continuous',8,10)]['CV'][:] = cv_cont.iloc[9]"
   ]
  },
  {
   "cell_type": "markdown",
   "id": "9c3bcf7b",
   "metadata": {},
   "source": [
    "Insert all FR values droop model all resolutions:"
   ]
  },
  {
   "cell_type": "code",
   "execution_count": 23,
   "id": "cd868dac",
   "metadata": {},
   "outputs": [],
   "source": [
    "df2.loc[('droop',2,1)]['FR'][:] = fr_1_2_droop.iloc[0]\n",
    "df2.loc[('droop',2,2)]['FR'][:] = fr_1_2_droop.iloc[1]\n",
    "df2.loc[('droop',2,3)]['FR'][:] = fr_1_2_droop.iloc[2]\n",
    "df2.loc[('droop',2,4)]['FR'][:] = fr_1_2_droop.iloc[3]\n",
    "df2.loc[('droop',2,5)]['FR'][:] = fr_1_2_droop.iloc[4]\n",
    "df2.loc[('droop',2,6)]['FR'][:] = fr_1_2_droop.iloc[5]\n",
    "df2.loc[('droop',2,7)]['FR'][:] = fr_1_2_droop.iloc[6]\n",
    "df2.loc[('droop',2,8)]['FR'][:] = fr_1_2_droop.iloc[7]\n",
    "df2.loc[('droop',2,9)]['FR'][:] = fr_1_2_droop.iloc[8]\n",
    "df2.loc[('droop',2,10)]['FR'][:] = fr_1_2_droop.iloc[9]"
   ]
  },
  {
   "cell_type": "code",
   "execution_count": 24,
   "id": "9556c3c2",
   "metadata": {},
   "outputs": [],
   "source": [
    "df2.loc[('droop',4,1)]['FR'][:] = fr_1_4_droop.iloc[0]\n",
    "df2.loc[('droop',4,2)]['FR'][:] = fr_1_4_droop.iloc[1]\n",
    "df2.loc[('droop',4,3)]['FR'][:] = fr_1_4_droop.iloc[2]\n",
    "df2.loc[('droop',4,4)]['FR'][:] = fr_1_4_droop.iloc[3]\n",
    "df2.loc[('droop',4,5)]['FR'][:] = fr_1_4_droop.iloc[4]\n",
    "df2.loc[('droop',4,6)]['FR'][:] = fr_1_4_droop.iloc[5]\n",
    "df2.loc[('droop',4,7)]['FR'][:] = fr_1_4_droop.iloc[6]\n",
    "df2.loc[('droop',4,8)]['FR'][:] = fr_1_4_droop.iloc[7]\n",
    "df2.loc[('droop',4,9)]['FR'][:] = fr_1_4_droop.iloc[8]\n",
    "df2.loc[('droop',4,10)]['FR'][:] = fr_1_4_droop.iloc[9]"
   ]
  },
  {
   "cell_type": "code",
   "execution_count": 25,
   "id": "89be9075",
   "metadata": {},
   "outputs": [],
   "source": [
    "df2.loc[('droop',8,1)]['FR'][:] = fr_1_8_droop.iloc[0]\n",
    "df2.loc[('droop',8,2)]['FR'][:] = fr_1_8_droop.iloc[1]\n",
    "df2.loc[('droop',8,3)]['FR'][:] = fr_1_8_droop.iloc[2]\n",
    "df2.loc[('droop',8,4)]['FR'][:] = fr_1_8_droop.iloc[3]\n",
    "df2.loc[('droop',8,5)]['FR'][:] = fr_1_8_droop.iloc[4]\n",
    "df2.loc[('droop',8,6)]['FR'][:] = fr_1_8_droop.iloc[5]\n",
    "df2.loc[('droop',8,7)]['FR'][:] = fr_1_8_droop.iloc[6]\n",
    "df2.loc[('droop',8,8)]['FR'][:] = fr_1_8_droop.iloc[7]\n",
    "df2.loc[('droop',8,9)]['FR'][:] = fr_1_8_droop.iloc[8]\n",
    "df2.loc[('droop',8,10)]['FR'][:] = fr_1_8_droop.iloc[9]"
   ]
  },
  {
   "cell_type": "code",
   "execution_count": 26,
   "id": "c1c59ac5",
   "metadata": {},
   "outputs": [],
   "source": [
    "df2.loc[('droop',16,1)]['FR'][:] = fr_1_16_droop.iloc[0]\n",
    "df2.loc[('droop',16,2)]['FR'][:] = fr_1_16_droop.iloc[1]\n",
    "df2.loc[('droop',16,3)]['FR'][:] = fr_1_16_droop.iloc[2]\n",
    "df2.loc[('droop',16,4)]['FR'][:] = fr_1_16_droop.iloc[3]\n",
    "df2.loc[('droop',16,5)]['FR'][:] = fr_1_16_droop.iloc[4]\n",
    "df2.loc[('droop',16,6)]['FR'][:] = fr_1_16_droop.iloc[5]\n",
    "df2.loc[('droop',16,7)]['FR'][:] = fr_1_16_droop.iloc[6]\n",
    "df2.loc[('droop',16,8)]['FR'][:] = fr_1_16_droop.iloc[7]\n",
    "df2.loc[('droop',16,9)]['FR'][:] = fr_1_16_droop.iloc[8]\n",
    "df2.loc[('droop',16,10)]['FR'][:] = fr_1_16_droop.iloc[9]"
   ]
  },
  {
   "cell_type": "code",
   "execution_count": 27,
   "id": "8ccec3af",
   "metadata": {},
   "outputs": [],
   "source": [
    "df2.loc[('droop',32,1)]['FR'][:] = fr_1_32_droop.iloc[0]\n",
    "df2.loc[('droop',32,2)]['FR'][:] = fr_1_32_droop.iloc[1]\n",
    "df2.loc[('droop',32,3)]['FR'][:] = fr_1_32_droop.iloc[2]\n",
    "df2.loc[('droop',32,4)]['FR'][:] = fr_1_32_droop.iloc[3]\n",
    "df2.loc[('droop',32,5)]['FR'][:] = fr_1_32_droop.iloc[4]\n",
    "df2.loc[('droop',32,6)]['FR'][:] = fr_1_32_droop.iloc[5]\n",
    "df2.loc[('droop',32,7)]['FR'][:] = fr_1_32_droop.iloc[6]\n",
    "df2.loc[('droop',32,8)]['FR'][:] = fr_1_32_droop.iloc[7]\n",
    "df2.loc[('droop',32,9)]['FR'][:] = fr_1_32_droop.iloc[8]\n",
    "df2.loc[('droop',32,10)]['FR'][:] = fr_1_32_droop.iloc[9]"
   ]
  },
  {
   "cell_type": "code",
   "execution_count": 28,
   "id": "8bc63cb0",
   "metadata": {},
   "outputs": [],
   "source": [
    "df2.loc[('droop',64,1)]['FR'][:] = fr_1_64_droop.iloc[0]\n",
    "df2.loc[('droop',64,2)]['FR'][:] = fr_1_64_droop.iloc[1]\n",
    "df2.loc[('droop',64,3)]['FR'][:] = fr_1_64_droop.iloc[2]\n",
    "df2.loc[('droop',64,4)]['FR'][:] = fr_1_64_droop.iloc[3]\n",
    "df2.loc[('droop',64,5)]['FR'][:] = fr_1_64_droop.iloc[4]\n",
    "df2.loc[('droop',64,6)]['FR'][:] = fr_1_64_droop.iloc[5]\n",
    "df2.loc[('droop',64,7)]['FR'][:] = fr_1_64_droop.iloc[6]\n",
    "df2.loc[('droop',64,8)]['FR'][:] = fr_1_64_droop.iloc[7]\n",
    "df2.loc[('droop',64,9)]['FR'][:] = fr_1_64_droop.iloc[8]\n",
    "df2.loc[('droop',64,10)]['FR'][:] = fr_1_64_droop.iloc[9]"
   ]
  },
  {
   "cell_type": "code",
   "execution_count": 29,
   "id": "478c08a4",
   "metadata": {},
   "outputs": [],
   "source": [
    "df2.loc[('droop',128,1)]['FR'][:] = fr_1_128_droop.iloc[0]\n",
    "df2.loc[('droop',128,2)]['FR'][:] = fr_1_128_droop.iloc[1]\n",
    "df2.loc[('droop',128,3)]['FR'][:] = fr_1_128_droop.iloc[2]\n",
    "df2.loc[('droop',128,4)]['FR'][:] = fr_1_128_droop.iloc[3]\n",
    "df2.loc[('droop',128,5)]['FR'][:] = fr_1_128_droop.iloc[4]\n",
    "df2.loc[('droop',128,6)]['FR'][:] = fr_1_128_droop.iloc[5]\n",
    "df2.loc[('droop',128,7)]['FR'][:] = fr_1_128_droop.iloc[6]\n",
    "df2.loc[('droop',128,8)]['FR'][:] = fr_1_128_droop.iloc[7]\n",
    "df2.loc[('droop',128,9)]['FR'][:] = fr_1_128_droop.iloc[8]\n",
    "df2.loc[('droop',128,10)]['FR'][:] = fr_1_128_droop.iloc[9]"
   ]
  },
  {
   "cell_type": "code",
   "execution_count": 30,
   "id": "85a79dc3",
   "metadata": {},
   "outputs": [],
   "source": [
    "df2.loc[('droop',256,1)]['FR'][:] = fr_1_256_droop.iloc[0]\n",
    "df2.loc[('droop',256,2)]['FR'][:] = fr_1_256_droop.iloc[1]\n",
    "df2.loc[('droop',256,3)]['FR'][:] = fr_1_256_droop.iloc[2]\n",
    "df2.loc[('droop',256,4)]['FR'][:] = fr_1_256_droop.iloc[3]\n",
    "df2.loc[('droop',256,5)]['FR'][:] = fr_1_256_droop.iloc[4]\n",
    "df2.loc[('droop',256,6)]['FR'][:] = fr_1_256_droop.iloc[5]\n",
    "df2.loc[('droop',256,7)]['FR'][:] = fr_1_256_droop.iloc[6]\n",
    "df2.loc[('droop',256,8)]['FR'][:] = fr_1_256_droop.iloc[7]\n",
    "df2.loc[('droop',256,9)]['FR'][:] = fr_1_256_droop.iloc[8]\n",
    "df2.loc[('droop',256,10)]['FR'][:] = fr_1_256_droop.iloc[9]"
   ]
  },
  {
   "cell_type": "markdown",
   "id": "e46f50da",
   "metadata": {},
   "source": [
    "Insert FR valeus for equal model all resolutions."
   ]
  },
  {
   "cell_type": "code",
   "execution_count": 31,
   "id": "bb6a52fc",
   "metadata": {},
   "outputs": [],
   "source": [
    "df2.loc[('equal',2,1)]['FR'][:] = fr_1_2_equal.iloc[0]\n",
    "df2.loc[('equal',2,2)]['FR'][:] = fr_1_2_equal.iloc[1]\n",
    "df2.loc[('equal',2,3)]['FR'][:] = fr_1_2_equal.iloc[2]\n",
    "df2.loc[('equal',2,4)]['FR'][:] = fr_1_2_equal.iloc[3]\n",
    "df2.loc[('equal',2,5)]['FR'][:] = fr_1_2_equal.iloc[4]\n",
    "df2.loc[('equal',2,6)]['FR'][:] = fr_1_2_equal.iloc[5]\n",
    "df2.loc[('equal',2,7)]['FR'][:] = fr_1_2_equal.iloc[6]\n",
    "df2.loc[('equal',2,8)]['FR'][:] = fr_1_2_equal.iloc[7]\n",
    "df2.loc[('equal',2,9)]['FR'][:] = fr_1_2_equal.iloc[8]\n",
    "df2.loc[('equal',2,10)]['FR'][:] = fr_1_2_equal.iloc[9]"
   ]
  },
  {
   "cell_type": "code",
   "execution_count": 32,
   "id": "0ca820c5",
   "metadata": {},
   "outputs": [],
   "source": [
    "df2.loc[('equal',4,1)]['FR'][:] = fr_1_4_equal.iloc[0]\n",
    "df2.loc[('equal',4,2)]['FR'][:] = fr_1_4_equal.iloc[1]\n",
    "df2.loc[('equal',4,3)]['FR'][:] = fr_1_4_equal.iloc[2]\n",
    "df2.loc[('equal',4,4)]['FR'][:] = fr_1_4_equal.iloc[3]\n",
    "df2.loc[('equal',4,5)]['FR'][:] = fr_1_4_equal.iloc[4]\n",
    "df2.loc[('equal',4,6)]['FR'][:] = fr_1_4_equal.iloc[5]\n",
    "df2.loc[('equal',4,7)]['FR'][:] = fr_1_4_equal.iloc[6]\n",
    "df2.loc[('equal',4,8)]['FR'][:] = fr_1_4_equal.iloc[7]\n",
    "df2.loc[('equal',4,9)]['FR'][:] = fr_1_4_equal.iloc[8]\n",
    "df2.loc[('equal',4,10)]['FR'][:] = fr_1_4_equal.iloc[9]"
   ]
  },
  {
   "cell_type": "code",
   "execution_count": 33,
   "id": "ba54e125",
   "metadata": {},
   "outputs": [],
   "source": [
    "df2.loc[('equal',8,1)]['FR'][:] = fr_1_8_equal.iloc[0]\n",
    "df2.loc[('equal',8,2)]['FR'][:] = fr_1_8_equal.iloc[1]\n",
    "df2.loc[('equal',8,3)]['FR'][:] = fr_1_8_equal.iloc[2]\n",
    "df2.loc[('equal',8,4)]['FR'][:] = fr_1_8_equal.iloc[3]\n",
    "df2.loc[('equal',8,5)]['FR'][:] = fr_1_8_equal.iloc[4]\n",
    "df2.loc[('equal',8,6)]['FR'][:] = fr_1_8_equal.iloc[5]\n",
    "df2.loc[('equal',8,7)]['FR'][:] = fr_1_8_equal.iloc[6]\n",
    "df2.loc[('equal',8,8)]['FR'][:] = fr_1_8_equal.iloc[7]\n",
    "df2.loc[('equal',8,9)]['FR'][:] = fr_1_8_equal.iloc[8]\n",
    "df2.loc[('equal',8,10)]['FR'][:] = fr_1_8_equal.iloc[9]"
   ]
  },
  {
   "cell_type": "code",
   "execution_count": 34,
   "id": "2ee507fa",
   "metadata": {},
   "outputs": [],
   "source": [
    "df2.loc[('equal',16,1)]['FR'][:] = fr_1_16_equal.iloc[0]\n",
    "df2.loc[('equal',16,2)]['FR'][:] = fr_1_16_equal.iloc[1]\n",
    "df2.loc[('equal',16,3)]['FR'][:] = fr_1_16_equal.iloc[2]\n",
    "df2.loc[('equal',16,4)]['FR'][:] = fr_1_16_equal.iloc[3]\n",
    "df2.loc[('equal',16,5)]['FR'][:] = fr_1_16_equal.iloc[4]\n",
    "df2.loc[('equal',16,6)]['FR'][:] = fr_1_16_equal.iloc[5]\n",
    "df2.loc[('equal',16,7)]['FR'][:] = fr_1_16_equal.iloc[6]\n",
    "df2.loc[('equal',16,8)]['FR'][:] = fr_1_16_equal.iloc[7]\n",
    "df2.loc[('equal',16,9)]['FR'][:] = fr_1_16_equal.iloc[8]\n",
    "df2.loc[('equal',16,10)]['FR'][:] = fr_1_16_equal.iloc[9]"
   ]
  },
  {
   "cell_type": "code",
   "execution_count": 35,
   "id": "3290f837",
   "metadata": {},
   "outputs": [],
   "source": [
    "df2.loc[('equal',32,1)]['FR'][:] = fr_1_32_equal.iloc[0]\n",
    "df2.loc[('equal',32,2)]['FR'][:] = fr_1_32_equal.iloc[1]\n",
    "df2.loc[('equal',32,3)]['FR'][:] = fr_1_32_equal.iloc[2]\n",
    "df2.loc[('equal',32,4)]['FR'][:] = fr_1_32_equal.iloc[3]\n",
    "df2.loc[('equal',32,5)]['FR'][:] = fr_1_32_equal.iloc[4]\n",
    "df2.loc[('equal',32,6)]['FR'][:] = fr_1_32_equal.iloc[5]\n",
    "df2.loc[('equal',32,7)]['FR'][:] = fr_1_32_equal.iloc[6]\n",
    "df2.loc[('equal',32,8)]['FR'][:] = fr_1_32_equal.iloc[7]\n",
    "df2.loc[('equal',32,9)]['FR'][:] = fr_1_32_equal.iloc[8]\n",
    "df2.loc[('equal',32,10)]['FR'][:] = fr_1_32_equal.iloc[9]"
   ]
  },
  {
   "cell_type": "code",
   "execution_count": 36,
   "id": "c259e51e",
   "metadata": {},
   "outputs": [],
   "source": [
    "df2.loc[('equal',64,1)]['FR'][:] = fr_1_64_equal.iloc[0]\n",
    "df2.loc[('equal',64,2)]['FR'][:] = fr_1_64_equal.iloc[1]\n",
    "df2.loc[('equal',64,3)]['FR'][:] = fr_1_64_equal.iloc[2]\n",
    "df2.loc[('equal',64,4)]['FR'][:] = fr_1_64_equal.iloc[3]\n",
    "df2.loc[('equal',64,5)]['FR'][:] = fr_1_64_equal.iloc[4]\n",
    "df2.loc[('equal',64,6)]['FR'][:] = fr_1_64_equal.iloc[5]\n",
    "df2.loc[('equal',64,7)]['FR'][:] = fr_1_64_equal.iloc[6]\n",
    "df2.loc[('equal',64,8)]['FR'][:] = fr_1_64_equal.iloc[7]\n",
    "df2.loc[('equal',64,9)]['FR'][:] = fr_1_64_equal.iloc[8]\n",
    "df2.loc[('equal',64,10)]['FR'][:] = fr_1_64_equal.iloc[9]"
   ]
  },
  {
   "cell_type": "code",
   "execution_count": 37,
   "id": "77f25cff",
   "metadata": {},
   "outputs": [],
   "source": [
    "df2.loc[('equal',128,1)]['FR'][:] = fr_1_128_equal.iloc[0]\n",
    "df2.loc[('equal',128,2)]['FR'][:] = fr_1_128_equal.iloc[1]\n",
    "df2.loc[('equal',128,3)]['FR'][:] = fr_1_128_equal.iloc[2]\n",
    "df2.loc[('equal',128,4)]['FR'][:] = fr_1_128_equal.iloc[3]\n",
    "df2.loc[('equal',128,5)]['FR'][:] = fr_1_128_equal.iloc[4]\n",
    "df2.loc[('equal',128,6)]['FR'][:] = fr_1_128_equal.iloc[5]\n",
    "df2.loc[('equal',128,7)]['FR'][:] = fr_1_128_equal.iloc[6]\n",
    "df2.loc[('equal',128,8)]['FR'][:] = fr_1_128_equal.iloc[7]\n",
    "df2.loc[('equal',128,9)]['FR'][:] = fr_1_128_equal.iloc[8]\n",
    "df2.loc[('equal',128,10)]['FR'][:] = fr_1_128_equal.iloc[9]"
   ]
  },
  {
   "cell_type": "code",
   "execution_count": 38,
   "id": "49ae8ae6",
   "metadata": {},
   "outputs": [],
   "source": [
    "df2.loc[('equal',256,1)]['FR'][:] = fr_1_256_equal.iloc[0]\n",
    "df2.loc[('equal',256,2)]['FR'][:] = fr_1_256_equal.iloc[1]\n",
    "df2.loc[('equal',256,3)]['FR'][:] = fr_1_256_equal.iloc[2]\n",
    "df2.loc[('equal',256,4)]['FR'][:] = fr_1_256_equal.iloc[3]\n",
    "df2.loc[('equal',256,5)]['FR'][:] = fr_1_256_equal.iloc[4]\n",
    "df2.loc[('equal',256,6)]['FR'][:] = fr_1_256_equal.iloc[5]\n",
    "df2.loc[('equal',256,7)]['FR'][:] = fr_1_256_equal.iloc[6]\n",
    "df2.loc[('equal',256,8)]['FR'][:] = fr_1_256_equal.iloc[7]\n",
    "df2.loc[('equal',256,9)]['FR'][:] = fr_1_256_equal.iloc[8]\n",
    "df2.loc[('equal',256,10)]['FR'][:] = fr_1_256_equal.iloc[9]"
   ]
  },
  {
   "cell_type": "markdown",
   "id": "e54673f4",
   "metadata": {},
   "source": [
    "Insert FR values continuous case."
   ]
  },
  {
   "cell_type": "code",
   "execution_count": 39,
   "id": "e80bc2c5",
   "metadata": {},
   "outputs": [],
   "source": [
    "df2.loc[('continuous',8,1)]['FR'][:] = fr_cont.iloc[0]\n",
    "df2.loc[('continuous',8,2)]['FR'][:] = fr_cont.iloc[1]\n",
    "df2.loc[('continuous',8,3)]['FR'][:] = fr_cont.iloc[2]\n",
    "df2.loc[('continuous',8,4)]['FR'][:] = fr_cont.iloc[3]\n",
    "df2.loc[('continuous',8,5)]['FR'][:] = fr_cont.iloc[4]\n",
    "df2.loc[('continuous',8,6)]['FR'][:] = fr_cont.iloc[5]\n",
    "df2.loc[('continuous',8,7)]['FR'][:] = fr_cont.iloc[6]\n",
    "df2.loc[('continuous',8,8)]['FR'][:] = fr_cont.iloc[7]\n",
    "df2.loc[('continuous',8,9)]['FR'][:] = fr_cont.iloc[8]\n",
    "df2.loc[('continuous',8,10)]['FR'][:] = fr_cont.iloc[9]"
   ]
  },
  {
   "cell_type": "markdown",
   "id": "fca66537",
   "metadata": {},
   "source": [
    "Now we insert the CC values.\n",
    "\n",
    "Droop model resolution 1/2."
   ]
  },
  {
   "cell_type": "code",
   "execution_count": 40,
   "id": "1561424b",
   "metadata": {},
   "outputs": [],
   "source": [
    "df2.loc[('droop',2,1)]['CC_5'][:] = cc_1_2_droop_5.iloc[0]\n",
    "df2.loc[('droop',2,2)]['CC_5'][:] = cc_1_2_droop_5.iloc[1]\n",
    "df2.loc[('droop',2,3)]['CC_5'][:] = cc_1_2_droop_5.iloc[2]\n",
    "df2.loc[('droop',2,4)]['CC_5'][:] = cc_1_2_droop_5.iloc[3]\n",
    "df2.loc[('droop',2,5)]['CC_5'][:] = cc_1_2_droop_5.iloc[4]\n",
    "df2.loc[('droop',2,6)]['CC_5'][:] = cc_1_2_droop_5.iloc[5]\n",
    "df2.loc[('droop',2,7)]['CC_5'][:] = cc_1_2_droop_5.iloc[6]\n",
    "df2.loc[('droop',2,8)]['CC_5'][:] = cc_1_2_droop_5.iloc[7]\n",
    "df2.loc[('droop',2,9)]['CC_5'][:] = cc_1_2_droop_5.iloc[8]\n",
    "df2.loc[('droop',2,10)]['CC_5'][:] = cc_1_2_droop_5.iloc[9]"
   ]
  },
  {
   "cell_type": "code",
   "execution_count": 41,
   "id": "9f4c649a",
   "metadata": {},
   "outputs": [],
   "source": [
    "df2.loc[('droop',2,1)]['CC_10'][:] = cc_1_2_droop_10.iloc[0]\n",
    "df2.loc[('droop',2,2)]['CC_10'][:] = cc_1_2_droop_10.iloc[1]\n",
    "df2.loc[('droop',2,3)]['CC_10'][:] = cc_1_2_droop_10.iloc[2]\n",
    "df2.loc[('droop',2,4)]['CC_10'][:] = cc_1_2_droop_10.iloc[3]\n",
    "df2.loc[('droop',2,5)]['CC_10'][:] = cc_1_2_droop_10.iloc[4]\n",
    "df2.loc[('droop',2,6)]['CC_10'][:] = cc_1_2_droop_10.iloc[5]\n",
    "df2.loc[('droop',2,7)]['CC_10'][:] = cc_1_2_droop_10.iloc[6]\n",
    "df2.loc[('droop',2,8)]['CC_10'][:] = cc_1_2_droop_10.iloc[7]\n",
    "df2.loc[('droop',2,9)]['CC_10'][:] = cc_1_2_droop_10.iloc[8]\n",
    "df2.loc[('droop',2,10)]['CC_10'][:] = cc_1_2_droop_10.iloc[9]"
   ]
  },
  {
   "cell_type": "code",
   "execution_count": 42,
   "id": "cc191b94",
   "metadata": {},
   "outputs": [],
   "source": [
    "df2.loc[('droop',2,1)]['CC_20'][:] = cc_1_2_droop_20.iloc[0]\n",
    "df2.loc[('droop',2,2)]['CC_20'][:] = cc_1_2_droop_20.iloc[1]\n",
    "df2.loc[('droop',2,3)]['CC_20'][:] = cc_1_2_droop_20.iloc[2]\n",
    "df2.loc[('droop',2,4)]['CC_20'][:] = cc_1_2_droop_20.iloc[3]\n",
    "df2.loc[('droop',2,5)]['CC_20'][:] = cc_1_2_droop_20.iloc[4]\n",
    "df2.loc[('droop',2,6)]['CC_20'][:] = cc_1_2_droop_20.iloc[5]\n",
    "df2.loc[('droop',2,7)]['CC_20'][:] = cc_1_2_droop_20.iloc[6]\n",
    "df2.loc[('droop',2,8)]['CC_20'][:] = cc_1_2_droop_20.iloc[7]\n",
    "df2.loc[('droop',2,9)]['CC_20'][:] = cc_1_2_droop_20.iloc[8]\n",
    "df2.loc[('droop',2,10)]['CC_20'][:] = cc_1_2_droop_20.iloc[9]"
   ]
  },
  {
   "cell_type": "code",
   "execution_count": 43,
   "id": "39668a3a",
   "metadata": {},
   "outputs": [],
   "source": [
    "df2.loc[('droop',2,1)]['CC_50'][:] = cc_1_2_droop_50.iloc[0]\n",
    "df2.loc[('droop',2,2)]['CC_50'][:] = cc_1_2_droop_50.iloc[1]\n",
    "df2.loc[('droop',2,3)]['CC_50'][:] = cc_1_2_droop_50.iloc[2]\n",
    "df2.loc[('droop',2,4)]['CC_50'][:] = cc_1_2_droop_50.iloc[3]\n",
    "df2.loc[('droop',2,5)]['CC_50'][:] = cc_1_2_droop_50.iloc[4]\n",
    "df2.loc[('droop',2,6)]['CC_50'][:] = cc_1_2_droop_50.iloc[5]\n",
    "df2.loc[('droop',2,7)]['CC_50'][:] = cc_1_2_droop_50.iloc[6]\n",
    "df2.loc[('droop',2,8)]['CC_50'][:] = cc_1_2_droop_50.iloc[7]\n",
    "df2.loc[('droop',2,9)]['CC_50'][:] = cc_1_2_droop_50.iloc[8]\n",
    "df2.loc[('droop',2,10)]['CC_50'][:] = cc_1_2_droop_50.iloc[9]"
   ]
  },
  {
   "cell_type": "markdown",
   "id": "ce2cd2ef",
   "metadata": {},
   "source": [
    "res 1/4"
   ]
  },
  {
   "cell_type": "code",
   "execution_count": 44,
   "id": "10ef36f0",
   "metadata": {},
   "outputs": [],
   "source": [
    "df2.loc[('droop',4,1)]['CC_5'][:] = cc_1_4_droop_5.iloc[0]\n",
    "df2.loc[('droop',4,2)]['CC_5'][:] = cc_1_4_droop_5.iloc[1]\n",
    "df2.loc[('droop',4,3)]['CC_5'][:] = cc_1_4_droop_5.iloc[2]\n",
    "df2.loc[('droop',4,4)]['CC_5'][:] = cc_1_4_droop_5.iloc[3]\n",
    "df2.loc[('droop',4,5)]['CC_5'][:] = cc_1_4_droop_5.iloc[4]\n",
    "df2.loc[('droop',4,6)]['CC_5'][:] = cc_1_4_droop_5.iloc[5]\n",
    "df2.loc[('droop',4,7)]['CC_5'][:] = cc_1_4_droop_5.iloc[6]\n",
    "df2.loc[('droop',4,8)]['CC_5'][:] = cc_1_4_droop_5.iloc[7]\n",
    "df2.loc[('droop',4,9)]['CC_5'][:] = cc_1_4_droop_5.iloc[8]\n",
    "df2.loc[('droop',4,10)]['CC_5'][:] = cc_1_4_droop_5.iloc[9]"
   ]
  },
  {
   "cell_type": "code",
   "execution_count": 45,
   "id": "3999a4ad",
   "metadata": {},
   "outputs": [],
   "source": [
    "df2.loc[('droop',4,1)]['CC_10'][:] = cc_1_4_droop_10.iloc[0]\n",
    "df2.loc[('droop',4,2)]['CC_10'][:] = cc_1_4_droop_10.iloc[1]\n",
    "df2.loc[('droop',4,3)]['CC_10'][:] = cc_1_4_droop_10.iloc[2]\n",
    "df2.loc[('droop',4,4)]['CC_10'][:] = cc_1_4_droop_10.iloc[3]\n",
    "df2.loc[('droop',4,5)]['CC_10'][:] = cc_1_4_droop_10.iloc[4]\n",
    "df2.loc[('droop',4,6)]['CC_10'][:] = cc_1_4_droop_10.iloc[5]\n",
    "df2.loc[('droop',4,7)]['CC_10'][:] = cc_1_4_droop_10.iloc[6]\n",
    "df2.loc[('droop',4,8)]['CC_10'][:] = cc_1_4_droop_10.iloc[7]\n",
    "df2.loc[('droop',4,9)]['CC_10'][:] = cc_1_4_droop_10.iloc[8]\n",
    "df2.loc[('droop',4,10)]['CC_10'][:] = cc_1_4_droop_10.iloc[9]"
   ]
  },
  {
   "cell_type": "code",
   "execution_count": 46,
   "id": "3b48bc6c",
   "metadata": {},
   "outputs": [],
   "source": [
    "df2.loc[('droop',4,1)]['CC_20'][:] = cc_1_4_droop_20.iloc[0]\n",
    "df2.loc[('droop',4,2)]['CC_20'][:] = cc_1_4_droop_20.iloc[1]\n",
    "df2.loc[('droop',4,3)]['CC_20'][:] = cc_1_4_droop_20.iloc[2]\n",
    "df2.loc[('droop',4,4)]['CC_20'][:] = cc_1_4_droop_20.iloc[3]\n",
    "df2.loc[('droop',4,5)]['CC_20'][:] = cc_1_4_droop_20.iloc[4]\n",
    "df2.loc[('droop',4,6)]['CC_20'][:] = cc_1_4_droop_20.iloc[5]\n",
    "df2.loc[('droop',4,7)]['CC_20'][:] = cc_1_4_droop_20.iloc[6]\n",
    "df2.loc[('droop',4,8)]['CC_20'][:] = cc_1_4_droop_20.iloc[7]\n",
    "df2.loc[('droop',4,9)]['CC_20'][:] = cc_1_4_droop_20.iloc[8]\n",
    "df2.loc[('droop',4,10)]['CC_20'][:] = cc_1_4_droop_20.iloc[9]"
   ]
  },
  {
   "cell_type": "code",
   "execution_count": 47,
   "id": "04d6f603",
   "metadata": {},
   "outputs": [],
   "source": [
    "df2.loc[('droop',4,1)]['CC_50'][:] = cc_1_4_droop_50.iloc[0]\n",
    "df2.loc[('droop',4,2)]['CC_50'][:] = cc_1_4_droop_50.iloc[1]\n",
    "df2.loc[('droop',4,3)]['CC_50'][:] = cc_1_4_droop_50.iloc[2]\n",
    "df2.loc[('droop',4,4)]['CC_50'][:] = cc_1_4_droop_50.iloc[3]\n",
    "df2.loc[('droop',4,5)]['CC_50'][:] = cc_1_4_droop_50.iloc[4]\n",
    "df2.loc[('droop',4,6)]['CC_50'][:] = cc_1_4_droop_50.iloc[5]\n",
    "df2.loc[('droop',4,7)]['CC_50'][:] = cc_1_4_droop_50.iloc[6]\n",
    "df2.loc[('droop',4,8)]['CC_50'][:] = cc_1_4_droop_50.iloc[7]\n",
    "df2.loc[('droop',4,9)]['CC_50'][:] = cc_1_4_droop_50.iloc[8]\n",
    "df2.loc[('droop',4,10)]['CC_50'][:] = cc_1_4_droop_50.iloc[9]"
   ]
  },
  {
   "cell_type": "markdown",
   "id": "623d681a",
   "metadata": {},
   "source": [
    "res 1/8"
   ]
  },
  {
   "cell_type": "code",
   "execution_count": 48,
   "id": "6989b897",
   "metadata": {},
   "outputs": [],
   "source": [
    "df2.loc[('droop',8,1)]['CC_5'][:] = cc_1_8_droop_5.iloc[0]\n",
    "df2.loc[('droop',8,2)]['CC_5'][:] = cc_1_8_droop_5.iloc[1]\n",
    "df2.loc[('droop',8,3)]['CC_5'][:] = cc_1_8_droop_5.iloc[2]\n",
    "df2.loc[('droop',8,4)]['CC_5'][:] = cc_1_8_droop_5.iloc[3]\n",
    "df2.loc[('droop',8,5)]['CC_5'][:] = cc_1_8_droop_5.iloc[4]\n",
    "df2.loc[('droop',8,6)]['CC_5'][:] = cc_1_8_droop_5.iloc[5]\n",
    "df2.loc[('droop',8,7)]['CC_5'][:] = cc_1_8_droop_5.iloc[6]\n",
    "df2.loc[('droop',8,8)]['CC_5'][:] = cc_1_8_droop_5.iloc[7]\n",
    "df2.loc[('droop',8,9)]['CC_5'][:] = cc_1_8_droop_5.iloc[8]\n",
    "df2.loc[('droop',8,10)]['CC_5'][:] = cc_1_8_droop_5.iloc[9]"
   ]
  },
  {
   "cell_type": "code",
   "execution_count": 49,
   "id": "16fa5008",
   "metadata": {},
   "outputs": [],
   "source": [
    "df2.loc[('droop',8,1)]['CC_10'][:] = cc_1_8_droop_10.iloc[0]\n",
    "df2.loc[('droop',8,2)]['CC_10'][:] = cc_1_8_droop_10.iloc[1]\n",
    "df2.loc[('droop',8,3)]['CC_10'][:] = cc_1_8_droop_10.iloc[2]\n",
    "df2.loc[('droop',8,4)]['CC_10'][:] = cc_1_8_droop_10.iloc[3]\n",
    "df2.loc[('droop',8,5)]['CC_10'][:] = cc_1_8_droop_10.iloc[4]\n",
    "df2.loc[('droop',8,6)]['CC_10'][:] = cc_1_8_droop_10.iloc[5]\n",
    "df2.loc[('droop',8,7)]['CC_10'][:] = cc_1_8_droop_10.iloc[6]\n",
    "df2.loc[('droop',8,8)]['CC_10'][:] = cc_1_8_droop_10.iloc[7]\n",
    "df2.loc[('droop',8,9)]['CC_10'][:] = cc_1_8_droop_10.iloc[8]\n",
    "df2.loc[('droop',8,10)]['CC_10'][:] = cc_1_8_droop_10.iloc[9]"
   ]
  },
  {
   "cell_type": "code",
   "execution_count": 50,
   "id": "061f52f2",
   "metadata": {},
   "outputs": [],
   "source": [
    "df2.loc[('droop',8,1)]['CC_20'][:] = cc_1_8_droop_20.iloc[0]\n",
    "df2.loc[('droop',8,2)]['CC_20'][:] = cc_1_8_droop_20.iloc[1]\n",
    "df2.loc[('droop',8,3)]['CC_20'][:] = cc_1_8_droop_20.iloc[2]\n",
    "df2.loc[('droop',8,4)]['CC_20'][:] = cc_1_8_droop_20.iloc[3]\n",
    "df2.loc[('droop',8,5)]['CC_20'][:] = cc_1_8_droop_20.iloc[4]\n",
    "df2.loc[('droop',8,6)]['CC_20'][:] = cc_1_8_droop_20.iloc[5]\n",
    "df2.loc[('droop',8,7)]['CC_20'][:] = cc_1_8_droop_20.iloc[6]\n",
    "df2.loc[('droop',8,8)]['CC_20'][:] = cc_1_8_droop_20.iloc[7]\n",
    "df2.loc[('droop',8,9)]['CC_20'][:] = cc_1_8_droop_20.iloc[8]\n",
    "df2.loc[('droop',8,10)]['CC_20'][:] = cc_1_8_droop_20.iloc[9]"
   ]
  },
  {
   "cell_type": "code",
   "execution_count": 51,
   "id": "ced6ddff",
   "metadata": {},
   "outputs": [],
   "source": [
    "df2.loc[('droop',8,1)]['CC_50'][:] = cc_1_8_droop_50.iloc[0]\n",
    "df2.loc[('droop',8,2)]['CC_50'][:] = cc_1_8_droop_50.iloc[1]\n",
    "df2.loc[('droop',8,3)]['CC_50'][:] = cc_1_8_droop_50.iloc[2]\n",
    "df2.loc[('droop',8,4)]['CC_50'][:] = cc_1_8_droop_50.iloc[3]\n",
    "df2.loc[('droop',8,5)]['CC_50'][:] = cc_1_8_droop_50.iloc[4]\n",
    "df2.loc[('droop',8,6)]['CC_50'][:] = cc_1_8_droop_50.iloc[5]\n",
    "df2.loc[('droop',8,7)]['CC_50'][:] = cc_1_8_droop_50.iloc[6]\n",
    "df2.loc[('droop',8,8)]['CC_50'][:] = cc_1_8_droop_50.iloc[7]\n",
    "df2.loc[('droop',8,9)]['CC_50'][:] = cc_1_8_droop_50.iloc[8]\n",
    "df2.loc[('droop',8,10)]['CC_50'][:] = cc_1_8_droop_50.iloc[9]"
   ]
  },
  {
   "cell_type": "markdown",
   "id": "b2f7d4bd",
   "metadata": {},
   "source": [
    "res 1/16"
   ]
  },
  {
   "cell_type": "code",
   "execution_count": 52,
   "id": "07030132",
   "metadata": {},
   "outputs": [],
   "source": [
    "df2.loc[('droop',16,1)]['CC_5'][:] = cc_1_16_droop_5.iloc[0]\n",
    "df2.loc[('droop',16,2)]['CC_5'][:] = cc_1_16_droop_5.iloc[1]\n",
    "df2.loc[('droop',16,3)]['CC_5'][:] = cc_1_16_droop_5.iloc[2]\n",
    "df2.loc[('droop',16,4)]['CC_5'][:] = cc_1_16_droop_5.iloc[3]\n",
    "df2.loc[('droop',16,5)]['CC_5'][:] = cc_1_16_droop_5.iloc[4]\n",
    "df2.loc[('droop',16,6)]['CC_5'][:] = cc_1_16_droop_5.iloc[5]\n",
    "df2.loc[('droop',16,7)]['CC_5'][:] = cc_1_16_droop_5.iloc[6]\n",
    "df2.loc[('droop',16,8)]['CC_5'][:] = cc_1_16_droop_5.iloc[7]\n",
    "df2.loc[('droop',16,9)]['CC_5'][:] = cc_1_16_droop_5.iloc[8]\n",
    "df2.loc[('droop',16,10)]['CC_5'][:] = cc_1_16_droop_5.iloc[9]"
   ]
  },
  {
   "cell_type": "code",
   "execution_count": 53,
   "id": "64e64751",
   "metadata": {},
   "outputs": [],
   "source": [
    "df2.loc[('droop',16,1)]['CC_10'][:] = cc_1_16_droop_10.iloc[0]\n",
    "df2.loc[('droop',16,2)]['CC_10'][:] = cc_1_16_droop_10.iloc[1]\n",
    "df2.loc[('droop',16,3)]['CC_10'][:] = cc_1_16_droop_10.iloc[2]\n",
    "df2.loc[('droop',16,4)]['CC_10'][:] = cc_1_16_droop_10.iloc[3]\n",
    "df2.loc[('droop',16,5)]['CC_10'][:] = cc_1_16_droop_10.iloc[4]\n",
    "df2.loc[('droop',16,6)]['CC_10'][:] = cc_1_16_droop_10.iloc[5]\n",
    "df2.loc[('droop',16,7)]['CC_10'][:] = cc_1_16_droop_10.iloc[6]\n",
    "df2.loc[('droop',16,8)]['CC_10'][:] = cc_1_16_droop_10.iloc[7]\n",
    "df2.loc[('droop',16,9)]['CC_10'][:] = cc_1_16_droop_10.iloc[8]\n",
    "df2.loc[('droop',16,10)]['CC_10'][:] = cc_1_16_droop_10.iloc[9]"
   ]
  },
  {
   "cell_type": "code",
   "execution_count": 54,
   "id": "a9514363",
   "metadata": {},
   "outputs": [],
   "source": [
    "df2.loc[('droop',16,1)]['CC_20'][:] = cc_1_16_droop_20.iloc[0]\n",
    "df2.loc[('droop',16,2)]['CC_20'][:] = cc_1_16_droop_20.iloc[1]\n",
    "df2.loc[('droop',16,3)]['CC_20'][:] = cc_1_16_droop_20.iloc[2]\n",
    "df2.loc[('droop',16,4)]['CC_20'][:] = cc_1_16_droop_20.iloc[3]\n",
    "df2.loc[('droop',16,5)]['CC_20'][:] = cc_1_16_droop_20.iloc[4]\n",
    "df2.loc[('droop',16,6)]['CC_20'][:] = cc_1_16_droop_20.iloc[5]\n",
    "df2.loc[('droop',16,7)]['CC_20'][:] = cc_1_16_droop_20.iloc[6]\n",
    "df2.loc[('droop',16,8)]['CC_20'][:] = cc_1_16_droop_20.iloc[7]\n",
    "df2.loc[('droop',16,9)]['CC_20'][:] = cc_1_16_droop_20.iloc[8]\n",
    "df2.loc[('droop',16,10)]['CC_20'][:] = cc_1_16_droop_20.iloc[9]"
   ]
  },
  {
   "cell_type": "code",
   "execution_count": 55,
   "id": "c6ccaefe",
   "metadata": {},
   "outputs": [],
   "source": [
    "df2.loc[('droop',16,1)]['CC_50'][:] = cc_1_16_droop_50.iloc[0]\n",
    "df2.loc[('droop',16,2)]['CC_50'][:] = cc_1_16_droop_50.iloc[1]\n",
    "df2.loc[('droop',16,3)]['CC_50'][:] = cc_1_16_droop_50.iloc[2]\n",
    "df2.loc[('droop',16,4)]['CC_50'][:] = cc_1_16_droop_50.iloc[3]\n",
    "df2.loc[('droop',16,5)]['CC_50'][:] = cc_1_16_droop_50.iloc[4]\n",
    "df2.loc[('droop',16,6)]['CC_50'][:] = cc_1_16_droop_50.iloc[5]\n",
    "df2.loc[('droop',16,7)]['CC_50'][:] = cc_1_16_droop_50.iloc[6]\n",
    "df2.loc[('droop',16,8)]['CC_50'][:] = cc_1_16_droop_50.iloc[7]\n",
    "df2.loc[('droop',16,9)]['CC_50'][:] = cc_1_16_droop_50.iloc[8]\n",
    "df2.loc[('droop',16,10)]['CC_50'][:] = cc_1_16_droop_50.iloc[9]"
   ]
  },
  {
   "cell_type": "markdown",
   "id": "dd165ed3",
   "metadata": {},
   "source": [
    "res 1/32"
   ]
  },
  {
   "cell_type": "code",
   "execution_count": 56,
   "id": "150268ad",
   "metadata": {},
   "outputs": [],
   "source": [
    "df2.loc[('droop',32,1)]['CC_5'][:] = cc_1_32_droop_5.iloc[0]\n",
    "df2.loc[('droop',32,2)]['CC_5'][:] = cc_1_32_droop_5.iloc[1]\n",
    "df2.loc[('droop',32,3)]['CC_5'][:] = cc_1_32_droop_5.iloc[2]\n",
    "df2.loc[('droop',32,4)]['CC_5'][:] = cc_1_32_droop_5.iloc[3]\n",
    "df2.loc[('droop',32,5)]['CC_5'][:] = cc_1_32_droop_5.iloc[4]\n",
    "df2.loc[('droop',32,6)]['CC_5'][:] = cc_1_32_droop_5.iloc[5]\n",
    "df2.loc[('droop',32,7)]['CC_5'][:] = cc_1_32_droop_5.iloc[6]\n",
    "df2.loc[('droop',32,8)]['CC_5'][:] = cc_1_32_droop_5.iloc[7]\n",
    "df2.loc[('droop',32,9)]['CC_5'][:] = cc_1_32_droop_5.iloc[8]\n",
    "df2.loc[('droop',32,10)]['CC_5'][:] = cc_1_32_droop_5.iloc[9]"
   ]
  },
  {
   "cell_type": "code",
   "execution_count": 57,
   "id": "fe6c24b0",
   "metadata": {},
   "outputs": [],
   "source": [
    "df2.loc[('droop',32,1)]['CC_10'][:] = cc_1_32_droop_10.iloc[0]\n",
    "df2.loc[('droop',32,2)]['CC_10'][:] = cc_1_32_droop_10.iloc[1]\n",
    "df2.loc[('droop',32,3)]['CC_10'][:] = cc_1_32_droop_10.iloc[2]\n",
    "df2.loc[('droop',32,4)]['CC_10'][:] = cc_1_32_droop_10.iloc[3]\n",
    "df2.loc[('droop',32,5)]['CC_10'][:] = cc_1_32_droop_10.iloc[4]\n",
    "df2.loc[('droop',32,6)]['CC_10'][:] = cc_1_32_droop_10.iloc[5]\n",
    "df2.loc[('droop',32,7)]['CC_10'][:] = cc_1_32_droop_10.iloc[6]\n",
    "df2.loc[('droop',32,8)]['CC_10'][:] = cc_1_32_droop_10.iloc[7]\n",
    "df2.loc[('droop',32,9)]['CC_10'][:] = cc_1_32_droop_10.iloc[8]\n",
    "df2.loc[('droop',32,10)]['CC_10'][:] = cc_1_32_droop_10.iloc[9]"
   ]
  },
  {
   "cell_type": "code",
   "execution_count": 58,
   "id": "a5e6956c",
   "metadata": {},
   "outputs": [],
   "source": [
    "df2.loc[('droop',32,1)]['CC_20'][:] = cc_1_32_droop_20.iloc[0]\n",
    "df2.loc[('droop',32,2)]['CC_20'][:] = cc_1_32_droop_20.iloc[1]\n",
    "df2.loc[('droop',32,3)]['CC_20'][:] = cc_1_32_droop_20.iloc[2]\n",
    "df2.loc[('droop',32,4)]['CC_20'][:] = cc_1_32_droop_20.iloc[3]\n",
    "df2.loc[('droop',32,5)]['CC_20'][:] = cc_1_32_droop_20.iloc[4]\n",
    "df2.loc[('droop',32,6)]['CC_20'][:] = cc_1_32_droop_20.iloc[5]\n",
    "df2.loc[('droop',32,7)]['CC_20'][:] = cc_1_32_droop_20.iloc[6]\n",
    "df2.loc[('droop',32,8)]['CC_20'][:] = cc_1_32_droop_20.iloc[7]\n",
    "df2.loc[('droop',32,9)]['CC_20'][:] = cc_1_32_droop_20.iloc[8]\n",
    "df2.loc[('droop',32,10)]['CC_20'][:] = cc_1_32_droop_20.iloc[9]"
   ]
  },
  {
   "cell_type": "code",
   "execution_count": 59,
   "id": "11e56604",
   "metadata": {},
   "outputs": [],
   "source": [
    "df2.loc[('droop',32,1)]['CC_50'][:] = cc_1_32_droop_50.iloc[0]\n",
    "df2.loc[('droop',32,2)]['CC_50'][:] = cc_1_32_droop_50.iloc[1]\n",
    "df2.loc[('droop',32,3)]['CC_50'][:] = cc_1_32_droop_50.iloc[2]\n",
    "df2.loc[('droop',32,4)]['CC_50'][:] = cc_1_32_droop_50.iloc[3]\n",
    "df2.loc[('droop',32,5)]['CC_50'][:] = cc_1_32_droop_50.iloc[4]\n",
    "df2.loc[('droop',32,6)]['CC_50'][:] = cc_1_32_droop_50.iloc[5]\n",
    "df2.loc[('droop',32,7)]['CC_50'][:] = cc_1_32_droop_50.iloc[6]\n",
    "df2.loc[('droop',32,8)]['CC_50'][:] = cc_1_32_droop_50.iloc[7]\n",
    "df2.loc[('droop',32,9)]['CC_50'][:] = cc_1_32_droop_50.iloc[8]\n",
    "df2.loc[('droop',32,10)]['CC_50'][:] = cc_1_32_droop_50.iloc[9]"
   ]
  },
  {
   "cell_type": "markdown",
   "id": "9e35d28b",
   "metadata": {},
   "source": [
    "res 1/64"
   ]
  },
  {
   "cell_type": "code",
   "execution_count": 60,
   "id": "bde6fa77",
   "metadata": {},
   "outputs": [],
   "source": [
    "df2.loc[('droop',64,1)]['CC_5'][:] = cc_1_64_droop_5.iloc[0]\n",
    "df2.loc[('droop',64,2)]['CC_5'][:] = cc_1_64_droop_5.iloc[1]\n",
    "df2.loc[('droop',64,3)]['CC_5'][:] = cc_1_64_droop_5.iloc[2]\n",
    "df2.loc[('droop',64,4)]['CC_5'][:] = cc_1_64_droop_5.iloc[3]\n",
    "df2.loc[('droop',64,5)]['CC_5'][:] = cc_1_64_droop_5.iloc[4]\n",
    "df2.loc[('droop',64,6)]['CC_5'][:] = cc_1_64_droop_5.iloc[5]\n",
    "df2.loc[('droop',64,7)]['CC_5'][:] = cc_1_64_droop_5.iloc[6]\n",
    "df2.loc[('droop',64,8)]['CC_5'][:] = cc_1_64_droop_5.iloc[7]\n",
    "df2.loc[('droop',64,9)]['CC_5'][:] = cc_1_64_droop_5.iloc[8]\n",
    "df2.loc[('droop',64,10)]['CC_5'][:] = cc_1_64_droop_5.iloc[9]"
   ]
  },
  {
   "cell_type": "code",
   "execution_count": 61,
   "id": "515ce7ec",
   "metadata": {},
   "outputs": [],
   "source": [
    "df2.loc[('droop',64,1)]['CC_10'][:] = cc_1_64_droop_10.iloc[0]\n",
    "df2.loc[('droop',64,2)]['CC_10'][:] = cc_1_64_droop_10.iloc[1]\n",
    "df2.loc[('droop',64,3)]['CC_10'][:] = cc_1_64_droop_10.iloc[2]\n",
    "df2.loc[('droop',64,4)]['CC_10'][:] = cc_1_64_droop_10.iloc[3]\n",
    "df2.loc[('droop',64,5)]['CC_10'][:] = cc_1_64_droop_10.iloc[4]\n",
    "df2.loc[('droop',64,6)]['CC_10'][:] = cc_1_64_droop_10.iloc[5]\n",
    "df2.loc[('droop',64,7)]['CC_10'][:] = cc_1_64_droop_10.iloc[6]\n",
    "df2.loc[('droop',64,8)]['CC_10'][:] = cc_1_64_droop_10.iloc[7]\n",
    "df2.loc[('droop',64,9)]['CC_10'][:] = cc_1_64_droop_10.iloc[8]\n",
    "df2.loc[('droop',64,10)]['CC_10'][:] = cc_1_64_droop_10.iloc[9]"
   ]
  },
  {
   "cell_type": "code",
   "execution_count": 62,
   "id": "29b32e94",
   "metadata": {},
   "outputs": [],
   "source": [
    "df2.loc[('droop',64,1)]['CC_20'][:] = cc_1_64_droop_20.iloc[0]\n",
    "df2.loc[('droop',64,2)]['CC_20'][:] = cc_1_64_droop_20.iloc[1]\n",
    "df2.loc[('droop',64,3)]['CC_20'][:] = cc_1_64_droop_20.iloc[2]\n",
    "df2.loc[('droop',64,4)]['CC_20'][:] = cc_1_64_droop_20.iloc[3]\n",
    "df2.loc[('droop',64,5)]['CC_20'][:] = cc_1_64_droop_20.iloc[4]\n",
    "df2.loc[('droop',64,6)]['CC_20'][:] = cc_1_64_droop_20.iloc[5]\n",
    "df2.loc[('droop',64,7)]['CC_20'][:] = cc_1_64_droop_20.iloc[6]\n",
    "df2.loc[('droop',64,8)]['CC_20'][:] = cc_1_64_droop_20.iloc[7]\n",
    "df2.loc[('droop',64,9)]['CC_20'][:] = cc_1_64_droop_20.iloc[8]\n",
    "df2.loc[('droop',64,10)]['CC_20'][:] = cc_1_64_droop_20.iloc[9]"
   ]
  },
  {
   "cell_type": "code",
   "execution_count": 63,
   "id": "a3f56fe4",
   "metadata": {},
   "outputs": [],
   "source": [
    "df2.loc[('droop',64,1)]['CC_50'][:] = cc_1_64_droop_50.iloc[0]\n",
    "df2.loc[('droop',64,2)]['CC_50'][:] = cc_1_64_droop_50.iloc[1]\n",
    "df2.loc[('droop',64,3)]['CC_50'][:] = cc_1_64_droop_50.iloc[2]\n",
    "df2.loc[('droop',64,4)]['CC_50'][:] = cc_1_64_droop_50.iloc[3]\n",
    "df2.loc[('droop',64,5)]['CC_50'][:] = cc_1_64_droop_50.iloc[4]\n",
    "df2.loc[('droop',64,6)]['CC_50'][:] = cc_1_64_droop_50.iloc[5]\n",
    "df2.loc[('droop',64,7)]['CC_50'][:] = cc_1_64_droop_50.iloc[6]\n",
    "df2.loc[('droop',64,8)]['CC_50'][:] = cc_1_64_droop_50.iloc[7]\n",
    "df2.loc[('droop',64,9)]['CC_50'][:] = cc_1_64_droop_50.iloc[8]\n",
    "df2.loc[('droop',64,10)]['CC_50'][:] = cc_1_64_droop_50.iloc[9]"
   ]
  },
  {
   "cell_type": "markdown",
   "id": "1bf9faab",
   "metadata": {},
   "source": [
    "res 1/128"
   ]
  },
  {
   "cell_type": "code",
   "execution_count": 64,
   "id": "36f8a4e3",
   "metadata": {},
   "outputs": [],
   "source": [
    "df2.loc[('droop',128,1)]['CC_5'][:] = cc_1_128_droop_5.iloc[0]\n",
    "df2.loc[('droop',128,2)]['CC_5'][:] = cc_1_128_droop_5.iloc[1]\n",
    "df2.loc[('droop',128,3)]['CC_5'][:] = cc_1_128_droop_5.iloc[2]\n",
    "df2.loc[('droop',128,4)]['CC_5'][:] = cc_1_128_droop_5.iloc[3]\n",
    "df2.loc[('droop',128,5)]['CC_5'][:] = cc_1_128_droop_5.iloc[4]\n",
    "df2.loc[('droop',128,6)]['CC_5'][:] = cc_1_128_droop_5.iloc[5]\n",
    "df2.loc[('droop',128,7)]['CC_5'][:] = cc_1_128_droop_5.iloc[6]\n",
    "df2.loc[('droop',128,8)]['CC_5'][:] = cc_1_128_droop_5.iloc[7]\n",
    "df2.loc[('droop',128,9)]['CC_5'][:] = cc_1_128_droop_5.iloc[8]\n",
    "df2.loc[('droop',128,10)]['CC_5'][:] = cc_1_128_droop_5.iloc[9]"
   ]
  },
  {
   "cell_type": "code",
   "execution_count": 65,
   "id": "e069fa06",
   "metadata": {},
   "outputs": [],
   "source": [
    "df2.loc[('droop',128,1)]['CC_10'][:] = cc_1_128_droop_10.iloc[0]\n",
    "df2.loc[('droop',128,2)]['CC_10'][:] = cc_1_128_droop_10.iloc[1]\n",
    "df2.loc[('droop',128,3)]['CC_10'][:] = cc_1_128_droop_10.iloc[2]\n",
    "df2.loc[('droop',128,4)]['CC_10'][:] = cc_1_128_droop_10.iloc[3]\n",
    "df2.loc[('droop',128,5)]['CC_10'][:] = cc_1_128_droop_10.iloc[4]\n",
    "df2.loc[('droop',128,6)]['CC_10'][:] = cc_1_128_droop_10.iloc[5]\n",
    "df2.loc[('droop',128,7)]['CC_10'][:] = cc_1_128_droop_10.iloc[6]\n",
    "df2.loc[('droop',128,8)]['CC_10'][:] = cc_1_128_droop_10.iloc[7]\n",
    "df2.loc[('droop',128,9)]['CC_10'][:] = cc_1_128_droop_10.iloc[8]\n",
    "df2.loc[('droop',128,10)]['CC_10'][:] = cc_1_128_droop_10.iloc[9]"
   ]
  },
  {
   "cell_type": "code",
   "execution_count": 66,
   "id": "2c3a287f",
   "metadata": {},
   "outputs": [],
   "source": [
    "df2.loc[('droop',128,1)]['CC_20'][:] = cc_1_128_droop_20.iloc[0]\n",
    "df2.loc[('droop',128,2)]['CC_20'][:] = cc_1_128_droop_20.iloc[1]\n",
    "df2.loc[('droop',128,3)]['CC_20'][:] = cc_1_128_droop_20.iloc[2]\n",
    "df2.loc[('droop',128,4)]['CC_20'][:] = cc_1_128_droop_20.iloc[3]\n",
    "df2.loc[('droop',128,5)]['CC_20'][:] = cc_1_128_droop_20.iloc[4]\n",
    "df2.loc[('droop',128,6)]['CC_20'][:] = cc_1_128_droop_20.iloc[5]\n",
    "df2.loc[('droop',128,7)]['CC_20'][:] = cc_1_128_droop_20.iloc[6]\n",
    "df2.loc[('droop',128,8)]['CC_20'][:] = cc_1_128_droop_20.iloc[7]\n",
    "df2.loc[('droop',128,9)]['CC_20'][:] = cc_1_128_droop_20.iloc[8]\n",
    "df2.loc[('droop',128,10)]['CC_20'][:] = cc_1_128_droop_20.iloc[9]"
   ]
  },
  {
   "cell_type": "code",
   "execution_count": 67,
   "id": "be4afcd6",
   "metadata": {},
   "outputs": [],
   "source": [
    "df2.loc[('droop',128,1)]['CC_50'][:] = cc_1_128_droop_50.iloc[0]\n",
    "df2.loc[('droop',128,2)]['CC_50'][:] = cc_1_128_droop_50.iloc[1]\n",
    "df2.loc[('droop',128,3)]['CC_50'][:] = cc_1_128_droop_50.iloc[2]\n",
    "df2.loc[('droop',128,4)]['CC_50'][:] = cc_1_128_droop_50.iloc[3]\n",
    "df2.loc[('droop',128,5)]['CC_50'][:] = cc_1_128_droop_50.iloc[4]\n",
    "df2.loc[('droop',128,6)]['CC_50'][:] = cc_1_128_droop_50.iloc[5]\n",
    "df2.loc[('droop',128,7)]['CC_50'][:] = cc_1_128_droop_50.iloc[6]\n",
    "df2.loc[('droop',128,8)]['CC_50'][:] = cc_1_128_droop_50.iloc[7]\n",
    "df2.loc[('droop',128,9)]['CC_50'][:] = cc_1_128_droop_50.iloc[8]\n",
    "df2.loc[('droop',128,10)]['CC_50'][:] = cc_1_128_droop_50.iloc[9]"
   ]
  },
  {
   "cell_type": "markdown",
   "id": "1358bd94",
   "metadata": {},
   "source": [
    "res 1/256"
   ]
  },
  {
   "cell_type": "code",
   "execution_count": 68,
   "id": "272515ec",
   "metadata": {},
   "outputs": [],
   "source": [
    "df2.loc[('droop',256,1)]['CC_5'][:] = cc_1_256_droop_5.iloc[0]\n",
    "df2.loc[('droop',256,2)]['CC_5'][:] = cc_1_256_droop_5.iloc[1]\n",
    "df2.loc[('droop',256,3)]['CC_5'][:] = cc_1_256_droop_5.iloc[2]\n",
    "df2.loc[('droop',256,4)]['CC_5'][:] = cc_1_256_droop_5.iloc[3]\n",
    "df2.loc[('droop',256,5)]['CC_5'][:] = cc_1_256_droop_5.iloc[4]\n",
    "df2.loc[('droop',256,6)]['CC_5'][:] = cc_1_256_droop_5.iloc[5]\n",
    "df2.loc[('droop',256,7)]['CC_5'][:] = cc_1_256_droop_5.iloc[6]\n",
    "df2.loc[('droop',256,8)]['CC_5'][:] = cc_1_256_droop_5.iloc[7]\n",
    "df2.loc[('droop',256,9)]['CC_5'][:] = cc_1_256_droop_5.iloc[8]\n",
    "df2.loc[('droop',256,10)]['CC_5'][:] = cc_1_256_droop_5.iloc[9]"
   ]
  },
  {
   "cell_type": "code",
   "execution_count": 69,
   "id": "17717eb2",
   "metadata": {},
   "outputs": [],
   "source": [
    "df2.loc[('droop',256,1)]['CC_10'][:] = cc_1_256_droop_10.iloc[0]\n",
    "df2.loc[('droop',256,2)]['CC_10'][:] = cc_1_256_droop_10.iloc[1]\n",
    "df2.loc[('droop',256,3)]['CC_10'][:] = cc_1_256_droop_10.iloc[2]\n",
    "df2.loc[('droop',256,4)]['CC_10'][:] = cc_1_256_droop_10.iloc[3]\n",
    "df2.loc[('droop',256,5)]['CC_10'][:] = cc_1_256_droop_10.iloc[4]\n",
    "df2.loc[('droop',256,6)]['CC_10'][:] = cc_1_256_droop_10.iloc[5]\n",
    "df2.loc[('droop',256,7)]['CC_10'][:] = cc_1_256_droop_10.iloc[6]\n",
    "df2.loc[('droop',256,8)]['CC_10'][:] = cc_1_256_droop_10.iloc[7]\n",
    "df2.loc[('droop',256,9)]['CC_10'][:] = cc_1_256_droop_10.iloc[8]\n",
    "df2.loc[('droop',256,10)]['CC_10'][:] = cc_1_256_droop_10.iloc[9]"
   ]
  },
  {
   "cell_type": "code",
   "execution_count": 70,
   "id": "c7665e2c",
   "metadata": {},
   "outputs": [],
   "source": [
    "df2.loc[('droop',256,1)]['CC_20'][:] = cc_1_256_droop_20.iloc[0]\n",
    "df2.loc[('droop',256,2)]['CC_20'][:] = cc_1_256_droop_20.iloc[1]\n",
    "df2.loc[('droop',256,3)]['CC_20'][:] = cc_1_256_droop_20.iloc[2]\n",
    "df2.loc[('droop',256,4)]['CC_20'][:] = cc_1_256_droop_20.iloc[3]\n",
    "df2.loc[('droop',256,5)]['CC_20'][:] = cc_1_256_droop_20.iloc[4]\n",
    "df2.loc[('droop',256,6)]['CC_20'][:] = cc_1_256_droop_20.iloc[5]\n",
    "df2.loc[('droop',256,7)]['CC_20'][:] = cc_1_256_droop_20.iloc[6]\n",
    "df2.loc[('droop',256,8)]['CC_20'][:] = cc_1_256_droop_20.iloc[7]\n",
    "df2.loc[('droop',256,9)]['CC_20'][:] = cc_1_256_droop_20.iloc[8]\n",
    "df2.loc[('droop',256,10)]['CC_20'][:] = cc_1_256_droop_20.iloc[9]"
   ]
  },
  {
   "cell_type": "code",
   "execution_count": 71,
   "id": "c6fc20c1",
   "metadata": {},
   "outputs": [],
   "source": [
    "df2.loc[('droop',256,1)]['CC_50'][:] = cc_1_256_droop_50.iloc[0]\n",
    "df2.loc[('droop',256,2)]['CC_50'][:] = cc_1_256_droop_50.iloc[1]\n",
    "df2.loc[('droop',256,3)]['CC_50'][:] = cc_1_256_droop_50.iloc[2]\n",
    "df2.loc[('droop',256,4)]['CC_50'][:] = cc_1_256_droop_50.iloc[3]\n",
    "df2.loc[('droop',256,5)]['CC_50'][:] = cc_1_256_droop_50.iloc[4]\n",
    "df2.loc[('droop',256,6)]['CC_50'][:] = cc_1_256_droop_50.iloc[5]\n",
    "df2.loc[('droop',256,7)]['CC_50'][:] = cc_1_256_droop_50.iloc[6]\n",
    "df2.loc[('droop',256,8)]['CC_50'][:] = cc_1_256_droop_50.iloc[7]\n",
    "df2.loc[('droop',256,9)]['CC_50'][:] = cc_1_256_droop_50.iloc[8]\n",
    "df2.loc[('droop',256,10)]['CC_50'][:] = cc_1_256_droop_50.iloc[9]"
   ]
  },
  {
   "cell_type": "markdown",
   "id": "113176d8",
   "metadata": {},
   "source": [
    "Equal model.\n",
    "\n",
    "res 1/2"
   ]
  },
  {
   "cell_type": "code",
   "execution_count": 72,
   "id": "b6d9eb91",
   "metadata": {},
   "outputs": [],
   "source": [
    "df2.loc[('equal',2,1)]['CC_5'][:] = cc_1_2_equal_5.iloc[0]\n",
    "df2.loc[('equal',2,2)]['CC_5'][:] = cc_1_2_equal_5.iloc[1]\n",
    "df2.loc[('equal',2,3)]['CC_5'][:] = cc_1_2_equal_5.iloc[2]\n",
    "df2.loc[('equal',2,4)]['CC_5'][:] = cc_1_2_equal_5.iloc[3]\n",
    "df2.loc[('equal',2,5)]['CC_5'][:] = cc_1_2_equal_5.iloc[4]\n",
    "df2.loc[('equal',2,6)]['CC_5'][:] = cc_1_2_equal_5.iloc[5]\n",
    "df2.loc[('equal',2,7)]['CC_5'][:] = cc_1_2_equal_5.iloc[6]\n",
    "df2.loc[('equal',2,8)]['CC_5'][:] = cc_1_2_equal_5.iloc[7]\n",
    "df2.loc[('equal',2,9)]['CC_5'][:] = cc_1_2_equal_5.iloc[8]\n",
    "df2.loc[('equal',2,10)]['CC_5'][:] = cc_1_2_equal_5.iloc[9]"
   ]
  },
  {
   "cell_type": "code",
   "execution_count": 73,
   "id": "084ffaf4",
   "metadata": {},
   "outputs": [],
   "source": [
    "df2.loc[('equal',2,1)]['CC_10'][:] = cc_1_2_equal_10.iloc[0]\n",
    "df2.loc[('equal',2,2)]['CC_10'][:] = cc_1_2_equal_10.iloc[1]\n",
    "df2.loc[('equal',2,3)]['CC_10'][:] = cc_1_2_equal_10.iloc[2]\n",
    "df2.loc[('equal',2,4)]['CC_10'][:] = cc_1_2_equal_10.iloc[3]\n",
    "df2.loc[('equal',2,5)]['CC_10'][:] = cc_1_2_equal_10.iloc[4]\n",
    "df2.loc[('equal',2,6)]['CC_10'][:] = cc_1_2_equal_10.iloc[5]\n",
    "df2.loc[('equal',2,7)]['CC_10'][:] = cc_1_2_equal_10.iloc[6]\n",
    "df2.loc[('equal',2,8)]['CC_10'][:] = cc_1_2_equal_10.iloc[7]\n",
    "df2.loc[('equal',2,9)]['CC_10'][:] = cc_1_2_equal_10.iloc[8]\n",
    "df2.loc[('equal',2,10)]['CC_10'][:] = cc_1_2_equal_10.iloc[9]"
   ]
  },
  {
   "cell_type": "code",
   "execution_count": 74,
   "id": "a927739c",
   "metadata": {},
   "outputs": [],
   "source": [
    "df2.loc[('equal',2,1)]['CC_20'][:] = cc_1_2_equal_20.iloc[0]\n",
    "df2.loc[('equal',2,2)]['CC_20'][:] = cc_1_2_equal_20.iloc[1]\n",
    "df2.loc[('equal',2,3)]['CC_20'][:] = cc_1_2_equal_20.iloc[2]\n",
    "df2.loc[('equal',2,4)]['CC_20'][:] = cc_1_2_equal_20.iloc[3]\n",
    "df2.loc[('equal',2,5)]['CC_20'][:] = cc_1_2_equal_20.iloc[4]\n",
    "df2.loc[('equal',2,6)]['CC_20'][:] = cc_1_2_equal_20.iloc[5]\n",
    "df2.loc[('equal',2,7)]['CC_20'][:] = cc_1_2_equal_20.iloc[6]\n",
    "df2.loc[('equal',2,8)]['CC_20'][:] = cc_1_2_equal_20.iloc[7]\n",
    "df2.loc[('equal',2,9)]['CC_20'][:] = cc_1_2_equal_20.iloc[8]\n",
    "df2.loc[('equal',2,10)]['CC_20'][:] = cc_1_2_equal_20.iloc[9]"
   ]
  },
  {
   "cell_type": "code",
   "execution_count": 75,
   "id": "79a8badf",
   "metadata": {},
   "outputs": [],
   "source": [
    "df2.loc[('equal',2,1)]['CC_50'][:] = cc_1_2_equal_50.iloc[0]\n",
    "df2.loc[('equal',2,2)]['CC_50'][:] = cc_1_2_equal_50.iloc[1]\n",
    "df2.loc[('equal',2,3)]['CC_50'][:] = cc_1_2_equal_50.iloc[2]\n",
    "df2.loc[('equal',2,4)]['CC_50'][:] = cc_1_2_equal_50.iloc[3]\n",
    "df2.loc[('equal',2,5)]['CC_50'][:] = cc_1_2_equal_50.iloc[4]\n",
    "df2.loc[('equal',2,6)]['CC_50'][:] = cc_1_2_equal_50.iloc[5]\n",
    "df2.loc[('equal',2,7)]['CC_50'][:] = cc_1_2_equal_50.iloc[6]\n",
    "df2.loc[('equal',2,8)]['CC_50'][:] = cc_1_2_equal_50.iloc[7]\n",
    "df2.loc[('equal',2,9)]['CC_50'][:] = cc_1_2_equal_50.iloc[8]\n",
    "df2.loc[('equal',2,10)]['CC_50'][:] = cc_1_2_equal_50.iloc[9]"
   ]
  },
  {
   "cell_type": "markdown",
   "id": "e765c348",
   "metadata": {},
   "source": [
    "res 1/4"
   ]
  },
  {
   "cell_type": "code",
   "execution_count": 76,
   "id": "d159adc2",
   "metadata": {},
   "outputs": [],
   "source": [
    "df2.loc[('equal',4,1)]['CC_5'][:] = cc_1_4_equal_5.iloc[0]\n",
    "df2.loc[('equal',4,2)]['CC_5'][:] = cc_1_4_equal_5.iloc[1]\n",
    "df2.loc[('equal',4,3)]['CC_5'][:] = cc_1_4_equal_5.iloc[2]\n",
    "df2.loc[('equal',4,4)]['CC_5'][:] = cc_1_4_equal_5.iloc[3]\n",
    "df2.loc[('equal',4,5)]['CC_5'][:] = cc_1_4_equal_5.iloc[4]\n",
    "df2.loc[('equal',4,6)]['CC_5'][:] = cc_1_4_equal_5.iloc[5]\n",
    "df2.loc[('equal',4,7)]['CC_5'][:] = cc_1_4_equal_5.iloc[6]\n",
    "df2.loc[('equal',4,8)]['CC_5'][:] = cc_1_4_equal_5.iloc[7]\n",
    "df2.loc[('equal',4,9)]['CC_5'][:] = cc_1_4_equal_5.iloc[8]\n",
    "df2.loc[('equal',4,10)]['CC_5'][:] = cc_1_4_equal_5.iloc[9]"
   ]
  },
  {
   "cell_type": "code",
   "execution_count": 77,
   "id": "61657d2e",
   "metadata": {},
   "outputs": [],
   "source": [
    "df2.loc[('equal',4,1)]['CC_10'][:] = cc_1_4_equal_10.iloc[0]\n",
    "df2.loc[('equal',4,2)]['CC_10'][:] = cc_1_4_equal_10.iloc[1]\n",
    "df2.loc[('equal',4,3)]['CC_10'][:] = cc_1_4_equal_10.iloc[2]\n",
    "df2.loc[('equal',4,4)]['CC_10'][:] = cc_1_4_equal_10.iloc[3]\n",
    "df2.loc[('equal',4,5)]['CC_10'][:] = cc_1_4_equal_10.iloc[4]\n",
    "df2.loc[('equal',4,6)]['CC_10'][:] = cc_1_4_equal_10.iloc[5]\n",
    "df2.loc[('equal',4,7)]['CC_10'][:] = cc_1_4_equal_10.iloc[6]\n",
    "df2.loc[('equal',4,8)]['CC_10'][:] = cc_1_4_equal_10.iloc[7]\n",
    "df2.loc[('equal',4,9)]['CC_10'][:] = cc_1_4_equal_10.iloc[8]\n",
    "df2.loc[('equal',4,10)]['CC_10'][:] = cc_1_4_equal_10.iloc[9]"
   ]
  },
  {
   "cell_type": "code",
   "execution_count": 78,
   "id": "7f79b5af",
   "metadata": {},
   "outputs": [],
   "source": [
    "df2.loc[('equal',4,1)]['CC_20'][:] = cc_1_4_equal_20.iloc[0]\n",
    "df2.loc[('equal',4,2)]['CC_20'][:] = cc_1_4_equal_20.iloc[1]\n",
    "df2.loc[('equal',4,3)]['CC_20'][:] = cc_1_4_equal_20.iloc[2]\n",
    "df2.loc[('equal',4,4)]['CC_20'][:] = cc_1_4_equal_20.iloc[3]\n",
    "df2.loc[('equal',4,5)]['CC_20'][:] = cc_1_4_equal_20.iloc[4]\n",
    "df2.loc[('equal',4,6)]['CC_20'][:] = cc_1_4_equal_20.iloc[5]\n",
    "df2.loc[('equal',4,7)]['CC_20'][:] = cc_1_4_equal_20.iloc[6]\n",
    "df2.loc[('equal',4,8)]['CC_20'][:] = cc_1_4_equal_20.iloc[7]\n",
    "df2.loc[('equal',4,9)]['CC_20'][:] = cc_1_4_equal_20.iloc[8]\n",
    "df2.loc[('equal',4,10)]['CC_20'][:] = cc_1_4_equal_20.iloc[9]"
   ]
  },
  {
   "cell_type": "code",
   "execution_count": 79,
   "id": "2f7f52a8",
   "metadata": {},
   "outputs": [],
   "source": [
    "df2.loc[('equal',4,1)]['CC_50'][:] = cc_1_4_equal_50.iloc[0]\n",
    "df2.loc[('equal',4,2)]['CC_50'][:] = cc_1_4_equal_50.iloc[1]\n",
    "df2.loc[('equal',4,3)]['CC_50'][:] = cc_1_4_equal_50.iloc[2]\n",
    "df2.loc[('equal',4,4)]['CC_50'][:] = cc_1_4_equal_50.iloc[3]\n",
    "df2.loc[('equal',4,5)]['CC_50'][:] = cc_1_4_equal_50.iloc[4]\n",
    "df2.loc[('equal',4,6)]['CC_50'][:] = cc_1_4_equal_50.iloc[5]\n",
    "df2.loc[('equal',4,7)]['CC_50'][:] = cc_1_4_equal_50.iloc[6]\n",
    "df2.loc[('equal',4,8)]['CC_50'][:] = cc_1_4_equal_50.iloc[7]\n",
    "df2.loc[('equal',4,9)]['CC_50'][:] = cc_1_4_equal_50.iloc[8]\n",
    "df2.loc[('equal',4,10)]['CC_50'][:] = cc_1_4_equal_50.iloc[9]"
   ]
  },
  {
   "cell_type": "markdown",
   "id": "64642714",
   "metadata": {},
   "source": [
    "res 1/8"
   ]
  },
  {
   "cell_type": "code",
   "execution_count": 80,
   "id": "ffd7bf47",
   "metadata": {},
   "outputs": [],
   "source": [
    "df2.loc[('equal',8,1)]['CC_5'][:] = cc_1_8_equal_5.iloc[0]\n",
    "df2.loc[('equal',8,2)]['CC_5'][:] = cc_1_8_equal_5.iloc[1]\n",
    "df2.loc[('equal',8,3)]['CC_5'][:] = cc_1_8_equal_5.iloc[2]\n",
    "df2.loc[('equal',8,4)]['CC_5'][:] = cc_1_8_equal_5.iloc[3]\n",
    "df2.loc[('equal',8,5)]['CC_5'][:] = cc_1_8_equal_5.iloc[4]\n",
    "df2.loc[('equal',8,6)]['CC_5'][:] = cc_1_8_equal_5.iloc[5]\n",
    "df2.loc[('equal',8,7)]['CC_5'][:] = cc_1_8_equal_5.iloc[6]\n",
    "df2.loc[('equal',8,8)]['CC_5'][:] = cc_1_8_equal_5.iloc[7]\n",
    "df2.loc[('equal',8,9)]['CC_5'][:] = cc_1_8_equal_5.iloc[8]\n",
    "df2.loc[('equal',8,10)]['CC_5'][:] = cc_1_8_equal_5.iloc[9]"
   ]
  },
  {
   "cell_type": "code",
   "execution_count": 81,
   "id": "65ea2861",
   "metadata": {},
   "outputs": [],
   "source": [
    "df2.loc[('equal',8,1)]['CC_10'][:] = cc_1_8_equal_10.iloc[0]\n",
    "df2.loc[('equal',8,2)]['CC_10'][:] = cc_1_8_equal_10.iloc[1]\n",
    "df2.loc[('equal',8,3)]['CC_10'][:] = cc_1_8_equal_10.iloc[2]\n",
    "df2.loc[('equal',8,4)]['CC_10'][:] = cc_1_8_equal_10.iloc[3]\n",
    "df2.loc[('equal',8,5)]['CC_10'][:] = cc_1_8_equal_10.iloc[4]\n",
    "df2.loc[('equal',8,6)]['CC_10'][:] = cc_1_8_equal_10.iloc[5]\n",
    "df2.loc[('equal',8,7)]['CC_10'][:] = cc_1_8_equal_10.iloc[6]\n",
    "df2.loc[('equal',8,8)]['CC_10'][:] = cc_1_8_equal_10.iloc[7]\n",
    "df2.loc[('equal',8,9)]['CC_10'][:] = cc_1_8_equal_10.iloc[8]\n",
    "df2.loc[('equal',8,10)]['CC_10'][:] = cc_1_8_equal_10.iloc[9]"
   ]
  },
  {
   "cell_type": "code",
   "execution_count": 82,
   "id": "e0f29d94",
   "metadata": {},
   "outputs": [],
   "source": [
    "df2.loc[('equal',8,1)]['CC_20'][:] = cc_1_8_equal_20.iloc[0]\n",
    "df2.loc[('equal',8,2)]['CC_20'][:] = cc_1_8_equal_20.iloc[1]\n",
    "df2.loc[('equal',8,3)]['CC_20'][:] = cc_1_8_equal_20.iloc[2]\n",
    "df2.loc[('equal',8,4)]['CC_20'][:] = cc_1_8_equal_20.iloc[3]\n",
    "df2.loc[('equal',8,5)]['CC_20'][:] = cc_1_8_equal_20.iloc[4]\n",
    "df2.loc[('equal',8,6)]['CC_20'][:] = cc_1_8_equal_20.iloc[5]\n",
    "df2.loc[('equal',8,7)]['CC_20'][:] = cc_1_8_equal_20.iloc[6]\n",
    "df2.loc[('equal',8,8)]['CC_20'][:] = cc_1_8_equal_20.iloc[7]\n",
    "df2.loc[('equal',8,9)]['CC_20'][:] = cc_1_8_equal_20.iloc[8]\n",
    "df2.loc[('equal',8,10)]['CC_20'][:] = cc_1_8_equal_20.iloc[9]"
   ]
  },
  {
   "cell_type": "code",
   "execution_count": 83,
   "id": "7927914c",
   "metadata": {},
   "outputs": [],
   "source": [
    "df2.loc[('equal',8,1)]['CC_50'][:] = cc_1_8_equal_50.iloc[0]\n",
    "df2.loc[('equal',8,2)]['CC_50'][:] = cc_1_8_equal_50.iloc[1]\n",
    "df2.loc[('equal',8,3)]['CC_50'][:] = cc_1_8_equal_50.iloc[2]\n",
    "df2.loc[('equal',8,4)]['CC_50'][:] = cc_1_8_equal_50.iloc[3]\n",
    "df2.loc[('equal',8,5)]['CC_50'][:] = cc_1_8_equal_50.iloc[4]\n",
    "df2.loc[('equal',8,6)]['CC_50'][:] = cc_1_8_equal_50.iloc[5]\n",
    "df2.loc[('equal',8,7)]['CC_50'][:] = cc_1_8_equal_50.iloc[6]\n",
    "df2.loc[('equal',8,8)]['CC_50'][:] = cc_1_8_equal_50.iloc[7]\n",
    "df2.loc[('equal',8,9)]['CC_50'][:] = cc_1_8_equal_50.iloc[8]\n",
    "df2.loc[('equal',8,10)]['CC_50'][:] = cc_1_8_equal_50.iloc[9]"
   ]
  },
  {
   "cell_type": "markdown",
   "id": "fda6f063",
   "metadata": {},
   "source": [
    "res 1/16"
   ]
  },
  {
   "cell_type": "code",
   "execution_count": 84,
   "id": "f1a9d236",
   "metadata": {},
   "outputs": [],
   "source": [
    "df2.loc[('equal',16,1)]['CC_5'][:] = cc_1_16_equal_5.iloc[0]\n",
    "df2.loc[('equal',16,2)]['CC_5'][:] = cc_1_16_equal_5.iloc[1]\n",
    "df2.loc[('equal',16,3)]['CC_5'][:] = cc_1_16_equal_5.iloc[2]\n",
    "df2.loc[('equal',16,4)]['CC_5'][:] = cc_1_16_equal_5.iloc[3]\n",
    "df2.loc[('equal',16,5)]['CC_5'][:] = cc_1_16_equal_5.iloc[4]\n",
    "df2.loc[('equal',16,6)]['CC_5'][:] = cc_1_16_equal_5.iloc[5]\n",
    "df2.loc[('equal',16,7)]['CC_5'][:] = cc_1_16_equal_5.iloc[6]\n",
    "df2.loc[('equal',16,8)]['CC_5'][:] = cc_1_16_equal_5.iloc[7]\n",
    "df2.loc[('equal',16,9)]['CC_5'][:] = cc_1_16_equal_5.iloc[8]\n",
    "df2.loc[('equal',16,10)]['CC_5'][:] = cc_1_16_equal_5.iloc[9]"
   ]
  },
  {
   "cell_type": "code",
   "execution_count": 85,
   "id": "72e3bda9",
   "metadata": {},
   "outputs": [],
   "source": [
    "df2.loc[('equal',16,1)]['CC_10'][:] = cc_1_16_equal_10.iloc[0]\n",
    "df2.loc[('equal',16,2)]['CC_10'][:] = cc_1_16_equal_10.iloc[1]\n",
    "df2.loc[('equal',16,3)]['CC_10'][:] = cc_1_16_equal_10.iloc[2]\n",
    "df2.loc[('equal',16,4)]['CC_10'][:] = cc_1_16_equal_10.iloc[3]\n",
    "df2.loc[('equal',16,5)]['CC_10'][:] = cc_1_16_equal_10.iloc[4]\n",
    "df2.loc[('equal',16,6)]['CC_10'][:] = cc_1_16_equal_10.iloc[5]\n",
    "df2.loc[('equal',16,7)]['CC_10'][:] = cc_1_16_equal_10.iloc[6]\n",
    "df2.loc[('equal',16,8)]['CC_10'][:] = cc_1_16_equal_10.iloc[7]\n",
    "df2.loc[('equal',16,9)]['CC_10'][:] = cc_1_16_equal_10.iloc[8]\n",
    "df2.loc[('equal',16,10)]['CC_10'][:] = cc_1_16_equal_10.iloc[9]"
   ]
  },
  {
   "cell_type": "code",
   "execution_count": 86,
   "id": "9d27934e",
   "metadata": {},
   "outputs": [],
   "source": [
    "df2.loc[('equal',16,1)]['CC_20'][:] = cc_1_16_equal_20.iloc[0]\n",
    "df2.loc[('equal',16,2)]['CC_20'][:] = cc_1_16_equal_20.iloc[1]\n",
    "df2.loc[('equal',16,3)]['CC_20'][:] = cc_1_16_equal_20.iloc[2]\n",
    "df2.loc[('equal',16,4)]['CC_20'][:] = cc_1_16_equal_20.iloc[3]\n",
    "df2.loc[('equal',16,5)]['CC_20'][:] = cc_1_16_equal_20.iloc[4]\n",
    "df2.loc[('equal',16,6)]['CC_20'][:] = cc_1_16_equal_20.iloc[5]\n",
    "df2.loc[('equal',16,7)]['CC_20'][:] = cc_1_16_equal_20.iloc[6]\n",
    "df2.loc[('equal',16,8)]['CC_20'][:] = cc_1_16_equal_20.iloc[7]\n",
    "df2.loc[('equal',16,9)]['CC_20'][:] = cc_1_16_equal_20.iloc[8]\n",
    "df2.loc[('equal',16,10)]['CC_20'][:] = cc_1_16_equal_20.iloc[9]"
   ]
  },
  {
   "cell_type": "code",
   "execution_count": 87,
   "id": "ea8ad803",
   "metadata": {},
   "outputs": [],
   "source": [
    "df2.loc[('equal',16,1)]['CC_50'][:] = cc_1_16_equal_50.iloc[0]\n",
    "df2.loc[('equal',16,2)]['CC_50'][:] = cc_1_16_equal_50.iloc[1]\n",
    "df2.loc[('equal',16,3)]['CC_50'][:] = cc_1_16_equal_50.iloc[2]\n",
    "df2.loc[('equal',16,4)]['CC_50'][:] = cc_1_16_equal_50.iloc[3]\n",
    "df2.loc[('equal',16,5)]['CC_50'][:] = cc_1_16_equal_50.iloc[4]\n",
    "df2.loc[('equal',16,6)]['CC_50'][:] = cc_1_16_equal_50.iloc[5]\n",
    "df2.loc[('equal',16,7)]['CC_50'][:] = cc_1_16_equal_50.iloc[6]\n",
    "df2.loc[('equal',16,8)]['CC_50'][:] = cc_1_16_equal_50.iloc[7]\n",
    "df2.loc[('equal',16,9)]['CC_50'][:] = cc_1_16_equal_50.iloc[8]\n",
    "df2.loc[('equal',16,10)]['CC_50'][:] = cc_1_16_equal_50.iloc[9]"
   ]
  },
  {
   "cell_type": "markdown",
   "id": "a41d352c",
   "metadata": {},
   "source": [
    "res 1/32"
   ]
  },
  {
   "cell_type": "code",
   "execution_count": 88,
   "id": "57005fc7",
   "metadata": {},
   "outputs": [],
   "source": [
    "df2.loc[('equal',32,1)]['CC_5'][:] = cc_1_32_equal_5.iloc[0]\n",
    "df2.loc[('equal',32,2)]['CC_5'][:] = cc_1_32_equal_5.iloc[1]\n",
    "df2.loc[('equal',32,3)]['CC_5'][:] = cc_1_32_equal_5.iloc[2]\n",
    "df2.loc[('equal',32,4)]['CC_5'][:] = cc_1_32_equal_5.iloc[3]\n",
    "df2.loc[('equal',32,5)]['CC_5'][:] = cc_1_32_equal_5.iloc[4]\n",
    "df2.loc[('equal',32,6)]['CC_5'][:] = cc_1_32_equal_5.iloc[5]\n",
    "df2.loc[('equal',32,7)]['CC_5'][:] = cc_1_32_equal_5.iloc[6]\n",
    "df2.loc[('equal',32,8)]['CC_5'][:] = cc_1_32_equal_5.iloc[7]\n",
    "df2.loc[('equal',32,9)]['CC_5'][:] = cc_1_32_equal_5.iloc[8]\n",
    "df2.loc[('equal',32,10)]['CC_5'][:] = cc_1_32_equal_5.iloc[9]"
   ]
  },
  {
   "cell_type": "code",
   "execution_count": 89,
   "id": "f4a5e099",
   "metadata": {},
   "outputs": [],
   "source": [
    "df2.loc[('equal',32,1)]['CC_10'][:] = cc_1_32_equal_10.iloc[0]\n",
    "df2.loc[('equal',32,2)]['CC_10'][:] = cc_1_32_equal_10.iloc[1]\n",
    "df2.loc[('equal',32,3)]['CC_10'][:] = cc_1_32_equal_10.iloc[2]\n",
    "df2.loc[('equal',32,4)]['CC_10'][:] = cc_1_32_equal_10.iloc[3]\n",
    "df2.loc[('equal',32,5)]['CC_10'][:] = cc_1_32_equal_10.iloc[4]\n",
    "df2.loc[('equal',32,6)]['CC_10'][:] = cc_1_32_equal_10.iloc[5]\n",
    "df2.loc[('equal',32,7)]['CC_10'][:] = cc_1_32_equal_10.iloc[6]\n",
    "df2.loc[('equal',32,8)]['CC_10'][:] = cc_1_32_equal_10.iloc[7]\n",
    "df2.loc[('equal',32,9)]['CC_10'][:] = cc_1_32_equal_10.iloc[8]\n",
    "df2.loc[('equal',32,10)]['CC_10'][:] = cc_1_32_equal_10.iloc[9]"
   ]
  },
  {
   "cell_type": "code",
   "execution_count": 90,
   "id": "2c94618d",
   "metadata": {},
   "outputs": [],
   "source": [
    "df2.loc[('equal',32,1)]['CC_20'][:] = cc_1_32_equal_20.iloc[0]\n",
    "df2.loc[('equal',32,2)]['CC_20'][:] = cc_1_32_equal_20.iloc[1]\n",
    "df2.loc[('equal',32,3)]['CC_20'][:] = cc_1_32_equal_20.iloc[2]\n",
    "df2.loc[('equal',32,4)]['CC_20'][:] = cc_1_32_equal_20.iloc[3]\n",
    "df2.loc[('equal',32,5)]['CC_20'][:] = cc_1_32_equal_20.iloc[4]\n",
    "df2.loc[('equal',32,6)]['CC_20'][:] = cc_1_32_equal_20.iloc[5]\n",
    "df2.loc[('equal',32,7)]['CC_20'][:] = cc_1_32_equal_20.iloc[6]\n",
    "df2.loc[('equal',32,8)]['CC_20'][:] = cc_1_32_equal_20.iloc[7]\n",
    "df2.loc[('equal',32,9)]['CC_20'][:] = cc_1_32_equal_20.iloc[8]\n",
    "df2.loc[('equal',32,10)]['CC_20'][:] = cc_1_32_equal_20.iloc[9]"
   ]
  },
  {
   "cell_type": "code",
   "execution_count": 91,
   "id": "b0b4bfa2",
   "metadata": {},
   "outputs": [],
   "source": [
    "df2.loc[('equal',32,1)]['CC_50'][:] = cc_1_32_equal_50.iloc[0]\n",
    "df2.loc[('equal',32,2)]['CC_50'][:] = cc_1_32_equal_50.iloc[1]\n",
    "df2.loc[('equal',32,3)]['CC_50'][:] = cc_1_32_equal_50.iloc[2]\n",
    "df2.loc[('equal',32,4)]['CC_50'][:] = cc_1_32_equal_50.iloc[3]\n",
    "df2.loc[('equal',32,5)]['CC_50'][:] = cc_1_32_equal_50.iloc[4]\n",
    "df2.loc[('equal',32,6)]['CC_50'][:] = cc_1_32_equal_50.iloc[5]\n",
    "df2.loc[('equal',32,7)]['CC_50'][:] = cc_1_32_equal_50.iloc[6]\n",
    "df2.loc[('equal',32,8)]['CC_50'][:] = cc_1_32_equal_50.iloc[7]\n",
    "df2.loc[('equal',32,9)]['CC_50'][:] = cc_1_32_equal_50.iloc[8]\n",
    "df2.loc[('equal',32,10)]['CC_50'][:] = cc_1_32_equal_50.iloc[9]"
   ]
  },
  {
   "cell_type": "markdown",
   "id": "1f395f00",
   "metadata": {},
   "source": [
    "res 1/64"
   ]
  },
  {
   "cell_type": "code",
   "execution_count": 92,
   "id": "4cf5d83b",
   "metadata": {},
   "outputs": [],
   "source": [
    "df2.loc[('equal',64,1)]['CC_5'][:] = cc_1_64_equal_5.iloc[0]\n",
    "df2.loc[('equal',64,2)]['CC_5'][:] = cc_1_64_equal_5.iloc[1]\n",
    "df2.loc[('equal',64,3)]['CC_5'][:] = cc_1_64_equal_5.iloc[2]\n",
    "df2.loc[('equal',64,4)]['CC_5'][:] = cc_1_64_equal_5.iloc[3]\n",
    "df2.loc[('equal',64,5)]['CC_5'][:] = cc_1_64_equal_5.iloc[4]\n",
    "df2.loc[('equal',64,6)]['CC_5'][:] = cc_1_64_equal_5.iloc[5]\n",
    "df2.loc[('equal',64,7)]['CC_5'][:] = cc_1_64_equal_5.iloc[6]\n",
    "df2.loc[('equal',64,8)]['CC_5'][:] = cc_1_64_equal_5.iloc[7]\n",
    "df2.loc[('equal',64,9)]['CC_5'][:] = cc_1_64_equal_5.iloc[8]\n",
    "df2.loc[('equal',64,10)]['CC_5'][:] = cc_1_64_equal_5.iloc[9]"
   ]
  },
  {
   "cell_type": "code",
   "execution_count": 93,
   "id": "46c596ef",
   "metadata": {},
   "outputs": [],
   "source": [
    "df2.loc[('equal',64,1)]['CC_10'][:] = cc_1_64_equal_10.iloc[0]\n",
    "df2.loc[('equal',64,2)]['CC_10'][:] = cc_1_64_equal_10.iloc[1]\n",
    "df2.loc[('equal',64,3)]['CC_10'][:] = cc_1_64_equal_10.iloc[2]\n",
    "df2.loc[('equal',64,4)]['CC_10'][:] = cc_1_64_equal_10.iloc[3]\n",
    "df2.loc[('equal',64,5)]['CC_10'][:] = cc_1_64_equal_10.iloc[4]\n",
    "df2.loc[('equal',64,6)]['CC_10'][:] = cc_1_64_equal_10.iloc[5]\n",
    "df2.loc[('equal',64,7)]['CC_10'][:] = cc_1_64_equal_10.iloc[6]\n",
    "df2.loc[('equal',64,8)]['CC_10'][:] = cc_1_64_equal_10.iloc[7]\n",
    "df2.loc[('equal',64,9)]['CC_10'][:] = cc_1_64_equal_10.iloc[8]\n",
    "df2.loc[('equal',64,10)]['CC_10'][:] = cc_1_64_equal_10.iloc[9]"
   ]
  },
  {
   "cell_type": "code",
   "execution_count": 94,
   "id": "26a3980d",
   "metadata": {},
   "outputs": [],
   "source": [
    "df2.loc[('equal',64,1)]['CC_20'][:] = cc_1_64_equal_20.iloc[0]\n",
    "df2.loc[('equal',64,2)]['CC_20'][:] = cc_1_64_equal_20.iloc[1]\n",
    "df2.loc[('equal',64,3)]['CC_20'][:] = cc_1_64_equal_20.iloc[2]\n",
    "df2.loc[('equal',64,4)]['CC_20'][:] = cc_1_64_equal_20.iloc[3]\n",
    "df2.loc[('equal',64,5)]['CC_20'][:] = cc_1_64_equal_20.iloc[4]\n",
    "df2.loc[('equal',64,6)]['CC_20'][:] = cc_1_64_equal_20.iloc[5]\n",
    "df2.loc[('equal',64,7)]['CC_20'][:] = cc_1_64_equal_20.iloc[6]\n",
    "df2.loc[('equal',64,8)]['CC_20'][:] = cc_1_64_equal_20.iloc[7]\n",
    "df2.loc[('equal',64,9)]['CC_20'][:] = cc_1_64_equal_20.iloc[8]\n",
    "df2.loc[('equal',64,10)]['CC_20'][:] = cc_1_64_equal_20.iloc[9]"
   ]
  },
  {
   "cell_type": "code",
   "execution_count": 95,
   "id": "c45c9b57",
   "metadata": {},
   "outputs": [],
   "source": [
    "df2.loc[('equal',64,1)]['CC_50'][:] = cc_1_64_equal_50.iloc[0]\n",
    "df2.loc[('equal',64,2)]['CC_50'][:] = cc_1_64_equal_50.iloc[1]\n",
    "df2.loc[('equal',64,3)]['CC_50'][:] = cc_1_64_equal_50.iloc[2]\n",
    "df2.loc[('equal',64,4)]['CC_50'][:] = cc_1_64_equal_50.iloc[3]\n",
    "df2.loc[('equal',64,5)]['CC_50'][:] = cc_1_64_equal_50.iloc[4]\n",
    "df2.loc[('equal',64,6)]['CC_50'][:] = cc_1_64_equal_50.iloc[5]\n",
    "df2.loc[('equal',64,7)]['CC_50'][:] = cc_1_64_equal_50.iloc[6]\n",
    "df2.loc[('equal',64,8)]['CC_50'][:] = cc_1_64_equal_50.iloc[7]\n",
    "df2.loc[('equal',64,9)]['CC_50'][:] = cc_1_64_equal_50.iloc[8]\n",
    "df2.loc[('equal',64,10)]['CC_50'][:] = cc_1_64_equal_50.iloc[9]"
   ]
  },
  {
   "cell_type": "markdown",
   "id": "e9793259",
   "metadata": {},
   "source": [
    "res 1/128"
   ]
  },
  {
   "cell_type": "code",
   "execution_count": 96,
   "id": "a3e932bd",
   "metadata": {},
   "outputs": [],
   "source": [
    "df2.loc[('equal',128,1)]['CC_5'][:] = cc_1_128_equal_5.iloc[0]\n",
    "df2.loc[('equal',128,2)]['CC_5'][:] = cc_1_128_equal_5.iloc[1]\n",
    "df2.loc[('equal',128,3)]['CC_5'][:] = cc_1_128_equal_5.iloc[2]\n",
    "df2.loc[('equal',128,4)]['CC_5'][:] = cc_1_128_equal_5.iloc[3]\n",
    "df2.loc[('equal',128,5)]['CC_5'][:] = cc_1_128_equal_5.iloc[4]\n",
    "df2.loc[('equal',128,6)]['CC_5'][:] = cc_1_128_equal_5.iloc[5]\n",
    "df2.loc[('equal',128,7)]['CC_5'][:] = cc_1_128_equal_5.iloc[6]\n",
    "df2.loc[('equal',128,8)]['CC_5'][:] = cc_1_128_equal_5.iloc[7]\n",
    "df2.loc[('equal',128,9)]['CC_5'][:] = cc_1_128_equal_5.iloc[8]\n",
    "df2.loc[('equal',128,10)]['CC_5'][:] = cc_1_128_equal_5.iloc[9]"
   ]
  },
  {
   "cell_type": "code",
   "execution_count": 97,
   "id": "4a4537e8",
   "metadata": {},
   "outputs": [],
   "source": [
    "df2.loc[('equal',128,1)]['CC_10'][:] = cc_1_128_equal_10.iloc[0]\n",
    "df2.loc[('equal',128,2)]['CC_10'][:] = cc_1_128_equal_10.iloc[1]\n",
    "df2.loc[('equal',128,3)]['CC_10'][:] = cc_1_128_equal_10.iloc[2]\n",
    "df2.loc[('equal',128,4)]['CC_10'][:] = cc_1_128_equal_10.iloc[3]\n",
    "df2.loc[('equal',128,5)]['CC_10'][:] = cc_1_128_equal_10.iloc[4]\n",
    "df2.loc[('equal',128,6)]['CC_10'][:] = cc_1_128_equal_10.iloc[5]\n",
    "df2.loc[('equal',128,7)]['CC_10'][:] = cc_1_128_equal_10.iloc[6]\n",
    "df2.loc[('equal',128,8)]['CC_10'][:] = cc_1_128_equal_10.iloc[7]\n",
    "df2.loc[('equal',128,9)]['CC_10'][:] = cc_1_128_equal_10.iloc[8]\n",
    "df2.loc[('equal',128,10)]['CC_10'][:] = cc_1_128_equal_10.iloc[9]"
   ]
  },
  {
   "cell_type": "code",
   "execution_count": 98,
   "id": "a4d4aa71",
   "metadata": {},
   "outputs": [],
   "source": [
    "df2.loc[('equal',128,1)]['CC_20'][:] = cc_1_128_equal_20.iloc[0]\n",
    "df2.loc[('equal',128,2)]['CC_20'][:] = cc_1_128_equal_20.iloc[1]\n",
    "df2.loc[('equal',128,3)]['CC_20'][:] = cc_1_128_equal_20.iloc[2]\n",
    "df2.loc[('equal',128,4)]['CC_20'][:] = cc_1_128_equal_20.iloc[3]\n",
    "df2.loc[('equal',128,5)]['CC_20'][:] = cc_1_128_equal_20.iloc[4]\n",
    "df2.loc[('equal',128,6)]['CC_20'][:] = cc_1_128_equal_20.iloc[5]\n",
    "df2.loc[('equal',128,7)]['CC_20'][:] = cc_1_128_equal_20.iloc[6]\n",
    "df2.loc[('equal',128,8)]['CC_20'][:] = cc_1_128_equal_20.iloc[7]\n",
    "df2.loc[('equal',128,9)]['CC_20'][:] = cc_1_128_equal_20.iloc[8]\n",
    "df2.loc[('equal',128,10)]['CC_20'][:] = cc_1_128_equal_20.iloc[9]"
   ]
  },
  {
   "cell_type": "code",
   "execution_count": 99,
   "id": "aac410f9",
   "metadata": {},
   "outputs": [],
   "source": [
    "df2.loc[('equal',128,1)]['CC_50'][:] = cc_1_128_equal_50.iloc[0]\n",
    "df2.loc[('equal',128,2)]['CC_50'][:] = cc_1_128_equal_50.iloc[1]\n",
    "df2.loc[('equal',128,3)]['CC_50'][:] = cc_1_128_equal_50.iloc[2]\n",
    "df2.loc[('equal',128,4)]['CC_50'][:] = cc_1_128_equal_50.iloc[3]\n",
    "df2.loc[('equal',128,5)]['CC_50'][:] = cc_1_128_equal_50.iloc[4]\n",
    "df2.loc[('equal',128,6)]['CC_50'][:] = cc_1_128_equal_50.iloc[5]\n",
    "df2.loc[('equal',128,7)]['CC_50'][:] = cc_1_128_equal_50.iloc[6]\n",
    "df2.loc[('equal',128,8)]['CC_50'][:] = cc_1_128_equal_50.iloc[7]\n",
    "df2.loc[('equal',128,9)]['CC_50'][:] = cc_1_128_equal_50.iloc[8]\n",
    "df2.loc[('equal',128,10)]['CC_50'][:] = cc_1_128_equal_50.iloc[9]"
   ]
  },
  {
   "cell_type": "markdown",
   "id": "5d7ff731",
   "metadata": {},
   "source": [
    "res 1/256"
   ]
  },
  {
   "cell_type": "code",
   "execution_count": 100,
   "id": "ddad8f6b",
   "metadata": {},
   "outputs": [],
   "source": [
    "df2.loc[('equal',256,1)]['CC_5'][:] = cc_1_256_equal_5.iloc[0]\n",
    "df2.loc[('equal',256,2)]['CC_5'][:] = cc_1_256_equal_5.iloc[1]\n",
    "df2.loc[('equal',256,3)]['CC_5'][:] = cc_1_256_equal_5.iloc[2]\n",
    "df2.loc[('equal',256,4)]['CC_5'][:] = cc_1_256_equal_5.iloc[3]\n",
    "df2.loc[('equal',256,5)]['CC_5'][:] = cc_1_256_equal_5.iloc[4]\n",
    "df2.loc[('equal',256,6)]['CC_5'][:] = cc_1_256_equal_5.iloc[5]\n",
    "df2.loc[('equal',256,7)]['CC_5'][:] = cc_1_256_equal_5.iloc[6]\n",
    "df2.loc[('equal',256,8)]['CC_5'][:] = cc_1_256_equal_5.iloc[7]\n",
    "df2.loc[('equal',256,9)]['CC_5'][:] = cc_1_256_equal_5.iloc[8]\n",
    "df2.loc[('equal',256,10)]['CC_5'][:] = cc_1_256_equal_5.iloc[9]"
   ]
  },
  {
   "cell_type": "code",
   "execution_count": 101,
   "id": "a21249f3",
   "metadata": {},
   "outputs": [],
   "source": [
    "df2.loc[('equal',256,1)]['CC_10'][:] = cc_1_256_equal_10.iloc[0]\n",
    "df2.loc[('equal',256,2)]['CC_10'][:] = cc_1_256_equal_10.iloc[1]\n",
    "df2.loc[('equal',256,3)]['CC_10'][:] = cc_1_256_equal_10.iloc[2]\n",
    "df2.loc[('equal',256,4)]['CC_10'][:] = cc_1_256_equal_10.iloc[3]\n",
    "df2.loc[('equal',256,5)]['CC_10'][:] = cc_1_256_equal_10.iloc[4]\n",
    "df2.loc[('equal',256,6)]['CC_10'][:] = cc_1_256_equal_10.iloc[5]\n",
    "df2.loc[('equal',256,7)]['CC_10'][:] = cc_1_256_equal_10.iloc[6]\n",
    "df2.loc[('equal',256,8)]['CC_10'][:] = cc_1_256_equal_10.iloc[7]\n",
    "df2.loc[('equal',256,9)]['CC_10'][:] = cc_1_256_equal_10.iloc[8]\n",
    "df2.loc[('equal',256,10)]['CC_10'][:] = cc_1_256_equal_10.iloc[9]"
   ]
  },
  {
   "cell_type": "code",
   "execution_count": 102,
   "id": "3fbeee57",
   "metadata": {},
   "outputs": [],
   "source": [
    "df2.loc[('equal',256,1)]['CC_20'][:] = cc_1_256_equal_20.iloc[0]\n",
    "df2.loc[('equal',256,2)]['CC_20'][:] = cc_1_256_equal_20.iloc[1]\n",
    "df2.loc[('equal',256,3)]['CC_20'][:] = cc_1_256_equal_20.iloc[2]\n",
    "df2.loc[('equal',256,4)]['CC_20'][:] = cc_1_256_equal_20.iloc[3]\n",
    "df2.loc[('equal',256,5)]['CC_20'][:] = cc_1_256_equal_20.iloc[4]\n",
    "df2.loc[('equal',256,6)]['CC_20'][:] = cc_1_256_equal_20.iloc[5]\n",
    "df2.loc[('equal',256,7)]['CC_20'][:] = cc_1_256_equal_20.iloc[6]\n",
    "df2.loc[('equal',256,8)]['CC_20'][:] = cc_1_256_equal_20.iloc[7]\n",
    "df2.loc[('equal',256,9)]['CC_20'][:] = cc_1_256_equal_20.iloc[8]\n",
    "df2.loc[('equal',256,10)]['CC_20'][:] = cc_1_256_equal_20.iloc[9]"
   ]
  },
  {
   "cell_type": "code",
   "execution_count": 103,
   "id": "1d9f7d4b",
   "metadata": {},
   "outputs": [],
   "source": [
    "df2.loc[('equal',256,1)]['CC_50'][:] = cc_1_256_equal_50.iloc[0]\n",
    "df2.loc[('equal',256,2)]['CC_50'][:] = cc_1_256_equal_50.iloc[1]\n",
    "df2.loc[('equal',256,3)]['CC_50'][:] = cc_1_256_equal_50.iloc[2]\n",
    "df2.loc[('equal',256,4)]['CC_50'][:] = cc_1_256_equal_50.iloc[3]\n",
    "df2.loc[('equal',256,5)]['CC_50'][:] = cc_1_256_equal_50.iloc[4]\n",
    "df2.loc[('equal',256,6)]['CC_50'][:] = cc_1_256_equal_50.iloc[5]\n",
    "df2.loc[('equal',256,7)]['CC_50'][:] = cc_1_256_equal_50.iloc[6]\n",
    "df2.loc[('equal',256,8)]['CC_50'][:] = cc_1_256_equal_50.iloc[7]\n",
    "df2.loc[('equal',256,9)]['CC_50'][:] = cc_1_256_equal_50.iloc[8]\n",
    "df2.loc[('equal',256,10)]['CC_50'][:] = cc_1_256_equal_50.iloc[9]"
   ]
  },
  {
   "cell_type": "markdown",
   "id": "f468a9aa",
   "metadata": {},
   "source": [
    "The continuous model"
   ]
  },
  {
   "cell_type": "code",
   "execution_count": 104,
   "id": "a0790b95",
   "metadata": {},
   "outputs": [],
   "source": [
    "df2.loc[('continuous',8,1)]['CC_5'][:] = cc_cont_5.iloc[0]\n",
    "df2.loc[('continuous',8,2)]['CC_5'][:] = cc_cont_5.iloc[1]\n",
    "df2.loc[('continuous',8,3)]['CC_5'][:] = cc_cont_5.iloc[2]\n",
    "df2.loc[('continuous',8,4)]['CC_5'][:] = cc_cont_5.iloc[3]\n",
    "df2.loc[('continuous',8,5)]['CC_5'][:] = cc_cont_5.iloc[4]\n",
    "df2.loc[('continuous',8,6)]['CC_5'][:] = cc_cont_5.iloc[5]\n",
    "df2.loc[('continuous',8,7)]['CC_5'][:] = cc_cont_5.iloc[6]\n",
    "df2.loc[('continuous',8,8)]['CC_5'][:] = cc_cont_5.iloc[7]\n",
    "df2.loc[('continuous',8,9)]['CC_5'][:] = cc_cont_5.iloc[8]\n",
    "df2.loc[('continuous',8,10)]['CC_5'][:] = cc_cont_5.iloc[9]"
   ]
  },
  {
   "cell_type": "code",
   "execution_count": 105,
   "id": "00bfe646",
   "metadata": {},
   "outputs": [],
   "source": [
    "df2.loc[('continuous',8,1)]['CC_10'][:] = cc_cont_10.iloc[0]\n",
    "df2.loc[('continuous',8,2)]['CC_10'][:] = cc_cont_10.iloc[1]\n",
    "df2.loc[('continuous',8,3)]['CC_10'][:] = cc_cont_10.iloc[2]\n",
    "df2.loc[('continuous',8,4)]['CC_10'][:] = cc_cont_10.iloc[3]\n",
    "df2.loc[('continuous',8,5)]['CC_10'][:] = cc_cont_10.iloc[4]\n",
    "df2.loc[('continuous',8,6)]['CC_10'][:] = cc_cont_10.iloc[5]\n",
    "df2.loc[('continuous',8,7)]['CC_10'][:] = cc_cont_10.iloc[6]\n",
    "df2.loc[('continuous',8,8)]['CC_10'][:] = cc_cont_10.iloc[7]\n",
    "df2.loc[('continuous',8,9)]['CC_10'][:] = cc_cont_10.iloc[8]\n",
    "df2.loc[('continuous',8,10)]['CC_10'][:] = cc_cont_10.iloc[9]"
   ]
  },
  {
   "cell_type": "code",
   "execution_count": 106,
   "id": "b7abcfc3",
   "metadata": {},
   "outputs": [],
   "source": [
    "df2.loc[('continuous',8,1)]['CC_20'][:] = cc_cont_20.iloc[0]\n",
    "df2.loc[('continuous',8,2)]['CC_20'][:] = cc_cont_20.iloc[1]\n",
    "df2.loc[('continuous',8,3)]['CC_20'][:] = cc_cont_20.iloc[2]\n",
    "df2.loc[('continuous',8,4)]['CC_20'][:] = cc_cont_20.iloc[3]\n",
    "df2.loc[('continuous',8,5)]['CC_20'][:] = cc_cont_20.iloc[4]\n",
    "df2.loc[('continuous',8,6)]['CC_20'][:] = cc_cont_20.iloc[5]\n",
    "df2.loc[('continuous',8,7)]['CC_20'][:] = cc_cont_20.iloc[6]\n",
    "df2.loc[('continuous',8,8)]['CC_20'][:] = cc_cont_20.iloc[7]\n",
    "df2.loc[('continuous',8,9)]['CC_20'][:] = cc_cont_20.iloc[8]\n",
    "df2.loc[('continuous',8,10)]['CC_20'][:] = cc_cont_20.iloc[9]"
   ]
  },
  {
   "cell_type": "code",
   "execution_count": 107,
   "id": "2ac99f3c",
   "metadata": {},
   "outputs": [],
   "source": [
    "df2.loc[('continuous',8,1)]['CC_50'][:] = cc_cont_50.iloc[0]\n",
    "df2.loc[('continuous',8,2)]['CC_50'][:] = cc_cont_50.iloc[1]\n",
    "df2.loc[('continuous',8,3)]['CC_50'][:] = cc_cont_50.iloc[2]\n",
    "df2.loc[('continuous',8,4)]['CC_50'][:] = cc_cont_50.iloc[3]\n",
    "df2.loc[('continuous',8,5)]['CC_50'][:] = cc_cont_50.iloc[4]\n",
    "df2.loc[('continuous',8,6)]['CC_50'][:] = cc_cont_50.iloc[5]\n",
    "df2.loc[('continuous',8,7)]['CC_50'][:] = cc_cont_50.iloc[6]\n",
    "df2.loc[('continuous',8,8)]['CC_50'][:] = cc_cont_50.iloc[7]\n",
    "df2.loc[('continuous',8,9)]['CC_50'][:] = cc_cont_50.iloc[8]\n",
    "df2.loc[('continuous',8,10)]['CC_50'][:] = cc_cont_50.iloc[9]"
   ]
  },
  {
   "cell_type": "markdown",
   "id": "63ec867e",
   "metadata": {},
   "source": [
    "The final dataframe is finished:"
   ]
  },
  {
   "cell_type": "code",
   "execution_count": 108,
   "id": "56200073",
   "metadata": {},
   "outputs": [
    {
     "data": {
      "text/html": [
       "<div>\n",
       "<style scoped>\n",
       "    .dataframe tbody tr th:only-of-type {\n",
       "        vertical-align: middle;\n",
       "    }\n",
       "\n",
       "    .dataframe tbody tr th {\n",
       "        vertical-align: top;\n",
       "    }\n",
       "\n",
       "    .dataframe thead th {\n",
       "        text-align: right;\n",
       "    }\n",
       "</style>\n",
       "<table border=\"1\" class=\"dataframe\">\n",
       "  <thead>\n",
       "    <tr style=\"text-align: right;\">\n",
       "      <th></th>\n",
       "      <th></th>\n",
       "      <th></th>\n",
       "      <th>CV</th>\n",
       "      <th>FR</th>\n",
       "      <th>CC_5</th>\n",
       "      <th>CC_10</th>\n",
       "      <th>CC_20</th>\n",
       "      <th>CC_50</th>\n",
       "    </tr>\n",
       "  </thead>\n",
       "  <tbody>\n",
       "    <tr>\n",
       "      <th rowspan=\"5\" valign=\"top\">2</th>\n",
       "      <th rowspan=\"5\" valign=\"top\">1</th>\n",
       "      <th>0</th>\n",
       "      <td>1.737339</td>\n",
       "      <td>0.0173 1/ms</td>\n",
       "      <td>-0.008894</td>\n",
       "      <td>-0.004495</td>\n",
       "      <td>0.004858</td>\n",
       "      <td>0.06301</td>\n",
       "    </tr>\n",
       "    <tr>\n",
       "      <th>1</th>\n",
       "      <td>1.700912</td>\n",
       "      <td>0.013 1/ms</td>\n",
       "      <td>0.047612</td>\n",
       "      <td>0.048156</td>\n",
       "      <td>0.083899</td>\n",
       "      <td>0.179522</td>\n",
       "    </tr>\n",
       "    <tr>\n",
       "      <th>2</th>\n",
       "      <td>1.59442</td>\n",
       "      <td>0.0157 1/ms</td>\n",
       "      <td>-0.008578</td>\n",
       "      <td>-0.008657</td>\n",
       "      <td>-0.017463</td>\n",
       "      <td>-0.084899</td>\n",
       "    </tr>\n",
       "    <tr>\n",
       "      <th>3</th>\n",
       "      <td>1.502267</td>\n",
       "      <td>0.0121 1/ms</td>\n",
       "      <td>-0.034145</td>\n",
       "      <td>-0.050968</td>\n",
       "      <td>-0.095193</td>\n",
       "      <td>-0.183045</td>\n",
       "    </tr>\n",
       "    <tr>\n",
       "      <th>4</th>\n",
       "      <td>1.892434</td>\n",
       "      <td>0.0127 1/ms</td>\n",
       "      <td>0.006296</td>\n",
       "      <td>0.040321</td>\n",
       "      <td>0.026137</td>\n",
       "      <td>-0.042676</td>\n",
       "    </tr>\n",
       "    <tr>\n",
       "      <th>...</th>\n",
       "      <th>...</th>\n",
       "      <th>...</th>\n",
       "      <td>...</td>\n",
       "      <td>...</td>\n",
       "      <td>...</td>\n",
       "      <td>...</td>\n",
       "      <td>...</td>\n",
       "      <td>...</td>\n",
       "    </tr>\n",
       "    <tr>\n",
       "      <th rowspan=\"5\" valign=\"top\">256</th>\n",
       "      <th rowspan=\"5\" valign=\"top\">10</th>\n",
       "      <th>9995</th>\n",
       "      <td>1.985362</td>\n",
       "      <td>0.0171 1/ms</td>\n",
       "      <td>-0.008981</td>\n",
       "      <td>-0.02932</td>\n",
       "      <td>-0.050871</td>\n",
       "      <td>-0.024797</td>\n",
       "    </tr>\n",
       "    <tr>\n",
       "      <th>9996</th>\n",
       "      <td>1.730428</td>\n",
       "      <td>0.0124 1/ms</td>\n",
       "      <td>-0.018421</td>\n",
       "      <td>-0.001378</td>\n",
       "      <td>-0.054221</td>\n",
       "      <td>-0.066203</td>\n",
       "    </tr>\n",
       "    <tr>\n",
       "      <th>9997</th>\n",
       "      <td>1.847602</td>\n",
       "      <td>0.0142 1/ms</td>\n",
       "      <td>0.071042</td>\n",
       "      <td>0.079477</td>\n",
       "      <td>0.090091</td>\n",
       "      <td>0.077619</td>\n",
       "    </tr>\n",
       "    <tr>\n",
       "      <th>9998</th>\n",
       "      <td>1.767269</td>\n",
       "      <td>0.0124 1/ms</td>\n",
       "      <td>-0.012765</td>\n",
       "      <td>-0.044436</td>\n",
       "      <td>-0.05398</td>\n",
       "      <td>-0.026832</td>\n",
       "    </tr>\n",
       "    <tr>\n",
       "      <th>9999</th>\n",
       "      <td>1.894863</td>\n",
       "      <td>0.0156 1/ms</td>\n",
       "      <td>0.034736</td>\n",
       "      <td>0.052812</td>\n",
       "      <td>0.048484</td>\n",
       "      <td>0.114848</td>\n",
       "    </tr>\n",
       "  </tbody>\n",
       "</table>\n",
       "<p>800000 rows × 6 columns</p>\n",
       "</div>"
      ],
      "text/plain": [
       "                   CV           FR      CC_5     CC_10     CC_20     CC_50\n",
       "2   1  0     1.737339  0.0173 1/ms -0.008894 -0.004495  0.004858   0.06301\n",
       "       1     1.700912   0.013 1/ms  0.047612  0.048156  0.083899  0.179522\n",
       "       2      1.59442  0.0157 1/ms -0.008578 -0.008657 -0.017463 -0.084899\n",
       "       3     1.502267  0.0121 1/ms -0.034145 -0.050968 -0.095193 -0.183045\n",
       "       4     1.892434  0.0127 1/ms  0.006296  0.040321  0.026137 -0.042676\n",
       "...               ...          ...       ...       ...       ...       ...\n",
       "256 10 9995  1.985362  0.0171 1/ms -0.008981  -0.02932 -0.050871 -0.024797\n",
       "       9996  1.730428  0.0124 1/ms -0.018421 -0.001378 -0.054221 -0.066203\n",
       "       9997  1.847602  0.0142 1/ms  0.071042  0.079477  0.090091  0.077619\n",
       "       9998  1.767269  0.0124 1/ms -0.012765 -0.044436  -0.05398 -0.026832\n",
       "       9999  1.894863  0.0156 1/ms  0.034736  0.052812  0.048484  0.114848\n",
       "\n",
       "[800000 rows x 6 columns]"
      ]
     },
     "execution_count": 108,
     "metadata": {},
     "output_type": "execute_result"
    }
   ],
   "source": [
    "df2.loc['droop']"
   ]
  },
  {
   "cell_type": "code",
   "execution_count": 109,
   "id": "d066ee42",
   "metadata": {},
   "outputs": [],
   "source": [
    "# save it as pickle object for later use\n",
    "df2.to_pickle('structured_df_large_J.pkl')"
   ]
  },
  {
   "cell_type": "markdown",
   "id": "ed5dfb55",
   "metadata": {},
   "source": [
    "The multiindex dataframe can then easily be read into another file by calling read_pickle('structured_df.pkl')"
   ]
  },
  {
   "cell_type": "code",
   "execution_count": null,
   "id": "0a1e2913",
   "metadata": {},
   "outputs": [],
   "source": []
  }
 ],
 "metadata": {
  "kernelspec": {
   "display_name": "Python 3",
   "language": "python",
   "name": "python3"
  },
  "language_info": {
   "codemirror_mode": {
    "name": "ipython",
    "version": 3
   },
   "file_extension": ".py",
   "mimetype": "text/x-python",
   "name": "python",
   "nbconvert_exporter": "python",
   "pygments_lexer": "ipython3",
   "version": "3.8.8"
  }
 },
 "nbformat": 4,
 "nbformat_minor": 5
}
